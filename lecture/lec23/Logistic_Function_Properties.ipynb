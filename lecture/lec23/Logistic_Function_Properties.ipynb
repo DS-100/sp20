{
 "cells": [
  {
   "cell_type": "code",
   "execution_count": 1,
   "metadata": {},
   "outputs": [],
   "source": [
    "import numpy as np\n",
    "import pandas as pd\n",
    "import matplotlib.pyplot as plt\n",
    "from scipy import stats"
   ]
  },
  {
   "cell_type": "code",
   "execution_count": 56,
   "metadata": {},
   "outputs": [],
   "source": [
    "def sigma(t):\n",
    "    return 1 / (1 + np.e**(-t))\n",
    "\n",
    "def plot_logistic():\n",
    "    t = np.linspace(-5, 5, 100)\n",
    "    plt.plot(t, sigma(t), lw=2, color='darkblue') \n",
    "    plt.plot([-5, 5], [0, 0], lw=1, color='grey')\n",
    "    plt.xticks(range(-5, 6))\n",
    "    plt.yticks(np.arange(0, 1.1, 0.25))\n",
    "    # axes and labels\n",
    "    plt.xlabel('$t$', fontsize=15)\n",
    "    plt.ylabel('$\\sigma(t)$', fontsize=15, rotation=0)\n",
    "\n",
    "    \n",
    "def plot_logistic_symmetry():\n",
    "    plot_logistic()\n",
    "    plt.plot([-5, 5], [1, 1], lw=1, color='grey')\n",
    "    plt.plot([2, 2], [sigma(2), 1], lw=2, color='red', linestyle='dotted')\n",
    "    plt.plot([-2, -2], [0, sigma(-2)], lw=2, color='green', linestyle='dotted')\n",
    "    \n"
   ]
  },
  {
   "cell_type": "markdown",
   "metadata": {},
   "source": [
    "# Properties of the Logistic Function #\n",
    "\n",
    "### A. Adhikari for Data 100 Spring 2020 ###\n",
    "\n",
    "These are elementary derivations of: \n",
    "\n",
    "- the properties listed on Slide 24 of Lecture 23 \n",
    "- the multiplicative effect stated in Slide 30"
   ]
  },
  {
   "cell_type": "markdown",
   "metadata": {},
   "source": [
    "## Definition ##\n",
    "$$\n",
    "\\sigma(t) ~ = ~ \\frac{1}{1 + e^{-t}}  ~~~~~~ - \\infty < t < \\infty\n",
    "$$\n",
    "Alternative expression:\n",
    "$$\n",
    "\\sigma(t) ~ = ~ \\frac{e^t}{e^t} \\cdot\\frac{1}{1 + e^{-t}} ~ = ~ \\frac{e^t}{e^t + 1} ~ = ~ \\frac{e^t}{1 + e^t}\n",
    "$$\n",
    "\n",
    "Values:\n",
    "\n",
    "- $0 < \\sigma(t) < 1$\n",
    "- $\\sigma(0) = 0.5$\n",
    "- $\\sigma(t) \\to 0$ as $t \\to -\\infty$\n",
    "- $\\sigma(t) \\to 1$ as $t \\to \\infty$"
   ]
  },
  {
   "cell_type": "code",
   "execution_count": 37,
   "metadata": {},
   "outputs": [
    {
     "data": {
      "image/png": "[encoded data removed]",
      "text/plain": [
       "<Figure size 432x288 with 1 Axes>"
      ]
     },
     "metadata": {
      "needs_background": "light"
     },
     "output_type": "display_data"
    }
   ],
   "source": [
    "plot_logistic()"
   ]
  },
  {
   "cell_type": "markdown",
   "metadata": {},
   "source": [
    "## Inverse ##\n",
    "\n",
    "On Slide 22, $\\sigma(t)$ was defined by inverting $t = \\log\\big{(}\\frac{p}{1-p}\\big{)}$ for $0 < p < 1$. So\n",
    "\n",
    "$$\n",
    "\\sigma^{-1}(p) ~ = ~ t ~ = ~ \\log\\big{(}\\frac{p}{1-p}\\big{)} ~~~~~ 0 < p < 1\n",
    "$$"
   ]
  },
  {
   "cell_type": "markdown",
   "metadata": {},
   "source": [
    "## Reflection and Symmetry ##\n",
    "$$\n",
    "1 - \\sigma(t) ~ = ~ 1 - \\frac{1}{1+e^{-t}} ~ = ~ \\frac{1 + e^{-t} - 1}{1+e^{-t}} ~ = ~ \\frac{e^{-t}}{1+e^{-t}} ~ = ~ \\sigma(-t)\n",
    "$$\n",
    "by the alterative expression for $\\sigma(-t)$.\n",
    "\n",
    "In the figure below, the length of the red segment is $1 - \\sigma(2)$ and the length of the green segment is $\\sigma(-2)$. The two lengths are equal."
   ]
  },
  {
   "cell_type": "code",
   "execution_count": 57,
   "metadata": {},
   "outputs": [
    {
     "data": {
      "image/png": "[encoded data removed]",
      "text/plain": [
       "<Figure size 432x288 with 1 Axes>"
      ]
     },
     "metadata": {
      "needs_background": "light"
     },
     "output_type": "display_data"
    }
   ],
   "source": [
    "plot_logistic_symmetry()"
   ]
  },
  {
   "cell_type": "markdown",
   "metadata": {},
   "source": [
    "## Derivative ##\n",
    "By the Chain Rule,\n",
    "$$\n",
    "\\frac{d}{dt} \\sigma(t) ~ = ~ -\\big{(}\\frac{1}{1 + e^{-t}}\\big{)}^2 \\cdot (-e^{-t}) ~ = ~ \\frac{1}{1 + e^{-t}} \\cdot \\frac{e^{-t}}{1 + e^{-t}} ~ = ~ \\sigma(t)\\sigma(-t)\n",
    "$$"
   ]
  },
  {
   "cell_type": "markdown",
   "metadata": {},
   "source": [
    "## Multiplicative Effect  (Slide 30) ##\n",
    "\n",
    "Suppose the odds ratio is \n",
    "$$\n",
    "OR ~ = ~ \\frac{p}{1-p} ~ = ~ e^{\\theta_0 + \\theta_1 x}\n",
    "$$\n",
    "Increase $x$ by 1. Then the new odds ratio is\n",
    "$$\n",
    "OR_{new} ~ = ~ ~ e^{\\theta_0 + \\theta_1 (x+1)}\n",
    "$$\n",
    "Compare relative sizes:\n",
    "$$\n",
    "\\frac{OR_{new}}{OR} ~ = ~ \\frac{e^{\\theta_0 + \\theta_1 (x+1)}}{e^{\\theta_0 + \\theta_1 x}}\n",
    "~ = ~ \\frac{e^{\\theta_0 + \\theta_1x + \\theta_1}}{e^{\\theta_0 + \\theta_1 x}} \n",
    "~ = ~ e^{\\theta_1}\n",
    "$$\n",
    "So\n",
    "$$\n",
    "OR_{new} ~ = ~ e^{\\theta_1}OR\n",
    "$$"
   ]
  }
 ],
 "metadata": {
  "kernelspec": {
   "display_name": "Python 3",
   "language": "python",
   "name": "python3"
  },
  "language_info": {
   "codemirror_mode": {
    "name": "ipython",
    "version": 3
   },
   "file_extension": ".py",
   "mimetype": "text/x-python",
   "name": "python",
   "nbconvert_exporter": "python",
   "pygments_lexer": "ipython3",
   "version": "3.7.4"
  }
 },
 "nbformat": 4,
 "nbformat_minor": 2
}
