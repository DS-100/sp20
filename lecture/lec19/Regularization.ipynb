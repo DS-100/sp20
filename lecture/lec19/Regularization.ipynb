{
 "cells": [
  {
   "cell_type": "markdown",
   "metadata": {},
   "source": [
    "# Regularization\n",
    "\n",
    "In this notebook we explore the use of regularization techniques to address overfitting.  "
   ]
  },
  {
   "cell_type": "code",
   "execution_count": null,
   "metadata": {},
   "outputs": [],
   "source": [
    "from IPython.display import YouTubeVideo\n",
    "YouTubeVideo(\"MjxeN7OVP1Y\")"
   ]
  },
  {
   "cell_type": "markdown",
   "metadata": {},
   "source": [
    "## Imports\n",
    "\n",
    "As with other notebooks we will use the same set of standard imports."
   ]
  },
  {
   "cell_type": "code",
   "execution_count": null,
   "metadata": {},
   "outputs": [],
   "source": [
    "import numpy as np\n",
    "import pandas as pd"
   ]
  },
  {
   "cell_type": "code",
   "execution_count": null,
   "metadata": {},
   "outputs": [],
   "source": [
    "import plotly.offline as py\n",
    "import plotly.express as px\n",
    "import plotly.graph_objects as go\n",
    "from plotly.subplots import make_subplots\n",
    "import plotly.figure_factory as ff\n",
    "import cufflinks as cf\n",
    "cf.set_config_file(offline=True, sharing=False, theme='ggplot');"
   ]
  },
  {
   "cell_type": "code",
   "execution_count": null,
   "metadata": {},
   "outputs": [],
   "source": [
    "from sklearn.model_selection import train_test_split\n",
    "from sklearn.pipeline import Pipeline\n",
    "from sklearn.compose import ColumnTransformer\n",
    "from sklearn.preprocessing import FunctionTransformer\n",
    "from sklearn.impute import SimpleImputer\n",
    "from sklearn.linear_model import LinearRegression\n",
    "from sklearn.model_selection import cross_val_score"
   ]
  },
  {
   "cell_type": "markdown",
   "metadata": {},
   "source": [
    "## The Data\n",
    "\n",
    "For this notebook, we will use the seaborn `mpg` dataset which describes the fuel mileage (measured in miles per gallon or mpg) of various cars along with characteristics of those cars.  Our goal will be to build a model that can predict the fuel mileage of a car based on the characteristics of that car."
   ]
  },
  {
   "cell_type": "code",
   "execution_count": null,
   "metadata": {},
   "outputs": [],
   "source": [
    "from seaborn import load_dataset\n",
    "data = load_dataset(\"mpg\")\n",
    "data"
   ]
  },
  {
   "cell_type": "markdown",
   "metadata": {},
   "source": [
    "The first thing we will want to do with this data is construct a train/test split."
   ]
  },
  {
   "cell_type": "code",
   "execution_count": null,
   "metadata": {},
   "outputs": [],
   "source": [
    "tr, te = train_test_split(data, test_size=0.25, random_state=83)"
   ]
  },
  {
   "cell_type": "markdown",
   "metadata": {},
   "source": [
    "<br/><br/><br/>\n",
    "\n",
    "---\n",
    "\n",
    "## Building a Few Basic Models\n",
    "\n",
    "In the previous lecture we introduced how to use sklearn pipelines to build a model which contains it's feature engineering steps.  Here we will create a sequence of models using increasingly more quantitative features."
   ]
  },
  {
   "cell_type": "code",
   "execution_count": null,
   "metadata": {},
   "outputs": [],
   "source": [
    "YouTubeVideo(\"rBjgkCbrHqs\")"
   ]
  },
  {
   "cell_type": "code",
   "execution_count": null,
   "metadata": {},
   "outputs": [],
   "source": [
    "models = {}"
   ]
  },
  {
   "cell_type": "code",
   "execution_count": null,
   "metadata": {},
   "outputs": [],
   "source": [
    "quantitative_features = [\"cylinders\", \"displacement\", \"horsepower\", \"weight\", \"acceleration\", \"model_year\"]"
   ]
  },
  {
   "cell_type": "code",
   "execution_count": null,
   "metadata": {},
   "outputs": [],
   "source": [
    "for i in range(len(quantitative_features)):\n",
    "    # The features to include in the ith model\n",
    "    features = quantitative_features[:(i+1)]\n",
    "    # The name we are giving to the ith model\n",
    "    name = \",\".join([name[0] for name in features])\n",
    "    # The pipeline for the ith model\n",
    "    model = Pipeline([\n",
    "        (\"SelectColumns\", ColumnTransformer([\n",
    "            (\"keep\", \"passthrough\", features),\n",
    "        ])),\n",
    "        (\"Imputation\", SimpleImputer()),\n",
    "        (\"LinearModel\", LinearRegression())\n",
    "    ])\n",
    "    # Fit the pipeline\n",
    "    model.fit(tr, tr['mpg']);\n",
    "    # Saving the ith model\n",
    "    models[name] = model"
   ]
  },
  {
   "cell_type": "markdown",
   "metadata": {},
   "source": [
    "We have defined and trained (fit) 5 models:"
   ]
  },
  {
   "cell_type": "code",
   "execution_count": null,
   "metadata": {},
   "outputs": [],
   "source": [
    "models.keys()"
   ]
  },
  {
   "cell_type": "markdown",
   "metadata": {},
   "source": [
    "<br/><br/><br/>\n",
    "\n",
    "\n",
    "---\n",
    "\n",
    "## Quick Review of Cross Validation\n",
    "\n",
    "In the previous lecture, we introduced cross validation and described how to implement it.  In this lecture, we will use sklearn implementation of cross validation to estimate our test error **without looking at the test data.**"
   ]
  },
  {
   "cell_type": "code",
   "execution_count": null,
   "metadata": {},
   "outputs": [],
   "source": [
    "YouTubeVideo(\"B_93YOsvVEo\")"
   ]
  },
  {
   "cell_type": "code",
   "execution_count": null,
   "metadata": {},
   "outputs": [],
   "source": [
    "from sklearn.model_selection import cross_val_score"
   ]
  },
  {
   "cell_type": "markdown",
   "metadata": {},
   "source": [
    "The `cross_val_score` function takes a score function which it cross validates.  That score function must take three arguments, the model, X, and y.  We implement an Root Mean Squared Error (RMSE) score function:"
   ]
  },
  {
   "cell_type": "code",
   "execution_count": null,
   "metadata": {},
   "outputs": [],
   "source": [
    "def rmse_score(model, X, y):\n",
    "    return np.sqrt(np.mean((y - model.predict(X))**2))"
   ]
  },
  {
   "cell_type": "markdown",
   "metadata": {},
   "source": [
    "We can then use `cross_val_score` to **estimate the test RMSE** for the model that only uses the number of cylinders `c`:"
   ]
  },
  {
   "cell_type": "code",
   "execution_count": null,
   "metadata": {},
   "outputs": [],
   "source": [
    "cross_val_score(models['c'], tr, tr['mpg'], scoring=rmse_score, cv=5)"
   ]
  },
  {
   "cell_type": "markdown",
   "metadata": {},
   "source": [
    "Taking the mean we get the average cross validation (CV) RMSE:"
   ]
  },
  {
   "cell_type": "code",
   "execution_count": null,
   "metadata": {},
   "outputs": [],
   "source": [
    "np.mean(cross_val_score(models['c'], tr, tr['mpg'], scoring=rmse_score, cv=5))"
   ]
  },
  {
   "cell_type": "markdown",
   "metadata": {},
   "source": [
    "### Visualizing the Train/CV/Test RMSE\n",
    "\n",
    "In the following helper function we plot the **Train** and **CV** RMSE.  **We also plot the test RMSE for educational purposes you should not do this! If you use the height of the test RMSE bar to make decisions in designing your model you have invalidated the test data sort of like looking at the exam when studying.**"
   ]
  },
  {
   "cell_type": "code",
   "execution_count": null,
   "metadata": {},
   "outputs": [],
   "source": [
    "def compare_models(models):\n",
    "    # Compute the training error for each model\n",
    "    training_rmse = [rmse_score(model, tr, tr['mpg']) for model in models.values()]\n",
    "    # Compute the cross validation error for each model\n",
    "    validation_rmse = [np.mean(cross_val_score(model, tr, tr['mpg'], scoring=rmse_score, cv=5)) \n",
    "                       for model in models.values()]\n",
    "    # Compute the test error for each model (don't do this!)\n",
    "    test_rmse = [rmse_score(model, te, te['mpg']) for model in models.values()]\n",
    "    names = list(models.keys())\n",
    "    fig = go.Figure([\n",
    "        go.Bar(x = names, y = training_rmse, name=\"Training RMSE\"),\n",
    "        go.Bar(x = names, y = validation_rmse, name=\"CV RMSE\"),\n",
    "        go.Bar(x = names, y = test_rmse, name=\"Test RMSE\", opacity=.3)])\n",
    "    fig.update_yaxes(title=\"RMSE\")\n",
    "    return fig"
   ]
  },
  {
   "cell_type": "code",
   "execution_count": null,
   "metadata": {},
   "outputs": [],
   "source": [
    "compare_models(models)"
   ]
  },
  {
   "cell_type": "markdown",
   "metadata": {},
   "source": [
    "Notice that as we added features the training and cross validation error generally decreased.  Also notice that the cross validation error and the test error are generally higher than the training error. "
   ]
  },
  {
   "cell_type": "markdown",
   "metadata": {},
   "source": [
    "<br/><br/><br/>\n",
    "\n",
    "---\n",
    "\n",
    "## Adding the Text Features\n",
    "\n",
    "In the previous lecture we also introduced text features and I suggested you might also want to add the origin of the vehicle.  Here we will add both of these features. "
   ]
  },
  {
   "cell_type": "markdown",
   "metadata": {},
   "source": [
    "### Adding the Origin\n",
    "\n",
    "The origin is a categorical feature which takes on only a few values:"
   ]
  },
  {
   "cell_type": "code",
   "execution_count": null,
   "metadata": {},
   "outputs": [],
   "source": [
    "tr['origin'].value_counts()"
   ]
  },
  {
   "cell_type": "markdown",
   "metadata": {},
   "source": [
    "This can be extracted using a `OneHotEncoder` in the `SelectColumns` stage of the pipeline. Notice that the `[\"origin\"]` is in brackets, this caused me some confusion when preparing lecture.  The `OneHotEncoder` wants its input in column form rather than list form. "
   ]
  },
  {
   "cell_type": "code",
   "execution_count": null,
   "metadata": {},
   "outputs": [],
   "source": [
    "from sklearn.preprocessing import OneHotEncoder"
   ]
  },
  {
   "cell_type": "code",
   "execution_count": null,
   "metadata": {},
   "outputs": [],
   "source": [
    "model = Pipeline([\n",
    "    (\"SelectColumns\", ColumnTransformer([\n",
    "        (\"keep\", \"passthrough\", quantitative_features),\n",
    "        (\"origin_encoder\", OneHotEncoder(), [\"origin\"])\n",
    "    ])),\n",
    "    (\"Imputation\", SimpleImputer()),\n",
    "    (\"LinearModel\", LinearRegression())\n",
    "])"
   ]
  },
  {
   "cell_type": "code",
   "execution_count": null,
   "metadata": {},
   "outputs": [],
   "source": [
    "model.fit(tr, tr['mpg'])\n",
    "name = \",\".join([name[0] for name in quantitative_features]) + \",o\"\n",
    "models[name] = model"
   ]
  },
  {
   "cell_type": "markdown",
   "metadata": {},
   "source": [
    "### Adding the Vehicle Name\n",
    "\n",
    "In the previous lecture we added the vehicle name using the `CountVectorizer` which implements a bag-of-words encoding. "
   ]
  },
  {
   "cell_type": "code",
   "execution_count": null,
   "metadata": {},
   "outputs": [],
   "source": [
    "from sklearn.feature_extraction.text import CountVectorizer"
   ]
  },
  {
   "cell_type": "code",
   "execution_count": null,
   "metadata": {},
   "outputs": [],
   "source": [
    "model = Pipeline([\n",
    "    (\"SelectColumns\", ColumnTransformer([\n",
    "        (\"keep\", \"passthrough\", quantitative_features),\n",
    "        (\"origin_encoder\", OneHotEncoder(), [\"origin\"]),\n",
    "        (\"text\", CountVectorizer(), \"name\")\n",
    "    ])),\n",
    "    (\"Imputation\", SimpleImputer()),\n",
    "    (\"LinearModel\", LinearRegression())\n",
    "])"
   ]
  },
  {
   "cell_type": "code",
   "execution_count": null,
   "metadata": {},
   "outputs": [],
   "source": [
    "model.fit(tr, tr['mpg'])\n",
    "name = \",\".join([name[0] for name in quantitative_features]) + \",o,n\"\n",
    "models[name] = model"
   ]
  },
  {
   "cell_type": "code",
   "execution_count": null,
   "metadata": {},
   "outputs": [],
   "source": [
    "compare_models(models)"
   ]
  },
  {
   "cell_type": "markdown",
   "metadata": {},
   "source": [
    "Notice that adding the origin of the vehicle resulted in a small decrease in training error and validation error but adding the name resulted in a large decrease in training error and moderate increase in validation error.  The introduction of vehicle name feature resulted in overfitting.  To see why this might have happened let's look at the number of features in each model."
   ]
  },
  {
   "cell_type": "code",
   "execution_count": null,
   "metadata": {},
   "outputs": [],
   "source": [
    "fig = go.Figure()\n",
    "fig.add_trace(go.Bar(\n",
    "    x = list(models.keys()), \n",
    "    y = [len(models[m][\"LinearModel\"].coef_) for m in models]\n",
    "))\n",
    "fig.update_yaxes(title=\"Number of Features\",type=\"log\")"
   ]
  },
  {
   "cell_type": "markdown",
   "metadata": {},
   "source": [
    "Notice that the above plot is in log scale on the y axis!  The addition of the model name resulted in a large jump in features.  Perhaps some of these new features are useful and some are not.  What we really want now is a mechanism to select which of these features to keep and which to ignore or down-weight.  This can be done by using regularization. "
   ]
  },
  {
   "cell_type": "markdown",
   "metadata": {},
   "source": [
    "## Regularization\n",
    "\n",
    "Broadly speaking, regularization refers to methods used to control over-fitting.  However, in this class we will focus on parametric regularization techniques.  The following video provides a high level overview parametric regularization in the context of loss minimization. "
   ]
  },
  {
   "cell_type": "code",
   "execution_count": null,
   "metadata": {},
   "outputs": [],
   "source": [
    "YouTubeVideo(\"NqKtsZpHmRY\")"
   ]
  },
  {
   "cell_type": "markdown",
   "metadata": {},
   "source": [
    "A brief note on the following text."
   ]
  },
  {
   "cell_type": "code",
   "execution_count": null,
   "metadata": {},
   "outputs": [],
   "source": [
    "YouTubeVideo(\"0ffDWUdSvHg\")"
   ]
  },
  {
   "cell_type": "markdown",
   "metadata": {},
   "source": [
    "The simplest way to think about regularization is in the context of our original loss minimization problem. Recall we defined the loss function which determines what is the best parameter value $\\hat{\\theta}$ for our model. \n",
    "\n",
    "$$\n",
    "\\hat{\\theta} = \\arg \\min_\\theta \\frac{1}{n} \\sum_{i=1}^n \\textbf{Loss}\\left(Y_i, f_\\theta(X_i)\\right)\n",
    "$$\n",
    "\n",
    "The loss captures how well our model fits the data.  What we need is a way to a way to penalize models that over-fit to the data.  We can do this by adding an extra term to our loss minimization problem:\n",
    "\n",
    "\n",
    "$$\n",
    "\\hat{\\theta} = \\arg \\min_\\theta \\frac{1}{n} \\sum_{i=1}^n \\textbf{Loss}\\left(Y_i, f_\\theta(X_i)\\right) + \\alpha \\textbf{Reg}(f_\\theta, X, Y)\n",
    "$$\n",
    "\n",
    "The **Reg** function measures how much our model overfits and $\\alpha$ parameter (really hyper-parameter) allows us balance fitting our data and overfitting. The remaining challenge is how to define this **Reg** function and determine the value of our additional $\\alpha$ parameter.  \n"
   ]
  },
  {
   "cell_type": "markdown",
   "metadata": {},
   "source": [
    "### The Regularization Hyper-parameter\n",
    "The $\\alpha$ parameter is our regularization **hyper-parameter**.  It is a hyper-parameter because it is not a model parameter but a choice of how we want to balance fitting the data and \"over-fitting\".  The goal is to find a value of this hyper-parameter to maximize our accuracy on the **test data**. However, **we can't use the test data to make modeling decisions** so we turn to cross validation.  The standard way to find the best $\\alpha$ is to try a bunch of values (perhaps using binary search) and take the one with the lowest cross validation error. \n",
    "\n",
    "You may have noticed that in the video lecture we use $\\lambda$ instead of $\\alpha$.  This is because many textbooks use $\\lambda$ and sklearn uses $\\alpha$."
   ]
  },
  {
   "cell_type": "markdown",
   "metadata": {},
   "source": [
    "### The Regularization Function \n",
    "\n",
    "In our cartoon formulation of the regularized loss, the regularization function **Reg** is supposed to \"measure\" how much our model \"overfits\".  It depends on the model parameters and also can depend on the data.  An obvious choice for this function could be the gap between training and cross validation error but that is difficult to optimize and somewhat circular since both training and validation error depend on solving the regularized loss minimization problem. \n",
    "\n",
    "We have already seen that the more features we have the more likely we are to overfit to our data.  For our linear model, if we set a parameter to 0 then that is the same as not having that feature.  Therefore, one possible regularization function could be to count the non-zero parameters in our model.\n",
    "\n",
    "$$\n",
    "\\textbf{Reg}(\\theta) = \\sum_{k=1}^d (\\theta_i \\neq 0)\n",
    "$$\n",
    "\n",
    "To minimize this function would be to ignore all the features and that would certainly not overfit.  This is actually, the \"feature selection\" regularization objective.  Unfortunately, optimizing this objective is very hard (NP-Hard).  \n",
    "\n",
    "However, there are some good approximations we can use:\n",
    "\n",
    "$$\n",
    "\\textbf{Reg}^\\text{ridge}(\\theta) = \\sum_{k=1}^d \\theta_i^2\n",
    "$$\n",
    "\n",
    "and\n",
    "\n",
    "$$\n",
    "\\textbf{Reg}^\\text{lasso}(\\theta) = \\sum_{k=1}^d \\left|\\theta_i \\right|\n",
    "$$\n",
    "\n",
    "Each of these regularization functions (and their combination) give rise to different regression techniques.\n",
    "\n"
   ]
  },
  {
   "cell_type": "markdown",
   "metadata": {},
   "source": [
    "### Ridge Regression\n",
    "\n",
    "Ridge regression combines the ridge (L2, Squared) regularization function with the least squares loss.  \n",
    "\n",
    "\n",
    "$$\n",
    "\\hat{\\theta}_\\alpha = \\arg \\min_\\theta \\left(\\frac{1}{n} \\sum_{i=1}^n \\left(Y_i -  f_\\theta(X_i)\\right)^2 \\right) + \\alpha \\sum_{k=1}^d \\theta_k^2\n",
    "$$\n",
    "\n",
    "\n",
    "\n",
    "Ridge regression, like ordinary least squares regression, also has a closed form solution for the optimal $\\hat{\\theta}_\\alpha$\n",
    "\n",
    "$$\n",
    "\\hat{\\theta}_\\alpha = \\left(X^T X + n \\alpha \\mathbf{I}\\right)^{-1} X^T Y\n",
    "$$\n",
    "\n",
    "where $\\mathbf{I}$ is the identity matrix, $n$ is the number of data points, and $\\alpha$ is the regularization hyper-parameter.\n",
    "\n",
    "Notice that even if $X^T X$ is not full rank, the addition of $n \\alpha \\mathbf{I}$ (which is full rank) makes $\\left(X^T X + n \\alpha \\mathbf{I}\\right)$ invertible.  Thus, ridge regression addresses our earlier issue of having an underdetermined system and partially improves the numerical stability of the solution. "
   ]
  },
  {
   "cell_type": "markdown",
   "metadata": {},
   "source": [
    "### Lasso Regression\n",
    "\n",
    "Lasso regression combines the absolute (L1) regularization function with the least squares loss.  \n",
    "\n",
    "$$\n",
    "\\hat{\\theta}_\\alpha = \\arg \\min_\\theta \\left(\\frac{1}{n} \\sum_{i=1}^n \\left(Y_i -  f_\\theta(X_i)\\right)^2 \\right) + \\alpha \\sum_{k=1}^d |\\theta_k|\n",
    "$$\n",
    "\n",
    "Lasso is actually an acronym (and a cool name) which stands for Least Absolute Shrinkage and Selection Operator.  It is an absolute operator because it is the absolute value.  It is a shrinkage operator because it favors smaller parameter values.  It is a selection operator because it has the peculiar property of pushing parameter values all the way to zero thereby selecting the remaining features.  It is this last property that makes Lasso regression so useful. By using Lasso regression and setting sufficiently large value of $\\alpha$ you can eliminate features that are not informative. \n",
    "\n",
    "Unfortunately, there is no closed form solution for Lasso regression and so iterative optimization algorithms like gradient descent are typically used. "
   ]
  },
  {
   "cell_type": "markdown",
   "metadata": {},
   "source": [
    "### Normalizing the Features\n",
    "\n",
    "When applying Ridge or Lasso regression it is important that you normalize your features.  Why (think about it for a second)?  \n",
    "\n",
    "The issue is that if you have very large and very small features then the relative magnitudes of the coefficients may differ substantially.  Think of the coefficients as unit translations from units of features (e.g., cubic centimeters, and horse power) to units of the thing you are trying to predict (e.g., miles per gallon).  The regularization function treats all these unit translation coefficients equally but some may *need* to be much larger than others.  Therefore, by *standardizing the features* we can address this variation.   You can standardize a feature by computing:\n",
    "\n",
    "$$\n",
    "z = \\frac{x - \\textbf{Mean}(x)}{\\textbf{StdDev}(x)}\n",
    "$$"
   ]
  },
  {
   "cell_type": "markdown",
   "metadata": {},
   "source": [
    "## Ridge Regression in SK Learn\n",
    "\n",
    "Both Ridge Regression and Lasso are built-in functions in SKLearn.  Let's start by importing the `Ridge` Regression class which behaves identically to the `LinearRegression` class we used earlier:"
   ]
  },
  {
   "cell_type": "code",
   "execution_count": null,
   "metadata": {},
   "outputs": [],
   "source": [
    "YouTubeVideo(\"frdGPG10dOA\")"
   ]
  },
  {
   "cell_type": "code",
   "execution_count": null,
   "metadata": {},
   "outputs": [],
   "source": [
    "from sklearn.linear_model import Ridge"
   ]
  },
  {
   "cell_type": "markdown",
   "metadata": {},
   "source": [
    "Take a look at the documentation.  Notice the regularized loss function. "
   ]
  },
  {
   "cell_type": "code",
   "execution_count": null,
   "metadata": {},
   "outputs": [],
   "source": [
    "Ridge?"
   ]
  },
  {
   "cell_type": "markdown",
   "metadata": {},
   "source": [
    "We can plug the Ridge Regression Model in place of our the LinearRegression Model in our earlier pipeline"
   ]
  },
  {
   "cell_type": "code",
   "execution_count": null,
   "metadata": {},
   "outputs": [],
   "source": [
    "ridge_model = Pipeline([\n",
    "    (\"SelectColumns\", ColumnTransformer([\n",
    "        (\"keep\", \"passthrough\", quantitative_features),\n",
    "        (\"origin_encoder\", OneHotEncoder(), [\"origin\"]),\n",
    "        (\"text\", CountVectorizer(), \"name\")\n",
    "    ])),\n",
    "    (\"Imputation\", SimpleImputer()),\n",
    "    (\"LinearModel\", Ridge(alpha=0.5))\n",
    "])"
   ]
  },
  {
   "cell_type": "code",
   "execution_count": null,
   "metadata": {},
   "outputs": [],
   "source": [
    "ridge_model.fit(tr, tr['mpg'])\n",
    "models[\"Ridge(alpha=0.5)\"] = ridge_model\n",
    "compare_models(models)"
   ]
  },
  {
   "cell_type": "markdown",
   "metadata": {},
   "source": [
    "We should also standardize our features:"
   ]
  },
  {
   "cell_type": "code",
   "execution_count": null,
   "metadata": {},
   "outputs": [],
   "source": [
    "from sklearn.preprocessing import StandardScaler"
   ]
  },
  {
   "cell_type": "code",
   "execution_count": null,
   "metadata": {},
   "outputs": [],
   "source": [
    "ridge_model = Pipeline([\n",
    "    (\"SelectColumns\", ColumnTransformer([\n",
    "        (\"keep\", StandardScaler(), quantitative_features),\n",
    "        (\"origin_encoder\", OneHotEncoder(), [\"origin\"]),\n",
    "        (\"text\", CountVectorizer(), \"name\")\n",
    "    ])),\n",
    "    (\"Imputation\", SimpleImputer()),\n",
    "#     (\"Standarize\", StandardScaler(with_mean=False)),\n",
    "    (\"LinearModel\", Ridge(alpha=0.5))\n",
    "])"
   ]
  },
  {
   "cell_type": "code",
   "execution_count": null,
   "metadata": {},
   "outputs": [],
   "source": [
    "ridge_model.fit(tr, tr['mpg'])\n",
    "models[\"RidgeN(alpha=0.5)\"] = ridge_model\n",
    "compare_models(models)"
   ]
  },
  {
   "cell_type": "markdown",
   "metadata": {},
   "source": [
    "Notice that as we introduce regularization we are reducing the cross validation error and also increasing the training error."
   ]
  },
  {
   "cell_type": "markdown",
   "metadata": {},
   "source": [
    "What about different $\\alpha$ hyper-parameter values?"
   ]
  },
  {
   "cell_type": "code",
   "execution_count": null,
   "metadata": {},
   "outputs": [],
   "source": [
    "ridge_model = Pipeline([\n",
    "    (\"SelectColumns\", ColumnTransformer([\n",
    "        (\"keep\", StandardScaler(), quantitative_features),\n",
    "        (\"origin_encoder\", OneHotEncoder(), [\"origin\"]),\n",
    "        (\"text\", CountVectorizer(), \"name\")\n",
    "    ])),\n",
    "    (\"Imputation\", SimpleImputer()),\n",
    "    (\"LinearModel\", Ridge(alpha=10))\n",
    "])"
   ]
  },
  {
   "cell_type": "code",
   "execution_count": null,
   "metadata": {},
   "outputs": [],
   "source": [
    "ridge_model.fit(tr, tr['mpg'])\n",
    "models[\"RidgeN(alpha=10)\"] = ridge_model\n",
    "compare_models(models)"
   ]
  },
  {
   "cell_type": "markdown",
   "metadata": {},
   "source": [
    "That is too much regularization.  Let's use cross validation to pick the best value."
   ]
  },
  {
   "cell_type": "markdown",
   "metadata": {},
   "source": [
    "### Cross Validation to Tune Regularization Parameter\n",
    "\n",
    "The following uses cross validation to tune the regularization parameter."
   ]
  },
  {
   "cell_type": "code",
   "execution_count": null,
   "metadata": {},
   "outputs": [],
   "source": [
    "ridge_model = Pipeline([\n",
    "    (\"SelectColumns\", ColumnTransformer([\n",
    "        (\"keep\", StandardScaler(), quantitative_features),\n",
    "        (\"origin_encoder\", OneHotEncoder(), [\"origin\"]),\n",
    "        (\"text\", CountVectorizer(), \"name\")\n",
    "    ])),\n",
    "    (\"Imputation\", SimpleImputer()),\n",
    "    (\"LinearModel\", Ridge(alpha=10))\n",
    "])\n",
    "\n",
    "alphas = np.linspace(0.5, 20, 30)\n",
    "cv_values = []\n",
    "train_values = []\n",
    "test_values = []\n",
    "for alpha in alphas:\n",
    "    ridge_model.set_params(LinearModel__alpha=alpha)\n",
    "    cv_values.append(np.mean(cross_val_score(ridge_model, tr, tr['mpg'], scoring=rmse_score, cv=5)))\n",
    "    ridge_model.fit(tr, tr['mpg'])\n",
    "    train_values.append(rmse_score(ridge_model, tr, tr['mpg']))\n",
    "    test_values.append(rmse_score(ridge_model, te, te['mpg']))"
   ]
  },
  {
   "cell_type": "markdown",
   "metadata": {},
   "source": [
    "We can plot the cross validation error against the different $\\alpha$ values and pick the $\\alpha$ with the smallest cross validation error. "
   ]
  },
  {
   "cell_type": "code",
   "execution_count": null,
   "metadata": {},
   "outputs": [],
   "source": [
    "fig = go.Figure()\n",
    "fig.add_trace(go.Scatter(x = alphas, y = train_values, mode=\"lines+markers\", name=\"Train\"))\n",
    "fig.add_trace(go.Scatter(x = alphas, y = cv_values, mode=\"lines+markers\", name=\"CV\"))\n",
    "fig.add_trace(go.Scatter(x = alphas, y = test_values, mode=\"lines+markers\", name=\"Test\"))\n",
    "fig.update_layout(xaxis_title=r\"$\\alpha$\", yaxis_title=\"CV RMSE\")"
   ]
  },
  {
   "cell_type": "markdown",
   "metadata": {},
   "source": [
    "Adding the best model:"
   ]
  },
  {
   "cell_type": "code",
   "execution_count": null,
   "metadata": {},
   "outputs": [],
   "source": [
    "best_alpha = alphas[np.argmin(cv_values)]\n",
    "ridge_model.set_params(LinearModel__alpha=best_alpha)\n",
    "ridge_model.fit(tr, tr['mpg'])\n",
    "models[\"RidgeN(alpha_best)\"] = ridge_model\n",
    "compare_models(models)"
   ]
  },
  {
   "cell_type": "markdown",
   "metadata": {},
   "source": [
    "We didn't have to do all of that work. SKLearn has a Ridge Regression class with built-in cross validation"
   ]
  },
  {
   "cell_type": "code",
   "execution_count": null,
   "metadata": {},
   "outputs": [],
   "source": [
    "from sklearn.linear_model import RidgeCV"
   ]
  },
  {
   "cell_type": "code",
   "execution_count": null,
   "metadata": {},
   "outputs": [],
   "source": [
    "alphas = np.linspace(0.5, 3, 30)\n",
    "\n",
    "ridge_model = Pipeline([\n",
    "    (\"SelectColumns\", ColumnTransformer([\n",
    "        (\"keep\", StandardScaler(), quantitative_features),\n",
    "        (\"origin_encoder\", OneHotEncoder(), [\"origin\"]),\n",
    "        (\"text\", CountVectorizer(), \"name\")\n",
    "    ])),\n",
    "    (\"Imputation\", SimpleImputer()),\n",
    "    (\"LinearModel\", RidgeCV(alphas=alphas))\n",
    "])"
   ]
  },
  {
   "cell_type": "code",
   "execution_count": null,
   "metadata": {},
   "outputs": [],
   "source": [
    "ridge_model.fit(tr, tr['mpg'])\n",
    "models[\"RidgeCV\"] = ridge_model\n",
    "compare_models(models)"
   ]
  },
  {
   "cell_type": "markdown",
   "metadata": {},
   "source": [
    "## Lasso in SKLearn \n",
    "\n",
    "Similarly we can swap Ridge Regression for Lasso by simply importing the Lasso"
   ]
  },
  {
   "cell_type": "code",
   "execution_count": null,
   "metadata": {},
   "outputs": [],
   "source": [
    "YouTubeVideo(\"hqZNVrZ3flw\")"
   ]
  },
  {
   "cell_type": "code",
   "execution_count": null,
   "metadata": {},
   "outputs": [],
   "source": [
    "from sklearn.linear_model import Lasso, LassoCV"
   ]
  },
  {
   "cell_type": "code",
   "execution_count": null,
   "metadata": {},
   "outputs": [],
   "source": [
    "lasso_model = Pipeline([\n",
    "    (\"SelectColumns\", ColumnTransformer([\n",
    "        (\"keep\", StandardScaler(), quantitative_features),\n",
    "        (\"origin_encoder\", OneHotEncoder(), [\"origin\"]),\n",
    "        (\"text\", CountVectorizer(), \"name\")\n",
    "    ])),\n",
    "    (\"Imputation\", SimpleImputer()),\n",
    "    (\"LinearModel\", LassoCV(cv=3))\n",
    "])"
   ]
  },
  {
   "cell_type": "code",
   "execution_count": null,
   "metadata": {},
   "outputs": [],
   "source": [
    "lasso_model.fit(tr, tr['mpg'])\n",
    "models[\"LassoCV\"] = lasso_model\n",
    "compare_models(models)"
   ]
  },
  {
   "cell_type": "markdown",
   "metadata": {},
   "source": [
    "We can examine the distribution of model coefficients to see that Lasso is selecting only a few of the features to use in it's predictions:"
   ]
  },
  {
   "cell_type": "code",
   "execution_count": null,
   "metadata": {},
   "outputs": [],
   "source": [
    "ff.create_distplot([\n",
    "    models['LassoCV'][\"LinearModel\"].coef_, \n",
    "    models['RidgeCV'][\"LinearModel\"].coef_],\n",
    "    [\"Lasso\", \"Ridge\"], bin_size=0.1)"
   ]
  },
  {
   "cell_type": "markdown",
   "metadata": {},
   "source": [
    "Here we get the names of all the features in the model."
   ]
  },
  {
   "cell_type": "code",
   "execution_count": null,
   "metadata": {},
   "outputs": [],
   "source": [
    "ct = models['LassoCV']['SelectColumns']\n",
    "feature_names = (\n",
    "    quantitative_features +\n",
    "    list(ct.named_transformers_['origin_encoder'].get_feature_names())+\n",
    "    list(ct.named_transformers_['text'].get_feature_names())\n",
    ")\n",
    "feature_names = np.array(feature_names)\n",
    "print(feature_names)"
   ]
  },
  {
   "cell_type": "markdown",
   "metadata": {},
   "source": [
    "Finally, we select the features that had non-zero coefficients (parameters).  Not surprisingly, many of these features are likely good predictors of the fuel economy of a car."
   ]
  },
  {
   "cell_type": "code",
   "execution_count": null,
   "metadata": {},
   "outputs": [],
   "source": [
    "kept = ~np.isclose(models['LassoCV'][\"LinearModel\"].coef_, 0)\n",
    "feature_names[kept]"
   ]
  },
  {
   "cell_type": "code",
   "execution_count": null,
   "metadata": {},
   "outputs": [],
   "source": []
  }
 ],
 "metadata": {
  "kernelspec": {
   "display_name": "Python 3",
   "language": "python",
   "name": "python3"
  },
  "language_info": {
   "codemirror_mode": {
    "name": "ipython",
    "version": 3
   },
   "file_extension": ".py",
   "mimetype": "text/x-python",
   "name": "python",
   "nbconvert_exporter": "python",
   "pygments_lexer": "ipython3",
   "version": "3.7.5"
  }
 },
 "nbformat": 4,
 "nbformat_minor": 4
}
