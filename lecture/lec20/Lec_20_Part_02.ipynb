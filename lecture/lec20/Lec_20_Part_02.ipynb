{
 "cells": [
  {
   "cell_type": "code",
   "execution_count": 1,
   "metadata": {},
   "outputs": [],
   "source": [
    "import numpy as np\n",
    "from scipy import stats\n",
    "import matplotlib.pyplot as plt\n",
    "%matplotlib inline\n",
    "\n",
    "from IPython.display import YouTubeVideo"
   ]
  },
  {
   "cell_type": "markdown",
   "metadata": {},
   "source": [
    "# Lecture 20 Part 2 #"
   ]
  },
  {
   "cell_type": "markdown",
   "metadata": {},
   "source": [
    "# <span style=\"color: darkblue\">Expectation: Definition and Additivity</span> #"
   ]
  },
  {
   "cell_type": "markdown",
   "metadata": {},
   "source": [
    "Note that we're defining expectation only for discrete random variables. For continuous random variables you have to replace the sum by an appropriate integral, which we won't need in this class. But all the properties of expectation listed in the slides hold for both kinds of random variables."
   ]
  },
  {
   "cell_type": "code",
   "execution_count": 2,
   "metadata": {},
   "outputs": [
    {
     "data": {
      "image/jpeg": "[encoded data removed]",
      "text/html": [
       "\n",
       "        <iframe\n",
       "            width=\"400\"\n",
       "            height=\"300\"\n",
       "            src=\"https://www.youtube.com/embed/wBBWFYz9248\"\n",
       "            frameborder=\"0\"\n",
       "            allowfullscreen\n",
       "        ></iframe>\n",
       "        "
      ],
      "text/plain": [
       "<IPython.lib.display.YouTubeVideo at 0x1a14862750>"
      ]
     },
     "execution_count": 2,
     "metadata": {},
     "output_type": "execute_result"
    }
   ],
   "source": [
    "YouTubeVideo(\"wBBWFYz9248\")"
   ]
  },
  {
   "cell_type": "markdown",
   "metadata": {},
   "source": [
    "**Now go over Slides 20-26.** \n",
    "\n",
    "### Important Examples ###\n",
    "**Please work out every line in Slides 23 and 26,** and note how the \"balance point\" interpretation reduces the need for calculation. \n",
    "\n",
    "### Transformations (Slide 24) ###\n",
    "\n",
    "**Linear Transformation** rules are used frequently because:\n",
    "\n",
    "- $-X$ is a linear transformation of $X$\n",
    "- If $Y_1, Y_2, \\ldots, Y_n$ are random variables then their mean $\\bar{Y}_n$ is a linear transformation of their sum $S_n$, because $\\bar{Y}_n = \\frac{1}{n}S_n$. This will be applied to the sample mean and also to *Mean* Squared Error, *Average* Loss, etc.\n",
    "- The typical conversions of units of measurement are linear transformations, e.g. $cm = 2.54 \\cdot inches$ or ${}^{\\circ}F = \\frac{9}{5}{}^{\\circ}C + 32$ etc. \n",
    "- The most important special case of unit conversion is the conversion to standard units, which we'll do after we have defined the $\\mathbb{SD}$.\n",
    "\n",
    "**Non-linear transformations** don't play well with expectation: \n",
    "- $\\mathbb{E}(\\log(X))$ is typically different from $\\log(\\mathbb{E}(X))$. In general $\\mathbb{E}(g(X)) \\neq g(\\mathbb{E}(X))$ if $g$ is non-linear.\n",
    "- The most important non-linear transformation is the square. We'll soon see that $\\mathbb{E}(X^2) \\ge (\\mathbb{E}(X))^2$."
   ]
  },
  {
   "cell_type": "markdown",
   "metadata": {},
   "source": [
    "### Questions ###\n",
    "When in doubt, try to use additivity.\n",
    "\n",
    "**Question 1:** Which of the following is $\\mathbb{E}(\\mathbb{E}(X))$?\n",
    "\n",
    "- $X$\n",
    "- $\\mathbb{E}(X)$\n",
    "- Not possible to say\n",
    "\n",
    "<details>\n",
    "    <summary>Answer 1</summary>\n",
    "$\\mathbb{E}(X)$\n",
    "</details>\n",
    "\n",
    "**Question 2:** Suppose you know that $\\mathbb{E}(X) = 2$ and $\\mathbb{E}(X^2) = 13$. If possible, find $\\mathbb{E}(X - 5)$.\n",
    "\n",
    "<details>\n",
    "    <summary>Answer 2</summary>\n",
    "$-3$\n",
    "</details>\n",
    "\n",
    "\n",
    "**Question 3:** Suppose you know that $\\mathbb{E}(X) = 2$ and $\\mathbb{E}(X^2) = 13$. If possible, find $\\mathbb{E}(\\vert X - 5 \\vert)$.\n",
    "\n",
    "<details>\n",
    "    <summary>Answer 3</summary>\n",
    "Not possible\n",
    "</details>\n",
    "\n",
    "**Question 4:** Suppose you know that $\\mathbb{E}(X) = 2$ and $\\mathbb{E}(X^2) = 13$. If possible, find $\\mathbb{E}((X - 5)^2)$.\n",
    "\n",
    "<details>\n",
    "    <summary>Answer 4</summary>\n",
    "$18$\n",
    "</details>\n",
    "\n",
    "Notice how squared loss is easier to work with mathematically than absolute loss."
   ]
  },
  {
   "cell_type": "markdown",
   "metadata": {},
   "source": [
    "# <span style=\"color: darkblue\">Variance and SD</span> #"
   ]
  },
  {
   "cell_type": "markdown",
   "metadata": {},
   "source": [
    "To quantify how far a random variable can be from its mean, it's natural to start with the deviation from mean:\n",
    "\n",
    "$$\n",
    "D ~ = ~ X - \\mathbb{E}(X)\n",
    "$$\n",
    "\n",
    "**You should show** that $\\mathbb{E}(D) = 0$. \n",
    "\n",
    "The positive deviations exactly cancel out the negative deviations. So to get a sense of how big $D$ is, we have to ignore its sign somehow. That is why we look instead at the *mean squared error* $\\mathbb{E}(D^2)$, which is called the *variance* of $X$.\n",
    "\n",
    "- Slide 28 is the random variable analog of the corresponding [data definitions](https://www.inferentialthinking.com/chapters/14/2/Variability.html#The-Rough-Size-of-Deviations-from-Average) in Data 8.\n",
    "- The interpretations in Slide 29 correspond to [this](https://www.inferentialthinking.com/chapters/14/2/Variability.html#Chebychev's-Bounds) in Data 8. That discussion is worth reading.\n",
    "\n",
    "It's worth writing out this obvious fact: variance is non-negative. Details:\n",
    "\n",
    "- $\\mathbb{V}ar(X) = 0$ if and only if $X$ is a constant. For every other random variable, $\\mathbb{V}ar(X) > 0$.\n",
    "\n",
    "### Question ### \n",
    "**Question 5:** $X$ has the uniform distribution on the values $-1$ and $1$. $Y$ has the uniform distribution on the values $-1$, $0$, and $1$. Which is bigger: $\\mathbb{SD}(X)$ or $\\mathbb{SD}(Y)$? **Answer without calculation.** [Try drawing (by hand) overlaid histograms of the two distributions.]\n",
    "\n",
    "<details>\n",
    "    <summary>Answer 5</summary>\n",
    "$\\mathbb{SD}(X)$\n",
    "</details>"
   ]
  },
  {
   "cell_type": "markdown",
   "metadata": {},
   "source": [
    "### Alternative Calculation (Slide 30) ###\n",
    "This is sometimes called the *computational formula* for $\\mathbb{V}ar(X)$ but it can actually pretty bad in terms of numerical accuracy if $X$ has large positive or negative values. The term is a holdover from the days when *computation* meant cranking out by hand. It can also reduce algebra.\n",
    "\n",
    "Before looking at the derivation, let's use the result, which is\n",
    "\n",
    "$$\n",
    "\\mathbb{V}ar(X) ~ = ~ \\mathbb{E}(X^2) - (\\mathbb{E}(X))^2\n",
    "$$\n",
    "\n",
    "**Consequences**\n",
    "\n",
    "- Since variance is non-negative, $\\mathbb{E}(X^2) \\ge (\\mathbb{E}(X))^2$. Equality is if and only if $X$ is a constant.\n",
    "- If you know the expectation and variance, you can figure out the expected square: $\\mathbb{E}(X^2) = \\mathbb{V}ar(X) + (\\mathbb{E}(X))^2$\n",
    "- This is particularly helpful if $\\mathbb{E}(X) = 0$, because then $\\mathbb{E}(X^2) = \\mathbb{V}ar(X)$. This will be used for random errors that have mean 0.\n",
    "- **Variance of an Indicator**: If $I$ has the Bernoulli $(p)$ distribution, then $I^2 = I$ because 0 and 1 are equal to their squares. So\n",
    "$$\n",
    "\\mathbb{V}ar(I) ~ = ~ \\mathbb{E}(I^2) - (\\mathbb{E}(I))^2 ~ = ~ \\mathbb{E}(I) - (\\mathbb{E}(I))^2 ~ = ~ p - p^2 ~ = ~ p(1-p)\n",
    "$$\n",
    "\n",
    "Note that result! It's going to get used."
   ]
  },
  {
   "cell_type": "markdown",
   "metadata": {},
   "source": [
    "### Questions ###\n",
    "\n",
    "**Question 6:** Suppose $\\mathbb{E}(X) = 10$ and $\\mathbb{SD}(X) = 2$. Match the numbers below with $\\mathbb{E}(X^2)$, $(\\mathbb{E}(X))^2$, and $\\mathbb{V}ar(X)$. You can use numbers more than once, and some will be left over.\n",
    "\n",
    "- $2, 4, 12, 14, 100, 102, 104$ \n",
    "\n",
    "<details>\n",
    "    <summary>Answer 6</summary>\n",
    "$\\mathbb{E}(X^2) = 104$, $(\\mathbb{E}(X))^2 = 100$, $\\mathbb{V}ar(X) = 4$\n",
    "</details>\n",
    "\n",
    "**Question 7:** Suppose $\\mathbb{E}(X^2) = 13$ and $\\mathbb{V}ar(X) = 9$. Which of the following could $\\mathbb{E(X)}$ be? Pick all the options that you think will work.\n",
    "\n",
    "- $-\\sqrt{13}, -3, -2, 2, 3, \\sqrt{13}$, none of the previous \n",
    "\n",
    "<details>\n",
    "    <summary>Answer 7</summary>\n",
    "$-2, 2$\n",
    "</details>"
   ]
  },
  {
   "cell_type": "code",
   "execution_count": 3,
   "metadata": {},
   "outputs": [
    {
     "data": {
      "image/jpeg": "[encoded data removed]",
      "text/html": [
       "\n",
       "        <iframe\n",
       "            width=\"400\"\n",
       "            height=\"300\"\n",
       "            src=\"https://www.youtube.com/embed/poYb0w7LhY8\"\n",
       "            frameborder=\"0\"\n",
       "            allowfullscreen\n",
       "        ></iframe>\n",
       "        "
      ],
      "text/plain": [
       "<IPython.lib.display.YouTubeVideo at 0x1a14887cd0>"
      ]
     },
     "execution_count": 3,
     "metadata": {},
     "output_type": "execute_result"
    }
   ],
   "source": [
    "YouTubeVideo(\"poYb0w7LhY8\")"
   ]
  },
  {
   "cell_type": "markdown",
   "metadata": {},
   "source": [
    "### Linear Transformation (Slide 31) ###\n",
    "Yes, those again. This sequence of figures should explain why $\\mathbb{SD}(aX+b) = \\vert a \\vert \\mathbb{SD}(X)$.\n",
    "\n",
    "**Important consequence:** The *squared* coeffiecient in $\\mathbb{V}ar(aX) = a^2\\mathbb{V}ar(X)$."
   ]
  },
  {
   "cell_type": "code",
   "execution_count": 4,
   "metadata": {},
   "outputs": [],
   "source": [
    "# Probability distribution of X\n",
    "\n",
    "vals_X = np.arange(1, 4)\n",
    "probs = np.array([0.2, 0.5, 0.3])"
   ]
  },
  {
   "cell_type": "code",
   "execution_count": 5,
   "metadata": {},
   "outputs": [
    {
     "data": {
      "image/png": "[encoded data removed]",
      "text/plain": [
       "<Figure size 432x288 with 1 Axes>"
      ]
     },
     "metadata": {
      "needs_background": "light"
     },
     "output_type": "display_data"
    }
   ],
   "source": [
    "# Distribution of X\n",
    "\n",
    "#bins_X = np.arange(0.5, 3.6, 1)\n",
    "bins_X = np.arange(-9.5, 9.6)\n",
    "def plot_dist_X():\n",
    "    plt.hist(vals_X, bins=bins_X, weights=probs, ec='w')\n",
    "    plt.xticks(range(-10, 11, 2))\n",
    "    plt.xlim(-10, 10)\n",
    "    \n",
    "plot_dist_X()"
   ]
  },
  {
   "cell_type": "code",
   "execution_count": 6,
   "metadata": {},
   "outputs": [
    {
     "data": {
      "image/png": "[encoded data removed]",
      "text/plain": [
       "<Figure size 432x288 with 1 Axes>"
      ]
     },
     "metadata": {
      "needs_background": "light"
     },
     "output_type": "display_data"
    }
   ],
   "source": [
    "# Distribution of X+4\n",
    "# SD doesn't change\n",
    "\n",
    "plot_dist_X()\n",
    "shift_b = 4\n",
    "plt.hist(vals_X+shift_b, bins=bins_X, weights=probs,ec='w');\n"
   ]
  },
  {
   "cell_type": "code",
   "execution_count": 7,
   "metadata": {},
   "outputs": [
    {
     "data": {
      "image/png": "[encoded data removed]",
      "text/plain": [
       "<Figure size 432x288 with 1 Axes>"
      ]
     },
     "metadata": {
      "needs_background": "light"
     },
     "output_type": "display_data"
    }
   ],
   "source": [
    "# Distribution of 3X\n",
    "# SD gets multiplied by 3\n",
    "\n",
    "plot_dist_X()\n",
    "scale_a = 3\n",
    "plt.hist(scale_a*vals_X, bins=bins_X, weights=probs, ec='w');\n"
   ]
  },
  {
   "cell_type": "code",
   "execution_count": 8,
   "metadata": {},
   "outputs": [
    {
     "data": {
      "image/png": "[encoded data removed]",
      "text/plain": [
       "<Figure size 432x288 with 1 Axes>"
      ]
     },
     "metadata": {
      "needs_background": "light"
     },
     "output_type": "display_data"
    }
   ],
   "source": [
    "# Distribution of -3X\n",
    "# SD gets multiplied by 3\n",
    "\n",
    "plot_dist_X()\n",
    "scale_a = -3\n",
    "plt.hist(scale_a*vals_X, bins=bins_X, weights=probs, ec='w');\n"
   ]
  },
  {
   "cell_type": "markdown",
   "metadata": {},
   "source": [
    "### Questions ###\n",
    "\n",
    "**Question 8:** Suppose $\\mathbb{V}ar(X) = \\sigma^2$. Match the following with $\\mathbb{SD}(X)$, $\\mathbb{SD}(-X)$, and $\\mathbb{V}ar(-X)$. You can use values more than once, and some will be left over.\n",
    "\n",
    "$-\\sigma^2$, $-\\sigma$, $\\sigma$, $\\sigma^2$\n",
    "\n",
    "<details>\n",
    "    <summary>Answer 8</summary>\n",
    "$\\mathbb{SD}(X) = \\sigma = \\mathbb{SD}(-X)$, $\\mathbb{V}ar(-X) = \\sigma^2$\n",
    "</details>\n",
    "\n",
    "**Question 9:** On a 10-question test where each question is graded as either Right or Wrong, a student guesses randomly according to some wild and weird scheme. Let $R$ be the number of questions the students gets Right and $W$ the number Wrong. Suppose $E(R) = 3$ and $SD(R) = 2$. Find $E(W)$ and $SD(W)$.\n",
    "\n",
    "<details>\n",
    "    <summary>Answer 9</summary>\n",
    "7 and 2\n",
    "</details>"
   ]
  },
  {
   "cell_type": "markdown",
   "metadata": {},
   "source": [
    "### Standard Units (Slide 33) ###\n",
    "\n",
    "**Work out every line of Slide 33,** please. The results put together a bunch of previous results about variance and standard deviation, and are used frequently."
   ]
  }
 ],
 "metadata": {
  "kernelspec": {
   "display_name": "Python 3",
   "language": "python",
   "name": "python3"
  },
  "language_info": {
   "codemirror_mode": {
    "name": "ipython",
    "version": 3
   },
   "file_extension": ".py",
   "mimetype": "text/x-python",
   "name": "python",
   "nbconvert_exporter": "python",
   "pygments_lexer": "ipython3",
   "version": "3.7.4"
  }
 },
 "nbformat": 4,
 "nbformat_minor": 2
}
