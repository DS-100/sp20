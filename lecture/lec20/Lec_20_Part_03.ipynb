{
 "cells": [
  {
   "cell_type": "code",
   "execution_count": 1,
   "metadata": {},
   "outputs": [],
   "source": [
    "import numpy as np\n",
    "from scipy import stats\n",
    "import matplotlib.pyplot as plt\n",
    "%matplotlib inline\n",
    "\n",
    "from IPython.display import YouTubeVideo"
   ]
  },
  {
   "cell_type": "markdown",
   "metadata": {},
   "source": [
    "# Lecture 20 Part 3 #"
   ]
  },
  {
   "cell_type": "markdown",
   "metadata": {},
   "source": [
    "# <span style=\"color: darkblue\">Variance of a Sum</span> #"
   ]
  },
  {
   "cell_type": "code",
   "execution_count": 2,
   "metadata": {},
   "outputs": [
    {
     "data": {
      "image/jpeg": "[encoded data removed]",
      "text/html": [
       "\n",
       "        <iframe\n",
       "            width=\"400\"\n",
       "            height=\"300\"\n",
       "            src=\"https://www.youtube.com/embed/d_kRfFDorbo\"\n",
       "            frameborder=\"0\"\n",
       "            allowfullscreen\n",
       "        ></iframe>\n",
       "        "
      ],
      "text/plain": [
       "<IPython.lib.display.YouTubeVideo at 0x1a213112d0>"
      ]
     },
     "execution_count": 2,
     "metadata": {},
     "output_type": "execute_result"
    }
   ],
   "source": [
    "YouTubeVideo(\"d_kRfFDorbo\")"
   ]
  },
  {
   "cell_type": "markdown",
   "metadata": {},
   "source": [
    "Read Slides 34-39. The key takeaway is in Slide 39:\n",
    "\n",
    "$$\n",
    "\\mathbb{V}ar(X+Y) ~ = ~ \\mathbb{V}ar(X) + \\mathbb{V}ar(Y) ~ \\text{if} ~ X \\text{ and } Y \\text{ are independent}\n",
    "$$\n",
    "\n",
    "Skip slides 40-42 (they are discussed at the end of the notebook) and go directly to Slide 43. That way you can get used to the calculations first, and then go back and look at the reason behind the main result."
   ]
  },
  {
   "cell_type": "markdown",
   "metadata": {},
   "source": [
    "# <span style=\"color: darkblue\">Sums of Independent Random Variables</span> #\n",
    "\n",
    "We will establish this later, but for now just accept that **variance is additive if you are adding INDEPENDENT random variables.** It need not be additive otherwise.\n",
    "\n",
    "**Work through Slides 44-48** line by line. In particular, try to get to a point where you can reproduce Slides 45 and 47 yourself, without any references. The variance of an indicator is dervied in Part 2, in the section called \"Alternative Calculation (Slide 30)\". \n",
    "\n",
    "**Question 1:** A bench in a stadium holds 25 people. Assume their weights are independent and identically distributed, each with a mean of 150 pounds and an SD of 40 pounds. Find the expectation and SD of the total weight of the 25 people.\n",
    "\n",
    "<details>\n",
    "    <summary>Answer 1</summary>\n",
    "    3,750 pounds, 200 pounds\n",
    "</details>\n",
    "\n",
    "**Question 2:** Suppose I had deleted just the phrase \"and identically distributed\" from Question 1, leaving everything else as is. Could you still have answered the question, and if so, would the answers have been the same as those you gave above?\n",
    "\n",
    "<details>\n",
    "    <summary>Answer 2</summary>\n",
    "    Yes; same answers\n",
    "</details>"
   ]
  },
  {
   "cell_type": "markdown",
   "metadata": {},
   "source": [
    "# <span style=\"color: darkblue\">Central Limit Theorem</span> #"
   ]
  },
  {
   "cell_type": "markdown",
   "metadata": {},
   "source": [
    "You know the expectation (also known as mean) and variance of an i.i.d. sample sum. But that doesn't tell you the shape of the distribution of the sum.\n",
    "\n",
    "The Central Limit Theorem is a remarkable result is that if the sample size is large, then the distribution of the sum is roughly normal regardless of the underlying distribution of each sampled individual.\n",
    "\n",
    "**Read Slides 50-51.**\n",
    "\n",
    "I wrote a quick-and-dirty function `iid_sum_hist` that draws an empirical histogram of the distribution of $S_n = X_1 + X_2 + \\cdots + X_n$ where $X_1, X_2, \\ldots, X_n$ are i.i.d. and have values in a finite set of integers.\n",
    "\n",
    "You get to specify the distribution of $X_1$. The arguments of `iid_sum_hist` are:\n",
    "\n",
    "- an array of the possible values of $X_1$\n",
    "- an array of the corresponding probabilities\n",
    "- the sample size $n$\n",
    "- the number of times to simulate $S_n$\n",
    "\n",
    "It's common in probability theory to refer to i.i.d. $X_1, X_2, \\ldots, X_n$ as \"copies\" of each other, with the understanding that the copies are made independently (see \"Equality\" at end of Part 1). That explains the title of the plot; apologies for the bad grammar when $n=1$."
   ]
  },
  {
   "cell_type": "code",
   "execution_count": 3,
   "metadata": {},
   "outputs": [],
   "source": [
    "def iid_sum_hist(vals=[0], probs=[1], n=1, repeat=1):\n",
    "    \"\"\"Draws the empirical histogram of the simulated \n",
    "    sum of n i.i.d. draws from \n",
    "    the distribution specified by vals and probs;\n",
    "    number of repetitions = repeat\"\"\"\n",
    "    sums = [np.random.choice(vals, p=probs, size=n).sum() for i in range(repeat)]\n",
    "    a = min(sums)-0.5\n",
    "    b = max(sums)+0.6\n",
    "    int_bins = np.arange(a, b, 1)\n",
    "    plt.figure(figsize=(12, 5))\n",
    "    plt.hist(sums, bins=int_bins, ec='w')\n",
    "    plt.title('Sum of '+str(n)+' IID Copies')\n",
    "    "
   ]
  },
  {
   "cell_type": "markdown",
   "metadata": {},
   "source": [
    "Here's an empirical version of the exact binomial distribution in Slide 48."
   ]
  },
  {
   "cell_type": "code",
   "execution_count": 4,
   "metadata": {},
   "outputs": [
    {
     "data": {
      "image/png": "[encoded data removed]",
      "text/plain": [
       "<Figure size 864x360 with 1 Axes>"
      ]
     },
     "metadata": {
      "needs_background": "light"
     },
     "output_type": "display_data"
    }
   ],
   "source": [
    "iid_sum_hist([0, 1], [0.5, 0.5], 100, 10000)"
   ]
  },
  {
   "cell_type": "markdown",
   "metadata": {},
   "source": [
    "Here are a couple of my favorites, to compare with each other.\n",
    "\n",
    "First up is the uniform distribution on the values 1, 2, and 3.\n",
    "\n",
    "- Set $n=1$ first to make sure you have the right distribution.\n",
    "- Then try $n=10$.\n",
    "\n",
    "What do you notice?"
   ]
  },
  {
   "cell_type": "code",
   "execution_count": 5,
   "metadata": {},
   "outputs": [
    {
     "data": {
      "image/png": "[encoded data removed]",
      "text/plain": [
       "<Figure size 864x360 with 1 Axes>"
      ]
     },
     "metadata": {
      "needs_background": "light"
     },
     "output_type": "display_data"
    }
   ],
   "source": [
    "possible_values = [1, 2, 3]\n",
    "probabilities = np.ones(3)/3\n",
    "iid_sum_hist(possible_values, probabilities, 1, 10000)"
   ]
  },
  {
   "cell_type": "markdown",
   "metadata": {},
   "source": [
    "Next, a small change to the distribution of $X_1$: instead of being uniform on 1, 2, and 3, it's now uniform on 1, 2, and 9. Do the same thing as before:\n",
    "\n",
    "- Set $n=1$ first.\n",
    "- Then set $n=10$."
   ]
  },
  {
   "cell_type": "code",
   "execution_count": 6,
   "metadata": {},
   "outputs": [
    {
     "data": {
      "image/png": "[encoded data removed]",
      "text/plain": [
       "<Figure size 864x360 with 1 Axes>"
      ]
     },
     "metadata": {
      "needs_background": "light"
     },
     "output_type": "display_data"
    }
   ],
   "source": [
    "possible_values = [1, 2, 9]\n",
    "probabilities = np.ones(3)/3\n",
    "iid_sum_hist(possible_values, probabilities, 1, 10000)"
   ]
  },
  {
   "cell_type": "markdown",
   "metadata": {},
   "source": [
    "Not all distributions are smooth! Set $n=25$ to get a stegosaurus.\n",
    "\n",
    "Keep increasing $n$ and you'll see the normal curve begin to appear.\n",
    "\n",
    "At this point you should look at Slide 52."
   ]
  },
  {
   "cell_type": "markdown",
   "metadata": {},
   "source": [
    "# <span style=\"color: darkblue\">IID Sample Sum and Mean</span> #"
   ]
  },
  {
   "cell_type": "markdown",
   "metadata": {},
   "source": [
    "Gotta know their properties. Sums and means make the data science world go round.\n",
    "\n",
    "First note that $\\bar{X}_n$ is \"the mean of the sample of size $n$\". The $n$ denotes the sample size, not the $n$th variable in the list.\n",
    "\n",
    "**Deeply internalize Slides 45 and 54.** Compare and contrast the results for the sum and the mean. Notice:\n",
    "\n",
    "- The distribution of $S_n$ shifts to the right and flattens out as $n$ gets large.\n",
    "- The distribution of $\\bar{X}_n$ always balances at $\\mu$, and gets narrower as $n$ gets large.\n",
    "\n",
    "**Accuracy** (slides 55-56) doesn't come cheap. \n",
    "\n",
    "- To reduce $\\mathbb{SD}(\\bar{X}_n)$ by a factor of 10, you have to multiply the sample size by $10^2 = 100$.\n",
    "- The Square Root Law rephrases this. Look for a graph of $\\frac{\\sigma}{\\sqrt{n}}$ in this [Data 8 section](https://www.inferentialthinking.com/chapters/14/5/Variability_of_the_Sample_Mean.html#The-SD-of-All-the-Sample-Means) and read the subsequent discussion.\n",
    "\n",
    "### Questions ###\n",
    "\n",
    "**Question 3:** Continuing Question 1, let $\\bar{X}_{25}$ be the mean weight of the 25 people. True or false: $\\bar{X}_{25} = 150$ pounds.\n",
    "\n",
    "<details>\n",
    "    <summary>Answer 3</summary>\n",
    "    False\n",
    "</details>\n",
    "\n",
    "**Question 4:** Continuing Question 1, sketch the normal approximation to the distribution of the mean weight of the 25 people. Mark the expectation and SD of the mean weight appropriately on your sketch.\n",
    "\n",
    "<details>\n",
    "    <summary>Answer 4</summary>\n",
    "    Center 150, points of inflection at 142 and 158\n",
    "</details>"
   ]
  },
  {
   "cell_type": "markdown",
   "metadata": {},
   "source": [
    "# <span style=\"color: darkblue\">Covariance and Correlation</span> #"
   ]
  },
  {
   "cell_type": "markdown",
   "metadata": {},
   "source": [
    "This section shows how the addition rule for variance arises.\n",
    "\n",
    "For all $X$ and $Y$,\n",
    "\n",
    "$$\n",
    "\\mathbb{V}ar(X+Y) ~ = ~ \\mathbb{V}ar(X) + \\mathbb{V}ar(Y) + 2\\mathbb{E}((X-\\mathbb{E}(X))(Y-\\mathbb{E}(Y)))\n",
    "$$\n",
    "\n",
    "The cross-product term is called the *covariance* of $X$ and $Y$:\n",
    "\n",
    "$$\n",
    "\\mathbb{C}ov(X, Y) ~ = ~ \\mathbb{E}((X-\\mathbb{E}(X))(Y-\\mathbb{E}(Y)))\n",
    "$$\n",
    "\n",
    "So (Slide 39) we know that\n",
    "\n",
    "$$\n",
    "\\mathbb{V}ar(X+Y) ~ = ~ \\mathbb{V}ar(X) + \\mathbb{V}ar(Y) ~ \\iff ~ \\mathbb{C}ov(X, Y) = 0\n",
    "$$\n",
    "\n",
    "So it's a good idea to examine when $\\mathbb{C}ov(X, Y) = 0$.\n",
    "\n",
    "Slide 41 shows how normalizing the covariance by the two SDs results in the correlation between $X$ and $Y$. The correlation $r(X,Y)$ is the *mean of the product of the variables in standard units*, analogous to the Data 8 definition of correlation for data.\n",
    "\n",
    "So (Slide 42) $\\mathbb{C}ov(X, Y) = 0 ~ \\iff ~ r(X, Y) = 0$.\n",
    "\n",
    "Our result, then, is\n",
    "\n",
    "$$\n",
    "\\mathbb{V}ar(X+Y) ~ = ~ \\mathbb{V}ar(X) + \\mathbb{V}ar(Y) ~ \\iff ~ X \\text{ and } Y \\text{ are uncorrelated}\n",
    "$$\n",
    "\n",
    "It makes sense (and can be proved) that if $X$ and $Y$ are independent, then they are uncorrelated. So the **addition rule for variance** is\n",
    "\n",
    "$$\n",
    "\\mathbb{V}ar(X+Y) ~ = ~ \\mathbb{V}ar(X) + \\mathbb{V}ar(Y) ~ \\text{if} ~ X \\text{ and } Y \\text{ are independent}\n",
    "$$\n",
    "\n",
    "Which, as you can see by scrolling up, is exactly where we started."
   ]
  }
 ],
 "metadata": {
  "kernelspec": {
   "display_name": "Python 3",
   "language": "python",
   "name": "python3"
  },
  "language_info": {
   "codemirror_mode": {
    "name": "ipython",
    "version": 3
   },
   "file_extension": ".py",
   "mimetype": "text/x-python",
   "name": "python",
   "nbconvert_exporter": "python",
   "pygments_lexer": "ipython3",
   "version": "3.7.4"
  }
 },
 "nbformat": 4,
 "nbformat_minor": 2
}
