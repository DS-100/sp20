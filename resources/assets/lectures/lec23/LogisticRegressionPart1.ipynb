{
 "cells": [
  {
   "cell_type": "code",
   "execution_count": 1,
   "metadata": {
    "ExecuteTime": {
     "end_time": "2018-04-02T16:07:17.469577Z",
     "start_time": "2018-04-02T16:07:15.663122Z"
    }
   },
   "outputs": [
    {
     "data": {
      "text/html": [
       "        <script type=\"text/javascript\">\n",
       "        window.PlotlyConfig = {MathJaxConfig: 'local'};\n",
       "        if (window.MathJax) {MathJax.Hub.Config({SVG: {font: \"STIX-Web\"}});}\n",
       "        if (typeof require !== 'undefined') {\n",
       "        require.undef(\"plotly\");\n",
       "        requirejs.config({\n",
       "            paths: {\n",
       "                'plotly': ['https://cdn.plot.ly/plotly-latest.min']\n",
       "            }\n",
       "        });\n",
       "        require(['plotly'], function(Plotly) {\n",
       "            window._Plotly = Plotly;\n",
       "        });\n",
       "        }\n",
       "        </script>\n",
       "        "
      ]
     },
     "metadata": {},
     "output_type": "display_data"
    },
    {
     "data": {
      "text/html": [
       "        <script type=\"text/javascript\">\n",
       "        window.PlotlyConfig = {MathJaxConfig: 'local'};\n",
       "        if (window.MathJax) {MathJax.Hub.Config({SVG: {font: \"STIX-Web\"}});}\n",
       "        if (typeof require !== 'undefined') {\n",
       "        require.undef(\"plotly\");\n",
       "        requirejs.config({\n",
       "            paths: {\n",
       "                'plotly': ['https://cdn.plot.ly/plotly-latest.min']\n",
       "            }\n",
       "        });\n",
       "        require(['plotly'], function(Plotly) {\n",
       "            window._Plotly = Plotly;\n",
       "        });\n",
       "        }\n",
       "        </script>\n",
       "        "
      ]
     },
     "metadata": {},
     "output_type": "display_data"
    }
   ],
   "source": [
    "import numpy as np\n",
    "import pandas as pd\n",
    "import matplotlib.pyplot as plt\n",
    "import seaborn as sns\n",
    "sns.set_context(\"talk\")\n",
    "%matplotlib inline\n",
    "\n",
    "import plotly.offline as py\n",
    "py.init_notebook_mode(connected=True)\n",
    "import plotly.graph_objs as go\n",
    "import plotly.figure_factory as ff\n",
    "import cufflinks as cf\n",
    "cf.set_config_file(offline=False, world_readable=True, theme='ggplot')"
   ]
  },
  {
   "cell_type": "markdown",
   "metadata": {},
   "source": [
    "# Logistic Regression\n",
    "\n",
    "This is the notebook accompanies the lecture on Logistic Regression.\n",
    "\n",
    "Notebook created by [Joseph E. Gonzalez](https://eecs.berkeley.edu/~jegonzal) for DS100."
   ]
  },
  {
   "cell_type": "markdown",
   "metadata": {},
   "source": [
    "# Real Data\n",
    "\n",
    "For this lecture we will use the Wisconsin Breast Cancer Dataset which we can obtain from [scikit learn](http://scikit-learn.org/stable/datasets/index.html#breast-cancer-wisconsin-diagnostic-database).  "
   ]
  },
  {
   "cell_type": "code",
   "execution_count": 2,
   "metadata": {
    "ExecuteTime": {
     "end_time": "2018-04-02T16:07:17.590723Z",
     "start_time": "2018-04-02T16:07:17.472304Z"
    }
   },
   "outputs": [],
   "source": [
    "import sklearn.datasets\n",
    "data_dict = sklearn.datasets.load_breast_cancer()\n",
    "data = pd.DataFrame(data_dict['data'], columns=data_dict['feature_names'])\n",
    "# Target data_dict['target'] = 0 is malignant 1 is benign\n",
    "data['malignant'] = (data_dict['target'] == 0)"
   ]
  },
  {
   "cell_type": "code",
   "execution_count": 3,
   "metadata": {
    "ExecuteTime": {
     "end_time": "2018-04-02T16:07:17.599437Z",
     "start_time": "2018-04-02T16:07:17.593220Z"
    }
   },
   "outputs": [
    {
     "data": {
      "text/plain": [
       "Index(['mean radius', 'mean texture', 'mean perimeter', 'mean area',\n",
       "       'mean smoothness', 'mean compactness', 'mean concavity',\n",
       "       'mean concave points', 'mean symmetry', 'mean fractal dimension',\n",
       "       'radius error', 'texture error', 'perimeter error', 'area error',\n",
       "       'smoothness error', 'compactness error', 'concavity error',\n",
       "       'concave points error', 'symmetry error', 'fractal dimension error',\n",
       "       'worst radius', 'worst texture', 'worst perimeter', 'worst area',\n",
       "       'worst smoothness', 'worst compactness', 'worst concavity',\n",
       "       'worst concave points', 'worst symmetry', 'worst fractal dimension',\n",
       "       'malignant'],\n",
       "      dtype='object')"
      ]
     },
     "execution_count": 3,
     "metadata": {},
     "output_type": "execute_result"
    }
   ],
   "source": [
    "data.columns"
   ]
  },
  {
   "cell_type": "code",
   "execution_count": 4,
   "metadata": {
    "ExecuteTime": {
     "end_time": "2018-04-02T16:07:17.755067Z",
     "start_time": "2018-04-02T16:07:17.601012Z"
    }
   },
   "outputs": [
    {
     "data": {
      "application/vnd.plotly.v1+json": {
       "config": {
        "linkText": "Export to plot.ly",
        "plotlyServerURL": "https://plot.ly",
        "showLink": false
       },
       "data": [
        {
         "mode": "markers",
         "type": "scatter",
         "x": [
          17.99,
          20.57,
          19.69,
          11.42,
          20.29,
          12.45,
          18.25,
          13.71,
          13,
          12.46,
          16.02,
          15.78,
          19.17,
          15.85,
          13.73,
          14.54,
          14.68,
          16.13,
          19.81,
          13.54,
          13.08,
          9.504,
          15.34,
          21.16,
          16.65,
          17.14,
          14.58,
          18.61,
          15.3,
          17.57,
          18.63,
          11.84,
          17.02,
          19.27,
          16.13,
          16.74,
          14.25,
          13.03,
          14.99,
          13.48,
          13.44,
          10.95,
          19.07,
          13.28,
          13.17,
          18.65,
          8.196,
          13.17,
          12.05,
          13.49,
          11.76,
          13.64,
          11.94,
          18.22,
          15.1,
          11.52,
          19.21,
          14.71,
          13.05,
          8.618,
          10.17,
          8.598,
          14.25,
          9.173,
          12.68,
          14.78,
          9.465,
          11.31,
          9.029,
          12.78,
          18.94,
          8.888,
          17.2,
          13.8,
          12.31,
          16.07,
          13.53,
          18.05,
          20.18,
          12.86,
          11.45,
          13.34,
          25.22,
          19.1,
          12,
          18.46,
          14.48,
          19.02,
          12.36,
          14.64,
          14.62,
          15.37,
          13.27,
          13.45,
          15.06,
          20.26,
          12.18,
          9.787,
          11.6,
          14.42,
          13.61,
          6.981,
          12.18,
          9.876,
          10.49,
          13.11,
          11.64,
          12.36,
          22.27,
          11.34,
          9.777,
          12.63,
          14.26,
          10.51,
          8.726,
          11.93,
          8.95,
          14.87,
          15.78,
          17.95,
          11.41,
          18.66,
          24.25,
          14.5,
          13.37,
          13.85,
          13.61,
          19,
          15.1,
          19.79,
          12.19,
          15.46,
          16.16,
          15.71,
          18.45,
          12.77,
          11.71,
          11.43,
          14.95,
          11.28,
          9.738,
          16.11,
          11.43,
          12.9,
          10.75,
          11.9,
          11.8,
          14.95,
          14.44,
          13.74,
          13,
          8.219,
          9.731,
          11.15,
          13.15,
          12.25,
          17.68,
          16.84,
          12.06,
          10.9,
          11.75,
          19.19,
          19.59,
          12.34,
          23.27,
          14.97,
          10.8,
          16.78,
          17.47,
          14.97,
          12.32,
          13.43,
          15.46,
          11.08,
          10.66,
          8.671,
          9.904,
          16.46,
          13.01,
          12.81,
          27.22,
          21.09,
          15.7,
          11.41,
          15.28,
          10.08,
          18.31,
          11.71,
          11.81,
          12.3,
          14.22,
          12.77,
          9.72,
          12.34,
          14.86,
          12.91,
          13.77,
          18.08,
          19.18,
          14.45,
          12.23,
          17.54,
          23.29,
          13.81,
          12.47,
          15.12,
          9.876,
          17.01,
          13.11,
          15.27,
          20.58,
          11.84,
          28.11,
          17.42,
          14.19,
          13.86,
          11.89,
          10.2,
          19.8,
          19.53,
          13.65,
          13.56,
          10.18,
          15.75,
          13.27,
          14.34,
          10.44,
          15,
          12.62,
          12.83,
          17.05,
          11.32,
          11.22,
          20.51,
          9.567,
          14.03,
          23.21,
          20.48,
          14.22,
          17.46,
          13.64,
          12.42,
          11.3,
          13.75,
          19.4,
          10.48,
          13.2,
          12.89,
          10.65,
          11.52,
          20.94,
          11.5,
          19.73,
          17.3,
          19.45,
          13.96,
          19.55,
          15.32,
          15.66,
          15.53,
          20.31,
          17.35,
          17.29,
          15.61,
          17.19,
          20.73,
          10.6,
          13.59,
          12.87,
          10.71,
          14.29,
          11.29,
          21.75,
          9.742,
          17.93,
          11.89,
          11.33,
          18.81,
          13.59,
          13.85,
          19.16,
          11.74,
          19.4,
          16.24,
          12.89,
          12.58,
          11.94,
          12.89,
          11.26,
          11.37,
          14.41,
          14.96,
          12.95,
          11.85,
          12.72,
          13.77,
          10.91,
          11.76,
          14.26,
          10.51,
          19.53,
          12.46,
          20.09,
          10.49,
          11.46,
          11.6,
          13.2,
          9,
          13.5,
          13.05,
          11.7,
          14.61,
          12.76,
          11.54,
          8.597,
          12.49,
          12.18,
          18.22,
          9.042,
          12.43,
          10.25,
          20.16,
          12.86,
          20.34,
          12.2,
          12.67,
          14.11,
          12.03,
          16.27,
          16.26,
          16.03,
          12.98,
          11.22,
          11.25,
          12.3,
          17.06,
          12.99,
          18.77,
          10.05,
          23.51,
          14.42,
          9.606,
          11.06,
          19.68,
          11.71,
          10.26,
          12.06,
          14.76,
          11.47,
          11.95,
          11.66,
          15.75,
          25.73,
          15.08,
          11.14,
          12.56,
          13.05,
          13.87,
          8.878,
          9.436,
          12.54,
          13.3,
          12.76,
          16.5,
          13.4,
          20.44,
          20.2,
          12.21,
          21.71,
          22.01,
          16.35,
          15.19,
          21.37,
          20.64,
          13.69,
          16.17,
          10.57,
          13.46,
          13.66,
          11.08,
          11.27,
          11.04,
          12.05,
          12.39,
          13.28,
          14.6,
          12.21,
          13.88,
          11.27,
          19.55,
          10.26,
          8.734,
          15.49,
          21.61,
          12.1,
          14.06,
          13.51,
          12.8,
          11.06,
          11.8,
          17.91,
          11.93,
          12.96,
          12.94,
          12.34,
          10.94,
          16.14,
          12.85,
          17.99,
          12.27,
          11.36,
          11.04,
          9.397,
          14.99,
          15.13,
          11.89,
          9.405,
          15.5,
          12.7,
          11.16,
          11.57,
          14.69,
          11.61,
          13.66,
          9.742,
          10.03,
          10.48,
          10.8,
          11.13,
          12.72,
          14.9,
          12.4,
          20.18,
          18.82,
          14.86,
          13.98,
          12.87,
          14.04,
          13.85,
          14.02,
          10.97,
          17.27,
          13.78,
          10.57,
          18.03,
          11.99,
          17.75,
          14.8,
          14.53,
          21.1,
          11.87,
          19.59,
          12,
          14.53,
          12.62,
          13.38,
          11.63,
          13.21,
          13,
          9.755,
          17.08,
          27.42,
          14.4,
          11.6,
          13.17,
          13.24,
          13.14,
          9.668,
          17.6,
          11.62,
          9.667,
          12.04,
          14.92,
          12.27,
          10.88,
          12.83,
          14.2,
          13.9,
          11.49,
          16.25,
          12.16,
          13.9,
          13.47,
          13.7,
          15.73,
          12.45,
          14.64,
          19.44,
          11.68,
          16.69,
          12.25,
          17.85,
          18.01,
          12.46,
          13.16,
          14.87,
          12.65,
          12.47,
          18.49,
          20.59,
          15.04,
          13.82,
          12.54,
          23.09,
          9.268,
          9.676,
          12.22,
          11.06,
          16.3,
          15.46,
          11.74,
          14.81,
          13.4,
          14.58,
          15.05,
          11.34,
          18.31,
          19.89,
          12.88,
          12.75,
          9.295,
          24.63,
          11.26,
          13.71,
          9.847,
          8.571,
          13.46,
          12.34,
          13.94,
          12.07,
          11.75,
          11.67,
          13.68,
          20.47,
          10.96,
          20.55,
          14.27,
          11.69,
          7.729,
          7.691,
          11.54,
          14.47,
          14.74,
          13.21,
          13.87,
          13.62,
          10.32,
          10.26,
          9.683,
          10.82,
          10.86,
          11.13,
          12.77,
          9.333,
          12.88,
          10.29,
          10.16,
          9.423,
          14.59,
          11.51,
          14.05,
          11.2,
          15.22,
          20.92,
          21.56,
          20.13,
          16.6,
          20.6,
          7.76
         ],
         "y": [
          1,
          1,
          1,
          1,
          1,
          1,
          1,
          1,
          1,
          1,
          1,
          1,
          1,
          1,
          1,
          1,
          1,
          1,
          1,
          0,
          0,
          0,
          1,
          1,
          1,
          1,
          1,
          1,
          1,
          1,
          1,
          1,
          1,
          1,
          1,
          1,
          1,
          0,
          1,
          1,
          1,
          1,
          1,
          1,
          1,
          1,
          0,
          1,
          0,
          0,
          0,
          0,
          0,
          1,
          1,
          0,
          1,
          1,
          0,
          0,
          0,
          0,
          1,
          0,
          1,
          1,
          0,
          0,
          0,
          0,
          1,
          0,
          1,
          1,
          0,
          1,
          0,
          1,
          1,
          0,
          0,
          0,
          1,
          1,
          0,
          1,
          1,
          1,
          0,
          0,
          0,
          1,
          0,
          0,
          1,
          1,
          0,
          0,
          0,
          1,
          1,
          0,
          0,
          0,
          0,
          1,
          0,
          0,
          1,
          0,
          0,
          0,
          0,
          0,
          0,
          0,
          0,
          1,
          1,
          1,
          0,
          1,
          1,
          0,
          0,
          0,
          1,
          1,
          0,
          1,
          0,
          1,
          1,
          0,
          1,
          1,
          0,
          0,
          1,
          0,
          0,
          1,
          0,
          0,
          0,
          0,
          1,
          0,
          0,
          0,
          0,
          0,
          0,
          0,
          0,
          0,
          1,
          0,
          0,
          0,
          0,
          1,
          1,
          0,
          1,
          0,
          0,
          1,
          1,
          0,
          0,
          1,
          1,
          0,
          0,
          0,
          0,
          1,
          0,
          0,
          1,
          1,
          1,
          0,
          1,
          0,
          1,
          0,
          0,
          0,
          1,
          0,
          0,
          1,
          1,
          0,
          1,
          1,
          1,
          1,
          0,
          1,
          1,
          1,
          0,
          1,
          0,
          1,
          0,
          0,
          1,
          0,
          1,
          1,
          1,
          1,
          0,
          0,
          1,
          1,
          0,
          0,
          0,
          1,
          0,
          0,
          0,
          0,
          0,
          1,
          1,
          0,
          0,
          1,
          0,
          0,
          1,
          1,
          0,
          1,
          0,
          0,
          0,
          0,
          1,
          0,
          0,
          0,
          0,
          0,
          1,
          0,
          1,
          1,
          1,
          1,
          1,
          1,
          1,
          1,
          1,
          1,
          1,
          1,
          1,
          1,
          0,
          0,
          0,
          0,
          0,
          0,
          1,
          0,
          1,
          0,
          0,
          1,
          0,
          0,
          1,
          0,
          1,
          1,
          0,
          0,
          0,
          0,
          0,
          0,
          0,
          0,
          0,
          0,
          0,
          0,
          0,
          1,
          0,
          0,
          1,
          0,
          1,
          0,
          0,
          0,
          0,
          0,
          0,
          0,
          0,
          0,
          0,
          0,
          0,
          0,
          0,
          1,
          0,
          0,
          0,
          1,
          0,
          1,
          0,
          0,
          0,
          0,
          1,
          1,
          1,
          0,
          0,
          0,
          0,
          1,
          0,
          1,
          0,
          1,
          0,
          0,
          0,
          1,
          0,
          0,
          0,
          0,
          0,
          0,
          0,
          1,
          1,
          1,
          0,
          0,
          0,
          0,
          0,
          0,
          0,
          0,
          0,
          0,
          0,
          1,
          1,
          0,
          1,
          1,
          1,
          0,
          1,
          1,
          0,
          0,
          0,
          0,
          0,
          1,
          0,
          0,
          0,
          0,
          0,
          1,
          0,
          0,
          0,
          1,
          0,
          0,
          1,
          1,
          0,
          0,
          0,
          0,
          0,
          0,
          1,
          0,
          0,
          0,
          0,
          0,
          0,
          0,
          1,
          0,
          0,
          0,
          0,
          0,
          1,
          0,
          0,
          1,
          0,
          0,
          0,
          0,
          0,
          0,
          0,
          0,
          0,
          0,
          0,
          0,
          1,
          0,
          1,
          1,
          0,
          1,
          0,
          0,
          0,
          0,
          0,
          1,
          0,
          0,
          1,
          0,
          1,
          0,
          0,
          1,
          0,
          1,
          0,
          0,
          0,
          0,
          0,
          0,
          0,
          0,
          1,
          1,
          0,
          0,
          0,
          0,
          0,
          0,
          1,
          0,
          0,
          0,
          0,
          0,
          0,
          0,
          0,
          0,
          0,
          1,
          0,
          0,
          0,
          0,
          0,
          0,
          0,
          1,
          0,
          1,
          0,
          0,
          1,
          0,
          0,
          0,
          0,
          0,
          1,
          1,
          0,
          1,
          0,
          1,
          0,
          0,
          0,
          0,
          0,
          1,
          0,
          0,
          1,
          0,
          1,
          0,
          1,
          1,
          0,
          0,
          0,
          1,
          0,
          0,
          0,
          0,
          0,
          0,
          0,
          0,
          0,
          0,
          0,
          1,
          0,
          1,
          1,
          0,
          0,
          0,
          0,
          0,
          0,
          0,
          0,
          0,
          0,
          0,
          0,
          0,
          0,
          0,
          0,
          0,
          0,
          0,
          0,
          0,
          0,
          0,
          0,
          0,
          1,
          1,
          1,
          1,
          1,
          1,
          0
         ]
        }
       ],
       "layout": {
        "template": {
         "data": {
          "bar": [
           {
            "error_x": {
             "color": "#2a3f5f"
            },
            "error_y": {
             "color": "#2a3f5f"
            },
            "marker": {
             "line": {
              "color": "#E5ECF6",
              "width": 0.5
             }
            },
            "type": "bar"
           }
          ],
          "barpolar": [
           {
            "marker": {
             "line": {
              "color": "#E5ECF6",
              "width": 0.5
             }
            },
            "type": "barpolar"
           }
          ],
          "carpet": [
           {
            "aaxis": {
             "endlinecolor": "#2a3f5f",
             "gridcolor": "white",
             "linecolor": "white",
             "minorgridcolor": "white",
             "startlinecolor": "#2a3f5f"
            },
            "baxis": {
             "endlinecolor": "#2a3f5f",
             "gridcolor": "white",
             "linecolor": "white",
             "minorgridcolor": "white",
             "startlinecolor": "#2a3f5f"
            },
            "type": "carpet"
           }
          ],
          "choropleth": [
           {
            "colorbar": {
             "outlinewidth": 0,
             "ticks": ""
            },
            "type": "choropleth"
           }
          ],
          "contour": [
           {
            "colorbar": {
             "outlinewidth": 0,
             "ticks": ""
            },
            "colorscale": [
             [
              0,
              "#0d0887"
             ],
             [
              0.1111111111111111,
              "#46039f"
             ],
             [
              0.2222222222222222,
              "#7201a8"
             ],
             [
              0.3333333333333333,
              "#9c179e"
             ],
             [
              0.4444444444444444,
              "#bd3786"
             ],
             [
              0.5555555555555556,
              "#d8576b"
             ],
             [
              0.6666666666666666,
              "#ed7953"
             ],
             [
              0.7777777777777778,
              "#fb9f3a"
             ],
             [
              0.8888888888888888,
              "#fdca26"
             ],
             [
              1,
              "#f0f921"
             ]
            ],
            "type": "contour"
           }
          ],
          "contourcarpet": [
           {
            "colorbar": {
             "outlinewidth": 0,
             "ticks": ""
            },
            "type": "contourcarpet"
           }
          ],
          "heatmap": [
           {
            "colorbar": {
             "outlinewidth": 0,
             "ticks": ""
            },
            "colorscale": [
             [
              0,
              "#0d0887"
             ],
             [
              0.1111111111111111,
              "#46039f"
             ],
             [
              0.2222222222222222,
              "#7201a8"
             ],
             [
              0.3333333333333333,
              "#9c179e"
             ],
             [
              0.4444444444444444,
              "#bd3786"
             ],
             [
              0.5555555555555556,
              "#d8576b"
             ],
             [
              0.6666666666666666,
              "#ed7953"
             ],
             [
              0.7777777777777778,
              "#fb9f3a"
             ],
             [
              0.8888888888888888,
              "#fdca26"
             ],
             [
              1,
              "#f0f921"
             ]
            ],
            "type": "heatmap"
           }
          ],
          "heatmapgl": [
           {
            "colorbar": {
             "outlinewidth": 0,
             "ticks": ""
            },
            "colorscale": [
             [
              0,
              "#0d0887"
             ],
             [
              0.1111111111111111,
              "#46039f"
             ],
             [
              0.2222222222222222,
              "#7201a8"
             ],
             [
              0.3333333333333333,
              "#9c179e"
             ],
             [
              0.4444444444444444,
              "#bd3786"
             ],
             [
              0.5555555555555556,
              "#d8576b"
             ],
             [
              0.6666666666666666,
              "#ed7953"
             ],
             [
              0.7777777777777778,
              "#fb9f3a"
             ],
             [
              0.8888888888888888,
              "#fdca26"
             ],
             [
              1,
              "#f0f921"
             ]
            ],
            "type": "heatmapgl"
           }
          ],
          "histogram": [
           {
            "marker": {
             "colorbar": {
              "outlinewidth": 0,
              "ticks": ""
             }
            },
            "type": "histogram"
           }
          ],
          "histogram2d": [
           {
            "colorbar": {
             "outlinewidth": 0,
             "ticks": ""
            },
            "colorscale": [
             [
              0,
              "#0d0887"
             ],
             [
              0.1111111111111111,
              "#46039f"
             ],
             [
              0.2222222222222222,
              "#7201a8"
             ],
             [
              0.3333333333333333,
              "#9c179e"
             ],
             [
              0.4444444444444444,
              "#bd3786"
             ],
             [
              0.5555555555555556,
              "#d8576b"
             ],
             [
              0.6666666666666666,
              "#ed7953"
             ],
             [
              0.7777777777777778,
              "#fb9f3a"
             ],
             [
              0.8888888888888888,
              "#fdca26"
             ],
             [
              1,
              "#f0f921"
             ]
            ],
            "type": "histogram2d"
           }
          ],
          "histogram2dcontour": [
           {
            "colorbar": {
             "outlinewidth": 0,
             "ticks": ""
            },
            "colorscale": [
             [
              0,
              "#0d0887"
             ],
             [
              0.1111111111111111,
              "#46039f"
             ],
             [
              0.2222222222222222,
              "#7201a8"
             ],
             [
              0.3333333333333333,
              "#9c179e"
             ],
             [
              0.4444444444444444,
              "#bd3786"
             ],
             [
              0.5555555555555556,
              "#d8576b"
             ],
             [
              0.6666666666666666,
              "#ed7953"
             ],
             [
              0.7777777777777778,
              "#fb9f3a"
             ],
             [
              0.8888888888888888,
              "#fdca26"
             ],
             [
              1,
              "#f0f921"
             ]
            ],
            "type": "histogram2dcontour"
           }
          ],
          "mesh3d": [
           {
            "colorbar": {
             "outlinewidth": 0,
             "ticks": ""
            },
            "type": "mesh3d"
           }
          ],
          "parcoords": [
           {
            "line": {
             "colorbar": {
              "outlinewidth": 0,
              "ticks": ""
             }
            },
            "type": "parcoords"
           }
          ],
          "pie": [
           {
            "automargin": true,
            "type": "pie"
           }
          ],
          "scatter": [
           {
            "marker": {
             "colorbar": {
              "outlinewidth": 0,
              "ticks": ""
             }
            },
            "type": "scatter"
           }
          ],
          "scatter3d": [
           {
            "line": {
             "colorbar": {
              "outlinewidth": 0,
              "ticks": ""
             }
            },
            "marker": {
             "colorbar": {
              "outlinewidth": 0,
              "ticks": ""
             }
            },
            "type": "scatter3d"
           }
          ],
          "scattercarpet": [
           {
            "marker": {
             "colorbar": {
              "outlinewidth": 0,
              "ticks": ""
             }
            },
            "type": "scattercarpet"
           }
          ],
          "scattergeo": [
           {
            "marker": {
             "colorbar": {
              "outlinewidth": 0,
              "ticks": ""
             }
            },
            "type": "scattergeo"
           }
          ],
          "scattergl": [
           {
            "marker": {
             "colorbar": {
              "outlinewidth": 0,
              "ticks": ""
             }
            },
            "type": "scattergl"
           }
          ],
          "scattermapbox": [
           {
            "marker": {
             "colorbar": {
              "outlinewidth": 0,
              "ticks": ""
             }
            },
            "type": "scattermapbox"
           }
          ],
          "scatterpolar": [
           {
            "marker": {
             "colorbar": {
              "outlinewidth": 0,
              "ticks": ""
             }
            },
            "type": "scatterpolar"
           }
          ],
          "scatterpolargl": [
           {
            "marker": {
             "colorbar": {
              "outlinewidth": 0,
              "ticks": ""
             }
            },
            "type": "scatterpolargl"
           }
          ],
          "scatterternary": [
           {
            "marker": {
             "colorbar": {
              "outlinewidth": 0,
              "ticks": ""
             }
            },
            "type": "scatterternary"
           }
          ],
          "surface": [
           {
            "colorbar": {
             "outlinewidth": 0,
             "ticks": ""
            },
            "colorscale": [
             [
              0,
              "#0d0887"
             ],
             [
              0.1111111111111111,
              "#46039f"
             ],
             [
              0.2222222222222222,
              "#7201a8"
             ],
             [
              0.3333333333333333,
              "#9c179e"
             ],
             [
              0.4444444444444444,
              "#bd3786"
             ],
             [
              0.5555555555555556,
              "#d8576b"
             ],
             [
              0.6666666666666666,
              "#ed7953"
             ],
             [
              0.7777777777777778,
              "#fb9f3a"
             ],
             [
              0.8888888888888888,
              "#fdca26"
             ],
             [
              1,
              "#f0f921"
             ]
            ],
            "type": "surface"
           }
          ],
          "table": [
           {
            "cells": {
             "fill": {
              "color": "#EBF0F8"
             },
             "line": {
              "color": "white"
             }
            },
            "header": {
             "fill": {
              "color": "#C8D4E3"
             },
             "line": {
              "color": "white"
             }
            },
            "type": "table"
           }
          ]
         },
         "layout": {
          "annotationdefaults": {
           "arrowcolor": "#2a3f5f",
           "arrowhead": 0,
           "arrowwidth": 1
          },
          "coloraxis": {
           "colorbar": {
            "outlinewidth": 0,
            "ticks": ""
           }
          },
          "colorscale": {
           "diverging": [
            [
             0,
             "#8e0152"
            ],
            [
             0.1,
             "#c51b7d"
            ],
            [
             0.2,
             "#de77ae"
            ],
            [
             0.3,
             "#f1b6da"
            ],
            [
             0.4,
             "#fde0ef"
            ],
            [
             0.5,
             "#f7f7f7"
            ],
            [
             0.6,
             "#e6f5d0"
            ],
            [
             0.7,
             "#b8e186"
            ],
            [
             0.8,
             "#7fbc41"
            ],
            [
             0.9,
             "#4d9221"
            ],
            [
             1,
             "#276419"
            ]
           ],
           "sequential": [
            [
             0,
             "#0d0887"
            ],
            [
             0.1111111111111111,
             "#46039f"
            ],
            [
             0.2222222222222222,
             "#7201a8"
            ],
            [
             0.3333333333333333,
             "#9c179e"
            ],
            [
             0.4444444444444444,
             "#bd3786"
            ],
            [
             0.5555555555555556,
             "#d8576b"
            ],
            [
             0.6666666666666666,
             "#ed7953"
            ],
            [
             0.7777777777777778,
             "#fb9f3a"
            ],
            [
             0.8888888888888888,
             "#fdca26"
            ],
            [
             1,
             "#f0f921"
            ]
           ],
           "sequentialminus": [
            [
             0,
             "#0d0887"
            ],
            [
             0.1111111111111111,
             "#46039f"
            ],
            [
             0.2222222222222222,
             "#7201a8"
            ],
            [
             0.3333333333333333,
             "#9c179e"
            ],
            [
             0.4444444444444444,
             "#bd3786"
            ],
            [
             0.5555555555555556,
             "#d8576b"
            ],
            [
             0.6666666666666666,
             "#ed7953"
            ],
            [
             0.7777777777777778,
             "#fb9f3a"
            ],
            [
             0.8888888888888888,
             "#fdca26"
            ],
            [
             1,
             "#f0f921"
            ]
           ]
          },
          "colorway": [
           "#636efa",
           "#EF553B",
           "#00cc96",
           "#ab63fa",
           "#FFA15A",
           "#19d3f3",
           "#FF6692",
           "#B6E880",
           "#FF97FF",
           "#FECB52"
          ],
          "font": {
           "color": "#2a3f5f"
          },
          "geo": {
           "bgcolor": "white",
           "lakecolor": "white",
           "landcolor": "#E5ECF6",
           "showlakes": true,
           "showland": true,
           "subunitcolor": "white"
          },
          "hoverlabel": {
           "align": "left"
          },
          "hovermode": "closest",
          "mapbox": {
           "style": "light"
          },
          "paper_bgcolor": "white",
          "plot_bgcolor": "#E5ECF6",
          "polar": {
           "angularaxis": {
            "gridcolor": "white",
            "linecolor": "white",
            "ticks": ""
           },
           "bgcolor": "#E5ECF6",
           "radialaxis": {
            "gridcolor": "white",
            "linecolor": "white",
            "ticks": ""
           }
          },
          "scene": {
           "xaxis": {
            "backgroundcolor": "#E5ECF6",
            "gridcolor": "white",
            "gridwidth": 2,
            "linecolor": "white",
            "showbackground": true,
            "ticks": "",
            "zerolinecolor": "white"
           },
           "yaxis": {
            "backgroundcolor": "#E5ECF6",
            "gridcolor": "white",
            "gridwidth": 2,
            "linecolor": "white",
            "showbackground": true,
            "ticks": "",
            "zerolinecolor": "white"
           },
           "zaxis": {
            "backgroundcolor": "#E5ECF6",
            "gridcolor": "white",
            "gridwidth": 2,
            "linecolor": "white",
            "showbackground": true,
            "ticks": "",
            "zerolinecolor": "white"
           }
          },
          "shapedefaults": {
           "line": {
            "color": "#2a3f5f"
           }
          },
          "ternary": {
           "aaxis": {
            "gridcolor": "white",
            "linecolor": "white",
            "ticks": ""
           },
           "baxis": {
            "gridcolor": "white",
            "linecolor": "white",
            "ticks": ""
           },
           "bgcolor": "#E5ECF6",
           "caxis": {
            "gridcolor": "white",
            "linecolor": "white",
            "ticks": ""
           }
          },
          "title": {
           "x": 0.05
          },
          "xaxis": {
           "automargin": true,
           "gridcolor": "white",
           "linecolor": "white",
           "ticks": "",
           "title": {
            "standoff": 15
           },
           "zerolinecolor": "white",
           "zerolinewidth": 2
          },
          "yaxis": {
           "automargin": true,
           "gridcolor": "white",
           "linecolor": "white",
           "ticks": "",
           "title": {
            "standoff": 15
           },
           "zerolinecolor": "white",
           "zerolinewidth": 2
          }
         }
        },
        "xaxis": {
         "title": {
          "text": "Mean Radius"
         }
        },
        "yaxis": {
         "title": {
          "text": "Malignant"
         }
        }
       }
      },
      "text/html": [
       "<div>\n",
       "        \n",
       "        \n",
       "            <div id=\"3ad7dac2-13b0-4c6e-8c2a-cecf356cda2a\" class=\"plotly-graph-div\" style=\"height:525px; width:100%;\"></div>\n",
       "            <script type=\"text/javascript\">\n",
       "                require([\"plotly\"], function(Plotly) {\n",
       "                    window.PLOTLYENV=window.PLOTLYENV || {};\n",
       "                    \n",
       "                if (document.getElementById(\"3ad7dac2-13b0-4c6e-8c2a-cecf356cda2a\")) {\n",
       "                    Plotly.newPlot(\n",
       "                        '3ad7dac2-13b0-4c6e-8c2a-cecf356cda2a',\n",
       "                        [{\"mode\": \"markers\", \"type\": \"scatter\", \"x\": [17.99, 20.57, 19.69, 11.42, 20.29, 12.45, 18.25, 13.71, 13.0, 12.46, 16.02, 15.78, 19.17, 15.85, 13.73, 14.54, 14.68, 16.13, 19.81, 13.54, 13.08, 9.504, 15.34, 21.16, 16.65, 17.14, 14.58, 18.61, 15.3, 17.57, 18.63, 11.84, 17.02, 19.27, 16.13, 16.74, 14.25, 13.03, 14.99, 13.48, 13.44, 10.95, 19.07, 13.28, 13.17, 18.65, 8.196, 13.17, 12.05, 13.49, 11.76, 13.64, 11.94, 18.22, 15.1, 11.52, 19.21, 14.71, 13.05, 8.618, 10.17, 8.598, 14.25, 9.173, 12.68, 14.78, 9.465, 11.31, 9.029, 12.78, 18.94, 8.888, 17.2, 13.8, 12.31, 16.07, 13.53, 18.05, 20.18, 12.86, 11.45, 13.34, 25.22, 19.1, 12.0, 18.46, 14.48, 19.02, 12.36, 14.64, 14.62, 15.37, 13.27, 13.45, 15.06, 20.26, 12.18, 9.787, 11.6, 14.42, 13.61, 6.981, 12.18, 9.876, 10.49, 13.11, 11.64, 12.36, 22.27, 11.34, 9.777, 12.63, 14.26, 10.51, 8.726, 11.93, 8.95, 14.87, 15.78, 17.95, 11.41, 18.66, 24.25, 14.5, 13.37, 13.85, 13.61, 19.0, 15.1, 19.79, 12.19, 15.46, 16.16, 15.71, 18.45, 12.77, 11.71, 11.43, 14.95, 11.28, 9.738, 16.11, 11.43, 12.9, 10.75, 11.9, 11.8, 14.95, 14.44, 13.74, 13.0, 8.219, 9.731, 11.15, 13.15, 12.25, 17.68, 16.84, 12.06, 10.9, 11.75, 19.19, 19.59, 12.34, 23.27, 14.97, 10.8, 16.78, 17.47, 14.97, 12.32, 13.43, 15.46, 11.08, 10.66, 8.671, 9.904, 16.46, 13.01, 12.81, 27.22, 21.09, 15.7, 11.41, 15.28, 10.08, 18.31, 11.71, 11.81, 12.3, 14.22, 12.77, 9.72, 12.34, 14.86, 12.91, 13.77, 18.08, 19.18, 14.45, 12.23, 17.54, 23.29, 13.81, 12.47, 15.12, 9.876, 17.01, 13.11, 15.27, 20.58, 11.84, 28.11, 17.42, 14.19, 13.86, 11.89, 10.2, 19.8, 19.53, 13.65, 13.56, 10.18, 15.75, 13.27, 14.34, 10.44, 15.0, 12.62, 12.83, 17.05, 11.32, 11.22, 20.51, 9.567, 14.03, 23.21, 20.48, 14.22, 17.46, 13.64, 12.42, 11.3, 13.75, 19.4, 10.48, 13.2, 12.89, 10.65, 11.52, 20.94, 11.5, 19.73, 17.3, 19.45, 13.96, 19.55, 15.32, 15.66, 15.53, 20.31, 17.35, 17.29, 15.61, 17.19, 20.73, 10.6, 13.59, 12.87, 10.71, 14.29, 11.29, 21.75, 9.742, 17.93, 11.89, 11.33, 18.81, 13.59, 13.85, 19.16, 11.74, 19.4, 16.24, 12.89, 12.58, 11.94, 12.89, 11.26, 11.37, 14.41, 14.96, 12.95, 11.85, 12.72, 13.77, 10.91, 11.76, 14.26, 10.51, 19.53, 12.46, 20.09, 10.49, 11.46, 11.6, 13.2, 9.0, 13.5, 13.05, 11.7, 14.61, 12.76, 11.54, 8.597, 12.49, 12.18, 18.22, 9.042, 12.43, 10.25, 20.16, 12.86, 20.34, 12.2, 12.67, 14.11, 12.03, 16.27, 16.26, 16.03, 12.98, 11.22, 11.25, 12.3, 17.06, 12.99, 18.77, 10.05, 23.51, 14.42, 9.606, 11.06, 19.68, 11.71, 10.26, 12.06, 14.76, 11.47, 11.95, 11.66, 15.75, 25.73, 15.08, 11.14, 12.56, 13.05, 13.87, 8.878, 9.436, 12.54, 13.3, 12.76, 16.5, 13.4, 20.44, 20.2, 12.21, 21.71, 22.01, 16.35, 15.19, 21.37, 20.64, 13.69, 16.17, 10.57, 13.46, 13.66, 11.08, 11.27, 11.04, 12.05, 12.39, 13.28, 14.6, 12.21, 13.88, 11.27, 19.55, 10.26, 8.734, 15.49, 21.61, 12.1, 14.06, 13.51, 12.8, 11.06, 11.8, 17.91, 11.93, 12.96, 12.94, 12.34, 10.94, 16.14, 12.85, 17.99, 12.27, 11.36, 11.04, 9.397, 14.99, 15.13, 11.89, 9.405, 15.5, 12.7, 11.16, 11.57, 14.69, 11.61, 13.66, 9.742, 10.03, 10.48, 10.8, 11.13, 12.72, 14.9, 12.4, 20.18, 18.82, 14.86, 13.98, 12.87, 14.04, 13.85, 14.02, 10.97, 17.27, 13.78, 10.57, 18.03, 11.99, 17.75, 14.8, 14.53, 21.1, 11.87, 19.59, 12.0, 14.53, 12.62, 13.38, 11.63, 13.21, 13.0, 9.755, 17.08, 27.42, 14.4, 11.6, 13.17, 13.24, 13.14, 9.668, 17.6, 11.62, 9.667, 12.04, 14.92, 12.27, 10.88, 12.83, 14.2, 13.9, 11.49, 16.25, 12.16, 13.9, 13.47, 13.7, 15.73, 12.45, 14.64, 19.44, 11.68, 16.69, 12.25, 17.85, 18.01, 12.46, 13.16, 14.87, 12.65, 12.47, 18.49, 20.59, 15.04, 13.82, 12.54, 23.09, 9.268, 9.676, 12.22, 11.06, 16.3, 15.46, 11.74, 14.81, 13.4, 14.58, 15.05, 11.34, 18.31, 19.89, 12.88, 12.75, 9.295, 24.63, 11.26, 13.71, 9.847, 8.571, 13.46, 12.34, 13.94, 12.07, 11.75, 11.67, 13.68, 20.47, 10.96, 20.55, 14.27, 11.69, 7.729, 7.691, 11.54, 14.47, 14.74, 13.21, 13.87, 13.62, 10.32, 10.26, 9.683, 10.82, 10.86, 11.13, 12.77, 9.333, 12.88, 10.29, 10.16, 9.423, 14.59, 11.51, 14.05, 11.2, 15.22, 20.92, 21.56, 20.13, 16.6, 20.6, 7.76], \"y\": [1.0, 1.0, 1.0, 1.0, 1.0, 1.0, 1.0, 1.0, 1.0, 1.0, 1.0, 1.0, 1.0, 1.0, 1.0, 1.0, 1.0, 1.0, 1.0, 0.0, 0.0, 0.0, 1.0, 1.0, 1.0, 1.0, 1.0, 1.0, 1.0, 1.0, 1.0, 1.0, 1.0, 1.0, 1.0, 1.0, 1.0, 0.0, 1.0, 1.0, 1.0, 1.0, 1.0, 1.0, 1.0, 1.0, 0.0, 1.0, 0.0, 0.0, 0.0, 0.0, 0.0, 1.0, 1.0, 0.0, 1.0, 1.0, 0.0, 0.0, 0.0, 0.0, 1.0, 0.0, 1.0, 1.0, 0.0, 0.0, 0.0, 0.0, 1.0, 0.0, 1.0, 1.0, 0.0, 1.0, 0.0, 1.0, 1.0, 0.0, 0.0, 0.0, 1.0, 1.0, 0.0, 1.0, 1.0, 1.0, 0.0, 0.0, 0.0, 1.0, 0.0, 0.0, 1.0, 1.0, 0.0, 0.0, 0.0, 1.0, 1.0, 0.0, 0.0, 0.0, 0.0, 1.0, 0.0, 0.0, 1.0, 0.0, 0.0, 0.0, 0.0, 0.0, 0.0, 0.0, 0.0, 1.0, 1.0, 1.0, 0.0, 1.0, 1.0, 0.0, 0.0, 0.0, 1.0, 1.0, 0.0, 1.0, 0.0, 1.0, 1.0, 0.0, 1.0, 1.0, 0.0, 0.0, 1.0, 0.0, 0.0, 1.0, 0.0, 0.0, 0.0, 0.0, 1.0, 0.0, 0.0, 0.0, 0.0, 0.0, 0.0, 0.0, 0.0, 0.0, 1.0, 0.0, 0.0, 0.0, 0.0, 1.0, 1.0, 0.0, 1.0, 0.0, 0.0, 1.0, 1.0, 0.0, 0.0, 1.0, 1.0, 0.0, 0.0, 0.0, 0.0, 1.0, 0.0, 0.0, 1.0, 1.0, 1.0, 0.0, 1.0, 0.0, 1.0, 0.0, 0.0, 0.0, 1.0, 0.0, 0.0, 1.0, 1.0, 0.0, 1.0, 1.0, 1.0, 1.0, 0.0, 1.0, 1.0, 1.0, 0.0, 1.0, 0.0, 1.0, 0.0, 0.0, 1.0, 0.0, 1.0, 1.0, 1.0, 1.0, 0.0, 0.0, 1.0, 1.0, 0.0, 0.0, 0.0, 1.0, 0.0, 0.0, 0.0, 0.0, 0.0, 1.0, 1.0, 0.0, 0.0, 1.0, 0.0, 0.0, 1.0, 1.0, 0.0, 1.0, 0.0, 0.0, 0.0, 0.0, 1.0, 0.0, 0.0, 0.0, 0.0, 0.0, 1.0, 0.0, 1.0, 1.0, 1.0, 1.0, 1.0, 1.0, 1.0, 1.0, 1.0, 1.0, 1.0, 1.0, 1.0, 1.0, 0.0, 0.0, 0.0, 0.0, 0.0, 0.0, 1.0, 0.0, 1.0, 0.0, 0.0, 1.0, 0.0, 0.0, 1.0, 0.0, 1.0, 1.0, 0.0, 0.0, 0.0, 0.0, 0.0, 0.0, 0.0, 0.0, 0.0, 0.0, 0.0, 0.0, 0.0, 1.0, 0.0, 0.0, 1.0, 0.0, 1.0, 0.0, 0.0, 0.0, 0.0, 0.0, 0.0, 0.0, 0.0, 0.0, 0.0, 0.0, 0.0, 0.0, 0.0, 1.0, 0.0, 0.0, 0.0, 1.0, 0.0, 1.0, 0.0, 0.0, 0.0, 0.0, 1.0, 1.0, 1.0, 0.0, 0.0, 0.0, 0.0, 1.0, 0.0, 1.0, 0.0, 1.0, 0.0, 0.0, 0.0, 1.0, 0.0, 0.0, 0.0, 0.0, 0.0, 0.0, 0.0, 1.0, 1.0, 1.0, 0.0, 0.0, 0.0, 0.0, 0.0, 0.0, 0.0, 0.0, 0.0, 0.0, 0.0, 1.0, 1.0, 0.0, 1.0, 1.0, 1.0, 0.0, 1.0, 1.0, 0.0, 0.0, 0.0, 0.0, 0.0, 1.0, 0.0, 0.0, 0.0, 0.0, 0.0, 1.0, 0.0, 0.0, 0.0, 1.0, 0.0, 0.0, 1.0, 1.0, 0.0, 0.0, 0.0, 0.0, 0.0, 0.0, 1.0, 0.0, 0.0, 0.0, 0.0, 0.0, 0.0, 0.0, 1.0, 0.0, 0.0, 0.0, 0.0, 0.0, 1.0, 0.0, 0.0, 1.0, 0.0, 0.0, 0.0, 0.0, 0.0, 0.0, 0.0, 0.0, 0.0, 0.0, 0.0, 0.0, 1.0, 0.0, 1.0, 1.0, 0.0, 1.0, 0.0, 0.0, 0.0, 0.0, 0.0, 1.0, 0.0, 0.0, 1.0, 0.0, 1.0, 0.0, 0.0, 1.0, 0.0, 1.0, 0.0, 0.0, 0.0, 0.0, 0.0, 0.0, 0.0, 0.0, 1.0, 1.0, 0.0, 0.0, 0.0, 0.0, 0.0, 0.0, 1.0, 0.0, 0.0, 0.0, 0.0, 0.0, 0.0, 0.0, 0.0, 0.0, 0.0, 1.0, 0.0, 0.0, 0.0, 0.0, 0.0, 0.0, 0.0, 1.0, 0.0, 1.0, 0.0, 0.0, 1.0, 0.0, 0.0, 0.0, 0.0, 0.0, 1.0, 1.0, 0.0, 1.0, 0.0, 1.0, 0.0, 0.0, 0.0, 0.0, 0.0, 1.0, 0.0, 0.0, 1.0, 0.0, 1.0, 0.0, 1.0, 1.0, 0.0, 0.0, 0.0, 1.0, 0.0, 0.0, 0.0, 0.0, 0.0, 0.0, 0.0, 0.0, 0.0, 0.0, 0.0, 1.0, 0.0, 1.0, 1.0, 0.0, 0.0, 0.0, 0.0, 0.0, 0.0, 0.0, 0.0, 0.0, 0.0, 0.0, 0.0, 0.0, 0.0, 0.0, 0.0, 0.0, 0.0, 0.0, 0.0, 0.0, 0.0, 0.0, 0.0, 0.0, 1.0, 1.0, 1.0, 1.0, 1.0, 1.0, 0.0]}],\n",
       "                        {\"template\": {\"data\": {\"bar\": [{\"error_x\": {\"color\": \"#2a3f5f\"}, \"error_y\": {\"color\": \"#2a3f5f\"}, \"marker\": {\"line\": {\"color\": \"#E5ECF6\", \"width\": 0.5}}, \"type\": \"bar\"}], \"barpolar\": [{\"marker\": {\"line\": {\"color\": \"#E5ECF6\", \"width\": 0.5}}, \"type\": \"barpolar\"}], \"carpet\": [{\"aaxis\": {\"endlinecolor\": \"#2a3f5f\", \"gridcolor\": \"white\", \"linecolor\": \"white\", \"minorgridcolor\": \"white\", \"startlinecolor\": \"#2a3f5f\"}, \"baxis\": {\"endlinecolor\": \"#2a3f5f\", \"gridcolor\": \"white\", \"linecolor\": \"white\", \"minorgridcolor\": \"white\", \"startlinecolor\": \"#2a3f5f\"}, \"type\": \"carpet\"}], \"choropleth\": [{\"colorbar\": {\"outlinewidth\": 0, \"ticks\": \"\"}, \"type\": \"choropleth\"}], \"contour\": [{\"colorbar\": {\"outlinewidth\": 0, \"ticks\": \"\"}, \"colorscale\": [[0.0, \"#0d0887\"], [0.1111111111111111, \"#46039f\"], [0.2222222222222222, \"#7201a8\"], [0.3333333333333333, \"#9c179e\"], [0.4444444444444444, \"#bd3786\"], [0.5555555555555556, \"#d8576b\"], [0.6666666666666666, \"#ed7953\"], [0.7777777777777778, \"#fb9f3a\"], [0.8888888888888888, \"#fdca26\"], [1.0, \"#f0f921\"]], \"type\": \"contour\"}], \"contourcarpet\": [{\"colorbar\": {\"outlinewidth\": 0, \"ticks\": \"\"}, \"type\": \"contourcarpet\"}], \"heatmap\": [{\"colorbar\": {\"outlinewidth\": 0, \"ticks\": \"\"}, \"colorscale\": [[0.0, \"#0d0887\"], [0.1111111111111111, \"#46039f\"], [0.2222222222222222, \"#7201a8\"], [0.3333333333333333, \"#9c179e\"], [0.4444444444444444, \"#bd3786\"], [0.5555555555555556, \"#d8576b\"], [0.6666666666666666, \"#ed7953\"], [0.7777777777777778, \"#fb9f3a\"], [0.8888888888888888, \"#fdca26\"], [1.0, \"#f0f921\"]], \"type\": \"heatmap\"}], \"heatmapgl\": [{\"colorbar\": {\"outlinewidth\": 0, \"ticks\": \"\"}, \"colorscale\": [[0.0, \"#0d0887\"], [0.1111111111111111, \"#46039f\"], [0.2222222222222222, \"#7201a8\"], [0.3333333333333333, \"#9c179e\"], [0.4444444444444444, \"#bd3786\"], [0.5555555555555556, \"#d8576b\"], [0.6666666666666666, \"#ed7953\"], [0.7777777777777778, \"#fb9f3a\"], [0.8888888888888888, \"#fdca26\"], [1.0, \"#f0f921\"]], \"type\": \"heatmapgl\"}], \"histogram\": [{\"marker\": {\"colorbar\": {\"outlinewidth\": 0, \"ticks\": \"\"}}, \"type\": \"histogram\"}], \"histogram2d\": [{\"colorbar\": {\"outlinewidth\": 0, \"ticks\": \"\"}, \"colorscale\": [[0.0, \"#0d0887\"], [0.1111111111111111, \"#46039f\"], [0.2222222222222222, \"#7201a8\"], [0.3333333333333333, \"#9c179e\"], [0.4444444444444444, \"#bd3786\"], [0.5555555555555556, \"#d8576b\"], [0.6666666666666666, \"#ed7953\"], [0.7777777777777778, \"#fb9f3a\"], [0.8888888888888888, \"#fdca26\"], [1.0, \"#f0f921\"]], \"type\": \"histogram2d\"}], \"histogram2dcontour\": [{\"colorbar\": {\"outlinewidth\": 0, \"ticks\": \"\"}, \"colorscale\": [[0.0, \"#0d0887\"], [0.1111111111111111, \"#46039f\"], [0.2222222222222222, \"#7201a8\"], [0.3333333333333333, \"#9c179e\"], [0.4444444444444444, \"#bd3786\"], [0.5555555555555556, \"#d8576b\"], [0.6666666666666666, \"#ed7953\"], [0.7777777777777778, \"#fb9f3a\"], [0.8888888888888888, \"#fdca26\"], [1.0, \"#f0f921\"]], \"type\": \"histogram2dcontour\"}], \"mesh3d\": [{\"colorbar\": {\"outlinewidth\": 0, \"ticks\": \"\"}, \"type\": \"mesh3d\"}], \"parcoords\": [{\"line\": {\"colorbar\": {\"outlinewidth\": 0, \"ticks\": \"\"}}, \"type\": \"parcoords\"}], \"pie\": [{\"automargin\": true, \"type\": \"pie\"}], \"scatter\": [{\"marker\": {\"colorbar\": {\"outlinewidth\": 0, \"ticks\": \"\"}}, \"type\": \"scatter\"}], \"scatter3d\": [{\"line\": {\"colorbar\": {\"outlinewidth\": 0, \"ticks\": \"\"}}, \"marker\": {\"colorbar\": {\"outlinewidth\": 0, \"ticks\": \"\"}}, \"type\": \"scatter3d\"}], \"scattercarpet\": [{\"marker\": {\"colorbar\": {\"outlinewidth\": 0, \"ticks\": \"\"}}, \"type\": \"scattercarpet\"}], \"scattergeo\": [{\"marker\": {\"colorbar\": {\"outlinewidth\": 0, \"ticks\": \"\"}}, \"type\": \"scattergeo\"}], \"scattergl\": [{\"marker\": {\"colorbar\": {\"outlinewidth\": 0, \"ticks\": \"\"}}, \"type\": \"scattergl\"}], \"scattermapbox\": [{\"marker\": {\"colorbar\": {\"outlinewidth\": 0, \"ticks\": \"\"}}, \"type\": \"scattermapbox\"}], \"scatterpolar\": [{\"marker\": {\"colorbar\": {\"outlinewidth\": 0, \"ticks\": \"\"}}, \"type\": \"scatterpolar\"}], \"scatterpolargl\": [{\"marker\": {\"colorbar\": {\"outlinewidth\": 0, \"ticks\": \"\"}}, \"type\": \"scatterpolargl\"}], \"scatterternary\": [{\"marker\": {\"colorbar\": {\"outlinewidth\": 0, \"ticks\": \"\"}}, \"type\": \"scatterternary\"}], \"surface\": [{\"colorbar\": {\"outlinewidth\": 0, \"ticks\": \"\"}, \"colorscale\": [[0.0, \"#0d0887\"], [0.1111111111111111, \"#46039f\"], [0.2222222222222222, \"#7201a8\"], [0.3333333333333333, \"#9c179e\"], [0.4444444444444444, \"#bd3786\"], [0.5555555555555556, \"#d8576b\"], [0.6666666666666666, \"#ed7953\"], [0.7777777777777778, \"#fb9f3a\"], [0.8888888888888888, \"#fdca26\"], [1.0, \"#f0f921\"]], \"type\": \"surface\"}], \"table\": [{\"cells\": {\"fill\": {\"color\": \"#EBF0F8\"}, \"line\": {\"color\": \"white\"}}, \"header\": {\"fill\": {\"color\": \"#C8D4E3\"}, \"line\": {\"color\": \"white\"}}, \"type\": \"table\"}]}, \"layout\": {\"annotationdefaults\": {\"arrowcolor\": \"#2a3f5f\", \"arrowhead\": 0, \"arrowwidth\": 1}, \"coloraxis\": {\"colorbar\": {\"outlinewidth\": 0, \"ticks\": \"\"}}, \"colorscale\": {\"diverging\": [[0, \"#8e0152\"], [0.1, \"#c51b7d\"], [0.2, \"#de77ae\"], [0.3, \"#f1b6da\"], [0.4, \"#fde0ef\"], [0.5, \"#f7f7f7\"], [0.6, \"#e6f5d0\"], [0.7, \"#b8e186\"], [0.8, \"#7fbc41\"], [0.9, \"#4d9221\"], [1, \"#276419\"]], \"sequential\": [[0.0, \"#0d0887\"], [0.1111111111111111, \"#46039f\"], [0.2222222222222222, \"#7201a8\"], [0.3333333333333333, \"#9c179e\"], [0.4444444444444444, \"#bd3786\"], [0.5555555555555556, \"#d8576b\"], [0.6666666666666666, \"#ed7953\"], [0.7777777777777778, \"#fb9f3a\"], [0.8888888888888888, \"#fdca26\"], [1.0, \"#f0f921\"]], \"sequentialminus\": [[0.0, \"#0d0887\"], [0.1111111111111111, \"#46039f\"], [0.2222222222222222, \"#7201a8\"], [0.3333333333333333, \"#9c179e\"], [0.4444444444444444, \"#bd3786\"], [0.5555555555555556, \"#d8576b\"], [0.6666666666666666, \"#ed7953\"], [0.7777777777777778, \"#fb9f3a\"], [0.8888888888888888, \"#fdca26\"], [1.0, \"#f0f921\"]]}, \"colorway\": [\"#636efa\", \"#EF553B\", \"#00cc96\", \"#ab63fa\", \"#FFA15A\", \"#19d3f3\", \"#FF6692\", \"#B6E880\", \"#FF97FF\", \"#FECB52\"], \"font\": {\"color\": \"#2a3f5f\"}, \"geo\": {\"bgcolor\": \"white\", \"lakecolor\": \"white\", \"landcolor\": \"#E5ECF6\", \"showlakes\": true, \"showland\": true, \"subunitcolor\": \"white\"}, \"hoverlabel\": {\"align\": \"left\"}, \"hovermode\": \"closest\", \"mapbox\": {\"style\": \"light\"}, \"paper_bgcolor\": \"white\", \"plot_bgcolor\": \"#E5ECF6\", \"polar\": {\"angularaxis\": {\"gridcolor\": \"white\", \"linecolor\": \"white\", \"ticks\": \"\"}, \"bgcolor\": \"#E5ECF6\", \"radialaxis\": {\"gridcolor\": \"white\", \"linecolor\": \"white\", \"ticks\": \"\"}}, \"scene\": {\"xaxis\": {\"backgroundcolor\": \"#E5ECF6\", \"gridcolor\": \"white\", \"gridwidth\": 2, \"linecolor\": \"white\", \"showbackground\": true, \"ticks\": \"\", \"zerolinecolor\": \"white\"}, \"yaxis\": {\"backgroundcolor\": \"#E5ECF6\", \"gridcolor\": \"white\", \"gridwidth\": 2, \"linecolor\": \"white\", \"showbackground\": true, \"ticks\": \"\", \"zerolinecolor\": \"white\"}, \"zaxis\": {\"backgroundcolor\": \"#E5ECF6\", \"gridcolor\": \"white\", \"gridwidth\": 2, \"linecolor\": \"white\", \"showbackground\": true, \"ticks\": \"\", \"zerolinecolor\": \"white\"}}, \"shapedefaults\": {\"line\": {\"color\": \"#2a3f5f\"}}, \"ternary\": {\"aaxis\": {\"gridcolor\": \"white\", \"linecolor\": \"white\", \"ticks\": \"\"}, \"baxis\": {\"gridcolor\": \"white\", \"linecolor\": \"white\", \"ticks\": \"\"}, \"bgcolor\": \"#E5ECF6\", \"caxis\": {\"gridcolor\": \"white\", \"linecolor\": \"white\", \"ticks\": \"\"}}, \"title\": {\"x\": 0.05}, \"xaxis\": {\"automargin\": true, \"gridcolor\": \"white\", \"linecolor\": \"white\", \"ticks\": \"\", \"title\": {\"standoff\": 15}, \"zerolinecolor\": \"white\", \"zerolinewidth\": 2}, \"yaxis\": {\"automargin\": true, \"gridcolor\": \"white\", \"linecolor\": \"white\", \"ticks\": \"\", \"title\": {\"standoff\": 15}, \"zerolinecolor\": \"white\", \"zerolinewidth\": 2}}}, \"xaxis\": {\"title\": {\"text\": \"Mean Radius\"}}, \"yaxis\": {\"title\": {\"text\": \"Malignant\"}}},\n",
       "                        {\"responsive\": true}\n",
       "                    ).then(function(){\n",
       "                            \n",
       "var gd = document.getElementById('3ad7dac2-13b0-4c6e-8c2a-cecf356cda2a');\n",
       "var x = new MutationObserver(function (mutations, observer) {{\n",
       "        var display = window.getComputedStyle(gd).display;\n",
       "        if (!display || display === 'none') {{\n",
       "            console.log([gd, 'removed!']);\n",
       "            Plotly.purge(gd);\n",
       "            observer.disconnect();\n",
       "        }}\n",
       "}});\n",
       "\n",
       "// Listen for the removal of the full notebook cells\n",
       "var notebookContainer = gd.closest('#notebook-container');\n",
       "if (notebookContainer) {{\n",
       "    x.observe(notebookContainer, {childList: true});\n",
       "}}\n",
       "\n",
       "// Listen for the clearing of the current output cell\n",
       "var outputEl = gd.closest('.output');\n",
       "if (outputEl) {{\n",
       "    x.observe(outputEl, {childList: true});\n",
       "}}\n",
       "\n",
       "                        })\n",
       "                };\n",
       "                });\n",
       "            </script>\n",
       "        </div>"
      ]
     },
     "metadata": {},
     "output_type": "display_data"
    }
   ],
   "source": [
    "points = go.Scatter(x=data['mean radius'], y = 1.*data['malignant'], mode=\"markers\")\n",
    "layout = dict(xaxis=dict(title=\"Mean Radius\"),yaxis=dict(title=\"Malignant\"))\n",
    "py.iplot(go.Figure(data=[points], layout=layout))"
   ]
  },
  {
   "cell_type": "markdown",
   "metadata": {},
   "source": [
    "This is a clear example of over-plotting.  We can improve the above plot by jittering the data:"
   ]
  },
  {
   "cell_type": "code",
   "execution_count": 5,
   "metadata": {
    "ExecuteTime": {
     "end_time": "2018-04-02T16:07:17.773256Z",
     "start_time": "2018-04-02T16:07:17.757563Z"
    }
   },
   "outputs": [
    {
     "data": {
      "application/vnd.plotly.v1+json": {
       "config": {
        "linkText": "Export to plot.ly",
        "plotlyServerURL": "https://plot.ly",
        "showLink": false
       },
       "data": [
        {
         "marker": {
          "opacity": 0.5
         },
         "mode": "markers",
         "type": "scatter",
         "x": [
          17.99,
          20.57,
          19.69,
          11.42,
          20.29,
          12.45,
          18.25,
          13.71,
          13,
          12.46,
          16.02,
          15.78,
          19.17,
          15.85,
          13.73,
          14.54,
          14.68,
          16.13,
          19.81,
          13.54,
          13.08,
          9.504,
          15.34,
          21.16,
          16.65,
          17.14,
          14.58,
          18.61,
          15.3,
          17.57,
          18.63,
          11.84,
          17.02,
          19.27,
          16.13,
          16.74,
          14.25,
          13.03,
          14.99,
          13.48,
          13.44,
          10.95,
          19.07,
          13.28,
          13.17,
          18.65,
          8.196,
          13.17,
          12.05,
          13.49,
          11.76,
          13.64,
          11.94,
          18.22,
          15.1,
          11.52,
          19.21,
          14.71,
          13.05,
          8.618,
          10.17,
          8.598,
          14.25,
          9.173,
          12.68,
          14.78,
          9.465,
          11.31,
          9.029,
          12.78,
          18.94,
          8.888,
          17.2,
          13.8,
          12.31,
          16.07,
          13.53,
          18.05,
          20.18,
          12.86,
          11.45,
          13.34,
          25.22,
          19.1,
          12,
          18.46,
          14.48,
          19.02,
          12.36,
          14.64,
          14.62,
          15.37,
          13.27,
          13.45,
          15.06,
          20.26,
          12.18,
          9.787,
          11.6,
          14.42,
          13.61,
          6.981,
          12.18,
          9.876,
          10.49,
          13.11,
          11.64,
          12.36,
          22.27,
          11.34,
          9.777,
          12.63,
          14.26,
          10.51,
          8.726,
          11.93,
          8.95,
          14.87,
          15.78,
          17.95,
          11.41,
          18.66,
          24.25,
          14.5,
          13.37,
          13.85,
          13.61,
          19,
          15.1,
          19.79,
          12.19,
          15.46,
          16.16,
          15.71,
          18.45,
          12.77,
          11.71,
          11.43,
          14.95,
          11.28,
          9.738,
          16.11,
          11.43,
          12.9,
          10.75,
          11.9,
          11.8,
          14.95,
          14.44,
          13.74,
          13,
          8.219,
          9.731,
          11.15,
          13.15,
          12.25,
          17.68,
          16.84,
          12.06,
          10.9,
          11.75,
          19.19,
          19.59,
          12.34,
          23.27,
          14.97,
          10.8,
          16.78,
          17.47,
          14.97,
          12.32,
          13.43,
          15.46,
          11.08,
          10.66,
          8.671,
          9.904,
          16.46,
          13.01,
          12.81,
          27.22,
          21.09,
          15.7,
          11.41,
          15.28,
          10.08,
          18.31,
          11.71,
          11.81,
          12.3,
          14.22,
          12.77,
          9.72,
          12.34,
          14.86,
          12.91,
          13.77,
          18.08,
          19.18,
          14.45,
          12.23,
          17.54,
          23.29,
          13.81,
          12.47,
          15.12,
          9.876,
          17.01,
          13.11,
          15.27,
          20.58,
          11.84,
          28.11,
          17.42,
          14.19,
          13.86,
          11.89,
          10.2,
          19.8,
          19.53,
          13.65,
          13.56,
          10.18,
          15.75,
          13.27,
          14.34,
          10.44,
          15,
          12.62,
          12.83,
          17.05,
          11.32,
          11.22,
          20.51,
          9.567,
          14.03,
          23.21,
          20.48,
          14.22,
          17.46,
          13.64,
          12.42,
          11.3,
          13.75,
          19.4,
          10.48,
          13.2,
          12.89,
          10.65,
          11.52,
          20.94,
          11.5,
          19.73,
          17.3,
          19.45,
          13.96,
          19.55,
          15.32,
          15.66,
          15.53,
          20.31,
          17.35,
          17.29,
          15.61,
          17.19,
          20.73,
          10.6,
          13.59,
          12.87,
          10.71,
          14.29,
          11.29,
          21.75,
          9.742,
          17.93,
          11.89,
          11.33,
          18.81,
          13.59,
          13.85,
          19.16,
          11.74,
          19.4,
          16.24,
          12.89,
          12.58,
          11.94,
          12.89,
          11.26,
          11.37,
          14.41,
          14.96,
          12.95,
          11.85,
          12.72,
          13.77,
          10.91,
          11.76,
          14.26,
          10.51,
          19.53,
          12.46,
          20.09,
          10.49,
          11.46,
          11.6,
          13.2,
          9,
          13.5,
          13.05,
          11.7,
          14.61,
          12.76,
          11.54,
          8.597,
          12.49,
          12.18,
          18.22,
          9.042,
          12.43,
          10.25,
          20.16,
          12.86,
          20.34,
          12.2,
          12.67,
          14.11,
          12.03,
          16.27,
          16.26,
          16.03,
          12.98,
          11.22,
          11.25,
          12.3,
          17.06,
          12.99,
          18.77,
          10.05,
          23.51,
          14.42,
          9.606,
          11.06,
          19.68,
          11.71,
          10.26,
          12.06,
          14.76,
          11.47,
          11.95,
          11.66,
          15.75,
          25.73,
          15.08,
          11.14,
          12.56,
          13.05,
          13.87,
          8.878,
          9.436,
          12.54,
          13.3,
          12.76,
          16.5,
          13.4,
          20.44,
          20.2,
          12.21,
          21.71,
          22.01,
          16.35,
          15.19,
          21.37,
          20.64,
          13.69,
          16.17,
          10.57,
          13.46,
          13.66,
          11.08,
          11.27,
          11.04,
          12.05,
          12.39,
          13.28,
          14.6,
          12.21,
          13.88,
          11.27,
          19.55,
          10.26,
          8.734,
          15.49,
          21.61,
          12.1,
          14.06,
          13.51,
          12.8,
          11.06,
          11.8,
          17.91,
          11.93,
          12.96,
          12.94,
          12.34,
          10.94,
          16.14,
          12.85,
          17.99,
          12.27,
          11.36,
          11.04,
          9.397,
          14.99,
          15.13,
          11.89,
          9.405,
          15.5,
          12.7,
          11.16,
          11.57,
          14.69,
          11.61,
          13.66,
          9.742,
          10.03,
          10.48,
          10.8,
          11.13,
          12.72,
          14.9,
          12.4,
          20.18,
          18.82,
          14.86,
          13.98,
          12.87,
          14.04,
          13.85,
          14.02,
          10.97,
          17.27,
          13.78,
          10.57,
          18.03,
          11.99,
          17.75,
          14.8,
          14.53,
          21.1,
          11.87,
          19.59,
          12,
          14.53,
          12.62,
          13.38,
          11.63,
          13.21,
          13,
          9.755,
          17.08,
          27.42,
          14.4,
          11.6,
          13.17,
          13.24,
          13.14,
          9.668,
          17.6,
          11.62,
          9.667,
          12.04,
          14.92,
          12.27,
          10.88,
          12.83,
          14.2,
          13.9,
          11.49,
          16.25,
          12.16,
          13.9,
          13.47,
          13.7,
          15.73,
          12.45,
          14.64,
          19.44,
          11.68,
          16.69,
          12.25,
          17.85,
          18.01,
          12.46,
          13.16,
          14.87,
          12.65,
          12.47,
          18.49,
          20.59,
          15.04,
          13.82,
          12.54,
          23.09,
          9.268,
          9.676,
          12.22,
          11.06,
          16.3,
          15.46,
          11.74,
          14.81,
          13.4,
          14.58,
          15.05,
          11.34,
          18.31,
          19.89,
          12.88,
          12.75,
          9.295,
          24.63,
          11.26,
          13.71,
          9.847,
          8.571,
          13.46,
          12.34,
          13.94,
          12.07,
          11.75,
          11.67,
          13.68,
          20.47,
          10.96,
          20.55,
          14.27,
          11.69,
          7.729,
          7.691,
          11.54,
          14.47,
          14.74,
          13.21,
          13.87,
          13.62,
          10.32,
          10.26,
          9.683,
          10.82,
          10.86,
          11.13,
          12.77,
          9.333,
          12.88,
          10.29,
          10.16,
          9.423,
          14.59,
          11.51,
          14.05,
          11.2,
          15.22,
          20.92,
          21.56,
          20.13,
          16.6,
          20.6,
          7.76
         ],
         "y": [
          1.009088516804153,
          0.9509276958457782,
          1.0176422978366226,
          0.965624250585494,
          0.9752433653640755,
          0.9806834206133657,
          1.00721152411865,
          0.9756317904305143,
          1.014677640228897,
          0.997336985817957,
          1.0444448739714962,
          1.045514367492926,
          0.969603732780026,
          0.951810524787581,
          1.0362072326329972,
          1.0034616188352645,
          0.9567735174556495,
          0.9807543375042864,
          1.0248651873845915,
          -0.018822302974184912,
          0.01229877846782046,
          0.006166627544947886,
          0.971923340278664,
          1.0333865427930269,
          0.9863523082026748,
          1.04133456203497,
          1.02929698105092,
          1.0277072440756632,
          0.9618283112814023,
          1.03882070752325,
          1.0303017556630512,
          0.9580256316084055,
          1.022204850179393,
          0.9617468177837047,
          1.0049405121311161,
          0.9837123559230065,
          0.951236418999472,
          0.0004024162130554232,
          0.9590172102850449,
          0.971508877752145,
          0.9890701514129945,
          1.0283966943824063,
          1.031747641619117,
          0.9578563519927836,
          0.9688345473038529,
          0.9943260210440634,
          -0.01964894547019478,
          0.969931567505083,
          0.04816385058127973,
          0.0433207266013341,
          0.0036664159896628717,
          -0.015301698900527405,
          -0.010151079817310227,
          1.0054300294768412,
          1.038789919167469,
          0.02224119659353438,
          0.9548124044787627,
          1.0220898573226556,
          -0.019046463968958496,
          0.027029108733705703,
          -0.0035460958252721345,
          0.03252640365774752,
          1.0404928602575205,
          -0.047211883049513806,
          1.0236066343607502,
          0.9834425947472998,
          -0.020540018834179496,
          -0.0127304519792159,
          0.0422841220077179,
          0.019316353889967317,
          1.0363697200420559,
          -0.01777865162653776,
          1.0165741565319717,
          0.9879381258441273,
          0.018013439951923227,
          0.9544808249772712,
          0.003607976469117022,
          0.9854880075423798,
          0.9818448525649135,
          -0.027279929043135545,
          0.032308101399369044,
          -0.0165407503553653,
          1.0204142670532907,
          0.9658685756647678,
          -0.045406084751710464,
          0.9713036567121629,
          0.9704730316331496,
          1.0172537282285077,
          -0.03824189327145399,
          -0.0429076103749467,
          -0.011816299378582959,
          0.9725484184231337,
          -0.01443424132151827,
          0.0074039565173711006,
          0.9741866261689478,
          1.01316357180273,
          -0.04444878858308729,
          -0.008130760536981994,
          -0.027432751124559798,
          0.9902081715544393,
          1.0418964599858571,
          -0.0063043018664880185,
          0.029302540906064004,
          -0.048438941247199434,
          0.03162410607896797,
          1.037284591599041,
          -0.046171421807754534,
          0.0132207246301361,
          0.9943923536241732,
          0.024686802977361838,
          0.045476488357567624,
          -0.013991018675366021,
          -0.004136746944641265,
          0.03496383725560062,
          -0.021760925796194586,
          -0.04176014556216622,
          0.04729707084937512,
          1.0195388157764083,
          0.9690802208660896,
          1.0209250884737247,
          -0.03831224767956351,
          1.033967803406065,
          1.0114081238196735,
          0.0028107926291388793,
          -0.00835825754195766,
          0.017415467931216566,
          0.9926063809745935,
          1.0147255690656543,
          0.02468625747940062,
          0.9628426221209658,
          0.03559738469855636,
          1.0430988470081433,
          1.033889220837239,
          0.0331438908059347,
          1.0267528752397868,
          1.0069589801955123,
          -0.0041725860734568646,
          -0.02924381786317214,
          1.0072947540718633,
          -0.010365967065938356,
          0.015341890007266115,
          1.0198636247890338,
          -0.028172006049908906,
          0.0006505454723127607,
          -0.030596567582252633,
          -0.010751699724992993,
          1.023228064655618,
          -0.019656185595772105,
          0.0023321123568770252,
          0.009996468293631586,
          -0.018316135423621885,
          0.016410001149289755,
          -0.015201632481685892,
          0.02805109281034622,
          0.024604331561826898,
          0.03478130766507706,
          0.992519930902839,
          0.009447358842468757,
          -0.041062814262630344,
          -0.018039254023781884,
          0.007770943636034998,
          1.0338915518970884,
          0.9711973219024668,
          -0.030019864472474414,
          0.9764252204610471,
          -0.033292066830056505,
          -0.01780936070827418,
          0.9955203723547992,
          0.9811048318413989,
          0.017146656552072148,
          0.008489312456833077,
          1.0188598337719124,
          1.0141355120597204,
          0.03390055818421232,
          0.043228986899789004,
          0.003025159145836051,
          0.035577508823805004,
          0.9529622123816652,
          -0.04166953619078006,
          0.04526124412635338,
          0.9517471751850715,
          1.0024028595004266,
          0.9749291780522096,
          -0.036229851966954045,
          0.9681827421513971,
          -0.04786243216161386,
          0.9588838031839992,
          -0.038255205278863204,
          -0.04486014807213713,
          0.008098562356139725,
          0.9956381217068431,
          0.02657289182009427,
          0.005525049910722869,
          0.9878223318130093,
          1.0255265297248481,
          0.021565654186139177,
          0.974111419333513,
          1.0199266413005907,
          0.9829859663221541,
          1.006313838953343,
          -0.029817617331412652,
          0.9789489864267189,
          0.9560834742106368,
          1.011328395604756,
          0.008136132822209229,
          0.9765755430584504,
          0.021939783153882633,
          1.032274465309396,
          -0.049660892050015115,
          -0.004434532334191485,
          0.9805773367183261,
          -0.005121078185665054,
          1.0388314686368059,
          0.9635363098698657,
          1.0143671387804465,
          0.9851088598305484,
          0.009383725042051518,
          -0.03796634302867712,
          1.036554639200841,
          0.9990881890579402,
          -0.00040305798314774904,
          0.03437450494027332,
          -0.01728993709185058,
          0.995335578829299,
          0.006811766477870199,
          -0.04148791521358374,
          -0.0054257903053835585,
          -0.04024064538676273,
          -0.023041049111257518,
          1.0118201383693621,
          1.03637873968433,
          0.006131059833962761,
          -0.049733319696794155,
          0.954214384986604,
          -0.03441380521153761,
          -0.02173949576772545,
          0.9851084718603362,
          0.975662738361502,
          -0.041595559112080516,
          0.9907608849595719,
          0.032254708897762926,
          -0.04677172497965468,
          0.02699439436238174,
          -0.032894299102836505,
          0.9837430492169663,
          0.002378843045338516,
          -0.011083515563905098,
          -0.0029493020904026376,
          0.04472048345066536,
          0.04760548362568022,
          1.0497827100467296,
          -0.015800602341058546,
          1.0495127829170587,
          0.9767834989230508,
          1.0472440438524355,
          0.9884003725075603,
          0.982644606887833,
          1.0210817264192613,
          0.9564980782893553,
          1.0281635341636182,
          0.9750096775879553,
          0.9875756720596629,
          1.022134677620412,
          1.0444229226686508,
          1.0467479865115379,
          1.0296688637689366,
          0.010413102855992576,
          -0.03491744154291485,
          0.02669276450371791,
          0.023042834829039294,
          -0.04128913276637272,
          0.013903111151177691,
          1.0057914488857667,
          0.028680278252023128,
          0.9951199427792958,
          0.04682486638909833,
          -0.04030571517106507,
          1.023654644093106,
          -0.048866425743824195,
          0.01649724046334318,
          0.9815953310268033,
          0.012287611155976631,
          1.013568523801997,
          0.9636008398003961,
          0.0030018055915233544,
          -0.01586998712055593,
          -0.025103155534053193,
          -0.03955098651192356,
          0.025926607930206944,
          0.034864164367654465,
          0.042520046553479504,
          -0.013015688999469692,
          -0.007908825657198526,
          0.014980217878324181,
          0.035825704508736775,
          -0.04166314118028829,
          0.02613246701216844,
          1.0440522874891767,
          -0.0419760779603767,
          0.01583192867699154,
          0.9997331271692369,
          -0.009817303415186163,
          0.9553584351316751,
          0.014669057581795764,
          -0.006724183521908657,
          0.038836306064244555,
          -0.037246029744742275,
          0.03875847969047659,
          -0.018805579974776422,
          0.01925360151024154,
          -0.015689943310395818,
          -0.03787076237217717,
          -0.04429679345276229,
          0.03272022451992769,
          0.03275669290779462,
          -0.048672721862541915,
          0.015357735027505384,
          1.02610250301069,
          0.015374392242626156,
          -0.02022215225887484,
          0.029763888953013837,
          1.0023668128117442,
          -0.044852754309658065,
          1.0170170975161457,
          -0.00793066704535935,
          -0.03865695334928947,
          -0.0168718953176066,
          -0.009894803144374353,
          1.026169165825338,
          0.9885061064706537,
          0.9776275894452737,
          0.0021137556663802237,
          0.02141448443501756,
          0.02219283959384402,
          0.03877768409183589,
          0.975546372738199,
          0.04936891976192863,
          0.952908765444449,
          -0.025609343617974834,
          0.9847411549603071,
          0.01856135739941092,
          -0.023728281895250492,
          -0.007288496901063993,
          0.9840369022486841,
          0.02399340516900139,
          0.004612503422124069,
          0.04726763026851136,
          -0.025902279288896504,
          -0.026157465766573962,
          -0.044730210822879694,
          -0.01751432886683081,
          0.9564290294865905,
          1.0402035458885055,
          0.9685529100364707,
          -0.04813946117442262,
          -0.024638357248541565,
          -0.018468654516339944,
          0.011952924133203292,
          0.0009129815485483389,
          0.040808333857759324,
          -0.0031247153180594886,
          -0.04321718467823944,
          -0.043704545302280545,
          0.04201406143644111,
          -0.004462899916060005,
          1.003357676821567,
          0.9905223999722417,
          -0.0021903788347009887,
          0.9991258349145353,
          0.9813805514573588,
          1.0067617400379596,
          0.04849297594655948,
          0.9986666491291742,
          1.0494984712818876,
          -0.028811400668617284,
          -0.04355308782487425,
          0.001015989212535054,
          -0.04827847811110815,
          -0.005169422375331245,
          0.9654476431255534,
          0.03322053247520798,
          -0.03169463692821127,
          0.04520602316069171,
          -0.005712446906422461,
          0.02553543634287797,
          0.9799838941494619,
          0.017593293297194085,
          -0.024974362523194172,
          -0.045332790511302026,
          0.9657247942953784,
          -0.01997979354762315,
          -0.009610736432830912,
          1.0111105184394893,
          1.016560609120655,
          -0.015449372199413357,
          0.018371081540936335,
          -0.027755720618993198,
          0.019224746936281234,
          -0.005982473751519543,
          0.00810161675932751,
          1.0489983662582139,
          -0.016799521953087704,
          -0.029609597299055813,
          0.027891288332282146,
          -0.04776621922178979,
          0.018682879231799746,
          -0.041483571603667585,
          -0.0010982478197569048,
          0.9849590745196888,
          0.020771244940965078,
          0.0298448124507633,
          -0.00046964751895391815,
          -0.04931995675091673,
          -0.00343883657203551,
          1.0116598833854538,
          -0.027692348970058813,
          -0.018167153962024042,
          0.9832327220008406,
          0.0028799196479470032,
          0.023343257858592953,
          0.0483388573226983,
          0.003982795600398714,
          -0.040139694884079036,
          -0.02025579430754797,
          -0.02454866553455101,
          0.007465134291315359,
          -0.04908755882783977,
          -0.016044614943925194,
          -0.007701790931232563,
          0.021057420248152325,
          1.0464497704469533,
          -0.018925694339091217,
          1.0296228664340494,
          0.9540144249368141,
          -0.038295278078821285,
          0.9642298191030567,
          -0.02079745932212972,
          -0.02676612484457014,
          0.022711849778978152,
          0.04340897727850489,
          -0.002175521716899456,
          1.0081689214386917,
          0.014781269227064714,
          -0.040259826514589016,
          1.02768471080944,
          -0.0212959512633768,
          0.9929623868557593,
          -0.036325690915740276,
          0.01154739682601228,
          1.0120549784598218,
          0.04274503096886778,
          1.0394416522878827,
          -0.04677590838297692,
          0.014957057790115441,
          0.0047685677354238135,
          -0.02676102888171803,
          0.04326302426246881,
          -0.03373867963260664,
          -0.049377783440969186,
          0.025698575687549005,
          1.0265753814760452,
          0.9540251761647667,
          0.001956027145522586,
          -0.032090302347987376,
          0.04245769222111263,
          -0.01021681867363984,
          0.016107092843961557,
          0.025268628629875875,
          1.0432694736143373,
          -0.021284082450137312,
          -0.0472116195909303,
          -0.020257469165364552,
          -0.018917114469922416,
          -0.034620923496702254,
          0.0033489302271186294,
          0.042961938210487896,
          0.004016873278684573,
          0.008620059767470156,
          0.0273968189921273,
          0.9526021158745275,
          0.03420771832988377,
          0.04325791104178425,
          -0.04830666190292542,
          0.007326771252375151,
          0.01711507700489294,
          -0.04299912537205837,
          0.011358667997953584,
          0.9972396627227973,
          0.023704122282106915,
          1.04892376842426,
          -0.015137214439766747,
          -0.04239739714209628,
          1.028468923616095,
          0.024455446826723876,
          -0.025785250399987115,
          -0.04923202868394431,
          0.0058635799933363444,
          -0.04517896594033319,
          1.0005878780263573,
          1.0096024873565697,
          -0.005409604803442637,
          1.0069823777813711,
          0.02765684378873899,
          0.9798494278393863,
          0.016675038824407004,
          -0.04817528423285862,
          0.009934645043732947,
          -0.009874919052840304,
          -0.02758965578970615,
          0.9859034614362432,
          0.03470007411251681,
          -0.012688553683637575,
          1.0354093412780356,
          -0.03029595249097643,
          1.0371702344270777,
          -0.029670850437861065,
          0.9508694715524946,
          0.9615843130800017,
          -0.024488343940124713,
          -0.03155156927449002,
          0.007741155779467511,
          0.9672208560102087,
          0.02110870474121143,
          -0.038963090934418014,
          -0.02506538494701558,
          -0.007695170763785918,
          0.02377169596633466,
          -0.014684426365181281,
          0.029602587667443364,
          0.03270617322645697,
          -0.039759897385447066,
          -0.00302766751803861,
          -0.03473887956610714,
          1.035737242810973,
          -0.04463979737532097,
          0.9991798666746357,
          1.042124253885977,
          -0.0002991339429143855,
          -0.025767335160942675,
          0.0438755685061224,
          -0.03281615297037624,
          0.03588895193289442,
          0.031035061830436764,
          -0.02024176263836043,
          0.04768940609248022,
          -0.002274147796434166,
          0.033458120879254524,
          -0.035424752808483964,
          -0.01934250109428838,
          -0.04563410070652716,
          -0.028888604724107116,
          0.039186320954770926,
          0.02522692914215456,
          -0.013018689842772727,
          -0.0013724409932218545,
          0.004956624258063071,
          -0.01837905294513819,
          0.044343248312616004,
          -0.01956173800201229,
          0.029118033570999027,
          0.02224600662008394,
          -0.04017541844867927,
          1.0487631428752537,
          1.030978108103245,
          0.9734512322365412,
          0.9664626690278217,
          0.9678489442900873,
          0.9728619317508691,
          0.043002241698384944
         ]
        }
       ],
       "layout": {
        "template": {
         "data": {
          "bar": [
           {
            "error_x": {
             "color": "#2a3f5f"
            },
            "error_y": {
             "color": "#2a3f5f"
            },
            "marker": {
             "line": {
              "color": "#E5ECF6",
              "width": 0.5
             }
            },
            "type": "bar"
           }
          ],
          "barpolar": [
           {
            "marker": {
             "line": {
              "color": "#E5ECF6",
              "width": 0.5
             }
            },
            "type": "barpolar"
           }
          ],
          "carpet": [
           {
            "aaxis": {
             "endlinecolor": "#2a3f5f",
             "gridcolor": "white",
             "linecolor": "white",
             "minorgridcolor": "white",
             "startlinecolor": "#2a3f5f"
            },
            "baxis": {
             "endlinecolor": "#2a3f5f",
             "gridcolor": "white",
             "linecolor": "white",
             "minorgridcolor": "white",
             "startlinecolor": "#2a3f5f"
            },
            "type": "carpet"
           }
          ],
          "choropleth": [
           {
            "colorbar": {
             "outlinewidth": 0,
             "ticks": ""
            },
            "type": "choropleth"
           }
          ],
          "contour": [
           {
            "colorbar": {
             "outlinewidth": 0,
             "ticks": ""
            },
            "colorscale": [
             [
              0,
              "#0d0887"
             ],
             [
              0.1111111111111111,
              "#46039f"
             ],
             [
              0.2222222222222222,
              "#7201a8"
             ],
             [
              0.3333333333333333,
              "#9c179e"
             ],
             [
              0.4444444444444444,
              "#bd3786"
             ],
             [
              0.5555555555555556,
              "#d8576b"
             ],
             [
              0.6666666666666666,
              "#ed7953"
             ],
             [
              0.7777777777777778,
              "#fb9f3a"
             ],
             [
              0.8888888888888888,
              "#fdca26"
             ],
             [
              1,
              "#f0f921"
             ]
            ],
            "type": "contour"
           }
          ],
          "contourcarpet": [
           {
            "colorbar": {
             "outlinewidth": 0,
             "ticks": ""
            },
            "type": "contourcarpet"
           }
          ],
          "heatmap": [
           {
            "colorbar": {
             "outlinewidth": 0,
             "ticks": ""
            },
            "colorscale": [
             [
              0,
              "#0d0887"
             ],
             [
              0.1111111111111111,
              "#46039f"
             ],
             [
              0.2222222222222222,
              "#7201a8"
             ],
             [
              0.3333333333333333,
              "#9c179e"
             ],
             [
              0.4444444444444444,
              "#bd3786"
             ],
             [
              0.5555555555555556,
              "#d8576b"
             ],
             [
              0.6666666666666666,
              "#ed7953"
             ],
             [
              0.7777777777777778,
              "#fb9f3a"
             ],
             [
              0.8888888888888888,
              "#fdca26"
             ],
             [
              1,
              "#f0f921"
             ]
            ],
            "type": "heatmap"
           }
          ],
          "heatmapgl": [
           {
            "colorbar": {
             "outlinewidth": 0,
             "ticks": ""
            },
            "colorscale": [
             [
              0,
              "#0d0887"
             ],
             [
              0.1111111111111111,
              "#46039f"
             ],
             [
              0.2222222222222222,
              "#7201a8"
             ],
             [
              0.3333333333333333,
              "#9c179e"
             ],
             [
              0.4444444444444444,
              "#bd3786"
             ],
             [
              0.5555555555555556,
              "#d8576b"
             ],
             [
              0.6666666666666666,
              "#ed7953"
             ],
             [
              0.7777777777777778,
              "#fb9f3a"
             ],
             [
              0.8888888888888888,
              "#fdca26"
             ],
             [
              1,
              "#f0f921"
             ]
            ],
            "type": "heatmapgl"
           }
          ],
          "histogram": [
           {
            "marker": {
             "colorbar": {
              "outlinewidth": 0,
              "ticks": ""
             }
            },
            "type": "histogram"
           }
          ],
          "histogram2d": [
           {
            "colorbar": {
             "outlinewidth": 0,
             "ticks": ""
            },
            "colorscale": [
             [
              0,
              "#0d0887"
             ],
             [
              0.1111111111111111,
              "#46039f"
             ],
             [
              0.2222222222222222,
              "#7201a8"
             ],
             [
              0.3333333333333333,
              "#9c179e"
             ],
             [
              0.4444444444444444,
              "#bd3786"
             ],
             [
              0.5555555555555556,
              "#d8576b"
             ],
             [
              0.6666666666666666,
              "#ed7953"
             ],
             [
              0.7777777777777778,
              "#fb9f3a"
             ],
             [
              0.8888888888888888,
              "#fdca26"
             ],
             [
              1,
              "#f0f921"
             ]
            ],
            "type": "histogram2d"
           }
          ],
          "histogram2dcontour": [
           {
            "colorbar": {
             "outlinewidth": 0,
             "ticks": ""
            },
            "colorscale": [
             [
              0,
              "#0d0887"
             ],
             [
              0.1111111111111111,
              "#46039f"
             ],
             [
              0.2222222222222222,
              "#7201a8"
             ],
             [
              0.3333333333333333,
              "#9c179e"
             ],
             [
              0.4444444444444444,
              "#bd3786"
             ],
             [
              0.5555555555555556,
              "#d8576b"
             ],
             [
              0.6666666666666666,
              "#ed7953"
             ],
             [
              0.7777777777777778,
              "#fb9f3a"
             ],
             [
              0.8888888888888888,
              "#fdca26"
             ],
             [
              1,
              "#f0f921"
             ]
            ],
            "type": "histogram2dcontour"
           }
          ],
          "mesh3d": [
           {
            "colorbar": {
             "outlinewidth": 0,
             "ticks": ""
            },
            "type": "mesh3d"
           }
          ],
          "parcoords": [
           {
            "line": {
             "colorbar": {
              "outlinewidth": 0,
              "ticks": ""
             }
            },
            "type": "parcoords"
           }
          ],
          "pie": [
           {
            "automargin": true,
            "type": "pie"
           }
          ],
          "scatter": [
           {
            "marker": {
             "colorbar": {
              "outlinewidth": 0,
              "ticks": ""
             }
            },
            "type": "scatter"
           }
          ],
          "scatter3d": [
           {
            "line": {
             "colorbar": {
              "outlinewidth": 0,
              "ticks": ""
             }
            },
            "marker": {
             "colorbar": {
              "outlinewidth": 0,
              "ticks": ""
             }
            },
            "type": "scatter3d"
           }
          ],
          "scattercarpet": [
           {
            "marker": {
             "colorbar": {
              "outlinewidth": 0,
              "ticks": ""
             }
            },
            "type": "scattercarpet"
           }
          ],
          "scattergeo": [
           {
            "marker": {
             "colorbar": {
              "outlinewidth": 0,
              "ticks": ""
             }
            },
            "type": "scattergeo"
           }
          ],
          "scattergl": [
           {
            "marker": {
             "colorbar": {
              "outlinewidth": 0,
              "ticks": ""
             }
            },
            "type": "scattergl"
           }
          ],
          "scattermapbox": [
           {
            "marker": {
             "colorbar": {
              "outlinewidth": 0,
              "ticks": ""
             }
            },
            "type": "scattermapbox"
           }
          ],
          "scatterpolar": [
           {
            "marker": {
             "colorbar": {
              "outlinewidth": 0,
              "ticks": ""
             }
            },
            "type": "scatterpolar"
           }
          ],
          "scatterpolargl": [
           {
            "marker": {
             "colorbar": {
              "outlinewidth": 0,
              "ticks": ""
             }
            },
            "type": "scatterpolargl"
           }
          ],
          "scatterternary": [
           {
            "marker": {
             "colorbar": {
              "outlinewidth": 0,
              "ticks": ""
             }
            },
            "type": "scatterternary"
           }
          ],
          "surface": [
           {
            "colorbar": {
             "outlinewidth": 0,
             "ticks": ""
            },
            "colorscale": [
             [
              0,
              "#0d0887"
             ],
             [
              0.1111111111111111,
              "#46039f"
             ],
             [
              0.2222222222222222,
              "#7201a8"
             ],
             [
              0.3333333333333333,
              "#9c179e"
             ],
             [
              0.4444444444444444,
              "#bd3786"
             ],
             [
              0.5555555555555556,
              "#d8576b"
             ],
             [
              0.6666666666666666,
              "#ed7953"
             ],
             [
              0.7777777777777778,
              "#fb9f3a"
             ],
             [
              0.8888888888888888,
              "#fdca26"
             ],
             [
              1,
              "#f0f921"
             ]
            ],
            "type": "surface"
           }
          ],
          "table": [
           {
            "cells": {
             "fill": {
              "color": "#EBF0F8"
             },
             "line": {
              "color": "white"
             }
            },
            "header": {
             "fill": {
              "color": "#C8D4E3"
             },
             "line": {
              "color": "white"
             }
            },
            "type": "table"
           }
          ]
         },
         "layout": {
          "annotationdefaults": {
           "arrowcolor": "#2a3f5f",
           "arrowhead": 0,
           "arrowwidth": 1
          },
          "coloraxis": {
           "colorbar": {
            "outlinewidth": 0,
            "ticks": ""
           }
          },
          "colorscale": {
           "diverging": [
            [
             0,
             "#8e0152"
            ],
            [
             0.1,
             "#c51b7d"
            ],
            [
             0.2,
             "#de77ae"
            ],
            [
             0.3,
             "#f1b6da"
            ],
            [
             0.4,
             "#fde0ef"
            ],
            [
             0.5,
             "#f7f7f7"
            ],
            [
             0.6,
             "#e6f5d0"
            ],
            [
             0.7,
             "#b8e186"
            ],
            [
             0.8,
             "#7fbc41"
            ],
            [
             0.9,
             "#4d9221"
            ],
            [
             1,
             "#276419"
            ]
           ],
           "sequential": [
            [
             0,
             "#0d0887"
            ],
            [
             0.1111111111111111,
             "#46039f"
            ],
            [
             0.2222222222222222,
             "#7201a8"
            ],
            [
             0.3333333333333333,
             "#9c179e"
            ],
            [
             0.4444444444444444,
             "#bd3786"
            ],
            [
             0.5555555555555556,
             "#d8576b"
            ],
            [
             0.6666666666666666,
             "#ed7953"
            ],
            [
             0.7777777777777778,
             "#fb9f3a"
            ],
            [
             0.8888888888888888,
             "#fdca26"
            ],
            [
             1,
             "#f0f921"
            ]
           ],
           "sequentialminus": [
            [
             0,
             "#0d0887"
            ],
            [
             0.1111111111111111,
             "#46039f"
            ],
            [
             0.2222222222222222,
             "#7201a8"
            ],
            [
             0.3333333333333333,
             "#9c179e"
            ],
            [
             0.4444444444444444,
             "#bd3786"
            ],
            [
             0.5555555555555556,
             "#d8576b"
            ],
            [
             0.6666666666666666,
             "#ed7953"
            ],
            [
             0.7777777777777778,
             "#fb9f3a"
            ],
            [
             0.8888888888888888,
             "#fdca26"
            ],
            [
             1,
             "#f0f921"
            ]
           ]
          },
          "colorway": [
           "#636efa",
           "#EF553B",
           "#00cc96",
           "#ab63fa",
           "#FFA15A",
           "#19d3f3",
           "#FF6692",
           "#B6E880",
           "#FF97FF",
           "#FECB52"
          ],
          "font": {
           "color": "#2a3f5f"
          },
          "geo": {
           "bgcolor": "white",
           "lakecolor": "white",
           "landcolor": "#E5ECF6",
           "showlakes": true,
           "showland": true,
           "subunitcolor": "white"
          },
          "hoverlabel": {
           "align": "left"
          },
          "hovermode": "closest",
          "mapbox": {
           "style": "light"
          },
          "paper_bgcolor": "white",
          "plot_bgcolor": "#E5ECF6",
          "polar": {
           "angularaxis": {
            "gridcolor": "white",
            "linecolor": "white",
            "ticks": ""
           },
           "bgcolor": "#E5ECF6",
           "radialaxis": {
            "gridcolor": "white",
            "linecolor": "white",
            "ticks": ""
           }
          },
          "scene": {
           "xaxis": {
            "backgroundcolor": "#E5ECF6",
            "gridcolor": "white",
            "gridwidth": 2,
            "linecolor": "white",
            "showbackground": true,
            "ticks": "",
            "zerolinecolor": "white"
           },
           "yaxis": {
            "backgroundcolor": "#E5ECF6",
            "gridcolor": "white",
            "gridwidth": 2,
            "linecolor": "white",
            "showbackground": true,
            "ticks": "",
            "zerolinecolor": "white"
           },
           "zaxis": {
            "backgroundcolor": "#E5ECF6",
            "gridcolor": "white",
            "gridwidth": 2,
            "linecolor": "white",
            "showbackground": true,
            "ticks": "",
            "zerolinecolor": "white"
           }
          },
          "shapedefaults": {
           "line": {
            "color": "#2a3f5f"
           }
          },
          "ternary": {
           "aaxis": {
            "gridcolor": "white",
            "linecolor": "white",
            "ticks": ""
           },
           "baxis": {
            "gridcolor": "white",
            "linecolor": "white",
            "ticks": ""
           },
           "bgcolor": "#E5ECF6",
           "caxis": {
            "gridcolor": "white",
            "linecolor": "white",
            "ticks": ""
           }
          },
          "title": {
           "x": 0.05
          },
          "xaxis": {
           "automargin": true,
           "gridcolor": "white",
           "linecolor": "white",
           "ticks": "",
           "title": {
            "standoff": 15
           },
           "zerolinecolor": "white",
           "zerolinewidth": 2
          },
          "yaxis": {
           "automargin": true,
           "gridcolor": "white",
           "linecolor": "white",
           "ticks": "",
           "title": {
            "standoff": 15
           },
           "zerolinecolor": "white",
           "zerolinewidth": 2
          }
         }
        },
        "xaxis": {
         "title": {
          "text": "Mean Radius"
         }
        },
        "yaxis": {
         "title": {
          "text": "Malignant"
         }
        }
       }
      },
      "text/html": [
       "<div>\n",
       "        \n",
       "        \n",
       "            <div id=\"43026fda-1dba-4eaa-a3f2-8700c94eb7d8\" class=\"plotly-graph-div\" style=\"height:525px; width:100%;\"></div>\n",
       "            <script type=\"text/javascript\">\n",
       "                require([\"plotly\"], function(Plotly) {\n",
       "                    window.PLOTLYENV=window.PLOTLYENV || {};\n",
       "                    \n",
       "                if (document.getElementById(\"43026fda-1dba-4eaa-a3f2-8700c94eb7d8\")) {\n",
       "                    Plotly.newPlot(\n",
       "                        '43026fda-1dba-4eaa-a3f2-8700c94eb7d8',\n",
       "                        [{\"marker\": {\"opacity\": 0.5}, \"mode\": \"markers\", \"type\": \"scatter\", \"x\": [17.99, 20.57, 19.69, 11.42, 20.29, 12.45, 18.25, 13.71, 13.0, 12.46, 16.02, 15.78, 19.17, 15.85, 13.73, 14.54, 14.68, 16.13, 19.81, 13.54, 13.08, 9.504, 15.34, 21.16, 16.65, 17.14, 14.58, 18.61, 15.3, 17.57, 18.63, 11.84, 17.02, 19.27, 16.13, 16.74, 14.25, 13.03, 14.99, 13.48, 13.44, 10.95, 19.07, 13.28, 13.17, 18.65, 8.196, 13.17, 12.05, 13.49, 11.76, 13.64, 11.94, 18.22, 15.1, 11.52, 19.21, 14.71, 13.05, 8.618, 10.17, 8.598, 14.25, 9.173, 12.68, 14.78, 9.465, 11.31, 9.029, 12.78, 18.94, 8.888, 17.2, 13.8, 12.31, 16.07, 13.53, 18.05, 20.18, 12.86, 11.45, 13.34, 25.22, 19.1, 12.0, 18.46, 14.48, 19.02, 12.36, 14.64, 14.62, 15.37, 13.27, 13.45, 15.06, 20.26, 12.18, 9.787, 11.6, 14.42, 13.61, 6.981, 12.18, 9.876, 10.49, 13.11, 11.64, 12.36, 22.27, 11.34, 9.777, 12.63, 14.26, 10.51, 8.726, 11.93, 8.95, 14.87, 15.78, 17.95, 11.41, 18.66, 24.25, 14.5, 13.37, 13.85, 13.61, 19.0, 15.1, 19.79, 12.19, 15.46, 16.16, 15.71, 18.45, 12.77, 11.71, 11.43, 14.95, 11.28, 9.738, 16.11, 11.43, 12.9, 10.75, 11.9, 11.8, 14.95, 14.44, 13.74, 13.0, 8.219, 9.731, 11.15, 13.15, 12.25, 17.68, 16.84, 12.06, 10.9, 11.75, 19.19, 19.59, 12.34, 23.27, 14.97, 10.8, 16.78, 17.47, 14.97, 12.32, 13.43, 15.46, 11.08, 10.66, 8.671, 9.904, 16.46, 13.01, 12.81, 27.22, 21.09, 15.7, 11.41, 15.28, 10.08, 18.31, 11.71, 11.81, 12.3, 14.22, 12.77, 9.72, 12.34, 14.86, 12.91, 13.77, 18.08, 19.18, 14.45, 12.23, 17.54, 23.29, 13.81, 12.47, 15.12, 9.876, 17.01, 13.11, 15.27, 20.58, 11.84, 28.11, 17.42, 14.19, 13.86, 11.89, 10.2, 19.8, 19.53, 13.65, 13.56, 10.18, 15.75, 13.27, 14.34, 10.44, 15.0, 12.62, 12.83, 17.05, 11.32, 11.22, 20.51, 9.567, 14.03, 23.21, 20.48, 14.22, 17.46, 13.64, 12.42, 11.3, 13.75, 19.4, 10.48, 13.2, 12.89, 10.65, 11.52, 20.94, 11.5, 19.73, 17.3, 19.45, 13.96, 19.55, 15.32, 15.66, 15.53, 20.31, 17.35, 17.29, 15.61, 17.19, 20.73, 10.6, 13.59, 12.87, 10.71, 14.29, 11.29, 21.75, 9.742, 17.93, 11.89, 11.33, 18.81, 13.59, 13.85, 19.16, 11.74, 19.4, 16.24, 12.89, 12.58, 11.94, 12.89, 11.26, 11.37, 14.41, 14.96, 12.95, 11.85, 12.72, 13.77, 10.91, 11.76, 14.26, 10.51, 19.53, 12.46, 20.09, 10.49, 11.46, 11.6, 13.2, 9.0, 13.5, 13.05, 11.7, 14.61, 12.76, 11.54, 8.597, 12.49, 12.18, 18.22, 9.042, 12.43, 10.25, 20.16, 12.86, 20.34, 12.2, 12.67, 14.11, 12.03, 16.27, 16.26, 16.03, 12.98, 11.22, 11.25, 12.3, 17.06, 12.99, 18.77, 10.05, 23.51, 14.42, 9.606, 11.06, 19.68, 11.71, 10.26, 12.06, 14.76, 11.47, 11.95, 11.66, 15.75, 25.73, 15.08, 11.14, 12.56, 13.05, 13.87, 8.878, 9.436, 12.54, 13.3, 12.76, 16.5, 13.4, 20.44, 20.2, 12.21, 21.71, 22.01, 16.35, 15.19, 21.37, 20.64, 13.69, 16.17, 10.57, 13.46, 13.66, 11.08, 11.27, 11.04, 12.05, 12.39, 13.28, 14.6, 12.21, 13.88, 11.27, 19.55, 10.26, 8.734, 15.49, 21.61, 12.1, 14.06, 13.51, 12.8, 11.06, 11.8, 17.91, 11.93, 12.96, 12.94, 12.34, 10.94, 16.14, 12.85, 17.99, 12.27, 11.36, 11.04, 9.397, 14.99, 15.13, 11.89, 9.405, 15.5, 12.7, 11.16, 11.57, 14.69, 11.61, 13.66, 9.742, 10.03, 10.48, 10.8, 11.13, 12.72, 14.9, 12.4, 20.18, 18.82, 14.86, 13.98, 12.87, 14.04, 13.85, 14.02, 10.97, 17.27, 13.78, 10.57, 18.03, 11.99, 17.75, 14.8, 14.53, 21.1, 11.87, 19.59, 12.0, 14.53, 12.62, 13.38, 11.63, 13.21, 13.0, 9.755, 17.08, 27.42, 14.4, 11.6, 13.17, 13.24, 13.14, 9.668, 17.6, 11.62, 9.667, 12.04, 14.92, 12.27, 10.88, 12.83, 14.2, 13.9, 11.49, 16.25, 12.16, 13.9, 13.47, 13.7, 15.73, 12.45, 14.64, 19.44, 11.68, 16.69, 12.25, 17.85, 18.01, 12.46, 13.16, 14.87, 12.65, 12.47, 18.49, 20.59, 15.04, 13.82, 12.54, 23.09, 9.268, 9.676, 12.22, 11.06, 16.3, 15.46, 11.74, 14.81, 13.4, 14.58, 15.05, 11.34, 18.31, 19.89, 12.88, 12.75, 9.295, 24.63, 11.26, 13.71, 9.847, 8.571, 13.46, 12.34, 13.94, 12.07, 11.75, 11.67, 13.68, 20.47, 10.96, 20.55, 14.27, 11.69, 7.729, 7.691, 11.54, 14.47, 14.74, 13.21, 13.87, 13.62, 10.32, 10.26, 9.683, 10.82, 10.86, 11.13, 12.77, 9.333, 12.88, 10.29, 10.16, 9.423, 14.59, 11.51, 14.05, 11.2, 15.22, 20.92, 21.56, 20.13, 16.6, 20.6, 7.76], \"y\": [1.009088516804153, 0.9509276958457782, 1.0176422978366226, 0.965624250585494, 0.9752433653640755, 0.9806834206133657, 1.00721152411865, 0.9756317904305143, 1.014677640228897, 0.997336985817957, 1.0444448739714962, 1.045514367492926, 0.969603732780026, 0.951810524787581, 1.0362072326329972, 1.0034616188352645, 0.9567735174556495, 0.9807543375042864, 1.0248651873845915, -0.018822302974184912, 0.01229877846782046, 0.006166627544947886, 0.971923340278664, 1.0333865427930269, 0.9863523082026748, 1.04133456203497, 1.02929698105092, 1.0277072440756632, 0.9618283112814023, 1.03882070752325, 1.0303017556630512, 0.9580256316084055, 1.022204850179393, 0.9617468177837047, 1.0049405121311161, 0.9837123559230065, 0.951236418999472, 0.0004024162130554232, 0.9590172102850449, 0.971508877752145, 0.9890701514129945, 1.0283966943824063, 1.031747641619117, 0.9578563519927836, 0.9688345473038529, 0.9943260210440634, -0.01964894547019478, 0.969931567505083, 0.04816385058127973, 0.0433207266013341, 0.0036664159896628717, -0.015301698900527405, -0.010151079817310227, 1.0054300294768412, 1.038789919167469, 0.02224119659353438, 0.9548124044787627, 1.0220898573226556, -0.019046463968958496, 0.027029108733705703, -0.0035460958252721345, 0.03252640365774752, 1.0404928602575205, -0.047211883049513806, 1.0236066343607502, 0.9834425947472998, -0.020540018834179496, -0.0127304519792159, 0.0422841220077179, 0.019316353889967317, 1.0363697200420559, -0.01777865162653776, 1.0165741565319717, 0.9879381258441273, 0.018013439951923227, 0.9544808249772712, 0.003607976469117022, 0.9854880075423798, 0.9818448525649135, -0.027279929043135545, 0.032308101399369044, -0.0165407503553653, 1.0204142670532907, 0.9658685756647678, -0.045406084751710464, 0.9713036567121629, 0.9704730316331496, 1.0172537282285077, -0.03824189327145399, -0.0429076103749467, -0.011816299378582959, 0.9725484184231337, -0.01443424132151827, 0.0074039565173711006, 0.9741866261689478, 1.01316357180273, -0.04444878858308729, -0.008130760536981994, -0.027432751124559798, 0.9902081715544393, 1.0418964599858571, -0.0063043018664880185, 0.029302540906064004, -0.048438941247199434, 0.03162410607896797, 1.037284591599041, -0.046171421807754534, 0.0132207246301361, 0.9943923536241732, 0.024686802977361838, 0.045476488357567624, -0.013991018675366021, -0.004136746944641265, 0.03496383725560062, -0.021760925796194586, -0.04176014556216622, 0.04729707084937512, 1.0195388157764083, 0.9690802208660896, 1.0209250884737247, -0.03831224767956351, 1.033967803406065, 1.0114081238196735, 0.0028107926291388793, -0.00835825754195766, 0.017415467931216566, 0.9926063809745935, 1.0147255690656543, 0.02468625747940062, 0.9628426221209658, 0.03559738469855636, 1.0430988470081433, 1.033889220837239, 0.0331438908059347, 1.0267528752397868, 1.0069589801955123, -0.0041725860734568646, -0.02924381786317214, 1.0072947540718633, -0.010365967065938356, 0.015341890007266115, 1.0198636247890338, -0.028172006049908906, 0.0006505454723127607, -0.030596567582252633, -0.010751699724992993, 1.023228064655618, -0.019656185595772105, 0.0023321123568770252, 0.009996468293631586, -0.018316135423621885, 0.016410001149289755, -0.015201632481685892, 0.02805109281034622, 0.024604331561826898, 0.03478130766507706, 0.992519930902839, 0.009447358842468757, -0.041062814262630344, -0.018039254023781884, 0.007770943636034998, 1.0338915518970884, 0.9711973219024668, -0.030019864472474414, 0.9764252204610471, -0.033292066830056505, -0.01780936070827418, 0.9955203723547992, 0.9811048318413989, 0.017146656552072148, 0.008489312456833077, 1.0188598337719124, 1.0141355120597204, 0.03390055818421232, 0.043228986899789004, 0.003025159145836051, 0.035577508823805004, 0.9529622123816652, -0.04166953619078006, 0.04526124412635338, 0.9517471751850715, 1.0024028595004266, 0.9749291780522096, -0.036229851966954045, 0.9681827421513971, -0.04786243216161386, 0.9588838031839992, -0.038255205278863204, -0.04486014807213713, 0.008098562356139725, 0.9956381217068431, 0.02657289182009427, 0.005525049910722869, 0.9878223318130093, 1.0255265297248481, 0.021565654186139177, 0.974111419333513, 1.0199266413005907, 0.9829859663221541, 1.006313838953343, -0.029817617331412652, 0.9789489864267189, 0.9560834742106368, 1.011328395604756, 0.008136132822209229, 0.9765755430584504, 0.021939783153882633, 1.032274465309396, -0.049660892050015115, -0.004434532334191485, 0.9805773367183261, -0.005121078185665054, 1.0388314686368059, 0.9635363098698657, 1.0143671387804465, 0.9851088598305484, 0.009383725042051518, -0.03796634302867712, 1.036554639200841, 0.9990881890579402, -0.00040305798314774904, 0.03437450494027332, -0.01728993709185058, 0.995335578829299, 0.006811766477870199, -0.04148791521358374, -0.0054257903053835585, -0.04024064538676273, -0.023041049111257518, 1.0118201383693621, 1.03637873968433, 0.006131059833962761, -0.049733319696794155, 0.954214384986604, -0.03441380521153761, -0.02173949576772545, 0.9851084718603362, 0.975662738361502, -0.041595559112080516, 0.9907608849595719, 0.032254708897762926, -0.04677172497965468, 0.02699439436238174, -0.032894299102836505, 0.9837430492169663, 0.002378843045338516, -0.011083515563905098, -0.0029493020904026376, 0.04472048345066536, 0.04760548362568022, 1.0497827100467296, -0.015800602341058546, 1.0495127829170587, 0.9767834989230508, 1.0472440438524355, 0.9884003725075603, 0.982644606887833, 1.0210817264192613, 0.9564980782893553, 1.0281635341636182, 0.9750096775879553, 0.9875756720596629, 1.022134677620412, 1.0444229226686508, 1.0467479865115379, 1.0296688637689366, 0.010413102855992576, -0.03491744154291485, 0.02669276450371791, 0.023042834829039294, -0.04128913276637272, 0.013903111151177691, 1.0057914488857667, 0.028680278252023128, 0.9951199427792958, 0.04682486638909833, -0.04030571517106507, 1.023654644093106, -0.048866425743824195, 0.01649724046334318, 0.9815953310268033, 0.012287611155976631, 1.013568523801997, 0.9636008398003961, 0.0030018055915233544, -0.01586998712055593, -0.025103155534053193, -0.03955098651192356, 0.025926607930206944, 0.034864164367654465, 0.042520046553479504, -0.013015688999469692, -0.007908825657198526, 0.014980217878324181, 0.035825704508736775, -0.04166314118028829, 0.02613246701216844, 1.0440522874891767, -0.0419760779603767, 0.01583192867699154, 0.9997331271692369, -0.009817303415186163, 0.9553584351316751, 0.014669057581795764, -0.006724183521908657, 0.038836306064244555, -0.037246029744742275, 0.03875847969047659, -0.018805579974776422, 0.01925360151024154, -0.015689943310395818, -0.03787076237217717, -0.04429679345276229, 0.03272022451992769, 0.03275669290779462, -0.048672721862541915, 0.015357735027505384, 1.02610250301069, 0.015374392242626156, -0.02022215225887484, 0.029763888953013837, 1.0023668128117442, -0.044852754309658065, 1.0170170975161457, -0.00793066704535935, -0.03865695334928947, -0.0168718953176066, -0.009894803144374353, 1.026169165825338, 0.9885061064706537, 0.9776275894452737, 0.0021137556663802237, 0.02141448443501756, 0.02219283959384402, 0.03877768409183589, 0.975546372738199, 0.04936891976192863, 0.952908765444449, -0.025609343617974834, 0.9847411549603071, 0.01856135739941092, -0.023728281895250492, -0.007288496901063993, 0.9840369022486841, 0.02399340516900139, 0.004612503422124069, 0.04726763026851136, -0.025902279288896504, -0.026157465766573962, -0.044730210822879694, -0.01751432886683081, 0.9564290294865905, 1.0402035458885055, 0.9685529100364707, -0.04813946117442262, -0.024638357248541565, -0.018468654516339944, 0.011952924133203292, 0.0009129815485483389, 0.040808333857759324, -0.0031247153180594886, -0.04321718467823944, -0.043704545302280545, 0.04201406143644111, -0.004462899916060005, 1.003357676821567, 0.9905223999722417, -0.0021903788347009887, 0.9991258349145353, 0.9813805514573588, 1.0067617400379596, 0.04849297594655948, 0.9986666491291742, 1.0494984712818876, -0.028811400668617284, -0.04355308782487425, 0.001015989212535054, -0.04827847811110815, -0.005169422375331245, 0.9654476431255534, 0.03322053247520798, -0.03169463692821127, 0.04520602316069171, -0.005712446906422461, 0.02553543634287797, 0.9799838941494619, 0.017593293297194085, -0.024974362523194172, -0.045332790511302026, 0.9657247942953784, -0.01997979354762315, -0.009610736432830912, 1.0111105184394893, 1.016560609120655, -0.015449372199413357, 0.018371081540936335, -0.027755720618993198, 0.019224746936281234, -0.005982473751519543, 0.00810161675932751, 1.0489983662582139, -0.016799521953087704, -0.029609597299055813, 0.027891288332282146, -0.04776621922178979, 0.018682879231799746, -0.041483571603667585, -0.0010982478197569048, 0.9849590745196888, 0.020771244940965078, 0.0298448124507633, -0.00046964751895391815, -0.04931995675091673, -0.00343883657203551, 1.0116598833854538, -0.027692348970058813, -0.018167153962024042, 0.9832327220008406, 0.0028799196479470032, 0.023343257858592953, 0.0483388573226983, 0.003982795600398714, -0.040139694884079036, -0.02025579430754797, -0.02454866553455101, 0.007465134291315359, -0.04908755882783977, -0.016044614943925194, -0.007701790931232563, 0.021057420248152325, 1.0464497704469533, -0.018925694339091217, 1.0296228664340494, 0.9540144249368141, -0.038295278078821285, 0.9642298191030567, -0.02079745932212972, -0.02676612484457014, 0.022711849778978152, 0.04340897727850489, -0.002175521716899456, 1.0081689214386917, 0.014781269227064714, -0.040259826514589016, 1.02768471080944, -0.0212959512633768, 0.9929623868557593, -0.036325690915740276, 0.01154739682601228, 1.0120549784598218, 0.04274503096886778, 1.0394416522878827, -0.04677590838297692, 0.014957057790115441, 0.0047685677354238135, -0.02676102888171803, 0.04326302426246881, -0.03373867963260664, -0.049377783440969186, 0.025698575687549005, 1.0265753814760452, 0.9540251761647667, 0.001956027145522586, -0.032090302347987376, 0.04245769222111263, -0.01021681867363984, 0.016107092843961557, 0.025268628629875875, 1.0432694736143373, -0.021284082450137312, -0.0472116195909303, -0.020257469165364552, -0.018917114469922416, -0.034620923496702254, 0.0033489302271186294, 0.042961938210487896, 0.004016873278684573, 0.008620059767470156, 0.0273968189921273, 0.9526021158745275, 0.03420771832988377, 0.04325791104178425, -0.04830666190292542, 0.007326771252375151, 0.01711507700489294, -0.04299912537205837, 0.011358667997953584, 0.9972396627227973, 0.023704122282106915, 1.04892376842426, -0.015137214439766747, -0.04239739714209628, 1.028468923616095, 0.024455446826723876, -0.025785250399987115, -0.04923202868394431, 0.0058635799933363444, -0.04517896594033319, 1.0005878780263573, 1.0096024873565697, -0.005409604803442637, 1.0069823777813711, 0.02765684378873899, 0.9798494278393863, 0.016675038824407004, -0.04817528423285862, 0.009934645043732947, -0.009874919052840304, -0.02758965578970615, 0.9859034614362432, 0.03470007411251681, -0.012688553683637575, 1.0354093412780356, -0.03029595249097643, 1.0371702344270777, -0.029670850437861065, 0.9508694715524946, 0.9615843130800017, -0.024488343940124713, -0.03155156927449002, 0.007741155779467511, 0.9672208560102087, 0.02110870474121143, -0.038963090934418014, -0.02506538494701558, -0.007695170763785918, 0.02377169596633466, -0.014684426365181281, 0.029602587667443364, 0.03270617322645697, -0.039759897385447066, -0.00302766751803861, -0.03473887956610714, 1.035737242810973, -0.04463979737532097, 0.9991798666746357, 1.042124253885977, -0.0002991339429143855, -0.025767335160942675, 0.0438755685061224, -0.03281615297037624, 0.03588895193289442, 0.031035061830436764, -0.02024176263836043, 0.04768940609248022, -0.002274147796434166, 0.033458120879254524, -0.035424752808483964, -0.01934250109428838, -0.04563410070652716, -0.028888604724107116, 0.039186320954770926, 0.02522692914215456, -0.013018689842772727, -0.0013724409932218545, 0.004956624258063071, -0.01837905294513819, 0.044343248312616004, -0.01956173800201229, 0.029118033570999027, 0.02224600662008394, -0.04017541844867927, 1.0487631428752537, 1.030978108103245, 0.9734512322365412, 0.9664626690278217, 0.9678489442900873, 0.9728619317508691, 0.043002241698384944]}],\n",
       "                        {\"template\": {\"data\": {\"bar\": [{\"error_x\": {\"color\": \"#2a3f5f\"}, \"error_y\": {\"color\": \"#2a3f5f\"}, \"marker\": {\"line\": {\"color\": \"#E5ECF6\", \"width\": 0.5}}, \"type\": \"bar\"}], \"barpolar\": [{\"marker\": {\"line\": {\"color\": \"#E5ECF6\", \"width\": 0.5}}, \"type\": \"barpolar\"}], \"carpet\": [{\"aaxis\": {\"endlinecolor\": \"#2a3f5f\", \"gridcolor\": \"white\", \"linecolor\": \"white\", \"minorgridcolor\": \"white\", \"startlinecolor\": \"#2a3f5f\"}, \"baxis\": {\"endlinecolor\": \"#2a3f5f\", \"gridcolor\": \"white\", \"linecolor\": \"white\", \"minorgridcolor\": \"white\", \"startlinecolor\": \"#2a3f5f\"}, \"type\": \"carpet\"}], \"choropleth\": [{\"colorbar\": {\"outlinewidth\": 0, \"ticks\": \"\"}, \"type\": \"choropleth\"}], \"contour\": [{\"colorbar\": {\"outlinewidth\": 0, \"ticks\": \"\"}, \"colorscale\": [[0.0, \"#0d0887\"], [0.1111111111111111, \"#46039f\"], [0.2222222222222222, \"#7201a8\"], [0.3333333333333333, \"#9c179e\"], [0.4444444444444444, \"#bd3786\"], [0.5555555555555556, \"#d8576b\"], [0.6666666666666666, \"#ed7953\"], [0.7777777777777778, \"#fb9f3a\"], [0.8888888888888888, \"#fdca26\"], [1.0, \"#f0f921\"]], \"type\": \"contour\"}], \"contourcarpet\": [{\"colorbar\": {\"outlinewidth\": 0, \"ticks\": \"\"}, \"type\": \"contourcarpet\"}], \"heatmap\": [{\"colorbar\": {\"outlinewidth\": 0, \"ticks\": \"\"}, \"colorscale\": [[0.0, \"#0d0887\"], [0.1111111111111111, \"#46039f\"], [0.2222222222222222, \"#7201a8\"], [0.3333333333333333, \"#9c179e\"], [0.4444444444444444, \"#bd3786\"], [0.5555555555555556, \"#d8576b\"], [0.6666666666666666, \"#ed7953\"], [0.7777777777777778, \"#fb9f3a\"], [0.8888888888888888, \"#fdca26\"], [1.0, \"#f0f921\"]], \"type\": \"heatmap\"}], \"heatmapgl\": [{\"colorbar\": {\"outlinewidth\": 0, \"ticks\": \"\"}, \"colorscale\": [[0.0, \"#0d0887\"], [0.1111111111111111, \"#46039f\"], [0.2222222222222222, \"#7201a8\"], [0.3333333333333333, \"#9c179e\"], [0.4444444444444444, \"#bd3786\"], [0.5555555555555556, \"#d8576b\"], [0.6666666666666666, \"#ed7953\"], [0.7777777777777778, \"#fb9f3a\"], [0.8888888888888888, \"#fdca26\"], [1.0, \"#f0f921\"]], \"type\": \"heatmapgl\"}], \"histogram\": [{\"marker\": {\"colorbar\": {\"outlinewidth\": 0, \"ticks\": \"\"}}, \"type\": \"histogram\"}], \"histogram2d\": [{\"colorbar\": {\"outlinewidth\": 0, \"ticks\": \"\"}, \"colorscale\": [[0.0, \"#0d0887\"], [0.1111111111111111, \"#46039f\"], [0.2222222222222222, \"#7201a8\"], [0.3333333333333333, \"#9c179e\"], [0.4444444444444444, \"#bd3786\"], [0.5555555555555556, \"#d8576b\"], [0.6666666666666666, \"#ed7953\"], [0.7777777777777778, \"#fb9f3a\"], [0.8888888888888888, \"#fdca26\"], [1.0, \"#f0f921\"]], \"type\": \"histogram2d\"}], \"histogram2dcontour\": [{\"colorbar\": {\"outlinewidth\": 0, \"ticks\": \"\"}, \"colorscale\": [[0.0, \"#0d0887\"], [0.1111111111111111, \"#46039f\"], [0.2222222222222222, \"#7201a8\"], [0.3333333333333333, \"#9c179e\"], [0.4444444444444444, \"#bd3786\"], [0.5555555555555556, \"#d8576b\"], [0.6666666666666666, \"#ed7953\"], [0.7777777777777778, \"#fb9f3a\"], [0.8888888888888888, \"#fdca26\"], [1.0, \"#f0f921\"]], \"type\": \"histogram2dcontour\"}], \"mesh3d\": [{\"colorbar\": {\"outlinewidth\": 0, \"ticks\": \"\"}, \"type\": \"mesh3d\"}], \"parcoords\": [{\"line\": {\"colorbar\": {\"outlinewidth\": 0, \"ticks\": \"\"}}, \"type\": \"parcoords\"}], \"pie\": [{\"automargin\": true, \"type\": \"pie\"}], \"scatter\": [{\"marker\": {\"colorbar\": {\"outlinewidth\": 0, \"ticks\": \"\"}}, \"type\": \"scatter\"}], \"scatter3d\": [{\"line\": {\"colorbar\": {\"outlinewidth\": 0, \"ticks\": \"\"}}, \"marker\": {\"colorbar\": {\"outlinewidth\": 0, \"ticks\": \"\"}}, \"type\": \"scatter3d\"}], \"scattercarpet\": [{\"marker\": {\"colorbar\": {\"outlinewidth\": 0, \"ticks\": \"\"}}, \"type\": \"scattercarpet\"}], \"scattergeo\": [{\"marker\": {\"colorbar\": {\"outlinewidth\": 0, \"ticks\": \"\"}}, \"type\": \"scattergeo\"}], \"scattergl\": [{\"marker\": {\"colorbar\": {\"outlinewidth\": 0, \"ticks\": \"\"}}, \"type\": \"scattergl\"}], \"scattermapbox\": [{\"marker\": {\"colorbar\": {\"outlinewidth\": 0, \"ticks\": \"\"}}, \"type\": \"scattermapbox\"}], \"scatterpolar\": [{\"marker\": {\"colorbar\": {\"outlinewidth\": 0, \"ticks\": \"\"}}, \"type\": \"scatterpolar\"}], \"scatterpolargl\": [{\"marker\": {\"colorbar\": {\"outlinewidth\": 0, \"ticks\": \"\"}}, \"type\": \"scatterpolargl\"}], \"scatterternary\": [{\"marker\": {\"colorbar\": {\"outlinewidth\": 0, \"ticks\": \"\"}}, \"type\": \"scatterternary\"}], \"surface\": [{\"colorbar\": {\"outlinewidth\": 0, \"ticks\": \"\"}, \"colorscale\": [[0.0, \"#0d0887\"], [0.1111111111111111, \"#46039f\"], [0.2222222222222222, \"#7201a8\"], [0.3333333333333333, \"#9c179e\"], [0.4444444444444444, \"#bd3786\"], [0.5555555555555556, \"#d8576b\"], [0.6666666666666666, \"#ed7953\"], [0.7777777777777778, \"#fb9f3a\"], [0.8888888888888888, \"#fdca26\"], [1.0, \"#f0f921\"]], \"type\": \"surface\"}], \"table\": [{\"cells\": {\"fill\": {\"color\": \"#EBF0F8\"}, \"line\": {\"color\": \"white\"}}, \"header\": {\"fill\": {\"color\": \"#C8D4E3\"}, \"line\": {\"color\": \"white\"}}, \"type\": \"table\"}]}, \"layout\": {\"annotationdefaults\": {\"arrowcolor\": \"#2a3f5f\", \"arrowhead\": 0, \"arrowwidth\": 1}, \"coloraxis\": {\"colorbar\": {\"outlinewidth\": 0, \"ticks\": \"\"}}, \"colorscale\": {\"diverging\": [[0, \"#8e0152\"], [0.1, \"#c51b7d\"], [0.2, \"#de77ae\"], [0.3, \"#f1b6da\"], [0.4, \"#fde0ef\"], [0.5, \"#f7f7f7\"], [0.6, \"#e6f5d0\"], [0.7, \"#b8e186\"], [0.8, \"#7fbc41\"], [0.9, \"#4d9221\"], [1, \"#276419\"]], \"sequential\": [[0.0, \"#0d0887\"], [0.1111111111111111, \"#46039f\"], [0.2222222222222222, \"#7201a8\"], [0.3333333333333333, \"#9c179e\"], [0.4444444444444444, \"#bd3786\"], [0.5555555555555556, \"#d8576b\"], [0.6666666666666666, \"#ed7953\"], [0.7777777777777778, \"#fb9f3a\"], [0.8888888888888888, \"#fdca26\"], [1.0, \"#f0f921\"]], \"sequentialminus\": [[0.0, \"#0d0887\"], [0.1111111111111111, \"#46039f\"], [0.2222222222222222, \"#7201a8\"], [0.3333333333333333, \"#9c179e\"], [0.4444444444444444, \"#bd3786\"], [0.5555555555555556, \"#d8576b\"], [0.6666666666666666, \"#ed7953\"], [0.7777777777777778, \"#fb9f3a\"], [0.8888888888888888, \"#fdca26\"], [1.0, \"#f0f921\"]]}, \"colorway\": [\"#636efa\", \"#EF553B\", \"#00cc96\", \"#ab63fa\", \"#FFA15A\", \"#19d3f3\", \"#FF6692\", \"#B6E880\", \"#FF97FF\", \"#FECB52\"], \"font\": {\"color\": \"#2a3f5f\"}, \"geo\": {\"bgcolor\": \"white\", \"lakecolor\": \"white\", \"landcolor\": \"#E5ECF6\", \"showlakes\": true, \"showland\": true, \"subunitcolor\": \"white\"}, \"hoverlabel\": {\"align\": \"left\"}, \"hovermode\": \"closest\", \"mapbox\": {\"style\": \"light\"}, \"paper_bgcolor\": \"white\", \"plot_bgcolor\": \"#E5ECF6\", \"polar\": {\"angularaxis\": {\"gridcolor\": \"white\", \"linecolor\": \"white\", \"ticks\": \"\"}, \"bgcolor\": \"#E5ECF6\", \"radialaxis\": {\"gridcolor\": \"white\", \"linecolor\": \"white\", \"ticks\": \"\"}}, \"scene\": {\"xaxis\": {\"backgroundcolor\": \"#E5ECF6\", \"gridcolor\": \"white\", \"gridwidth\": 2, \"linecolor\": \"white\", \"showbackground\": true, \"ticks\": \"\", \"zerolinecolor\": \"white\"}, \"yaxis\": {\"backgroundcolor\": \"#E5ECF6\", \"gridcolor\": \"white\", \"gridwidth\": 2, \"linecolor\": \"white\", \"showbackground\": true, \"ticks\": \"\", \"zerolinecolor\": \"white\"}, \"zaxis\": {\"backgroundcolor\": \"#E5ECF6\", \"gridcolor\": \"white\", \"gridwidth\": 2, \"linecolor\": \"white\", \"showbackground\": true, \"ticks\": \"\", \"zerolinecolor\": \"white\"}}, \"shapedefaults\": {\"line\": {\"color\": \"#2a3f5f\"}}, \"ternary\": {\"aaxis\": {\"gridcolor\": \"white\", \"linecolor\": \"white\", \"ticks\": \"\"}, \"baxis\": {\"gridcolor\": \"white\", \"linecolor\": \"white\", \"ticks\": \"\"}, \"bgcolor\": \"#E5ECF6\", \"caxis\": {\"gridcolor\": \"white\", \"linecolor\": \"white\", \"ticks\": \"\"}}, \"title\": {\"x\": 0.05}, \"xaxis\": {\"automargin\": true, \"gridcolor\": \"white\", \"linecolor\": \"white\", \"ticks\": \"\", \"title\": {\"standoff\": 15}, \"zerolinecolor\": \"white\", \"zerolinewidth\": 2}, \"yaxis\": {\"automargin\": true, \"gridcolor\": \"white\", \"linecolor\": \"white\", \"ticks\": \"\", \"title\": {\"standoff\": 15}, \"zerolinecolor\": \"white\", \"zerolinewidth\": 2}}}, \"xaxis\": {\"title\": {\"text\": \"Mean Radius\"}}, \"yaxis\": {\"title\": {\"text\": \"Malignant\"}}},\n",
       "                        {\"responsive\": true}\n",
       "                    ).then(function(){\n",
       "                            \n",
       "var gd = document.getElementById('43026fda-1dba-4eaa-a3f2-8700c94eb7d8');\n",
       "var x = new MutationObserver(function (mutations, observer) {{\n",
       "        var display = window.getComputedStyle(gd).display;\n",
       "        if (!display || display === 'none') {{\n",
       "            console.log([gd, 'removed!']);\n",
       "            Plotly.purge(gd);\n",
       "            observer.disconnect();\n",
       "        }}\n",
       "}});\n",
       "\n",
       "// Listen for the removal of the full notebook cells\n",
       "var notebookContainer = gd.closest('#notebook-container');\n",
       "if (notebookContainer) {{\n",
       "    x.observe(notebookContainer, {childList: true});\n",
       "}}\n",
       "\n",
       "// Listen for the clearing of the current output cell\n",
       "var outputEl = gd.closest('.output');\n",
       "if (outputEl) {{\n",
       "    x.observe(outputEl, {childList: true});\n",
       "}}\n",
       "\n",
       "                        })\n",
       "                };\n",
       "                });\n",
       "            </script>\n",
       "        </div>"
      ]
     },
     "metadata": {},
     "output_type": "display_data"
    }
   ],
   "source": [
    "jitter_y = data['malignant'] + 0.1 * np.random.rand(data['malignant'].size) -0.05\n",
    "points = go.Scatter(x=data['mean radius'], y = jitter_y, \n",
    "                    mode=\"markers\", \n",
    "                    marker=dict(opacity=0.5))\n",
    "py.iplot(go.Figure(data=[points], layout=layout))"
   ]
  },
  {
   "cell_type": "markdown",
   "metadata": {},
   "source": [
    "Perhaps a better way to visualize the data is using stacked histograms."
   ]
  },
  {
   "cell_type": "code",
   "execution_count": 6,
   "metadata": {
    "ExecuteTime": {
     "end_time": "2018-04-02T16:07:17.896849Z",
     "start_time": "2018-04-02T16:07:17.775139Z"
    }
   },
   "outputs": [
    {
     "data": {
      "application/vnd.plotly.v1+json": {
       "config": {
        "linkText": "Export to plot.ly",
        "plotlyServerURL": "https://plot.ly",
        "showLink": false
       },
       "data": [
        {
         "autobinx": false,
         "histnorm": "probability density",
         "legendgroup": "Benign",
         "marker": {
          "color": "rgb(31, 119, 180)"
         },
         "name": "Benign",
         "opacity": 0.7,
         "type": "histogram",
         "x": [
          13.54,
          13.08,
          9.504,
          13.03,
          8.196,
          12.05,
          13.49,
          11.76,
          13.64,
          11.94,
          11.52,
          13.05,
          8.618,
          10.17,
          8.598,
          9.173,
          9.465,
          11.31,
          9.029,
          12.78,
          8.888,
          12.31,
          13.53,
          12.86,
          11.45,
          13.34,
          12,
          12.36,
          14.64,
          14.62,
          13.27,
          13.45,
          12.18,
          9.787,
          11.6,
          6.981,
          12.18,
          9.876,
          10.49,
          11.64,
          12.36,
          11.34,
          9.777,
          12.63,
          14.26,
          10.51,
          8.726,
          11.93,
          8.95,
          11.41,
          14.5,
          13.37,
          13.85,
          15.1,
          12.19,
          15.71,
          11.71,
          11.43,
          11.28,
          9.738,
          11.43,
          12.9,
          10.75,
          11.9,
          14.95,
          14.44,
          13.74,
          13,
          8.219,
          9.731,
          11.15,
          13.15,
          12.25,
          16.84,
          12.06,
          10.9,
          11.75,
          12.34,
          14.97,
          10.8,
          14.97,
          12.32,
          11.08,
          10.66,
          8.671,
          9.904,
          13.01,
          12.81,
          11.41,
          10.08,
          11.71,
          11.81,
          12.3,
          12.77,
          9.72,
          12.91,
          12.23,
          12.47,
          9.876,
          13.11,
          15.27,
          11.84,
          11.89,
          10.2,
          13.65,
          13.56,
          10.18,
          13.27,
          14.34,
          10.44,
          15,
          12.62,
          11.32,
          11.22,
          9.567,
          14.03,
          14.22,
          13.64,
          12.42,
          11.3,
          13.75,
          10.48,
          13.2,
          12.89,
          10.65,
          11.52,
          11.5,
          10.6,
          13.59,
          12.87,
          10.71,
          14.29,
          11.29,
          9.742,
          11.89,
          11.33,
          13.59,
          13.85,
          11.74,
          12.89,
          12.58,
          11.94,
          12.89,
          11.26,
          11.37,
          14.41,
          14.96,
          12.95,
          11.85,
          12.72,
          13.77,
          10.91,
          14.26,
          10.51,
          12.46,
          10.49,
          11.46,
          11.6,
          13.2,
          9,
          13.5,
          13.05,
          11.7,
          14.61,
          12.76,
          11.54,
          8.597,
          12.49,
          12.18,
          9.042,
          12.43,
          10.25,
          12.86,
          12.2,
          12.67,
          14.11,
          12.03,
          12.98,
          11.22,
          11.25,
          12.3,
          12.99,
          10.05,
          14.42,
          9.606,
          11.06,
          11.71,
          10.26,
          12.06,
          14.76,
          11.47,
          11.95,
          11.66,
          11.14,
          12.56,
          13.05,
          13.87,
          8.878,
          9.436,
          12.54,
          13.3,
          12.76,
          16.5,
          13.4,
          12.21,
          15.19,
          13.69,
          16.17,
          10.57,
          13.46,
          13.66,
          11.27,
          11.04,
          12.05,
          12.39,
          13.28,
          12.21,
          13.88,
          11.27,
          10.26,
          8.734,
          12.1,
          14.06,
          13.51,
          12.8,
          11.06,
          11.8,
          11.93,
          12.96,
          12.94,
          12.34,
          10.94,
          16.14,
          12.85,
          12.27,
          11.36,
          11.04,
          9.397,
          14.99,
          11.89,
          9.405,
          12.7,
          11.16,
          11.57,
          14.69,
          11.61,
          13.66,
          9.742,
          10.03,
          10.48,
          10.8,
          11.13,
          12.72,
          12.4,
          14.86,
          12.87,
          14.04,
          13.85,
          14.02,
          10.97,
          13.78,
          10.57,
          11.99,
          14.8,
          14.53,
          11.87,
          12,
          14.53,
          12.62,
          13.38,
          11.63,
          13.21,
          13,
          9.755,
          14.4,
          11.6,
          13.17,
          13.24,
          13.14,
          9.668,
          11.62,
          9.667,
          12.04,
          14.92,
          12.27,
          10.88,
          12.83,
          14.2,
          13.9,
          11.49,
          12.16,
          13.9,
          13.47,
          13.7,
          15.73,
          12.45,
          14.64,
          11.68,
          12.25,
          17.85,
          12.46,
          13.16,
          14.87,
          12.65,
          12.47,
          15.04,
          12.54,
          9.268,
          9.676,
          12.22,
          11.06,
          16.3,
          11.74,
          14.81,
          14.58,
          11.34,
          12.88,
          12.75,
          9.295,
          11.26,
          13.71,
          9.847,
          8.571,
          13.46,
          12.34,
          13.94,
          12.07,
          11.75,
          11.67,
          13.68,
          10.96,
          11.69,
          7.729,
          7.691,
          11.54,
          14.47,
          14.74,
          13.21,
          13.87,
          13.62,
          10.32,
          10.26,
          9.683,
          10.82,
          10.86,
          11.13,
          12.77,
          9.333,
          12.88,
          10.29,
          10.16,
          9.423,
          14.59,
          11.51,
          14.05,
          11.2,
          7.76
         ],
         "xaxis": "x",
         "xbins": {
          "end": 17.85,
          "size": 0.5,
          "start": 6.981
         },
         "yaxis": "y"
        },
        {
         "autobinx": false,
         "histnorm": "probability density",
         "legendgroup": "Malignant",
         "marker": {
          "color": "rgb(255, 127, 14)"
         },
         "name": "Malignant",
         "opacity": 0.7,
         "type": "histogram",
         "x": [
          17.99,
          20.57,
          19.69,
          11.42,
          20.29,
          12.45,
          18.25,
          13.71,
          13,
          12.46,
          16.02,
          15.78,
          19.17,
          15.85,
          13.73,
          14.54,
          14.68,
          16.13,
          19.81,
          15.34,
          21.16,
          16.65,
          17.14,
          14.58,
          18.61,
          15.3,
          17.57,
          18.63,
          11.84,
          17.02,
          19.27,
          16.13,
          16.74,
          14.25,
          14.99,
          13.48,
          13.44,
          10.95,
          19.07,
          13.28,
          13.17,
          18.65,
          13.17,
          18.22,
          15.1,
          19.21,
          14.71,
          14.25,
          12.68,
          14.78,
          18.94,
          17.2,
          13.8,
          16.07,
          18.05,
          20.18,
          25.22,
          19.1,
          18.46,
          14.48,
          19.02,
          15.37,
          15.06,
          20.26,
          14.42,
          13.61,
          13.11,
          22.27,
          14.87,
          15.78,
          17.95,
          18.66,
          24.25,
          13.61,
          19,
          19.79,
          15.46,
          16.16,
          18.45,
          12.77,
          14.95,
          16.11,
          11.8,
          17.68,
          19.19,
          19.59,
          23.27,
          16.78,
          17.47,
          13.43,
          15.46,
          16.46,
          27.22,
          21.09,
          15.7,
          15.28,
          18.31,
          14.22,
          12.34,
          14.86,
          13.77,
          18.08,
          19.18,
          14.45,
          17.54,
          23.29,
          13.81,
          15.12,
          17.01,
          20.58,
          28.11,
          17.42,
          14.19,
          13.86,
          19.8,
          19.53,
          15.75,
          12.83,
          17.05,
          20.51,
          23.21,
          20.48,
          17.46,
          19.4,
          20.94,
          19.73,
          17.3,
          19.45,
          13.96,
          19.55,
          15.32,
          15.66,
          15.53,
          20.31,
          17.35,
          17.29,
          15.61,
          17.19,
          20.73,
          21.75,
          17.93,
          18.81,
          19.16,
          19.4,
          16.24,
          11.76,
          19.53,
          20.09,
          18.22,
          20.16,
          20.34,
          16.27,
          16.26,
          16.03,
          17.06,
          18.77,
          23.51,
          19.68,
          15.75,
          25.73,
          15.08,
          20.44,
          20.2,
          21.71,
          22.01,
          16.35,
          21.37,
          20.64,
          11.08,
          14.6,
          19.55,
          15.49,
          21.61,
          17.91,
          17.99,
          15.13,
          15.5,
          14.9,
          20.18,
          18.82,
          13.98,
          17.27,
          18.03,
          17.75,
          21.1,
          19.59,
          17.08,
          27.42,
          17.6,
          16.25,
          19.44,
          16.69,
          18.01,
          18.49,
          20.59,
          13.82,
          23.09,
          15.46,
          13.4,
          15.05,
          18.31,
          19.89,
          24.63,
          20.47,
          20.55,
          14.27,
          15.22,
          20.92,
          21.56,
          20.13,
          16.6,
          20.6
         ],
         "xaxis": "x",
         "xbins": {
          "end": 28.11,
          "size": 0.5,
          "start": 10.95
         },
         "yaxis": "y"
        },
        {
         "legendgroup": "Benign",
         "marker": {
          "color": "rgb(31, 119, 180)"
         },
         "mode": "lines",
         "name": "Benign",
         "showlegend": false,
         "type": "scatter",
         "x": [
          6.981,
          7.002738,
          7.024476,
          7.046214,
          7.067952,
          7.08969,
          7.111428,
          7.133166,
          7.154904,
          7.176642,
          7.19838,
          7.220118,
          7.241856,
          7.263594,
          7.285332,
          7.3070699999999995,
          7.3288079999999995,
          7.350546,
          7.372284,
          7.394022,
          7.41576,
          7.437498,
          7.459236,
          7.480974,
          7.502712,
          7.52445,
          7.546188,
          7.567926,
          7.589664,
          7.611402,
          7.63314,
          7.654878,
          7.676616,
          7.698354,
          7.720092,
          7.74183,
          7.763568,
          7.785306,
          7.807044,
          7.828782,
          7.8505199999999995,
          7.872258,
          7.893996,
          7.9157340000000005,
          7.937472,
          7.95921,
          7.980948,
          8.002686,
          8.024424,
          8.046162,
          8.0679,
          8.089638,
          8.111376,
          8.133114,
          8.154852,
          8.176590000000001,
          8.198328,
          8.220066,
          8.241804,
          8.263542,
          8.28528,
          8.307018,
          8.328756,
          8.350494,
          8.372232,
          8.39397,
          8.415708,
          8.437446,
          8.459184,
          8.480922,
          8.50266,
          8.524398,
          8.546136,
          8.567874,
          8.589612,
          8.61135,
          8.633088,
          8.654826,
          8.676564,
          8.698302,
          8.720040000000001,
          8.741778,
          8.763516,
          8.785254,
          8.806992000000001,
          8.82873,
          8.850468,
          8.872206,
          8.893944,
          8.915682,
          8.93742,
          8.959158,
          8.980896,
          9.002634,
          9.024372,
          9.04611,
          9.067848,
          9.089586,
          9.111324,
          9.133062,
          9.1548,
          9.176538,
          9.198276,
          9.220013999999999,
          9.241752,
          9.263490000000001,
          9.285228,
          9.306966,
          9.328704,
          9.350442000000001,
          9.37218,
          9.393918,
          9.415656,
          9.437394000000001,
          9.459132,
          9.48087,
          9.502608,
          9.524346000000001,
          9.546084,
          9.567822,
          9.58956,
          9.611298,
          9.633036,
          9.654774,
          9.676512,
          9.69825,
          9.719988,
          9.741726,
          9.763464,
          9.785202,
          9.80694,
          9.828678,
          9.850416000000001,
          9.872154,
          9.893892000000001,
          9.91563,
          9.937368,
          9.959106,
          9.980844000000001,
          10.002582,
          10.02432,
          10.046058,
          10.067796,
          10.089534,
          10.111272,
          10.13301,
          10.154748000000001,
          10.176486,
          10.198224,
          10.219962,
          10.2417,
          10.263438,
          10.285176,
          10.306914,
          10.328652,
          10.35039,
          10.372128,
          10.393866000000001,
          10.415604,
          10.437342000000001,
          10.45908,
          10.480818000000001,
          10.502556,
          10.524294000000001,
          10.546032,
          10.56777,
          10.589508,
          10.611246000000001,
          10.632984,
          10.654722,
          10.67646,
          10.698198,
          10.719936,
          10.741674,
          10.763412,
          10.78515,
          10.806888,
          10.828626,
          10.850364,
          10.872102000000002,
          10.89384,
          10.915578,
          10.937316000000001,
          10.959054,
          10.980792000000001,
          11.00253,
          11.024268,
          11.046006,
          11.067744000000001,
          11.089482,
          11.11122,
          11.132958,
          11.154696000000001,
          11.176434,
          11.198172,
          11.21991,
          11.241648000000001,
          11.263386,
          11.285124,
          11.306862,
          11.328600000000002,
          11.350338,
          11.372076,
          11.393813999999999,
          11.415552000000002,
          11.43729,
          11.459028,
          11.480766,
          11.502504000000002,
          11.524242000000001,
          11.54598,
          11.567718000000001,
          11.589456000000002,
          11.611194000000001,
          11.632932,
          11.654670000000001,
          11.676408,
          11.698146000000001,
          11.719884,
          11.741622,
          11.76336,
          11.785098000000001,
          11.806836,
          11.828574,
          11.850312,
          11.872050000000002,
          11.893788,
          11.915526,
          11.937264,
          11.959002,
          11.98074,
          12.002478,
          12.024216,
          12.045954000000002,
          12.067692000000001,
          12.08943,
          12.111168,
          12.132906000000002,
          12.154644000000001,
          12.176382,
          12.19812,
          12.219858000000002,
          12.241596000000001,
          12.263334,
          12.285072000000001,
          12.30681,
          12.328548000000001,
          12.350286,
          12.372024,
          12.393762,
          12.415500000000002,
          12.437238,
          12.458976,
          12.480714,
          12.502452000000002,
          12.52419,
          12.545928,
          12.567666000000001,
          12.589404,
          12.611142000000001,
          12.63288,
          12.654618,
          12.676356,
          12.698094000000001,
          12.719832,
          12.74157,
          12.763308000000002,
          12.785046000000001,
          12.806784,
          12.828522,
          12.850260000000002,
          12.871998000000001,
          12.893736,
          12.915474,
          12.937212,
          12.958950000000002,
          12.980688,
          13.002426000000002,
          13.024164,
          13.045902000000002,
          13.06764,
          13.089378,
          13.111116,
          13.132854000000002,
          13.154592000000001,
          13.17633,
          13.198068000000001,
          13.219806,
          13.241544000000001,
          13.263282,
          13.285020000000001,
          13.306758,
          13.328496000000001,
          13.350234,
          13.371972,
          13.39371,
          13.415448000000001,
          13.437186,
          13.458924,
          13.480662000000002,
          13.502400000000002,
          13.524138,
          13.545876,
          13.567614,
          13.589352000000002,
          13.61109,
          13.632828,
          13.654566,
          13.676304000000002,
          13.698042000000001,
          13.71978,
          13.741518000000001,
          13.763256000000002,
          13.784994000000001,
          13.806732,
          13.828470000000001,
          13.850208,
          13.871946000000001,
          13.893684,
          13.915422000000001,
          13.93716,
          13.958898000000001,
          13.980636,
          14.002374,
          14.024112,
          14.045850000000002,
          14.067588,
          14.089326,
          14.111064,
          14.132802000000002,
          14.15454,
          14.176278,
          14.198016000000003,
          14.219754000000002,
          14.241492000000001,
          14.26323,
          14.284968000000001,
          14.306706000000002,
          14.328444000000001,
          14.350182,
          14.371920000000001,
          14.393658000000002,
          14.415396000000001,
          14.437134,
          14.458872000000001,
          14.480610000000002,
          14.502348000000001,
          14.524086,
          14.545824000000001,
          14.567562,
          14.589300000000001,
          14.611038,
          14.632776,
          14.654514,
          14.676252000000002,
          14.69799,
          14.719728,
          14.741466,
          14.763204000000002,
          14.784942000000001,
          14.80668,
          14.828418000000001,
          14.850156000000002,
          14.871894000000001,
          14.893632,
          14.91537,
          14.937108000000002,
          14.958846000000001,
          14.980584,
          15.002322000000001,
          15.02406,
          15.045798000000001,
          15.067536,
          15.089274000000001,
          15.111012,
          15.132750000000001,
          15.154488,
          15.176226,
          15.197964000000002,
          15.219702000000002,
          15.24144,
          15.263178000000002,
          15.284916,
          15.306654,
          15.328392000000001,
          15.35013,
          15.371868000000001,
          15.393606000000002,
          15.415344000000001,
          15.437082,
          15.458820000000001,
          15.480558,
          15.502296000000001,
          15.524034000000002,
          15.545772000000001,
          15.567510000000002,
          15.589248000000001,
          15.610986,
          15.632724000000001,
          15.654462,
          15.676200000000001,
          15.697938000000002,
          15.719676000000002,
          15.741414,
          15.763152000000002,
          15.78489,
          15.806628,
          15.828366,
          15.850104000000002,
          15.871842000000001,
          15.893580000000002,
          15.915318000000001,
          15.937056,
          15.958794000000001,
          15.980532,
          16.002270000000003,
          16.024008000000002,
          16.045746,
          16.067484,
          16.089222,
          16.11096,
          16.132698,
          16.154436000000004,
          16.176174000000003,
          16.197912000000002,
          16.21965,
          16.241388,
          16.263126,
          16.284864,
          16.306601999999998,
          16.328340000000004,
          16.350078000000003,
          16.371816000000003,
          16.393554,
          16.415292,
          16.43703,
          16.458768,
          16.480506000000002,
          16.502244,
          16.523982000000004,
          16.545720000000003,
          16.567458000000002,
          16.589196,
          16.610934,
          16.632672,
          16.654410000000002,
          16.676148,
          16.697886000000004,
          16.719624000000003,
          16.741362000000002,
          16.7631,
          16.784838,
          16.806576,
          16.828314000000002,
          16.850052,
          16.87179,
          16.893528000000003,
          16.915266000000003,
          16.937004,
          16.958742,
          16.98048,
          17.002218,
          17.023956000000002,
          17.045694,
          17.067432,
          17.089170000000003,
          17.110908000000002,
          17.132646,
          17.154384,
          17.176122,
          17.19786,
          17.219598,
          17.241336,
          17.263074000000003,
          17.284812000000002,
          17.30655,
          17.328288,
          17.350026,
          17.371764,
          17.393502,
          17.41524,
          17.436978000000003,
          17.458716000000003,
          17.480454,
          17.502192,
          17.52393,
          17.545668,
          17.567406,
          17.589144000000005,
          17.610882000000004,
          17.632620000000003,
          17.654358000000002,
          17.676096,
          17.697834,
          17.719572,
          17.74131,
          17.763048,
          17.784786000000004,
          17.806524000000003,
          17.828262000000002
         ],
         "xaxis": "x",
         "y": [
          0.004977643189970393,
          0.005161048806328046,
          0.005348947025325503,
          0.005541417936637831,
          0.005738544274717435,
          0.005940411560808238,
          0.0061471082855979655,
          0.006358726135587434,
          0.006575360265208322,
          0.0067971096155324835,
          0.007024077279106223,
          0.007256370909034651,
          0.007494103168961668,
          0.007737392219071562,
          0.007986362231709352,
          0.008241143928716452,
          0.008501875131140984,
          0.008768701310644559,
          0.009041776130728487,
          0.00932126196487527,
          0.009607330377881276,
          0.009900162556073556,
          0.010199949671785589,
          0.01050689316743538,
          0.010821204944822102,
          0.011143107445847055,
          0.011472833611774404,
          0.011810626709376867,
          0.012156740013852474,
          0.012511436340233592,
          0.012874987417117258,
          0.013247673098895792,
          0.013629780415222361,
          0.014021602459164739,
          0.014423437118335717,
          0.014835585656185386,
          0.01525835115354583,
          0.015692036823372148,
          0.016136944214366088,
          0.016593371321739832,
          0.01706161062571959,
          0.01754194708044369,
          0.01803465607762626,
          0.018540001410689986,
          0.019058233265971267,
          0.019589586268044988,
          0.02013427760616671,
          0.020692505268280953,
          0.021264446407978185,
          0.021850255868213864,
          0.02245006488353279,
          0.023063979980005738,
          0.02369208208910815,
          0.024334425888404683,
          0.024991039378195433,
          0.025661923699299205,
          0.026347053192958613,
          0.02704637569953561,
          0.027759813088297926,
          0.028487262006266684,
          0.029228594829889935,
          0.029983660799307064,
          0.030752287311271973,
          0.03153428134347368,
          0.03232943098013049,
          0.033137507006383085,
          0.03395826453726054,
          0.034791444645869835,
          0.035636775955024846,
          0.036493976156797586,
          0.037362753425472114,
          0.03824280769109804,
          0.039133831743279834,
          0.04003551213795554,
          0.04094752988369056,
          0.0418695608883713,
          0.042801276152071445,
          0.043742341697195736,
          0.044692418232695735,
          0.04565116055509874,
          0.046618216695191686,
          0.04759322682533627,
          0.04857582194845927,
          0.04956562239562707,
          0.05056223616467966,
          0.05156525713754184,
          0.05257426321844019,
          0.053588814439245964,
          0.054608451081429525,
          0.05563269186659152,
          0.056661032269140744,
          0.05769294300539505,
          0.05872786875312777,
          0.05976522715437419,
          0.060804408152122034,
          0.06184477370838815,
          0.06288565794712288,
          0.06392636776047632,
          0.06496618391123717,
          0.06600436265782961,
          0.06704013792118951,
          0.06807272400528415,
          0.06910131887506589,
          0.07012510798742408,
          0.07114326866232312,
          0.07215497497294557,
          0.07315940312540951,
          0.0741557372906617,
          0.07514317584355884,
          0.07612093795709038,
          0.07708827049326365,
          0.07804445512647326,
          0.07898881563029848,
          0.07992072525470306,
          0.0808396141175842,
          0.08174497653260213,
          0.08263637819422624,
          0.0835134631409684,
          0.0843759604188333,
          0.08522369036906925,
          0.08605657046730379,
          0.086874620645043,
          0.08767796802923288,
          0.08846685104102195,
          0.08924162280096595,
          0.0900027537945346,
          0.09075083375885064,
          0.09148657275896206,
          0.0922108014295468,
          0.09292447036562332,
          0.09362864865351997,
          0.09432452154091649,
          0.09501338725211951,
          0.09569665296179589,
          0.09637582994708145,
          0.09705252794423672,
          0.09772844874180295,
          0.0984053790474664,
          0.09908518267054557,
          0.09976979206616922,
          0.10046119929080063,
          0.10116144642180748,
          0.10187261549628397,
          0.1025968180263594,
          0.10333618414976782,
          0.10409285147560825,
          0.1048689536859842,
          0.1056666089546663,
          0.1064879082441049,
          0.10733490354207317,
          0.10820959609901368,
          0.10911392472680283,
          0.1100497542191991,
          0.11101886395372101,
          0.11202293673411093,
          0.11306354793193826,
          0.11414215498521307,
          0.11526008731119493,
          0.1164185366897878,
          0.11761854817306863,
          0.1188610115755091,
          0.12014665359831733,
          0.12147603063999599,
          0.12284952234363326,
          0.12426732592957603,
          0.12572945135993033,
          0.1272357173787367,
          0.12878574846866073,
          0.130378972761551,
          0.13201462093624802,
          0.13369172613253735,
          0.13540912490513224,
          0.13716545923602713,
          0.13895917961750617,
          0.1407885492115537,
          0.142651649084384,
          0.14454638450741925,
          0.14647049230825646,
          0.1484215492471282,
          0.15039698138612198,
          0.15239407441006844,
          0.15440998484966623,
          0.15644175214913503,
          0.1584863115126636,
          0.16054050745616621,
          0.16260110798357139,
          0.16466481930010207,
          0.16672830096888397,
          0.16878818141184768,
          0.1708410736513483,
          0.1728835911852973,
          0.17491236388595924,
          0.17692405381096618,
          0.17891537081457506,
          0.18088308784777907,
          0.18282405583758796,
          0.18473521803860327,
          0.1866136237539204,
          0.18845644132734218,
          0.19026097031484132,
          0.1920246527500949,
          0.19374508342665667,
          0.19542001912781215,
          0.19704738674433028,
          0.19862529023001135,
          0.20015201635506547,
          0.2016260392277851,
          0.20304602356560345,
          0.2044108267073068,
          0.20571949936879627,
          0.20697128515523652,
          0.20816561885258222,
          0.2093021235312309,
          0.2103806065038194,
          0.21140105418785607,
          0.212363625931917,
          0.213268646871438,
          0.21411659988665982,
          0.2149081167410084,
          0.2156439684830559,
          0.21632505519921855,
          0.21695239520749365,
          0.21752711378481182,
          0.21805043152201517,
          0.21852365240107782,
          0.2189481516889996,
          0.2193253637418518,
          0.21965676981080612,
          0.21994388593963876,
          0.22018825104026127,
          0.22039141522931086,
          0.22055492850479816,
          0.22068032983731178,
          0.22076913674536164,
          0.22082283541915748,
          0.22084287145151574,
          0.2208306412287083,
          0.22078748402794793,
          0.2207146748618997,
          0.22061341810415375,
          0.2204848419230037,
          0.22032999354422658,
          0.22014983535685287,
          0.2199452418692086,
          0.21971699751581544,
          0.21946579530913057,
          0.2191922363235853,
          0.21889682999301294,
          0.21857999519637902,
          0.2182420621007852,
          0.21788327472504054,
          0.2175037941817759,
          0.21710370255111486,
          0.2166830073343938,
          0.21624164643238308,
          0.21577949358896298,
          0.21529636423825912,
          0.21479202169096145,
          0.21426618359387253,
          0.21371852859580343,
          0.21314870315268292,
          0.2125563284052411,
          0.21194100706386898,
          0.21130233023722148,
          0.2106398841438121,
          0.2099532566492353,
          0.20924204357565565,
          0.2085058547348425,
          0.20774431964115483,
          0.20695709286649105,
          0.20614385900517535,
          0.2053043372229799,
          0.20443828537088085,
          0.2035455036505935,
          0.20262583782532373,
          0.201679181975388,
          0.2007054808043007,
          0.19970473150646204,
          0.19867698521263635,
          0.197622348033867,
          0.19654098172827353,
          0.19543310401822897,
          0.19429898858767713,
          0.19313896479079048,
          0.19195341710376004,
          0.19074278435125394,
          0.18950755873800315,
          0.18824828471411698,
          0.1869655577001321,
          0.18566002269457282,
          0.18433237278299588,
          0.18298334756325135,
          0.18161373149711402,
          0.18022435219366867,
          0.1788160786249736,
          0.17738981926978148,
          0.17594652017651846,
          0.1744871629325339,
          0.17301276252290768,
          0.1715243650589767,
          0.17002304535434967,
          0.16850990432456267,
          0.16698606618582637,
          0.16545267542852654,
          0.16391089354233457,
          0.16236189547196425,
          0.16080686578576833,
          0.15924699454345162,
          0.15768347285415285,
          0.15611748812192802,
          0.15455021898212598,
          0.15298282993921414,
          0.15141646572410392,
          0.14985224539680972,
          0.14829125622820677,
          0.14673454740253783,
          0.14518312358999205,
          0.14363793844598313,
          0.1420998881005021,
          0.1405698047069518,
          0.13904845012504669,
          0.1375365098165262,
          0.13603458703547563,
          0.13454319739686185,
          0.13306276390740057,
          0.13159361254200796,
          0.1301359684468246,
          0.12868995284613224,
          0.12725558072541157,
          0.12583275935638144,
          0.12442128772215487,
          0.12302085689176885,
          0.12163105138337468,
          0.12025135154447818,
          0.11888113696591276,
          0.1175196909339236,
          0.11616620591197024,
          0.11481979003083988,
          0.11347947455258962,
          0.11214422226089564,
          0.1108129367177738,
          0.10948447231456508,
          0.10815764503369243,
          0.10683124382722181,
          0.10550404250880639,
          0.10417481204735077,
          0.10284233314379365,
          0.10150540896690968,
          0.10016287792003985,
          0.09881362630825044,
          0.0974566007746262,
          0.09609082037525774,
          0.09471538816494762,
          0.09332950216974532,
          0.09193246562803965,
          0.09052369638903097,
          0.0891027353658831,
          0.08766925395058973,
          0.08622306030846219,
          0.08476410448200723,
          0.08329248224665704,
          0.0818084376741734,
          0.0803123643733982,
          0.07880480539218347,
          0.07728645177863008,
          0.07575813981400709,
          0.07422084694373933,
          0.07267568644647177,
          0.07112390089426462,
          0.06956685446932057,
          0.06800602421410545,
          0.06644299030221515,
          0.06487942542672119,
          0.06331708341089745,
          0.06175778715313505,
          0.06020341602339442,
          0.058655892832714634,
          0.05711717050004306,
          0.05558921854198831,
          0.05407400951102186,
          0.05257350550619925,
          0.0510896448777021,
          0.04962432924244618,
          0.04817941092276681,
          0.04675668091386042,
          0.04535785747832454,
          0.043984575457914545,
          0.04263837638366158,
          0.04132069945585437,
          0.04003287345526123,
          0.03877610963644922,
          0.03755149564329748,
          0.036359990475925495,
          0.03520242052740567,
          0.03407947669790116,
          0.03299171258341547,
          0.03193954372624417,
          0.03092324790459154,
          0.029942966429756437,
          0.028998706410868273,
          0.028090343939445764,
          0.027217628139119994,
          0.026380186019740508,
          0.025577528069823118,
          0.024809054516907462,
          0.02407406218189228,
          0.023371751850797828,
          0.022701236085669502,
          0.022061547395448623,
          0.02145164668757606,
          0.020870431921820087,
          0.02031674688928621,
          0.019789390041714896,
          0.019287123298960346,
          0.018808680765889253,
          0.018352777293791384,
          0.01791811682568045,
          0.01750340046951352,
          0.01710733424830603,
          0.01672863648129398,
          0.016366044755630145,
          0.016018322453531707,
          0.0156842648052606,
          0.015362704443755787,
          0.01505251644209412,
          0.014752622820185196,
          0.014461996512155764,
          0.014179664790715264,
          0.013904712149377791,
          0.013636282647717941,
          0.013373581728834053,
          0.013115877521863861,
          0.012862501645727095,
          0.012612849533254197,
          0.012366380297487396,
          0.012122616164215928,
          0.011881141496733916,
          0.011641601440393069,
          0.011403700215776177,
          0.011167199090254674,
          0.010931914058332179,
          0.010697713261531409,
          0.010464514178679853,
          0.01023228061730657,
          0.010001019536504497,
          0.00977077773106116,
          0.009541638405938947,
          0.009313717669316029,
          0.009087160971404797,
          0.008862139515162687,
          0.008638846663826284,
          0.008417494368945877,
          0.008198309641294092,
          0.007981531085683587,
          0.007767405519365402,
          0.00755618469230478,
          0.007348122126253671,
          0.0071434700881636715,
          0.006942476712117667,
          0.006745383282605827,
          0.006552421690632251,
          0.0063638120728157525,
          0.006179760642339895,
          0.006000457719313031,
          0.0058260759668163275,
          0.005656768837645852,
          0.005492669235489377,
          0.005333888393019161,
          0.0051805149681273,
          0.005032614358277176,
          0.0048902282316948984,
          0.004753374272879054,
          0.004622046138665758,
          0.0044962136198541626,
          0.004375823002179161,
          0.004260797619216628,
          0.004151038588633476,
          0.004046425722052715,
          0.0039468185977070734,
          0.0038520577840096327,
          0.003761966201189545,
          0.0036763506072351373,
          0.003595003193568411,
          0.003517703275153932,
          0.0034442190591343173,
          0.0033743094755933896,
          0.0033077260536868093,
          0.003244214826157221,
          0.0031835182451737647,
          0.003125377092510254,
          0.003069532367304646,
          0.003015727135029722,
          0.0029637083218460704,
          0.0029132284392053287,
          0.0028640472244168564,
          0.002815933183877687,
          0.002768665026785561,
          0.002722032978394866,
          0.002675839963223697,
          0.002629902650060429
         ],
         "yaxis": "y"
        },
        {
         "legendgroup": "Malignant",
         "marker": {
          "color": "rgb(255, 127, 14)"
         },
         "mode": "lines",
         "name": "Malignant",
         "showlegend": false,
         "type": "scatter",
         "x": [
          10.95,
          10.984319999999999,
          11.01864,
          11.052959999999999,
          11.08728,
          11.121599999999999,
          11.15592,
          11.19024,
          11.224559999999999,
          11.25888,
          11.293199999999999,
          11.32752,
          11.361839999999999,
          11.39616,
          11.43048,
          11.464799999999999,
          11.49912,
          11.533439999999999,
          11.56776,
          11.602079999999999,
          11.6364,
          11.67072,
          11.705039999999999,
          11.73936,
          11.773679999999999,
          11.808,
          11.842319999999999,
          11.87664,
          11.91096,
          11.945279999999999,
          11.9796,
          12.013919999999999,
          12.04824,
          12.082559999999999,
          12.11688,
          12.1512,
          12.185519999999999,
          12.21984,
          12.254159999999999,
          12.28848,
          12.322799999999999,
          12.35712,
          12.39144,
          12.425759999999999,
          12.46008,
          12.494399999999999,
          12.52872,
          12.563039999999999,
          12.59736,
          12.63168,
          12.665999999999999,
          12.70032,
          12.734639999999999,
          12.76896,
          12.803279999999999,
          12.837599999999998,
          12.87192,
          12.906239999999999,
          12.94056,
          12.974879999999999,
          13.0092,
          13.04352,
          13.077839999999998,
          13.11216,
          13.14648,
          13.1808,
          13.215119999999999,
          13.24944,
          13.28376,
          13.318079999999998,
          13.3524,
          13.386719999999999,
          13.42104,
          13.455359999999999,
          13.48968,
          13.524,
          13.558319999999998,
          13.59264,
          13.62696,
          13.66128,
          13.695599999999999,
          13.72992,
          13.76424,
          13.798559999999998,
          13.83288,
          13.867199999999999,
          13.90152,
          13.935839999999999,
          13.97016,
          14.00448,
          14.038799999999998,
          14.07312,
          14.10744,
          14.14176,
          14.176079999999999,
          14.2104,
          14.24472,
          14.279039999999998,
          14.31336,
          14.347679999999999,
          14.382,
          14.416319999999999,
          14.45064,
          14.48496,
          14.519279999999998,
          14.5536,
          14.58792,
          14.62224,
          14.656559999999999,
          14.69088,
          14.7252,
          14.759519999999998,
          14.79384,
          14.828159999999999,
          14.86248,
          14.896799999999999,
          14.93112,
          14.96544,
          14.999759999999998,
          15.03408,
          15.068399999999999,
          15.10272,
          15.137039999999999,
          15.17136,
          15.20568,
          15.239999999999998,
          15.27432,
          15.30864,
          15.34296,
          15.377279999999999,
          15.4116,
          15.44592,
          15.480239999999998,
          15.51456,
          15.54888,
          15.583199999999998,
          15.617519999999999,
          15.65184,
          15.68616,
          15.720479999999998,
          15.7548,
          15.78912,
          15.823439999999998,
          15.857759999999999,
          15.89208,
          15.9264,
          15.960719999999998,
          15.99504,
          16.029359999999997,
          16.063679999999998,
          16.098,
          16.13232,
          16.16664,
          16.20096,
          16.23528,
          16.2696,
          16.303919999999998,
          16.33824,
          16.37256,
          16.40688,
          16.4412,
          16.47552,
          16.50984,
          16.544159999999998,
          16.57848,
          16.6128,
          16.64712,
          16.68144,
          16.71576,
          16.75008,
          16.784399999999998,
          16.81872,
          16.85304,
          16.88736,
          16.92168,
          16.956,
          16.990319999999997,
          17.024639999999998,
          17.05896,
          17.09328,
          17.1276,
          17.16192,
          17.19624,
          17.23056,
          17.264879999999998,
          17.2992,
          17.33352,
          17.36784,
          17.40216,
          17.43648,
          17.4708,
          17.505119999999998,
          17.53944,
          17.57376,
          17.60808,
          17.6424,
          17.67672,
          17.71104,
          17.745359999999998,
          17.77968,
          17.814,
          17.84832,
          17.88264,
          17.91696,
          17.951279999999997,
          17.985599999999998,
          18.01992,
          18.05424,
          18.08856,
          18.12288,
          18.1572,
          18.19152,
          18.225839999999998,
          18.26016,
          18.29448,
          18.3288,
          18.36312,
          18.39744,
          18.43176,
          18.466079999999998,
          18.5004,
          18.53472,
          18.56904,
          18.60336,
          18.63768,
          18.672,
          18.706319999999998,
          18.74064,
          18.77496,
          18.80928,
          18.8436,
          18.87792,
          18.912239999999997,
          18.946559999999998,
          18.98088,
          19.0152,
          19.04952,
          19.08384,
          19.11816,
          19.152479999999997,
          19.186799999999998,
          19.22112,
          19.25544,
          19.28976,
          19.32408,
          19.3584,
          19.392719999999997,
          19.427039999999998,
          19.46136,
          19.49568,
          19.53,
          19.56432,
          19.598639999999996,
          19.63296,
          19.667279999999998,
          19.7016,
          19.73592,
          19.77024,
          19.80456,
          19.838879999999996,
          19.8732,
          19.907519999999998,
          19.94184,
          19.97616,
          20.01048,
          20.0448,
          20.07912,
          20.11344,
          20.147759999999998,
          20.18208,
          20.2164,
          20.25072,
          20.285040000000002,
          20.31936,
          20.353679999999997,
          20.387999999999998,
          20.42232,
          20.45664,
          20.49096,
          20.525280000000002,
          20.5596,
          20.593919999999997,
          20.628239999999998,
          20.66256,
          20.69688,
          20.7312,
          20.765520000000002,
          20.79984,
          20.834159999999997,
          20.868479999999998,
          20.9028,
          20.93712,
          20.97144,
          21.00576,
          21.04008,
          21.074399999999997,
          21.108719999999998,
          21.14304,
          21.17736,
          21.21168,
          21.246,
          21.28032,
          21.314639999999997,
          21.348959999999998,
          21.38328,
          21.4176,
          21.45192,
          21.48624,
          21.520559999999996,
          21.554879999999997,
          21.589199999999998,
          21.62352,
          21.65784,
          21.69216,
          21.72648,
          21.760799999999996,
          21.79512,
          21.829439999999998,
          21.86376,
          21.89808,
          21.9324,
          21.96672,
          22.00104,
          22.03536,
          22.069679999999998,
          22.104,
          22.13832,
          22.17264,
          22.206960000000002,
          22.24128,
          22.275599999999997,
          22.309919999999998,
          22.34424,
          22.37856,
          22.412879999999998,
          22.447200000000002,
          22.48152,
          22.515839999999997,
          22.550159999999998,
          22.58448,
          22.6188,
          22.65312,
          22.687440000000002,
          22.72176,
          22.756079999999997,
          22.790399999999998,
          22.82472,
          22.85904,
          22.89336,
          22.92768,
          22.962,
          22.996319999999997,
          23.03064,
          23.06496,
          23.09928,
          23.1336,
          23.16792,
          23.20224,
          23.236559999999997,
          23.27088,
          23.3052,
          23.33952,
          23.37384,
          23.40816,
          23.442479999999996,
          23.476799999999997,
          23.51112,
          23.54544,
          23.57976,
          23.61408,
          23.6484,
          23.682719999999996,
          23.71704,
          23.75136,
          23.78568,
          23.82,
          23.85432,
          23.88864,
          23.92296,
          23.95728,
          23.9916,
          24.02592,
          24.06024,
          24.09456,
          24.128880000000002,
          24.1632,
          24.197519999999997,
          24.23184,
          24.26616,
          24.30048,
          24.334799999999998,
          24.369120000000002,
          24.40344,
          24.437759999999997,
          24.47208,
          24.5064,
          24.54072,
          24.57504,
          24.609360000000002,
          24.64368,
          24.677999999999997,
          24.71232,
          24.74664,
          24.78096,
          24.81528,
          24.8496,
          24.88392,
          24.918239999999997,
          24.95256,
          24.98688,
          25.0212,
          25.05552,
          25.08984,
          25.12416,
          25.158479999999997,
          25.1928,
          25.22712,
          25.26144,
          25.29576,
          25.33008,
          25.364399999999996,
          25.398719999999997,
          25.43304,
          25.46736,
          25.50168,
          25.536,
          25.57032,
          25.604639999999996,
          25.63896,
          25.67328,
          25.7076,
          25.74192,
          25.77624,
          25.81056,
          25.84488,
          25.8792,
          25.91352,
          25.94784,
          25.98216,
          26.01648,
          26.0508,
          26.08512,
          26.119439999999997,
          26.15376,
          26.18808,
          26.2224,
          26.256719999999998,
          26.291040000000002,
          26.32536,
          26.359679999999997,
          26.394,
          26.42832,
          26.46264,
          26.49696,
          26.531280000000002,
          26.5656,
          26.599919999999997,
          26.63424,
          26.66856,
          26.70288,
          26.7372,
          26.77152,
          26.80584,
          26.840159999999997,
          26.87448,
          26.9088,
          26.94312,
          26.97744,
          27.01176,
          27.04608,
          27.080399999999997,
          27.11472,
          27.14904,
          27.18336,
          27.217679999999998,
          27.252,
          27.28632,
          27.320639999999997,
          27.35496,
          27.38928,
          27.423599999999997,
          27.45792,
          27.492240000000002,
          27.52656,
          27.56088,
          27.5952,
          27.62952,
          27.66384,
          27.698159999999998,
          27.73248,
          27.7668,
          27.801119999999997,
          27.83544,
          27.86976,
          27.90408,
          27.9384,
          27.97272,
          28.00704,
          28.04136,
          28.07568
         ],
         "xaxis": "x",
         "y": [
          0.01480303268216644,
          0.01526730541787941,
          0.015740422495930814,
          0.016222455049274255,
          0.016713477277626426,
          0.01721356634662551,
          0.01772280223536037,
          0.018241267531325517,
          0.01876904717227014,
          0.019306228134832914,
          0.019852899070294656,
          0.020409149888225512,
          0.020975071289255843,
          0.021550754248650324,
          0.022136289452812128,
          0.02273176669128477,
          0.023337274207244792,
          0.023952898009891012,
          0.02457872115252471,
          0.025214822980480583,
          0.02586127835340628,
          0.026518156846690087,
          0.027185521937105734,
          0.027863430177972145,
          0.028551930369310762,
          0.029251062728626712,
          0.029960858068031847,
          0.030681336983476363,
          0.031412509061846935,
          0.03215437211163797,
          0.0329069114227897,
          0.033670099061133024,
          0.03444389320266768,
          0.035228237512642015,
          0.03602306057409587,
          0.036828275370172775,
          0.0376437788241154,
          0.03846945140041665,
          0.03930515677013188,
          0.04015074154285133,
          0.04100603506729903,
          0.0418708493019734,
          0.04274497875667164,
          0.04362820050515754,
          0.04452027426864448,
          0.04542094256917455,
          0.04632993095139662,
          0.04724694827067071,
          0.04817168704487914,
          0.04910382386679367,
          0.050043019873354765,
          0.050988921267755,
          0.05194115988980035,
          0.05289935382965063,
          0.05386310807971655,
          0.054832015219225885,
          0.05580565612576068,
          0.05678360070792279,
          0.05776540865320311,
          0.058750630185110564,
          0.059738806823672476,
          0.06072947214352954,
          0.06172215252403982,
          0.06271636788605094,
          0.06371163241031465,
          0.06470745523289542,
          0.0657033411133508,
          0.06669879107194993,
          0.06769330299272684,
          0.06868637218974279,
          0.0696774919345397,
          0.07066615394341066,
          0.07165184882377726,
          0.07263406647963716,
          0.07361229647674018,
          0.07458602836882365,
          0.07555475198692325,
          0.07651795769442565,
          0.07747513661116605,
          0.0784257808104652,
          0.07936938349356197,
          0.08030543914639807,
          0.08123344368416323,
          0.08215289458939572,
          0.08306329104974663,
          0.08396413410176157,
          0.08485492678719618,
          0.08573517432845709,
          0.08660438432976407,
          0.08746206701052538,
          0.08830773547724688,
          0.08914090604001675,
          0.08996109857926006,
          0.09076783696800719,
          0.09156064955440381,
          0.09233906970858154,
          0.09310263643734304,
          0.09385089506936613,
          0.0945833980128397,
          0.09529970558658493,
          0.0959993869248271,
          0.09668202095485016,
          0.0973471974458115,
          0.09799451812602908,
          0.09862359786507863,
          0.09923406591607288,
          0.09982556721254618,
          0.10039776371344764,
          0.10095033578886553,
          0.10148298363827173,
          0.10199542873230037,
          0.10248741526837535,
          0.10295871162986915,
          0.1034091118379362,
          0.10383843698471787,
          0.10424653663626551,
          0.10463329019328677,
          0.10499860819768711,
          0.10534243357285872,
          0.1056647427857655,
          0.10596554691908396,
          0.10624489264198793,
          0.10650286306861273,
          0.10673957849378429,
          0.10695519699626738,
          0.10714991490055549,
          0.10732396708908708,
          0.1074776271577325,
          0.10761120740843354,
          0.10772505867398711,
          0.10781956997114232,
          0.10789516797940459,
          0.10795231634421402,
          0.10799151480445981,
          0.10801329814561057,
          0.10801823498106608,
          0.10800692636564478,
          0.10798000424642168,
          0.10793812975739375,
          0.10788199136566977,
          0.1078123028780431,
          0.10772980131790966,
          0.10763524468350616,
          0.10752940959938287,
          0.10741308887385775,
          0.1072870889759363,
          0.10715222744579991,
          0.10700933025347151,
          0.10685922912065453,
          0.10670275882099303,
          0.10654075447413688,
          0.10637404884899533,
          0.10620346969143747,
          0.10602983709144047,
          0.10585396090431644,
          0.10567663824014038,
          0.10549865103489633,
          0.10532076371613004,
          0.10514372097507503,
          0.10496824565629685,
          0.10479503677489779,
          0.10462476767024532,
          0.10445808430404292,
          0.10429560370936664,
          0.10413791259604888,
          0.10398556611652483,
          0.10383908679496728,
          0.10369896362124557,
          0.10356565130995174,
          0.10343956972347607,
          0.10332110345686872,
          0.10321060158102827,
          0.10310837753961415,
          0.1030147091939916,
          0.1029298390095082,
          0.10285397437546635,
          0.10278728805031206,
          0.10272991872280769,
          0.10268197167930915,
          0.10264351956671922,
          0.10261460324025418,
          0.10259523268483428,
          0.10258538799869693,
          0.10258502042772957,
          0.1025940534390333,
          0.1026123838223478,
          0.10263988280820213,
          0.10267639719198003,
          0.10272175045352891,
          0.10277574386245672,
          0.1028381575598728,
          0.10290875160801484,
          0.10298726699996132,
          0.10307342662244601,
          0.1031669361656649,
          0.10326748497487455,
          0.10337474683953489,
          0.10348838071671428,
          0.1036080313864617,
          0.10373333003783934,
          0.10386389478528686,
          0.10399933111595912,
          0.1041392322696171,
          0.10428317955356027,
          0.10443074259595352,
          0.10458147954172,
          0.1047349371959256,
          0.10489065112028323,
          0.10504814568902508,
          0.10520693411095043,
          0.10536651842492895,
          0.10552638947653234,
          0.10568602688378155,
          0.1058448990002188,
          0.106002462883653,
          0.10615816427898112,
          0.1063114376234554,
          0.10646170608264845,
          0.1066083816251721,
          0.10675086514392876,
          0.10688854663132273,
          0.10702080541543689,
          0.10714701046369057,
          0.10726652075994858,
          0.1073786857604425,
          0.10748284593321542,
          0.10757833338510049,
          0.10766447257951338,
          0.10774058114757101,
          0.10780597079426397,
          0.10785994830060351,
          0.10790181662184768,
          0.10793087608109707,
          0.10794642565672713,
          0.10794776436132437,
          0.10793419270899365,
          0.10790501426713728,
          0.10785953728805997,
          0.10779707641503446,
          0.10771695445679016,
          0.10761850422374396,
          0.10750107041869976,
          0.10736401157419678,
          0.10720670202819114,
          0.10702853392931304,
          0.10682891926255947,
          0.10660729188594982,
          0.10636310956840886,
          0.10609585601893386,
          0.10580504289695476,
          0.10549021179371608,
          0.10515093617448512,
          0.10478682327143472,
          0.10439751591714157,
          0.10398269430881388,
          0.10354207769356731,
          0.10307542596535284,
          0.10258254116446858,
          0.1020632688709658,
          0.10151749948369787,
          0.10094516937723878,
          0.10034626192941958,
          0.09972080841280176,
          0.09906888874400771,
          0.09839063208546649,
          0.09768621729480327,
          0.09695587321779715,
          0.0961998788215517,
          0.09541856316525758,
          0.0946123052066877,
          0.09378153344332175,
          0.09292672538777275,
          0.09204840687796154,
          0.09114715122325479,
          0.09022357818855035,
          0.089278352819048,
          0.08831218410918562,
          0.08732582351994471,
          0.0863200633494273,
          0.08529573496228765,
          0.08425370688424186,
          0.08319488276849465,
          0.08212019924150231,
          0.08103062363602431,
          0.07992715161991808,
          0.07881080472958271,
          0.07768262781736539,
          0.07654368642260438,
          0.07539506407629387,
          0.07423785954961515,
          0.07307318405679099,
          0.07190215842287162,
          0.07072591022717614,
          0.06954557093315991,
          0.06836227301548185,
          0.06717714709500605,
          0.06599131909236476,
          0.06480590741057231,
          0.06362202015698509,
          0.062440752414668,
          0.061263183572945065,
          0.06009037472659839,
          0.058923366152815,
          0.05776317487459091,
          0.05661079231887571,
          0.05546718207727662,
          0.05433327777666438,
          0.053209981066505534,
          0.05209815972921216,
          0.05099864591925405,
          0.049912234536198044,
          0.04883968173626252,
          0.04778170358637691,
          0.04673897486412716,
          0.045712128006362915,
          0.044701752208620014,
          0.043708392676896524,
          0.04273255003270478,
          0.04177467987170105,
          0.04083519247559165,
          0.03991445267640455,
          0.03901277987162244,
          0.03813044818809018,
          0.03726768679203686,
          0.036424680341991755,
          0.035601569580837725,
          0.03479845206271882,
          0.034015383010012834,
          0.033252376295103366,
          0.03250940554122005,
          0.031786405336187006,
          0.031083272552509887,
          0.030399867766852967,
          0.029736016771610852,
          0.02909151217096317,
          0.028466115053515453,
          0.02785955673338743,
          0.027271540551392897,
          0.02670174372778949,
          0.026149819257941437,
          0.025615397842146045,
          0.02509808984082868,
          0.024597487246301813,
          0.02411316566232169,
          0.023644686282758266,
          0.023191597860818692,
          0.02275343866043437,
          0.022329738381636533,
          0.021920020051999906,
          0.021523801876536422,
          0.02114059903875799,
          0.020769925446008804,
          0.020411295412584025,
          0.020064225274603806,
          0.01972823493109499,
          0.019402849306248564,
          0.019087599728359255,
          0.01878202522151645,
          0.018485673706699086,
          0.0181981031095195,
          0.017918882372472845,
          0.017647592370157516,
          0.01738382672654898,
          0.017127192534020775,
          0.01687731097441006,
          0.016633817843017637,
          0.01639636397700802,
          0.016164615590228474,
          0.015938254516996486,
          0.01571697836790331,
          0.015500500601148532,
          0.015288550513350183,
          0.0150808731541646,
          0.014877229169397769,
          0.014677394577591221,
          0.014481160485321842,
          0.014288332746659874,
          0.014098731572387224,
          0.0139121910946836,
          0.013728558893045256,
          0.01354769548720562,
          0.013369473802784864,
          0.013193778615304642,
          0.013020505978066208,
          0.012849562639209887,
          0.012680865453052026,
          0.012514340790534,
          0.012349923953324193,
          0.012187558595786152,
          0.012027196158672438,
          0.011868795318027384,
          0.011712321452385011,
          0.011557746130938526,
          0.011405046624936724,
          0.011254205444137131,
          0.011105209899718495,
          0.01095805169463141,
          0.010812726541950422,
          0.010669233811387221,
          0.01052757620373629,
          0.010387759452656119,
          0.010249792052844717,
          0.010113685013348186,
          0.009979451634452323,
          0.009847107306348505,
          0.009716669327540948,
          0.009588156740772943,
          0.009461590184097661,
          0.009336991754603209,
          0.009214384882225857,
          0.00909379421104518,
          0.008975245485454126,
          0.008858765438632727,
          0.008744381680824897,
          0.008632122585024295,
          0.008522017167812191,
          0.008414094963259662,
          0.008308385888001635,
          0.008204920095812142,
          0.008103727820252742,
          0.008004839204229062,
          0.007908284115567382,
          0.007814091948014147,
          0.007722291407359096,
          0.007632910282687083,
          0.00754597520306867,
          0.007461511380302608,
          0.007379542338620678,
          0.007300089632554187,
          0.007223172554436688,
          0.007148807833278329,
          0.007077009326989399,
          0.007007787710150535,
          0.006941150159724914,
          0.0068771000412780415,
          0.006815636598414309,
          0.006756754648252556,
          0.006700444285846005,
          0.006646690600502323,
          0.006595473406978072,
          0.006546766994507118,
          0.006500539896575262,
          0.006456754684273775,
          0.006415367785952379,
          0.006376329335750842,
          0.006339583053416239,
          0.006305066157613629,
          0.006272709314713224,
          0.006242436624788019,
          0.006214165646286113,
          0.0061878074605534435,
          0.006163266777078222,
          0.006140442080011306,
          0.006119225816189763,
          0.006099504624557217,
          0.006081159606537804,
          0.006064066636583205,
          0.006048096711778283,
          0.006033116339063077,
          0.006018987958310363,
          0.006005570399192039,
          0.005992719369476754,
          0.005980287972128436,
          0.005968127248323049,
          0.005956086743271374,
          0.00594401509153121,
          0.005931760618314242,
          0.005919171953143594,
          0.005906098652097847,
          0.00589239182478797,
          0.005877904762155514,
          0.005862493561153673,
          0.0058460177423783006,
          0.005828340856752308,
          0.005809331077434963,
          0.005788861773225277,
          0.005766812059855821,
          0.005743067325728258,
          0.005717519728822989,
          0.005690068661721089,
          0.005660621181904681,
          0.005629092404750459,
          0.005595405856897609,
          0.005559493787953163,
          0.005521297438792982,
          0.005480767265021953,
          0.005437863114469725,
          0.0053925543579165704,
          0.005344819972564112,
          0.005294648578085292,
          0.005242038425405127,
          0.005186997338674653,
          0.0051295426112038505,
          0.00506970085641238,
          0.005007507815137037,
          0.004943008120900968,
          0.004876255024999217,
          0.004807310083486426,
          0.004736242808364919,
          0.00466313028546233
         ],
         "yaxis": "y"
        },
        {
         "legendgroup": "Benign",
         "marker": {
          "color": "rgb(31, 119, 180)",
          "symbol": "line-ns-open"
         },
         "mode": "markers",
         "name": "Benign",
         "showlegend": false,
         "type": "scatter",
         "x": [
          13.54,
          13.08,
          9.504,
          13.03,
          8.196,
          12.05,
          13.49,
          11.76,
          13.64,
          11.94,
          11.52,
          13.05,
          8.618,
          10.17,
          8.598,
          9.173,
          9.465,
          11.31,
          9.029,
          12.78,
          8.888,
          12.31,
          13.53,
          12.86,
          11.45,
          13.34,
          12,
          12.36,
          14.64,
          14.62,
          13.27,
          13.45,
          12.18,
          9.787,
          11.6,
          6.981,
          12.18,
          9.876,
          10.49,
          11.64,
          12.36,
          11.34,
          9.777,
          12.63,
          14.26,
          10.51,
          8.726,
          11.93,
          8.95,
          11.41,
          14.5,
          13.37,
          13.85,
          15.1,
          12.19,
          15.71,
          11.71,
          11.43,
          11.28,
          9.738,
          11.43,
          12.9,
          10.75,
          11.9,
          14.95,
          14.44,
          13.74,
          13,
          8.219,
          9.731,
          11.15,
          13.15,
          12.25,
          16.84,
          12.06,
          10.9,
          11.75,
          12.34,
          14.97,
          10.8,
          14.97,
          12.32,
          11.08,
          10.66,
          8.671,
          9.904,
          13.01,
          12.81,
          11.41,
          10.08,
          11.71,
          11.81,
          12.3,
          12.77,
          9.72,
          12.91,
          12.23,
          12.47,
          9.876,
          13.11,
          15.27,
          11.84,
          11.89,
          10.2,
          13.65,
          13.56,
          10.18,
          13.27,
          14.34,
          10.44,
          15,
          12.62,
          11.32,
          11.22,
          9.567,
          14.03,
          14.22,
          13.64,
          12.42,
          11.3,
          13.75,
          10.48,
          13.2,
          12.89,
          10.65,
          11.52,
          11.5,
          10.6,
          13.59,
          12.87,
          10.71,
          14.29,
          11.29,
          9.742,
          11.89,
          11.33,
          13.59,
          13.85,
          11.74,
          12.89,
          12.58,
          11.94,
          12.89,
          11.26,
          11.37,
          14.41,
          14.96,
          12.95,
          11.85,
          12.72,
          13.77,
          10.91,
          14.26,
          10.51,
          12.46,
          10.49,
          11.46,
          11.6,
          13.2,
          9,
          13.5,
          13.05,
          11.7,
          14.61,
          12.76,
          11.54,
          8.597,
          12.49,
          12.18,
          9.042,
          12.43,
          10.25,
          12.86,
          12.2,
          12.67,
          14.11,
          12.03,
          12.98,
          11.22,
          11.25,
          12.3,
          12.99,
          10.05,
          14.42,
          9.606,
          11.06,
          11.71,
          10.26,
          12.06,
          14.76,
          11.47,
          11.95,
          11.66,
          11.14,
          12.56,
          13.05,
          13.87,
          8.878,
          9.436,
          12.54,
          13.3,
          12.76,
          16.5,
          13.4,
          12.21,
          15.19,
          13.69,
          16.17,
          10.57,
          13.46,
          13.66,
          11.27,
          11.04,
          12.05,
          12.39,
          13.28,
          12.21,
          13.88,
          11.27,
          10.26,
          8.734,
          12.1,
          14.06,
          13.51,
          12.8,
          11.06,
          11.8,
          11.93,
          12.96,
          12.94,
          12.34,
          10.94,
          16.14,
          12.85,
          12.27,
          11.36,
          11.04,
          9.397,
          14.99,
          11.89,
          9.405,
          12.7,
          11.16,
          11.57,
          14.69,
          11.61,
          13.66,
          9.742,
          10.03,
          10.48,
          10.8,
          11.13,
          12.72,
          12.4,
          14.86,
          12.87,
          14.04,
          13.85,
          14.02,
          10.97,
          13.78,
          10.57,
          11.99,
          14.8,
          14.53,
          11.87,
          12,
          14.53,
          12.62,
          13.38,
          11.63,
          13.21,
          13,
          9.755,
          14.4,
          11.6,
          13.17,
          13.24,
          13.14,
          9.668,
          11.62,
          9.667,
          12.04,
          14.92,
          12.27,
          10.88,
          12.83,
          14.2,
          13.9,
          11.49,
          12.16,
          13.9,
          13.47,
          13.7,
          15.73,
          12.45,
          14.64,
          11.68,
          12.25,
          17.85,
          12.46,
          13.16,
          14.87,
          12.65,
          12.47,
          15.04,
          12.54,
          9.268,
          9.676,
          12.22,
          11.06,
          16.3,
          11.74,
          14.81,
          14.58,
          11.34,
          12.88,
          12.75,
          9.295,
          11.26,
          13.71,
          9.847,
          8.571,
          13.46,
          12.34,
          13.94,
          12.07,
          11.75,
          11.67,
          13.68,
          10.96,
          11.69,
          7.729,
          7.691,
          11.54,
          14.47,
          14.74,
          13.21,
          13.87,
          13.62,
          10.32,
          10.26,
          9.683,
          10.82,
          10.86,
          11.13,
          12.77,
          9.333,
          12.88,
          10.29,
          10.16,
          9.423,
          14.59,
          11.51,
          14.05,
          11.2,
          7.76
         ],
         "xaxis": "x",
         "y": [
          "Benign",
          "Benign",
          "Benign",
          "Benign",
          "Benign",
          "Benign",
          "Benign",
          "Benign",
          "Benign",
          "Benign",
          "Benign",
          "Benign",
          "Benign",
          "Benign",
          "Benign",
          "Benign",
          "Benign",
          "Benign",
          "Benign",
          "Benign",
          "Benign",
          "Benign",
          "Benign",
          "Benign",
          "Benign",
          "Benign",
          "Benign",
          "Benign",
          "Benign",
          "Benign",
          "Benign",
          "Benign",
          "Benign",
          "Benign",
          "Benign",
          "Benign",
          "Benign",
          "Benign",
          "Benign",
          "Benign",
          "Benign",
          "Benign",
          "Benign",
          "Benign",
          "Benign",
          "Benign",
          "Benign",
          "Benign",
          "Benign",
          "Benign",
          "Benign",
          "Benign",
          "Benign",
          "Benign",
          "Benign",
          "Benign",
          "Benign",
          "Benign",
          "Benign",
          "Benign",
          "Benign",
          "Benign",
          "Benign",
          "Benign",
          "Benign",
          "Benign",
          "Benign",
          "Benign",
          "Benign",
          "Benign",
          "Benign",
          "Benign",
          "Benign",
          "Benign",
          "Benign",
          "Benign",
          "Benign",
          "Benign",
          "Benign",
          "Benign",
          "Benign",
          "Benign",
          "Benign",
          "Benign",
          "Benign",
          "Benign",
          "Benign",
          "Benign",
          "Benign",
          "Benign",
          "Benign",
          "Benign",
          "Benign",
          "Benign",
          "Benign",
          "Benign",
          "Benign",
          "Benign",
          "Benign",
          "Benign",
          "Benign",
          "Benign",
          "Benign",
          "Benign",
          "Benign",
          "Benign",
          "Benign",
          "Benign",
          "Benign",
          "Benign",
          "Benign",
          "Benign",
          "Benign",
          "Benign",
          "Benign",
          "Benign",
          "Benign",
          "Benign",
          "Benign",
          "Benign",
          "Benign",
          "Benign",
          "Benign",
          "Benign",
          "Benign",
          "Benign",
          "Benign",
          "Benign",
          "Benign",
          "Benign",
          "Benign",
          "Benign",
          "Benign",
          "Benign",
          "Benign",
          "Benign",
          "Benign",
          "Benign",
          "Benign",
          "Benign",
          "Benign",
          "Benign",
          "Benign",
          "Benign",
          "Benign",
          "Benign",
          "Benign",
          "Benign",
          "Benign",
          "Benign",
          "Benign",
          "Benign",
          "Benign",
          "Benign",
          "Benign",
          "Benign",
          "Benign",
          "Benign",
          "Benign",
          "Benign",
          "Benign",
          "Benign",
          "Benign",
          "Benign",
          "Benign",
          "Benign",
          "Benign",
          "Benign",
          "Benign",
          "Benign",
          "Benign",
          "Benign",
          "Benign",
          "Benign",
          "Benign",
          "Benign",
          "Benign",
          "Benign",
          "Benign",
          "Benign",
          "Benign",
          "Benign",
          "Benign",
          "Benign",
          "Benign",
          "Benign",
          "Benign",
          "Benign",
          "Benign",
          "Benign",
          "Benign",
          "Benign",
          "Benign",
          "Benign",
          "Benign",
          "Benign",
          "Benign",
          "Benign",
          "Benign",
          "Benign",
          "Benign",
          "Benign",
          "Benign",
          "Benign",
          "Benign",
          "Benign",
          "Benign",
          "Benign",
          "Benign",
          "Benign",
          "Benign",
          "Benign",
          "Benign",
          "Benign",
          "Benign",
          "Benign",
          "Benign",
          "Benign",
          "Benign",
          "Benign",
          "Benign",
          "Benign",
          "Benign",
          "Benign",
          "Benign",
          "Benign",
          "Benign",
          "Benign",
          "Benign",
          "Benign",
          "Benign",
          "Benign",
          "Benign",
          "Benign",
          "Benign",
          "Benign",
          "Benign",
          "Benign",
          "Benign",
          "Benign",
          "Benign",
          "Benign",
          "Benign",
          "Benign",
          "Benign",
          "Benign",
          "Benign",
          "Benign",
          "Benign",
          "Benign",
          "Benign",
          "Benign",
          "Benign",
          "Benign",
          "Benign",
          "Benign",
          "Benign",
          "Benign",
          "Benign",
          "Benign",
          "Benign",
          "Benign",
          "Benign",
          "Benign",
          "Benign",
          "Benign",
          "Benign",
          "Benign",
          "Benign",
          "Benign",
          "Benign",
          "Benign",
          "Benign",
          "Benign",
          "Benign",
          "Benign",
          "Benign",
          "Benign",
          "Benign",
          "Benign",
          "Benign",
          "Benign",
          "Benign",
          "Benign",
          "Benign",
          "Benign",
          "Benign",
          "Benign",
          "Benign",
          "Benign",
          "Benign",
          "Benign",
          "Benign",
          "Benign",
          "Benign",
          "Benign",
          "Benign",
          "Benign",
          "Benign",
          "Benign",
          "Benign",
          "Benign",
          "Benign",
          "Benign",
          "Benign",
          "Benign",
          "Benign",
          "Benign",
          "Benign",
          "Benign",
          "Benign",
          "Benign",
          "Benign",
          "Benign",
          "Benign",
          "Benign",
          "Benign",
          "Benign",
          "Benign",
          "Benign",
          "Benign",
          "Benign",
          "Benign",
          "Benign",
          "Benign",
          "Benign",
          "Benign",
          "Benign",
          "Benign",
          "Benign",
          "Benign",
          "Benign",
          "Benign",
          "Benign",
          "Benign",
          "Benign",
          "Benign",
          "Benign",
          "Benign",
          "Benign",
          "Benign",
          "Benign",
          "Benign",
          "Benign",
          "Benign",
          "Benign",
          "Benign",
          "Benign",
          "Benign",
          "Benign",
          "Benign",
          "Benign",
          "Benign",
          "Benign",
          "Benign",
          "Benign",
          "Benign"
         ],
         "yaxis": "y2"
        },
        {
         "legendgroup": "Malignant",
         "marker": {
          "color": "rgb(255, 127, 14)",
          "symbol": "line-ns-open"
         },
         "mode": "markers",
         "name": "Malignant",
         "showlegend": false,
         "type": "scatter",
         "x": [
          17.99,
          20.57,
          19.69,
          11.42,
          20.29,
          12.45,
          18.25,
          13.71,
          13,
          12.46,
          16.02,
          15.78,
          19.17,
          15.85,
          13.73,
          14.54,
          14.68,
          16.13,
          19.81,
          15.34,
          21.16,
          16.65,
          17.14,
          14.58,
          18.61,
          15.3,
          17.57,
          18.63,
          11.84,
          17.02,
          19.27,
          16.13,
          16.74,
          14.25,
          14.99,
          13.48,
          13.44,
          10.95,
          19.07,
          13.28,
          13.17,
          18.65,
          13.17,
          18.22,
          15.1,
          19.21,
          14.71,
          14.25,
          12.68,
          14.78,
          18.94,
          17.2,
          13.8,
          16.07,
          18.05,
          20.18,
          25.22,
          19.1,
          18.46,
          14.48,
          19.02,
          15.37,
          15.06,
          20.26,
          14.42,
          13.61,
          13.11,
          22.27,
          14.87,
          15.78,
          17.95,
          18.66,
          24.25,
          13.61,
          19,
          19.79,
          15.46,
          16.16,
          18.45,
          12.77,
          14.95,
          16.11,
          11.8,
          17.68,
          19.19,
          19.59,
          23.27,
          16.78,
          17.47,
          13.43,
          15.46,
          16.46,
          27.22,
          21.09,
          15.7,
          15.28,
          18.31,
          14.22,
          12.34,
          14.86,
          13.77,
          18.08,
          19.18,
          14.45,
          17.54,
          23.29,
          13.81,
          15.12,
          17.01,
          20.58,
          28.11,
          17.42,
          14.19,
          13.86,
          19.8,
          19.53,
          15.75,
          12.83,
          17.05,
          20.51,
          23.21,
          20.48,
          17.46,
          19.4,
          20.94,
          19.73,
          17.3,
          19.45,
          13.96,
          19.55,
          15.32,
          15.66,
          15.53,
          20.31,
          17.35,
          17.29,
          15.61,
          17.19,
          20.73,
          21.75,
          17.93,
          18.81,
          19.16,
          19.4,
          16.24,
          11.76,
          19.53,
          20.09,
          18.22,
          20.16,
          20.34,
          16.27,
          16.26,
          16.03,
          17.06,
          18.77,
          23.51,
          19.68,
          15.75,
          25.73,
          15.08,
          20.44,
          20.2,
          21.71,
          22.01,
          16.35,
          21.37,
          20.64,
          11.08,
          14.6,
          19.55,
          15.49,
          21.61,
          17.91,
          17.99,
          15.13,
          15.5,
          14.9,
          20.18,
          18.82,
          13.98,
          17.27,
          18.03,
          17.75,
          21.1,
          19.59,
          17.08,
          27.42,
          17.6,
          16.25,
          19.44,
          16.69,
          18.01,
          18.49,
          20.59,
          13.82,
          23.09,
          15.46,
          13.4,
          15.05,
          18.31,
          19.89,
          24.63,
          20.47,
          20.55,
          14.27,
          15.22,
          20.92,
          21.56,
          20.13,
          16.6,
          20.6
         ],
         "xaxis": "x",
         "y": [
          "Malignant",
          "Malignant",
          "Malignant",
          "Malignant",
          "Malignant",
          "Malignant",
          "Malignant",
          "Malignant",
          "Malignant",
          "Malignant",
          "Malignant",
          "Malignant",
          "Malignant",
          "Malignant",
          "Malignant",
          "Malignant",
          "Malignant",
          "Malignant",
          "Malignant",
          "Malignant",
          "Malignant",
          "Malignant",
          "Malignant",
          "Malignant",
          "Malignant",
          "Malignant",
          "Malignant",
          "Malignant",
          "Malignant",
          "Malignant",
          "Malignant",
          "Malignant",
          "Malignant",
          "Malignant",
          "Malignant",
          "Malignant",
          "Malignant",
          "Malignant",
          "Malignant",
          "Malignant",
          "Malignant",
          "Malignant",
          "Malignant",
          "Malignant",
          "Malignant",
          "Malignant",
          "Malignant",
          "Malignant",
          "Malignant",
          "Malignant",
          "Malignant",
          "Malignant",
          "Malignant",
          "Malignant",
          "Malignant",
          "Malignant",
          "Malignant",
          "Malignant",
          "Malignant",
          "Malignant",
          "Malignant",
          "Malignant",
          "Malignant",
          "Malignant",
          "Malignant",
          "Malignant",
          "Malignant",
          "Malignant",
          "Malignant",
          "Malignant",
          "Malignant",
          "Malignant",
          "Malignant",
          "Malignant",
          "Malignant",
          "Malignant",
          "Malignant",
          "Malignant",
          "Malignant",
          "Malignant",
          "Malignant",
          "Malignant",
          "Malignant",
          "Malignant",
          "Malignant",
          "Malignant",
          "Malignant",
          "Malignant",
          "Malignant",
          "Malignant",
          "Malignant",
          "Malignant",
          "Malignant",
          "Malignant",
          "Malignant",
          "Malignant",
          "Malignant",
          "Malignant",
          "Malignant",
          "Malignant",
          "Malignant",
          "Malignant",
          "Malignant",
          "Malignant",
          "Malignant",
          "Malignant",
          "Malignant",
          "Malignant",
          "Malignant",
          "Malignant",
          "Malignant",
          "Malignant",
          "Malignant",
          "Malignant",
          "Malignant",
          "Malignant",
          "Malignant",
          "Malignant",
          "Malignant",
          "Malignant",
          "Malignant",
          "Malignant",
          "Malignant",
          "Malignant",
          "Malignant",
          "Malignant",
          "Malignant",
          "Malignant",
          "Malignant",
          "Malignant",
          "Malignant",
          "Malignant",
          "Malignant",
          "Malignant",
          "Malignant",
          "Malignant",
          "Malignant",
          "Malignant",
          "Malignant",
          "Malignant",
          "Malignant",
          "Malignant",
          "Malignant",
          "Malignant",
          "Malignant",
          "Malignant",
          "Malignant",
          "Malignant",
          "Malignant",
          "Malignant",
          "Malignant",
          "Malignant",
          "Malignant",
          "Malignant",
          "Malignant",
          "Malignant",
          "Malignant",
          "Malignant",
          "Malignant",
          "Malignant",
          "Malignant",
          "Malignant",
          "Malignant",
          "Malignant",
          "Malignant",
          "Malignant",
          "Malignant",
          "Malignant",
          "Malignant",
          "Malignant",
          "Malignant",
          "Malignant",
          "Malignant",
          "Malignant",
          "Malignant",
          "Malignant",
          "Malignant",
          "Malignant",
          "Malignant",
          "Malignant",
          "Malignant",
          "Malignant",
          "Malignant",
          "Malignant",
          "Malignant",
          "Malignant",
          "Malignant",
          "Malignant",
          "Malignant",
          "Malignant",
          "Malignant",
          "Malignant",
          "Malignant",
          "Malignant",
          "Malignant",
          "Malignant",
          "Malignant",
          "Malignant",
          "Malignant",
          "Malignant",
          "Malignant",
          "Malignant",
          "Malignant",
          "Malignant",
          "Malignant",
          "Malignant",
          "Malignant",
          "Malignant",
          "Malignant",
          "Malignant",
          "Malignant",
          "Malignant"
         ],
         "yaxis": "y2"
        }
       ],
       "layout": {
        "barmode": "overlay",
        "hovermode": "closest",
        "legend": {
         "traceorder": "reversed"
        },
        "template": {
         "data": {
          "bar": [
           {
            "error_x": {
             "color": "#2a3f5f"
            },
            "error_y": {
             "color": "#2a3f5f"
            },
            "marker": {
             "line": {
              "color": "#E5ECF6",
              "width": 0.5
             }
            },
            "type": "bar"
           }
          ],
          "barpolar": [
           {
            "marker": {
             "line": {
              "color": "#E5ECF6",
              "width": 0.5
             }
            },
            "type": "barpolar"
           }
          ],
          "carpet": [
           {
            "aaxis": {
             "endlinecolor": "#2a3f5f",
             "gridcolor": "white",
             "linecolor": "white",
             "minorgridcolor": "white",
             "startlinecolor": "#2a3f5f"
            },
            "baxis": {
             "endlinecolor": "#2a3f5f",
             "gridcolor": "white",
             "linecolor": "white",
             "minorgridcolor": "white",
             "startlinecolor": "#2a3f5f"
            },
            "type": "carpet"
           }
          ],
          "choropleth": [
           {
            "colorbar": {
             "outlinewidth": 0,
             "ticks": ""
            },
            "type": "choropleth"
           }
          ],
          "contour": [
           {
            "colorbar": {
             "outlinewidth": 0,
             "ticks": ""
            },
            "colorscale": [
             [
              0,
              "#0d0887"
             ],
             [
              0.1111111111111111,
              "#46039f"
             ],
             [
              0.2222222222222222,
              "#7201a8"
             ],
             [
              0.3333333333333333,
              "#9c179e"
             ],
             [
              0.4444444444444444,
              "#bd3786"
             ],
             [
              0.5555555555555556,
              "#d8576b"
             ],
             [
              0.6666666666666666,
              "#ed7953"
             ],
             [
              0.7777777777777778,
              "#fb9f3a"
             ],
             [
              0.8888888888888888,
              "#fdca26"
             ],
             [
              1,
              "#f0f921"
             ]
            ],
            "type": "contour"
           }
          ],
          "contourcarpet": [
           {
            "colorbar": {
             "outlinewidth": 0,
             "ticks": ""
            },
            "type": "contourcarpet"
           }
          ],
          "heatmap": [
           {
            "colorbar": {
             "outlinewidth": 0,
             "ticks": ""
            },
            "colorscale": [
             [
              0,
              "#0d0887"
             ],
             [
              0.1111111111111111,
              "#46039f"
             ],
             [
              0.2222222222222222,
              "#7201a8"
             ],
             [
              0.3333333333333333,
              "#9c179e"
             ],
             [
              0.4444444444444444,
              "#bd3786"
             ],
             [
              0.5555555555555556,
              "#d8576b"
             ],
             [
              0.6666666666666666,
              "#ed7953"
             ],
             [
              0.7777777777777778,
              "#fb9f3a"
             ],
             [
              0.8888888888888888,
              "#fdca26"
             ],
             [
              1,
              "#f0f921"
             ]
            ],
            "type": "heatmap"
           }
          ],
          "heatmapgl": [
           {
            "colorbar": {
             "outlinewidth": 0,
             "ticks": ""
            },
            "colorscale": [
             [
              0,
              "#0d0887"
             ],
             [
              0.1111111111111111,
              "#46039f"
             ],
             [
              0.2222222222222222,
              "#7201a8"
             ],
             [
              0.3333333333333333,
              "#9c179e"
             ],
             [
              0.4444444444444444,
              "#bd3786"
             ],
             [
              0.5555555555555556,
              "#d8576b"
             ],
             [
              0.6666666666666666,
              "#ed7953"
             ],
             [
              0.7777777777777778,
              "#fb9f3a"
             ],
             [
              0.8888888888888888,
              "#fdca26"
             ],
             [
              1,
              "#f0f921"
             ]
            ],
            "type": "heatmapgl"
           }
          ],
          "histogram": [
           {
            "marker": {
             "colorbar": {
              "outlinewidth": 0,
              "ticks": ""
             }
            },
            "type": "histogram"
           }
          ],
          "histogram2d": [
           {
            "colorbar": {
             "outlinewidth": 0,
             "ticks": ""
            },
            "colorscale": [
             [
              0,
              "#0d0887"
             ],
             [
              0.1111111111111111,
              "#46039f"
             ],
             [
              0.2222222222222222,
              "#7201a8"
             ],
             [
              0.3333333333333333,
              "#9c179e"
             ],
             [
              0.4444444444444444,
              "#bd3786"
             ],
             [
              0.5555555555555556,
              "#d8576b"
             ],
             [
              0.6666666666666666,
              "#ed7953"
             ],
             [
              0.7777777777777778,
              "#fb9f3a"
             ],
             [
              0.8888888888888888,
              "#fdca26"
             ],
             [
              1,
              "#f0f921"
             ]
            ],
            "type": "histogram2d"
           }
          ],
          "histogram2dcontour": [
           {
            "colorbar": {
             "outlinewidth": 0,
             "ticks": ""
            },
            "colorscale": [
             [
              0,
              "#0d0887"
             ],
             [
              0.1111111111111111,
              "#46039f"
             ],
             [
              0.2222222222222222,
              "#7201a8"
             ],
             [
              0.3333333333333333,
              "#9c179e"
             ],
             [
              0.4444444444444444,
              "#bd3786"
             ],
             [
              0.5555555555555556,
              "#d8576b"
             ],
             [
              0.6666666666666666,
              "#ed7953"
             ],
             [
              0.7777777777777778,
              "#fb9f3a"
             ],
             [
              0.8888888888888888,
              "#fdca26"
             ],
             [
              1,
              "#f0f921"
             ]
            ],
            "type": "histogram2dcontour"
           }
          ],
          "mesh3d": [
           {
            "colorbar": {
             "outlinewidth": 0,
             "ticks": ""
            },
            "type": "mesh3d"
           }
          ],
          "parcoords": [
           {
            "line": {
             "colorbar": {
              "outlinewidth": 0,
              "ticks": ""
             }
            },
            "type": "parcoords"
           }
          ],
          "pie": [
           {
            "automargin": true,
            "type": "pie"
           }
          ],
          "scatter": [
           {
            "marker": {
             "colorbar": {
              "outlinewidth": 0,
              "ticks": ""
             }
            },
            "type": "scatter"
           }
          ],
          "scatter3d": [
           {
            "line": {
             "colorbar": {
              "outlinewidth": 0,
              "ticks": ""
             }
            },
            "marker": {
             "colorbar": {
              "outlinewidth": 0,
              "ticks": ""
             }
            },
            "type": "scatter3d"
           }
          ],
          "scattercarpet": [
           {
            "marker": {
             "colorbar": {
              "outlinewidth": 0,
              "ticks": ""
             }
            },
            "type": "scattercarpet"
           }
          ],
          "scattergeo": [
           {
            "marker": {
             "colorbar": {
              "outlinewidth": 0,
              "ticks": ""
             }
            },
            "type": "scattergeo"
           }
          ],
          "scattergl": [
           {
            "marker": {
             "colorbar": {
              "outlinewidth": 0,
              "ticks": ""
             }
            },
            "type": "scattergl"
           }
          ],
          "scattermapbox": [
           {
            "marker": {
             "colorbar": {
              "outlinewidth": 0,
              "ticks": ""
             }
            },
            "type": "scattermapbox"
           }
          ],
          "scatterpolar": [
           {
            "marker": {
             "colorbar": {
              "outlinewidth": 0,
              "ticks": ""
             }
            },
            "type": "scatterpolar"
           }
          ],
          "scatterpolargl": [
           {
            "marker": {
             "colorbar": {
              "outlinewidth": 0,
              "ticks": ""
             }
            },
            "type": "scatterpolargl"
           }
          ],
          "scatterternary": [
           {
            "marker": {
             "colorbar": {
              "outlinewidth": 0,
              "ticks": ""
             }
            },
            "type": "scatterternary"
           }
          ],
          "surface": [
           {
            "colorbar": {
             "outlinewidth": 0,
             "ticks": ""
            },
            "colorscale": [
             [
              0,
              "#0d0887"
             ],
             [
              0.1111111111111111,
              "#46039f"
             ],
             [
              0.2222222222222222,
              "#7201a8"
             ],
             [
              0.3333333333333333,
              "#9c179e"
             ],
             [
              0.4444444444444444,
              "#bd3786"
             ],
             [
              0.5555555555555556,
              "#d8576b"
             ],
             [
              0.6666666666666666,
              "#ed7953"
             ],
             [
              0.7777777777777778,
              "#fb9f3a"
             ],
             [
              0.8888888888888888,
              "#fdca26"
             ],
             [
              1,
              "#f0f921"
             ]
            ],
            "type": "surface"
           }
          ],
          "table": [
           {
            "cells": {
             "fill": {
              "color": "#EBF0F8"
             },
             "line": {
              "color": "white"
             }
            },
            "header": {
             "fill": {
              "color": "#C8D4E3"
             },
             "line": {
              "color": "white"
             }
            },
            "type": "table"
           }
          ]
         },
         "layout": {
          "annotationdefaults": {
           "arrowcolor": "#2a3f5f",
           "arrowhead": 0,
           "arrowwidth": 1
          },
          "coloraxis": {
           "colorbar": {
            "outlinewidth": 0,
            "ticks": ""
           }
          },
          "colorscale": {
           "diverging": [
            [
             0,
             "#8e0152"
            ],
            [
             0.1,
             "#c51b7d"
            ],
            [
             0.2,
             "#de77ae"
            ],
            [
             0.3,
             "#f1b6da"
            ],
            [
             0.4,
             "#fde0ef"
            ],
            [
             0.5,
             "#f7f7f7"
            ],
            [
             0.6,
             "#e6f5d0"
            ],
            [
             0.7,
             "#b8e186"
            ],
            [
             0.8,
             "#7fbc41"
            ],
            [
             0.9,
             "#4d9221"
            ],
            [
             1,
             "#276419"
            ]
           ],
           "sequential": [
            [
             0,
             "#0d0887"
            ],
            [
             0.1111111111111111,
             "#46039f"
            ],
            [
             0.2222222222222222,
             "#7201a8"
            ],
            [
             0.3333333333333333,
             "#9c179e"
            ],
            [
             0.4444444444444444,
             "#bd3786"
            ],
            [
             0.5555555555555556,
             "#d8576b"
            ],
            [
             0.6666666666666666,
             "#ed7953"
            ],
            [
             0.7777777777777778,
             "#fb9f3a"
            ],
            [
             0.8888888888888888,
             "#fdca26"
            ],
            [
             1,
             "#f0f921"
            ]
           ],
           "sequentialminus": [
            [
             0,
             "#0d0887"
            ],
            [
             0.1111111111111111,
             "#46039f"
            ],
            [
             0.2222222222222222,
             "#7201a8"
            ],
            [
             0.3333333333333333,
             "#9c179e"
            ],
            [
             0.4444444444444444,
             "#bd3786"
            ],
            [
             0.5555555555555556,
             "#d8576b"
            ],
            [
             0.6666666666666666,
             "#ed7953"
            ],
            [
             0.7777777777777778,
             "#fb9f3a"
            ],
            [
             0.8888888888888888,
             "#fdca26"
            ],
            [
             1,
             "#f0f921"
            ]
           ]
          },
          "colorway": [
           "#636efa",
           "#EF553B",
           "#00cc96",
           "#ab63fa",
           "#FFA15A",
           "#19d3f3",
           "#FF6692",
           "#B6E880",
           "#FF97FF",
           "#FECB52"
          ],
          "font": {
           "color": "#2a3f5f"
          },
          "geo": {
           "bgcolor": "white",
           "lakecolor": "white",
           "landcolor": "#E5ECF6",
           "showlakes": true,
           "showland": true,
           "subunitcolor": "white"
          },
          "hoverlabel": {
           "align": "left"
          },
          "hovermode": "closest",
          "mapbox": {
           "style": "light"
          },
          "paper_bgcolor": "white",
          "plot_bgcolor": "#E5ECF6",
          "polar": {
           "angularaxis": {
            "gridcolor": "white",
            "linecolor": "white",
            "ticks": ""
           },
           "bgcolor": "#E5ECF6",
           "radialaxis": {
            "gridcolor": "white",
            "linecolor": "white",
            "ticks": ""
           }
          },
          "scene": {
           "xaxis": {
            "backgroundcolor": "#E5ECF6",
            "gridcolor": "white",
            "gridwidth": 2,
            "linecolor": "white",
            "showbackground": true,
            "ticks": "",
            "zerolinecolor": "white"
           },
           "yaxis": {
            "backgroundcolor": "#E5ECF6",
            "gridcolor": "white",
            "gridwidth": 2,
            "linecolor": "white",
            "showbackground": true,
            "ticks": "",
            "zerolinecolor": "white"
           },
           "zaxis": {
            "backgroundcolor": "#E5ECF6",
            "gridcolor": "white",
            "gridwidth": 2,
            "linecolor": "white",
            "showbackground": true,
            "ticks": "",
            "zerolinecolor": "white"
           }
          },
          "shapedefaults": {
           "line": {
            "color": "#2a3f5f"
           }
          },
          "ternary": {
           "aaxis": {
            "gridcolor": "white",
            "linecolor": "white",
            "ticks": ""
           },
           "baxis": {
            "gridcolor": "white",
            "linecolor": "white",
            "ticks": ""
           },
           "bgcolor": "#E5ECF6",
           "caxis": {
            "gridcolor": "white",
            "linecolor": "white",
            "ticks": ""
           }
          },
          "title": {
           "x": 0.05
          },
          "xaxis": {
           "automargin": true,
           "gridcolor": "white",
           "linecolor": "white",
           "ticks": "",
           "title": {
            "standoff": 15
           },
           "zerolinecolor": "white",
           "zerolinewidth": 2
          },
          "yaxis": {
           "automargin": true,
           "gridcolor": "white",
           "linecolor": "white",
           "ticks": "",
           "title": {
            "standoff": 15
           },
           "zerolinecolor": "white",
           "zerolinewidth": 2
          }
         }
        },
        "xaxis": {
         "anchor": "y2",
         "domain": [
          0,
          1
         ],
         "zeroline": false
        },
        "yaxis": {
         "anchor": "free",
         "domain": [
          0.35,
          1
         ],
         "position": 0
        },
        "yaxis2": {
         "anchor": "x",
         "domain": [
          0,
          0.25
         ],
         "dtick": 1,
         "showticklabels": false
        }
       }
      },
      "text/html": [
       "<div>\n",
       "        \n",
       "        \n",
       "            <div id=\"e3874ad6-d834-4a40-9d27-fc679cd70c75\" class=\"plotly-graph-div\" style=\"height:525px; width:100%;\"></div>\n",
       "            <script type=\"text/javascript\">\n",
       "                require([\"plotly\"], function(Plotly) {\n",
       "                    window.PLOTLYENV=window.PLOTLYENV || {};\n",
       "                    \n",
       "                if (document.getElementById(\"e3874ad6-d834-4a40-9d27-fc679cd70c75\")) {\n",
       "                    Plotly.newPlot(\n",
       "                        'e3874ad6-d834-4a40-9d27-fc679cd70c75',\n",
       "                        [{\"autobinx\": false, \"histnorm\": \"probability density\", \"legendgroup\": \"Benign\", \"marker\": {\"color\": \"rgb(31, 119, 180)\"}, \"name\": \"Benign\", \"opacity\": 0.7, \"type\": \"histogram\", \"x\": [13.54, 13.08, 9.504, 13.03, 8.196, 12.05, 13.49, 11.76, 13.64, 11.94, 11.52, 13.05, 8.618, 10.17, 8.598, 9.173, 9.465, 11.31, 9.029, 12.78, 8.888, 12.31, 13.53, 12.86, 11.45, 13.34, 12.0, 12.36, 14.64, 14.62, 13.27, 13.45, 12.18, 9.787, 11.6, 6.981, 12.18, 9.876, 10.49, 11.64, 12.36, 11.34, 9.777, 12.63, 14.26, 10.51, 8.726, 11.93, 8.95, 11.41, 14.5, 13.37, 13.85, 15.1, 12.19, 15.71, 11.71, 11.43, 11.28, 9.738, 11.43, 12.9, 10.75, 11.9, 14.95, 14.44, 13.74, 13.0, 8.219, 9.731, 11.15, 13.15, 12.25, 16.84, 12.06, 10.9, 11.75, 12.34, 14.97, 10.8, 14.97, 12.32, 11.08, 10.66, 8.671, 9.904, 13.01, 12.81, 11.41, 10.08, 11.71, 11.81, 12.3, 12.77, 9.72, 12.91, 12.23, 12.47, 9.876, 13.11, 15.27, 11.84, 11.89, 10.2, 13.65, 13.56, 10.18, 13.27, 14.34, 10.44, 15.0, 12.62, 11.32, 11.22, 9.567, 14.03, 14.22, 13.64, 12.42, 11.3, 13.75, 10.48, 13.2, 12.89, 10.65, 11.52, 11.5, 10.6, 13.59, 12.87, 10.71, 14.29, 11.29, 9.742, 11.89, 11.33, 13.59, 13.85, 11.74, 12.89, 12.58, 11.94, 12.89, 11.26, 11.37, 14.41, 14.96, 12.95, 11.85, 12.72, 13.77, 10.91, 14.26, 10.51, 12.46, 10.49, 11.46, 11.6, 13.2, 9.0, 13.5, 13.05, 11.7, 14.61, 12.76, 11.54, 8.597, 12.49, 12.18, 9.042, 12.43, 10.25, 12.86, 12.2, 12.67, 14.11, 12.03, 12.98, 11.22, 11.25, 12.3, 12.99, 10.05, 14.42, 9.606, 11.06, 11.71, 10.26, 12.06, 14.76, 11.47, 11.95, 11.66, 11.14, 12.56, 13.05, 13.87, 8.878, 9.436, 12.54, 13.3, 12.76, 16.5, 13.4, 12.21, 15.19, 13.69, 16.17, 10.57, 13.46, 13.66, 11.27, 11.04, 12.05, 12.39, 13.28, 12.21, 13.88, 11.27, 10.26, 8.734, 12.1, 14.06, 13.51, 12.8, 11.06, 11.8, 11.93, 12.96, 12.94, 12.34, 10.94, 16.14, 12.85, 12.27, 11.36, 11.04, 9.397, 14.99, 11.89, 9.405, 12.7, 11.16, 11.57, 14.69, 11.61, 13.66, 9.742, 10.03, 10.48, 10.8, 11.13, 12.72, 12.4, 14.86, 12.87, 14.04, 13.85, 14.02, 10.97, 13.78, 10.57, 11.99, 14.8, 14.53, 11.87, 12.0, 14.53, 12.62, 13.38, 11.63, 13.21, 13.0, 9.755, 14.4, 11.6, 13.17, 13.24, 13.14, 9.668, 11.62, 9.667, 12.04, 14.92, 12.27, 10.88, 12.83, 14.2, 13.9, 11.49, 12.16, 13.9, 13.47, 13.7, 15.73, 12.45, 14.64, 11.68, 12.25, 17.85, 12.46, 13.16, 14.87, 12.65, 12.47, 15.04, 12.54, 9.268, 9.676, 12.22, 11.06, 16.3, 11.74, 14.81, 14.58, 11.34, 12.88, 12.75, 9.295, 11.26, 13.71, 9.847, 8.571, 13.46, 12.34, 13.94, 12.07, 11.75, 11.67, 13.68, 10.96, 11.69, 7.729, 7.691, 11.54, 14.47, 14.74, 13.21, 13.87, 13.62, 10.32, 10.26, 9.683, 10.82, 10.86, 11.13, 12.77, 9.333, 12.88, 10.29, 10.16, 9.423, 14.59, 11.51, 14.05, 11.2, 7.76], \"xaxis\": \"x\", \"xbins\": {\"end\": 17.85, \"size\": 0.5, \"start\": 6.981}, \"yaxis\": \"y\"}, {\"autobinx\": false, \"histnorm\": \"probability density\", \"legendgroup\": \"Malignant\", \"marker\": {\"color\": \"rgb(255, 127, 14)\"}, \"name\": \"Malignant\", \"opacity\": 0.7, \"type\": \"histogram\", \"x\": [17.99, 20.57, 19.69, 11.42, 20.29, 12.45, 18.25, 13.71, 13.0, 12.46, 16.02, 15.78, 19.17, 15.85, 13.73, 14.54, 14.68, 16.13, 19.81, 15.34, 21.16, 16.65, 17.14, 14.58, 18.61, 15.3, 17.57, 18.63, 11.84, 17.02, 19.27, 16.13, 16.74, 14.25, 14.99, 13.48, 13.44, 10.95, 19.07, 13.28, 13.17, 18.65, 13.17, 18.22, 15.1, 19.21, 14.71, 14.25, 12.68, 14.78, 18.94, 17.2, 13.8, 16.07, 18.05, 20.18, 25.22, 19.1, 18.46, 14.48, 19.02, 15.37, 15.06, 20.26, 14.42, 13.61, 13.11, 22.27, 14.87, 15.78, 17.95, 18.66, 24.25, 13.61, 19.0, 19.79, 15.46, 16.16, 18.45, 12.77, 14.95, 16.11, 11.8, 17.68, 19.19, 19.59, 23.27, 16.78, 17.47, 13.43, 15.46, 16.46, 27.22, 21.09, 15.7, 15.28, 18.31, 14.22, 12.34, 14.86, 13.77, 18.08, 19.18, 14.45, 17.54, 23.29, 13.81, 15.12, 17.01, 20.58, 28.11, 17.42, 14.19, 13.86, 19.8, 19.53, 15.75, 12.83, 17.05, 20.51, 23.21, 20.48, 17.46, 19.4, 20.94, 19.73, 17.3, 19.45, 13.96, 19.55, 15.32, 15.66, 15.53, 20.31, 17.35, 17.29, 15.61, 17.19, 20.73, 21.75, 17.93, 18.81, 19.16, 19.4, 16.24, 11.76, 19.53, 20.09, 18.22, 20.16, 20.34, 16.27, 16.26, 16.03, 17.06, 18.77, 23.51, 19.68, 15.75, 25.73, 15.08, 20.44, 20.2, 21.71, 22.01, 16.35, 21.37, 20.64, 11.08, 14.6, 19.55, 15.49, 21.61, 17.91, 17.99, 15.13, 15.5, 14.9, 20.18, 18.82, 13.98, 17.27, 18.03, 17.75, 21.1, 19.59, 17.08, 27.42, 17.6, 16.25, 19.44, 16.69, 18.01, 18.49, 20.59, 13.82, 23.09, 15.46, 13.4, 15.05, 18.31, 19.89, 24.63, 20.47, 20.55, 14.27, 15.22, 20.92, 21.56, 20.13, 16.6, 20.6], \"xaxis\": \"x\", \"xbins\": {\"end\": 28.11, \"size\": 0.5, \"start\": 10.95}, \"yaxis\": \"y\"}, {\"legendgroup\": \"Benign\", \"marker\": {\"color\": \"rgb(31, 119, 180)\"}, \"mode\": \"lines\", \"name\": \"Benign\", \"showlegend\": false, \"type\": \"scatter\", \"x\": [6.981, 7.002738, 7.024476, 7.046214, 7.067952, 7.08969, 7.111428, 7.133166, 7.154904, 7.176642, 7.19838, 7.220118, 7.241856, 7.263594, 7.285332, 7.3070699999999995, 7.3288079999999995, 7.350546, 7.372284, 7.394022, 7.41576, 7.437498, 7.459236, 7.480974, 7.502712, 7.52445, 7.546188, 7.567926, 7.589664, 7.611402, 7.63314, 7.654878, 7.676616, 7.698354, 7.720092, 7.74183, 7.763568, 7.785306, 7.807044, 7.828782, 7.8505199999999995, 7.872258, 7.893996, 7.9157340000000005, 7.937472, 7.95921, 7.980948, 8.002686, 8.024424, 8.046162, 8.0679, 8.089638, 8.111376, 8.133114, 8.154852, 8.176590000000001, 8.198328, 8.220066, 8.241804, 8.263542, 8.28528, 8.307018, 8.328756, 8.350494, 8.372232, 8.39397, 8.415708, 8.437446, 8.459184, 8.480922, 8.50266, 8.524398, 8.546136, 8.567874, 8.589612, 8.61135, 8.633088, 8.654826, 8.676564, 8.698302, 8.720040000000001, 8.741778, 8.763516, 8.785254, 8.806992000000001, 8.82873, 8.850468, 8.872206, 8.893944, 8.915682, 8.93742, 8.959158, 8.980896, 9.002634, 9.024372, 9.04611, 9.067848, 9.089586, 9.111324, 9.133062, 9.1548, 9.176538, 9.198276, 9.220013999999999, 9.241752, 9.263490000000001, 9.285228, 9.306966, 9.328704, 9.350442000000001, 9.37218, 9.393918, 9.415656, 9.437394000000001, 9.459132, 9.48087, 9.502608, 9.524346000000001, 9.546084, 9.567822, 9.58956, 9.611298, 9.633036, 9.654774, 9.676512, 9.69825, 9.719988, 9.741726, 9.763464, 9.785202, 9.80694, 9.828678, 9.850416000000001, 9.872154, 9.893892000000001, 9.91563, 9.937368, 9.959106, 9.980844000000001, 10.002582, 10.02432, 10.046058, 10.067796, 10.089534, 10.111272, 10.13301, 10.154748000000001, 10.176486, 10.198224, 10.219962, 10.2417, 10.263438, 10.285176, 10.306914, 10.328652, 10.35039, 10.372128, 10.393866000000001, 10.415604, 10.437342000000001, 10.45908, 10.480818000000001, 10.502556, 10.524294000000001, 10.546032, 10.56777, 10.589508, 10.611246000000001, 10.632984, 10.654722, 10.67646, 10.698198, 10.719936, 10.741674, 10.763412, 10.78515, 10.806888, 10.828626, 10.850364, 10.872102000000002, 10.89384, 10.915578, 10.937316000000001, 10.959054, 10.980792000000001, 11.00253, 11.024268, 11.046006, 11.067744000000001, 11.089482, 11.11122, 11.132958, 11.154696000000001, 11.176434, 11.198172, 11.21991, 11.241648000000001, 11.263386, 11.285124, 11.306862, 11.328600000000002, 11.350338, 11.372076, 11.393813999999999, 11.415552000000002, 11.43729, 11.459028, 11.480766, 11.502504000000002, 11.524242000000001, 11.54598, 11.567718000000001, 11.589456000000002, 11.611194000000001, 11.632932, 11.654670000000001, 11.676408, 11.698146000000001, 11.719884, 11.741622, 11.76336, 11.785098000000001, 11.806836, 11.828574, 11.850312, 11.872050000000002, 11.893788, 11.915526, 11.937264, 11.959002, 11.98074, 12.002478, 12.024216, 12.045954000000002, 12.067692000000001, 12.08943, 12.111168, 12.132906000000002, 12.154644000000001, 12.176382, 12.19812, 12.219858000000002, 12.241596000000001, 12.263334, 12.285072000000001, 12.30681, 12.328548000000001, 12.350286, 12.372024, 12.393762, 12.415500000000002, 12.437238, 12.458976, 12.480714, 12.502452000000002, 12.52419, 12.545928, 12.567666000000001, 12.589404, 12.611142000000001, 12.63288, 12.654618, 12.676356, 12.698094000000001, 12.719832, 12.74157, 12.763308000000002, 12.785046000000001, 12.806784, 12.828522, 12.850260000000002, 12.871998000000001, 12.893736, 12.915474, 12.937212, 12.958950000000002, 12.980688, 13.002426000000002, 13.024164, 13.045902000000002, 13.06764, 13.089378, 13.111116, 13.132854000000002, 13.154592000000001, 13.17633, 13.198068000000001, 13.219806, 13.241544000000001, 13.263282, 13.285020000000001, 13.306758, 13.328496000000001, 13.350234, 13.371972, 13.39371, 13.415448000000001, 13.437186, 13.458924, 13.480662000000002, 13.502400000000002, 13.524138, 13.545876, 13.567614, 13.589352000000002, 13.61109, 13.632828, 13.654566, 13.676304000000002, 13.698042000000001, 13.71978, 13.741518000000001, 13.763256000000002, 13.784994000000001, 13.806732, 13.828470000000001, 13.850208, 13.871946000000001, 13.893684, 13.915422000000001, 13.93716, 13.958898000000001, 13.980636, 14.002374, 14.024112, 14.045850000000002, 14.067588, 14.089326, 14.111064, 14.132802000000002, 14.15454, 14.176278, 14.198016000000003, 14.219754000000002, 14.241492000000001, 14.26323, 14.284968000000001, 14.306706000000002, 14.328444000000001, 14.350182, 14.371920000000001, 14.393658000000002, 14.415396000000001, 14.437134, 14.458872000000001, 14.480610000000002, 14.502348000000001, 14.524086, 14.545824000000001, 14.567562, 14.589300000000001, 14.611038, 14.632776, 14.654514, 14.676252000000002, 14.69799, 14.719728, 14.741466, 14.763204000000002, 14.784942000000001, 14.80668, 14.828418000000001, 14.850156000000002, 14.871894000000001, 14.893632, 14.91537, 14.937108000000002, 14.958846000000001, 14.980584, 15.002322000000001, 15.02406, 15.045798000000001, 15.067536, 15.089274000000001, 15.111012, 15.132750000000001, 15.154488, 15.176226, 15.197964000000002, 15.219702000000002, 15.24144, 15.263178000000002, 15.284916, 15.306654, 15.328392000000001, 15.35013, 15.371868000000001, 15.393606000000002, 15.415344000000001, 15.437082, 15.458820000000001, 15.480558, 15.502296000000001, 15.524034000000002, 15.545772000000001, 15.567510000000002, 15.589248000000001, 15.610986, 15.632724000000001, 15.654462, 15.676200000000001, 15.697938000000002, 15.719676000000002, 15.741414, 15.763152000000002, 15.78489, 15.806628, 15.828366, 15.850104000000002, 15.871842000000001, 15.893580000000002, 15.915318000000001, 15.937056, 15.958794000000001, 15.980532, 16.002270000000003, 16.024008000000002, 16.045746, 16.067484, 16.089222, 16.11096, 16.132698, 16.154436000000004, 16.176174000000003, 16.197912000000002, 16.21965, 16.241388, 16.263126, 16.284864, 16.306601999999998, 16.328340000000004, 16.350078000000003, 16.371816000000003, 16.393554, 16.415292, 16.43703, 16.458768, 16.480506000000002, 16.502244, 16.523982000000004, 16.545720000000003, 16.567458000000002, 16.589196, 16.610934, 16.632672, 16.654410000000002, 16.676148, 16.697886000000004, 16.719624000000003, 16.741362000000002, 16.7631, 16.784838, 16.806576, 16.828314000000002, 16.850052, 16.87179, 16.893528000000003, 16.915266000000003, 16.937004, 16.958742, 16.98048, 17.002218, 17.023956000000002, 17.045694, 17.067432, 17.089170000000003, 17.110908000000002, 17.132646, 17.154384, 17.176122, 17.19786, 17.219598, 17.241336, 17.263074000000003, 17.284812000000002, 17.30655, 17.328288, 17.350026, 17.371764, 17.393502, 17.41524, 17.436978000000003, 17.458716000000003, 17.480454, 17.502192, 17.52393, 17.545668, 17.567406, 17.589144000000005, 17.610882000000004, 17.632620000000003, 17.654358000000002, 17.676096, 17.697834, 17.719572, 17.74131, 17.763048, 17.784786000000004, 17.806524000000003, 17.828262000000002], \"xaxis\": \"x\", \"y\": [0.004977643189970393, 0.005161048806328046, 0.005348947025325503, 0.005541417936637831, 0.005738544274717435, 0.005940411560808238, 0.0061471082855979655, 0.006358726135587434, 0.006575360265208322, 0.0067971096155324835, 0.007024077279106223, 0.007256370909034651, 0.007494103168961668, 0.007737392219071562, 0.007986362231709352, 0.008241143928716452, 0.008501875131140984, 0.008768701310644559, 0.009041776130728487, 0.00932126196487527, 0.009607330377881276, 0.009900162556073556, 0.010199949671785589, 0.01050689316743538, 0.010821204944822102, 0.011143107445847055, 0.011472833611774404, 0.011810626709376867, 0.012156740013852474, 0.012511436340233592, 0.012874987417117258, 0.013247673098895792, 0.013629780415222361, 0.014021602459164739, 0.014423437118335717, 0.014835585656185386, 0.01525835115354583, 0.015692036823372148, 0.016136944214366088, 0.016593371321739832, 0.01706161062571959, 0.01754194708044369, 0.01803465607762626, 0.018540001410689986, 0.019058233265971267, 0.019589586268044988, 0.02013427760616671, 0.020692505268280953, 0.021264446407978185, 0.021850255868213864, 0.02245006488353279, 0.023063979980005738, 0.02369208208910815, 0.024334425888404683, 0.024991039378195433, 0.025661923699299205, 0.026347053192958613, 0.02704637569953561, 0.027759813088297926, 0.028487262006266684, 0.029228594829889935, 0.029983660799307064, 0.030752287311271973, 0.03153428134347368, 0.03232943098013049, 0.033137507006383085, 0.03395826453726054, 0.034791444645869835, 0.035636775955024846, 0.036493976156797586, 0.037362753425472114, 0.03824280769109804, 0.039133831743279834, 0.04003551213795554, 0.04094752988369056, 0.0418695608883713, 0.042801276152071445, 0.043742341697195736, 0.044692418232695735, 0.04565116055509874, 0.046618216695191686, 0.04759322682533627, 0.04857582194845927, 0.04956562239562707, 0.05056223616467966, 0.05156525713754184, 0.05257426321844019, 0.053588814439245964, 0.054608451081429525, 0.05563269186659152, 0.056661032269140744, 0.05769294300539505, 0.05872786875312777, 0.05976522715437419, 0.060804408152122034, 0.06184477370838815, 0.06288565794712288, 0.06392636776047632, 0.06496618391123717, 0.06600436265782961, 0.06704013792118951, 0.06807272400528415, 0.06910131887506589, 0.07012510798742408, 0.07114326866232312, 0.07215497497294557, 0.07315940312540951, 0.0741557372906617, 0.07514317584355884, 0.07612093795709038, 0.07708827049326365, 0.07804445512647326, 0.07898881563029848, 0.07992072525470306, 0.0808396141175842, 0.08174497653260213, 0.08263637819422624, 0.0835134631409684, 0.0843759604188333, 0.08522369036906925, 0.08605657046730379, 0.086874620645043, 0.08767796802923288, 0.08846685104102195, 0.08924162280096595, 0.0900027537945346, 0.09075083375885064, 0.09148657275896206, 0.0922108014295468, 0.09292447036562332, 0.09362864865351997, 0.09432452154091649, 0.09501338725211951, 0.09569665296179589, 0.09637582994708145, 0.09705252794423672, 0.09772844874180295, 0.0984053790474664, 0.09908518267054557, 0.09976979206616922, 0.10046119929080063, 0.10116144642180748, 0.10187261549628397, 0.1025968180263594, 0.10333618414976782, 0.10409285147560825, 0.1048689536859842, 0.1056666089546663, 0.1064879082441049, 0.10733490354207317, 0.10820959609901368, 0.10911392472680283, 0.1100497542191991, 0.11101886395372101, 0.11202293673411093, 0.11306354793193826, 0.11414215498521307, 0.11526008731119493, 0.1164185366897878, 0.11761854817306863, 0.1188610115755091, 0.12014665359831733, 0.12147603063999599, 0.12284952234363326, 0.12426732592957603, 0.12572945135993033, 0.1272357173787367, 0.12878574846866073, 0.130378972761551, 0.13201462093624802, 0.13369172613253735, 0.13540912490513224, 0.13716545923602713, 0.13895917961750617, 0.1407885492115537, 0.142651649084384, 0.14454638450741925, 0.14647049230825646, 0.1484215492471282, 0.15039698138612198, 0.15239407441006844, 0.15440998484966623, 0.15644175214913503, 0.1584863115126636, 0.16054050745616621, 0.16260110798357139, 0.16466481930010207, 0.16672830096888397, 0.16878818141184768, 0.1708410736513483, 0.1728835911852973, 0.17491236388595924, 0.17692405381096618, 0.17891537081457506, 0.18088308784777907, 0.18282405583758796, 0.18473521803860327, 0.1866136237539204, 0.18845644132734218, 0.19026097031484132, 0.1920246527500949, 0.19374508342665667, 0.19542001912781215, 0.19704738674433028, 0.19862529023001135, 0.20015201635506547, 0.2016260392277851, 0.20304602356560345, 0.2044108267073068, 0.20571949936879627, 0.20697128515523652, 0.20816561885258222, 0.2093021235312309, 0.2103806065038194, 0.21140105418785607, 0.212363625931917, 0.213268646871438, 0.21411659988665982, 0.2149081167410084, 0.2156439684830559, 0.21632505519921855, 0.21695239520749365, 0.21752711378481182, 0.21805043152201517, 0.21852365240107782, 0.2189481516889996, 0.2193253637418518, 0.21965676981080612, 0.21994388593963876, 0.22018825104026127, 0.22039141522931086, 0.22055492850479816, 0.22068032983731178, 0.22076913674536164, 0.22082283541915748, 0.22084287145151574, 0.2208306412287083, 0.22078748402794793, 0.2207146748618997, 0.22061341810415375, 0.2204848419230037, 0.22032999354422658, 0.22014983535685287, 0.2199452418692086, 0.21971699751581544, 0.21946579530913057, 0.2191922363235853, 0.21889682999301294, 0.21857999519637902, 0.2182420621007852, 0.21788327472504054, 0.2175037941817759, 0.21710370255111486, 0.2166830073343938, 0.21624164643238308, 0.21577949358896298, 0.21529636423825912, 0.21479202169096145, 0.21426618359387253, 0.21371852859580343, 0.21314870315268292, 0.2125563284052411, 0.21194100706386898, 0.21130233023722148, 0.2106398841438121, 0.2099532566492353, 0.20924204357565565, 0.2085058547348425, 0.20774431964115483, 0.20695709286649105, 0.20614385900517535, 0.2053043372229799, 0.20443828537088085, 0.2035455036505935, 0.20262583782532373, 0.201679181975388, 0.2007054808043007, 0.19970473150646204, 0.19867698521263635, 0.197622348033867, 0.19654098172827353, 0.19543310401822897, 0.19429898858767713, 0.19313896479079048, 0.19195341710376004, 0.19074278435125394, 0.18950755873800315, 0.18824828471411698, 0.1869655577001321, 0.18566002269457282, 0.18433237278299588, 0.18298334756325135, 0.18161373149711402, 0.18022435219366867, 0.1788160786249736, 0.17738981926978148, 0.17594652017651846, 0.1744871629325339, 0.17301276252290768, 0.1715243650589767, 0.17002304535434967, 0.16850990432456267, 0.16698606618582637, 0.16545267542852654, 0.16391089354233457, 0.16236189547196425, 0.16080686578576833, 0.15924699454345162, 0.15768347285415285, 0.15611748812192802, 0.15455021898212598, 0.15298282993921414, 0.15141646572410392, 0.14985224539680972, 0.14829125622820677, 0.14673454740253783, 0.14518312358999205, 0.14363793844598313, 0.1420998881005021, 0.1405698047069518, 0.13904845012504669, 0.1375365098165262, 0.13603458703547563, 0.13454319739686185, 0.13306276390740057, 0.13159361254200796, 0.1301359684468246, 0.12868995284613224, 0.12725558072541157, 0.12583275935638144, 0.12442128772215487, 0.12302085689176885, 0.12163105138337468, 0.12025135154447818, 0.11888113696591276, 0.1175196909339236, 0.11616620591197024, 0.11481979003083988, 0.11347947455258962, 0.11214422226089564, 0.1108129367177738, 0.10948447231456508, 0.10815764503369243, 0.10683124382722181, 0.10550404250880639, 0.10417481204735077, 0.10284233314379365, 0.10150540896690968, 0.10016287792003985, 0.09881362630825044, 0.0974566007746262, 0.09609082037525774, 0.09471538816494762, 0.09332950216974532, 0.09193246562803965, 0.09052369638903097, 0.0891027353658831, 0.08766925395058973, 0.08622306030846219, 0.08476410448200723, 0.08329248224665704, 0.0818084376741734, 0.0803123643733982, 0.07880480539218347, 0.07728645177863008, 0.07575813981400709, 0.07422084694373933, 0.07267568644647177, 0.07112390089426462, 0.06956685446932057, 0.06800602421410545, 0.06644299030221515, 0.06487942542672119, 0.06331708341089745, 0.06175778715313505, 0.06020341602339442, 0.058655892832714634, 0.05711717050004306, 0.05558921854198831, 0.05407400951102186, 0.05257350550619925, 0.0510896448777021, 0.04962432924244618, 0.04817941092276681, 0.04675668091386042, 0.04535785747832454, 0.043984575457914545, 0.04263837638366158, 0.04132069945585437, 0.04003287345526123, 0.03877610963644922, 0.03755149564329748, 0.036359990475925495, 0.03520242052740567, 0.03407947669790116, 0.03299171258341547, 0.03193954372624417, 0.03092324790459154, 0.029942966429756437, 0.028998706410868273, 0.028090343939445764, 0.027217628139119994, 0.026380186019740508, 0.025577528069823118, 0.024809054516907462, 0.02407406218189228, 0.023371751850797828, 0.022701236085669502, 0.022061547395448623, 0.02145164668757606, 0.020870431921820087, 0.02031674688928621, 0.019789390041714896, 0.019287123298960346, 0.018808680765889253, 0.018352777293791384, 0.01791811682568045, 0.01750340046951352, 0.01710733424830603, 0.01672863648129398, 0.016366044755630145, 0.016018322453531707, 0.0156842648052606, 0.015362704443755787, 0.01505251644209412, 0.014752622820185196, 0.014461996512155764, 0.014179664790715264, 0.013904712149377791, 0.013636282647717941, 0.013373581728834053, 0.013115877521863861, 0.012862501645727095, 0.012612849533254197, 0.012366380297487396, 0.012122616164215928, 0.011881141496733916, 0.011641601440393069, 0.011403700215776177, 0.011167199090254674, 0.010931914058332179, 0.010697713261531409, 0.010464514178679853, 0.01023228061730657, 0.010001019536504497, 0.00977077773106116, 0.009541638405938947, 0.009313717669316029, 0.009087160971404797, 0.008862139515162687, 0.008638846663826284, 0.008417494368945877, 0.008198309641294092, 0.007981531085683587, 0.007767405519365402, 0.00755618469230478, 0.007348122126253671, 0.0071434700881636715, 0.006942476712117667, 0.006745383282605827, 0.006552421690632251, 0.0063638120728157525, 0.006179760642339895, 0.006000457719313031, 0.0058260759668163275, 0.005656768837645852, 0.005492669235489377, 0.005333888393019161, 0.0051805149681273, 0.005032614358277176, 0.0048902282316948984, 0.004753374272879054, 0.004622046138665758, 0.0044962136198541626, 0.004375823002179161, 0.004260797619216628, 0.004151038588633476, 0.004046425722052715, 0.0039468185977070734, 0.0038520577840096327, 0.003761966201189545, 0.0036763506072351373, 0.003595003193568411, 0.003517703275153932, 0.0034442190591343173, 0.0033743094755933896, 0.0033077260536868093, 0.003244214826157221, 0.0031835182451737647, 0.003125377092510254, 0.003069532367304646, 0.003015727135029722, 0.0029637083218460704, 0.0029132284392053287, 0.0028640472244168564, 0.002815933183877687, 0.002768665026785561, 0.002722032978394866, 0.002675839963223697, 0.002629902650060429], \"yaxis\": \"y\"}, {\"legendgroup\": \"Malignant\", \"marker\": {\"color\": \"rgb(255, 127, 14)\"}, \"mode\": \"lines\", \"name\": \"Malignant\", \"showlegend\": false, \"type\": \"scatter\", \"x\": [10.95, 10.984319999999999, 11.01864, 11.052959999999999, 11.08728, 11.121599999999999, 11.15592, 11.19024, 11.224559999999999, 11.25888, 11.293199999999999, 11.32752, 11.361839999999999, 11.39616, 11.43048, 11.464799999999999, 11.49912, 11.533439999999999, 11.56776, 11.602079999999999, 11.6364, 11.67072, 11.705039999999999, 11.73936, 11.773679999999999, 11.808, 11.842319999999999, 11.87664, 11.91096, 11.945279999999999, 11.9796, 12.013919999999999, 12.04824, 12.082559999999999, 12.11688, 12.1512, 12.185519999999999, 12.21984, 12.254159999999999, 12.28848, 12.322799999999999, 12.35712, 12.39144, 12.425759999999999, 12.46008, 12.494399999999999, 12.52872, 12.563039999999999, 12.59736, 12.63168, 12.665999999999999, 12.70032, 12.734639999999999, 12.76896, 12.803279999999999, 12.837599999999998, 12.87192, 12.906239999999999, 12.94056, 12.974879999999999, 13.0092, 13.04352, 13.077839999999998, 13.11216, 13.14648, 13.1808, 13.215119999999999, 13.24944, 13.28376, 13.318079999999998, 13.3524, 13.386719999999999, 13.42104, 13.455359999999999, 13.48968, 13.524, 13.558319999999998, 13.59264, 13.62696, 13.66128, 13.695599999999999, 13.72992, 13.76424, 13.798559999999998, 13.83288, 13.867199999999999, 13.90152, 13.935839999999999, 13.97016, 14.00448, 14.038799999999998, 14.07312, 14.10744, 14.14176, 14.176079999999999, 14.2104, 14.24472, 14.279039999999998, 14.31336, 14.347679999999999, 14.382, 14.416319999999999, 14.45064, 14.48496, 14.519279999999998, 14.5536, 14.58792, 14.62224, 14.656559999999999, 14.69088, 14.7252, 14.759519999999998, 14.79384, 14.828159999999999, 14.86248, 14.896799999999999, 14.93112, 14.96544, 14.999759999999998, 15.03408, 15.068399999999999, 15.10272, 15.137039999999999, 15.17136, 15.20568, 15.239999999999998, 15.27432, 15.30864, 15.34296, 15.377279999999999, 15.4116, 15.44592, 15.480239999999998, 15.51456, 15.54888, 15.583199999999998, 15.617519999999999, 15.65184, 15.68616, 15.720479999999998, 15.7548, 15.78912, 15.823439999999998, 15.857759999999999, 15.89208, 15.9264, 15.960719999999998, 15.99504, 16.029359999999997, 16.063679999999998, 16.098, 16.13232, 16.16664, 16.20096, 16.23528, 16.2696, 16.303919999999998, 16.33824, 16.37256, 16.40688, 16.4412, 16.47552, 16.50984, 16.544159999999998, 16.57848, 16.6128, 16.64712, 16.68144, 16.71576, 16.75008, 16.784399999999998, 16.81872, 16.85304, 16.88736, 16.92168, 16.956, 16.990319999999997, 17.024639999999998, 17.05896, 17.09328, 17.1276, 17.16192, 17.19624, 17.23056, 17.264879999999998, 17.2992, 17.33352, 17.36784, 17.40216, 17.43648, 17.4708, 17.505119999999998, 17.53944, 17.57376, 17.60808, 17.6424, 17.67672, 17.71104, 17.745359999999998, 17.77968, 17.814, 17.84832, 17.88264, 17.91696, 17.951279999999997, 17.985599999999998, 18.01992, 18.05424, 18.08856, 18.12288, 18.1572, 18.19152, 18.225839999999998, 18.26016, 18.29448, 18.3288, 18.36312, 18.39744, 18.43176, 18.466079999999998, 18.5004, 18.53472, 18.56904, 18.60336, 18.63768, 18.672, 18.706319999999998, 18.74064, 18.77496, 18.80928, 18.8436, 18.87792, 18.912239999999997, 18.946559999999998, 18.98088, 19.0152, 19.04952, 19.08384, 19.11816, 19.152479999999997, 19.186799999999998, 19.22112, 19.25544, 19.28976, 19.32408, 19.3584, 19.392719999999997, 19.427039999999998, 19.46136, 19.49568, 19.53, 19.56432, 19.598639999999996, 19.63296, 19.667279999999998, 19.7016, 19.73592, 19.77024, 19.80456, 19.838879999999996, 19.8732, 19.907519999999998, 19.94184, 19.97616, 20.01048, 20.0448, 20.07912, 20.11344, 20.147759999999998, 20.18208, 20.2164, 20.25072, 20.285040000000002, 20.31936, 20.353679999999997, 20.387999999999998, 20.42232, 20.45664, 20.49096, 20.525280000000002, 20.5596, 20.593919999999997, 20.628239999999998, 20.66256, 20.69688, 20.7312, 20.765520000000002, 20.79984, 20.834159999999997, 20.868479999999998, 20.9028, 20.93712, 20.97144, 21.00576, 21.04008, 21.074399999999997, 21.108719999999998, 21.14304, 21.17736, 21.21168, 21.246, 21.28032, 21.314639999999997, 21.348959999999998, 21.38328, 21.4176, 21.45192, 21.48624, 21.520559999999996, 21.554879999999997, 21.589199999999998, 21.62352, 21.65784, 21.69216, 21.72648, 21.760799999999996, 21.79512, 21.829439999999998, 21.86376, 21.89808, 21.9324, 21.96672, 22.00104, 22.03536, 22.069679999999998, 22.104, 22.13832, 22.17264, 22.206960000000002, 22.24128, 22.275599999999997, 22.309919999999998, 22.34424, 22.37856, 22.412879999999998, 22.447200000000002, 22.48152, 22.515839999999997, 22.550159999999998, 22.58448, 22.6188, 22.65312, 22.687440000000002, 22.72176, 22.756079999999997, 22.790399999999998, 22.82472, 22.85904, 22.89336, 22.92768, 22.962, 22.996319999999997, 23.03064, 23.06496, 23.09928, 23.1336, 23.16792, 23.20224, 23.236559999999997, 23.27088, 23.3052, 23.33952, 23.37384, 23.40816, 23.442479999999996, 23.476799999999997, 23.51112, 23.54544, 23.57976, 23.61408, 23.6484, 23.682719999999996, 23.71704, 23.75136, 23.78568, 23.82, 23.85432, 23.88864, 23.92296, 23.95728, 23.9916, 24.02592, 24.06024, 24.09456, 24.128880000000002, 24.1632, 24.197519999999997, 24.23184, 24.26616, 24.30048, 24.334799999999998, 24.369120000000002, 24.40344, 24.437759999999997, 24.47208, 24.5064, 24.54072, 24.57504, 24.609360000000002, 24.64368, 24.677999999999997, 24.71232, 24.74664, 24.78096, 24.81528, 24.8496, 24.88392, 24.918239999999997, 24.95256, 24.98688, 25.0212, 25.05552, 25.08984, 25.12416, 25.158479999999997, 25.1928, 25.22712, 25.26144, 25.29576, 25.33008, 25.364399999999996, 25.398719999999997, 25.43304, 25.46736, 25.50168, 25.536, 25.57032, 25.604639999999996, 25.63896, 25.67328, 25.7076, 25.74192, 25.77624, 25.81056, 25.84488, 25.8792, 25.91352, 25.94784, 25.98216, 26.01648, 26.0508, 26.08512, 26.119439999999997, 26.15376, 26.18808, 26.2224, 26.256719999999998, 26.291040000000002, 26.32536, 26.359679999999997, 26.394, 26.42832, 26.46264, 26.49696, 26.531280000000002, 26.5656, 26.599919999999997, 26.63424, 26.66856, 26.70288, 26.7372, 26.77152, 26.80584, 26.840159999999997, 26.87448, 26.9088, 26.94312, 26.97744, 27.01176, 27.04608, 27.080399999999997, 27.11472, 27.14904, 27.18336, 27.217679999999998, 27.252, 27.28632, 27.320639999999997, 27.35496, 27.38928, 27.423599999999997, 27.45792, 27.492240000000002, 27.52656, 27.56088, 27.5952, 27.62952, 27.66384, 27.698159999999998, 27.73248, 27.7668, 27.801119999999997, 27.83544, 27.86976, 27.90408, 27.9384, 27.97272, 28.00704, 28.04136, 28.07568], \"xaxis\": \"x\", \"y\": [0.01480303268216644, 0.01526730541787941, 0.015740422495930814, 0.016222455049274255, 0.016713477277626426, 0.01721356634662551, 0.01772280223536037, 0.018241267531325517, 0.01876904717227014, 0.019306228134832914, 0.019852899070294656, 0.020409149888225512, 0.020975071289255843, 0.021550754248650324, 0.022136289452812128, 0.02273176669128477, 0.023337274207244792, 0.023952898009891012, 0.02457872115252471, 0.025214822980480583, 0.02586127835340628, 0.026518156846690087, 0.027185521937105734, 0.027863430177972145, 0.028551930369310762, 0.029251062728626712, 0.029960858068031847, 0.030681336983476363, 0.031412509061846935, 0.03215437211163797, 0.0329069114227897, 0.033670099061133024, 0.03444389320266768, 0.035228237512642015, 0.03602306057409587, 0.036828275370172775, 0.0376437788241154, 0.03846945140041665, 0.03930515677013188, 0.04015074154285133, 0.04100603506729903, 0.0418708493019734, 0.04274497875667164, 0.04362820050515754, 0.04452027426864448, 0.04542094256917455, 0.04632993095139662, 0.04724694827067071, 0.04817168704487914, 0.04910382386679367, 0.050043019873354765, 0.050988921267755, 0.05194115988980035, 0.05289935382965063, 0.05386310807971655, 0.054832015219225885, 0.05580565612576068, 0.05678360070792279, 0.05776540865320311, 0.058750630185110564, 0.059738806823672476, 0.06072947214352954, 0.06172215252403982, 0.06271636788605094, 0.06371163241031465, 0.06470745523289542, 0.0657033411133508, 0.06669879107194993, 0.06769330299272684, 0.06868637218974279, 0.0696774919345397, 0.07066615394341066, 0.07165184882377726, 0.07263406647963716, 0.07361229647674018, 0.07458602836882365, 0.07555475198692325, 0.07651795769442565, 0.07747513661116605, 0.0784257808104652, 0.07936938349356197, 0.08030543914639807, 0.08123344368416323, 0.08215289458939572, 0.08306329104974663, 0.08396413410176157, 0.08485492678719618, 0.08573517432845709, 0.08660438432976407, 0.08746206701052538, 0.08830773547724688, 0.08914090604001675, 0.08996109857926006, 0.09076783696800719, 0.09156064955440381, 0.09233906970858154, 0.09310263643734304, 0.09385089506936613, 0.0945833980128397, 0.09529970558658493, 0.0959993869248271, 0.09668202095485016, 0.0973471974458115, 0.09799451812602908, 0.09862359786507863, 0.09923406591607288, 0.09982556721254618, 0.10039776371344764, 0.10095033578886553, 0.10148298363827173, 0.10199542873230037, 0.10248741526837535, 0.10295871162986915, 0.1034091118379362, 0.10383843698471787, 0.10424653663626551, 0.10463329019328677, 0.10499860819768711, 0.10534243357285872, 0.1056647427857655, 0.10596554691908396, 0.10624489264198793, 0.10650286306861273, 0.10673957849378429, 0.10695519699626738, 0.10714991490055549, 0.10732396708908708, 0.1074776271577325, 0.10761120740843354, 0.10772505867398711, 0.10781956997114232, 0.10789516797940459, 0.10795231634421402, 0.10799151480445981, 0.10801329814561057, 0.10801823498106608, 0.10800692636564478, 0.10798000424642168, 0.10793812975739375, 0.10788199136566977, 0.1078123028780431, 0.10772980131790966, 0.10763524468350616, 0.10752940959938287, 0.10741308887385775, 0.1072870889759363, 0.10715222744579991, 0.10700933025347151, 0.10685922912065453, 0.10670275882099303, 0.10654075447413688, 0.10637404884899533, 0.10620346969143747, 0.10602983709144047, 0.10585396090431644, 0.10567663824014038, 0.10549865103489633, 0.10532076371613004, 0.10514372097507503, 0.10496824565629685, 0.10479503677489779, 0.10462476767024532, 0.10445808430404292, 0.10429560370936664, 0.10413791259604888, 0.10398556611652483, 0.10383908679496728, 0.10369896362124557, 0.10356565130995174, 0.10343956972347607, 0.10332110345686872, 0.10321060158102827, 0.10310837753961415, 0.1030147091939916, 0.1029298390095082, 0.10285397437546635, 0.10278728805031206, 0.10272991872280769, 0.10268197167930915, 0.10264351956671922, 0.10261460324025418, 0.10259523268483428, 0.10258538799869693, 0.10258502042772957, 0.1025940534390333, 0.1026123838223478, 0.10263988280820213, 0.10267639719198003, 0.10272175045352891, 0.10277574386245672, 0.1028381575598728, 0.10290875160801484, 0.10298726699996132, 0.10307342662244601, 0.1031669361656649, 0.10326748497487455, 0.10337474683953489, 0.10348838071671428, 0.1036080313864617, 0.10373333003783934, 0.10386389478528686, 0.10399933111595912, 0.1041392322696171, 0.10428317955356027, 0.10443074259595352, 0.10458147954172, 0.1047349371959256, 0.10489065112028323, 0.10504814568902508, 0.10520693411095043, 0.10536651842492895, 0.10552638947653234, 0.10568602688378155, 0.1058448990002188, 0.106002462883653, 0.10615816427898112, 0.1063114376234554, 0.10646170608264845, 0.1066083816251721, 0.10675086514392876, 0.10688854663132273, 0.10702080541543689, 0.10714701046369057, 0.10726652075994858, 0.1073786857604425, 0.10748284593321542, 0.10757833338510049, 0.10766447257951338, 0.10774058114757101, 0.10780597079426397, 0.10785994830060351, 0.10790181662184768, 0.10793087608109707, 0.10794642565672713, 0.10794776436132437, 0.10793419270899365, 0.10790501426713728, 0.10785953728805997, 0.10779707641503446, 0.10771695445679016, 0.10761850422374396, 0.10750107041869976, 0.10736401157419678, 0.10720670202819114, 0.10702853392931304, 0.10682891926255947, 0.10660729188594982, 0.10636310956840886, 0.10609585601893386, 0.10580504289695476, 0.10549021179371608, 0.10515093617448512, 0.10478682327143472, 0.10439751591714157, 0.10398269430881388, 0.10354207769356731, 0.10307542596535284, 0.10258254116446858, 0.1020632688709658, 0.10151749948369787, 0.10094516937723878, 0.10034626192941958, 0.09972080841280176, 0.09906888874400771, 0.09839063208546649, 0.09768621729480327, 0.09695587321779715, 0.0961998788215517, 0.09541856316525758, 0.0946123052066877, 0.09378153344332175, 0.09292672538777275, 0.09204840687796154, 0.09114715122325479, 0.09022357818855035, 0.089278352819048, 0.08831218410918562, 0.08732582351994471, 0.0863200633494273, 0.08529573496228765, 0.08425370688424186, 0.08319488276849465, 0.08212019924150231, 0.08103062363602431, 0.07992715161991808, 0.07881080472958271, 0.07768262781736539, 0.07654368642260438, 0.07539506407629387, 0.07423785954961515, 0.07307318405679099, 0.07190215842287162, 0.07072591022717614, 0.06954557093315991, 0.06836227301548185, 0.06717714709500605, 0.06599131909236476, 0.06480590741057231, 0.06362202015698509, 0.062440752414668, 0.061263183572945065, 0.06009037472659839, 0.058923366152815, 0.05776317487459091, 0.05661079231887571, 0.05546718207727662, 0.05433327777666438, 0.053209981066505534, 0.05209815972921216, 0.05099864591925405, 0.049912234536198044, 0.04883968173626252, 0.04778170358637691, 0.04673897486412716, 0.045712128006362915, 0.044701752208620014, 0.043708392676896524, 0.04273255003270478, 0.04177467987170105, 0.04083519247559165, 0.03991445267640455, 0.03901277987162244, 0.03813044818809018, 0.03726768679203686, 0.036424680341991755, 0.035601569580837725, 0.03479845206271882, 0.034015383010012834, 0.033252376295103366, 0.03250940554122005, 0.031786405336187006, 0.031083272552509887, 0.030399867766852967, 0.029736016771610852, 0.02909151217096317, 0.028466115053515453, 0.02785955673338743, 0.027271540551392897, 0.02670174372778949, 0.026149819257941437, 0.025615397842146045, 0.02509808984082868, 0.024597487246301813, 0.02411316566232169, 0.023644686282758266, 0.023191597860818692, 0.02275343866043437, 0.022329738381636533, 0.021920020051999906, 0.021523801876536422, 0.02114059903875799, 0.020769925446008804, 0.020411295412584025, 0.020064225274603806, 0.01972823493109499, 0.019402849306248564, 0.019087599728359255, 0.01878202522151645, 0.018485673706699086, 0.0181981031095195, 0.017918882372472845, 0.017647592370157516, 0.01738382672654898, 0.017127192534020775, 0.01687731097441006, 0.016633817843017637, 0.01639636397700802, 0.016164615590228474, 0.015938254516996486, 0.01571697836790331, 0.015500500601148532, 0.015288550513350183, 0.0150808731541646, 0.014877229169397769, 0.014677394577591221, 0.014481160485321842, 0.014288332746659874, 0.014098731572387224, 0.0139121910946836, 0.013728558893045256, 0.01354769548720562, 0.013369473802784864, 0.013193778615304642, 0.013020505978066208, 0.012849562639209887, 0.012680865453052026, 0.012514340790534, 0.012349923953324193, 0.012187558595786152, 0.012027196158672438, 0.011868795318027384, 0.011712321452385011, 0.011557746130938526, 0.011405046624936724, 0.011254205444137131, 0.011105209899718495, 0.01095805169463141, 0.010812726541950422, 0.010669233811387221, 0.01052757620373629, 0.010387759452656119, 0.010249792052844717, 0.010113685013348186, 0.009979451634452323, 0.009847107306348505, 0.009716669327540948, 0.009588156740772943, 0.009461590184097661, 0.009336991754603209, 0.009214384882225857, 0.00909379421104518, 0.008975245485454126, 0.008858765438632727, 0.008744381680824897, 0.008632122585024295, 0.008522017167812191, 0.008414094963259662, 0.008308385888001635, 0.008204920095812142, 0.008103727820252742, 0.008004839204229062, 0.007908284115567382, 0.007814091948014147, 0.007722291407359096, 0.007632910282687083, 0.00754597520306867, 0.007461511380302608, 0.007379542338620678, 0.007300089632554187, 0.007223172554436688, 0.007148807833278329, 0.007077009326989399, 0.007007787710150535, 0.006941150159724914, 0.0068771000412780415, 0.006815636598414309, 0.006756754648252556, 0.006700444285846005, 0.006646690600502323, 0.006595473406978072, 0.006546766994507118, 0.006500539896575262, 0.006456754684273775, 0.006415367785952379, 0.006376329335750842, 0.006339583053416239, 0.006305066157613629, 0.006272709314713224, 0.006242436624788019, 0.006214165646286113, 0.0061878074605534435, 0.006163266777078222, 0.006140442080011306, 0.006119225816189763, 0.006099504624557217, 0.006081159606537804, 0.006064066636583205, 0.006048096711778283, 0.006033116339063077, 0.006018987958310363, 0.006005570399192039, 0.005992719369476754, 0.005980287972128436, 0.005968127248323049, 0.005956086743271374, 0.00594401509153121, 0.005931760618314242, 0.005919171953143594, 0.005906098652097847, 0.00589239182478797, 0.005877904762155514, 0.005862493561153673, 0.0058460177423783006, 0.005828340856752308, 0.005809331077434963, 0.005788861773225277, 0.005766812059855821, 0.005743067325728258, 0.005717519728822989, 0.005690068661721089, 0.005660621181904681, 0.005629092404750459, 0.005595405856897609, 0.005559493787953163, 0.005521297438792982, 0.005480767265021953, 0.005437863114469725, 0.0053925543579165704, 0.005344819972564112, 0.005294648578085292, 0.005242038425405127, 0.005186997338674653, 0.0051295426112038505, 0.00506970085641238, 0.005007507815137037, 0.004943008120900968, 0.004876255024999217, 0.004807310083486426, 0.004736242808364919, 0.00466313028546233], \"yaxis\": \"y\"}, {\"legendgroup\": \"Benign\", \"marker\": {\"color\": \"rgb(31, 119, 180)\", \"symbol\": \"line-ns-open\"}, \"mode\": \"markers\", \"name\": \"Benign\", \"showlegend\": false, \"type\": \"scatter\", \"x\": [13.54, 13.08, 9.504, 13.03, 8.196, 12.05, 13.49, 11.76, 13.64, 11.94, 11.52, 13.05, 8.618, 10.17, 8.598, 9.173, 9.465, 11.31, 9.029, 12.78, 8.888, 12.31, 13.53, 12.86, 11.45, 13.34, 12.0, 12.36, 14.64, 14.62, 13.27, 13.45, 12.18, 9.787, 11.6, 6.981, 12.18, 9.876, 10.49, 11.64, 12.36, 11.34, 9.777, 12.63, 14.26, 10.51, 8.726, 11.93, 8.95, 11.41, 14.5, 13.37, 13.85, 15.1, 12.19, 15.71, 11.71, 11.43, 11.28, 9.738, 11.43, 12.9, 10.75, 11.9, 14.95, 14.44, 13.74, 13.0, 8.219, 9.731, 11.15, 13.15, 12.25, 16.84, 12.06, 10.9, 11.75, 12.34, 14.97, 10.8, 14.97, 12.32, 11.08, 10.66, 8.671, 9.904, 13.01, 12.81, 11.41, 10.08, 11.71, 11.81, 12.3, 12.77, 9.72, 12.91, 12.23, 12.47, 9.876, 13.11, 15.27, 11.84, 11.89, 10.2, 13.65, 13.56, 10.18, 13.27, 14.34, 10.44, 15.0, 12.62, 11.32, 11.22, 9.567, 14.03, 14.22, 13.64, 12.42, 11.3, 13.75, 10.48, 13.2, 12.89, 10.65, 11.52, 11.5, 10.6, 13.59, 12.87, 10.71, 14.29, 11.29, 9.742, 11.89, 11.33, 13.59, 13.85, 11.74, 12.89, 12.58, 11.94, 12.89, 11.26, 11.37, 14.41, 14.96, 12.95, 11.85, 12.72, 13.77, 10.91, 14.26, 10.51, 12.46, 10.49, 11.46, 11.6, 13.2, 9.0, 13.5, 13.05, 11.7, 14.61, 12.76, 11.54, 8.597, 12.49, 12.18, 9.042, 12.43, 10.25, 12.86, 12.2, 12.67, 14.11, 12.03, 12.98, 11.22, 11.25, 12.3, 12.99, 10.05, 14.42, 9.606, 11.06, 11.71, 10.26, 12.06, 14.76, 11.47, 11.95, 11.66, 11.14, 12.56, 13.05, 13.87, 8.878, 9.436, 12.54, 13.3, 12.76, 16.5, 13.4, 12.21, 15.19, 13.69, 16.17, 10.57, 13.46, 13.66, 11.27, 11.04, 12.05, 12.39, 13.28, 12.21, 13.88, 11.27, 10.26, 8.734, 12.1, 14.06, 13.51, 12.8, 11.06, 11.8, 11.93, 12.96, 12.94, 12.34, 10.94, 16.14, 12.85, 12.27, 11.36, 11.04, 9.397, 14.99, 11.89, 9.405, 12.7, 11.16, 11.57, 14.69, 11.61, 13.66, 9.742, 10.03, 10.48, 10.8, 11.13, 12.72, 12.4, 14.86, 12.87, 14.04, 13.85, 14.02, 10.97, 13.78, 10.57, 11.99, 14.8, 14.53, 11.87, 12.0, 14.53, 12.62, 13.38, 11.63, 13.21, 13.0, 9.755, 14.4, 11.6, 13.17, 13.24, 13.14, 9.668, 11.62, 9.667, 12.04, 14.92, 12.27, 10.88, 12.83, 14.2, 13.9, 11.49, 12.16, 13.9, 13.47, 13.7, 15.73, 12.45, 14.64, 11.68, 12.25, 17.85, 12.46, 13.16, 14.87, 12.65, 12.47, 15.04, 12.54, 9.268, 9.676, 12.22, 11.06, 16.3, 11.74, 14.81, 14.58, 11.34, 12.88, 12.75, 9.295, 11.26, 13.71, 9.847, 8.571, 13.46, 12.34, 13.94, 12.07, 11.75, 11.67, 13.68, 10.96, 11.69, 7.729, 7.691, 11.54, 14.47, 14.74, 13.21, 13.87, 13.62, 10.32, 10.26, 9.683, 10.82, 10.86, 11.13, 12.77, 9.333, 12.88, 10.29, 10.16, 9.423, 14.59, 11.51, 14.05, 11.2, 7.76], \"xaxis\": \"x\", \"y\": [\"Benign\", \"Benign\", \"Benign\", \"Benign\", \"Benign\", \"Benign\", \"Benign\", \"Benign\", \"Benign\", \"Benign\", \"Benign\", \"Benign\", \"Benign\", \"Benign\", \"Benign\", \"Benign\", \"Benign\", \"Benign\", \"Benign\", \"Benign\", \"Benign\", \"Benign\", \"Benign\", \"Benign\", \"Benign\", \"Benign\", \"Benign\", \"Benign\", \"Benign\", \"Benign\", \"Benign\", \"Benign\", \"Benign\", \"Benign\", \"Benign\", \"Benign\", \"Benign\", \"Benign\", \"Benign\", \"Benign\", \"Benign\", \"Benign\", \"Benign\", \"Benign\", \"Benign\", \"Benign\", \"Benign\", \"Benign\", \"Benign\", \"Benign\", \"Benign\", \"Benign\", \"Benign\", \"Benign\", \"Benign\", \"Benign\", \"Benign\", \"Benign\", \"Benign\", \"Benign\", \"Benign\", \"Benign\", \"Benign\", \"Benign\", \"Benign\", \"Benign\", \"Benign\", \"Benign\", \"Benign\", \"Benign\", \"Benign\", \"Benign\", \"Benign\", \"Benign\", \"Benign\", \"Benign\", \"Benign\", \"Benign\", \"Benign\", \"Benign\", \"Benign\", \"Benign\", \"Benign\", \"Benign\", \"Benign\", \"Benign\", \"Benign\", \"Benign\", \"Benign\", \"Benign\", \"Benign\", \"Benign\", \"Benign\", \"Benign\", \"Benign\", \"Benign\", \"Benign\", \"Benign\", \"Benign\", \"Benign\", \"Benign\", \"Benign\", \"Benign\", \"Benign\", \"Benign\", \"Benign\", \"Benign\", \"Benign\", \"Benign\", \"Benign\", \"Benign\", \"Benign\", \"Benign\", \"Benign\", \"Benign\", \"Benign\", \"Benign\", \"Benign\", \"Benign\", \"Benign\", \"Benign\", \"Benign\", \"Benign\", \"Benign\", \"Benign\", \"Benign\", \"Benign\", \"Benign\", \"Benign\", \"Benign\", \"Benign\", \"Benign\", \"Benign\", \"Benign\", \"Benign\", \"Benign\", \"Benign\", \"Benign\", \"Benign\", \"Benign\", \"Benign\", \"Benign\", \"Benign\", \"Benign\", \"Benign\", \"Benign\", \"Benign\", \"Benign\", \"Benign\", \"Benign\", \"Benign\", \"Benign\", \"Benign\", \"Benign\", \"Benign\", \"Benign\", \"Benign\", \"Benign\", \"Benign\", \"Benign\", \"Benign\", \"Benign\", \"Benign\", \"Benign\", \"Benign\", \"Benign\", \"Benign\", \"Benign\", \"Benign\", \"Benign\", \"Benign\", \"Benign\", \"Benign\", \"Benign\", \"Benign\", \"Benign\", \"Benign\", \"Benign\", \"Benign\", \"Benign\", \"Benign\", \"Benign\", \"Benign\", \"Benign\", \"Benign\", \"Benign\", \"Benign\", \"Benign\", \"Benign\", \"Benign\", \"Benign\", \"Benign\", \"Benign\", \"Benign\", \"Benign\", \"Benign\", \"Benign\", \"Benign\", \"Benign\", \"Benign\", \"Benign\", \"Benign\", \"Benign\", \"Benign\", \"Benign\", \"Benign\", \"Benign\", \"Benign\", \"Benign\", \"Benign\", \"Benign\", \"Benign\", \"Benign\", \"Benign\", \"Benign\", \"Benign\", \"Benign\", \"Benign\", \"Benign\", \"Benign\", \"Benign\", \"Benign\", \"Benign\", \"Benign\", \"Benign\", \"Benign\", \"Benign\", \"Benign\", \"Benign\", \"Benign\", \"Benign\", \"Benign\", \"Benign\", \"Benign\", \"Benign\", \"Benign\", \"Benign\", \"Benign\", \"Benign\", \"Benign\", \"Benign\", \"Benign\", \"Benign\", \"Benign\", \"Benign\", \"Benign\", \"Benign\", \"Benign\", \"Benign\", \"Benign\", \"Benign\", \"Benign\", \"Benign\", \"Benign\", \"Benign\", \"Benign\", \"Benign\", \"Benign\", \"Benign\", \"Benign\", \"Benign\", \"Benign\", \"Benign\", \"Benign\", \"Benign\", \"Benign\", \"Benign\", \"Benign\", \"Benign\", \"Benign\", \"Benign\", \"Benign\", \"Benign\", \"Benign\", \"Benign\", \"Benign\", \"Benign\", \"Benign\", \"Benign\", \"Benign\", \"Benign\", \"Benign\", \"Benign\", \"Benign\", \"Benign\", \"Benign\", \"Benign\", \"Benign\", \"Benign\", \"Benign\", \"Benign\", \"Benign\", \"Benign\", \"Benign\", \"Benign\", \"Benign\", \"Benign\", \"Benign\", \"Benign\", \"Benign\", \"Benign\", \"Benign\", \"Benign\", \"Benign\", \"Benign\", \"Benign\", \"Benign\", \"Benign\", \"Benign\", \"Benign\", \"Benign\", \"Benign\", \"Benign\", \"Benign\", \"Benign\", \"Benign\", \"Benign\", \"Benign\", \"Benign\", \"Benign\", \"Benign\", \"Benign\", \"Benign\", \"Benign\", \"Benign\", \"Benign\", \"Benign\", \"Benign\", \"Benign\", \"Benign\", \"Benign\", \"Benign\", \"Benign\", \"Benign\", \"Benign\", \"Benign\", \"Benign\", \"Benign\", \"Benign\", \"Benign\", \"Benign\", \"Benign\", \"Benign\", \"Benign\", \"Benign\", \"Benign\", \"Benign\", \"Benign\", \"Benign\", \"Benign\", \"Benign\", \"Benign\", \"Benign\", \"Benign\", \"Benign\", \"Benign\", \"Benign\"], \"yaxis\": \"y2\"}, {\"legendgroup\": \"Malignant\", \"marker\": {\"color\": \"rgb(255, 127, 14)\", \"symbol\": \"line-ns-open\"}, \"mode\": \"markers\", \"name\": \"Malignant\", \"showlegend\": false, \"type\": \"scatter\", \"x\": [17.99, 20.57, 19.69, 11.42, 20.29, 12.45, 18.25, 13.71, 13.0, 12.46, 16.02, 15.78, 19.17, 15.85, 13.73, 14.54, 14.68, 16.13, 19.81, 15.34, 21.16, 16.65, 17.14, 14.58, 18.61, 15.3, 17.57, 18.63, 11.84, 17.02, 19.27, 16.13, 16.74, 14.25, 14.99, 13.48, 13.44, 10.95, 19.07, 13.28, 13.17, 18.65, 13.17, 18.22, 15.1, 19.21, 14.71, 14.25, 12.68, 14.78, 18.94, 17.2, 13.8, 16.07, 18.05, 20.18, 25.22, 19.1, 18.46, 14.48, 19.02, 15.37, 15.06, 20.26, 14.42, 13.61, 13.11, 22.27, 14.87, 15.78, 17.95, 18.66, 24.25, 13.61, 19.0, 19.79, 15.46, 16.16, 18.45, 12.77, 14.95, 16.11, 11.8, 17.68, 19.19, 19.59, 23.27, 16.78, 17.47, 13.43, 15.46, 16.46, 27.22, 21.09, 15.7, 15.28, 18.31, 14.22, 12.34, 14.86, 13.77, 18.08, 19.18, 14.45, 17.54, 23.29, 13.81, 15.12, 17.01, 20.58, 28.11, 17.42, 14.19, 13.86, 19.8, 19.53, 15.75, 12.83, 17.05, 20.51, 23.21, 20.48, 17.46, 19.4, 20.94, 19.73, 17.3, 19.45, 13.96, 19.55, 15.32, 15.66, 15.53, 20.31, 17.35, 17.29, 15.61, 17.19, 20.73, 21.75, 17.93, 18.81, 19.16, 19.4, 16.24, 11.76, 19.53, 20.09, 18.22, 20.16, 20.34, 16.27, 16.26, 16.03, 17.06, 18.77, 23.51, 19.68, 15.75, 25.73, 15.08, 20.44, 20.2, 21.71, 22.01, 16.35, 21.37, 20.64, 11.08, 14.6, 19.55, 15.49, 21.61, 17.91, 17.99, 15.13, 15.5, 14.9, 20.18, 18.82, 13.98, 17.27, 18.03, 17.75, 21.1, 19.59, 17.08, 27.42, 17.6, 16.25, 19.44, 16.69, 18.01, 18.49, 20.59, 13.82, 23.09, 15.46, 13.4, 15.05, 18.31, 19.89, 24.63, 20.47, 20.55, 14.27, 15.22, 20.92, 21.56, 20.13, 16.6, 20.6], \"xaxis\": \"x\", \"y\": [\"Malignant\", \"Malignant\", \"Malignant\", \"Malignant\", \"Malignant\", \"Malignant\", \"Malignant\", \"Malignant\", \"Malignant\", \"Malignant\", \"Malignant\", \"Malignant\", \"Malignant\", \"Malignant\", \"Malignant\", \"Malignant\", \"Malignant\", \"Malignant\", \"Malignant\", \"Malignant\", \"Malignant\", \"Malignant\", \"Malignant\", \"Malignant\", \"Malignant\", \"Malignant\", \"Malignant\", \"Malignant\", \"Malignant\", \"Malignant\", \"Malignant\", \"Malignant\", \"Malignant\", \"Malignant\", \"Malignant\", \"Malignant\", \"Malignant\", \"Malignant\", \"Malignant\", \"Malignant\", \"Malignant\", \"Malignant\", \"Malignant\", \"Malignant\", \"Malignant\", \"Malignant\", \"Malignant\", \"Malignant\", \"Malignant\", \"Malignant\", \"Malignant\", \"Malignant\", \"Malignant\", \"Malignant\", \"Malignant\", \"Malignant\", \"Malignant\", \"Malignant\", \"Malignant\", \"Malignant\", \"Malignant\", \"Malignant\", \"Malignant\", \"Malignant\", \"Malignant\", \"Malignant\", \"Malignant\", \"Malignant\", \"Malignant\", \"Malignant\", \"Malignant\", \"Malignant\", \"Malignant\", \"Malignant\", \"Malignant\", \"Malignant\", \"Malignant\", \"Malignant\", \"Malignant\", \"Malignant\", \"Malignant\", \"Malignant\", \"Malignant\", \"Malignant\", \"Malignant\", \"Malignant\", \"Malignant\", \"Malignant\", \"Malignant\", \"Malignant\", \"Malignant\", \"Malignant\", \"Malignant\", \"Malignant\", \"Malignant\", \"Malignant\", \"Malignant\", \"Malignant\", \"Malignant\", \"Malignant\", \"Malignant\", \"Malignant\", \"Malignant\", \"Malignant\", \"Malignant\", \"Malignant\", \"Malignant\", \"Malignant\", \"Malignant\", \"Malignant\", \"Malignant\", \"Malignant\", \"Malignant\", \"Malignant\", \"Malignant\", \"Malignant\", \"Malignant\", \"Malignant\", \"Malignant\", \"Malignant\", \"Malignant\", \"Malignant\", \"Malignant\", \"Malignant\", \"Malignant\", \"Malignant\", \"Malignant\", \"Malignant\", \"Malignant\", \"Malignant\", \"Malignant\", \"Malignant\", \"Malignant\", \"Malignant\", \"Malignant\", \"Malignant\", \"Malignant\", \"Malignant\", \"Malignant\", \"Malignant\", \"Malignant\", \"Malignant\", \"Malignant\", \"Malignant\", \"Malignant\", \"Malignant\", \"Malignant\", \"Malignant\", \"Malignant\", \"Malignant\", \"Malignant\", \"Malignant\", \"Malignant\", \"Malignant\", \"Malignant\", \"Malignant\", \"Malignant\", \"Malignant\", \"Malignant\", \"Malignant\", \"Malignant\", \"Malignant\", \"Malignant\", \"Malignant\", \"Malignant\", \"Malignant\", \"Malignant\", \"Malignant\", \"Malignant\", \"Malignant\", \"Malignant\", \"Malignant\", \"Malignant\", \"Malignant\", \"Malignant\", \"Malignant\", \"Malignant\", \"Malignant\", \"Malignant\", \"Malignant\", \"Malignant\", \"Malignant\", \"Malignant\", \"Malignant\", \"Malignant\", \"Malignant\", \"Malignant\", \"Malignant\", \"Malignant\", \"Malignant\", \"Malignant\", \"Malignant\", \"Malignant\", \"Malignant\", \"Malignant\", \"Malignant\", \"Malignant\", \"Malignant\", \"Malignant\", \"Malignant\", \"Malignant\", \"Malignant\", \"Malignant\", \"Malignant\", \"Malignant\", \"Malignant\", \"Malignant\", \"Malignant\", \"Malignant\", \"Malignant\", \"Malignant\", \"Malignant\"], \"yaxis\": \"y2\"}],\n",
       "                        {\"barmode\": \"overlay\", \"hovermode\": \"closest\", \"legend\": {\"traceorder\": \"reversed\"}, \"template\": {\"data\": {\"bar\": [{\"error_x\": {\"color\": \"#2a3f5f\"}, \"error_y\": {\"color\": \"#2a3f5f\"}, \"marker\": {\"line\": {\"color\": \"#E5ECF6\", \"width\": 0.5}}, \"type\": \"bar\"}], \"barpolar\": [{\"marker\": {\"line\": {\"color\": \"#E5ECF6\", \"width\": 0.5}}, \"type\": \"barpolar\"}], \"carpet\": [{\"aaxis\": {\"endlinecolor\": \"#2a3f5f\", \"gridcolor\": \"white\", \"linecolor\": \"white\", \"minorgridcolor\": \"white\", \"startlinecolor\": \"#2a3f5f\"}, \"baxis\": {\"endlinecolor\": \"#2a3f5f\", \"gridcolor\": \"white\", \"linecolor\": \"white\", \"minorgridcolor\": \"white\", \"startlinecolor\": \"#2a3f5f\"}, \"type\": \"carpet\"}], \"choropleth\": [{\"colorbar\": {\"outlinewidth\": 0, \"ticks\": \"\"}, \"type\": \"choropleth\"}], \"contour\": [{\"colorbar\": {\"outlinewidth\": 0, \"ticks\": \"\"}, \"colorscale\": [[0.0, \"#0d0887\"], [0.1111111111111111, \"#46039f\"], [0.2222222222222222, \"#7201a8\"], [0.3333333333333333, \"#9c179e\"], [0.4444444444444444, \"#bd3786\"], [0.5555555555555556, \"#d8576b\"], [0.6666666666666666, \"#ed7953\"], [0.7777777777777778, \"#fb9f3a\"], [0.8888888888888888, \"#fdca26\"], [1.0, \"#f0f921\"]], \"type\": \"contour\"}], \"contourcarpet\": [{\"colorbar\": {\"outlinewidth\": 0, \"ticks\": \"\"}, \"type\": \"contourcarpet\"}], \"heatmap\": [{\"colorbar\": {\"outlinewidth\": 0, \"ticks\": \"\"}, \"colorscale\": [[0.0, \"#0d0887\"], [0.1111111111111111, \"#46039f\"], [0.2222222222222222, \"#7201a8\"], [0.3333333333333333, \"#9c179e\"], [0.4444444444444444, \"#bd3786\"], [0.5555555555555556, \"#d8576b\"], [0.6666666666666666, \"#ed7953\"], [0.7777777777777778, \"#fb9f3a\"], [0.8888888888888888, \"#fdca26\"], [1.0, \"#f0f921\"]], \"type\": \"heatmap\"}], \"heatmapgl\": [{\"colorbar\": {\"outlinewidth\": 0, \"ticks\": \"\"}, \"colorscale\": [[0.0, \"#0d0887\"], [0.1111111111111111, \"#46039f\"], [0.2222222222222222, \"#7201a8\"], [0.3333333333333333, \"#9c179e\"], [0.4444444444444444, \"#bd3786\"], [0.5555555555555556, \"#d8576b\"], [0.6666666666666666, \"#ed7953\"], [0.7777777777777778, \"#fb9f3a\"], [0.8888888888888888, \"#fdca26\"], [1.0, \"#f0f921\"]], \"type\": \"heatmapgl\"}], \"histogram\": [{\"marker\": {\"colorbar\": {\"outlinewidth\": 0, \"ticks\": \"\"}}, \"type\": \"histogram\"}], \"histogram2d\": [{\"colorbar\": {\"outlinewidth\": 0, \"ticks\": \"\"}, \"colorscale\": [[0.0, \"#0d0887\"], [0.1111111111111111, \"#46039f\"], [0.2222222222222222, \"#7201a8\"], [0.3333333333333333, \"#9c179e\"], [0.4444444444444444, \"#bd3786\"], [0.5555555555555556, \"#d8576b\"], [0.6666666666666666, \"#ed7953\"], [0.7777777777777778, \"#fb9f3a\"], [0.8888888888888888, \"#fdca26\"], [1.0, \"#f0f921\"]], \"type\": \"histogram2d\"}], \"histogram2dcontour\": [{\"colorbar\": {\"outlinewidth\": 0, \"ticks\": \"\"}, \"colorscale\": [[0.0, \"#0d0887\"], [0.1111111111111111, \"#46039f\"], [0.2222222222222222, \"#7201a8\"], [0.3333333333333333, \"#9c179e\"], [0.4444444444444444, \"#bd3786\"], [0.5555555555555556, \"#d8576b\"], [0.6666666666666666, \"#ed7953\"], [0.7777777777777778, \"#fb9f3a\"], [0.8888888888888888, \"#fdca26\"], [1.0, \"#f0f921\"]], \"type\": \"histogram2dcontour\"}], \"mesh3d\": [{\"colorbar\": {\"outlinewidth\": 0, \"ticks\": \"\"}, \"type\": \"mesh3d\"}], \"parcoords\": [{\"line\": {\"colorbar\": {\"outlinewidth\": 0, \"ticks\": \"\"}}, \"type\": \"parcoords\"}], \"pie\": [{\"automargin\": true, \"type\": \"pie\"}], \"scatter\": [{\"marker\": {\"colorbar\": {\"outlinewidth\": 0, \"ticks\": \"\"}}, \"type\": \"scatter\"}], \"scatter3d\": [{\"line\": {\"colorbar\": {\"outlinewidth\": 0, \"ticks\": \"\"}}, \"marker\": {\"colorbar\": {\"outlinewidth\": 0, \"ticks\": \"\"}}, \"type\": \"scatter3d\"}], \"scattercarpet\": [{\"marker\": {\"colorbar\": {\"outlinewidth\": 0, \"ticks\": \"\"}}, \"type\": \"scattercarpet\"}], \"scattergeo\": [{\"marker\": {\"colorbar\": {\"outlinewidth\": 0, \"ticks\": \"\"}}, \"type\": \"scattergeo\"}], \"scattergl\": [{\"marker\": {\"colorbar\": {\"outlinewidth\": 0, \"ticks\": \"\"}}, \"type\": \"scattergl\"}], \"scattermapbox\": [{\"marker\": {\"colorbar\": {\"outlinewidth\": 0, \"ticks\": \"\"}}, \"type\": \"scattermapbox\"}], \"scatterpolar\": [{\"marker\": {\"colorbar\": {\"outlinewidth\": 0, \"ticks\": \"\"}}, \"type\": \"scatterpolar\"}], \"scatterpolargl\": [{\"marker\": {\"colorbar\": {\"outlinewidth\": 0, \"ticks\": \"\"}}, \"type\": \"scatterpolargl\"}], \"scatterternary\": [{\"marker\": {\"colorbar\": {\"outlinewidth\": 0, \"ticks\": \"\"}}, \"type\": \"scatterternary\"}], \"surface\": [{\"colorbar\": {\"outlinewidth\": 0, \"ticks\": \"\"}, \"colorscale\": [[0.0, \"#0d0887\"], [0.1111111111111111, \"#46039f\"], [0.2222222222222222, \"#7201a8\"], [0.3333333333333333, \"#9c179e\"], [0.4444444444444444, \"#bd3786\"], [0.5555555555555556, \"#d8576b\"], [0.6666666666666666, \"#ed7953\"], [0.7777777777777778, \"#fb9f3a\"], [0.8888888888888888, \"#fdca26\"], [1.0, \"#f0f921\"]], \"type\": \"surface\"}], \"table\": [{\"cells\": {\"fill\": {\"color\": \"#EBF0F8\"}, \"line\": {\"color\": \"white\"}}, \"header\": {\"fill\": {\"color\": \"#C8D4E3\"}, \"line\": {\"color\": \"white\"}}, \"type\": \"table\"}]}, \"layout\": {\"annotationdefaults\": {\"arrowcolor\": \"#2a3f5f\", \"arrowhead\": 0, \"arrowwidth\": 1}, \"coloraxis\": {\"colorbar\": {\"outlinewidth\": 0, \"ticks\": \"\"}}, \"colorscale\": {\"diverging\": [[0, \"#8e0152\"], [0.1, \"#c51b7d\"], [0.2, \"#de77ae\"], [0.3, \"#f1b6da\"], [0.4, \"#fde0ef\"], [0.5, \"#f7f7f7\"], [0.6, \"#e6f5d0\"], [0.7, \"#b8e186\"], [0.8, \"#7fbc41\"], [0.9, \"#4d9221\"], [1, \"#276419\"]], \"sequential\": [[0.0, \"#0d0887\"], [0.1111111111111111, \"#46039f\"], [0.2222222222222222, \"#7201a8\"], [0.3333333333333333, \"#9c179e\"], [0.4444444444444444, \"#bd3786\"], [0.5555555555555556, \"#d8576b\"], [0.6666666666666666, \"#ed7953\"], [0.7777777777777778, \"#fb9f3a\"], [0.8888888888888888, \"#fdca26\"], [1.0, \"#f0f921\"]], \"sequentialminus\": [[0.0, \"#0d0887\"], [0.1111111111111111, \"#46039f\"], [0.2222222222222222, \"#7201a8\"], [0.3333333333333333, \"#9c179e\"], [0.4444444444444444, \"#bd3786\"], [0.5555555555555556, \"#d8576b\"], [0.6666666666666666, \"#ed7953\"], [0.7777777777777778, \"#fb9f3a\"], [0.8888888888888888, \"#fdca26\"], [1.0, \"#f0f921\"]]}, \"colorway\": [\"#636efa\", \"#EF553B\", \"#00cc96\", \"#ab63fa\", \"#FFA15A\", \"#19d3f3\", \"#FF6692\", \"#B6E880\", \"#FF97FF\", \"#FECB52\"], \"font\": {\"color\": \"#2a3f5f\"}, \"geo\": {\"bgcolor\": \"white\", \"lakecolor\": \"white\", \"landcolor\": \"#E5ECF6\", \"showlakes\": true, \"showland\": true, \"subunitcolor\": \"white\"}, \"hoverlabel\": {\"align\": \"left\"}, \"hovermode\": \"closest\", \"mapbox\": {\"style\": \"light\"}, \"paper_bgcolor\": \"white\", \"plot_bgcolor\": \"#E5ECF6\", \"polar\": {\"angularaxis\": {\"gridcolor\": \"white\", \"linecolor\": \"white\", \"ticks\": \"\"}, \"bgcolor\": \"#E5ECF6\", \"radialaxis\": {\"gridcolor\": \"white\", \"linecolor\": \"white\", \"ticks\": \"\"}}, \"scene\": {\"xaxis\": {\"backgroundcolor\": \"#E5ECF6\", \"gridcolor\": \"white\", \"gridwidth\": 2, \"linecolor\": \"white\", \"showbackground\": true, \"ticks\": \"\", \"zerolinecolor\": \"white\"}, \"yaxis\": {\"backgroundcolor\": \"#E5ECF6\", \"gridcolor\": \"white\", \"gridwidth\": 2, \"linecolor\": \"white\", \"showbackground\": true, \"ticks\": \"\", \"zerolinecolor\": \"white\"}, \"zaxis\": {\"backgroundcolor\": \"#E5ECF6\", \"gridcolor\": \"white\", \"gridwidth\": 2, \"linecolor\": \"white\", \"showbackground\": true, \"ticks\": \"\", \"zerolinecolor\": \"white\"}}, \"shapedefaults\": {\"line\": {\"color\": \"#2a3f5f\"}}, \"ternary\": {\"aaxis\": {\"gridcolor\": \"white\", \"linecolor\": \"white\", \"ticks\": \"\"}, \"baxis\": {\"gridcolor\": \"white\", \"linecolor\": \"white\", \"ticks\": \"\"}, \"bgcolor\": \"#E5ECF6\", \"caxis\": {\"gridcolor\": \"white\", \"linecolor\": \"white\", \"ticks\": \"\"}}, \"title\": {\"x\": 0.05}, \"xaxis\": {\"automargin\": true, \"gridcolor\": \"white\", \"linecolor\": \"white\", \"ticks\": \"\", \"title\": {\"standoff\": 15}, \"zerolinecolor\": \"white\", \"zerolinewidth\": 2}, \"yaxis\": {\"automargin\": true, \"gridcolor\": \"white\", \"linecolor\": \"white\", \"ticks\": \"\", \"title\": {\"standoff\": 15}, \"zerolinecolor\": \"white\", \"zerolinewidth\": 2}}}, \"xaxis\": {\"anchor\": \"y2\", \"domain\": [0.0, 1.0], \"zeroline\": false}, \"yaxis\": {\"anchor\": \"free\", \"domain\": [0.35, 1], \"position\": 0.0}, \"yaxis2\": {\"anchor\": \"x\", \"domain\": [0, 0.25], \"dtick\": 1, \"showticklabels\": false}},\n",
       "                        {\"responsive\": true}\n",
       "                    ).then(function(){\n",
       "                            \n",
       "var gd = document.getElementById('e3874ad6-d834-4a40-9d27-fc679cd70c75');\n",
       "var x = new MutationObserver(function (mutations, observer) {{\n",
       "        var display = window.getComputedStyle(gd).display;\n",
       "        if (!display || display === 'none') {{\n",
       "            console.log([gd, 'removed!']);\n",
       "            Plotly.purge(gd);\n",
       "            observer.disconnect();\n",
       "        }}\n",
       "}});\n",
       "\n",
       "// Listen for the removal of the full notebook cells\n",
       "var notebookContainer = gd.closest('#notebook-container');\n",
       "if (notebookContainer) {{\n",
       "    x.observe(notebookContainer, {childList: true});\n",
       "}}\n",
       "\n",
       "// Listen for the clearing of the current output cell\n",
       "var outputEl = gd.closest('.output');\n",
       "if (outputEl) {{\n",
       "    x.observe(outputEl, {childList: true});\n",
       "}}\n",
       "\n",
       "                        })\n",
       "                };\n",
       "                });\n",
       "            </script>\n",
       "        </div>"
      ]
     },
     "metadata": {},
     "output_type": "display_data"
    }
   ],
   "source": [
    "py.iplot(ff.create_distplot(\n",
    "    [data.loc[~data['malignant'], 'mean radius'],\n",
    "     data.loc[data['malignant'], 'mean radius']], \n",
    "    group_labels=[\"Benign\",\"Malignant\"],\n",
    "    bin_size=0.5))"
   ]
  },
  {
   "cell_type": "markdown",
   "metadata": {},
   "source": [
    "**Question:** Looking at the above histograms could you describe a rule to predict whether or a cell is malignant?\n",
    "\n",
    "---\n",
    "\n",
    "<br/><br/><br/><br/><br/><br/><br/>"
   ]
  },
  {
   "cell_type": "markdown",
   "metadata": {},
   "source": [
    "# Least Squares Regression\n",
    "\n",
    "_\"I suppose it is tempting, if the only tool you have is a hammer, to treat everything as if it were a nail.\"_ -  Abraham Maslow The Psychology of Science\n",
    "\n",
    "**Goal:** We would like to predict whether the tumor is malignant from the size of the tumor."
   ]
  },
  {
   "cell_type": "markdown",
   "metadata": {},
   "source": [
    "Always split your data into training and test groups.  \n",
    "\n",
    "## Preparing the data Train-Test Split"
   ]
  },
  {
   "cell_type": "code",
   "execution_count": 7,
   "metadata": {
    "ExecuteTime": {
     "end_time": "2018-04-02T16:07:17.924717Z",
     "start_time": "2018-04-02T16:07:17.899036Z"
    }
   },
   "outputs": [
    {
     "name": "stdout",
     "output_type": "stream",
     "text": [
      "Training Data Size:  426\n",
      "Test Data Size:  143\n"
     ]
    }
   ],
   "source": [
    "from sklearn.model_selection import train_test_split\n",
    "data_tr, data_te = train_test_split(data, test_size=0.25, random_state=42)\n",
    "print(\"Training Data Size: \", len(data_tr))\n",
    "print(\"Test Data Size: \", len(data_te))"
   ]
  },
  {
   "cell_type": "markdown",
   "metadata": {},
   "source": [
    "We will define $X$ and $Y$ as variables containing the training features and labels."
   ]
  },
  {
   "cell_type": "code",
   "execution_count": 8,
   "metadata": {
    "ExecuteTime": {
     "end_time": "2018-04-02T16:07:17.931358Z",
     "start_time": "2018-04-02T16:07:17.926492Z"
    }
   },
   "outputs": [],
   "source": [
    "X = data_tr[['mean radius']].values\n",
    "Y = data_tr['malignant'].values.astype('float')"
   ]
  },
  {
   "cell_type": "markdown",
   "metadata": {},
   "source": [
    "Fit a least squares regression model."
   ]
  },
  {
   "cell_type": "code",
   "execution_count": 9,
   "metadata": {
    "ExecuteTime": {
     "end_time": "2018-04-02T16:07:18.006048Z",
     "start_time": "2018-04-02T16:07:17.933377Z"
    }
   },
   "outputs": [
    {
     "data": {
      "text/plain": [
       "LinearRegression(copy_X=True, fit_intercept=True, n_jobs=None, normalize=False)"
      ]
     },
     "execution_count": 9,
     "metadata": {},
     "output_type": "execute_result"
    }
   ],
   "source": [
    "import sklearn.linear_model as linear_model\n",
    "\n",
    "least_squares_model = linear_model.LinearRegression()\n",
    "least_squares_model.fit(X,Y)"
   ]
  },
  {
   "cell_type": "markdown",
   "metadata": {},
   "source": [
    "# How is our fit?"
   ]
  },
  {
   "cell_type": "code",
   "execution_count": 10,
   "metadata": {
    "ExecuteTime": {
     "end_time": "2018-04-02T16:07:18.026129Z",
     "start_time": "2018-04-02T16:07:18.007888Z"
    }
   },
   "outputs": [
    {
     "data": {
      "application/vnd.plotly.v1+json": {
       "config": {
        "linkText": "Export to plot.ly",
        "plotlyServerURL": "https://plot.ly",
        "showLink": false
       },
       "data": [
        {
         "marker": {
          "opacity": 0.5
         },
         "mode": "markers",
         "name": "Jittered Data",
         "type": "scatter",
         "x": [
          12.89,
          13.4,
          12.96,
          17.75,
          20.58,
          15.28,
          13.78,
          15.1,
          12.34,
          8.196,
          13.45,
          11.32,
          22.27,
          19.4,
          7.76,
          14.86,
          11.13,
          9.72,
          9.606,
          10.08,
          12.56,
          15.13,
          10.48,
          12.78,
          14.74,
          9.904,
          13.82,
          12.89,
          13.74,
          13.37,
          14.69,
          12.91,
          13.62,
          17.35,
          15,
          11.8,
          14.53,
          13.71,
          11.36,
          8.726,
          16.11,
          18.49,
          13.71,
          14.47,
          13.54,
          15.46,
          12.85,
          19.21,
          12.47,
          12.46,
          10.86,
          11.37,
          18.81,
          13.49,
          9.567,
          17.14,
          11.06,
          14.61,
          7.691,
          19.07,
          13.69,
          19.16,
          19.8,
          11.46,
          12.06,
          13.15,
          13.61,
          10.26,
          9.333,
          11.06,
          10.66,
          11.84,
          10.51,
          12.67,
          11.08,
          11.04,
          12.43,
          14.71,
          14.87,
          16.65,
          16.13,
          12.87,
          9.465,
          21.75,
          13.16,
          10.91,
          12.25,
          12.75,
          14.58,
          12.27,
          12.16,
          14.27,
          15.06,
          27.22,
          12.99,
          13.27,
          21.16,
          13.87,
          13.87,
          20.16,
          13.59,
          12.45,
          8.95,
          18.65,
          13.65,
          15.61,
          11.47,
          14.42,
          14.68,
          12.05,
          9.683,
          10.97,
          11.42,
          12.54,
          17.06,
          14.34,
          14.58,
          11.76,
          12.83,
          13.03,
          16.84,
          20.48,
          13.21,
          8.671,
          11.87,
          12.76,
          14.86,
          12.65,
          11.31,
          11.94,
          17.47,
          14.96,
          11.6,
          12.34,
          9.731,
          11.27,
          20.09,
          14.02,
          10.51,
          9.876,
          11.57,
          12.31,
          13.66,
          10.32,
          17.95,
          12.21,
          12.21,
          12.87,
          16.69,
          12.18,
          16.35,
          16.5,
          12.04,
          10.05,
          14.25,
          11.28,
          17.3,
          20.59,
          8.618,
          12.63,
          16.27,
          12.54,
          17.29,
          18.03,
          11.76,
          13,
          10.6,
          11.62,
          14.99,
          11.89,
          9,
          19.18,
          9.042,
          11.8,
          13.9,
          14.95,
          13.46,
          25.73,
          14.5,
          24.63,
          12.18,
          12.9,
          17.46,
          19.44,
          9.787,
          12.2,
          20.47,
          11.85,
          20.18,
          24.25,
          11.41,
          23.29,
          20.34,
          13.2,
          16.17,
          20.44,
          18.82,
          21.71,
          12.45,
          11.95,
          13.85,
          15.19,
          15.75,
          11.06,
          18.22,
          19.53,
          19.79,
          15.05,
          11.14,
          12.94,
          13.24,
          13.05,
          13.85,
          13.3,
          12.72,
          12,
          19.59,
          20.64,
          14.26,
          12.81,
          17.08,
          9.405,
          10.94,
          8.597,
          8.219,
          10.57,
          20.51,
          13.2,
          12.39,
          23.27,
          18.22,
          11.71,
          18.08,
          14.04,
          15.66,
          11.22,
          11.93,
          11.41,
          12.72,
          10.57,
          13.27,
          18.01,
          9.397,
          14.76,
          19,
          11.51,
          12.58,
          9.847,
          9.676,
          12.36,
          11.63,
          17.91,
          15.71,
          14.8,
          13.17,
          14.97,
          14.78,
          16.24,
          18.46,
          11.3,
          18.31,
          14.92,
          10.9,
          19.17,
          16.74,
          15.3,
          12.32,
          11.43,
          11.68,
          11.16,
          14.53,
          13.56,
          11.34,
          20.26,
          13.64,
          13.64,
          14.59,
          15.75,
          9.668,
          13.01,
          16.25,
          10.95,
          8.571,
          15.46,
          9.876,
          15.49,
          19.4,
          8.878,
          12.8,
          19.45,
          12.22,
          20.29,
          19.55,
          10.96,
          14.9,
          13.61,
          10.44,
          12.88,
          17.42,
          9.436,
          13.43,
          11.6,
          12.95,
          13.86,
          8.598,
          16.14,
          13.17,
          17.02,
          15.5,
          13.59,
          12.03,
          12.23,
          18.45,
          18.61,
          11.49,
          17.05,
          20.31,
          13.66,
          11.26,
          12.7,
          19.59,
          8.734,
          18.31,
          14.95,
          14.25,
          12.77,
          15.1,
          12.77,
          13,
          14.11,
          11.71,
          12.68,
          19.53,
          13.73,
          17.68,
          13.44,
          11.08,
          11.71,
          12.46,
          11.89,
          12.27,
          13.85,
          11.94,
          11.26,
          18.77,
          23.21,
          17.01,
          28.11,
          13.77,
          11.69,
          11.5,
          14.05,
          27.42,
          13.38,
          16.6,
          10.49,
          11.66,
          10.71,
          13.7,
          11.99,
          17.54,
          19.19,
          13.28,
          10.2,
          11.93,
          14.22,
          14.2,
          13.05,
          15.53,
          13.11,
          19.55,
          20.57,
          12.07,
          11.45,
          15.12,
          16.13,
          16.3,
          10.8,
          12.62,
          20.2,
          15.37,
          23.51,
          10.26,
          12.42,
          15.85,
          12.49,
          13.88,
          9.742,
          10.8,
          20.92,
          15.73,
          12.88,
          9.268,
          13.75,
          12.3,
          12.83,
          11.74,
          13.05,
          10.88,
          19.73,
          9.504,
          11.54,
          9.755,
          11.75,
          11.33,
          12.77,
          14.6,
          14.99,
          17.85,
          19.68,
          13.5,
          12.19,
          14.42,
          21.37,
          19.02,
          13,
          16.03,
          14.19,
          13.14,
          18.66,
          13.08,
          8.888,
          11.64,
          14.29,
          13.98,
          12.18
         ],
         "y": [
          -0.0217929503237698,
          1.0269778107849383,
          -0.0496416432902342,
          0.9945390434768533,
          0.9819057253778123,
          0.9986011887054025,
          -0.007425375494596188,
          1.009165587612994,
          0.0428632013883998,
          -0.03566185285149273,
          -0.021625510236081724,
          0.011914904413884285,
          0.95358675237928,
          0.9610106020472278,
          0.008370629542627225,
          0.026424697317725815,
          -0.009922782378195175,
          -0.02866509116654281,
          -0.047373592307256844,
          0.023757665307515247,
          -0.03983757824828241,
          0.9795400767419373,
          -0.0017287938310470014,
          -0.04265781053759385,
          0.011031173085356595,
          -0.042873088513054075,
          1.027778233247854,
          0.032582272427382805,
          0.03041372003174611,
          -0.04729909163849785,
          -0.022036265384316092,
          -0.0410884607394147,
          0.02066611281261188,
          0.9969139338804014,
          -0.01751097193169108,
          0.048948949969279024,
          -0.00029383841450338066,
          -0.023524287250114507,
          -0.012069098151747892,
          0.01843686721126961,
          0.9530360030428613,
          1.0449929689584179,
          1.0391077194983351,
          0.03618518189091188,
          -0.01572839798649922,
          1.0227341754010688,
          0.00892670804916644,
          0.961121816518083,
          0.03184044231726685,
          -0.04072109104283794,
          0.009104370362466377,
          0.02295916050214411,
          1.031184032133343,
          0.03812143980765613,
          0.020136905495211965,
          1.0254219985540012,
          0.043312683544197386,
          0.029438856500499072,
          0.025927013185141942,
          1.009430029645298,
          -0.0001922314844187839,
          1.0160530633528122,
          0.964223395132008,
          -0.0005179501887136104,
          -0.013665255157283972,
          -0.034777406508596856,
          1.0356010930713717,
          0.036261542897384355,
          -0.04342908804032165,
          -0.04689885410822027,
          0.01980289514260994,
          0.9781259478963966,
          -0.04345894015365324,
          0.001564590731232364,
          0.03407759486062149,
          -0.04481218589508236,
          -0.014715344480234094,
          1.0184142041059185,
          0.023530006943285137,
          0.9775734800882947,
          1.0231322538207686,
          -0.013994712225214645,
          -0.015768589576397984,
          0.9633476452034215,
          0.007009871020479765,
          -0.012037355630361714,
          -0.0001531652164674449,
          -0.001569239932807387,
          0.03573900135257599,
          0.04263663005621625,
          0.031250237623026395,
          1.0145796201079862,
          1.0483643381206664,
          1.0269959134976985,
          -0.03525277596242792,
          -0.040912190867387704,
          1.0116347478268977,
          0.047191160622421346,
          -0.01397432476553332,
          1.0342206974329418,
          -0.027391267689878974,
          1.0274908517645733,
          0.0008824048732255854,
          1.0226621964053175,
          0.025215224069188955,
          1.0465085082997123,
          -0.028395794970389132,
          0.003031140905352704,
          1.0150558455192158,
          -0.023388031850958238,
          -0.029058733767238856,
          0.04722627894056129,
          0.9538485050812615,
          -0.020863223366937522,
          1.0440537722504089,
          0.03958780204436918,
          1.0473513440926934,
          0.04006197130507615,
          0.9510719208936322,
          -0.0049518391588924265,
          0.0333131438289684,
          1.0287468011498222,
          0.025624622414007037,
          0.026025606342857846,
          -0.019594481776669337,
          0.016230589553291458,
          0.9979761923442418,
          -0.03475556773359555,
          0.004347263982153994,
          0.02713935339849996,
          0.9608304924866045,
          -0.012159599203227192,
          -0.02284340240120998,
          1.0194335700931534,
          -0.03461944641740197,
          0.04995473979963387,
          0.9896264845723184,
          -0.03727737828524955,
          0.02491299993243125,
          -0.032551048145054884,
          -0.01544687499711117,
          0.036625606191748136,
          0.006891978144583047,
          -0.02692558489133644,
          0.9869264703895395,
          -0.02134020167443239,
          0.015029721935207546,
          -0.009245509115467586,
          1.040126403471407,
          -0.04587277105964557,
          1.0279726995493117,
          -0.0017437135827464978,
          0.013075983781685258,
          0.0308544277512192,
          1.0423256214526908,
          -0.028529697590418603,
          1.0348133040634138,
          1.043806470841743,
          -0.0067606536512652485,
          -0.035558818843358986,
          0.980500421232126,
          0.04857692840520518,
          1.0385247573293026,
          0.9770899574982452,
          0.9790774657853338,
          -0.009586903411540039,
          -0.0029702823226995106,
          0.04526006452590059,
          0.9662526388489983,
          -0.030229956419767546,
          0.021005591405703447,
          0.9841824744072958,
          -0.016942059683319736,
          1.0329575636505712,
          -0.02887767809463179,
          -0.019705998574827122,
          -0.007340504177719941,
          0.9992162656748027,
          -0.026291985153520627,
          1.0468729791196465,
          0.048447740089311464,
          0.04557950490120813,
          0.9633211850573535,
          0.9575688222810781,
          -0.038433974055922526,
          -0.026580547074623997,
          1.005323986421401,
          0.019574896421768337,
          0.9867131735054082,
          1.0112129461793398,
          -0.035447883775044965,
          0.9919113608362213,
          0.9554141567262897,
          0.02459917668678427,
          -0.03421212159210045,
          0.9984077859629021,
          0.995523580834772,
          1.0419587993465924,
          0.006029121788087441,
          -0.003306215244824072,
          -0.03732082866798278,
          0.03186213264886467,
          1.0298781077215986,
          0.010803818882142914,
          0.9900588670572303,
          0.9783063131664,
          1.0328679607794264,
          0.9938871365445965,
          0.03274130402096097,
          0.0484557297009687,
          -0.02017640769698408,
          0.000183054863841417,
          0.029481757694405072,
          0.03441224177982374,
          -0.003525545187789046,
          -0.03394183688703382,
          0.9993986552959064,
          0.9670260944447915,
          -0.01819799535678012,
          -0.007672694292006996,
          0.9648453387499005,
          -0.014949539731505361,
          0.027046196674620812,
          0.044732091491666334,
          -0.024442263050835425,
          -0.02555275371722915,
          0.9949687030454004,
          -0.012441220396981631,
          -0.006848607760602719,
          1.005744642576252,
          0.9786523018973214,
          0.03383990033774602,
          0.9604009196070582,
          -0.0430390743047892,
          1.0470283616770868,
          -0.033694653017415845,
          -0.009420204631510012,
          0.02894123998396618,
          -0.049745343735100526,
          0.04007167658131132,
          0.03736703602105844,
          0.9559004949818091,
          0.03332355015016128,
          -0.045779257239926485,
          0.9773174862087912,
          0.0239963177260165,
          -0.006788130029409797,
          0.02746029832783725,
          -0.035533233682238013,
          -0.0337668809859161,
          -0.011008580364649759,
          0.999276749211724,
          -0.013224251440122549,
          0.04131740094811069,
          1.0167536676358202,
          0.0033000477292279284,
          1.0469235385447784,
          1.0021400028190743,
          1.0181364764018335,
          6.264990539424364e-05,
          1.0257166599428638,
          0.018750693663864768,
          -0.04379826989650565,
          0.9893906174930338,
          1.0009394958040416,
          1.0129629441137769,
          0.003617084064157672,
          -0.018080282859926355,
          -0.03569785391090198,
          -0.006019716767866071,
          -0.04096928648147921,
          0.047617804008224324,
          -0.04750033625029548,
          1.0080111644647871,
          0.020988904901040314,
          0.02278837362865624,
          0.017072435581243453,
          1.014921850890628,
          -0.02373323389244666,
          0.01669251410299108,
          0.9991491385148641,
          0.9646118026077228,
          0.03768114928967789,
          0.9974202111034607,
          0.033009460786735764,
          0.9771852539825978,
          1.0272315345107679,
          0.028053302103308503,
          0.030387389571216603,
          1.018734228857342,
          -0.023118726584743888,
          0.9818802927491808,
          1.0222367051345802,
          0.015962027530666084,
          0.9913542701655218,
          1.0476098478209512,
          0.009971945696561978,
          0.021845353630179837,
          1.0155636065324831,
          0.03861264180441934,
          1.003184183662596,
          -0.01765154088649914,
          -0.007390012768449604,
          0.9861492803422032,
          -0.049390202346539125,
          0.009801187440322545,
          1.0252545732215368,
          1.0201325437178266,
          1.0345198902367454,
          -0.010305033709395825,
          -0.025945447118915957,
          -0.024846548359645594,
          1.0048212976717525,
          1.0100951654340207,
          -0.04231563065740068,
          0.9950568022768922,
          0.951624502640454,
          -0.04893705248405801,
          -0.005399889491648248,
          0.024407391677197077,
          0.9658308195236516,
          0.0012087698208016126,
          0.966542110102675,
          1.0480227987323818,
          1.0464684413731826,
          0.9673022348870892,
          0.04534174746491289,
          0.04675869372598261,
          1.0452001358959244,
          -0.03157089558492369,
          -0.019672767608682307,
          0.9525640926137204,
          0.978408914428051,
          0.9772365327301527,
          1.0015353032444358,
          0.9827875145225606,
          1.0354126821850318,
          -0.04439733614213623,
          -0.013230027312079673,
          0.007248396949336558,
          0.047961804531011495,
          0.022796614556889,
          0.04697389550408741,
          0.016286114463775772,
          0.9846898180122632,
          1.0499710680198666,
          1.0023484727662957,
          0.9586852698740518,
          -0.04266356206981179,
          0.027958212116026587,
          -0.027751056931976527,
          -0.038668324070348994,
          1.0308190807692479,
          0.022623705769916097,
          0.9565888377834149,
          -0.017721651594052347,
          -0.04452590511774379,
          0.028831951275699444,
          -0.04323756486515187,
          -0.010659904702327042,
          1.0402063483815969,
          1.036419375419275,
          0.9541154094099795,
          0.02307309714288587,
          -0.033628202927098484,
          1.0352691063918675,
          0.014635963354814902,
          0.02559307508237521,
          1.0046451078693635,
          0.9748987860531255,
          1.008133329235483,
          1.047525387599168,
          -0.020937165204577612,
          -0.012581502792146336,
          1.0435352297211273,
          1.020406588320803,
          -0.019336901469464908,
          0.040089016247471396,
          0.022550187782663933,
          1.0213257726227847,
          0.960438722869219,
          1.0355542168717966,
          -0.0003410254119694395,
          0.04121393178454179,
          0.9703292422855638,
          0.02594069398318577,
          -0.043913686961792986,
          -0.034316510554893875,
          0.013803836629731878,
          1.0392860454895443,
          0.0191628119134514,
          0.02445348246008977,
          -0.022947983887400783,
          -0.03173665999648193,
          -0.0005507463933145176,
          0.006448360329419853,
          0.048510782100592564,
          -0.0043326003926496895,
          -0.0330351013088771,
          0.9706168190738609,
          -0.008470557040994378,
          -0.023480483979300904,
          -0.002493052823713607,
          0.02352843495983399,
          -0.02436461542708066,
          0.008942697807999056,
          0.9778018856686908,
          -0.016297171870268835,
          -0.020760209261424835,
          0.9552268153702475,
          0.046407932787322345,
          -0.017280996558293807,
          0.9541815400143161,
          0.96379280458599,
          0.9583564587110065,
          0.04197958758430306,
          1.0183565306604656,
          1.0002813515914648,
          0.04120554849878719,
          0.9792449066571816,
          -0.02070069907402714,
          0.04489587715301002,
          -0.0010749498913169148,
          -0.019727451604611614,
          1.0005650424898438,
          -0.005939859319575878
         ]
        },
        {
         "line": {
          "color": "orange"
         },
         "mode": "lines",
         "name": "Least Squares",
         "type": "scatter",
         "x": [
          7.691,
          9.959777777777777,
          12.228555555555555,
          14.497333333333334,
          16.766111111111112,
          19.03488888888889,
          21.303666666666665,
          23.572444444444443,
          25.84122222222222,
          28.11
         ],
         "y": [
          -0.25713148661059004,
          -0.035595395448855816,
          0.1859406957128784,
          0.40747678687461275,
          0.6290128780363471,
          0.8505489691980814,
          1.0720850603598153,
          1.2936211515215499,
          1.515157242683284,
          1.7366933338450186
         ]
        }
       ],
       "layout": {
        "template": {
         "data": {
          "bar": [
           {
            "error_x": {
             "color": "#2a3f5f"
            },
            "error_y": {
             "color": "#2a3f5f"
            },
            "marker": {
             "line": {
              "color": "#E5ECF6",
              "width": 0.5
             }
            },
            "type": "bar"
           }
          ],
          "barpolar": [
           {
            "marker": {
             "line": {
              "color": "#E5ECF6",
              "width": 0.5
             }
            },
            "type": "barpolar"
           }
          ],
          "carpet": [
           {
            "aaxis": {
             "endlinecolor": "#2a3f5f",
             "gridcolor": "white",
             "linecolor": "white",
             "minorgridcolor": "white",
             "startlinecolor": "#2a3f5f"
            },
            "baxis": {
             "endlinecolor": "#2a3f5f",
             "gridcolor": "white",
             "linecolor": "white",
             "minorgridcolor": "white",
             "startlinecolor": "#2a3f5f"
            },
            "type": "carpet"
           }
          ],
          "choropleth": [
           {
            "colorbar": {
             "outlinewidth": 0,
             "ticks": ""
            },
            "type": "choropleth"
           }
          ],
          "contour": [
           {
            "colorbar": {
             "outlinewidth": 0,
             "ticks": ""
            },
            "colorscale": [
             [
              0,
              "#0d0887"
             ],
             [
              0.1111111111111111,
              "#46039f"
             ],
             [
              0.2222222222222222,
              "#7201a8"
             ],
             [
              0.3333333333333333,
              "#9c179e"
             ],
             [
              0.4444444444444444,
              "#bd3786"
             ],
             [
              0.5555555555555556,
              "#d8576b"
             ],
             [
              0.6666666666666666,
              "#ed7953"
             ],
             [
              0.7777777777777778,
              "#fb9f3a"
             ],
             [
              0.8888888888888888,
              "#fdca26"
             ],
             [
              1,
              "#f0f921"
             ]
            ],
            "type": "contour"
           }
          ],
          "contourcarpet": [
           {
            "colorbar": {
             "outlinewidth": 0,
             "ticks": ""
            },
            "type": "contourcarpet"
           }
          ],
          "heatmap": [
           {
            "colorbar": {
             "outlinewidth": 0,
             "ticks": ""
            },
            "colorscale": [
             [
              0,
              "#0d0887"
             ],
             [
              0.1111111111111111,
              "#46039f"
             ],
             [
              0.2222222222222222,
              "#7201a8"
             ],
             [
              0.3333333333333333,
              "#9c179e"
             ],
             [
              0.4444444444444444,
              "#bd3786"
             ],
             [
              0.5555555555555556,
              "#d8576b"
             ],
             [
              0.6666666666666666,
              "#ed7953"
             ],
             [
              0.7777777777777778,
              "#fb9f3a"
             ],
             [
              0.8888888888888888,
              "#fdca26"
             ],
             [
              1,
              "#f0f921"
             ]
            ],
            "type": "heatmap"
           }
          ],
          "heatmapgl": [
           {
            "colorbar": {
             "outlinewidth": 0,
             "ticks": ""
            },
            "colorscale": [
             [
              0,
              "#0d0887"
             ],
             [
              0.1111111111111111,
              "#46039f"
             ],
             [
              0.2222222222222222,
              "#7201a8"
             ],
             [
              0.3333333333333333,
              "#9c179e"
             ],
             [
              0.4444444444444444,
              "#bd3786"
             ],
             [
              0.5555555555555556,
              "#d8576b"
             ],
             [
              0.6666666666666666,
              "#ed7953"
             ],
             [
              0.7777777777777778,
              "#fb9f3a"
             ],
             [
              0.8888888888888888,
              "#fdca26"
             ],
             [
              1,
              "#f0f921"
             ]
            ],
            "type": "heatmapgl"
           }
          ],
          "histogram": [
           {
            "marker": {
             "colorbar": {
              "outlinewidth": 0,
              "ticks": ""
             }
            },
            "type": "histogram"
           }
          ],
          "histogram2d": [
           {
            "colorbar": {
             "outlinewidth": 0,
             "ticks": ""
            },
            "colorscale": [
             [
              0,
              "#0d0887"
             ],
             [
              0.1111111111111111,
              "#46039f"
             ],
             [
              0.2222222222222222,
              "#7201a8"
             ],
             [
              0.3333333333333333,
              "#9c179e"
             ],
             [
              0.4444444444444444,
              "#bd3786"
             ],
             [
              0.5555555555555556,
              "#d8576b"
             ],
             [
              0.6666666666666666,
              "#ed7953"
             ],
             [
              0.7777777777777778,
              "#fb9f3a"
             ],
             [
              0.8888888888888888,
              "#fdca26"
             ],
             [
              1,
              "#f0f921"
             ]
            ],
            "type": "histogram2d"
           }
          ],
          "histogram2dcontour": [
           {
            "colorbar": {
             "outlinewidth": 0,
             "ticks": ""
            },
            "colorscale": [
             [
              0,
              "#0d0887"
             ],
             [
              0.1111111111111111,
              "#46039f"
             ],
             [
              0.2222222222222222,
              "#7201a8"
             ],
             [
              0.3333333333333333,
              "#9c179e"
             ],
             [
              0.4444444444444444,
              "#bd3786"
             ],
             [
              0.5555555555555556,
              "#d8576b"
             ],
             [
              0.6666666666666666,
              "#ed7953"
             ],
             [
              0.7777777777777778,
              "#fb9f3a"
             ],
             [
              0.8888888888888888,
              "#fdca26"
             ],
             [
              1,
              "#f0f921"
             ]
            ],
            "type": "histogram2dcontour"
           }
          ],
          "mesh3d": [
           {
            "colorbar": {
             "outlinewidth": 0,
             "ticks": ""
            },
            "type": "mesh3d"
           }
          ],
          "parcoords": [
           {
            "line": {
             "colorbar": {
              "outlinewidth": 0,
              "ticks": ""
             }
            },
            "type": "parcoords"
           }
          ],
          "pie": [
           {
            "automargin": true,
            "type": "pie"
           }
          ],
          "scatter": [
           {
            "marker": {
             "colorbar": {
              "outlinewidth": 0,
              "ticks": ""
             }
            },
            "type": "scatter"
           }
          ],
          "scatter3d": [
           {
            "line": {
             "colorbar": {
              "outlinewidth": 0,
              "ticks": ""
             }
            },
            "marker": {
             "colorbar": {
              "outlinewidth": 0,
              "ticks": ""
             }
            },
            "type": "scatter3d"
           }
          ],
          "scattercarpet": [
           {
            "marker": {
             "colorbar": {
              "outlinewidth": 0,
              "ticks": ""
             }
            },
            "type": "scattercarpet"
           }
          ],
          "scattergeo": [
           {
            "marker": {
             "colorbar": {
              "outlinewidth": 0,
              "ticks": ""
             }
            },
            "type": "scattergeo"
           }
          ],
          "scattergl": [
           {
            "marker": {
             "colorbar": {
              "outlinewidth": 0,
              "ticks": ""
             }
            },
            "type": "scattergl"
           }
          ],
          "scattermapbox": [
           {
            "marker": {
             "colorbar": {
              "outlinewidth": 0,
              "ticks": ""
             }
            },
            "type": "scattermapbox"
           }
          ],
          "scatterpolar": [
           {
            "marker": {
             "colorbar": {
              "outlinewidth": 0,
              "ticks": ""
             }
            },
            "type": "scatterpolar"
           }
          ],
          "scatterpolargl": [
           {
            "marker": {
             "colorbar": {
              "outlinewidth": 0,
              "ticks": ""
             }
            },
            "type": "scatterpolargl"
           }
          ],
          "scatterternary": [
           {
            "marker": {
             "colorbar": {
              "outlinewidth": 0,
              "ticks": ""
             }
            },
            "type": "scatterternary"
           }
          ],
          "surface": [
           {
            "colorbar": {
             "outlinewidth": 0,
             "ticks": ""
            },
            "colorscale": [
             [
              0,
              "#0d0887"
             ],
             [
              0.1111111111111111,
              "#46039f"
             ],
             [
              0.2222222222222222,
              "#7201a8"
             ],
             [
              0.3333333333333333,
              "#9c179e"
             ],
             [
              0.4444444444444444,
              "#bd3786"
             ],
             [
              0.5555555555555556,
              "#d8576b"
             ],
             [
              0.6666666666666666,
              "#ed7953"
             ],
             [
              0.7777777777777778,
              "#fb9f3a"
             ],
             [
              0.8888888888888888,
              "#fdca26"
             ],
             [
              1,
              "#f0f921"
             ]
            ],
            "type": "surface"
           }
          ],
          "table": [
           {
            "cells": {
             "fill": {
              "color": "#EBF0F8"
             },
             "line": {
              "color": "white"
             }
            },
            "header": {
             "fill": {
              "color": "#C8D4E3"
             },
             "line": {
              "color": "white"
             }
            },
            "type": "table"
           }
          ]
         },
         "layout": {
          "annotationdefaults": {
           "arrowcolor": "#2a3f5f",
           "arrowhead": 0,
           "arrowwidth": 1
          },
          "coloraxis": {
           "colorbar": {
            "outlinewidth": 0,
            "ticks": ""
           }
          },
          "colorscale": {
           "diverging": [
            [
             0,
             "#8e0152"
            ],
            [
             0.1,
             "#c51b7d"
            ],
            [
             0.2,
             "#de77ae"
            ],
            [
             0.3,
             "#f1b6da"
            ],
            [
             0.4,
             "#fde0ef"
            ],
            [
             0.5,
             "#f7f7f7"
            ],
            [
             0.6,
             "#e6f5d0"
            ],
            [
             0.7,
             "#b8e186"
            ],
            [
             0.8,
             "#7fbc41"
            ],
            [
             0.9,
             "#4d9221"
            ],
            [
             1,
             "#276419"
            ]
           ],
           "sequential": [
            [
             0,
             "#0d0887"
            ],
            [
             0.1111111111111111,
             "#46039f"
            ],
            [
             0.2222222222222222,
             "#7201a8"
            ],
            [
             0.3333333333333333,
             "#9c179e"
            ],
            [
             0.4444444444444444,
             "#bd3786"
            ],
            [
             0.5555555555555556,
             "#d8576b"
            ],
            [
             0.6666666666666666,
             "#ed7953"
            ],
            [
             0.7777777777777778,
             "#fb9f3a"
            ],
            [
             0.8888888888888888,
             "#fdca26"
            ],
            [
             1,
             "#f0f921"
            ]
           ],
           "sequentialminus": [
            [
             0,
             "#0d0887"
            ],
            [
             0.1111111111111111,
             "#46039f"
            ],
            [
             0.2222222222222222,
             "#7201a8"
            ],
            [
             0.3333333333333333,
             "#9c179e"
            ],
            [
             0.4444444444444444,
             "#bd3786"
            ],
            [
             0.5555555555555556,
             "#d8576b"
            ],
            [
             0.6666666666666666,
             "#ed7953"
            ],
            [
             0.7777777777777778,
             "#fb9f3a"
            ],
            [
             0.8888888888888888,
             "#fdca26"
            ],
            [
             1,
             "#f0f921"
            ]
           ]
          },
          "colorway": [
           "#636efa",
           "#EF553B",
           "#00cc96",
           "#ab63fa",
           "#FFA15A",
           "#19d3f3",
           "#FF6692",
           "#B6E880",
           "#FF97FF",
           "#FECB52"
          ],
          "font": {
           "color": "#2a3f5f"
          },
          "geo": {
           "bgcolor": "white",
           "lakecolor": "white",
           "landcolor": "#E5ECF6",
           "showlakes": true,
           "showland": true,
           "subunitcolor": "white"
          },
          "hoverlabel": {
           "align": "left"
          },
          "hovermode": "closest",
          "mapbox": {
           "style": "light"
          },
          "paper_bgcolor": "white",
          "plot_bgcolor": "#E5ECF6",
          "polar": {
           "angularaxis": {
            "gridcolor": "white",
            "linecolor": "white",
            "ticks": ""
           },
           "bgcolor": "#E5ECF6",
           "radialaxis": {
            "gridcolor": "white",
            "linecolor": "white",
            "ticks": ""
           }
          },
          "scene": {
           "xaxis": {
            "backgroundcolor": "#E5ECF6",
            "gridcolor": "white",
            "gridwidth": 2,
            "linecolor": "white",
            "showbackground": true,
            "ticks": "",
            "zerolinecolor": "white"
           },
           "yaxis": {
            "backgroundcolor": "#E5ECF6",
            "gridcolor": "white",
            "gridwidth": 2,
            "linecolor": "white",
            "showbackground": true,
            "ticks": "",
            "zerolinecolor": "white"
           },
           "zaxis": {
            "backgroundcolor": "#E5ECF6",
            "gridcolor": "white",
            "gridwidth": 2,
            "linecolor": "white",
            "showbackground": true,
            "ticks": "",
            "zerolinecolor": "white"
           }
          },
          "shapedefaults": {
           "line": {
            "color": "#2a3f5f"
           }
          },
          "ternary": {
           "aaxis": {
            "gridcolor": "white",
            "linecolor": "white",
            "ticks": ""
           },
           "baxis": {
            "gridcolor": "white",
            "linecolor": "white",
            "ticks": ""
           },
           "bgcolor": "#E5ECF6",
           "caxis": {
            "gridcolor": "white",
            "linecolor": "white",
            "ticks": ""
           }
          },
          "title": {
           "x": 0.05
          },
          "xaxis": {
           "automargin": true,
           "gridcolor": "white",
           "linecolor": "white",
           "ticks": "",
           "title": {
            "standoff": 15
           },
           "zerolinecolor": "white",
           "zerolinewidth": 2
          },
          "yaxis": {
           "automargin": true,
           "gridcolor": "white",
           "linecolor": "white",
           "ticks": "",
           "title": {
            "standoff": 15
           },
           "zerolinecolor": "white",
           "zerolinewidth": 2
          }
         }
        }
       }
      },
      "text/html": [
       "<div>\n",
       "        \n",
       "        \n",
       "            <div id=\"31fd4458-2435-4888-8a23-2b3b220ca256\" class=\"plotly-graph-div\" style=\"height:525px; width:100%;\"></div>\n",
       "            <script type=\"text/javascript\">\n",
       "                require([\"plotly\"], function(Plotly) {\n",
       "                    window.PLOTLYENV=window.PLOTLYENV || {};\n",
       "                    \n",
       "                if (document.getElementById(\"31fd4458-2435-4888-8a23-2b3b220ca256\")) {\n",
       "                    Plotly.newPlot(\n",
       "                        '31fd4458-2435-4888-8a23-2b3b220ca256',\n",
       "                        [{\"marker\": {\"opacity\": 0.5}, \"mode\": \"markers\", \"name\": \"Jittered Data\", \"type\": \"scatter\", \"x\": [12.89, 13.4, 12.96, 17.75, 20.58, 15.28, 13.78, 15.1, 12.34, 8.196, 13.45, 11.32, 22.27, 19.4, 7.76, 14.86, 11.13, 9.72, 9.606, 10.08, 12.56, 15.13, 10.48, 12.78, 14.74, 9.904, 13.82, 12.89, 13.74, 13.37, 14.69, 12.91, 13.62, 17.35, 15.0, 11.8, 14.53, 13.71, 11.36, 8.726, 16.11, 18.49, 13.71, 14.47, 13.54, 15.46, 12.85, 19.21, 12.47, 12.46, 10.86, 11.37, 18.81, 13.49, 9.567, 17.14, 11.06, 14.61, 7.691, 19.07, 13.69, 19.16, 19.8, 11.46, 12.06, 13.15, 13.61, 10.26, 9.333, 11.06, 10.66, 11.84, 10.51, 12.67, 11.08, 11.04, 12.43, 14.71, 14.87, 16.65, 16.13, 12.87, 9.465, 21.75, 13.16, 10.91, 12.25, 12.75, 14.58, 12.27, 12.16, 14.27, 15.06, 27.22, 12.99, 13.27, 21.16, 13.87, 13.87, 20.16, 13.59, 12.45, 8.95, 18.65, 13.65, 15.61, 11.47, 14.42, 14.68, 12.05, 9.683, 10.97, 11.42, 12.54, 17.06, 14.34, 14.58, 11.76, 12.83, 13.03, 16.84, 20.48, 13.21, 8.671, 11.87, 12.76, 14.86, 12.65, 11.31, 11.94, 17.47, 14.96, 11.6, 12.34, 9.731, 11.27, 20.09, 14.02, 10.51, 9.876, 11.57, 12.31, 13.66, 10.32, 17.95, 12.21, 12.21, 12.87, 16.69, 12.18, 16.35, 16.5, 12.04, 10.05, 14.25, 11.28, 17.3, 20.59, 8.618, 12.63, 16.27, 12.54, 17.29, 18.03, 11.76, 13.0, 10.6, 11.62, 14.99, 11.89, 9.0, 19.18, 9.042, 11.8, 13.9, 14.95, 13.46, 25.73, 14.5, 24.63, 12.18, 12.9, 17.46, 19.44, 9.787, 12.2, 20.47, 11.85, 20.18, 24.25, 11.41, 23.29, 20.34, 13.2, 16.17, 20.44, 18.82, 21.71, 12.45, 11.95, 13.85, 15.19, 15.75, 11.06, 18.22, 19.53, 19.79, 15.05, 11.14, 12.94, 13.24, 13.05, 13.85, 13.3, 12.72, 12.0, 19.59, 20.64, 14.26, 12.81, 17.08, 9.405, 10.94, 8.597, 8.219, 10.57, 20.51, 13.2, 12.39, 23.27, 18.22, 11.71, 18.08, 14.04, 15.66, 11.22, 11.93, 11.41, 12.72, 10.57, 13.27, 18.01, 9.397, 14.76, 19.0, 11.51, 12.58, 9.847, 9.676, 12.36, 11.63, 17.91, 15.71, 14.8, 13.17, 14.97, 14.78, 16.24, 18.46, 11.3, 18.31, 14.92, 10.9, 19.17, 16.74, 15.3, 12.32, 11.43, 11.68, 11.16, 14.53, 13.56, 11.34, 20.26, 13.64, 13.64, 14.59, 15.75, 9.668, 13.01, 16.25, 10.95, 8.571, 15.46, 9.876, 15.49, 19.4, 8.878, 12.8, 19.45, 12.22, 20.29, 19.55, 10.96, 14.9, 13.61, 10.44, 12.88, 17.42, 9.436, 13.43, 11.6, 12.95, 13.86, 8.598, 16.14, 13.17, 17.02, 15.5, 13.59, 12.03, 12.23, 18.45, 18.61, 11.49, 17.05, 20.31, 13.66, 11.26, 12.7, 19.59, 8.734, 18.31, 14.95, 14.25, 12.77, 15.1, 12.77, 13.0, 14.11, 11.71, 12.68, 19.53, 13.73, 17.68, 13.44, 11.08, 11.71, 12.46, 11.89, 12.27, 13.85, 11.94, 11.26, 18.77, 23.21, 17.01, 28.11, 13.77, 11.69, 11.5, 14.05, 27.42, 13.38, 16.6, 10.49, 11.66, 10.71, 13.7, 11.99, 17.54, 19.19, 13.28, 10.2, 11.93, 14.22, 14.2, 13.05, 15.53, 13.11, 19.55, 20.57, 12.07, 11.45, 15.12, 16.13, 16.3, 10.8, 12.62, 20.2, 15.37, 23.51, 10.26, 12.42, 15.85, 12.49, 13.88, 9.742, 10.8, 20.92, 15.73, 12.88, 9.268, 13.75, 12.3, 12.83, 11.74, 13.05, 10.88, 19.73, 9.504, 11.54, 9.755, 11.75, 11.33, 12.77, 14.6, 14.99, 17.85, 19.68, 13.5, 12.19, 14.42, 21.37, 19.02, 13.0, 16.03, 14.19, 13.14, 18.66, 13.08, 8.888, 11.64, 14.29, 13.98, 12.18], \"y\": [-0.0217929503237698, 1.0269778107849383, -0.0496416432902342, 0.9945390434768533, 0.9819057253778123, 0.9986011887054025, -0.007425375494596188, 1.009165587612994, 0.0428632013883998, -0.03566185285149273, -0.021625510236081724, 0.011914904413884285, 0.95358675237928, 0.9610106020472278, 0.008370629542627225, 0.026424697317725815, -0.009922782378195175, -0.02866509116654281, -0.047373592307256844, 0.023757665307515247, -0.03983757824828241, 0.9795400767419373, -0.0017287938310470014, -0.04265781053759385, 0.011031173085356595, -0.042873088513054075, 1.027778233247854, 0.032582272427382805, 0.03041372003174611, -0.04729909163849785, -0.022036265384316092, -0.0410884607394147, 0.02066611281261188, 0.9969139338804014, -0.01751097193169108, 0.048948949969279024, -0.00029383841450338066, -0.023524287250114507, -0.012069098151747892, 0.01843686721126961, 0.9530360030428613, 1.0449929689584179, 1.0391077194983351, 0.03618518189091188, -0.01572839798649922, 1.0227341754010688, 0.00892670804916644, 0.961121816518083, 0.03184044231726685, -0.04072109104283794, 0.009104370362466377, 0.02295916050214411, 1.031184032133343, 0.03812143980765613, 0.020136905495211965, 1.0254219985540012, 0.043312683544197386, 0.029438856500499072, 0.025927013185141942, 1.009430029645298, -0.0001922314844187839, 1.0160530633528122, 0.964223395132008, -0.0005179501887136104, -0.013665255157283972, -0.034777406508596856, 1.0356010930713717, 0.036261542897384355, -0.04342908804032165, -0.04689885410822027, 0.01980289514260994, 0.9781259478963966, -0.04345894015365324, 0.001564590731232364, 0.03407759486062149, -0.04481218589508236, -0.014715344480234094, 1.0184142041059185, 0.023530006943285137, 0.9775734800882947, 1.0231322538207686, -0.013994712225214645, -0.015768589576397984, 0.9633476452034215, 0.007009871020479765, -0.012037355630361714, -0.0001531652164674449, -0.001569239932807387, 0.03573900135257599, 0.04263663005621625, 0.031250237623026395, 1.0145796201079862, 1.0483643381206664, 1.0269959134976985, -0.03525277596242792, -0.040912190867387704, 1.0116347478268977, 0.047191160622421346, -0.01397432476553332, 1.0342206974329418, -0.027391267689878974, 1.0274908517645733, 0.0008824048732255854, 1.0226621964053175, 0.025215224069188955, 1.0465085082997123, -0.028395794970389132, 0.003031140905352704, 1.0150558455192158, -0.023388031850958238, -0.029058733767238856, 0.04722627894056129, 0.9538485050812615, -0.020863223366937522, 1.0440537722504089, 0.03958780204436918, 1.0473513440926934, 0.04006197130507615, 0.9510719208936322, -0.0049518391588924265, 0.0333131438289684, 1.0287468011498222, 0.025624622414007037, 0.026025606342857846, -0.019594481776669337, 0.016230589553291458, 0.9979761923442418, -0.03475556773359555, 0.004347263982153994, 0.02713935339849996, 0.9608304924866045, -0.012159599203227192, -0.02284340240120998, 1.0194335700931534, -0.03461944641740197, 0.04995473979963387, 0.9896264845723184, -0.03727737828524955, 0.02491299993243125, -0.032551048145054884, -0.01544687499711117, 0.036625606191748136, 0.006891978144583047, -0.02692558489133644, 0.9869264703895395, -0.02134020167443239, 0.015029721935207546, -0.009245509115467586, 1.040126403471407, -0.04587277105964557, 1.0279726995493117, -0.0017437135827464978, 0.013075983781685258, 0.0308544277512192, 1.0423256214526908, -0.028529697590418603, 1.0348133040634138, 1.043806470841743, -0.0067606536512652485, -0.035558818843358986, 0.980500421232126, 0.04857692840520518, 1.0385247573293026, 0.9770899574982452, 0.9790774657853338, -0.009586903411540039, -0.0029702823226995106, 0.04526006452590059, 0.9662526388489983, -0.030229956419767546, 0.021005591405703447, 0.9841824744072958, -0.016942059683319736, 1.0329575636505712, -0.02887767809463179, -0.019705998574827122, -0.007340504177719941, 0.9992162656748027, -0.026291985153520627, 1.0468729791196465, 0.048447740089311464, 0.04557950490120813, 0.9633211850573535, 0.9575688222810781, -0.038433974055922526, -0.026580547074623997, 1.005323986421401, 0.019574896421768337, 0.9867131735054082, 1.0112129461793398, -0.035447883775044965, 0.9919113608362213, 0.9554141567262897, 0.02459917668678427, -0.03421212159210045, 0.9984077859629021, 0.995523580834772, 1.0419587993465924, 0.006029121788087441, -0.003306215244824072, -0.03732082866798278, 0.03186213264886467, 1.0298781077215986, 0.010803818882142914, 0.9900588670572303, 0.9783063131664, 1.0328679607794264, 0.9938871365445965, 0.03274130402096097, 0.0484557297009687, -0.02017640769698408, 0.000183054863841417, 0.029481757694405072, 0.03441224177982374, -0.003525545187789046, -0.03394183688703382, 0.9993986552959064, 0.9670260944447915, -0.01819799535678012, -0.007672694292006996, 0.9648453387499005, -0.014949539731505361, 0.027046196674620812, 0.044732091491666334, -0.024442263050835425, -0.02555275371722915, 0.9949687030454004, -0.012441220396981631, -0.006848607760602719, 1.005744642576252, 0.9786523018973214, 0.03383990033774602, 0.9604009196070582, -0.0430390743047892, 1.0470283616770868, -0.033694653017415845, -0.009420204631510012, 0.02894123998396618, -0.049745343735100526, 0.04007167658131132, 0.03736703602105844, 0.9559004949818091, 0.03332355015016128, -0.045779257239926485, 0.9773174862087912, 0.0239963177260165, -0.006788130029409797, 0.02746029832783725, -0.035533233682238013, -0.0337668809859161, -0.011008580364649759, 0.999276749211724, -0.013224251440122549, 0.04131740094811069, 1.0167536676358202, 0.0033000477292279284, 1.0469235385447784, 1.0021400028190743, 1.0181364764018335, 6.264990539424364e-05, 1.0257166599428638, 0.018750693663864768, -0.04379826989650565, 0.9893906174930338, 1.0009394958040416, 1.0129629441137769, 0.003617084064157672, -0.018080282859926355, -0.03569785391090198, -0.006019716767866071, -0.04096928648147921, 0.047617804008224324, -0.04750033625029548, 1.0080111644647871, 0.020988904901040314, 0.02278837362865624, 0.017072435581243453, 1.014921850890628, -0.02373323389244666, 0.01669251410299108, 0.9991491385148641, 0.9646118026077228, 0.03768114928967789, 0.9974202111034607, 0.033009460786735764, 0.9771852539825978, 1.0272315345107679, 0.028053302103308503, 0.030387389571216603, 1.018734228857342, -0.023118726584743888, 0.9818802927491808, 1.0222367051345802, 0.015962027530666084, 0.9913542701655218, 1.0476098478209512, 0.009971945696561978, 0.021845353630179837, 1.0155636065324831, 0.03861264180441934, 1.003184183662596, -0.01765154088649914, -0.007390012768449604, 0.9861492803422032, -0.049390202346539125, 0.009801187440322545, 1.0252545732215368, 1.0201325437178266, 1.0345198902367454, -0.010305033709395825, -0.025945447118915957, -0.024846548359645594, 1.0048212976717525, 1.0100951654340207, -0.04231563065740068, 0.9950568022768922, 0.951624502640454, -0.04893705248405801, -0.005399889491648248, 0.024407391677197077, 0.9658308195236516, 0.0012087698208016126, 0.966542110102675, 1.0480227987323818, 1.0464684413731826, 0.9673022348870892, 0.04534174746491289, 0.04675869372598261, 1.0452001358959244, -0.03157089558492369, -0.019672767608682307, 0.9525640926137204, 0.978408914428051, 0.9772365327301527, 1.0015353032444358, 0.9827875145225606, 1.0354126821850318, -0.04439733614213623, -0.013230027312079673, 0.007248396949336558, 0.047961804531011495, 0.022796614556889, 0.04697389550408741, 0.016286114463775772, 0.9846898180122632, 1.0499710680198666, 1.0023484727662957, 0.9586852698740518, -0.04266356206981179, 0.027958212116026587, -0.027751056931976527, -0.038668324070348994, 1.0308190807692479, 0.022623705769916097, 0.9565888377834149, -0.017721651594052347, -0.04452590511774379, 0.028831951275699444, -0.04323756486515187, -0.010659904702327042, 1.0402063483815969, 1.036419375419275, 0.9541154094099795, 0.02307309714288587, -0.033628202927098484, 1.0352691063918675, 0.014635963354814902, 0.02559307508237521, 1.0046451078693635, 0.9748987860531255, 1.008133329235483, 1.047525387599168, -0.020937165204577612, -0.012581502792146336, 1.0435352297211273, 1.020406588320803, -0.019336901469464908, 0.040089016247471396, 0.022550187782663933, 1.0213257726227847, 0.960438722869219, 1.0355542168717966, -0.0003410254119694395, 0.04121393178454179, 0.9703292422855638, 0.02594069398318577, -0.043913686961792986, -0.034316510554893875, 0.013803836629731878, 1.0392860454895443, 0.0191628119134514, 0.02445348246008977, -0.022947983887400783, -0.03173665999648193, -0.0005507463933145176, 0.006448360329419853, 0.048510782100592564, -0.0043326003926496895, -0.0330351013088771, 0.9706168190738609, -0.008470557040994378, -0.023480483979300904, -0.002493052823713607, 0.02352843495983399, -0.02436461542708066, 0.008942697807999056, 0.9778018856686908, -0.016297171870268835, -0.020760209261424835, 0.9552268153702475, 0.046407932787322345, -0.017280996558293807, 0.9541815400143161, 0.96379280458599, 0.9583564587110065, 0.04197958758430306, 1.0183565306604656, 1.0002813515914648, 0.04120554849878719, 0.9792449066571816, -0.02070069907402714, 0.04489587715301002, -0.0010749498913169148, -0.019727451604611614, 1.0005650424898438, -0.005939859319575878]}, {\"line\": {\"color\": \"orange\"}, \"mode\": \"lines\", \"name\": \"Least Squares\", \"type\": \"scatter\", \"x\": [7.691, 9.959777777777777, 12.228555555555555, 14.497333333333334, 16.766111111111112, 19.03488888888889, 21.303666666666665, 23.572444444444443, 25.84122222222222, 28.11], \"y\": [-0.25713148661059004, -0.035595395448855816, 0.1859406957128784, 0.40747678687461275, 0.6290128780363471, 0.8505489691980814, 1.0720850603598153, 1.2936211515215499, 1.515157242683284, 1.7366933338450186]}],\n",
       "                        {\"template\": {\"data\": {\"bar\": [{\"error_x\": {\"color\": \"#2a3f5f\"}, \"error_y\": {\"color\": \"#2a3f5f\"}, \"marker\": {\"line\": {\"color\": \"#E5ECF6\", \"width\": 0.5}}, \"type\": \"bar\"}], \"barpolar\": [{\"marker\": {\"line\": {\"color\": \"#E5ECF6\", \"width\": 0.5}}, \"type\": \"barpolar\"}], \"carpet\": [{\"aaxis\": {\"endlinecolor\": \"#2a3f5f\", \"gridcolor\": \"white\", \"linecolor\": \"white\", \"minorgridcolor\": \"white\", \"startlinecolor\": \"#2a3f5f\"}, \"baxis\": {\"endlinecolor\": \"#2a3f5f\", \"gridcolor\": \"white\", \"linecolor\": \"white\", \"minorgridcolor\": \"white\", \"startlinecolor\": \"#2a3f5f\"}, \"type\": \"carpet\"}], \"choropleth\": [{\"colorbar\": {\"outlinewidth\": 0, \"ticks\": \"\"}, \"type\": \"choropleth\"}], \"contour\": [{\"colorbar\": {\"outlinewidth\": 0, \"ticks\": \"\"}, \"colorscale\": [[0.0, \"#0d0887\"], [0.1111111111111111, \"#46039f\"], [0.2222222222222222, \"#7201a8\"], [0.3333333333333333, \"#9c179e\"], [0.4444444444444444, \"#bd3786\"], [0.5555555555555556, \"#d8576b\"], [0.6666666666666666, \"#ed7953\"], [0.7777777777777778, \"#fb9f3a\"], [0.8888888888888888, \"#fdca26\"], [1.0, \"#f0f921\"]], \"type\": \"contour\"}], \"contourcarpet\": [{\"colorbar\": {\"outlinewidth\": 0, \"ticks\": \"\"}, \"type\": \"contourcarpet\"}], \"heatmap\": [{\"colorbar\": {\"outlinewidth\": 0, \"ticks\": \"\"}, \"colorscale\": [[0.0, \"#0d0887\"], [0.1111111111111111, \"#46039f\"], [0.2222222222222222, \"#7201a8\"], [0.3333333333333333, \"#9c179e\"], [0.4444444444444444, \"#bd3786\"], [0.5555555555555556, \"#d8576b\"], [0.6666666666666666, \"#ed7953\"], [0.7777777777777778, \"#fb9f3a\"], [0.8888888888888888, \"#fdca26\"], [1.0, \"#f0f921\"]], \"type\": \"heatmap\"}], \"heatmapgl\": [{\"colorbar\": {\"outlinewidth\": 0, \"ticks\": \"\"}, \"colorscale\": [[0.0, \"#0d0887\"], [0.1111111111111111, \"#46039f\"], [0.2222222222222222, \"#7201a8\"], [0.3333333333333333, \"#9c179e\"], [0.4444444444444444, \"#bd3786\"], [0.5555555555555556, \"#d8576b\"], [0.6666666666666666, \"#ed7953\"], [0.7777777777777778, \"#fb9f3a\"], [0.8888888888888888, \"#fdca26\"], [1.0, \"#f0f921\"]], \"type\": \"heatmapgl\"}], \"histogram\": [{\"marker\": {\"colorbar\": {\"outlinewidth\": 0, \"ticks\": \"\"}}, \"type\": \"histogram\"}], \"histogram2d\": [{\"colorbar\": {\"outlinewidth\": 0, \"ticks\": \"\"}, \"colorscale\": [[0.0, \"#0d0887\"], [0.1111111111111111, \"#46039f\"], [0.2222222222222222, \"#7201a8\"], [0.3333333333333333, \"#9c179e\"], [0.4444444444444444, \"#bd3786\"], [0.5555555555555556, \"#d8576b\"], [0.6666666666666666, \"#ed7953\"], [0.7777777777777778, \"#fb9f3a\"], [0.8888888888888888, \"#fdca26\"], [1.0, \"#f0f921\"]], \"type\": \"histogram2d\"}], \"histogram2dcontour\": [{\"colorbar\": {\"outlinewidth\": 0, \"ticks\": \"\"}, \"colorscale\": [[0.0, \"#0d0887\"], [0.1111111111111111, \"#46039f\"], [0.2222222222222222, \"#7201a8\"], [0.3333333333333333, \"#9c179e\"], [0.4444444444444444, \"#bd3786\"], [0.5555555555555556, \"#d8576b\"], [0.6666666666666666, \"#ed7953\"], [0.7777777777777778, \"#fb9f3a\"], [0.8888888888888888, \"#fdca26\"], [1.0, \"#f0f921\"]], \"type\": \"histogram2dcontour\"}], \"mesh3d\": [{\"colorbar\": {\"outlinewidth\": 0, \"ticks\": \"\"}, \"type\": \"mesh3d\"}], \"parcoords\": [{\"line\": {\"colorbar\": {\"outlinewidth\": 0, \"ticks\": \"\"}}, \"type\": \"parcoords\"}], \"pie\": [{\"automargin\": true, \"type\": \"pie\"}], \"scatter\": [{\"marker\": {\"colorbar\": {\"outlinewidth\": 0, \"ticks\": \"\"}}, \"type\": \"scatter\"}], \"scatter3d\": [{\"line\": {\"colorbar\": {\"outlinewidth\": 0, \"ticks\": \"\"}}, \"marker\": {\"colorbar\": {\"outlinewidth\": 0, \"ticks\": \"\"}}, \"type\": \"scatter3d\"}], \"scattercarpet\": [{\"marker\": {\"colorbar\": {\"outlinewidth\": 0, \"ticks\": \"\"}}, \"type\": \"scattercarpet\"}], \"scattergeo\": [{\"marker\": {\"colorbar\": {\"outlinewidth\": 0, \"ticks\": \"\"}}, \"type\": \"scattergeo\"}], \"scattergl\": [{\"marker\": {\"colorbar\": {\"outlinewidth\": 0, \"ticks\": \"\"}}, \"type\": \"scattergl\"}], \"scattermapbox\": [{\"marker\": {\"colorbar\": {\"outlinewidth\": 0, \"ticks\": \"\"}}, \"type\": \"scattermapbox\"}], \"scatterpolar\": [{\"marker\": {\"colorbar\": {\"outlinewidth\": 0, \"ticks\": \"\"}}, \"type\": \"scatterpolar\"}], \"scatterpolargl\": [{\"marker\": {\"colorbar\": {\"outlinewidth\": 0, \"ticks\": \"\"}}, \"type\": \"scatterpolargl\"}], \"scatterternary\": [{\"marker\": {\"colorbar\": {\"outlinewidth\": 0, \"ticks\": \"\"}}, \"type\": \"scatterternary\"}], \"surface\": [{\"colorbar\": {\"outlinewidth\": 0, \"ticks\": \"\"}, \"colorscale\": [[0.0, \"#0d0887\"], [0.1111111111111111, \"#46039f\"], [0.2222222222222222, \"#7201a8\"], [0.3333333333333333, \"#9c179e\"], [0.4444444444444444, \"#bd3786\"], [0.5555555555555556, \"#d8576b\"], [0.6666666666666666, \"#ed7953\"], [0.7777777777777778, \"#fb9f3a\"], [0.8888888888888888, \"#fdca26\"], [1.0, \"#f0f921\"]], \"type\": \"surface\"}], \"table\": [{\"cells\": {\"fill\": {\"color\": \"#EBF0F8\"}, \"line\": {\"color\": \"white\"}}, \"header\": {\"fill\": {\"color\": \"#C8D4E3\"}, \"line\": {\"color\": \"white\"}}, \"type\": \"table\"}]}, \"layout\": {\"annotationdefaults\": {\"arrowcolor\": \"#2a3f5f\", \"arrowhead\": 0, \"arrowwidth\": 1}, \"coloraxis\": {\"colorbar\": {\"outlinewidth\": 0, \"ticks\": \"\"}}, \"colorscale\": {\"diverging\": [[0, \"#8e0152\"], [0.1, \"#c51b7d\"], [0.2, \"#de77ae\"], [0.3, \"#f1b6da\"], [0.4, \"#fde0ef\"], [0.5, \"#f7f7f7\"], [0.6, \"#e6f5d0\"], [0.7, \"#b8e186\"], [0.8, \"#7fbc41\"], [0.9, \"#4d9221\"], [1, \"#276419\"]], \"sequential\": [[0.0, \"#0d0887\"], [0.1111111111111111, \"#46039f\"], [0.2222222222222222, \"#7201a8\"], [0.3333333333333333, \"#9c179e\"], [0.4444444444444444, \"#bd3786\"], [0.5555555555555556, \"#d8576b\"], [0.6666666666666666, \"#ed7953\"], [0.7777777777777778, \"#fb9f3a\"], [0.8888888888888888, \"#fdca26\"], [1.0, \"#f0f921\"]], \"sequentialminus\": [[0.0, \"#0d0887\"], [0.1111111111111111, \"#46039f\"], [0.2222222222222222, \"#7201a8\"], [0.3333333333333333, \"#9c179e\"], [0.4444444444444444, \"#bd3786\"], [0.5555555555555556, \"#d8576b\"], [0.6666666666666666, \"#ed7953\"], [0.7777777777777778, \"#fb9f3a\"], [0.8888888888888888, \"#fdca26\"], [1.0, \"#f0f921\"]]}, \"colorway\": [\"#636efa\", \"#EF553B\", \"#00cc96\", \"#ab63fa\", \"#FFA15A\", \"#19d3f3\", \"#FF6692\", \"#B6E880\", \"#FF97FF\", \"#FECB52\"], \"font\": {\"color\": \"#2a3f5f\"}, \"geo\": {\"bgcolor\": \"white\", \"lakecolor\": \"white\", \"landcolor\": \"#E5ECF6\", \"showlakes\": true, \"showland\": true, \"subunitcolor\": \"white\"}, \"hoverlabel\": {\"align\": \"left\"}, \"hovermode\": \"closest\", \"mapbox\": {\"style\": \"light\"}, \"paper_bgcolor\": \"white\", \"plot_bgcolor\": \"#E5ECF6\", \"polar\": {\"angularaxis\": {\"gridcolor\": \"white\", \"linecolor\": \"white\", \"ticks\": \"\"}, \"bgcolor\": \"#E5ECF6\", \"radialaxis\": {\"gridcolor\": \"white\", \"linecolor\": \"white\", \"ticks\": \"\"}}, \"scene\": {\"xaxis\": {\"backgroundcolor\": \"#E5ECF6\", \"gridcolor\": \"white\", \"gridwidth\": 2, \"linecolor\": \"white\", \"showbackground\": true, \"ticks\": \"\", \"zerolinecolor\": \"white\"}, \"yaxis\": {\"backgroundcolor\": \"#E5ECF6\", \"gridcolor\": \"white\", \"gridwidth\": 2, \"linecolor\": \"white\", \"showbackground\": true, \"ticks\": \"\", \"zerolinecolor\": \"white\"}, \"zaxis\": {\"backgroundcolor\": \"#E5ECF6\", \"gridcolor\": \"white\", \"gridwidth\": 2, \"linecolor\": \"white\", \"showbackground\": true, \"ticks\": \"\", \"zerolinecolor\": \"white\"}}, \"shapedefaults\": {\"line\": {\"color\": \"#2a3f5f\"}}, \"ternary\": {\"aaxis\": {\"gridcolor\": \"white\", \"linecolor\": \"white\", \"ticks\": \"\"}, \"baxis\": {\"gridcolor\": \"white\", \"linecolor\": \"white\", \"ticks\": \"\"}, \"bgcolor\": \"#E5ECF6\", \"caxis\": {\"gridcolor\": \"white\", \"linecolor\": \"white\", \"ticks\": \"\"}}, \"title\": {\"x\": 0.05}, \"xaxis\": {\"automargin\": true, \"gridcolor\": \"white\", \"linecolor\": \"white\", \"ticks\": \"\", \"title\": {\"standoff\": 15}, \"zerolinecolor\": \"white\", \"zerolinewidth\": 2}, \"yaxis\": {\"automargin\": true, \"gridcolor\": \"white\", \"linecolor\": \"white\", \"ticks\": \"\", \"title\": {\"standoff\": 15}, \"zerolinecolor\": \"white\", \"zerolinewidth\": 2}}}},\n",
       "                        {\"responsive\": true}\n",
       "                    ).then(function(){\n",
       "                            \n",
       "var gd = document.getElementById('31fd4458-2435-4888-8a23-2b3b220ca256');\n",
       "var x = new MutationObserver(function (mutations, observer) {{\n",
       "        var display = window.getComputedStyle(gd).display;\n",
       "        if (!display || display === 'none') {{\n",
       "            console.log([gd, 'removed!']);\n",
       "            Plotly.purge(gd);\n",
       "            observer.disconnect();\n",
       "        }}\n",
       "}});\n",
       "\n",
       "// Listen for the removal of the full notebook cells\n",
       "var notebookContainer = gd.closest('#notebook-container');\n",
       "if (notebookContainer) {{\n",
       "    x.observe(notebookContainer, {childList: true});\n",
       "}}\n",
       "\n",
       "// Listen for the clearing of the current output cell\n",
       "var outputEl = gd.closest('.output');\n",
       "if (outputEl) {{\n",
       "    x.observe(outputEl, {childList: true});\n",
       "}}\n",
       "\n",
       "                        })\n",
       "                };\n",
       "                });\n",
       "            </script>\n",
       "        </div>"
      ]
     },
     "metadata": {},
     "output_type": "display_data"
    }
   ],
   "source": [
    "jitter_y = Y + 0.1*np.random.rand(len(Y)) - 0.05\n",
    "points = go.Scatter(name=\"Jittered Data\", \n",
    "                    x=np.squeeze(X), y = jitter_y, \n",
    "                    mode=\"markers\", marker=dict(opacity=0.5))\n",
    "X_plt = np.linspace(np.min(X), np.max(X), 10)\n",
    "model_line = go.Scatter(name=\"Least Squares\",\n",
    "    x=X_plt, y=least_squares_model.predict(X_plt[:,np.newaxis]), \n",
    "    mode=\"lines\", line=dict(color=\"orange\"))\n",
    "py.iplot([points, model_line])"
   ]
  },
  {
   "cell_type": "markdown",
   "metadata": {},
   "source": [
    "# Questions:\n",
    "\n",
    "1. Are we happy with the fit?\n",
    "2. What is the meaning of predictions that are neither 0 or 1?\n",
    "3. Could we use this to make a decision?\n",
    "\n",
    "---\n",
    "<br/><br/><br/><br/><br/>"
   ]
  },
  {
   "cell_type": "markdown",
   "metadata": {},
   "source": [
    "# What is the Root Mean Squared Error?"
   ]
  },
  {
   "cell_type": "code",
   "execution_count": 11,
   "metadata": {
    "ExecuteTime": {
     "end_time": "2018-04-02T16:07:18.032417Z",
     "start_time": "2018-04-02T16:07:18.028104Z"
    }
   },
   "outputs": [
    {
     "name": "stdout",
     "output_type": "stream",
     "text": [
      "Training RMSE: 0.338350570943863\n"
     ]
    }
   ],
   "source": [
    "from sklearn.metrics import mean_squared_error as mse\n",
    "print(\"Training RMSE:\", np.sqrt(mse(Y, least_squares_model.predict(X))))"
   ]
  },
  {
   "cell_type": "markdown",
   "metadata": {},
   "source": [
    "What does that mean for this data?"
   ]
  },
  {
   "cell_type": "markdown",
   "metadata": {},
   "source": [
    "---\n",
    "<br/><br/><br/><br/><br/><br/>\n",
    "\n",
    "# Classification Error\n",
    "\n",
    "This is a classification problem so we probably want to measure how often we predict the correct value.  This is sometimes called the zero-one loss (or error):\n",
    "\n",
    "$$ \\large\n",
    "\\textbf{ZeroOneLoss} = \\frac{1}{n} \\sum_{i=1}^n \\textbf{I}\\left[ y_i \\neq f_\\theta(x) \\right]\n",
    "$$\n",
    "\n",
    "However to use the classification error we need to define a decision rule that maps $f_\\theta(x)$ to the $\\{0,1\\}$ classification values."
   ]
  },
  {
   "cell_type": "markdown",
   "metadata": {},
   "source": [
    "---\n",
    "<br/><br/><br/><br/><br/>\n",
    "\n",
    "# Simple Decision Rule\n",
    "\n",
    "Suppose we instituted the following simple decision rule:\n",
    "\n",
    "$$\\Large\n",
    "\\text{If } f_\\theta(x) > 0.5  \\text{ predict 1 (malignant) else predict 0 (benign).}\n",
    "$$\n",
    "\n",
    "This simple **decision rule** is deciding that a tumor is malignant if our model predicts a values above 0.5 (closer to 1 than zero).\n",
    "\n",
    "In the following we plot the implication of these decisions on our training data."
   ]
  },
  {
   "cell_type": "code",
   "execution_count": 12,
   "metadata": {
    "ExecuteTime": {
     "end_time": "2018-04-02T16:07:18.059302Z",
     "start_time": "2018-04-02T16:07:18.034361Z"
    }
   },
   "outputs": [
    {
     "data": {
      "application/vnd.plotly.v1+json": {
       "config": {
        "linkText": "Export to plot.ly",
        "plotlyServerURL": "https://plot.ly",
        "showLink": false
       },
       "data": [
        {
         "marker": {
          "color": "red",
          "opacity": 0.5
         },
         "mode": "markers",
         "name": "Classified as Malignant",
         "type": "scatter",
         "x": [
          17.75,
          20.58,
          22.27,
          19.4,
          17.35,
          16.11,
          18.49,
          15.46,
          19.21,
          18.81,
          17.14,
          19.07,
          19.16,
          19.8,
          16.65,
          16.13,
          21.75,
          27.22,
          21.16,
          20.16,
          18.65,
          15.61,
          17.06,
          16.84,
          20.48,
          17.47,
          20.09,
          17.95,
          16.69,
          16.35,
          16.5,
          17.3,
          20.59,
          16.27,
          17.29,
          18.03,
          19.18,
          25.73,
          24.63,
          17.46,
          19.44,
          20.47,
          20.18,
          24.25,
          23.29,
          20.34,
          16.17,
          20.44,
          18.82,
          21.71,
          15.75,
          18.22,
          19.53,
          19.79,
          19.59,
          20.64,
          17.08,
          20.51,
          23.27,
          18.22,
          18.08,
          15.66,
          18.01,
          19,
          17.91,
          15.71,
          16.24,
          18.46,
          18.31,
          19.17,
          16.74,
          20.26,
          15.75,
          16.25,
          15.46,
          15.49,
          19.4,
          19.45,
          20.29,
          19.55,
          17.42,
          16.14,
          17.02,
          15.5,
          18.45,
          18.61,
          17.05,
          20.31,
          19.59,
          18.31,
          19.53,
          17.68,
          18.77,
          23.21,
          17.01,
          28.11,
          27.42,
          16.6,
          17.54,
          19.19,
          15.53,
          19.55,
          20.57,
          16.13,
          16.3,
          20.2,
          23.51,
          15.85,
          20.92,
          15.73,
          19.73,
          17.85,
          19.68,
          21.37,
          19.02,
          16.03,
          18.66
         ],
         "y": [
          1.0094194667364984,
          0.9901628986226871,
          0.9641860915918707,
          1.0345977623730036,
          1.0149904624944002,
          0.9647812263663453,
          0.9568853794205072,
          0.985479846321659,
          1.0013948778065107,
          0.9567758593978377,
          0.9867832934261276,
          1.0458898064469844,
          0.9772848514055266,
          1.0090863928126208,
          0.9727942148333304,
          0.9635979181115035,
          0.9846603075487779,
          0.9543429247369912,
          1.0342785708455695,
          1.0286251209552661,
          1.0277781604372345,
          0.9868598110267983,
          0.9548818297420045,
          0.040252570326578224,
          1.0136903310326981,
          1.039823245472742,
          1.0124193512020425,
          1.0223018251877054,
          0.9976618494993439,
          0.99537415845548,
          0.04755171106812425,
          0.9914412517984759,
          1.0308639460064897,
          1.0213399954317801,
          0.9858238957277004,
          1.041011564015852,
          1.0055894240318948,
          0.9771191235273176,
          1.0388621733091832,
          1.0028494325634043,
          0.9866401773927382,
          1.04547722476063,
          1.0313005952121308,
          0.9602171548143628,
          1.035972193856135,
          1.0159197688121666,
          -0.049411657288967195,
          0.9632597705387389,
          0.9801511973552168,
          0.9891251886260826,
          0.9874512874930694,
          1.011901783356336,
          1.0435100128329198,
          0.9555388226595991,
          1.0467239703893398,
          1.0317118022766045,
          1.002797181224056,
          1.0101981278998422,
          0.9616431754474726,
          1.0183662453839963,
          1.0468903318343832,
          0.9976268894734364,
          0.9801951580666397,
          0.9962270454480635,
          0.9681511070161823,
          -0.04938015268620919,
          1.0035550970205829,
          1.0422507001999484,
          1.0398209745683797,
          1.036858193011073,
          0.9686068838686221,
          0.9700513751570037,
          1.031147871827471,
          0.9951803367205685,
          1.0467841723922866,
          0.9964992416852052,
          0.9866568114347218,
          1.018367912543454,
          0.97658184563323,
          1.0495631869675488,
          0.9825994033407419,
          -0.0428799778506154,
          0.9764545626950569,
          1.0158196928073264,
          0.9540804898994468,
          0.9526077703869522,
          1.0340290490137596,
          1.0229434301636582,
          1.0096570638758622,
          1.018795766318713,
          1.0325931996525934,
          1.042638246740882,
          0.9559341012450404,
          1.030253365829157,
          1.0428191462566407,
          1.034844170183188,
          0.9606303291915872,
          1.0110762271227232,
          1.0469077151977106,
          0.9927914976448633,
          1.0087601593772892,
          1.0177110973085617,
          1.0241237826299932,
          1.0396515956756762,
          0.026418933019270535,
          0.9806371461800523,
          0.9683054514082445,
          0.968772409561381,
          1.048329404062847,
          0.018512800996131104,
          1.0494520602582218,
          -0.03864455327572056,
          0.9947969320725849,
          1.0485882936393756,
          1.0488879601366297,
          0.9965477559951632,
          0.9949183070400736
         ]
        },
        {
         "marker": {
          "color": "blue",
          "opacity": 0.5
         },
         "mode": "markers",
         "name": "Classified as Benign",
         "type": "scatter",
         "x": [
          12.89,
          13.4,
          12.96,
          15.28,
          13.78,
          15.1,
          12.34,
          8.196,
          13.45,
          11.32,
          7.76,
          14.86,
          11.13,
          9.72,
          9.606,
          10.08,
          12.56,
          15.13,
          10.48,
          12.78,
          14.74,
          9.904,
          13.82,
          12.89,
          13.74,
          13.37,
          14.69,
          12.91,
          13.62,
          15,
          11.8,
          14.53,
          13.71,
          11.36,
          8.726,
          13.71,
          14.47,
          13.54,
          12.85,
          12.47,
          12.46,
          10.86,
          11.37,
          13.49,
          9.567,
          11.06,
          14.61,
          7.691,
          13.69,
          11.46,
          12.06,
          13.15,
          13.61,
          10.26,
          9.333,
          11.06,
          10.66,
          11.84,
          10.51,
          12.67,
          11.08,
          11.04,
          12.43,
          14.71,
          14.87,
          12.87,
          9.465,
          13.16,
          10.91,
          12.25,
          12.75,
          14.58,
          12.27,
          12.16,
          14.27,
          15.06,
          12.99,
          13.27,
          13.87,
          13.87,
          13.59,
          12.45,
          8.95,
          13.65,
          11.47,
          14.42,
          14.68,
          12.05,
          9.683,
          10.97,
          11.42,
          12.54,
          14.34,
          14.58,
          11.76,
          12.83,
          13.03,
          13.21,
          8.671,
          11.87,
          12.76,
          14.86,
          12.65,
          11.31,
          11.94,
          14.96,
          11.6,
          12.34,
          9.731,
          11.27,
          14.02,
          10.51,
          9.876,
          11.57,
          12.31,
          13.66,
          10.32,
          12.21,
          12.21,
          12.87,
          12.18,
          12.04,
          10.05,
          14.25,
          11.28,
          8.618,
          12.63,
          12.54,
          11.76,
          13,
          10.6,
          11.62,
          14.99,
          11.89,
          9,
          9.042,
          11.8,
          13.9,
          14.95,
          13.46,
          14.5,
          12.18,
          12.9,
          9.787,
          12.2,
          11.85,
          11.41,
          13.2,
          12.45,
          11.95,
          13.85,
          15.19,
          11.06,
          15.05,
          11.14,
          12.94,
          13.24,
          13.05,
          13.85,
          13.3,
          12.72,
          12,
          14.26,
          12.81,
          9.405,
          10.94,
          8.597,
          8.219,
          10.57,
          13.2,
          12.39,
          11.71,
          14.04,
          11.22,
          11.93,
          11.41,
          12.72,
          10.57,
          13.27,
          9.397,
          14.76,
          11.51,
          12.58,
          9.847,
          9.676,
          12.36,
          11.63,
          14.8,
          13.17,
          14.97,
          14.78,
          11.3,
          14.92,
          10.9,
          15.3,
          12.32,
          11.43,
          11.68,
          11.16,
          14.53,
          13.56,
          11.34,
          13.64,
          13.64,
          14.59,
          9.668,
          13.01,
          10.95,
          8.571,
          9.876,
          8.878,
          12.8,
          12.22,
          10.96,
          14.9,
          13.61,
          10.44,
          12.88,
          9.436,
          13.43,
          11.6,
          12.95,
          13.86,
          8.598,
          13.17,
          13.59,
          12.03,
          12.23,
          11.49,
          13.66,
          11.26,
          12.7,
          8.734,
          14.95,
          14.25,
          12.77,
          15.1,
          12.77,
          13,
          14.11,
          11.71,
          12.68,
          13.73,
          13.44,
          11.08,
          11.71,
          12.46,
          11.89,
          12.27,
          13.85,
          11.94,
          11.26,
          13.77,
          11.69,
          11.5,
          14.05,
          13.38,
          10.49,
          11.66,
          10.71,
          13.7,
          11.99,
          13.28,
          10.2,
          11.93,
          14.22,
          14.2,
          13.05,
          13.11,
          12.07,
          11.45,
          15.12,
          10.8,
          12.62,
          15.37,
          10.26,
          12.42,
          12.49,
          13.88,
          9.742,
          10.8,
          12.88,
          9.268,
          13.75,
          12.3,
          12.83,
          11.74,
          13.05,
          10.88,
          9.504,
          11.54,
          9.755,
          11.75,
          11.33,
          12.77,
          14.6,
          14.99,
          13.5,
          12.19,
          14.42,
          13,
          14.19,
          13.14,
          13.08,
          8.888,
          11.64,
          14.29,
          13.98,
          12.18
         ],
         "y": [
          -0.03871093547748187,
          0.973031429228971,
          -0.00934966851589477,
          1.0441608886489846,
          0.021855440743051097,
          1.0256835403510236,
          0.04411841776214086,
          0.018358162891157798,
          -0.035203055351680446,
          0.003004227336489154,
          0.0018930355840096613,
          0.0007571147257982164,
          0.02946811211117742,
          -0.016514323798400614,
          0.03591590616334116,
          -0.003955947376397519,
          -0.00490857874956141,
          0.9845795974631375,
          0.03161473857812652,
          -0.010038857914597597,
          0.043895820793316484,
          0.04782015710149884,
          0.9862016703635523,
          -0.0163202071477404,
          0.03305638074075254,
          0.028850645290513094,
          -0.004947059404943485,
          0.0019138398355504904,
          0.039657438224984326,
          -0.0022866587434267824,
          0.0398544782333566,
          0.018770302853799062,
          -0.0028732790822296184,
          -0.04512015115945958,
          -0.0001744664047537703,
          1.0246418944426703,
          0.03813113604723671,
          0.003973083479412318,
          0.032987057619913565,
          0.043411493576620996,
          0.017852457973771385,
          0.04834658558212236,
          -0.038452337277676954,
          -0.02166213925599172,
          0.014344781964159031,
          -0.03491908923301226,
          -0.0061577681113100385,
          -0.02239209199472543,
          0.031045435404738628,
          0.037236410961093785,
          -0.01991255828202715,
          -0.019363033660789664,
          0.9989899681724259,
          0.02617188240180232,
          -0.020725693013268178,
          -0.03711855942089653,
          0.025848891247781336,
          1.0434171795479632,
          0.042387132228147634,
          -0.023219755273909584,
          -0.04366662722004227,
          0.025296328287969364,
          -0.032835606795666744,
          1.0323780919303303,
          0.02454367782883521,
          0.02231684821188966,
          -0.03650560317542925,
          -0.04744924910034143,
          0.011381982291514547,
          0.006775958803326487,
          0.012022099664300775,
          0.04457530658038593,
          -0.01217620033891241,
          0.026388329294176574,
          0.9572302027076605,
          0.9751125768912969,
          -0.003823744998534287,
          -0.0459015133880792,
          0.0015428782276932992,
          0.03896944957467023,
          -0.04274704963016197,
          0.9565617468637619,
          -0.01393730064095694,
          -0.02403701466457363,
          -0.01648328978275137,
          -0.024737976276531015,
          1.0005605570078775,
          0.030423775383865453,
          -0.009447363211218272,
          0.022485580214995,
          0.9638922654551665,
          -0.019641865261471127,
          -0.013231453319398026,
          1.018455751262698,
          0.014060041133791334,
          1.018625278622436,
          0.01063695741250796,
          -0.0328746389714903,
          -0.04316087103272834,
          0.035281798751820956,
          -0.041754893676943974,
          0.9502874501847034,
          -0.03581150194320404,
          0.001828355809236834,
          0.020972794061758074,
          0.04452878585434425,
          -0.013344731046680568,
          0.9831236097908449,
          -0.04079276299340898,
          -0.009371147779787224,
          -0.04002711705598741,
          0.04048793707367039,
          -0.02246966610468104,
          -0.04330392384469931,
          0.0117144224348021,
          -0.009084085195117518,
          -0.0005068192839755362,
          0.0368783138172314,
          -0.014103773879070636,
          0.0012551561384695625,
          0.012159040510335464,
          -0.029391036565180363,
          0.018293989692739224,
          1.0414381059391788,
          -0.0014558792732840692,
          -0.02915908693153555,
          0.048005807005620835,
          -0.02385336884854924,
          0.9799013675746944,
          -0.03518137527740278,
          0.03918265641403494,
          0.022694889252465128,
          0.9593984881730717,
          0.049564183279137114,
          -0.033497312164887806,
          0.030889153609816783,
          0.9992121798374538,
          -0.03759719002426825,
          -0.0310119092206672,
          0.008971595428562754,
          -0.009826460901817977,
          0.011779711621280574,
          -0.025350029836085808,
          0.005974468275795716,
          -0.010702457944718066,
          -0.03710052884944054,
          0.040853238650529894,
          -0.04418085169188435,
          0.031364386473498956,
          -0.02360696766076975,
          0.040021947824546364,
          0.012844326027343145,
          -0.0315226085549347,
          1.0119051181450223,
          0.04914916651938428,
          -0.04221696118239128,
          -0.006061154622520083,
          0.030171761019026744,
          -0.02647506245311756,
          0.03241890307033879,
          -0.011136589847934565,
          -0.03675546415733715,
          -0.003483506738546839,
          0.012407501973565792,
          0.013552841325877446,
          -0.0014722739548642533,
          -0.03636526758891409,
          -0.040337854732963266,
          -0.00683165764658137,
          -0.04052204880537818,
          -0.03445666373706863,
          -0.03550618021597921,
          -0.02973355755787942,
          -0.012348521328653196,
          0.03545615642790405,
          -0.002409481558125516,
          -0.04978672384319534,
          -0.041298154866718555,
          -0.0067088393433722415,
          -0.011129634262976675,
          -0.0279310649850977,
          -0.03247130721997976,
          0.011132885778986266,
          -0.006353416003641407,
          -0.01814625503340707,
          0.031942638912264995,
          -0.02975166987181165,
          0.036562360373661215,
          1.045941655210299,
          -0.047621839165901486,
          1.0192040455790916,
          -0.03275215983303077,
          0.004056987264667744,
          -0.04912456199502111,
          0.9575806137637812,
          0.01232266984717445,
          -0.04296782705688937,
          -0.014899803253738651,
          -0.03734761991204547,
          0.027564033840471472,
          0.03462569211890086,
          -0.03869075600055255,
          0.04684376396097055,
          -0.04005702793560665,
          0.02348236725684373,
          0.030053130958929086,
          0.048168857463242606,
          0.9870787502212472,
          -0.004684299615640174,
          0.013970861182312971,
          0.038636748295766604,
          -0.049217053911213685,
          0.030795711535592504,
          0.01711355960278041,
          0.9714342598960399,
          0.9684471350743986,
          0.018625906456968627,
          0.009540508321407126,
          0.03745811247869392,
          0.995700848011404,
          0.024035055917471237,
          0.04692438368729229,
          1.0136174765738921,
          0.04876559823737614,
          1.0332231257773292,
          0.036809185903994054,
          -0.016051162011777767,
          0.005524969571305827,
          -0.0021156727230152925,
          -0.045615566319318214,
          -0.04315628628666231,
          0.0009856004013992017,
          0.008297731601376701,
          1.048314161177343,
          0.9911582383526831,
          1.030886567248165,
          0.025532296619881698,
          -0.018018131958510007,
          0.9930740971748351,
          -0.0023470912820527934,
          -0.041061025444645606,
          0.9646643363990608,
          1.045749073357709,
          1.0151282837268494,
          0.9595633252828784,
          -0.004360703143357271,
          -0.009713921996992815,
          0.009976838735439052,
          0.021660493103344614,
          -0.029191890041058932,
          -0.011537605951996842,
          -0.0031827765541955558,
          0.045491066219216475,
          0.0035371901747344864,
          0.0035012041243812284,
          -0.009448051537956234,
          -0.03938988489375114,
          0.02625725396280705,
          -0.03040225848763153,
          0.04958215355087078,
          -0.04217440541074396,
          -0.0076064341374179265,
          1.0209089948990635,
          -0.04014204235969187,
          -0.029132907419734313,
          1.0246169444318465,
          -0.02250886206816004,
          -0.022777379062545,
          1.0321852534464766,
          -0.00877396547712802,
          0.018044691580561628,
          0.9736196888949125,
          -0.043228101960445256,
          0.007116476838568621,
          0.971250642902612,
          -0.04792621264753031,
          -0.00014995698997468526,
          0.008725179855181432,
          -0.006076760445276622,
          0.02084136573065061,
          -0.024953968003849514,
          0.03705234944455228,
          -0.0038087754473107097,
          0.046132897584035285,
          0.03589103407703881,
          0.04728440618260378,
          -0.0005564637810501205,
          -0.01865812552752149,
          0.026645429835105067,
          -0.03508655961006825,
          -0.007445295327378934,
          -0.03269515911503737,
          0.03545773960904387,
          0.01272210435518914,
          -0.006827217303338462,
          0.9762416597848886,
          -0.02832173672865397,
          -0.04083208903125188,
          -0.005360986278259414,
          1.0439183659046907,
          0.017620236159464175,
          1.0312054728722237,
          0.049013521294840864,
          0.03984862530957495,
          0.025456282571598876,
          -0.02681268806722653,
          -0.03069418115450391,
          1.0417543241556724,
          0.03398181642802821
         ]
        },
        {
         "line": {
          "color": "orange"
         },
         "mode": "lines",
         "name": "Least Squares",
         "type": "scatter",
         "x": [
          7.691,
          9.959777777777777,
          12.228555555555555,
          14.497333333333334,
          16.766111111111112,
          19.03488888888889,
          21.303666666666665,
          23.572444444444443,
          25.84122222222222,
          28.11
         ],
         "y": [
          -0.25713148661059004,
          -0.035595395448855816,
          0.1859406957128784,
          0.40747678687461275,
          0.6290128780363471,
          0.8505489691980814,
          1.0720850603598153,
          1.2936211515215499,
          1.515157242683284,
          1.7366933338450186
         ]
        },
        {
         "line": {
          "color": "black",
          "dash": "dot"
         },
         "mode": "lines",
         "name": "Least Squares Decision Boundary",
         "type": "scatter",
         "x": [
          15.44487469675942,
          15.44487469675942
         ],
         "y": [
          -0.5,
          1.5
         ]
        }
       ],
       "layout": {
        "template": {
         "data": {
          "bar": [
           {
            "error_x": {
             "color": "#2a3f5f"
            },
            "error_y": {
             "color": "#2a3f5f"
            },
            "marker": {
             "line": {
              "color": "#E5ECF6",
              "width": 0.5
             }
            },
            "type": "bar"
           }
          ],
          "barpolar": [
           {
            "marker": {
             "line": {
              "color": "#E5ECF6",
              "width": 0.5
             }
            },
            "type": "barpolar"
           }
          ],
          "carpet": [
           {
            "aaxis": {
             "endlinecolor": "#2a3f5f",
             "gridcolor": "white",
             "linecolor": "white",
             "minorgridcolor": "white",
             "startlinecolor": "#2a3f5f"
            },
            "baxis": {
             "endlinecolor": "#2a3f5f",
             "gridcolor": "white",
             "linecolor": "white",
             "minorgridcolor": "white",
             "startlinecolor": "#2a3f5f"
            },
            "type": "carpet"
           }
          ],
          "choropleth": [
           {
            "colorbar": {
             "outlinewidth": 0,
             "ticks": ""
            },
            "type": "choropleth"
           }
          ],
          "contour": [
           {
            "colorbar": {
             "outlinewidth": 0,
             "ticks": ""
            },
            "colorscale": [
             [
              0,
              "#0d0887"
             ],
             [
              0.1111111111111111,
              "#46039f"
             ],
             [
              0.2222222222222222,
              "#7201a8"
             ],
             [
              0.3333333333333333,
              "#9c179e"
             ],
             [
              0.4444444444444444,
              "#bd3786"
             ],
             [
              0.5555555555555556,
              "#d8576b"
             ],
             [
              0.6666666666666666,
              "#ed7953"
             ],
             [
              0.7777777777777778,
              "#fb9f3a"
             ],
             [
              0.8888888888888888,
              "#fdca26"
             ],
             [
              1,
              "#f0f921"
             ]
            ],
            "type": "contour"
           }
          ],
          "contourcarpet": [
           {
            "colorbar": {
             "outlinewidth": 0,
             "ticks": ""
            },
            "type": "contourcarpet"
           }
          ],
          "heatmap": [
           {
            "colorbar": {
             "outlinewidth": 0,
             "ticks": ""
            },
            "colorscale": [
             [
              0,
              "#0d0887"
             ],
             [
              0.1111111111111111,
              "#46039f"
             ],
             [
              0.2222222222222222,
              "#7201a8"
             ],
             [
              0.3333333333333333,
              "#9c179e"
             ],
             [
              0.4444444444444444,
              "#bd3786"
             ],
             [
              0.5555555555555556,
              "#d8576b"
             ],
             [
              0.6666666666666666,
              "#ed7953"
             ],
             [
              0.7777777777777778,
              "#fb9f3a"
             ],
             [
              0.8888888888888888,
              "#fdca26"
             ],
             [
              1,
              "#f0f921"
             ]
            ],
            "type": "heatmap"
           }
          ],
          "heatmapgl": [
           {
            "colorbar": {
             "outlinewidth": 0,
             "ticks": ""
            },
            "colorscale": [
             [
              0,
              "#0d0887"
             ],
             [
              0.1111111111111111,
              "#46039f"
             ],
             [
              0.2222222222222222,
              "#7201a8"
             ],
             [
              0.3333333333333333,
              "#9c179e"
             ],
             [
              0.4444444444444444,
              "#bd3786"
             ],
             [
              0.5555555555555556,
              "#d8576b"
             ],
             [
              0.6666666666666666,
              "#ed7953"
             ],
             [
              0.7777777777777778,
              "#fb9f3a"
             ],
             [
              0.8888888888888888,
              "#fdca26"
             ],
             [
              1,
              "#f0f921"
             ]
            ],
            "type": "heatmapgl"
           }
          ],
          "histogram": [
           {
            "marker": {
             "colorbar": {
              "outlinewidth": 0,
              "ticks": ""
             }
            },
            "type": "histogram"
           }
          ],
          "histogram2d": [
           {
            "colorbar": {
             "outlinewidth": 0,
             "ticks": ""
            },
            "colorscale": [
             [
              0,
              "#0d0887"
             ],
             [
              0.1111111111111111,
              "#46039f"
             ],
             [
              0.2222222222222222,
              "#7201a8"
             ],
             [
              0.3333333333333333,
              "#9c179e"
             ],
             [
              0.4444444444444444,
              "#bd3786"
             ],
             [
              0.5555555555555556,
              "#d8576b"
             ],
             [
              0.6666666666666666,
              "#ed7953"
             ],
             [
              0.7777777777777778,
              "#fb9f3a"
             ],
             [
              0.8888888888888888,
              "#fdca26"
             ],
             [
              1,
              "#f0f921"
             ]
            ],
            "type": "histogram2d"
           }
          ],
          "histogram2dcontour": [
           {
            "colorbar": {
             "outlinewidth": 0,
             "ticks": ""
            },
            "colorscale": [
             [
              0,
              "#0d0887"
             ],
             [
              0.1111111111111111,
              "#46039f"
             ],
             [
              0.2222222222222222,
              "#7201a8"
             ],
             [
              0.3333333333333333,
              "#9c179e"
             ],
             [
              0.4444444444444444,
              "#bd3786"
             ],
             [
              0.5555555555555556,
              "#d8576b"
             ],
             [
              0.6666666666666666,
              "#ed7953"
             ],
             [
              0.7777777777777778,
              "#fb9f3a"
             ],
             [
              0.8888888888888888,
              "#fdca26"
             ],
             [
              1,
              "#f0f921"
             ]
            ],
            "type": "histogram2dcontour"
           }
          ],
          "mesh3d": [
           {
            "colorbar": {
             "outlinewidth": 0,
             "ticks": ""
            },
            "type": "mesh3d"
           }
          ],
          "parcoords": [
           {
            "line": {
             "colorbar": {
              "outlinewidth": 0,
              "ticks": ""
             }
            },
            "type": "parcoords"
           }
          ],
          "pie": [
           {
            "automargin": true,
            "type": "pie"
           }
          ],
          "scatter": [
           {
            "marker": {
             "colorbar": {
              "outlinewidth": 0,
              "ticks": ""
             }
            },
            "type": "scatter"
           }
          ],
          "scatter3d": [
           {
            "line": {
             "colorbar": {
              "outlinewidth": 0,
              "ticks": ""
             }
            },
            "marker": {
             "colorbar": {
              "outlinewidth": 0,
              "ticks": ""
             }
            },
            "type": "scatter3d"
           }
          ],
          "scattercarpet": [
           {
            "marker": {
             "colorbar": {
              "outlinewidth": 0,
              "ticks": ""
             }
            },
            "type": "scattercarpet"
           }
          ],
          "scattergeo": [
           {
            "marker": {
             "colorbar": {
              "outlinewidth": 0,
              "ticks": ""
             }
            },
            "type": "scattergeo"
           }
          ],
          "scattergl": [
           {
            "marker": {
             "colorbar": {
              "outlinewidth": 0,
              "ticks": ""
             }
            },
            "type": "scattergl"
           }
          ],
          "scattermapbox": [
           {
            "marker": {
             "colorbar": {
              "outlinewidth": 0,
              "ticks": ""
             }
            },
            "type": "scattermapbox"
           }
          ],
          "scatterpolar": [
           {
            "marker": {
             "colorbar": {
              "outlinewidth": 0,
              "ticks": ""
             }
            },
            "type": "scatterpolar"
           }
          ],
          "scatterpolargl": [
           {
            "marker": {
             "colorbar": {
              "outlinewidth": 0,
              "ticks": ""
             }
            },
            "type": "scatterpolargl"
           }
          ],
          "scatterternary": [
           {
            "marker": {
             "colorbar": {
              "outlinewidth": 0,
              "ticks": ""
             }
            },
            "type": "scatterternary"
           }
          ],
          "surface": [
           {
            "colorbar": {
             "outlinewidth": 0,
             "ticks": ""
            },
            "colorscale": [
             [
              0,
              "#0d0887"
             ],
             [
              0.1111111111111111,
              "#46039f"
             ],
             [
              0.2222222222222222,
              "#7201a8"
             ],
             [
              0.3333333333333333,
              "#9c179e"
             ],
             [
              0.4444444444444444,
              "#bd3786"
             ],
             [
              0.5555555555555556,
              "#d8576b"
             ],
             [
              0.6666666666666666,
              "#ed7953"
             ],
             [
              0.7777777777777778,
              "#fb9f3a"
             ],
             [
              0.8888888888888888,
              "#fdca26"
             ],
             [
              1,
              "#f0f921"
             ]
            ],
            "type": "surface"
           }
          ],
          "table": [
           {
            "cells": {
             "fill": {
              "color": "#EBF0F8"
             },
             "line": {
              "color": "white"
             }
            },
            "header": {
             "fill": {
              "color": "#C8D4E3"
             },
             "line": {
              "color": "white"
             }
            },
            "type": "table"
           }
          ]
         },
         "layout": {
          "annotationdefaults": {
           "arrowcolor": "#2a3f5f",
           "arrowhead": 0,
           "arrowwidth": 1
          },
          "coloraxis": {
           "colorbar": {
            "outlinewidth": 0,
            "ticks": ""
           }
          },
          "colorscale": {
           "diverging": [
            [
             0,
             "#8e0152"
            ],
            [
             0.1,
             "#c51b7d"
            ],
            [
             0.2,
             "#de77ae"
            ],
            [
             0.3,
             "#f1b6da"
            ],
            [
             0.4,
             "#fde0ef"
            ],
            [
             0.5,
             "#f7f7f7"
            ],
            [
             0.6,
             "#e6f5d0"
            ],
            [
             0.7,
             "#b8e186"
            ],
            [
             0.8,
             "#7fbc41"
            ],
            [
             0.9,
             "#4d9221"
            ],
            [
             1,
             "#276419"
            ]
           ],
           "sequential": [
            [
             0,
             "#0d0887"
            ],
            [
             0.1111111111111111,
             "#46039f"
            ],
            [
             0.2222222222222222,
             "#7201a8"
            ],
            [
             0.3333333333333333,
             "#9c179e"
            ],
            [
             0.4444444444444444,
             "#bd3786"
            ],
            [
             0.5555555555555556,
             "#d8576b"
            ],
            [
             0.6666666666666666,
             "#ed7953"
            ],
            [
             0.7777777777777778,
             "#fb9f3a"
            ],
            [
             0.8888888888888888,
             "#fdca26"
            ],
            [
             1,
             "#f0f921"
            ]
           ],
           "sequentialminus": [
            [
             0,
             "#0d0887"
            ],
            [
             0.1111111111111111,
             "#46039f"
            ],
            [
             0.2222222222222222,
             "#7201a8"
            ],
            [
             0.3333333333333333,
             "#9c179e"
            ],
            [
             0.4444444444444444,
             "#bd3786"
            ],
            [
             0.5555555555555556,
             "#d8576b"
            ],
            [
             0.6666666666666666,
             "#ed7953"
            ],
            [
             0.7777777777777778,
             "#fb9f3a"
            ],
            [
             0.8888888888888888,
             "#fdca26"
            ],
            [
             1,
             "#f0f921"
            ]
           ]
          },
          "colorway": [
           "#636efa",
           "#EF553B",
           "#00cc96",
           "#ab63fa",
           "#FFA15A",
           "#19d3f3",
           "#FF6692",
           "#B6E880",
           "#FF97FF",
           "#FECB52"
          ],
          "font": {
           "color": "#2a3f5f"
          },
          "geo": {
           "bgcolor": "white",
           "lakecolor": "white",
           "landcolor": "#E5ECF6",
           "showlakes": true,
           "showland": true,
           "subunitcolor": "white"
          },
          "hoverlabel": {
           "align": "left"
          },
          "hovermode": "closest",
          "mapbox": {
           "style": "light"
          },
          "paper_bgcolor": "white",
          "plot_bgcolor": "#E5ECF6",
          "polar": {
           "angularaxis": {
            "gridcolor": "white",
            "linecolor": "white",
            "ticks": ""
           },
           "bgcolor": "#E5ECF6",
           "radialaxis": {
            "gridcolor": "white",
            "linecolor": "white",
            "ticks": ""
           }
          },
          "scene": {
           "xaxis": {
            "backgroundcolor": "#E5ECF6",
            "gridcolor": "white",
            "gridwidth": 2,
            "linecolor": "white",
            "showbackground": true,
            "ticks": "",
            "zerolinecolor": "white"
           },
           "yaxis": {
            "backgroundcolor": "#E5ECF6",
            "gridcolor": "white",
            "gridwidth": 2,
            "linecolor": "white",
            "showbackground": true,
            "ticks": "",
            "zerolinecolor": "white"
           },
           "zaxis": {
            "backgroundcolor": "#E5ECF6",
            "gridcolor": "white",
            "gridwidth": 2,
            "linecolor": "white",
            "showbackground": true,
            "ticks": "",
            "zerolinecolor": "white"
           }
          },
          "shapedefaults": {
           "line": {
            "color": "#2a3f5f"
           }
          },
          "ternary": {
           "aaxis": {
            "gridcolor": "white",
            "linecolor": "white",
            "ticks": ""
           },
           "baxis": {
            "gridcolor": "white",
            "linecolor": "white",
            "ticks": ""
           },
           "bgcolor": "#E5ECF6",
           "caxis": {
            "gridcolor": "white",
            "linecolor": "white",
            "ticks": ""
           }
          },
          "title": {
           "x": 0.05
          },
          "xaxis": {
           "automargin": true,
           "gridcolor": "white",
           "linecolor": "white",
           "ticks": "",
           "title": {
            "standoff": 15
           },
           "zerolinecolor": "white",
           "zerolinewidth": 2
          },
          "yaxis": {
           "automargin": true,
           "gridcolor": "white",
           "linecolor": "white",
           "ticks": "",
           "title": {
            "standoff": 15
           },
           "zerolinecolor": "white",
           "zerolinewidth": 2
          }
         }
        }
       }
      },
      "text/html": [
       "<div>\n",
       "        \n",
       "        \n",
       "            <div id=\"9e1b1fb7-f1bb-4c67-bac2-600b0272bf70\" class=\"plotly-graph-div\" style=\"height:525px; width:100%;\"></div>\n",
       "            <script type=\"text/javascript\">\n",
       "                require([\"plotly\"], function(Plotly) {\n",
       "                    window.PLOTLYENV=window.PLOTLYENV || {};\n",
       "                    \n",
       "                if (document.getElementById(\"9e1b1fb7-f1bb-4c67-bac2-600b0272bf70\")) {\n",
       "                    Plotly.newPlot(\n",
       "                        '9e1b1fb7-f1bb-4c67-bac2-600b0272bf70',\n",
       "                        [{\"marker\": {\"color\": \"red\", \"opacity\": 0.5}, \"mode\": \"markers\", \"name\": \"Classified as Malignant\", \"type\": \"scatter\", \"x\": [17.75, 20.58, 22.27, 19.4, 17.35, 16.11, 18.49, 15.46, 19.21, 18.81, 17.14, 19.07, 19.16, 19.8, 16.65, 16.13, 21.75, 27.22, 21.16, 20.16, 18.65, 15.61, 17.06, 16.84, 20.48, 17.47, 20.09, 17.95, 16.69, 16.35, 16.5, 17.3, 20.59, 16.27, 17.29, 18.03, 19.18, 25.73, 24.63, 17.46, 19.44, 20.47, 20.18, 24.25, 23.29, 20.34, 16.17, 20.44, 18.82, 21.71, 15.75, 18.22, 19.53, 19.79, 19.59, 20.64, 17.08, 20.51, 23.27, 18.22, 18.08, 15.66, 18.01, 19.0, 17.91, 15.71, 16.24, 18.46, 18.31, 19.17, 16.74, 20.26, 15.75, 16.25, 15.46, 15.49, 19.4, 19.45, 20.29, 19.55, 17.42, 16.14, 17.02, 15.5, 18.45, 18.61, 17.05, 20.31, 19.59, 18.31, 19.53, 17.68, 18.77, 23.21, 17.01, 28.11, 27.42, 16.6, 17.54, 19.19, 15.53, 19.55, 20.57, 16.13, 16.3, 20.2, 23.51, 15.85, 20.92, 15.73, 19.73, 17.85, 19.68, 21.37, 19.02, 16.03, 18.66], \"y\": [1.0094194667364984, 0.9901628986226871, 0.9641860915918707, 1.0345977623730036, 1.0149904624944002, 0.9647812263663453, 0.9568853794205072, 0.985479846321659, 1.0013948778065107, 0.9567758593978377, 0.9867832934261276, 1.0458898064469844, 0.9772848514055266, 1.0090863928126208, 0.9727942148333304, 0.9635979181115035, 0.9846603075487779, 0.9543429247369912, 1.0342785708455695, 1.0286251209552661, 1.0277781604372345, 0.9868598110267983, 0.9548818297420045, 0.040252570326578224, 1.0136903310326981, 1.039823245472742, 1.0124193512020425, 1.0223018251877054, 0.9976618494993439, 0.99537415845548, 0.04755171106812425, 0.9914412517984759, 1.0308639460064897, 1.0213399954317801, 0.9858238957277004, 1.041011564015852, 1.0055894240318948, 0.9771191235273176, 1.0388621733091832, 1.0028494325634043, 0.9866401773927382, 1.04547722476063, 1.0313005952121308, 0.9602171548143628, 1.035972193856135, 1.0159197688121666, -0.049411657288967195, 0.9632597705387389, 0.9801511973552168, 0.9891251886260826, 0.9874512874930694, 1.011901783356336, 1.0435100128329198, 0.9555388226595991, 1.0467239703893398, 1.0317118022766045, 1.002797181224056, 1.0101981278998422, 0.9616431754474726, 1.0183662453839963, 1.0468903318343832, 0.9976268894734364, 0.9801951580666397, 0.9962270454480635, 0.9681511070161823, -0.04938015268620919, 1.0035550970205829, 1.0422507001999484, 1.0398209745683797, 1.036858193011073, 0.9686068838686221, 0.9700513751570037, 1.031147871827471, 0.9951803367205685, 1.0467841723922866, 0.9964992416852052, 0.9866568114347218, 1.018367912543454, 0.97658184563323, 1.0495631869675488, 0.9825994033407419, -0.0428799778506154, 0.9764545626950569, 1.0158196928073264, 0.9540804898994468, 0.9526077703869522, 1.0340290490137596, 1.0229434301636582, 1.0096570638758622, 1.018795766318713, 1.0325931996525934, 1.042638246740882, 0.9559341012450404, 1.030253365829157, 1.0428191462566407, 1.034844170183188, 0.9606303291915872, 1.0110762271227232, 1.0469077151977106, 0.9927914976448633, 1.0087601593772892, 1.0177110973085617, 1.0241237826299932, 1.0396515956756762, 0.026418933019270535, 0.9806371461800523, 0.9683054514082445, 0.968772409561381, 1.048329404062847, 0.018512800996131104, 1.0494520602582218, -0.03864455327572056, 0.9947969320725849, 1.0485882936393756, 1.0488879601366297, 0.9965477559951632, 0.9949183070400736]}, {\"marker\": {\"color\": \"blue\", \"opacity\": 0.5}, \"mode\": \"markers\", \"name\": \"Classified as Benign\", \"type\": \"scatter\", \"x\": [12.89, 13.4, 12.96, 15.28, 13.78, 15.1, 12.34, 8.196, 13.45, 11.32, 7.76, 14.86, 11.13, 9.72, 9.606, 10.08, 12.56, 15.13, 10.48, 12.78, 14.74, 9.904, 13.82, 12.89, 13.74, 13.37, 14.69, 12.91, 13.62, 15.0, 11.8, 14.53, 13.71, 11.36, 8.726, 13.71, 14.47, 13.54, 12.85, 12.47, 12.46, 10.86, 11.37, 13.49, 9.567, 11.06, 14.61, 7.691, 13.69, 11.46, 12.06, 13.15, 13.61, 10.26, 9.333, 11.06, 10.66, 11.84, 10.51, 12.67, 11.08, 11.04, 12.43, 14.71, 14.87, 12.87, 9.465, 13.16, 10.91, 12.25, 12.75, 14.58, 12.27, 12.16, 14.27, 15.06, 12.99, 13.27, 13.87, 13.87, 13.59, 12.45, 8.95, 13.65, 11.47, 14.42, 14.68, 12.05, 9.683, 10.97, 11.42, 12.54, 14.34, 14.58, 11.76, 12.83, 13.03, 13.21, 8.671, 11.87, 12.76, 14.86, 12.65, 11.31, 11.94, 14.96, 11.6, 12.34, 9.731, 11.27, 14.02, 10.51, 9.876, 11.57, 12.31, 13.66, 10.32, 12.21, 12.21, 12.87, 12.18, 12.04, 10.05, 14.25, 11.28, 8.618, 12.63, 12.54, 11.76, 13.0, 10.6, 11.62, 14.99, 11.89, 9.0, 9.042, 11.8, 13.9, 14.95, 13.46, 14.5, 12.18, 12.9, 9.787, 12.2, 11.85, 11.41, 13.2, 12.45, 11.95, 13.85, 15.19, 11.06, 15.05, 11.14, 12.94, 13.24, 13.05, 13.85, 13.3, 12.72, 12.0, 14.26, 12.81, 9.405, 10.94, 8.597, 8.219, 10.57, 13.2, 12.39, 11.71, 14.04, 11.22, 11.93, 11.41, 12.72, 10.57, 13.27, 9.397, 14.76, 11.51, 12.58, 9.847, 9.676, 12.36, 11.63, 14.8, 13.17, 14.97, 14.78, 11.3, 14.92, 10.9, 15.3, 12.32, 11.43, 11.68, 11.16, 14.53, 13.56, 11.34, 13.64, 13.64, 14.59, 9.668, 13.01, 10.95, 8.571, 9.876, 8.878, 12.8, 12.22, 10.96, 14.9, 13.61, 10.44, 12.88, 9.436, 13.43, 11.6, 12.95, 13.86, 8.598, 13.17, 13.59, 12.03, 12.23, 11.49, 13.66, 11.26, 12.7, 8.734, 14.95, 14.25, 12.77, 15.1, 12.77, 13.0, 14.11, 11.71, 12.68, 13.73, 13.44, 11.08, 11.71, 12.46, 11.89, 12.27, 13.85, 11.94, 11.26, 13.77, 11.69, 11.5, 14.05, 13.38, 10.49, 11.66, 10.71, 13.7, 11.99, 13.28, 10.2, 11.93, 14.22, 14.2, 13.05, 13.11, 12.07, 11.45, 15.12, 10.8, 12.62, 15.37, 10.26, 12.42, 12.49, 13.88, 9.742, 10.8, 12.88, 9.268, 13.75, 12.3, 12.83, 11.74, 13.05, 10.88, 9.504, 11.54, 9.755, 11.75, 11.33, 12.77, 14.6, 14.99, 13.5, 12.19, 14.42, 13.0, 14.19, 13.14, 13.08, 8.888, 11.64, 14.29, 13.98, 12.18], \"y\": [-0.03871093547748187, 0.973031429228971, -0.00934966851589477, 1.0441608886489846, 0.021855440743051097, 1.0256835403510236, 0.04411841776214086, 0.018358162891157798, -0.035203055351680446, 0.003004227336489154, 0.0018930355840096613, 0.0007571147257982164, 0.02946811211117742, -0.016514323798400614, 0.03591590616334116, -0.003955947376397519, -0.00490857874956141, 0.9845795974631375, 0.03161473857812652, -0.010038857914597597, 0.043895820793316484, 0.04782015710149884, 0.9862016703635523, -0.0163202071477404, 0.03305638074075254, 0.028850645290513094, -0.004947059404943485, 0.0019138398355504904, 0.039657438224984326, -0.0022866587434267824, 0.0398544782333566, 0.018770302853799062, -0.0028732790822296184, -0.04512015115945958, -0.0001744664047537703, 1.0246418944426703, 0.03813113604723671, 0.003973083479412318, 0.032987057619913565, 0.043411493576620996, 0.017852457973771385, 0.04834658558212236, -0.038452337277676954, -0.02166213925599172, 0.014344781964159031, -0.03491908923301226, -0.0061577681113100385, -0.02239209199472543, 0.031045435404738628, 0.037236410961093785, -0.01991255828202715, -0.019363033660789664, 0.9989899681724259, 0.02617188240180232, -0.020725693013268178, -0.03711855942089653, 0.025848891247781336, 1.0434171795479632, 0.042387132228147634, -0.023219755273909584, -0.04366662722004227, 0.025296328287969364, -0.032835606795666744, 1.0323780919303303, 0.02454367782883521, 0.02231684821188966, -0.03650560317542925, -0.04744924910034143, 0.011381982291514547, 0.006775958803326487, 0.012022099664300775, 0.04457530658038593, -0.01217620033891241, 0.026388329294176574, 0.9572302027076605, 0.9751125768912969, -0.003823744998534287, -0.0459015133880792, 0.0015428782276932992, 0.03896944957467023, -0.04274704963016197, 0.9565617468637619, -0.01393730064095694, -0.02403701466457363, -0.01648328978275137, -0.024737976276531015, 1.0005605570078775, 0.030423775383865453, -0.009447363211218272, 0.022485580214995, 0.9638922654551665, -0.019641865261471127, -0.013231453319398026, 1.018455751262698, 0.014060041133791334, 1.018625278622436, 0.01063695741250796, -0.0328746389714903, -0.04316087103272834, 0.035281798751820956, -0.041754893676943974, 0.9502874501847034, -0.03581150194320404, 0.001828355809236834, 0.020972794061758074, 0.04452878585434425, -0.013344731046680568, 0.9831236097908449, -0.04079276299340898, -0.009371147779787224, -0.04002711705598741, 0.04048793707367039, -0.02246966610468104, -0.04330392384469931, 0.0117144224348021, -0.009084085195117518, -0.0005068192839755362, 0.0368783138172314, -0.014103773879070636, 0.0012551561384695625, 0.012159040510335464, -0.029391036565180363, 0.018293989692739224, 1.0414381059391788, -0.0014558792732840692, -0.02915908693153555, 0.048005807005620835, -0.02385336884854924, 0.9799013675746944, -0.03518137527740278, 0.03918265641403494, 0.022694889252465128, 0.9593984881730717, 0.049564183279137114, -0.033497312164887806, 0.030889153609816783, 0.9992121798374538, -0.03759719002426825, -0.0310119092206672, 0.008971595428562754, -0.009826460901817977, 0.011779711621280574, -0.025350029836085808, 0.005974468275795716, -0.010702457944718066, -0.03710052884944054, 0.040853238650529894, -0.04418085169188435, 0.031364386473498956, -0.02360696766076975, 0.040021947824546364, 0.012844326027343145, -0.0315226085549347, 1.0119051181450223, 0.04914916651938428, -0.04221696118239128, -0.006061154622520083, 0.030171761019026744, -0.02647506245311756, 0.03241890307033879, -0.011136589847934565, -0.03675546415733715, -0.003483506738546839, 0.012407501973565792, 0.013552841325877446, -0.0014722739548642533, -0.03636526758891409, -0.040337854732963266, -0.00683165764658137, -0.04052204880537818, -0.03445666373706863, -0.03550618021597921, -0.02973355755787942, -0.012348521328653196, 0.03545615642790405, -0.002409481558125516, -0.04978672384319534, -0.041298154866718555, -0.0067088393433722415, -0.011129634262976675, -0.0279310649850977, -0.03247130721997976, 0.011132885778986266, -0.006353416003641407, -0.01814625503340707, 0.031942638912264995, -0.02975166987181165, 0.036562360373661215, 1.045941655210299, -0.047621839165901486, 1.0192040455790916, -0.03275215983303077, 0.004056987264667744, -0.04912456199502111, 0.9575806137637812, 0.01232266984717445, -0.04296782705688937, -0.014899803253738651, -0.03734761991204547, 0.027564033840471472, 0.03462569211890086, -0.03869075600055255, 0.04684376396097055, -0.04005702793560665, 0.02348236725684373, 0.030053130958929086, 0.048168857463242606, 0.9870787502212472, -0.004684299615640174, 0.013970861182312971, 0.038636748295766604, -0.049217053911213685, 0.030795711535592504, 0.01711355960278041, 0.9714342598960399, 0.9684471350743986, 0.018625906456968627, 0.009540508321407126, 0.03745811247869392, 0.995700848011404, 0.024035055917471237, 0.04692438368729229, 1.0136174765738921, 0.04876559823737614, 1.0332231257773292, 0.036809185903994054, -0.016051162011777767, 0.005524969571305827, -0.0021156727230152925, -0.045615566319318214, -0.04315628628666231, 0.0009856004013992017, 0.008297731601376701, 1.048314161177343, 0.9911582383526831, 1.030886567248165, 0.025532296619881698, -0.018018131958510007, 0.9930740971748351, -0.0023470912820527934, -0.041061025444645606, 0.9646643363990608, 1.045749073357709, 1.0151282837268494, 0.9595633252828784, -0.004360703143357271, -0.009713921996992815, 0.009976838735439052, 0.021660493103344614, -0.029191890041058932, -0.011537605951996842, -0.0031827765541955558, 0.045491066219216475, 0.0035371901747344864, 0.0035012041243812284, -0.009448051537956234, -0.03938988489375114, 0.02625725396280705, -0.03040225848763153, 0.04958215355087078, -0.04217440541074396, -0.0076064341374179265, 1.0209089948990635, -0.04014204235969187, -0.029132907419734313, 1.0246169444318465, -0.02250886206816004, -0.022777379062545, 1.0321852534464766, -0.00877396547712802, 0.018044691580561628, 0.9736196888949125, -0.043228101960445256, 0.007116476838568621, 0.971250642902612, -0.04792621264753031, -0.00014995698997468526, 0.008725179855181432, -0.006076760445276622, 0.02084136573065061, -0.024953968003849514, 0.03705234944455228, -0.0038087754473107097, 0.046132897584035285, 0.03589103407703881, 0.04728440618260378, -0.0005564637810501205, -0.01865812552752149, 0.026645429835105067, -0.03508655961006825, -0.007445295327378934, -0.03269515911503737, 0.03545773960904387, 0.01272210435518914, -0.006827217303338462, 0.9762416597848886, -0.02832173672865397, -0.04083208903125188, -0.005360986278259414, 1.0439183659046907, 0.017620236159464175, 1.0312054728722237, 0.049013521294840864, 0.03984862530957495, 0.025456282571598876, -0.02681268806722653, -0.03069418115450391, 1.0417543241556724, 0.03398181642802821]}, {\"line\": {\"color\": \"orange\"}, \"mode\": \"lines\", \"name\": \"Least Squares\", \"type\": \"scatter\", \"x\": [7.691, 9.959777777777777, 12.228555555555555, 14.497333333333334, 16.766111111111112, 19.03488888888889, 21.303666666666665, 23.572444444444443, 25.84122222222222, 28.11], \"y\": [-0.25713148661059004, -0.035595395448855816, 0.1859406957128784, 0.40747678687461275, 0.6290128780363471, 0.8505489691980814, 1.0720850603598153, 1.2936211515215499, 1.515157242683284, 1.7366933338450186]}, {\"line\": {\"color\": \"black\", \"dash\": \"dot\"}, \"mode\": \"lines\", \"name\": \"Least Squares Decision Boundary\", \"type\": \"scatter\", \"x\": [15.44487469675942, 15.44487469675942], \"y\": [-0.5, 1.5]}],\n",
       "                        {\"template\": {\"data\": {\"bar\": [{\"error_x\": {\"color\": \"#2a3f5f\"}, \"error_y\": {\"color\": \"#2a3f5f\"}, \"marker\": {\"line\": {\"color\": \"#E5ECF6\", \"width\": 0.5}}, \"type\": \"bar\"}], \"barpolar\": [{\"marker\": {\"line\": {\"color\": \"#E5ECF6\", \"width\": 0.5}}, \"type\": \"barpolar\"}], \"carpet\": [{\"aaxis\": {\"endlinecolor\": \"#2a3f5f\", \"gridcolor\": \"white\", \"linecolor\": \"white\", \"minorgridcolor\": \"white\", \"startlinecolor\": \"#2a3f5f\"}, \"baxis\": {\"endlinecolor\": \"#2a3f5f\", \"gridcolor\": \"white\", \"linecolor\": \"white\", \"minorgridcolor\": \"white\", \"startlinecolor\": \"#2a3f5f\"}, \"type\": \"carpet\"}], \"choropleth\": [{\"colorbar\": {\"outlinewidth\": 0, \"ticks\": \"\"}, \"type\": \"choropleth\"}], \"contour\": [{\"colorbar\": {\"outlinewidth\": 0, \"ticks\": \"\"}, \"colorscale\": [[0.0, \"#0d0887\"], [0.1111111111111111, \"#46039f\"], [0.2222222222222222, \"#7201a8\"], [0.3333333333333333, \"#9c179e\"], [0.4444444444444444, \"#bd3786\"], [0.5555555555555556, \"#d8576b\"], [0.6666666666666666, \"#ed7953\"], [0.7777777777777778, \"#fb9f3a\"], [0.8888888888888888, \"#fdca26\"], [1.0, \"#f0f921\"]], \"type\": \"contour\"}], \"contourcarpet\": [{\"colorbar\": {\"outlinewidth\": 0, \"ticks\": \"\"}, \"type\": \"contourcarpet\"}], \"heatmap\": [{\"colorbar\": {\"outlinewidth\": 0, \"ticks\": \"\"}, \"colorscale\": [[0.0, \"#0d0887\"], [0.1111111111111111, \"#46039f\"], [0.2222222222222222, \"#7201a8\"], [0.3333333333333333, \"#9c179e\"], [0.4444444444444444, \"#bd3786\"], [0.5555555555555556, \"#d8576b\"], [0.6666666666666666, \"#ed7953\"], [0.7777777777777778, \"#fb9f3a\"], [0.8888888888888888, \"#fdca26\"], [1.0, \"#f0f921\"]], \"type\": \"heatmap\"}], \"heatmapgl\": [{\"colorbar\": {\"outlinewidth\": 0, \"ticks\": \"\"}, \"colorscale\": [[0.0, \"#0d0887\"], [0.1111111111111111, \"#46039f\"], [0.2222222222222222, \"#7201a8\"], [0.3333333333333333, \"#9c179e\"], [0.4444444444444444, \"#bd3786\"], [0.5555555555555556, \"#d8576b\"], [0.6666666666666666, \"#ed7953\"], [0.7777777777777778, \"#fb9f3a\"], [0.8888888888888888, \"#fdca26\"], [1.0, \"#f0f921\"]], \"type\": \"heatmapgl\"}], \"histogram\": [{\"marker\": {\"colorbar\": {\"outlinewidth\": 0, \"ticks\": \"\"}}, \"type\": \"histogram\"}], \"histogram2d\": [{\"colorbar\": {\"outlinewidth\": 0, \"ticks\": \"\"}, \"colorscale\": [[0.0, \"#0d0887\"], [0.1111111111111111, \"#46039f\"], [0.2222222222222222, \"#7201a8\"], [0.3333333333333333, \"#9c179e\"], [0.4444444444444444, \"#bd3786\"], [0.5555555555555556, \"#d8576b\"], [0.6666666666666666, \"#ed7953\"], [0.7777777777777778, \"#fb9f3a\"], [0.8888888888888888, \"#fdca26\"], [1.0, \"#f0f921\"]], \"type\": \"histogram2d\"}], \"histogram2dcontour\": [{\"colorbar\": {\"outlinewidth\": 0, \"ticks\": \"\"}, \"colorscale\": [[0.0, \"#0d0887\"], [0.1111111111111111, \"#46039f\"], [0.2222222222222222, \"#7201a8\"], [0.3333333333333333, \"#9c179e\"], [0.4444444444444444, \"#bd3786\"], [0.5555555555555556, \"#d8576b\"], [0.6666666666666666, \"#ed7953\"], [0.7777777777777778, \"#fb9f3a\"], [0.8888888888888888, \"#fdca26\"], [1.0, \"#f0f921\"]], \"type\": \"histogram2dcontour\"}], \"mesh3d\": [{\"colorbar\": {\"outlinewidth\": 0, \"ticks\": \"\"}, \"type\": \"mesh3d\"}], \"parcoords\": [{\"line\": {\"colorbar\": {\"outlinewidth\": 0, \"ticks\": \"\"}}, \"type\": \"parcoords\"}], \"pie\": [{\"automargin\": true, \"type\": \"pie\"}], \"scatter\": [{\"marker\": {\"colorbar\": {\"outlinewidth\": 0, \"ticks\": \"\"}}, \"type\": \"scatter\"}], \"scatter3d\": [{\"line\": {\"colorbar\": {\"outlinewidth\": 0, \"ticks\": \"\"}}, \"marker\": {\"colorbar\": {\"outlinewidth\": 0, \"ticks\": \"\"}}, \"type\": \"scatter3d\"}], \"scattercarpet\": [{\"marker\": {\"colorbar\": {\"outlinewidth\": 0, \"ticks\": \"\"}}, \"type\": \"scattercarpet\"}], \"scattergeo\": [{\"marker\": {\"colorbar\": {\"outlinewidth\": 0, \"ticks\": \"\"}}, \"type\": \"scattergeo\"}], \"scattergl\": [{\"marker\": {\"colorbar\": {\"outlinewidth\": 0, \"ticks\": \"\"}}, \"type\": \"scattergl\"}], \"scattermapbox\": [{\"marker\": {\"colorbar\": {\"outlinewidth\": 0, \"ticks\": \"\"}}, \"type\": \"scattermapbox\"}], \"scatterpolar\": [{\"marker\": {\"colorbar\": {\"outlinewidth\": 0, \"ticks\": \"\"}}, \"type\": \"scatterpolar\"}], \"scatterpolargl\": [{\"marker\": {\"colorbar\": {\"outlinewidth\": 0, \"ticks\": \"\"}}, \"type\": \"scatterpolargl\"}], \"scatterternary\": [{\"marker\": {\"colorbar\": {\"outlinewidth\": 0, \"ticks\": \"\"}}, \"type\": \"scatterternary\"}], \"surface\": [{\"colorbar\": {\"outlinewidth\": 0, \"ticks\": \"\"}, \"colorscale\": [[0.0, \"#0d0887\"], [0.1111111111111111, \"#46039f\"], [0.2222222222222222, \"#7201a8\"], [0.3333333333333333, \"#9c179e\"], [0.4444444444444444, \"#bd3786\"], [0.5555555555555556, \"#d8576b\"], [0.6666666666666666, \"#ed7953\"], [0.7777777777777778, \"#fb9f3a\"], [0.8888888888888888, \"#fdca26\"], [1.0, \"#f0f921\"]], \"type\": \"surface\"}], \"table\": [{\"cells\": {\"fill\": {\"color\": \"#EBF0F8\"}, \"line\": {\"color\": \"white\"}}, \"header\": {\"fill\": {\"color\": \"#C8D4E3\"}, \"line\": {\"color\": \"white\"}}, \"type\": \"table\"}]}, \"layout\": {\"annotationdefaults\": {\"arrowcolor\": \"#2a3f5f\", \"arrowhead\": 0, \"arrowwidth\": 1}, \"coloraxis\": {\"colorbar\": {\"outlinewidth\": 0, \"ticks\": \"\"}}, \"colorscale\": {\"diverging\": [[0, \"#8e0152\"], [0.1, \"#c51b7d\"], [0.2, \"#de77ae\"], [0.3, \"#f1b6da\"], [0.4, \"#fde0ef\"], [0.5, \"#f7f7f7\"], [0.6, \"#e6f5d0\"], [0.7, \"#b8e186\"], [0.8, \"#7fbc41\"], [0.9, \"#4d9221\"], [1, \"#276419\"]], \"sequential\": [[0.0, \"#0d0887\"], [0.1111111111111111, \"#46039f\"], [0.2222222222222222, \"#7201a8\"], [0.3333333333333333, \"#9c179e\"], [0.4444444444444444, \"#bd3786\"], [0.5555555555555556, \"#d8576b\"], [0.6666666666666666, \"#ed7953\"], [0.7777777777777778, \"#fb9f3a\"], [0.8888888888888888, \"#fdca26\"], [1.0, \"#f0f921\"]], \"sequentialminus\": [[0.0, \"#0d0887\"], [0.1111111111111111, \"#46039f\"], [0.2222222222222222, \"#7201a8\"], [0.3333333333333333, \"#9c179e\"], [0.4444444444444444, \"#bd3786\"], [0.5555555555555556, \"#d8576b\"], [0.6666666666666666, \"#ed7953\"], [0.7777777777777778, \"#fb9f3a\"], [0.8888888888888888, \"#fdca26\"], [1.0, \"#f0f921\"]]}, \"colorway\": [\"#636efa\", \"#EF553B\", \"#00cc96\", \"#ab63fa\", \"#FFA15A\", \"#19d3f3\", \"#FF6692\", \"#B6E880\", \"#FF97FF\", \"#FECB52\"], \"font\": {\"color\": \"#2a3f5f\"}, \"geo\": {\"bgcolor\": \"white\", \"lakecolor\": \"white\", \"landcolor\": \"#E5ECF6\", \"showlakes\": true, \"showland\": true, \"subunitcolor\": \"white\"}, \"hoverlabel\": {\"align\": \"left\"}, \"hovermode\": \"closest\", \"mapbox\": {\"style\": \"light\"}, \"paper_bgcolor\": \"white\", \"plot_bgcolor\": \"#E5ECF6\", \"polar\": {\"angularaxis\": {\"gridcolor\": \"white\", \"linecolor\": \"white\", \"ticks\": \"\"}, \"bgcolor\": \"#E5ECF6\", \"radialaxis\": {\"gridcolor\": \"white\", \"linecolor\": \"white\", \"ticks\": \"\"}}, \"scene\": {\"xaxis\": {\"backgroundcolor\": \"#E5ECF6\", \"gridcolor\": \"white\", \"gridwidth\": 2, \"linecolor\": \"white\", \"showbackground\": true, \"ticks\": \"\", \"zerolinecolor\": \"white\"}, \"yaxis\": {\"backgroundcolor\": \"#E5ECF6\", \"gridcolor\": \"white\", \"gridwidth\": 2, \"linecolor\": \"white\", \"showbackground\": true, \"ticks\": \"\", \"zerolinecolor\": \"white\"}, \"zaxis\": {\"backgroundcolor\": \"#E5ECF6\", \"gridcolor\": \"white\", \"gridwidth\": 2, \"linecolor\": \"white\", \"showbackground\": true, \"ticks\": \"\", \"zerolinecolor\": \"white\"}}, \"shapedefaults\": {\"line\": {\"color\": \"#2a3f5f\"}}, \"ternary\": {\"aaxis\": {\"gridcolor\": \"white\", \"linecolor\": \"white\", \"ticks\": \"\"}, \"baxis\": {\"gridcolor\": \"white\", \"linecolor\": \"white\", \"ticks\": \"\"}, \"bgcolor\": \"#E5ECF6\", \"caxis\": {\"gridcolor\": \"white\", \"linecolor\": \"white\", \"ticks\": \"\"}}, \"title\": {\"x\": 0.05}, \"xaxis\": {\"automargin\": true, \"gridcolor\": \"white\", \"linecolor\": \"white\", \"ticks\": \"\", \"title\": {\"standoff\": 15}, \"zerolinecolor\": \"white\", \"zerolinewidth\": 2}, \"yaxis\": {\"automargin\": true, \"gridcolor\": \"white\", \"linecolor\": \"white\", \"ticks\": \"\", \"title\": {\"standoff\": 15}, \"zerolinecolor\": \"white\", \"zerolinewidth\": 2}}}},\n",
       "                        {\"responsive\": true}\n",
       "                    ).then(function(){\n",
       "                            \n",
       "var gd = document.getElementById('9e1b1fb7-f1bb-4c67-bac2-600b0272bf70');\n",
       "var x = new MutationObserver(function (mutations, observer) {{\n",
       "        var display = window.getComputedStyle(gd).display;\n",
       "        if (!display || display === 'none') {{\n",
       "            console.log([gd, 'removed!']);\n",
       "            Plotly.purge(gd);\n",
       "            observer.disconnect();\n",
       "        }}\n",
       "}});\n",
       "\n",
       "// Listen for the removal of the full notebook cells\n",
       "var notebookContainer = gd.closest('#notebook-container');\n",
       "if (notebookContainer) {{\n",
       "    x.observe(notebookContainer, {childList: true});\n",
       "}}\n",
       "\n",
       "// Listen for the clearing of the current output cell\n",
       "var outputEl = gd.closest('.output');\n",
       "if (outputEl) {{\n",
       "    x.observe(outputEl, {childList: true});\n",
       "}}\n",
       "\n",
       "                        })\n",
       "                };\n",
       "                });\n",
       "            </script>\n",
       "        </div>"
      ]
     },
     "metadata": {},
     "output_type": "display_data"
    }
   ],
   "source": [
    "jitter_y = Y + 0.1*np.random.rand(len(Y)) - 0.05\n",
    "ind_mal = least_squares_model.predict(X) > 0.5\n",
    "\n",
    "mal_points = go.Scatter(name=\"Classified as Malignant\", \n",
    "                    x=np.squeeze(X[ind_mal]), y = jitter_y[ind_mal], \n",
    "                    mode=\"markers\", marker=dict(opacity=0.5, color=\"red\"))\n",
    "ben_points = go.Scatter(name=\"Classified as Benign\", \n",
    "                    x=np.squeeze(X[~ind_mal]), y = jitter_y[~ind_mal], \n",
    "                    mode=\"markers\", marker=dict(opacity=0.5, color=\"blue\"))\n",
    "dec_boundary = (0.5 - least_squares_model.intercept_)/least_squares_model.coef_[0]\n",
    "dec_line = go.Scatter(name=\"Least Squares Decision Boundary\", \n",
    "                      x = [dec_boundary,dec_boundary], y=[-0.5,1.5], mode=\"lines\",\n",
    "                     line=dict(color=\"black\", dash=\"dot\"))\n",
    "py.iplot([mal_points, ben_points, model_line,dec_line])"
   ]
  },
  {
   "cell_type": "markdown",
   "metadata": {},
   "source": [
    "# Compute `ZeroOneLoss`"
   ]
  },
  {
   "cell_type": "code",
   "execution_count": 13,
   "metadata": {
    "ExecuteTime": {
     "end_time": "2018-04-02T16:07:18.067202Z",
     "start_time": "2018-04-02T16:07:18.061723Z"
    }
   },
   "outputs": [
    {
     "name": "stdout",
     "output_type": "stream",
     "text": [
      "Training Fraction incorrect: 0.1338028169014085\n"
     ]
    }
   ],
   "source": [
    "from sklearn.metrics import zero_one_loss\n",
    "print(\"Training Fraction incorrect:\", \n",
    "      zero_one_loss(Y, least_squares_model.predict(X) > 0.5))"
   ]
  },
  {
   "cell_type": "markdown",
   "metadata": {},
   "source": [
    "**Questions** \n",
    "\n",
    "1. Are we happy with this error level?\n",
    "1. What error would we get if we just guessed the label?\n",
    "\n",
    "---\n",
    "<br/><br/><br/><br/><br/><br/>\n"
   ]
  },
  {
   "cell_type": "markdown",
   "metadata": {},
   "source": [
    "# Guessing the Majority Class\n",
    "\n",
    "This is the simplest baseline we could imagine and one you should always compare against.  Let's start by asking what is the majority class"
   ]
  },
  {
   "cell_type": "code",
   "execution_count": 14,
   "metadata": {
    "ExecuteTime": {
     "end_time": "2018-04-02T16:07:18.072065Z",
     "start_time": "2018-04-02T16:07:18.069177Z"
    }
   },
   "outputs": [
    {
     "name": "stdout",
     "output_type": "stream",
     "text": [
      "Fraction of Malignant Samples: 0.37089201877934275\n"
     ]
    }
   ],
   "source": [
    "print(\"Fraction of Malignant Samples:\", np.mean(Y))"
   ]
  },
  {
   "cell_type": "markdown",
   "metadata": {},
   "source": [
    "Therefore if we guess the majority class **benign** we would get what accuracy?"
   ]
  },
  {
   "cell_type": "code",
   "execution_count": 15,
   "metadata": {
    "ExecuteTime": {
     "end_time": "2018-04-02T16:07:18.078040Z",
     "start_time": "2018-04-02T16:07:18.074158Z"
    }
   },
   "outputs": [
    {
     "name": "stdout",
     "output_type": "stream",
     "text": [
      "Guess Majority: 0.37089201877934275\n"
     ]
    }
   ],
   "source": [
    "# You can figure this out from the above number\n",
    "print(\"Guess Majority:\",  zero_one_loss(Y, np.zeros(len(Y))))"
   ]
  },
  {
   "cell_type": "markdown",
   "metadata": {},
   "source": [
    "This is standard example of a common problem in classification (and perhaps modern society): **class imbalance**."
   ]
  },
  {
   "cell_type": "markdown",
   "metadata": {},
   "source": [
    "# Class Imbalance\n",
    "\n",
    "\n",
    "Class imbalance is when a disproportionate fraction of the samples are in one class (in this case benign).  In extreme cases (e.g., fraud detection) only tiny fraction of the training data may contain examples in particular class.  In these settings we can achieve very high-accuracies by always predicting the frequent class without learning a good classifier for the rare classes. \n"
   ]
  },
  {
   "cell_type": "markdown",
   "metadata": {},
   "source": [
    "\n",
    "\n",
    "## Addressing Class Imbalance\n",
    "\n",
    "There are many techniques for managing class imbalance here are a few:\n",
    "\n",
    "1. Re-sample data to reduce or eliminate the class imbalance.\n",
    "2. Try learning algorithm that are a little more robust to class imbalance (e.g., decisions trees).\n",
    "3. Adjust the loss function to put a larger penalty on the smaller class.\n",
    "\n",
    "In this example the class imbalance is not that extreme so we will continue without re-sampling.\n",
    "\n"
   ]
  },
  {
   "cell_type": "markdown",
   "metadata": {},
   "source": [
    "<br/><br/><br/>\n",
    "\n",
    "# Cross Validation of Zero-One Error\n",
    "\n",
    "In the following we compute the cross validation error."
   ]
  },
  {
   "cell_type": "code",
   "execution_count": 16,
   "metadata": {
    "ExecuteTime": {
     "end_time": "2018-04-02T16:07:18.096792Z",
     "start_time": "2018-04-02T16:07:18.080117Z"
    }
   },
   "outputs": [
    {
     "name": "stdout",
     "output_type": "stream",
     "text": [
      "Min Validation Error:    0.08450704225352113\n",
      "Median Validation Error: 0.1619718309859155\n",
      "Max Validation Error:    0.176056338028169\n"
     ]
    }
   ],
   "source": [
    "from sklearn.model_selection import KFold\n",
    "kfold = KFold(3,shuffle=True, random_state=42)\n",
    "linreg_errors = []\n",
    "models = []\n",
    "\n",
    "for tr_ind, te_ind in kfold.split(X):\n",
    "    model = linear_model.LinearRegression()\n",
    "    model.fit(X[tr_ind,], Y[tr_ind])\n",
    "    models.append(model)\n",
    "    linreg_errors.append(zero_one_loss(Y[te_ind], model.predict(X[te_ind,]) > 0.5))\n",
    "    \n",
    "print(\"Min Validation Error:   \", np.min(linreg_errors))\n",
    "print(\"Median Validation Error:\", np.median(linreg_errors))\n",
    "print(\"Max Validation Error:   \", np.max(linreg_errors))"
   ]
  },
  {
   "cell_type": "markdown",
   "metadata": {},
   "source": [
    "We can visualize all the models and their decisions"
   ]
  },
  {
   "cell_type": "code",
   "execution_count": 17,
   "metadata": {
    "ExecuteTime": {
     "end_time": "2018-04-02T16:07:18.126257Z",
     "start_time": "2018-04-02T16:07:18.099160Z"
    }
   },
   "outputs": [
    {
     "data": {
      "application/vnd.plotly.v1+json": {
       "config": {
        "linkText": "Export to plot.ly",
        "plotlyServerURL": "https://plot.ly",
        "showLink": false
       },
       "data": [
        {
         "marker": {
          "opacity": 0.5
         },
         "mode": "markers",
         "name": "Jittered Data",
         "type": "scatter",
         "x": [
          12.89,
          13.4,
          12.96,
          17.75,
          20.58,
          15.28,
          13.78,
          15.1,
          12.34,
          8.196,
          13.45,
          11.32,
          22.27,
          19.4,
          7.76,
          14.86,
          11.13,
          9.72,
          9.606,
          10.08,
          12.56,
          15.13,
          10.48,
          12.78,
          14.74,
          9.904,
          13.82,
          12.89,
          13.74,
          13.37,
          14.69,
          12.91,
          13.62,
          17.35,
          15,
          11.8,
          14.53,
          13.71,
          11.36,
          8.726,
          16.11,
          18.49,
          13.71,
          14.47,
          13.54,
          15.46,
          12.85,
          19.21,
          12.47,
          12.46,
          10.86,
          11.37,
          18.81,
          13.49,
          9.567,
          17.14,
          11.06,
          14.61,
          7.691,
          19.07,
          13.69,
          19.16,
          19.8,
          11.46,
          12.06,
          13.15,
          13.61,
          10.26,
          9.333,
          11.06,
          10.66,
          11.84,
          10.51,
          12.67,
          11.08,
          11.04,
          12.43,
          14.71,
          14.87,
          16.65,
          16.13,
          12.87,
          9.465,
          21.75,
          13.16,
          10.91,
          12.25,
          12.75,
          14.58,
          12.27,
          12.16,
          14.27,
          15.06,
          27.22,
          12.99,
          13.27,
          21.16,
          13.87,
          13.87,
          20.16,
          13.59,
          12.45,
          8.95,
          18.65,
          13.65,
          15.61,
          11.47,
          14.42,
          14.68,
          12.05,
          9.683,
          10.97,
          11.42,
          12.54,
          17.06,
          14.34,
          14.58,
          11.76,
          12.83,
          13.03,
          16.84,
          20.48,
          13.21,
          8.671,
          11.87,
          12.76,
          14.86,
          12.65,
          11.31,
          11.94,
          17.47,
          14.96,
          11.6,
          12.34,
          9.731,
          11.27,
          20.09,
          14.02,
          10.51,
          9.876,
          11.57,
          12.31,
          13.66,
          10.32,
          17.95,
          12.21,
          12.21,
          12.87,
          16.69,
          12.18,
          16.35,
          16.5,
          12.04,
          10.05,
          14.25,
          11.28,
          17.3,
          20.59,
          8.618,
          12.63,
          16.27,
          12.54,
          17.29,
          18.03,
          11.76,
          13,
          10.6,
          11.62,
          14.99,
          11.89,
          9,
          19.18,
          9.042,
          11.8,
          13.9,
          14.95,
          13.46,
          25.73,
          14.5,
          24.63,
          12.18,
          12.9,
          17.46,
          19.44,
          9.787,
          12.2,
          20.47,
          11.85,
          20.18,
          24.25,
          11.41,
          23.29,
          20.34,
          13.2,
          16.17,
          20.44,
          18.82,
          21.71,
          12.45,
          11.95,
          13.85,
          15.19,
          15.75,
          11.06,
          18.22,
          19.53,
          19.79,
          15.05,
          11.14,
          12.94,
          13.24,
          13.05,
          13.85,
          13.3,
          12.72,
          12,
          19.59,
          20.64,
          14.26,
          12.81,
          17.08,
          9.405,
          10.94,
          8.597,
          8.219,
          10.57,
          20.51,
          13.2,
          12.39,
          23.27,
          18.22,
          11.71,
          18.08,
          14.04,
          15.66,
          11.22,
          11.93,
          11.41,
          12.72,
          10.57,
          13.27,
          18.01,
          9.397,
          14.76,
          19,
          11.51,
          12.58,
          9.847,
          9.676,
          12.36,
          11.63,
          17.91,
          15.71,
          14.8,
          13.17,
          14.97,
          14.78,
          16.24,
          18.46,
          11.3,
          18.31,
          14.92,
          10.9,
          19.17,
          16.74,
          15.3,
          12.32,
          11.43,
          11.68,
          11.16,
          14.53,
          13.56,
          11.34,
          20.26,
          13.64,
          13.64,
          14.59,
          15.75,
          9.668,
          13.01,
          16.25,
          10.95,
          8.571,
          15.46,
          9.876,
          15.49,
          19.4,
          8.878,
          12.8,
          19.45,
          12.22,
          20.29,
          19.55,
          10.96,
          14.9,
          13.61,
          10.44,
          12.88,
          17.42,
          9.436,
          13.43,
          11.6,
          12.95,
          13.86,
          8.598,
          16.14,
          13.17,
          17.02,
          15.5,
          13.59,
          12.03,
          12.23,
          18.45,
          18.61,
          11.49,
          17.05,
          20.31,
          13.66,
          11.26,
          12.7,
          19.59,
          8.734,
          18.31,
          14.95,
          14.25,
          12.77,
          15.1,
          12.77,
          13,
          14.11,
          11.71,
          12.68,
          19.53,
          13.73,
          17.68,
          13.44,
          11.08,
          11.71,
          12.46,
          11.89,
          12.27,
          13.85,
          11.94,
          11.26,
          18.77,
          23.21,
          17.01,
          28.11,
          13.77,
          11.69,
          11.5,
          14.05,
          27.42,
          13.38,
          16.6,
          10.49,
          11.66,
          10.71,
          13.7,
          11.99,
          17.54,
          19.19,
          13.28,
          10.2,
          11.93,
          14.22,
          14.2,
          13.05,
          15.53,
          13.11,
          19.55,
          20.57,
          12.07,
          11.45,
          15.12,
          16.13,
          16.3,
          10.8,
          12.62,
          20.2,
          15.37,
          23.51,
          10.26,
          12.42,
          15.85,
          12.49,
          13.88,
          9.742,
          10.8,
          20.92,
          15.73,
          12.88,
          9.268,
          13.75,
          12.3,
          12.83,
          11.74,
          13.05,
          10.88,
          19.73,
          9.504,
          11.54,
          9.755,
          11.75,
          11.33,
          12.77,
          14.6,
          14.99,
          17.85,
          19.68,
          13.5,
          12.19,
          14.42,
          21.37,
          19.02,
          13,
          16.03,
          14.19,
          13.14,
          18.66,
          13.08,
          8.888,
          11.64,
          14.29,
          13.98,
          12.18
         ],
         "y": [
          -0.0217929503237698,
          1.0269778107849383,
          -0.0496416432902342,
          0.9945390434768533,
          0.9819057253778123,
          0.9986011887054025,
          -0.007425375494596188,
          1.009165587612994,
          0.0428632013883998,
          -0.03566185285149273,
          -0.021625510236081724,
          0.011914904413884285,
          0.95358675237928,
          0.9610106020472278,
          0.008370629542627225,
          0.026424697317725815,
          -0.009922782378195175,
          -0.02866509116654281,
          -0.047373592307256844,
          0.023757665307515247,
          -0.03983757824828241,
          0.9795400767419373,
          -0.0017287938310470014,
          -0.04265781053759385,
          0.011031173085356595,
          -0.042873088513054075,
          1.027778233247854,
          0.032582272427382805,
          0.03041372003174611,
          -0.04729909163849785,
          -0.022036265384316092,
          -0.0410884607394147,
          0.02066611281261188,
          0.9969139338804014,
          -0.01751097193169108,
          0.048948949969279024,
          -0.00029383841450338066,
          -0.023524287250114507,
          -0.012069098151747892,
          0.01843686721126961,
          0.9530360030428613,
          1.0449929689584179,
          1.0391077194983351,
          0.03618518189091188,
          -0.01572839798649922,
          1.0227341754010688,
          0.00892670804916644,
          0.961121816518083,
          0.03184044231726685,
          -0.04072109104283794,
          0.009104370362466377,
          0.02295916050214411,
          1.031184032133343,
          0.03812143980765613,
          0.020136905495211965,
          1.0254219985540012,
          0.043312683544197386,
          0.029438856500499072,
          0.025927013185141942,
          1.009430029645298,
          -0.0001922314844187839,
          1.0160530633528122,
          0.964223395132008,
          -0.0005179501887136104,
          -0.013665255157283972,
          -0.034777406508596856,
          1.0356010930713717,
          0.036261542897384355,
          -0.04342908804032165,
          -0.04689885410822027,
          0.01980289514260994,
          0.9781259478963966,
          -0.04345894015365324,
          0.001564590731232364,
          0.03407759486062149,
          -0.04481218589508236,
          -0.014715344480234094,
          1.0184142041059185,
          0.023530006943285137,
          0.9775734800882947,
          1.0231322538207686,
          -0.013994712225214645,
          -0.015768589576397984,
          0.9633476452034215,
          0.007009871020479765,
          -0.012037355630361714,
          -0.0001531652164674449,
          -0.001569239932807387,
          0.03573900135257599,
          0.04263663005621625,
          0.031250237623026395,
          1.0145796201079862,
          1.0483643381206664,
          1.0269959134976985,
          -0.03525277596242792,
          -0.040912190867387704,
          1.0116347478268977,
          0.047191160622421346,
          -0.01397432476553332,
          1.0342206974329418,
          -0.027391267689878974,
          1.0274908517645733,
          0.0008824048732255854,
          1.0226621964053175,
          0.025215224069188955,
          1.0465085082997123,
          -0.028395794970389132,
          0.003031140905352704,
          1.0150558455192158,
          -0.023388031850958238,
          -0.029058733767238856,
          0.04722627894056129,
          0.9538485050812615,
          -0.020863223366937522,
          1.0440537722504089,
          0.03958780204436918,
          1.0473513440926934,
          0.04006197130507615,
          0.9510719208936322,
          -0.0049518391588924265,
          0.0333131438289684,
          1.0287468011498222,
          0.025624622414007037,
          0.026025606342857846,
          -0.019594481776669337,
          0.016230589553291458,
          0.9979761923442418,
          -0.03475556773359555,
          0.004347263982153994,
          0.02713935339849996,
          0.9608304924866045,
          -0.012159599203227192,
          -0.02284340240120998,
          1.0194335700931534,
          -0.03461944641740197,
          0.04995473979963387,
          0.9896264845723184,
          -0.03727737828524955,
          0.02491299993243125,
          -0.032551048145054884,
          -0.01544687499711117,
          0.036625606191748136,
          0.006891978144583047,
          -0.02692558489133644,
          0.9869264703895395,
          -0.02134020167443239,
          0.015029721935207546,
          -0.009245509115467586,
          1.040126403471407,
          -0.04587277105964557,
          1.0279726995493117,
          -0.0017437135827464978,
          0.013075983781685258,
          0.0308544277512192,
          1.0423256214526908,
          -0.028529697590418603,
          1.0348133040634138,
          1.043806470841743,
          -0.0067606536512652485,
          -0.035558818843358986,
          0.980500421232126,
          0.04857692840520518,
          1.0385247573293026,
          0.9770899574982452,
          0.9790774657853338,
          -0.009586903411540039,
          -0.0029702823226995106,
          0.04526006452590059,
          0.9662526388489983,
          -0.030229956419767546,
          0.021005591405703447,
          0.9841824744072958,
          -0.016942059683319736,
          1.0329575636505712,
          -0.02887767809463179,
          -0.019705998574827122,
          -0.007340504177719941,
          0.9992162656748027,
          -0.026291985153520627,
          1.0468729791196465,
          0.048447740089311464,
          0.04557950490120813,
          0.9633211850573535,
          0.9575688222810781,
          -0.038433974055922526,
          -0.026580547074623997,
          1.005323986421401,
          0.019574896421768337,
          0.9867131735054082,
          1.0112129461793398,
          -0.035447883775044965,
          0.9919113608362213,
          0.9554141567262897,
          0.02459917668678427,
          -0.03421212159210045,
          0.9984077859629021,
          0.995523580834772,
          1.0419587993465924,
          0.006029121788087441,
          -0.003306215244824072,
          -0.03732082866798278,
          0.03186213264886467,
          1.0298781077215986,
          0.010803818882142914,
          0.9900588670572303,
          0.9783063131664,
          1.0328679607794264,
          0.9938871365445965,
          0.03274130402096097,
          0.0484557297009687,
          -0.02017640769698408,
          0.000183054863841417,
          0.029481757694405072,
          0.03441224177982374,
          -0.003525545187789046,
          -0.03394183688703382,
          0.9993986552959064,
          0.9670260944447915,
          -0.01819799535678012,
          -0.007672694292006996,
          0.9648453387499005,
          -0.014949539731505361,
          0.027046196674620812,
          0.044732091491666334,
          -0.024442263050835425,
          -0.02555275371722915,
          0.9949687030454004,
          -0.012441220396981631,
          -0.006848607760602719,
          1.005744642576252,
          0.9786523018973214,
          0.03383990033774602,
          0.9604009196070582,
          -0.0430390743047892,
          1.0470283616770868,
          -0.033694653017415845,
          -0.009420204631510012,
          0.02894123998396618,
          -0.049745343735100526,
          0.04007167658131132,
          0.03736703602105844,
          0.9559004949818091,
          0.03332355015016128,
          -0.045779257239926485,
          0.9773174862087912,
          0.0239963177260165,
          -0.006788130029409797,
          0.02746029832783725,
          -0.035533233682238013,
          -0.0337668809859161,
          -0.011008580364649759,
          0.999276749211724,
          -0.013224251440122549,
          0.04131740094811069,
          1.0167536676358202,
          0.0033000477292279284,
          1.0469235385447784,
          1.0021400028190743,
          1.0181364764018335,
          6.264990539424364e-05,
          1.0257166599428638,
          0.018750693663864768,
          -0.04379826989650565,
          0.9893906174930338,
          1.0009394958040416,
          1.0129629441137769,
          0.003617084064157672,
          -0.018080282859926355,
          -0.03569785391090198,
          -0.006019716767866071,
          -0.04096928648147921,
          0.047617804008224324,
          -0.04750033625029548,
          1.0080111644647871,
          0.020988904901040314,
          0.02278837362865624,
          0.017072435581243453,
          1.014921850890628,
          -0.02373323389244666,
          0.01669251410299108,
          0.9991491385148641,
          0.9646118026077228,
          0.03768114928967789,
          0.9974202111034607,
          0.033009460786735764,
          0.9771852539825978,
          1.0272315345107679,
          0.028053302103308503,
          0.030387389571216603,
          1.018734228857342,
          -0.023118726584743888,
          0.9818802927491808,
          1.0222367051345802,
          0.015962027530666084,
          0.9913542701655218,
          1.0476098478209512,
          0.009971945696561978,
          0.021845353630179837,
          1.0155636065324831,
          0.03861264180441934,
          1.003184183662596,
          -0.01765154088649914,
          -0.007390012768449604,
          0.9861492803422032,
          -0.049390202346539125,
          0.009801187440322545,
          1.0252545732215368,
          1.0201325437178266,
          1.0345198902367454,
          -0.010305033709395825,
          -0.025945447118915957,
          -0.024846548359645594,
          1.0048212976717525,
          1.0100951654340207,
          -0.04231563065740068,
          0.9950568022768922,
          0.951624502640454,
          -0.04893705248405801,
          -0.005399889491648248,
          0.024407391677197077,
          0.9658308195236516,
          0.0012087698208016126,
          0.966542110102675,
          1.0480227987323818,
          1.0464684413731826,
          0.9673022348870892,
          0.04534174746491289,
          0.04675869372598261,
          1.0452001358959244,
          -0.03157089558492369,
          -0.019672767608682307,
          0.9525640926137204,
          0.978408914428051,
          0.9772365327301527,
          1.0015353032444358,
          0.9827875145225606,
          1.0354126821850318,
          -0.04439733614213623,
          -0.013230027312079673,
          0.007248396949336558,
          0.047961804531011495,
          0.022796614556889,
          0.04697389550408741,
          0.016286114463775772,
          0.9846898180122632,
          1.0499710680198666,
          1.0023484727662957,
          0.9586852698740518,
          -0.04266356206981179,
          0.027958212116026587,
          -0.027751056931976527,
          -0.038668324070348994,
          1.0308190807692479,
          0.022623705769916097,
          0.9565888377834149,
          -0.017721651594052347,
          -0.04452590511774379,
          0.028831951275699444,
          -0.04323756486515187,
          -0.010659904702327042,
          1.0402063483815969,
          1.036419375419275,
          0.9541154094099795,
          0.02307309714288587,
          -0.033628202927098484,
          1.0352691063918675,
          0.014635963354814902,
          0.02559307508237521,
          1.0046451078693635,
          0.9748987860531255,
          1.008133329235483,
          1.047525387599168,
          -0.020937165204577612,
          -0.012581502792146336,
          1.0435352297211273,
          1.020406588320803,
          -0.019336901469464908,
          0.040089016247471396,
          0.022550187782663933,
          1.0213257726227847,
          0.960438722869219,
          1.0355542168717966,
          -0.0003410254119694395,
          0.04121393178454179,
          0.9703292422855638,
          0.02594069398318577,
          -0.043913686961792986,
          -0.034316510554893875,
          0.013803836629731878,
          1.0392860454895443,
          0.0191628119134514,
          0.02445348246008977,
          -0.022947983887400783,
          -0.03173665999648193,
          -0.0005507463933145176,
          0.006448360329419853,
          0.048510782100592564,
          -0.0043326003926496895,
          -0.0330351013088771,
          0.9706168190738609,
          -0.008470557040994378,
          -0.023480483979300904,
          -0.002493052823713607,
          0.02352843495983399,
          -0.02436461542708066,
          0.008942697807999056,
          0.9778018856686908,
          -0.016297171870268835,
          -0.020760209261424835,
          0.9552268153702475,
          0.046407932787322345,
          -0.017280996558293807,
          0.9541815400143161,
          0.96379280458599,
          0.9583564587110065,
          0.04197958758430306,
          1.0183565306604656,
          1.0002813515914648,
          0.04120554849878719,
          0.9792449066571816,
          -0.02070069907402714,
          0.04489587715301002,
          -0.0010749498913169148,
          -0.019727451604611614,
          1.0005650424898438,
          -0.005939859319575878
         ]
        },
        {
         "mode": "lines",
         "name": "Least Squares 0.13849765258215962",
         "type": "scatter",
         "x": [
          7.691,
          9.959777777777777,
          12.228555555555555,
          14.497333333333334,
          16.766111111111112,
          19.03488888888889,
          21.303666666666665,
          23.572444444444443,
          25.84122222222222,
          28.11
         ],
         "y": [
          -0.2827288561316814,
          -0.0548388550484713,
          0.17305114603473903,
          0.40094114711794937,
          0.6288311482011597,
          0.8567211492843698,
          1.0846111503675797,
          1.31250115145079,
          1.5403911525340004,
          1.7682811536172107
         ]
        },
        {
         "mode": "lines",
         "name": "Least Squares 0.12676056338028174",
         "type": "scatter",
         "x": [
          7.691,
          9.959777777777777,
          12.228555555555555,
          14.497333333333334,
          16.766111111111112,
          19.03488888888889,
          21.303666666666665,
          23.572444444444443,
          25.84122222222222,
          28.11
         ],
         "y": [
          -0.24996709743642653,
          -0.024842590680060228,
          0.20028191607630608,
          0.4254064228326726,
          0.6505309295890389,
          0.8756554363454054,
          1.1007799431017715,
          1.3259044498581378,
          1.5510289566145041,
          1.7761534633708709
         ]
        },
        {
         "mode": "lines",
         "name": "Least Squares 0.147887323943662",
         "type": "scatter",
         "x": [
          7.691,
          9.959777777777777,
          12.228555555555555,
          14.497333333333334,
          16.766111111111112,
          19.03488888888889,
          21.303666666666665,
          23.572444444444443,
          25.84122222222222,
          28.11
         ],
         "y": [
          -0.24023133791086282,
          -0.02867051159881806,
          0.1828903147132268,
          0.3944511410252718,
          0.6060119673373165,
          0.8175727936493615,
          1.029133619961406,
          1.2406944462734508,
          1.4522552725854958,
          1.6638160988975408
         ]
        },
        {
         "line": {
          "dash": "dot"
         },
         "mode": "lines",
         "name": "Decision Boundary",
         "type": "scatter",
         "x": [
          15.483521946448016,
          15.483521946448016
         ],
         "y": [
          -0.5,
          1.5
         ]
        },
        {
         "line": {
          "dash": "dot"
         },
         "mode": "lines",
         "name": "Decision Boundary",
         "type": "scatter",
         "x": [
          15.249078457311926,
          15.249078457311926
         ],
         "y": [
          -0.5,
          1.5
         ]
        },
        {
         "line": {
          "dash": "dot"
         },
         "mode": "lines",
         "name": "Decision Boundary",
         "type": "scatter",
         "x": [
          15.629239035755099,
          15.629239035755099
         ],
         "y": [
          -0.5,
          1.5
         ]
        }
       ],
       "layout": {
        "template": {
         "data": {
          "bar": [
           {
            "error_x": {
             "color": "#2a3f5f"
            },
            "error_y": {
             "color": "#2a3f5f"
            },
            "marker": {
             "line": {
              "color": "#E5ECF6",
              "width": 0.5
             }
            },
            "type": "bar"
           }
          ],
          "barpolar": [
           {
            "marker": {
             "line": {
              "color": "#E5ECF6",
              "width": 0.5
             }
            },
            "type": "barpolar"
           }
          ],
          "carpet": [
           {
            "aaxis": {
             "endlinecolor": "#2a3f5f",
             "gridcolor": "white",
             "linecolor": "white",
             "minorgridcolor": "white",
             "startlinecolor": "#2a3f5f"
            },
            "baxis": {
             "endlinecolor": "#2a3f5f",
             "gridcolor": "white",
             "linecolor": "white",
             "minorgridcolor": "white",
             "startlinecolor": "#2a3f5f"
            },
            "type": "carpet"
           }
          ],
          "choropleth": [
           {
            "colorbar": {
             "outlinewidth": 0,
             "ticks": ""
            },
            "type": "choropleth"
           }
          ],
          "contour": [
           {
            "colorbar": {
             "outlinewidth": 0,
             "ticks": ""
            },
            "colorscale": [
             [
              0,
              "#0d0887"
             ],
             [
              0.1111111111111111,
              "#46039f"
             ],
             [
              0.2222222222222222,
              "#7201a8"
             ],
             [
              0.3333333333333333,
              "#9c179e"
             ],
             [
              0.4444444444444444,
              "#bd3786"
             ],
             [
              0.5555555555555556,
              "#d8576b"
             ],
             [
              0.6666666666666666,
              "#ed7953"
             ],
             [
              0.7777777777777778,
              "#fb9f3a"
             ],
             [
              0.8888888888888888,
              "#fdca26"
             ],
             [
              1,
              "#f0f921"
             ]
            ],
            "type": "contour"
           }
          ],
          "contourcarpet": [
           {
            "colorbar": {
             "outlinewidth": 0,
             "ticks": ""
            },
            "type": "contourcarpet"
           }
          ],
          "heatmap": [
           {
            "colorbar": {
             "outlinewidth": 0,
             "ticks": ""
            },
            "colorscale": [
             [
              0,
              "#0d0887"
             ],
             [
              0.1111111111111111,
              "#46039f"
             ],
             [
              0.2222222222222222,
              "#7201a8"
             ],
             [
              0.3333333333333333,
              "#9c179e"
             ],
             [
              0.4444444444444444,
              "#bd3786"
             ],
             [
              0.5555555555555556,
              "#d8576b"
             ],
             [
              0.6666666666666666,
              "#ed7953"
             ],
             [
              0.7777777777777778,
              "#fb9f3a"
             ],
             [
              0.8888888888888888,
              "#fdca26"
             ],
             [
              1,
              "#f0f921"
             ]
            ],
            "type": "heatmap"
           }
          ],
          "heatmapgl": [
           {
            "colorbar": {
             "outlinewidth": 0,
             "ticks": ""
            },
            "colorscale": [
             [
              0,
              "#0d0887"
             ],
             [
              0.1111111111111111,
              "#46039f"
             ],
             [
              0.2222222222222222,
              "#7201a8"
             ],
             [
              0.3333333333333333,
              "#9c179e"
             ],
             [
              0.4444444444444444,
              "#bd3786"
             ],
             [
              0.5555555555555556,
              "#d8576b"
             ],
             [
              0.6666666666666666,
              "#ed7953"
             ],
             [
              0.7777777777777778,
              "#fb9f3a"
             ],
             [
              0.8888888888888888,
              "#fdca26"
             ],
             [
              1,
              "#f0f921"
             ]
            ],
            "type": "heatmapgl"
           }
          ],
          "histogram": [
           {
            "marker": {
             "colorbar": {
              "outlinewidth": 0,
              "ticks": ""
             }
            },
            "type": "histogram"
           }
          ],
          "histogram2d": [
           {
            "colorbar": {
             "outlinewidth": 0,
             "ticks": ""
            },
            "colorscale": [
             [
              0,
              "#0d0887"
             ],
             [
              0.1111111111111111,
              "#46039f"
             ],
             [
              0.2222222222222222,
              "#7201a8"
             ],
             [
              0.3333333333333333,
              "#9c179e"
             ],
             [
              0.4444444444444444,
              "#bd3786"
             ],
             [
              0.5555555555555556,
              "#d8576b"
             ],
             [
              0.6666666666666666,
              "#ed7953"
             ],
             [
              0.7777777777777778,
              "#fb9f3a"
             ],
             [
              0.8888888888888888,
              "#fdca26"
             ],
             [
              1,
              "#f0f921"
             ]
            ],
            "type": "histogram2d"
           }
          ],
          "histogram2dcontour": [
           {
            "colorbar": {
             "outlinewidth": 0,
             "ticks": ""
            },
            "colorscale": [
             [
              0,
              "#0d0887"
             ],
             [
              0.1111111111111111,
              "#46039f"
             ],
             [
              0.2222222222222222,
              "#7201a8"
             ],
             [
              0.3333333333333333,
              "#9c179e"
             ],
             [
              0.4444444444444444,
              "#bd3786"
             ],
             [
              0.5555555555555556,
              "#d8576b"
             ],
             [
              0.6666666666666666,
              "#ed7953"
             ],
             [
              0.7777777777777778,
              "#fb9f3a"
             ],
             [
              0.8888888888888888,
              "#fdca26"
             ],
             [
              1,
              "#f0f921"
             ]
            ],
            "type": "histogram2dcontour"
           }
          ],
          "mesh3d": [
           {
            "colorbar": {
             "outlinewidth": 0,
             "ticks": ""
            },
            "type": "mesh3d"
           }
          ],
          "parcoords": [
           {
            "line": {
             "colorbar": {
              "outlinewidth": 0,
              "ticks": ""
             }
            },
            "type": "parcoords"
           }
          ],
          "pie": [
           {
            "automargin": true,
            "type": "pie"
           }
          ],
          "scatter": [
           {
            "marker": {
             "colorbar": {
              "outlinewidth": 0,
              "ticks": ""
             }
            },
            "type": "scatter"
           }
          ],
          "scatter3d": [
           {
            "line": {
             "colorbar": {
              "outlinewidth": 0,
              "ticks": ""
             }
            },
            "marker": {
             "colorbar": {
              "outlinewidth": 0,
              "ticks": ""
             }
            },
            "type": "scatter3d"
           }
          ],
          "scattercarpet": [
           {
            "marker": {
             "colorbar": {
              "outlinewidth": 0,
              "ticks": ""
             }
            },
            "type": "scattercarpet"
           }
          ],
          "scattergeo": [
           {
            "marker": {
             "colorbar": {
              "outlinewidth": 0,
              "ticks": ""
             }
            },
            "type": "scattergeo"
           }
          ],
          "scattergl": [
           {
            "marker": {
             "colorbar": {
              "outlinewidth": 0,
              "ticks": ""
             }
            },
            "type": "scattergl"
           }
          ],
          "scattermapbox": [
           {
            "marker": {
             "colorbar": {
              "outlinewidth": 0,
              "ticks": ""
             }
            },
            "type": "scattermapbox"
           }
          ],
          "scatterpolar": [
           {
            "marker": {
             "colorbar": {
              "outlinewidth": 0,
              "ticks": ""
             }
            },
            "type": "scatterpolar"
           }
          ],
          "scatterpolargl": [
           {
            "marker": {
             "colorbar": {
              "outlinewidth": 0,
              "ticks": ""
             }
            },
            "type": "scatterpolargl"
           }
          ],
          "scatterternary": [
           {
            "marker": {
             "colorbar": {
              "outlinewidth": 0,
              "ticks": ""
             }
            },
            "type": "scatterternary"
           }
          ],
          "surface": [
           {
            "colorbar": {
             "outlinewidth": 0,
             "ticks": ""
            },
            "colorscale": [
             [
              0,
              "#0d0887"
             ],
             [
              0.1111111111111111,
              "#46039f"
             ],
             [
              0.2222222222222222,
              "#7201a8"
             ],
             [
              0.3333333333333333,
              "#9c179e"
             ],
             [
              0.4444444444444444,
              "#bd3786"
             ],
             [
              0.5555555555555556,
              "#d8576b"
             ],
             [
              0.6666666666666666,
              "#ed7953"
             ],
             [
              0.7777777777777778,
              "#fb9f3a"
             ],
             [
              0.8888888888888888,
              "#fdca26"
             ],
             [
              1,
              "#f0f921"
             ]
            ],
            "type": "surface"
           }
          ],
          "table": [
           {
            "cells": {
             "fill": {
              "color": "#EBF0F8"
             },
             "line": {
              "color": "white"
             }
            },
            "header": {
             "fill": {
              "color": "#C8D4E3"
             },
             "line": {
              "color": "white"
             }
            },
            "type": "table"
           }
          ]
         },
         "layout": {
          "annotationdefaults": {
           "arrowcolor": "#2a3f5f",
           "arrowhead": 0,
           "arrowwidth": 1
          },
          "coloraxis": {
           "colorbar": {
            "outlinewidth": 0,
            "ticks": ""
           }
          },
          "colorscale": {
           "diverging": [
            [
             0,
             "#8e0152"
            ],
            [
             0.1,
             "#c51b7d"
            ],
            [
             0.2,
             "#de77ae"
            ],
            [
             0.3,
             "#f1b6da"
            ],
            [
             0.4,
             "#fde0ef"
            ],
            [
             0.5,
             "#f7f7f7"
            ],
            [
             0.6,
             "#e6f5d0"
            ],
            [
             0.7,
             "#b8e186"
            ],
            [
             0.8,
             "#7fbc41"
            ],
            [
             0.9,
             "#4d9221"
            ],
            [
             1,
             "#276419"
            ]
           ],
           "sequential": [
            [
             0,
             "#0d0887"
            ],
            [
             0.1111111111111111,
             "#46039f"
            ],
            [
             0.2222222222222222,
             "#7201a8"
            ],
            [
             0.3333333333333333,
             "#9c179e"
            ],
            [
             0.4444444444444444,
             "#bd3786"
            ],
            [
             0.5555555555555556,
             "#d8576b"
            ],
            [
             0.6666666666666666,
             "#ed7953"
            ],
            [
             0.7777777777777778,
             "#fb9f3a"
            ],
            [
             0.8888888888888888,
             "#fdca26"
            ],
            [
             1,
             "#f0f921"
            ]
           ],
           "sequentialminus": [
            [
             0,
             "#0d0887"
            ],
            [
             0.1111111111111111,
             "#46039f"
            ],
            [
             0.2222222222222222,
             "#7201a8"
            ],
            [
             0.3333333333333333,
             "#9c179e"
            ],
            [
             0.4444444444444444,
             "#bd3786"
            ],
            [
             0.5555555555555556,
             "#d8576b"
            ],
            [
             0.6666666666666666,
             "#ed7953"
            ],
            [
             0.7777777777777778,
             "#fb9f3a"
            ],
            [
             0.8888888888888888,
             "#fdca26"
            ],
            [
             1,
             "#f0f921"
            ]
           ]
          },
          "colorway": [
           "#636efa",
           "#EF553B",
           "#00cc96",
           "#ab63fa",
           "#FFA15A",
           "#19d3f3",
           "#FF6692",
           "#B6E880",
           "#FF97FF",
           "#FECB52"
          ],
          "font": {
           "color": "#2a3f5f"
          },
          "geo": {
           "bgcolor": "white",
           "lakecolor": "white",
           "landcolor": "#E5ECF6",
           "showlakes": true,
           "showland": true,
           "subunitcolor": "white"
          },
          "hoverlabel": {
           "align": "left"
          },
          "hovermode": "closest",
          "mapbox": {
           "style": "light"
          },
          "paper_bgcolor": "white",
          "plot_bgcolor": "#E5ECF6",
          "polar": {
           "angularaxis": {
            "gridcolor": "white",
            "linecolor": "white",
            "ticks": ""
           },
           "bgcolor": "#E5ECF6",
           "radialaxis": {
            "gridcolor": "white",
            "linecolor": "white",
            "ticks": ""
           }
          },
          "scene": {
           "xaxis": {
            "backgroundcolor": "#E5ECF6",
            "gridcolor": "white",
            "gridwidth": 2,
            "linecolor": "white",
            "showbackground": true,
            "ticks": "",
            "zerolinecolor": "white"
           },
           "yaxis": {
            "backgroundcolor": "#E5ECF6",
            "gridcolor": "white",
            "gridwidth": 2,
            "linecolor": "white",
            "showbackground": true,
            "ticks": "",
            "zerolinecolor": "white"
           },
           "zaxis": {
            "backgroundcolor": "#E5ECF6",
            "gridcolor": "white",
            "gridwidth": 2,
            "linecolor": "white",
            "showbackground": true,
            "ticks": "",
            "zerolinecolor": "white"
           }
          },
          "shapedefaults": {
           "line": {
            "color": "#2a3f5f"
           }
          },
          "ternary": {
           "aaxis": {
            "gridcolor": "white",
            "linecolor": "white",
            "ticks": ""
           },
           "baxis": {
            "gridcolor": "white",
            "linecolor": "white",
            "ticks": ""
           },
           "bgcolor": "#E5ECF6",
           "caxis": {
            "gridcolor": "white",
            "linecolor": "white",
            "ticks": ""
           }
          },
          "title": {
           "x": 0.05
          },
          "xaxis": {
           "automargin": true,
           "gridcolor": "white",
           "linecolor": "white",
           "ticks": "",
           "title": {
            "standoff": 15
           },
           "zerolinecolor": "white",
           "zerolinewidth": 2
          },
          "yaxis": {
           "automargin": true,
           "gridcolor": "white",
           "linecolor": "white",
           "ticks": "",
           "title": {
            "standoff": 15
           },
           "zerolinecolor": "white",
           "zerolinewidth": 2
          }
         }
        }
       }
      },
      "text/html": [
       "<div>\n",
       "        \n",
       "        \n",
       "            <div id=\"7124941d-fa74-427d-b87e-ef66cfa64205\" class=\"plotly-graph-div\" style=\"height:525px; width:100%;\"></div>\n",
       "            <script type=\"text/javascript\">\n",
       "                require([\"plotly\"], function(Plotly) {\n",
       "                    window.PLOTLYENV=window.PLOTLYENV || {};\n",
       "                    \n",
       "                if (document.getElementById(\"7124941d-fa74-427d-b87e-ef66cfa64205\")) {\n",
       "                    Plotly.newPlot(\n",
       "                        '7124941d-fa74-427d-b87e-ef66cfa64205',\n",
       "                        [{\"marker\": {\"opacity\": 0.5}, \"mode\": \"markers\", \"name\": \"Jittered Data\", \"type\": \"scatter\", \"x\": [12.89, 13.4, 12.96, 17.75, 20.58, 15.28, 13.78, 15.1, 12.34, 8.196, 13.45, 11.32, 22.27, 19.4, 7.76, 14.86, 11.13, 9.72, 9.606, 10.08, 12.56, 15.13, 10.48, 12.78, 14.74, 9.904, 13.82, 12.89, 13.74, 13.37, 14.69, 12.91, 13.62, 17.35, 15.0, 11.8, 14.53, 13.71, 11.36, 8.726, 16.11, 18.49, 13.71, 14.47, 13.54, 15.46, 12.85, 19.21, 12.47, 12.46, 10.86, 11.37, 18.81, 13.49, 9.567, 17.14, 11.06, 14.61, 7.691, 19.07, 13.69, 19.16, 19.8, 11.46, 12.06, 13.15, 13.61, 10.26, 9.333, 11.06, 10.66, 11.84, 10.51, 12.67, 11.08, 11.04, 12.43, 14.71, 14.87, 16.65, 16.13, 12.87, 9.465, 21.75, 13.16, 10.91, 12.25, 12.75, 14.58, 12.27, 12.16, 14.27, 15.06, 27.22, 12.99, 13.27, 21.16, 13.87, 13.87, 20.16, 13.59, 12.45, 8.95, 18.65, 13.65, 15.61, 11.47, 14.42, 14.68, 12.05, 9.683, 10.97, 11.42, 12.54, 17.06, 14.34, 14.58, 11.76, 12.83, 13.03, 16.84, 20.48, 13.21, 8.671, 11.87, 12.76, 14.86, 12.65, 11.31, 11.94, 17.47, 14.96, 11.6, 12.34, 9.731, 11.27, 20.09, 14.02, 10.51, 9.876, 11.57, 12.31, 13.66, 10.32, 17.95, 12.21, 12.21, 12.87, 16.69, 12.18, 16.35, 16.5, 12.04, 10.05, 14.25, 11.28, 17.3, 20.59, 8.618, 12.63, 16.27, 12.54, 17.29, 18.03, 11.76, 13.0, 10.6, 11.62, 14.99, 11.89, 9.0, 19.18, 9.042, 11.8, 13.9, 14.95, 13.46, 25.73, 14.5, 24.63, 12.18, 12.9, 17.46, 19.44, 9.787, 12.2, 20.47, 11.85, 20.18, 24.25, 11.41, 23.29, 20.34, 13.2, 16.17, 20.44, 18.82, 21.71, 12.45, 11.95, 13.85, 15.19, 15.75, 11.06, 18.22, 19.53, 19.79, 15.05, 11.14, 12.94, 13.24, 13.05, 13.85, 13.3, 12.72, 12.0, 19.59, 20.64, 14.26, 12.81, 17.08, 9.405, 10.94, 8.597, 8.219, 10.57, 20.51, 13.2, 12.39, 23.27, 18.22, 11.71, 18.08, 14.04, 15.66, 11.22, 11.93, 11.41, 12.72, 10.57, 13.27, 18.01, 9.397, 14.76, 19.0, 11.51, 12.58, 9.847, 9.676, 12.36, 11.63, 17.91, 15.71, 14.8, 13.17, 14.97, 14.78, 16.24, 18.46, 11.3, 18.31, 14.92, 10.9, 19.17, 16.74, 15.3, 12.32, 11.43, 11.68, 11.16, 14.53, 13.56, 11.34, 20.26, 13.64, 13.64, 14.59, 15.75, 9.668, 13.01, 16.25, 10.95, 8.571, 15.46, 9.876, 15.49, 19.4, 8.878, 12.8, 19.45, 12.22, 20.29, 19.55, 10.96, 14.9, 13.61, 10.44, 12.88, 17.42, 9.436, 13.43, 11.6, 12.95, 13.86, 8.598, 16.14, 13.17, 17.02, 15.5, 13.59, 12.03, 12.23, 18.45, 18.61, 11.49, 17.05, 20.31, 13.66, 11.26, 12.7, 19.59, 8.734, 18.31, 14.95, 14.25, 12.77, 15.1, 12.77, 13.0, 14.11, 11.71, 12.68, 19.53, 13.73, 17.68, 13.44, 11.08, 11.71, 12.46, 11.89, 12.27, 13.85, 11.94, 11.26, 18.77, 23.21, 17.01, 28.11, 13.77, 11.69, 11.5, 14.05, 27.42, 13.38, 16.6, 10.49, 11.66, 10.71, 13.7, 11.99, 17.54, 19.19, 13.28, 10.2, 11.93, 14.22, 14.2, 13.05, 15.53, 13.11, 19.55, 20.57, 12.07, 11.45, 15.12, 16.13, 16.3, 10.8, 12.62, 20.2, 15.37, 23.51, 10.26, 12.42, 15.85, 12.49, 13.88, 9.742, 10.8, 20.92, 15.73, 12.88, 9.268, 13.75, 12.3, 12.83, 11.74, 13.05, 10.88, 19.73, 9.504, 11.54, 9.755, 11.75, 11.33, 12.77, 14.6, 14.99, 17.85, 19.68, 13.5, 12.19, 14.42, 21.37, 19.02, 13.0, 16.03, 14.19, 13.14, 18.66, 13.08, 8.888, 11.64, 14.29, 13.98, 12.18], \"y\": [-0.0217929503237698, 1.0269778107849383, -0.0496416432902342, 0.9945390434768533, 0.9819057253778123, 0.9986011887054025, -0.007425375494596188, 1.009165587612994, 0.0428632013883998, -0.03566185285149273, -0.021625510236081724, 0.011914904413884285, 0.95358675237928, 0.9610106020472278, 0.008370629542627225, 0.026424697317725815, -0.009922782378195175, -0.02866509116654281, -0.047373592307256844, 0.023757665307515247, -0.03983757824828241, 0.9795400767419373, -0.0017287938310470014, -0.04265781053759385, 0.011031173085356595, -0.042873088513054075, 1.027778233247854, 0.032582272427382805, 0.03041372003174611, -0.04729909163849785, -0.022036265384316092, -0.0410884607394147, 0.02066611281261188, 0.9969139338804014, -0.01751097193169108, 0.048948949969279024, -0.00029383841450338066, -0.023524287250114507, -0.012069098151747892, 0.01843686721126961, 0.9530360030428613, 1.0449929689584179, 1.0391077194983351, 0.03618518189091188, -0.01572839798649922, 1.0227341754010688, 0.00892670804916644, 0.961121816518083, 0.03184044231726685, -0.04072109104283794, 0.009104370362466377, 0.02295916050214411, 1.031184032133343, 0.03812143980765613, 0.020136905495211965, 1.0254219985540012, 0.043312683544197386, 0.029438856500499072, 0.025927013185141942, 1.009430029645298, -0.0001922314844187839, 1.0160530633528122, 0.964223395132008, -0.0005179501887136104, -0.013665255157283972, -0.034777406508596856, 1.0356010930713717, 0.036261542897384355, -0.04342908804032165, -0.04689885410822027, 0.01980289514260994, 0.9781259478963966, -0.04345894015365324, 0.001564590731232364, 0.03407759486062149, -0.04481218589508236, -0.014715344480234094, 1.0184142041059185, 0.023530006943285137, 0.9775734800882947, 1.0231322538207686, -0.013994712225214645, -0.015768589576397984, 0.9633476452034215, 0.007009871020479765, -0.012037355630361714, -0.0001531652164674449, -0.001569239932807387, 0.03573900135257599, 0.04263663005621625, 0.031250237623026395, 1.0145796201079862, 1.0483643381206664, 1.0269959134976985, -0.03525277596242792, -0.040912190867387704, 1.0116347478268977, 0.047191160622421346, -0.01397432476553332, 1.0342206974329418, -0.027391267689878974, 1.0274908517645733, 0.0008824048732255854, 1.0226621964053175, 0.025215224069188955, 1.0465085082997123, -0.028395794970389132, 0.003031140905352704, 1.0150558455192158, -0.023388031850958238, -0.029058733767238856, 0.04722627894056129, 0.9538485050812615, -0.020863223366937522, 1.0440537722504089, 0.03958780204436918, 1.0473513440926934, 0.04006197130507615, 0.9510719208936322, -0.0049518391588924265, 0.0333131438289684, 1.0287468011498222, 0.025624622414007037, 0.026025606342857846, -0.019594481776669337, 0.016230589553291458, 0.9979761923442418, -0.03475556773359555, 0.004347263982153994, 0.02713935339849996, 0.9608304924866045, -0.012159599203227192, -0.02284340240120998, 1.0194335700931534, -0.03461944641740197, 0.04995473979963387, 0.9896264845723184, -0.03727737828524955, 0.02491299993243125, -0.032551048145054884, -0.01544687499711117, 0.036625606191748136, 0.006891978144583047, -0.02692558489133644, 0.9869264703895395, -0.02134020167443239, 0.015029721935207546, -0.009245509115467586, 1.040126403471407, -0.04587277105964557, 1.0279726995493117, -0.0017437135827464978, 0.013075983781685258, 0.0308544277512192, 1.0423256214526908, -0.028529697590418603, 1.0348133040634138, 1.043806470841743, -0.0067606536512652485, -0.035558818843358986, 0.980500421232126, 0.04857692840520518, 1.0385247573293026, 0.9770899574982452, 0.9790774657853338, -0.009586903411540039, -0.0029702823226995106, 0.04526006452590059, 0.9662526388489983, -0.030229956419767546, 0.021005591405703447, 0.9841824744072958, -0.016942059683319736, 1.0329575636505712, -0.02887767809463179, -0.019705998574827122, -0.007340504177719941, 0.9992162656748027, -0.026291985153520627, 1.0468729791196465, 0.048447740089311464, 0.04557950490120813, 0.9633211850573535, 0.9575688222810781, -0.038433974055922526, -0.026580547074623997, 1.005323986421401, 0.019574896421768337, 0.9867131735054082, 1.0112129461793398, -0.035447883775044965, 0.9919113608362213, 0.9554141567262897, 0.02459917668678427, -0.03421212159210045, 0.9984077859629021, 0.995523580834772, 1.0419587993465924, 0.006029121788087441, -0.003306215244824072, -0.03732082866798278, 0.03186213264886467, 1.0298781077215986, 0.010803818882142914, 0.9900588670572303, 0.9783063131664, 1.0328679607794264, 0.9938871365445965, 0.03274130402096097, 0.0484557297009687, -0.02017640769698408, 0.000183054863841417, 0.029481757694405072, 0.03441224177982374, -0.003525545187789046, -0.03394183688703382, 0.9993986552959064, 0.9670260944447915, -0.01819799535678012, -0.007672694292006996, 0.9648453387499005, -0.014949539731505361, 0.027046196674620812, 0.044732091491666334, -0.024442263050835425, -0.02555275371722915, 0.9949687030454004, -0.012441220396981631, -0.006848607760602719, 1.005744642576252, 0.9786523018973214, 0.03383990033774602, 0.9604009196070582, -0.0430390743047892, 1.0470283616770868, -0.033694653017415845, -0.009420204631510012, 0.02894123998396618, -0.049745343735100526, 0.04007167658131132, 0.03736703602105844, 0.9559004949818091, 0.03332355015016128, -0.045779257239926485, 0.9773174862087912, 0.0239963177260165, -0.006788130029409797, 0.02746029832783725, -0.035533233682238013, -0.0337668809859161, -0.011008580364649759, 0.999276749211724, -0.013224251440122549, 0.04131740094811069, 1.0167536676358202, 0.0033000477292279284, 1.0469235385447784, 1.0021400028190743, 1.0181364764018335, 6.264990539424364e-05, 1.0257166599428638, 0.018750693663864768, -0.04379826989650565, 0.9893906174930338, 1.0009394958040416, 1.0129629441137769, 0.003617084064157672, -0.018080282859926355, -0.03569785391090198, -0.006019716767866071, -0.04096928648147921, 0.047617804008224324, -0.04750033625029548, 1.0080111644647871, 0.020988904901040314, 0.02278837362865624, 0.017072435581243453, 1.014921850890628, -0.02373323389244666, 0.01669251410299108, 0.9991491385148641, 0.9646118026077228, 0.03768114928967789, 0.9974202111034607, 0.033009460786735764, 0.9771852539825978, 1.0272315345107679, 0.028053302103308503, 0.030387389571216603, 1.018734228857342, -0.023118726584743888, 0.9818802927491808, 1.0222367051345802, 0.015962027530666084, 0.9913542701655218, 1.0476098478209512, 0.009971945696561978, 0.021845353630179837, 1.0155636065324831, 0.03861264180441934, 1.003184183662596, -0.01765154088649914, -0.007390012768449604, 0.9861492803422032, -0.049390202346539125, 0.009801187440322545, 1.0252545732215368, 1.0201325437178266, 1.0345198902367454, -0.010305033709395825, -0.025945447118915957, -0.024846548359645594, 1.0048212976717525, 1.0100951654340207, -0.04231563065740068, 0.9950568022768922, 0.951624502640454, -0.04893705248405801, -0.005399889491648248, 0.024407391677197077, 0.9658308195236516, 0.0012087698208016126, 0.966542110102675, 1.0480227987323818, 1.0464684413731826, 0.9673022348870892, 0.04534174746491289, 0.04675869372598261, 1.0452001358959244, -0.03157089558492369, -0.019672767608682307, 0.9525640926137204, 0.978408914428051, 0.9772365327301527, 1.0015353032444358, 0.9827875145225606, 1.0354126821850318, -0.04439733614213623, -0.013230027312079673, 0.007248396949336558, 0.047961804531011495, 0.022796614556889, 0.04697389550408741, 0.016286114463775772, 0.9846898180122632, 1.0499710680198666, 1.0023484727662957, 0.9586852698740518, -0.04266356206981179, 0.027958212116026587, -0.027751056931976527, -0.038668324070348994, 1.0308190807692479, 0.022623705769916097, 0.9565888377834149, -0.017721651594052347, -0.04452590511774379, 0.028831951275699444, -0.04323756486515187, -0.010659904702327042, 1.0402063483815969, 1.036419375419275, 0.9541154094099795, 0.02307309714288587, -0.033628202927098484, 1.0352691063918675, 0.014635963354814902, 0.02559307508237521, 1.0046451078693635, 0.9748987860531255, 1.008133329235483, 1.047525387599168, -0.020937165204577612, -0.012581502792146336, 1.0435352297211273, 1.020406588320803, -0.019336901469464908, 0.040089016247471396, 0.022550187782663933, 1.0213257726227847, 0.960438722869219, 1.0355542168717966, -0.0003410254119694395, 0.04121393178454179, 0.9703292422855638, 0.02594069398318577, -0.043913686961792986, -0.034316510554893875, 0.013803836629731878, 1.0392860454895443, 0.0191628119134514, 0.02445348246008977, -0.022947983887400783, -0.03173665999648193, -0.0005507463933145176, 0.006448360329419853, 0.048510782100592564, -0.0043326003926496895, -0.0330351013088771, 0.9706168190738609, -0.008470557040994378, -0.023480483979300904, -0.002493052823713607, 0.02352843495983399, -0.02436461542708066, 0.008942697807999056, 0.9778018856686908, -0.016297171870268835, -0.020760209261424835, 0.9552268153702475, 0.046407932787322345, -0.017280996558293807, 0.9541815400143161, 0.96379280458599, 0.9583564587110065, 0.04197958758430306, 1.0183565306604656, 1.0002813515914648, 0.04120554849878719, 0.9792449066571816, -0.02070069907402714, 0.04489587715301002, -0.0010749498913169148, -0.019727451604611614, 1.0005650424898438, -0.005939859319575878]}, {\"mode\": \"lines\", \"name\": \"Least Squares 0.13849765258215962\", \"type\": \"scatter\", \"x\": [7.691, 9.959777777777777, 12.228555555555555, 14.497333333333334, 16.766111111111112, 19.03488888888889, 21.303666666666665, 23.572444444444443, 25.84122222222222, 28.11], \"y\": [-0.2827288561316814, -0.0548388550484713, 0.17305114603473903, 0.40094114711794937, 0.6288311482011597, 0.8567211492843698, 1.0846111503675797, 1.31250115145079, 1.5403911525340004, 1.7682811536172107]}, {\"mode\": \"lines\", \"name\": \"Least Squares 0.12676056338028174\", \"type\": \"scatter\", \"x\": [7.691, 9.959777777777777, 12.228555555555555, 14.497333333333334, 16.766111111111112, 19.03488888888889, 21.303666666666665, 23.572444444444443, 25.84122222222222, 28.11], \"y\": [-0.24996709743642653, -0.024842590680060228, 0.20028191607630608, 0.4254064228326726, 0.6505309295890389, 0.8756554363454054, 1.1007799431017715, 1.3259044498581378, 1.5510289566145041, 1.7761534633708709]}, {\"mode\": \"lines\", \"name\": \"Least Squares 0.147887323943662\", \"type\": \"scatter\", \"x\": [7.691, 9.959777777777777, 12.228555555555555, 14.497333333333334, 16.766111111111112, 19.03488888888889, 21.303666666666665, 23.572444444444443, 25.84122222222222, 28.11], \"y\": [-0.24023133791086282, -0.02867051159881806, 0.1828903147132268, 0.3944511410252718, 0.6060119673373165, 0.8175727936493615, 1.029133619961406, 1.2406944462734508, 1.4522552725854958, 1.6638160988975408]}, {\"line\": {\"dash\": \"dot\"}, \"mode\": \"lines\", \"name\": \"Decision Boundary\", \"type\": \"scatter\", \"x\": [15.483521946448016, 15.483521946448016], \"y\": [-0.5, 1.5]}, {\"line\": {\"dash\": \"dot\"}, \"mode\": \"lines\", \"name\": \"Decision Boundary\", \"type\": \"scatter\", \"x\": [15.249078457311926, 15.249078457311926], \"y\": [-0.5, 1.5]}, {\"line\": {\"dash\": \"dot\"}, \"mode\": \"lines\", \"name\": \"Decision Boundary\", \"type\": \"scatter\", \"x\": [15.629239035755099, 15.629239035755099], \"y\": [-0.5, 1.5]}],\n",
       "                        {\"template\": {\"data\": {\"bar\": [{\"error_x\": {\"color\": \"#2a3f5f\"}, \"error_y\": {\"color\": \"#2a3f5f\"}, \"marker\": {\"line\": {\"color\": \"#E5ECF6\", \"width\": 0.5}}, \"type\": \"bar\"}], \"barpolar\": [{\"marker\": {\"line\": {\"color\": \"#E5ECF6\", \"width\": 0.5}}, \"type\": \"barpolar\"}], \"carpet\": [{\"aaxis\": {\"endlinecolor\": \"#2a3f5f\", \"gridcolor\": \"white\", \"linecolor\": \"white\", \"minorgridcolor\": \"white\", \"startlinecolor\": \"#2a3f5f\"}, \"baxis\": {\"endlinecolor\": \"#2a3f5f\", \"gridcolor\": \"white\", \"linecolor\": \"white\", \"minorgridcolor\": \"white\", \"startlinecolor\": \"#2a3f5f\"}, \"type\": \"carpet\"}], \"choropleth\": [{\"colorbar\": {\"outlinewidth\": 0, \"ticks\": \"\"}, \"type\": \"choropleth\"}], \"contour\": [{\"colorbar\": {\"outlinewidth\": 0, \"ticks\": \"\"}, \"colorscale\": [[0.0, \"#0d0887\"], [0.1111111111111111, \"#46039f\"], [0.2222222222222222, \"#7201a8\"], [0.3333333333333333, \"#9c179e\"], [0.4444444444444444, \"#bd3786\"], [0.5555555555555556, \"#d8576b\"], [0.6666666666666666, \"#ed7953\"], [0.7777777777777778, \"#fb9f3a\"], [0.8888888888888888, \"#fdca26\"], [1.0, \"#f0f921\"]], \"type\": \"contour\"}], \"contourcarpet\": [{\"colorbar\": {\"outlinewidth\": 0, \"ticks\": \"\"}, \"type\": \"contourcarpet\"}], \"heatmap\": [{\"colorbar\": {\"outlinewidth\": 0, \"ticks\": \"\"}, \"colorscale\": [[0.0, \"#0d0887\"], [0.1111111111111111, \"#46039f\"], [0.2222222222222222, \"#7201a8\"], [0.3333333333333333, \"#9c179e\"], [0.4444444444444444, \"#bd3786\"], [0.5555555555555556, \"#d8576b\"], [0.6666666666666666, \"#ed7953\"], [0.7777777777777778, \"#fb9f3a\"], [0.8888888888888888, \"#fdca26\"], [1.0, \"#f0f921\"]], \"type\": \"heatmap\"}], \"heatmapgl\": [{\"colorbar\": {\"outlinewidth\": 0, \"ticks\": \"\"}, \"colorscale\": [[0.0, \"#0d0887\"], [0.1111111111111111, \"#46039f\"], [0.2222222222222222, \"#7201a8\"], [0.3333333333333333, \"#9c179e\"], [0.4444444444444444, \"#bd3786\"], [0.5555555555555556, \"#d8576b\"], [0.6666666666666666, \"#ed7953\"], [0.7777777777777778, \"#fb9f3a\"], [0.8888888888888888, \"#fdca26\"], [1.0, \"#f0f921\"]], \"type\": \"heatmapgl\"}], \"histogram\": [{\"marker\": {\"colorbar\": {\"outlinewidth\": 0, \"ticks\": \"\"}}, \"type\": \"histogram\"}], \"histogram2d\": [{\"colorbar\": {\"outlinewidth\": 0, \"ticks\": \"\"}, \"colorscale\": [[0.0, \"#0d0887\"], [0.1111111111111111, \"#46039f\"], [0.2222222222222222, \"#7201a8\"], [0.3333333333333333, \"#9c179e\"], [0.4444444444444444, \"#bd3786\"], [0.5555555555555556, \"#d8576b\"], [0.6666666666666666, \"#ed7953\"], [0.7777777777777778, \"#fb9f3a\"], [0.8888888888888888, \"#fdca26\"], [1.0, \"#f0f921\"]], \"type\": \"histogram2d\"}], \"histogram2dcontour\": [{\"colorbar\": {\"outlinewidth\": 0, \"ticks\": \"\"}, \"colorscale\": [[0.0, \"#0d0887\"], [0.1111111111111111, \"#46039f\"], [0.2222222222222222, \"#7201a8\"], [0.3333333333333333, \"#9c179e\"], [0.4444444444444444, \"#bd3786\"], [0.5555555555555556, \"#d8576b\"], [0.6666666666666666, \"#ed7953\"], [0.7777777777777778, \"#fb9f3a\"], [0.8888888888888888, \"#fdca26\"], [1.0, \"#f0f921\"]], \"type\": \"histogram2dcontour\"}], \"mesh3d\": [{\"colorbar\": {\"outlinewidth\": 0, \"ticks\": \"\"}, \"type\": \"mesh3d\"}], \"parcoords\": [{\"line\": {\"colorbar\": {\"outlinewidth\": 0, \"ticks\": \"\"}}, \"type\": \"parcoords\"}], \"pie\": [{\"automargin\": true, \"type\": \"pie\"}], \"scatter\": [{\"marker\": {\"colorbar\": {\"outlinewidth\": 0, \"ticks\": \"\"}}, \"type\": \"scatter\"}], \"scatter3d\": [{\"line\": {\"colorbar\": {\"outlinewidth\": 0, \"ticks\": \"\"}}, \"marker\": {\"colorbar\": {\"outlinewidth\": 0, \"ticks\": \"\"}}, \"type\": \"scatter3d\"}], \"scattercarpet\": [{\"marker\": {\"colorbar\": {\"outlinewidth\": 0, \"ticks\": \"\"}}, \"type\": \"scattercarpet\"}], \"scattergeo\": [{\"marker\": {\"colorbar\": {\"outlinewidth\": 0, \"ticks\": \"\"}}, \"type\": \"scattergeo\"}], \"scattergl\": [{\"marker\": {\"colorbar\": {\"outlinewidth\": 0, \"ticks\": \"\"}}, \"type\": \"scattergl\"}], \"scattermapbox\": [{\"marker\": {\"colorbar\": {\"outlinewidth\": 0, \"ticks\": \"\"}}, \"type\": \"scattermapbox\"}], \"scatterpolar\": [{\"marker\": {\"colorbar\": {\"outlinewidth\": 0, \"ticks\": \"\"}}, \"type\": \"scatterpolar\"}], \"scatterpolargl\": [{\"marker\": {\"colorbar\": {\"outlinewidth\": 0, \"ticks\": \"\"}}, \"type\": \"scatterpolargl\"}], \"scatterternary\": [{\"marker\": {\"colorbar\": {\"outlinewidth\": 0, \"ticks\": \"\"}}, \"type\": \"scatterternary\"}], \"surface\": [{\"colorbar\": {\"outlinewidth\": 0, \"ticks\": \"\"}, \"colorscale\": [[0.0, \"#0d0887\"], [0.1111111111111111, \"#46039f\"], [0.2222222222222222, \"#7201a8\"], [0.3333333333333333, \"#9c179e\"], [0.4444444444444444, \"#bd3786\"], [0.5555555555555556, \"#d8576b\"], [0.6666666666666666, \"#ed7953\"], [0.7777777777777778, \"#fb9f3a\"], [0.8888888888888888, \"#fdca26\"], [1.0, \"#f0f921\"]], \"type\": \"surface\"}], \"table\": [{\"cells\": {\"fill\": {\"color\": \"#EBF0F8\"}, \"line\": {\"color\": \"white\"}}, \"header\": {\"fill\": {\"color\": \"#C8D4E3\"}, \"line\": {\"color\": \"white\"}}, \"type\": \"table\"}]}, \"layout\": {\"annotationdefaults\": {\"arrowcolor\": \"#2a3f5f\", \"arrowhead\": 0, \"arrowwidth\": 1}, \"coloraxis\": {\"colorbar\": {\"outlinewidth\": 0, \"ticks\": \"\"}}, \"colorscale\": {\"diverging\": [[0, \"#8e0152\"], [0.1, \"#c51b7d\"], [0.2, \"#de77ae\"], [0.3, \"#f1b6da\"], [0.4, \"#fde0ef\"], [0.5, \"#f7f7f7\"], [0.6, \"#e6f5d0\"], [0.7, \"#b8e186\"], [0.8, \"#7fbc41\"], [0.9, \"#4d9221\"], [1, \"#276419\"]], \"sequential\": [[0.0, \"#0d0887\"], [0.1111111111111111, \"#46039f\"], [0.2222222222222222, \"#7201a8\"], [0.3333333333333333, \"#9c179e\"], [0.4444444444444444, \"#bd3786\"], [0.5555555555555556, \"#d8576b\"], [0.6666666666666666, \"#ed7953\"], [0.7777777777777778, \"#fb9f3a\"], [0.8888888888888888, \"#fdca26\"], [1.0, \"#f0f921\"]], \"sequentialminus\": [[0.0, \"#0d0887\"], [0.1111111111111111, \"#46039f\"], [0.2222222222222222, \"#7201a8\"], [0.3333333333333333, \"#9c179e\"], [0.4444444444444444, \"#bd3786\"], [0.5555555555555556, \"#d8576b\"], [0.6666666666666666, \"#ed7953\"], [0.7777777777777778, \"#fb9f3a\"], [0.8888888888888888, \"#fdca26\"], [1.0, \"#f0f921\"]]}, \"colorway\": [\"#636efa\", \"#EF553B\", \"#00cc96\", \"#ab63fa\", \"#FFA15A\", \"#19d3f3\", \"#FF6692\", \"#B6E880\", \"#FF97FF\", \"#FECB52\"], \"font\": {\"color\": \"#2a3f5f\"}, \"geo\": {\"bgcolor\": \"white\", \"lakecolor\": \"white\", \"landcolor\": \"#E5ECF6\", \"showlakes\": true, \"showland\": true, \"subunitcolor\": \"white\"}, \"hoverlabel\": {\"align\": \"left\"}, \"hovermode\": \"closest\", \"mapbox\": {\"style\": \"light\"}, \"paper_bgcolor\": \"white\", \"plot_bgcolor\": \"#E5ECF6\", \"polar\": {\"angularaxis\": {\"gridcolor\": \"white\", \"linecolor\": \"white\", \"ticks\": \"\"}, \"bgcolor\": \"#E5ECF6\", \"radialaxis\": {\"gridcolor\": \"white\", \"linecolor\": \"white\", \"ticks\": \"\"}}, \"scene\": {\"xaxis\": {\"backgroundcolor\": \"#E5ECF6\", \"gridcolor\": \"white\", \"gridwidth\": 2, \"linecolor\": \"white\", \"showbackground\": true, \"ticks\": \"\", \"zerolinecolor\": \"white\"}, \"yaxis\": {\"backgroundcolor\": \"#E5ECF6\", \"gridcolor\": \"white\", \"gridwidth\": 2, \"linecolor\": \"white\", \"showbackground\": true, \"ticks\": \"\", \"zerolinecolor\": \"white\"}, \"zaxis\": {\"backgroundcolor\": \"#E5ECF6\", \"gridcolor\": \"white\", \"gridwidth\": 2, \"linecolor\": \"white\", \"showbackground\": true, \"ticks\": \"\", \"zerolinecolor\": \"white\"}}, \"shapedefaults\": {\"line\": {\"color\": \"#2a3f5f\"}}, \"ternary\": {\"aaxis\": {\"gridcolor\": \"white\", \"linecolor\": \"white\", \"ticks\": \"\"}, \"baxis\": {\"gridcolor\": \"white\", \"linecolor\": \"white\", \"ticks\": \"\"}, \"bgcolor\": \"#E5ECF6\", \"caxis\": {\"gridcolor\": \"white\", \"linecolor\": \"white\", \"ticks\": \"\"}}, \"title\": {\"x\": 0.05}, \"xaxis\": {\"automargin\": true, \"gridcolor\": \"white\", \"linecolor\": \"white\", \"ticks\": \"\", \"title\": {\"standoff\": 15}, \"zerolinecolor\": \"white\", \"zerolinewidth\": 2}, \"yaxis\": {\"automargin\": true, \"gridcolor\": \"white\", \"linecolor\": \"white\", \"ticks\": \"\", \"title\": {\"standoff\": 15}, \"zerolinecolor\": \"white\", \"zerolinewidth\": 2}}}},\n",
       "                        {\"responsive\": true}\n",
       "                    ).then(function(){\n",
       "                            \n",
       "var gd = document.getElementById('7124941d-fa74-427d-b87e-ef66cfa64205');\n",
       "var x = new MutationObserver(function (mutations, observer) {{\n",
       "        var display = window.getComputedStyle(gd).display;\n",
       "        if (!display || display === 'none') {{\n",
       "            console.log([gd, 'removed!']);\n",
       "            Plotly.purge(gd);\n",
       "            observer.disconnect();\n",
       "        }}\n",
       "}});\n",
       "\n",
       "// Listen for the removal of the full notebook cells\n",
       "var notebookContainer = gd.closest('#notebook-container');\n",
       "if (notebookContainer) {{\n",
       "    x.observe(notebookContainer, {childList: true});\n",
       "}}\n",
       "\n",
       "// Listen for the clearing of the current output cell\n",
       "var outputEl = gd.closest('.output');\n",
       "if (outputEl) {{\n",
       "    x.observe(outputEl, {childList: true});\n",
       "}}\n",
       "\n",
       "                        })\n",
       "                };\n",
       "                });\n",
       "            </script>\n",
       "        </div>"
      ]
     },
     "metadata": {},
     "output_type": "display_data"
    }
   ],
   "source": [
    "dec_lines = [\n",
    "    go.Scatter(name=\"Decision Boundary\", \n",
    "               x = [(0.5 - m.intercept_)/m.coef_[0]]*2, \n",
    "               y=[-0.5,1.5], mode=\"lines\",\n",
    "               line=dict(dash=\"dot\"))\n",
    "    for m in models]\n",
    "\n",
    "X_plt = np.linspace(np.min(X), np.max(X), 10)\n",
    "model_lines = [\n",
    "    go.Scatter(name=\"Least Squares \" + str(zero_one_loss(Y, m.predict(X) > 0.5)),\n",
    "               x=X_plt, y=m.predict(np.array([X_plt]).T), \n",
    "               mode=\"lines\")\n",
    "    for m in models]\n",
    "py.iplot([points] + model_lines + dec_lines)"
   ]
  },
  {
   "cell_type": "markdown",
   "metadata": {},
   "source": [
    "\n",
    "\n",
    "# Can we think of the line as a _\"probability\"_?\n",
    "\n",
    "\n",
    "Not really.  Probabilities are constrained between 0 and 1.   How could we learn a model that captures this probabilistic interpretation?"
   ]
  },
  {
   "cell_type": "markdown",
   "metadata": {},
   "source": [
    "\n",
    "\n",
    "# Could we just truncate the line?\n",
    "\n",
    "Maybe we can define the probability as:\n",
    "\n",
    "$$ \\large\n",
    "p_i = \\min\\left(\\max \\left( x^T \\theta , 0 \\right), 1\\right)\n",
    "$$\n",
    "\n",
    "this would look like:"
   ]
  },
  {
   "cell_type": "code",
   "execution_count": 18,
   "metadata": {
    "ExecuteTime": {
     "end_time": "2018-04-02T16:07:18.131948Z",
     "start_time": "2018-04-02T16:07:18.128385Z"
    }
   },
   "outputs": [],
   "source": [
    "def bound01(z):\n",
    "    u = np.where(z > 1, 1, z)\n",
    "    return np.where(u < 0, 0, u)"
   ]
  },
  {
   "cell_type": "code",
   "execution_count": 19,
   "metadata": {
    "ExecuteTime": {
     "end_time": "2018-04-02T16:07:18.155130Z",
     "start_time": "2018-04-02T16:07:18.134002Z"
    }
   },
   "outputs": [
    {
     "data": {
      "application/vnd.plotly.v1+json": {
       "config": {
        "linkText": "Export to plot.ly",
        "plotlyServerURL": "https://plot.ly",
        "showLink": false
       },
       "data": [
        {
         "marker": {
          "color": "red",
          "opacity": 0.5
         },
         "mode": "markers",
         "name": "Classified as Malignant",
         "type": "scatter",
         "x": [
          17.75,
          20.58,
          22.27,
          19.4,
          17.35,
          16.11,
          18.49,
          15.46,
          19.21,
          18.81,
          17.14,
          19.07,
          19.16,
          19.8,
          16.65,
          16.13,
          21.75,
          27.22,
          21.16,
          20.16,
          18.65,
          15.61,
          17.06,
          16.84,
          20.48,
          17.47,
          20.09,
          17.95,
          16.69,
          16.35,
          16.5,
          17.3,
          20.59,
          16.27,
          17.29,
          18.03,
          19.18,
          25.73,
          24.63,
          17.46,
          19.44,
          20.47,
          20.18,
          24.25,
          23.29,
          20.34,
          16.17,
          20.44,
          18.82,
          21.71,
          15.75,
          18.22,
          19.53,
          19.79,
          19.59,
          20.64,
          17.08,
          20.51,
          23.27,
          18.22,
          18.08,
          15.66,
          18.01,
          19,
          17.91,
          15.71,
          16.24,
          18.46,
          18.31,
          19.17,
          16.74,
          20.26,
          15.75,
          16.25,
          15.46,
          15.49,
          19.4,
          19.45,
          20.29,
          19.55,
          17.42,
          16.14,
          17.02,
          15.5,
          18.45,
          18.61,
          17.05,
          20.31,
          19.59,
          18.31,
          19.53,
          17.68,
          18.77,
          23.21,
          17.01,
          28.11,
          27.42,
          16.6,
          17.54,
          19.19,
          15.53,
          19.55,
          20.57,
          16.13,
          16.3,
          20.2,
          23.51,
          15.85,
          20.92,
          15.73,
          19.73,
          17.85,
          19.68,
          21.37,
          19.02,
          16.03,
          18.66
         ],
         "y": [
          1.0094194667364984,
          0.9901628986226871,
          0.9641860915918707,
          1.0345977623730036,
          1.0149904624944002,
          0.9647812263663453,
          0.9568853794205072,
          0.985479846321659,
          1.0013948778065107,
          0.9567758593978377,
          0.9867832934261276,
          1.0458898064469844,
          0.9772848514055266,
          1.0090863928126208,
          0.9727942148333304,
          0.9635979181115035,
          0.9846603075487779,
          0.9543429247369912,
          1.0342785708455695,
          1.0286251209552661,
          1.0277781604372345,
          0.9868598110267983,
          0.9548818297420045,
          0.040252570326578224,
          1.0136903310326981,
          1.039823245472742,
          1.0124193512020425,
          1.0223018251877054,
          0.9976618494993439,
          0.99537415845548,
          0.04755171106812425,
          0.9914412517984759,
          1.0308639460064897,
          1.0213399954317801,
          0.9858238957277004,
          1.041011564015852,
          1.0055894240318948,
          0.9771191235273176,
          1.0388621733091832,
          1.0028494325634043,
          0.9866401773927382,
          1.04547722476063,
          1.0313005952121308,
          0.9602171548143628,
          1.035972193856135,
          1.0159197688121666,
          -0.049411657288967195,
          0.9632597705387389,
          0.9801511973552168,
          0.9891251886260826,
          0.9874512874930694,
          1.011901783356336,
          1.0435100128329198,
          0.9555388226595991,
          1.0467239703893398,
          1.0317118022766045,
          1.002797181224056,
          1.0101981278998422,
          0.9616431754474726,
          1.0183662453839963,
          1.0468903318343832,
          0.9976268894734364,
          0.9801951580666397,
          0.9962270454480635,
          0.9681511070161823,
          -0.04938015268620919,
          1.0035550970205829,
          1.0422507001999484,
          1.0398209745683797,
          1.036858193011073,
          0.9686068838686221,
          0.9700513751570037,
          1.031147871827471,
          0.9951803367205685,
          1.0467841723922866,
          0.9964992416852052,
          0.9866568114347218,
          1.018367912543454,
          0.97658184563323,
          1.0495631869675488,
          0.9825994033407419,
          -0.0428799778506154,
          0.9764545626950569,
          1.0158196928073264,
          0.9540804898994468,
          0.9526077703869522,
          1.0340290490137596,
          1.0229434301636582,
          1.0096570638758622,
          1.018795766318713,
          1.0325931996525934,
          1.042638246740882,
          0.9559341012450404,
          1.030253365829157,
          1.0428191462566407,
          1.034844170183188,
          0.9606303291915872,
          1.0110762271227232,
          1.0469077151977106,
          0.9927914976448633,
          1.0087601593772892,
          1.0177110973085617,
          1.0241237826299932,
          1.0396515956756762,
          0.026418933019270535,
          0.9806371461800523,
          0.9683054514082445,
          0.968772409561381,
          1.048329404062847,
          0.018512800996131104,
          1.0494520602582218,
          -0.03864455327572056,
          0.9947969320725849,
          1.0485882936393756,
          1.0488879601366297,
          0.9965477559951632,
          0.9949183070400736
         ]
        },
        {
         "marker": {
          "color": "blue",
          "opacity": 0.5
         },
         "mode": "markers",
         "name": "Classified as Benign",
         "type": "scatter",
         "x": [
          12.89,
          13.4,
          12.96,
          15.28,
          13.78,
          15.1,
          12.34,
          8.196,
          13.45,
          11.32,
          7.76,
          14.86,
          11.13,
          9.72,
          9.606,
          10.08,
          12.56,
          15.13,
          10.48,
          12.78,
          14.74,
          9.904,
          13.82,
          12.89,
          13.74,
          13.37,
          14.69,
          12.91,
          13.62,
          15,
          11.8,
          14.53,
          13.71,
          11.36,
          8.726,
          13.71,
          14.47,
          13.54,
          12.85,
          12.47,
          12.46,
          10.86,
          11.37,
          13.49,
          9.567,
          11.06,
          14.61,
          7.691,
          13.69,
          11.46,
          12.06,
          13.15,
          13.61,
          10.26,
          9.333,
          11.06,
          10.66,
          11.84,
          10.51,
          12.67,
          11.08,
          11.04,
          12.43,
          14.71,
          14.87,
          12.87,
          9.465,
          13.16,
          10.91,
          12.25,
          12.75,
          14.58,
          12.27,
          12.16,
          14.27,
          15.06,
          12.99,
          13.27,
          13.87,
          13.87,
          13.59,
          12.45,
          8.95,
          13.65,
          11.47,
          14.42,
          14.68,
          12.05,
          9.683,
          10.97,
          11.42,
          12.54,
          14.34,
          14.58,
          11.76,
          12.83,
          13.03,
          13.21,
          8.671,
          11.87,
          12.76,
          14.86,
          12.65,
          11.31,
          11.94,
          14.96,
          11.6,
          12.34,
          9.731,
          11.27,
          14.02,
          10.51,
          9.876,
          11.57,
          12.31,
          13.66,
          10.32,
          12.21,
          12.21,
          12.87,
          12.18,
          12.04,
          10.05,
          14.25,
          11.28,
          8.618,
          12.63,
          12.54,
          11.76,
          13,
          10.6,
          11.62,
          14.99,
          11.89,
          9,
          9.042,
          11.8,
          13.9,
          14.95,
          13.46,
          14.5,
          12.18,
          12.9,
          9.787,
          12.2,
          11.85,
          11.41,
          13.2,
          12.45,
          11.95,
          13.85,
          15.19,
          11.06,
          15.05,
          11.14,
          12.94,
          13.24,
          13.05,
          13.85,
          13.3,
          12.72,
          12,
          14.26,
          12.81,
          9.405,
          10.94,
          8.597,
          8.219,
          10.57,
          13.2,
          12.39,
          11.71,
          14.04,
          11.22,
          11.93,
          11.41,
          12.72,
          10.57,
          13.27,
          9.397,
          14.76,
          11.51,
          12.58,
          9.847,
          9.676,
          12.36,
          11.63,
          14.8,
          13.17,
          14.97,
          14.78,
          11.3,
          14.92,
          10.9,
          15.3,
          12.32,
          11.43,
          11.68,
          11.16,
          14.53,
          13.56,
          11.34,
          13.64,
          13.64,
          14.59,
          9.668,
          13.01,
          10.95,
          8.571,
          9.876,
          8.878,
          12.8,
          12.22,
          10.96,
          14.9,
          13.61,
          10.44,
          12.88,
          9.436,
          13.43,
          11.6,
          12.95,
          13.86,
          8.598,
          13.17,
          13.59,
          12.03,
          12.23,
          11.49,
          13.66,
          11.26,
          12.7,
          8.734,
          14.95,
          14.25,
          12.77,
          15.1,
          12.77,
          13,
          14.11,
          11.71,
          12.68,
          13.73,
          13.44,
          11.08,
          11.71,
          12.46,
          11.89,
          12.27,
          13.85,
          11.94,
          11.26,
          13.77,
          11.69,
          11.5,
          14.05,
          13.38,
          10.49,
          11.66,
          10.71,
          13.7,
          11.99,
          13.28,
          10.2,
          11.93,
          14.22,
          14.2,
          13.05,
          13.11,
          12.07,
          11.45,
          15.12,
          10.8,
          12.62,
          15.37,
          10.26,
          12.42,
          12.49,
          13.88,
          9.742,
          10.8,
          12.88,
          9.268,
          13.75,
          12.3,
          12.83,
          11.74,
          13.05,
          10.88,
          9.504,
          11.54,
          9.755,
          11.75,
          11.33,
          12.77,
          14.6,
          14.99,
          13.5,
          12.19,
          14.42,
          13,
          14.19,
          13.14,
          13.08,
          8.888,
          11.64,
          14.29,
          13.98,
          12.18
         ],
         "y": [
          -0.03871093547748187,
          0.973031429228971,
          -0.00934966851589477,
          1.0441608886489846,
          0.021855440743051097,
          1.0256835403510236,
          0.04411841776214086,
          0.018358162891157798,
          -0.035203055351680446,
          0.003004227336489154,
          0.0018930355840096613,
          0.0007571147257982164,
          0.02946811211117742,
          -0.016514323798400614,
          0.03591590616334116,
          -0.003955947376397519,
          -0.00490857874956141,
          0.9845795974631375,
          0.03161473857812652,
          -0.010038857914597597,
          0.043895820793316484,
          0.04782015710149884,
          0.9862016703635523,
          -0.0163202071477404,
          0.03305638074075254,
          0.028850645290513094,
          -0.004947059404943485,
          0.0019138398355504904,
          0.039657438224984326,
          -0.0022866587434267824,
          0.0398544782333566,
          0.018770302853799062,
          -0.0028732790822296184,
          -0.04512015115945958,
          -0.0001744664047537703,
          1.0246418944426703,
          0.03813113604723671,
          0.003973083479412318,
          0.032987057619913565,
          0.043411493576620996,
          0.017852457973771385,
          0.04834658558212236,
          -0.038452337277676954,
          -0.02166213925599172,
          0.014344781964159031,
          -0.03491908923301226,
          -0.0061577681113100385,
          -0.02239209199472543,
          0.031045435404738628,
          0.037236410961093785,
          -0.01991255828202715,
          -0.019363033660789664,
          0.9989899681724259,
          0.02617188240180232,
          -0.020725693013268178,
          -0.03711855942089653,
          0.025848891247781336,
          1.0434171795479632,
          0.042387132228147634,
          -0.023219755273909584,
          -0.04366662722004227,
          0.025296328287969364,
          -0.032835606795666744,
          1.0323780919303303,
          0.02454367782883521,
          0.02231684821188966,
          -0.03650560317542925,
          -0.04744924910034143,
          0.011381982291514547,
          0.006775958803326487,
          0.012022099664300775,
          0.04457530658038593,
          -0.01217620033891241,
          0.026388329294176574,
          0.9572302027076605,
          0.9751125768912969,
          -0.003823744998534287,
          -0.0459015133880792,
          0.0015428782276932992,
          0.03896944957467023,
          -0.04274704963016197,
          0.9565617468637619,
          -0.01393730064095694,
          -0.02403701466457363,
          -0.01648328978275137,
          -0.024737976276531015,
          1.0005605570078775,
          0.030423775383865453,
          -0.009447363211218272,
          0.022485580214995,
          0.9638922654551665,
          -0.019641865261471127,
          -0.013231453319398026,
          1.018455751262698,
          0.014060041133791334,
          1.018625278622436,
          0.01063695741250796,
          -0.0328746389714903,
          -0.04316087103272834,
          0.035281798751820956,
          -0.041754893676943974,
          0.9502874501847034,
          -0.03581150194320404,
          0.001828355809236834,
          0.020972794061758074,
          0.04452878585434425,
          -0.013344731046680568,
          0.9831236097908449,
          -0.04079276299340898,
          -0.009371147779787224,
          -0.04002711705598741,
          0.04048793707367039,
          -0.02246966610468104,
          -0.04330392384469931,
          0.0117144224348021,
          -0.009084085195117518,
          -0.0005068192839755362,
          0.0368783138172314,
          -0.014103773879070636,
          0.0012551561384695625,
          0.012159040510335464,
          -0.029391036565180363,
          0.018293989692739224,
          1.0414381059391788,
          -0.0014558792732840692,
          -0.02915908693153555,
          0.048005807005620835,
          -0.02385336884854924,
          0.9799013675746944,
          -0.03518137527740278,
          0.03918265641403494,
          0.022694889252465128,
          0.9593984881730717,
          0.049564183279137114,
          -0.033497312164887806,
          0.030889153609816783,
          0.9992121798374538,
          -0.03759719002426825,
          -0.0310119092206672,
          0.008971595428562754,
          -0.009826460901817977,
          0.011779711621280574,
          -0.025350029836085808,
          0.005974468275795716,
          -0.010702457944718066,
          -0.03710052884944054,
          0.040853238650529894,
          -0.04418085169188435,
          0.031364386473498956,
          -0.02360696766076975,
          0.040021947824546364,
          0.012844326027343145,
          -0.0315226085549347,
          1.0119051181450223,
          0.04914916651938428,
          -0.04221696118239128,
          -0.006061154622520083,
          0.030171761019026744,
          -0.02647506245311756,
          0.03241890307033879,
          -0.011136589847934565,
          -0.03675546415733715,
          -0.003483506738546839,
          0.012407501973565792,
          0.013552841325877446,
          -0.0014722739548642533,
          -0.03636526758891409,
          -0.040337854732963266,
          -0.00683165764658137,
          -0.04052204880537818,
          -0.03445666373706863,
          -0.03550618021597921,
          -0.02973355755787942,
          -0.012348521328653196,
          0.03545615642790405,
          -0.002409481558125516,
          -0.04978672384319534,
          -0.041298154866718555,
          -0.0067088393433722415,
          -0.011129634262976675,
          -0.0279310649850977,
          -0.03247130721997976,
          0.011132885778986266,
          -0.006353416003641407,
          -0.01814625503340707,
          0.031942638912264995,
          -0.02975166987181165,
          0.036562360373661215,
          1.045941655210299,
          -0.047621839165901486,
          1.0192040455790916,
          -0.03275215983303077,
          0.004056987264667744,
          -0.04912456199502111,
          0.9575806137637812,
          0.01232266984717445,
          -0.04296782705688937,
          -0.014899803253738651,
          -0.03734761991204547,
          0.027564033840471472,
          0.03462569211890086,
          -0.03869075600055255,
          0.04684376396097055,
          -0.04005702793560665,
          0.02348236725684373,
          0.030053130958929086,
          0.048168857463242606,
          0.9870787502212472,
          -0.004684299615640174,
          0.013970861182312971,
          0.038636748295766604,
          -0.049217053911213685,
          0.030795711535592504,
          0.01711355960278041,
          0.9714342598960399,
          0.9684471350743986,
          0.018625906456968627,
          0.009540508321407126,
          0.03745811247869392,
          0.995700848011404,
          0.024035055917471237,
          0.04692438368729229,
          1.0136174765738921,
          0.04876559823737614,
          1.0332231257773292,
          0.036809185903994054,
          -0.016051162011777767,
          0.005524969571305827,
          -0.0021156727230152925,
          -0.045615566319318214,
          -0.04315628628666231,
          0.0009856004013992017,
          0.008297731601376701,
          1.048314161177343,
          0.9911582383526831,
          1.030886567248165,
          0.025532296619881698,
          -0.018018131958510007,
          0.9930740971748351,
          -0.0023470912820527934,
          -0.041061025444645606,
          0.9646643363990608,
          1.045749073357709,
          1.0151282837268494,
          0.9595633252828784,
          -0.004360703143357271,
          -0.009713921996992815,
          0.009976838735439052,
          0.021660493103344614,
          -0.029191890041058932,
          -0.011537605951996842,
          -0.0031827765541955558,
          0.045491066219216475,
          0.0035371901747344864,
          0.0035012041243812284,
          -0.009448051537956234,
          -0.03938988489375114,
          0.02625725396280705,
          -0.03040225848763153,
          0.04958215355087078,
          -0.04217440541074396,
          -0.0076064341374179265,
          1.0209089948990635,
          -0.04014204235969187,
          -0.029132907419734313,
          1.0246169444318465,
          -0.02250886206816004,
          -0.022777379062545,
          1.0321852534464766,
          -0.00877396547712802,
          0.018044691580561628,
          0.9736196888949125,
          -0.043228101960445256,
          0.007116476838568621,
          0.971250642902612,
          -0.04792621264753031,
          -0.00014995698997468526,
          0.008725179855181432,
          -0.006076760445276622,
          0.02084136573065061,
          -0.024953968003849514,
          0.03705234944455228,
          -0.0038087754473107097,
          0.046132897584035285,
          0.03589103407703881,
          0.04728440618260378,
          -0.0005564637810501205,
          -0.01865812552752149,
          0.026645429835105067,
          -0.03508655961006825,
          -0.007445295327378934,
          -0.03269515911503737,
          0.03545773960904387,
          0.01272210435518914,
          -0.006827217303338462,
          0.9762416597848886,
          -0.02832173672865397,
          -0.04083208903125188,
          -0.005360986278259414,
          1.0439183659046907,
          0.017620236159464175,
          1.0312054728722237,
          0.049013521294840864,
          0.03984862530957495,
          0.025456282571598876,
          -0.02681268806722653,
          -0.03069418115450391,
          1.0417543241556724,
          0.03398181642802821
         ]
        },
        {
         "line": {
          "color": "orange"
         },
         "mode": "lines",
         "name": "Least Squares",
         "type": "scatter",
         "x": [
          7.691,
          9.959777777777777,
          12.228555555555555,
          14.497333333333334,
          16.766111111111112,
          19.03488888888889,
          21.303666666666665,
          23.572444444444443,
          25.84122222222222,
          28.11
         ],
         "y": [
          -0.25713148661059004,
          -0.035595395448855816,
          0.1859406957128784,
          0.40747678687461275,
          0.6290128780363471,
          0.8505489691980814,
          1.0720850603598153,
          1.2936211515215499,
          1.515157242683284,
          1.7366933338450186
         ]
        },
        {
         "line": {
          "color": "green",
          "width": 8
         },
         "mode": "lines",
         "name": "Truncated Least Squares",
         "type": "scatter",
         "x": [
          7.691,
          7.897252525252525,
          8.103505050505051,
          8.309757575757576,
          8.516010101010101,
          8.722262626262626,
          8.928515151515152,
          9.134767676767677,
          9.341020202020202,
          9.547272727272727,
          9.753525252525252,
          9.959777777777777,
          10.166030303030304,
          10.372282828282827,
          10.578535353535354,
          10.78478787878788,
          10.991040404040405,
          11.19729292929293,
          11.403545454545455,
          11.60979797979798,
          11.816050505050505,
          12.02230303030303,
          12.228555555555555,
          12.434808080808082,
          12.641060606060606,
          12.847313131313133,
          13.053565656565656,
          13.259818181818183,
          13.466070707070706,
          13.672323232323233,
          13.878575757575758,
          14.084828282828283,
          14.291080808080808,
          14.497333333333334,
          14.703585858585859,
          14.909838383838384,
          15.11609090909091,
          15.322343434343434,
          15.528595959595961,
          15.734848484848484,
          15.941101010101011,
          16.147353535353535,
          16.35360606060606,
          16.559858585858585,
          16.766111111111112,
          16.97236363636364,
          17.178616161616162,
          17.38486868686869,
          17.591121212121212,
          17.79737373737374,
          18.003626262626263,
          18.20987878787879,
          18.416131313131313,
          18.62238383838384,
          18.828636363636363,
          19.03488888888889,
          19.241141414141413,
          19.44739393939394,
          19.653646464646467,
          19.85989898989899,
          20.066151515151518,
          20.27240404040404,
          20.478656565656568,
          20.68490909090909,
          20.891161616161618,
          21.09741414141414,
          21.30366666666667,
          21.50991919191919,
          21.71617171717172,
          21.922424242424242,
          22.12867676767677,
          22.334929292929296,
          22.54118181818182,
          22.747434343434346,
          22.95368686868687,
          23.159939393939396,
          23.36619191919192,
          23.572444444444447,
          23.77869696969697,
          23.984949494949497,
          24.19120202020202,
          24.397454545454547,
          24.60370707070707,
          24.809959595959597,
          25.01621212121212,
          25.222464646464648,
          25.42871717171717,
          25.634969696969698,
          25.84122222222222,
          26.047474747474748,
          26.253727272727275,
          26.4599797979798,
          26.666232323232325,
          26.87248484848485,
          27.078737373737376,
          27.2849898989899,
          27.491242424242426,
          27.69749494949495,
          27.903747474747476,
          28.11
         ],
         "y": [
          0,
          0,
          0,
          0,
          0,
          0,
          0,
          0,
          0,
          0,
          0,
          0,
          0,
          0.00468389385327761,
          0.02482353850434449,
          0.04496318315541137,
          0.06510282780647803,
          0.08524247245754468,
          0.10538211710861156,
          0.12552176175967822,
          0.1456614064107451,
          0.16580105106181176,
          0.1859406957128784,
          0.2060803403639455,
          0.22621998501501195,
          0.24635962966607883,
          0.2664992743171455,
          0.28663891896821236,
          0.306778563619279,
          0.3269182082703459,
          0.34705785292141256,
          0.36719749757247944,
          0.3873371422235461,
          0.40747678687461275,
          0.42761643152567963,
          0.4477560761767463,
          0.46789572082781317,
          0.4880353654788798,
          0.5081750101299467,
          0.5283146547810134,
          0.5484542994320802,
          0.5685939440831467,
          0.5887335887342138,
          0.6088732333852802,
          0.6290128780363471,
          0.6491525226874142,
          0.6692921673384806,
          0.6894318119895475,
          0.7095714566406142,
          0.729711101291681,
          0.7498507459427477,
          0.7699903905938146,
          0.790130035244881,
          0.8102696798959481,
          0.8304093245470145,
          0.8505489691980814,
          0.8706886138491481,
          0.890828258500215,
          0.9109679031512818,
          0.9311075478023485,
          0.9512471924534154,
          0.971386837104482,
          0.9915264817555489,
          1,
          1,
          1,
          1,
          1,
          1,
          1,
          1,
          1,
          1,
          1,
          1,
          1,
          1,
          1,
          1,
          1,
          1,
          1,
          1,
          1,
          1,
          1,
          1,
          1,
          1,
          1,
          1,
          1,
          1,
          1,
          1,
          1,
          1,
          1,
          1,
          1
         ]
        },
        {
         "line": {
          "color": "black",
          "dash": "dot"
         },
         "mode": "lines",
         "name": "Least Squares Decision Boundary",
         "type": "scatter",
         "x": [
          15.44487469675942,
          15.44487469675942
         ],
         "y": [
          -0.5,
          1.5
         ]
        }
       ],
       "layout": {
        "template": {
         "data": {
          "bar": [
           {
            "error_x": {
             "color": "#2a3f5f"
            },
            "error_y": {
             "color": "#2a3f5f"
            },
            "marker": {
             "line": {
              "color": "#E5ECF6",
              "width": 0.5
             }
            },
            "type": "bar"
           }
          ],
          "barpolar": [
           {
            "marker": {
             "line": {
              "color": "#E5ECF6",
              "width": 0.5
             }
            },
            "type": "barpolar"
           }
          ],
          "carpet": [
           {
            "aaxis": {
             "endlinecolor": "#2a3f5f",
             "gridcolor": "white",
             "linecolor": "white",
             "minorgridcolor": "white",
             "startlinecolor": "#2a3f5f"
            },
            "baxis": {
             "endlinecolor": "#2a3f5f",
             "gridcolor": "white",
             "linecolor": "white",
             "minorgridcolor": "white",
             "startlinecolor": "#2a3f5f"
            },
            "type": "carpet"
           }
          ],
          "choropleth": [
           {
            "colorbar": {
             "outlinewidth": 0,
             "ticks": ""
            },
            "type": "choropleth"
           }
          ],
          "contour": [
           {
            "colorbar": {
             "outlinewidth": 0,
             "ticks": ""
            },
            "colorscale": [
             [
              0,
              "#0d0887"
             ],
             [
              0.1111111111111111,
              "#46039f"
             ],
             [
              0.2222222222222222,
              "#7201a8"
             ],
             [
              0.3333333333333333,
              "#9c179e"
             ],
             [
              0.4444444444444444,
              "#bd3786"
             ],
             [
              0.5555555555555556,
              "#d8576b"
             ],
             [
              0.6666666666666666,
              "#ed7953"
             ],
             [
              0.7777777777777778,
              "#fb9f3a"
             ],
             [
              0.8888888888888888,
              "#fdca26"
             ],
             [
              1,
              "#f0f921"
             ]
            ],
            "type": "contour"
           }
          ],
          "contourcarpet": [
           {
            "colorbar": {
             "outlinewidth": 0,
             "ticks": ""
            },
            "type": "contourcarpet"
           }
          ],
          "heatmap": [
           {
            "colorbar": {
             "outlinewidth": 0,
             "ticks": ""
            },
            "colorscale": [
             [
              0,
              "#0d0887"
             ],
             [
              0.1111111111111111,
              "#46039f"
             ],
             [
              0.2222222222222222,
              "#7201a8"
             ],
             [
              0.3333333333333333,
              "#9c179e"
             ],
             [
              0.4444444444444444,
              "#bd3786"
             ],
             [
              0.5555555555555556,
              "#d8576b"
             ],
             [
              0.6666666666666666,
              "#ed7953"
             ],
             [
              0.7777777777777778,
              "#fb9f3a"
             ],
             [
              0.8888888888888888,
              "#fdca26"
             ],
             [
              1,
              "#f0f921"
             ]
            ],
            "type": "heatmap"
           }
          ],
          "heatmapgl": [
           {
            "colorbar": {
             "outlinewidth": 0,
             "ticks": ""
            },
            "colorscale": [
             [
              0,
              "#0d0887"
             ],
             [
              0.1111111111111111,
              "#46039f"
             ],
             [
              0.2222222222222222,
              "#7201a8"
             ],
             [
              0.3333333333333333,
              "#9c179e"
             ],
             [
              0.4444444444444444,
              "#bd3786"
             ],
             [
              0.5555555555555556,
              "#d8576b"
             ],
             [
              0.6666666666666666,
              "#ed7953"
             ],
             [
              0.7777777777777778,
              "#fb9f3a"
             ],
             [
              0.8888888888888888,
              "#fdca26"
             ],
             [
              1,
              "#f0f921"
             ]
            ],
            "type": "heatmapgl"
           }
          ],
          "histogram": [
           {
            "marker": {
             "colorbar": {
              "outlinewidth": 0,
              "ticks": ""
             }
            },
            "type": "histogram"
           }
          ],
          "histogram2d": [
           {
            "colorbar": {
             "outlinewidth": 0,
             "ticks": ""
            },
            "colorscale": [
             [
              0,
              "#0d0887"
             ],
             [
              0.1111111111111111,
              "#46039f"
             ],
             [
              0.2222222222222222,
              "#7201a8"
             ],
             [
              0.3333333333333333,
              "#9c179e"
             ],
             [
              0.4444444444444444,
              "#bd3786"
             ],
             [
              0.5555555555555556,
              "#d8576b"
             ],
             [
              0.6666666666666666,
              "#ed7953"
             ],
             [
              0.7777777777777778,
              "#fb9f3a"
             ],
             [
              0.8888888888888888,
              "#fdca26"
             ],
             [
              1,
              "#f0f921"
             ]
            ],
            "type": "histogram2d"
           }
          ],
          "histogram2dcontour": [
           {
            "colorbar": {
             "outlinewidth": 0,
             "ticks": ""
            },
            "colorscale": [
             [
              0,
              "#0d0887"
             ],
             [
              0.1111111111111111,
              "#46039f"
             ],
             [
              0.2222222222222222,
              "#7201a8"
             ],
             [
              0.3333333333333333,
              "#9c179e"
             ],
             [
              0.4444444444444444,
              "#bd3786"
             ],
             [
              0.5555555555555556,
              "#d8576b"
             ],
             [
              0.6666666666666666,
              "#ed7953"
             ],
             [
              0.7777777777777778,
              "#fb9f3a"
             ],
             [
              0.8888888888888888,
              "#fdca26"
             ],
             [
              1,
              "#f0f921"
             ]
            ],
            "type": "histogram2dcontour"
           }
          ],
          "mesh3d": [
           {
            "colorbar": {
             "outlinewidth": 0,
             "ticks": ""
            },
            "type": "mesh3d"
           }
          ],
          "parcoords": [
           {
            "line": {
             "colorbar": {
              "outlinewidth": 0,
              "ticks": ""
             }
            },
            "type": "parcoords"
           }
          ],
          "pie": [
           {
            "automargin": true,
            "type": "pie"
           }
          ],
          "scatter": [
           {
            "marker": {
             "colorbar": {
              "outlinewidth": 0,
              "ticks": ""
             }
            },
            "type": "scatter"
           }
          ],
          "scatter3d": [
           {
            "line": {
             "colorbar": {
              "outlinewidth": 0,
              "ticks": ""
             }
            },
            "marker": {
             "colorbar": {
              "outlinewidth": 0,
              "ticks": ""
             }
            },
            "type": "scatter3d"
           }
          ],
          "scattercarpet": [
           {
            "marker": {
             "colorbar": {
              "outlinewidth": 0,
              "ticks": ""
             }
            },
            "type": "scattercarpet"
           }
          ],
          "scattergeo": [
           {
            "marker": {
             "colorbar": {
              "outlinewidth": 0,
              "ticks": ""
             }
            },
            "type": "scattergeo"
           }
          ],
          "scattergl": [
           {
            "marker": {
             "colorbar": {
              "outlinewidth": 0,
              "ticks": ""
             }
            },
            "type": "scattergl"
           }
          ],
          "scattermapbox": [
           {
            "marker": {
             "colorbar": {
              "outlinewidth": 0,
              "ticks": ""
             }
            },
            "type": "scattermapbox"
           }
          ],
          "scatterpolar": [
           {
            "marker": {
             "colorbar": {
              "outlinewidth": 0,
              "ticks": ""
             }
            },
            "type": "scatterpolar"
           }
          ],
          "scatterpolargl": [
           {
            "marker": {
             "colorbar": {
              "outlinewidth": 0,
              "ticks": ""
             }
            },
            "type": "scatterpolargl"
           }
          ],
          "scatterternary": [
           {
            "marker": {
             "colorbar": {
              "outlinewidth": 0,
              "ticks": ""
             }
            },
            "type": "scatterternary"
           }
          ],
          "surface": [
           {
            "colorbar": {
             "outlinewidth": 0,
             "ticks": ""
            },
            "colorscale": [
             [
              0,
              "#0d0887"
             ],
             [
              0.1111111111111111,
              "#46039f"
             ],
             [
              0.2222222222222222,
              "#7201a8"
             ],
             [
              0.3333333333333333,
              "#9c179e"
             ],
             [
              0.4444444444444444,
              "#bd3786"
             ],
             [
              0.5555555555555556,
              "#d8576b"
             ],
             [
              0.6666666666666666,
              "#ed7953"
             ],
             [
              0.7777777777777778,
              "#fb9f3a"
             ],
             [
              0.8888888888888888,
              "#fdca26"
             ],
             [
              1,
              "#f0f921"
             ]
            ],
            "type": "surface"
           }
          ],
          "table": [
           {
            "cells": {
             "fill": {
              "color": "#EBF0F8"
             },
             "line": {
              "color": "white"
             }
            },
            "header": {
             "fill": {
              "color": "#C8D4E3"
             },
             "line": {
              "color": "white"
             }
            },
            "type": "table"
           }
          ]
         },
         "layout": {
          "annotationdefaults": {
           "arrowcolor": "#2a3f5f",
           "arrowhead": 0,
           "arrowwidth": 1
          },
          "coloraxis": {
           "colorbar": {
            "outlinewidth": 0,
            "ticks": ""
           }
          },
          "colorscale": {
           "diverging": [
            [
             0,
             "#8e0152"
            ],
            [
             0.1,
             "#c51b7d"
            ],
            [
             0.2,
             "#de77ae"
            ],
            [
             0.3,
             "#f1b6da"
            ],
            [
             0.4,
             "#fde0ef"
            ],
            [
             0.5,
             "#f7f7f7"
            ],
            [
             0.6,
             "#e6f5d0"
            ],
            [
             0.7,
             "#b8e186"
            ],
            [
             0.8,
             "#7fbc41"
            ],
            [
             0.9,
             "#4d9221"
            ],
            [
             1,
             "#276419"
            ]
           ],
           "sequential": [
            [
             0,
             "#0d0887"
            ],
            [
             0.1111111111111111,
             "#46039f"
            ],
            [
             0.2222222222222222,
             "#7201a8"
            ],
            [
             0.3333333333333333,
             "#9c179e"
            ],
            [
             0.4444444444444444,
             "#bd3786"
            ],
            [
             0.5555555555555556,
             "#d8576b"
            ],
            [
             0.6666666666666666,
             "#ed7953"
            ],
            [
             0.7777777777777778,
             "#fb9f3a"
            ],
            [
             0.8888888888888888,
             "#fdca26"
            ],
            [
             1,
             "#f0f921"
            ]
           ],
           "sequentialminus": [
            [
             0,
             "#0d0887"
            ],
            [
             0.1111111111111111,
             "#46039f"
            ],
            [
             0.2222222222222222,
             "#7201a8"
            ],
            [
             0.3333333333333333,
             "#9c179e"
            ],
            [
             0.4444444444444444,
             "#bd3786"
            ],
            [
             0.5555555555555556,
             "#d8576b"
            ],
            [
             0.6666666666666666,
             "#ed7953"
            ],
            [
             0.7777777777777778,
             "#fb9f3a"
            ],
            [
             0.8888888888888888,
             "#fdca26"
            ],
            [
             1,
             "#f0f921"
            ]
           ]
          },
          "colorway": [
           "#636efa",
           "#EF553B",
           "#00cc96",
           "#ab63fa",
           "#FFA15A",
           "#19d3f3",
           "#FF6692",
           "#B6E880",
           "#FF97FF",
           "#FECB52"
          ],
          "font": {
           "color": "#2a3f5f"
          },
          "geo": {
           "bgcolor": "white",
           "lakecolor": "white",
           "landcolor": "#E5ECF6",
           "showlakes": true,
           "showland": true,
           "subunitcolor": "white"
          },
          "hoverlabel": {
           "align": "left"
          },
          "hovermode": "closest",
          "mapbox": {
           "style": "light"
          },
          "paper_bgcolor": "white",
          "plot_bgcolor": "#E5ECF6",
          "polar": {
           "angularaxis": {
            "gridcolor": "white",
            "linecolor": "white",
            "ticks": ""
           },
           "bgcolor": "#E5ECF6",
           "radialaxis": {
            "gridcolor": "white",
            "linecolor": "white",
            "ticks": ""
           }
          },
          "scene": {
           "xaxis": {
            "backgroundcolor": "#E5ECF6",
            "gridcolor": "white",
            "gridwidth": 2,
            "linecolor": "white",
            "showbackground": true,
            "ticks": "",
            "zerolinecolor": "white"
           },
           "yaxis": {
            "backgroundcolor": "#E5ECF6",
            "gridcolor": "white",
            "gridwidth": 2,
            "linecolor": "white",
            "showbackground": true,
            "ticks": "",
            "zerolinecolor": "white"
           },
           "zaxis": {
            "backgroundcolor": "#E5ECF6",
            "gridcolor": "white",
            "gridwidth": 2,
            "linecolor": "white",
            "showbackground": true,
            "ticks": "",
            "zerolinecolor": "white"
           }
          },
          "shapedefaults": {
           "line": {
            "color": "#2a3f5f"
           }
          },
          "ternary": {
           "aaxis": {
            "gridcolor": "white",
            "linecolor": "white",
            "ticks": ""
           },
           "baxis": {
            "gridcolor": "white",
            "linecolor": "white",
            "ticks": ""
           },
           "bgcolor": "#E5ECF6",
           "caxis": {
            "gridcolor": "white",
            "linecolor": "white",
            "ticks": ""
           }
          },
          "title": {
           "x": 0.05
          },
          "xaxis": {
           "automargin": true,
           "gridcolor": "white",
           "linecolor": "white",
           "ticks": "",
           "title": {
            "standoff": 15
           },
           "zerolinecolor": "white",
           "zerolinewidth": 2
          },
          "yaxis": {
           "automargin": true,
           "gridcolor": "white",
           "linecolor": "white",
           "ticks": "",
           "title": {
            "standoff": 15
           },
           "zerolinecolor": "white",
           "zerolinewidth": 2
          }
         }
        }
       }
      },
      "text/html": [
       "<div>\n",
       "        \n",
       "        \n",
       "            <div id=\"76c47272-f18d-4924-95b6-9c363fb52105\" class=\"plotly-graph-div\" style=\"height:525px; width:100%;\"></div>\n",
       "            <script type=\"text/javascript\">\n",
       "                require([\"plotly\"], function(Plotly) {\n",
       "                    window.PLOTLYENV=window.PLOTLYENV || {};\n",
       "                    \n",
       "                if (document.getElementById(\"76c47272-f18d-4924-95b6-9c363fb52105\")) {\n",
       "                    Plotly.newPlot(\n",
       "                        '76c47272-f18d-4924-95b6-9c363fb52105',\n",
       "                        [{\"marker\": {\"color\": \"red\", \"opacity\": 0.5}, \"mode\": \"markers\", \"name\": \"Classified as Malignant\", \"type\": \"scatter\", \"x\": [17.75, 20.58, 22.27, 19.4, 17.35, 16.11, 18.49, 15.46, 19.21, 18.81, 17.14, 19.07, 19.16, 19.8, 16.65, 16.13, 21.75, 27.22, 21.16, 20.16, 18.65, 15.61, 17.06, 16.84, 20.48, 17.47, 20.09, 17.95, 16.69, 16.35, 16.5, 17.3, 20.59, 16.27, 17.29, 18.03, 19.18, 25.73, 24.63, 17.46, 19.44, 20.47, 20.18, 24.25, 23.29, 20.34, 16.17, 20.44, 18.82, 21.71, 15.75, 18.22, 19.53, 19.79, 19.59, 20.64, 17.08, 20.51, 23.27, 18.22, 18.08, 15.66, 18.01, 19.0, 17.91, 15.71, 16.24, 18.46, 18.31, 19.17, 16.74, 20.26, 15.75, 16.25, 15.46, 15.49, 19.4, 19.45, 20.29, 19.55, 17.42, 16.14, 17.02, 15.5, 18.45, 18.61, 17.05, 20.31, 19.59, 18.31, 19.53, 17.68, 18.77, 23.21, 17.01, 28.11, 27.42, 16.6, 17.54, 19.19, 15.53, 19.55, 20.57, 16.13, 16.3, 20.2, 23.51, 15.85, 20.92, 15.73, 19.73, 17.85, 19.68, 21.37, 19.02, 16.03, 18.66], \"y\": [1.0094194667364984, 0.9901628986226871, 0.9641860915918707, 1.0345977623730036, 1.0149904624944002, 0.9647812263663453, 0.9568853794205072, 0.985479846321659, 1.0013948778065107, 0.9567758593978377, 0.9867832934261276, 1.0458898064469844, 0.9772848514055266, 1.0090863928126208, 0.9727942148333304, 0.9635979181115035, 0.9846603075487779, 0.9543429247369912, 1.0342785708455695, 1.0286251209552661, 1.0277781604372345, 0.9868598110267983, 0.9548818297420045, 0.040252570326578224, 1.0136903310326981, 1.039823245472742, 1.0124193512020425, 1.0223018251877054, 0.9976618494993439, 0.99537415845548, 0.04755171106812425, 0.9914412517984759, 1.0308639460064897, 1.0213399954317801, 0.9858238957277004, 1.041011564015852, 1.0055894240318948, 0.9771191235273176, 1.0388621733091832, 1.0028494325634043, 0.9866401773927382, 1.04547722476063, 1.0313005952121308, 0.9602171548143628, 1.035972193856135, 1.0159197688121666, -0.049411657288967195, 0.9632597705387389, 0.9801511973552168, 0.9891251886260826, 0.9874512874930694, 1.011901783356336, 1.0435100128329198, 0.9555388226595991, 1.0467239703893398, 1.0317118022766045, 1.002797181224056, 1.0101981278998422, 0.9616431754474726, 1.0183662453839963, 1.0468903318343832, 0.9976268894734364, 0.9801951580666397, 0.9962270454480635, 0.9681511070161823, -0.04938015268620919, 1.0035550970205829, 1.0422507001999484, 1.0398209745683797, 1.036858193011073, 0.9686068838686221, 0.9700513751570037, 1.031147871827471, 0.9951803367205685, 1.0467841723922866, 0.9964992416852052, 0.9866568114347218, 1.018367912543454, 0.97658184563323, 1.0495631869675488, 0.9825994033407419, -0.0428799778506154, 0.9764545626950569, 1.0158196928073264, 0.9540804898994468, 0.9526077703869522, 1.0340290490137596, 1.0229434301636582, 1.0096570638758622, 1.018795766318713, 1.0325931996525934, 1.042638246740882, 0.9559341012450404, 1.030253365829157, 1.0428191462566407, 1.034844170183188, 0.9606303291915872, 1.0110762271227232, 1.0469077151977106, 0.9927914976448633, 1.0087601593772892, 1.0177110973085617, 1.0241237826299932, 1.0396515956756762, 0.026418933019270535, 0.9806371461800523, 0.9683054514082445, 0.968772409561381, 1.048329404062847, 0.018512800996131104, 1.0494520602582218, -0.03864455327572056, 0.9947969320725849, 1.0485882936393756, 1.0488879601366297, 0.9965477559951632, 0.9949183070400736]}, {\"marker\": {\"color\": \"blue\", \"opacity\": 0.5}, \"mode\": \"markers\", \"name\": \"Classified as Benign\", \"type\": \"scatter\", \"x\": [12.89, 13.4, 12.96, 15.28, 13.78, 15.1, 12.34, 8.196, 13.45, 11.32, 7.76, 14.86, 11.13, 9.72, 9.606, 10.08, 12.56, 15.13, 10.48, 12.78, 14.74, 9.904, 13.82, 12.89, 13.74, 13.37, 14.69, 12.91, 13.62, 15.0, 11.8, 14.53, 13.71, 11.36, 8.726, 13.71, 14.47, 13.54, 12.85, 12.47, 12.46, 10.86, 11.37, 13.49, 9.567, 11.06, 14.61, 7.691, 13.69, 11.46, 12.06, 13.15, 13.61, 10.26, 9.333, 11.06, 10.66, 11.84, 10.51, 12.67, 11.08, 11.04, 12.43, 14.71, 14.87, 12.87, 9.465, 13.16, 10.91, 12.25, 12.75, 14.58, 12.27, 12.16, 14.27, 15.06, 12.99, 13.27, 13.87, 13.87, 13.59, 12.45, 8.95, 13.65, 11.47, 14.42, 14.68, 12.05, 9.683, 10.97, 11.42, 12.54, 14.34, 14.58, 11.76, 12.83, 13.03, 13.21, 8.671, 11.87, 12.76, 14.86, 12.65, 11.31, 11.94, 14.96, 11.6, 12.34, 9.731, 11.27, 14.02, 10.51, 9.876, 11.57, 12.31, 13.66, 10.32, 12.21, 12.21, 12.87, 12.18, 12.04, 10.05, 14.25, 11.28, 8.618, 12.63, 12.54, 11.76, 13.0, 10.6, 11.62, 14.99, 11.89, 9.0, 9.042, 11.8, 13.9, 14.95, 13.46, 14.5, 12.18, 12.9, 9.787, 12.2, 11.85, 11.41, 13.2, 12.45, 11.95, 13.85, 15.19, 11.06, 15.05, 11.14, 12.94, 13.24, 13.05, 13.85, 13.3, 12.72, 12.0, 14.26, 12.81, 9.405, 10.94, 8.597, 8.219, 10.57, 13.2, 12.39, 11.71, 14.04, 11.22, 11.93, 11.41, 12.72, 10.57, 13.27, 9.397, 14.76, 11.51, 12.58, 9.847, 9.676, 12.36, 11.63, 14.8, 13.17, 14.97, 14.78, 11.3, 14.92, 10.9, 15.3, 12.32, 11.43, 11.68, 11.16, 14.53, 13.56, 11.34, 13.64, 13.64, 14.59, 9.668, 13.01, 10.95, 8.571, 9.876, 8.878, 12.8, 12.22, 10.96, 14.9, 13.61, 10.44, 12.88, 9.436, 13.43, 11.6, 12.95, 13.86, 8.598, 13.17, 13.59, 12.03, 12.23, 11.49, 13.66, 11.26, 12.7, 8.734, 14.95, 14.25, 12.77, 15.1, 12.77, 13.0, 14.11, 11.71, 12.68, 13.73, 13.44, 11.08, 11.71, 12.46, 11.89, 12.27, 13.85, 11.94, 11.26, 13.77, 11.69, 11.5, 14.05, 13.38, 10.49, 11.66, 10.71, 13.7, 11.99, 13.28, 10.2, 11.93, 14.22, 14.2, 13.05, 13.11, 12.07, 11.45, 15.12, 10.8, 12.62, 15.37, 10.26, 12.42, 12.49, 13.88, 9.742, 10.8, 12.88, 9.268, 13.75, 12.3, 12.83, 11.74, 13.05, 10.88, 9.504, 11.54, 9.755, 11.75, 11.33, 12.77, 14.6, 14.99, 13.5, 12.19, 14.42, 13.0, 14.19, 13.14, 13.08, 8.888, 11.64, 14.29, 13.98, 12.18], \"y\": [-0.03871093547748187, 0.973031429228971, -0.00934966851589477, 1.0441608886489846, 0.021855440743051097, 1.0256835403510236, 0.04411841776214086, 0.018358162891157798, -0.035203055351680446, 0.003004227336489154, 0.0018930355840096613, 0.0007571147257982164, 0.02946811211117742, -0.016514323798400614, 0.03591590616334116, -0.003955947376397519, -0.00490857874956141, 0.9845795974631375, 0.03161473857812652, -0.010038857914597597, 0.043895820793316484, 0.04782015710149884, 0.9862016703635523, -0.0163202071477404, 0.03305638074075254, 0.028850645290513094, -0.004947059404943485, 0.0019138398355504904, 0.039657438224984326, -0.0022866587434267824, 0.0398544782333566, 0.018770302853799062, -0.0028732790822296184, -0.04512015115945958, -0.0001744664047537703, 1.0246418944426703, 0.03813113604723671, 0.003973083479412318, 0.032987057619913565, 0.043411493576620996, 0.017852457973771385, 0.04834658558212236, -0.038452337277676954, -0.02166213925599172, 0.014344781964159031, -0.03491908923301226, -0.0061577681113100385, -0.02239209199472543, 0.031045435404738628, 0.037236410961093785, -0.01991255828202715, -0.019363033660789664, 0.9989899681724259, 0.02617188240180232, -0.020725693013268178, -0.03711855942089653, 0.025848891247781336, 1.0434171795479632, 0.042387132228147634, -0.023219755273909584, -0.04366662722004227, 0.025296328287969364, -0.032835606795666744, 1.0323780919303303, 0.02454367782883521, 0.02231684821188966, -0.03650560317542925, -0.04744924910034143, 0.011381982291514547, 0.006775958803326487, 0.012022099664300775, 0.04457530658038593, -0.01217620033891241, 0.026388329294176574, 0.9572302027076605, 0.9751125768912969, -0.003823744998534287, -0.0459015133880792, 0.0015428782276932992, 0.03896944957467023, -0.04274704963016197, 0.9565617468637619, -0.01393730064095694, -0.02403701466457363, -0.01648328978275137, -0.024737976276531015, 1.0005605570078775, 0.030423775383865453, -0.009447363211218272, 0.022485580214995, 0.9638922654551665, -0.019641865261471127, -0.013231453319398026, 1.018455751262698, 0.014060041133791334, 1.018625278622436, 0.01063695741250796, -0.0328746389714903, -0.04316087103272834, 0.035281798751820956, -0.041754893676943974, 0.9502874501847034, -0.03581150194320404, 0.001828355809236834, 0.020972794061758074, 0.04452878585434425, -0.013344731046680568, 0.9831236097908449, -0.04079276299340898, -0.009371147779787224, -0.04002711705598741, 0.04048793707367039, -0.02246966610468104, -0.04330392384469931, 0.0117144224348021, -0.009084085195117518, -0.0005068192839755362, 0.0368783138172314, -0.014103773879070636, 0.0012551561384695625, 0.012159040510335464, -0.029391036565180363, 0.018293989692739224, 1.0414381059391788, -0.0014558792732840692, -0.02915908693153555, 0.048005807005620835, -0.02385336884854924, 0.9799013675746944, -0.03518137527740278, 0.03918265641403494, 0.022694889252465128, 0.9593984881730717, 0.049564183279137114, -0.033497312164887806, 0.030889153609816783, 0.9992121798374538, -0.03759719002426825, -0.0310119092206672, 0.008971595428562754, -0.009826460901817977, 0.011779711621280574, -0.025350029836085808, 0.005974468275795716, -0.010702457944718066, -0.03710052884944054, 0.040853238650529894, -0.04418085169188435, 0.031364386473498956, -0.02360696766076975, 0.040021947824546364, 0.012844326027343145, -0.0315226085549347, 1.0119051181450223, 0.04914916651938428, -0.04221696118239128, -0.006061154622520083, 0.030171761019026744, -0.02647506245311756, 0.03241890307033879, -0.011136589847934565, -0.03675546415733715, -0.003483506738546839, 0.012407501973565792, 0.013552841325877446, -0.0014722739548642533, -0.03636526758891409, -0.040337854732963266, -0.00683165764658137, -0.04052204880537818, -0.03445666373706863, -0.03550618021597921, -0.02973355755787942, -0.012348521328653196, 0.03545615642790405, -0.002409481558125516, -0.04978672384319534, -0.041298154866718555, -0.0067088393433722415, -0.011129634262976675, -0.0279310649850977, -0.03247130721997976, 0.011132885778986266, -0.006353416003641407, -0.01814625503340707, 0.031942638912264995, -0.02975166987181165, 0.036562360373661215, 1.045941655210299, -0.047621839165901486, 1.0192040455790916, -0.03275215983303077, 0.004056987264667744, -0.04912456199502111, 0.9575806137637812, 0.01232266984717445, -0.04296782705688937, -0.014899803253738651, -0.03734761991204547, 0.027564033840471472, 0.03462569211890086, -0.03869075600055255, 0.04684376396097055, -0.04005702793560665, 0.02348236725684373, 0.030053130958929086, 0.048168857463242606, 0.9870787502212472, -0.004684299615640174, 0.013970861182312971, 0.038636748295766604, -0.049217053911213685, 0.030795711535592504, 0.01711355960278041, 0.9714342598960399, 0.9684471350743986, 0.018625906456968627, 0.009540508321407126, 0.03745811247869392, 0.995700848011404, 0.024035055917471237, 0.04692438368729229, 1.0136174765738921, 0.04876559823737614, 1.0332231257773292, 0.036809185903994054, -0.016051162011777767, 0.005524969571305827, -0.0021156727230152925, -0.045615566319318214, -0.04315628628666231, 0.0009856004013992017, 0.008297731601376701, 1.048314161177343, 0.9911582383526831, 1.030886567248165, 0.025532296619881698, -0.018018131958510007, 0.9930740971748351, -0.0023470912820527934, -0.041061025444645606, 0.9646643363990608, 1.045749073357709, 1.0151282837268494, 0.9595633252828784, -0.004360703143357271, -0.009713921996992815, 0.009976838735439052, 0.021660493103344614, -0.029191890041058932, -0.011537605951996842, -0.0031827765541955558, 0.045491066219216475, 0.0035371901747344864, 0.0035012041243812284, -0.009448051537956234, -0.03938988489375114, 0.02625725396280705, -0.03040225848763153, 0.04958215355087078, -0.04217440541074396, -0.0076064341374179265, 1.0209089948990635, -0.04014204235969187, -0.029132907419734313, 1.0246169444318465, -0.02250886206816004, -0.022777379062545, 1.0321852534464766, -0.00877396547712802, 0.018044691580561628, 0.9736196888949125, -0.043228101960445256, 0.007116476838568621, 0.971250642902612, -0.04792621264753031, -0.00014995698997468526, 0.008725179855181432, -0.006076760445276622, 0.02084136573065061, -0.024953968003849514, 0.03705234944455228, -0.0038087754473107097, 0.046132897584035285, 0.03589103407703881, 0.04728440618260378, -0.0005564637810501205, -0.01865812552752149, 0.026645429835105067, -0.03508655961006825, -0.007445295327378934, -0.03269515911503737, 0.03545773960904387, 0.01272210435518914, -0.006827217303338462, 0.9762416597848886, -0.02832173672865397, -0.04083208903125188, -0.005360986278259414, 1.0439183659046907, 0.017620236159464175, 1.0312054728722237, 0.049013521294840864, 0.03984862530957495, 0.025456282571598876, -0.02681268806722653, -0.03069418115450391, 1.0417543241556724, 0.03398181642802821]}, {\"line\": {\"color\": \"orange\"}, \"mode\": \"lines\", \"name\": \"Least Squares\", \"type\": \"scatter\", \"x\": [7.691, 9.959777777777777, 12.228555555555555, 14.497333333333334, 16.766111111111112, 19.03488888888889, 21.303666666666665, 23.572444444444443, 25.84122222222222, 28.11], \"y\": [-0.25713148661059004, -0.035595395448855816, 0.1859406957128784, 0.40747678687461275, 0.6290128780363471, 0.8505489691980814, 1.0720850603598153, 1.2936211515215499, 1.515157242683284, 1.7366933338450186]}, {\"line\": {\"color\": \"green\", \"width\": 8}, \"mode\": \"lines\", \"name\": \"Truncated Least Squares\", \"type\": \"scatter\", \"x\": [7.691, 7.897252525252525, 8.103505050505051, 8.309757575757576, 8.516010101010101, 8.722262626262626, 8.928515151515152, 9.134767676767677, 9.341020202020202, 9.547272727272727, 9.753525252525252, 9.959777777777777, 10.166030303030304, 10.372282828282827, 10.578535353535354, 10.78478787878788, 10.991040404040405, 11.19729292929293, 11.403545454545455, 11.60979797979798, 11.816050505050505, 12.02230303030303, 12.228555555555555, 12.434808080808082, 12.641060606060606, 12.847313131313133, 13.053565656565656, 13.259818181818183, 13.466070707070706, 13.672323232323233, 13.878575757575758, 14.084828282828283, 14.291080808080808, 14.497333333333334, 14.703585858585859, 14.909838383838384, 15.11609090909091, 15.322343434343434, 15.528595959595961, 15.734848484848484, 15.941101010101011, 16.147353535353535, 16.35360606060606, 16.559858585858585, 16.766111111111112, 16.97236363636364, 17.178616161616162, 17.38486868686869, 17.591121212121212, 17.79737373737374, 18.003626262626263, 18.20987878787879, 18.416131313131313, 18.62238383838384, 18.828636363636363, 19.03488888888889, 19.241141414141413, 19.44739393939394, 19.653646464646467, 19.85989898989899, 20.066151515151518, 20.27240404040404, 20.478656565656568, 20.68490909090909, 20.891161616161618, 21.09741414141414, 21.30366666666667, 21.50991919191919, 21.71617171717172, 21.922424242424242, 22.12867676767677, 22.334929292929296, 22.54118181818182, 22.747434343434346, 22.95368686868687, 23.159939393939396, 23.36619191919192, 23.572444444444447, 23.77869696969697, 23.984949494949497, 24.19120202020202, 24.397454545454547, 24.60370707070707, 24.809959595959597, 25.01621212121212, 25.222464646464648, 25.42871717171717, 25.634969696969698, 25.84122222222222, 26.047474747474748, 26.253727272727275, 26.4599797979798, 26.666232323232325, 26.87248484848485, 27.078737373737376, 27.2849898989899, 27.491242424242426, 27.69749494949495, 27.903747474747476, 28.11], \"y\": [0.0, 0.0, 0.0, 0.0, 0.0, 0.0, 0.0, 0.0, 0.0, 0.0, 0.0, 0.0, 0.0, 0.00468389385327761, 0.02482353850434449, 0.04496318315541137, 0.06510282780647803, 0.08524247245754468, 0.10538211710861156, 0.12552176175967822, 0.1456614064107451, 0.16580105106181176, 0.1859406957128784, 0.2060803403639455, 0.22621998501501195, 0.24635962966607883, 0.2664992743171455, 0.28663891896821236, 0.306778563619279, 0.3269182082703459, 0.34705785292141256, 0.36719749757247944, 0.3873371422235461, 0.40747678687461275, 0.42761643152567963, 0.4477560761767463, 0.46789572082781317, 0.4880353654788798, 0.5081750101299467, 0.5283146547810134, 0.5484542994320802, 0.5685939440831467, 0.5887335887342138, 0.6088732333852802, 0.6290128780363471, 0.6491525226874142, 0.6692921673384806, 0.6894318119895475, 0.7095714566406142, 0.729711101291681, 0.7498507459427477, 0.7699903905938146, 0.790130035244881, 0.8102696798959481, 0.8304093245470145, 0.8505489691980814, 0.8706886138491481, 0.890828258500215, 0.9109679031512818, 0.9311075478023485, 0.9512471924534154, 0.971386837104482, 0.9915264817555489, 1.0, 1.0, 1.0, 1.0, 1.0, 1.0, 1.0, 1.0, 1.0, 1.0, 1.0, 1.0, 1.0, 1.0, 1.0, 1.0, 1.0, 1.0, 1.0, 1.0, 1.0, 1.0, 1.0, 1.0, 1.0, 1.0, 1.0, 1.0, 1.0, 1.0, 1.0, 1.0, 1.0, 1.0, 1.0, 1.0, 1.0]}, {\"line\": {\"color\": \"black\", \"dash\": \"dot\"}, \"mode\": \"lines\", \"name\": \"Least Squares Decision Boundary\", \"type\": \"scatter\", \"x\": [15.44487469675942, 15.44487469675942], \"y\": [-0.5, 1.5]}],\n",
       "                        {\"template\": {\"data\": {\"bar\": [{\"error_x\": {\"color\": \"#2a3f5f\"}, \"error_y\": {\"color\": \"#2a3f5f\"}, \"marker\": {\"line\": {\"color\": \"#E5ECF6\", \"width\": 0.5}}, \"type\": \"bar\"}], \"barpolar\": [{\"marker\": {\"line\": {\"color\": \"#E5ECF6\", \"width\": 0.5}}, \"type\": \"barpolar\"}], \"carpet\": [{\"aaxis\": {\"endlinecolor\": \"#2a3f5f\", \"gridcolor\": \"white\", \"linecolor\": \"white\", \"minorgridcolor\": \"white\", \"startlinecolor\": \"#2a3f5f\"}, \"baxis\": {\"endlinecolor\": \"#2a3f5f\", \"gridcolor\": \"white\", \"linecolor\": \"white\", \"minorgridcolor\": \"white\", \"startlinecolor\": \"#2a3f5f\"}, \"type\": \"carpet\"}], \"choropleth\": [{\"colorbar\": {\"outlinewidth\": 0, \"ticks\": \"\"}, \"type\": \"choropleth\"}], \"contour\": [{\"colorbar\": {\"outlinewidth\": 0, \"ticks\": \"\"}, \"colorscale\": [[0.0, \"#0d0887\"], [0.1111111111111111, \"#46039f\"], [0.2222222222222222, \"#7201a8\"], [0.3333333333333333, \"#9c179e\"], [0.4444444444444444, \"#bd3786\"], [0.5555555555555556, \"#d8576b\"], [0.6666666666666666, \"#ed7953\"], [0.7777777777777778, \"#fb9f3a\"], [0.8888888888888888, \"#fdca26\"], [1.0, \"#f0f921\"]], \"type\": \"contour\"}], \"contourcarpet\": [{\"colorbar\": {\"outlinewidth\": 0, \"ticks\": \"\"}, \"type\": \"contourcarpet\"}], \"heatmap\": [{\"colorbar\": {\"outlinewidth\": 0, \"ticks\": \"\"}, \"colorscale\": [[0.0, \"#0d0887\"], [0.1111111111111111, \"#46039f\"], [0.2222222222222222, \"#7201a8\"], [0.3333333333333333, \"#9c179e\"], [0.4444444444444444, \"#bd3786\"], [0.5555555555555556, \"#d8576b\"], [0.6666666666666666, \"#ed7953\"], [0.7777777777777778, \"#fb9f3a\"], [0.8888888888888888, \"#fdca26\"], [1.0, \"#f0f921\"]], \"type\": \"heatmap\"}], \"heatmapgl\": [{\"colorbar\": {\"outlinewidth\": 0, \"ticks\": \"\"}, \"colorscale\": [[0.0, \"#0d0887\"], [0.1111111111111111, \"#46039f\"], [0.2222222222222222, \"#7201a8\"], [0.3333333333333333, \"#9c179e\"], [0.4444444444444444, \"#bd3786\"], [0.5555555555555556, \"#d8576b\"], [0.6666666666666666, \"#ed7953\"], [0.7777777777777778, \"#fb9f3a\"], [0.8888888888888888, \"#fdca26\"], [1.0, \"#f0f921\"]], \"type\": \"heatmapgl\"}], \"histogram\": [{\"marker\": {\"colorbar\": {\"outlinewidth\": 0, \"ticks\": \"\"}}, \"type\": \"histogram\"}], \"histogram2d\": [{\"colorbar\": {\"outlinewidth\": 0, \"ticks\": \"\"}, \"colorscale\": [[0.0, \"#0d0887\"], [0.1111111111111111, \"#46039f\"], [0.2222222222222222, \"#7201a8\"], [0.3333333333333333, \"#9c179e\"], [0.4444444444444444, \"#bd3786\"], [0.5555555555555556, \"#d8576b\"], [0.6666666666666666, \"#ed7953\"], [0.7777777777777778, \"#fb9f3a\"], [0.8888888888888888, \"#fdca26\"], [1.0, \"#f0f921\"]], \"type\": \"histogram2d\"}], \"histogram2dcontour\": [{\"colorbar\": {\"outlinewidth\": 0, \"ticks\": \"\"}, \"colorscale\": [[0.0, \"#0d0887\"], [0.1111111111111111, \"#46039f\"], [0.2222222222222222, \"#7201a8\"], [0.3333333333333333, \"#9c179e\"], [0.4444444444444444, \"#bd3786\"], [0.5555555555555556, \"#d8576b\"], [0.6666666666666666, \"#ed7953\"], [0.7777777777777778, \"#fb9f3a\"], [0.8888888888888888, \"#fdca26\"], [1.0, \"#f0f921\"]], \"type\": \"histogram2dcontour\"}], \"mesh3d\": [{\"colorbar\": {\"outlinewidth\": 0, \"ticks\": \"\"}, \"type\": \"mesh3d\"}], \"parcoords\": [{\"line\": {\"colorbar\": {\"outlinewidth\": 0, \"ticks\": \"\"}}, \"type\": \"parcoords\"}], \"pie\": [{\"automargin\": true, \"type\": \"pie\"}], \"scatter\": [{\"marker\": {\"colorbar\": {\"outlinewidth\": 0, \"ticks\": \"\"}}, \"type\": \"scatter\"}], \"scatter3d\": [{\"line\": {\"colorbar\": {\"outlinewidth\": 0, \"ticks\": \"\"}}, \"marker\": {\"colorbar\": {\"outlinewidth\": 0, \"ticks\": \"\"}}, \"type\": \"scatter3d\"}], \"scattercarpet\": [{\"marker\": {\"colorbar\": {\"outlinewidth\": 0, \"ticks\": \"\"}}, \"type\": \"scattercarpet\"}], \"scattergeo\": [{\"marker\": {\"colorbar\": {\"outlinewidth\": 0, \"ticks\": \"\"}}, \"type\": \"scattergeo\"}], \"scattergl\": [{\"marker\": {\"colorbar\": {\"outlinewidth\": 0, \"ticks\": \"\"}}, \"type\": \"scattergl\"}], \"scattermapbox\": [{\"marker\": {\"colorbar\": {\"outlinewidth\": 0, \"ticks\": \"\"}}, \"type\": \"scattermapbox\"}], \"scatterpolar\": [{\"marker\": {\"colorbar\": {\"outlinewidth\": 0, \"ticks\": \"\"}}, \"type\": \"scatterpolar\"}], \"scatterpolargl\": [{\"marker\": {\"colorbar\": {\"outlinewidth\": 0, \"ticks\": \"\"}}, \"type\": \"scatterpolargl\"}], \"scatterternary\": [{\"marker\": {\"colorbar\": {\"outlinewidth\": 0, \"ticks\": \"\"}}, \"type\": \"scatterternary\"}], \"surface\": [{\"colorbar\": {\"outlinewidth\": 0, \"ticks\": \"\"}, \"colorscale\": [[0.0, \"#0d0887\"], [0.1111111111111111, \"#46039f\"], [0.2222222222222222, \"#7201a8\"], [0.3333333333333333, \"#9c179e\"], [0.4444444444444444, \"#bd3786\"], [0.5555555555555556, \"#d8576b\"], [0.6666666666666666, \"#ed7953\"], [0.7777777777777778, \"#fb9f3a\"], [0.8888888888888888, \"#fdca26\"], [1.0, \"#f0f921\"]], \"type\": \"surface\"}], \"table\": [{\"cells\": {\"fill\": {\"color\": \"#EBF0F8\"}, \"line\": {\"color\": \"white\"}}, \"header\": {\"fill\": {\"color\": \"#C8D4E3\"}, \"line\": {\"color\": \"white\"}}, \"type\": \"table\"}]}, \"layout\": {\"annotationdefaults\": {\"arrowcolor\": \"#2a3f5f\", \"arrowhead\": 0, \"arrowwidth\": 1}, \"coloraxis\": {\"colorbar\": {\"outlinewidth\": 0, \"ticks\": \"\"}}, \"colorscale\": {\"diverging\": [[0, \"#8e0152\"], [0.1, \"#c51b7d\"], [0.2, \"#de77ae\"], [0.3, \"#f1b6da\"], [0.4, \"#fde0ef\"], [0.5, \"#f7f7f7\"], [0.6, \"#e6f5d0\"], [0.7, \"#b8e186\"], [0.8, \"#7fbc41\"], [0.9, \"#4d9221\"], [1, \"#276419\"]], \"sequential\": [[0.0, \"#0d0887\"], [0.1111111111111111, \"#46039f\"], [0.2222222222222222, \"#7201a8\"], [0.3333333333333333, \"#9c179e\"], [0.4444444444444444, \"#bd3786\"], [0.5555555555555556, \"#d8576b\"], [0.6666666666666666, \"#ed7953\"], [0.7777777777777778, \"#fb9f3a\"], [0.8888888888888888, \"#fdca26\"], [1.0, \"#f0f921\"]], \"sequentialminus\": [[0.0, \"#0d0887\"], [0.1111111111111111, \"#46039f\"], [0.2222222222222222, \"#7201a8\"], [0.3333333333333333, \"#9c179e\"], [0.4444444444444444, \"#bd3786\"], [0.5555555555555556, \"#d8576b\"], [0.6666666666666666, \"#ed7953\"], [0.7777777777777778, \"#fb9f3a\"], [0.8888888888888888, \"#fdca26\"], [1.0, \"#f0f921\"]]}, \"colorway\": [\"#636efa\", \"#EF553B\", \"#00cc96\", \"#ab63fa\", \"#FFA15A\", \"#19d3f3\", \"#FF6692\", \"#B6E880\", \"#FF97FF\", \"#FECB52\"], \"font\": {\"color\": \"#2a3f5f\"}, \"geo\": {\"bgcolor\": \"white\", \"lakecolor\": \"white\", \"landcolor\": \"#E5ECF6\", \"showlakes\": true, \"showland\": true, \"subunitcolor\": \"white\"}, \"hoverlabel\": {\"align\": \"left\"}, \"hovermode\": \"closest\", \"mapbox\": {\"style\": \"light\"}, \"paper_bgcolor\": \"white\", \"plot_bgcolor\": \"#E5ECF6\", \"polar\": {\"angularaxis\": {\"gridcolor\": \"white\", \"linecolor\": \"white\", \"ticks\": \"\"}, \"bgcolor\": \"#E5ECF6\", \"radialaxis\": {\"gridcolor\": \"white\", \"linecolor\": \"white\", \"ticks\": \"\"}}, \"scene\": {\"xaxis\": {\"backgroundcolor\": \"#E5ECF6\", \"gridcolor\": \"white\", \"gridwidth\": 2, \"linecolor\": \"white\", \"showbackground\": true, \"ticks\": \"\", \"zerolinecolor\": \"white\"}, \"yaxis\": {\"backgroundcolor\": \"#E5ECF6\", \"gridcolor\": \"white\", \"gridwidth\": 2, \"linecolor\": \"white\", \"showbackground\": true, \"ticks\": \"\", \"zerolinecolor\": \"white\"}, \"zaxis\": {\"backgroundcolor\": \"#E5ECF6\", \"gridcolor\": \"white\", \"gridwidth\": 2, \"linecolor\": \"white\", \"showbackground\": true, \"ticks\": \"\", \"zerolinecolor\": \"white\"}}, \"shapedefaults\": {\"line\": {\"color\": \"#2a3f5f\"}}, \"ternary\": {\"aaxis\": {\"gridcolor\": \"white\", \"linecolor\": \"white\", \"ticks\": \"\"}, \"baxis\": {\"gridcolor\": \"white\", \"linecolor\": \"white\", \"ticks\": \"\"}, \"bgcolor\": \"#E5ECF6\", \"caxis\": {\"gridcolor\": \"white\", \"linecolor\": \"white\", \"ticks\": \"\"}}, \"title\": {\"x\": 0.05}, \"xaxis\": {\"automargin\": true, \"gridcolor\": \"white\", \"linecolor\": \"white\", \"ticks\": \"\", \"title\": {\"standoff\": 15}, \"zerolinecolor\": \"white\", \"zerolinewidth\": 2}, \"yaxis\": {\"automargin\": true, \"gridcolor\": \"white\", \"linecolor\": \"white\", \"ticks\": \"\", \"title\": {\"standoff\": 15}, \"zerolinecolor\": \"white\", \"zerolinewidth\": 2}}}},\n",
       "                        {\"responsive\": true}\n",
       "                    ).then(function(){\n",
       "                            \n",
       "var gd = document.getElementById('76c47272-f18d-4924-95b6-9c363fb52105');\n",
       "var x = new MutationObserver(function (mutations, observer) {{\n",
       "        var display = window.getComputedStyle(gd).display;\n",
       "        if (!display || display === 'none') {{\n",
       "            console.log([gd, 'removed!']);\n",
       "            Plotly.purge(gd);\n",
       "            observer.disconnect();\n",
       "        }}\n",
       "}});\n",
       "\n",
       "// Listen for the removal of the full notebook cells\n",
       "var notebookContainer = gd.closest('#notebook-container');\n",
       "if (notebookContainer) {{\n",
       "    x.observe(notebookContainer, {childList: true});\n",
       "}}\n",
       "\n",
       "// Listen for the clearing of the current output cell\n",
       "var outputEl = gd.closest('.output');\n",
       "if (outputEl) {{\n",
       "    x.observe(outputEl, {childList: true});\n",
       "}}\n",
       "\n",
       "                        })\n",
       "                };\n",
       "                });\n",
       "            </script>\n",
       "        </div>"
      ]
     },
     "metadata": {},
     "output_type": "display_data"
    }
   ],
   "source": [
    "X_plt = np.linspace(np.min(X), np.max(X), 100)\n",
    "p_line = go.Scatter(name=\"Truncated Least Squares\",\n",
    "    x=X_plt, y=bound01(least_squares_model.predict(np.array([X_plt]).T)), \n",
    "    mode=\"lines\", line=dict(color=\"green\", width=8))\n",
    "py.iplot([mal_points, ben_points, model_line, p_line, dec_line], filename=\"lr-06\")"
   ]
  },
  {
   "cell_type": "markdown",
   "metadata": {},
   "source": [
    "So far least squares regression seems pretty reasonable and we can \"force\" the predicted values to be bounded between 0 and 1.  \n",
    "\n",
    "**Can we interpret the truncated values as probabilities?** \n",
    "\n",
    "Perhaps, but it would depend on how the model is estimated (more on this soon).\n"
   ]
  },
  {
   "cell_type": "markdown",
   "metadata": {},
   "source": [
    "\n",
    "\n",
    "# An Issue with Extreme Points \n",
    "\n",
    "It seems like large tumor sizes are indicative of malignant tumors.  Suppose we observed a very large malignant tumor that is 100mm in mean radius.  What would this do to our model?\n",
    "\n",
    "\n",
    "Let's add an extra data point and see what happens:"
   ]
  },
  {
   "cell_type": "code",
   "execution_count": 20,
   "metadata": {
    "ExecuteTime": {
     "end_time": "2018-04-02T16:07:18.165906Z",
     "start_time": "2018-04-02T16:07:18.157445Z"
    }
   },
   "outputs": [
    {
     "data": {
      "text/plain": [
       "LinearRegression(copy_X=True, fit_intercept=True, n_jobs=None, normalize=False)"
      ]
     },
     "execution_count": 20,
     "metadata": {},
     "output_type": "execute_result"
    }
   ],
   "source": [
    "X_ex = np.vstack([X, [100]])\n",
    "Y_ex = np.hstack([Y, 1.])\n",
    "least_squares_model_ex = linear_model.LinearRegression()\n",
    "least_squares_model_ex.fit(X_ex, Y_ex)"
   ]
  },
  {
   "cell_type": "code",
   "execution_count": 21,
   "metadata": {
    "ExecuteTime": {
     "end_time": "2018-04-02T16:08:52.741027Z",
     "start_time": "2018-04-02T16:08:52.706346Z"
    }
   },
   "outputs": [
    {
     "data": {
      "application/vnd.plotly.v1+json": {
       "config": {
        "linkText": "Export to plot.ly",
        "plotlyServerURL": "https://plot.ly",
        "showLink": false
       },
       "data": [
        {
         "marker": {
          "color": "red",
          "opacity": 0.5
         },
         "mode": "markers",
         "name": "Classified as Malignant",
         "type": "scatter",
         "x": [
          17.75,
          20.58,
          22.27,
          19.4,
          17.35,
          16.11,
          18.49,
          15.46,
          19.21,
          18.81,
          17.14,
          19.07,
          19.16,
          19.8,
          16.65,
          16.13,
          21.75,
          27.22,
          21.16,
          20.16,
          18.65,
          15.61,
          17.06,
          16.84,
          20.48,
          17.47,
          20.09,
          17.95,
          16.69,
          16.35,
          16.5,
          17.3,
          20.59,
          16.27,
          17.29,
          18.03,
          19.18,
          25.73,
          24.63,
          17.46,
          19.44,
          20.47,
          20.18,
          24.25,
          23.29,
          20.34,
          16.17,
          20.44,
          18.82,
          21.71,
          15.75,
          18.22,
          19.53,
          19.79,
          19.59,
          20.64,
          17.08,
          20.51,
          23.27,
          18.22,
          18.08,
          15.66,
          18.01,
          19,
          17.91,
          15.71,
          16.24,
          18.46,
          18.31,
          19.17,
          16.74,
          20.26,
          15.75,
          16.25,
          15.46,
          15.49,
          19.4,
          19.45,
          20.29,
          19.55,
          17.42,
          16.14,
          17.02,
          15.5,
          18.45,
          18.61,
          17.05,
          20.31,
          19.59,
          18.31,
          19.53,
          17.68,
          18.77,
          23.21,
          17.01,
          28.11,
          27.42,
          16.6,
          17.54,
          19.19,
          15.53,
          19.55,
          20.57,
          16.13,
          16.3,
          20.2,
          23.51,
          15.85,
          20.92,
          15.73,
          19.73,
          17.85,
          19.68,
          21.37,
          19.02,
          16.03,
          18.66
         ],
         "y": [
          1.0094194667364984,
          0.9901628986226871,
          0.9641860915918707,
          1.0345977623730036,
          1.0149904624944002,
          0.9647812263663453,
          0.9568853794205072,
          0.985479846321659,
          1.0013948778065107,
          0.9567758593978377,
          0.9867832934261276,
          1.0458898064469844,
          0.9772848514055266,
          1.0090863928126208,
          0.9727942148333304,
          0.9635979181115035,
          0.9846603075487779,
          0.9543429247369912,
          1.0342785708455695,
          1.0286251209552661,
          1.0277781604372345,
          0.9868598110267983,
          0.9548818297420045,
          0.040252570326578224,
          1.0136903310326981,
          1.039823245472742,
          1.0124193512020425,
          1.0223018251877054,
          0.9976618494993439,
          0.99537415845548,
          0.04755171106812425,
          0.9914412517984759,
          1.0308639460064897,
          1.0213399954317801,
          0.9858238957277004,
          1.041011564015852,
          1.0055894240318948,
          0.9771191235273176,
          1.0388621733091832,
          1.0028494325634043,
          0.9866401773927382,
          1.04547722476063,
          1.0313005952121308,
          0.9602171548143628,
          1.035972193856135,
          1.0159197688121666,
          -0.049411657288967195,
          0.9632597705387389,
          0.9801511973552168,
          0.9891251886260826,
          0.9874512874930694,
          1.011901783356336,
          1.0435100128329198,
          0.9555388226595991,
          1.0467239703893398,
          1.0317118022766045,
          1.002797181224056,
          1.0101981278998422,
          0.9616431754474726,
          1.0183662453839963,
          1.0468903318343832,
          0.9976268894734364,
          0.9801951580666397,
          0.9962270454480635,
          0.9681511070161823,
          -0.04938015268620919,
          1.0035550970205829,
          1.0422507001999484,
          1.0398209745683797,
          1.036858193011073,
          0.9686068838686221,
          0.9700513751570037,
          1.031147871827471,
          0.9951803367205685,
          1.0467841723922866,
          0.9964992416852052,
          0.9866568114347218,
          1.018367912543454,
          0.97658184563323,
          1.0495631869675488,
          0.9825994033407419,
          -0.0428799778506154,
          0.9764545626950569,
          1.0158196928073264,
          0.9540804898994468,
          0.9526077703869522,
          1.0340290490137596,
          1.0229434301636582,
          1.0096570638758622,
          1.018795766318713,
          1.0325931996525934,
          1.042638246740882,
          0.9559341012450404,
          1.030253365829157,
          1.0428191462566407,
          1.034844170183188,
          0.9606303291915872,
          1.0110762271227232,
          1.0469077151977106,
          0.9927914976448633,
          1.0087601593772892,
          1.0177110973085617,
          1.0241237826299932,
          1.0396515956756762,
          0.026418933019270535,
          0.9806371461800523,
          0.9683054514082445,
          0.968772409561381,
          1.048329404062847,
          0.018512800996131104,
          1.0494520602582218,
          -0.03864455327572056,
          0.9947969320725849,
          1.0485882936393756,
          1.0488879601366297,
          0.9965477559951632,
          0.9949183070400736
         ]
        },
        {
         "marker": {
          "color": "blue",
          "opacity": 0.5
         },
         "mode": "markers",
         "name": "Classified as Benign",
         "type": "scatter",
         "x": [
          12.89,
          13.4,
          12.96,
          15.28,
          13.78,
          15.1,
          12.34,
          8.196,
          13.45,
          11.32,
          7.76,
          14.86,
          11.13,
          9.72,
          9.606,
          10.08,
          12.56,
          15.13,
          10.48,
          12.78,
          14.74,
          9.904,
          13.82,
          12.89,
          13.74,
          13.37,
          14.69,
          12.91,
          13.62,
          15,
          11.8,
          14.53,
          13.71,
          11.36,
          8.726,
          13.71,
          14.47,
          13.54,
          12.85,
          12.47,
          12.46,
          10.86,
          11.37,
          13.49,
          9.567,
          11.06,
          14.61,
          7.691,
          13.69,
          11.46,
          12.06,
          13.15,
          13.61,
          10.26,
          9.333,
          11.06,
          10.66,
          11.84,
          10.51,
          12.67,
          11.08,
          11.04,
          12.43,
          14.71,
          14.87,
          12.87,
          9.465,
          13.16,
          10.91,
          12.25,
          12.75,
          14.58,
          12.27,
          12.16,
          14.27,
          15.06,
          12.99,
          13.27,
          13.87,
          13.87,
          13.59,
          12.45,
          8.95,
          13.65,
          11.47,
          14.42,
          14.68,
          12.05,
          9.683,
          10.97,
          11.42,
          12.54,
          14.34,
          14.58,
          11.76,
          12.83,
          13.03,
          13.21,
          8.671,
          11.87,
          12.76,
          14.86,
          12.65,
          11.31,
          11.94,
          14.96,
          11.6,
          12.34,
          9.731,
          11.27,
          14.02,
          10.51,
          9.876,
          11.57,
          12.31,
          13.66,
          10.32,
          12.21,
          12.21,
          12.87,
          12.18,
          12.04,
          10.05,
          14.25,
          11.28,
          8.618,
          12.63,
          12.54,
          11.76,
          13,
          10.6,
          11.62,
          14.99,
          11.89,
          9,
          9.042,
          11.8,
          13.9,
          14.95,
          13.46,
          14.5,
          12.18,
          12.9,
          9.787,
          12.2,
          11.85,
          11.41,
          13.2,
          12.45,
          11.95,
          13.85,
          15.19,
          11.06,
          15.05,
          11.14,
          12.94,
          13.24,
          13.05,
          13.85,
          13.3,
          12.72,
          12,
          14.26,
          12.81,
          9.405,
          10.94,
          8.597,
          8.219,
          10.57,
          13.2,
          12.39,
          11.71,
          14.04,
          11.22,
          11.93,
          11.41,
          12.72,
          10.57,
          13.27,
          9.397,
          14.76,
          11.51,
          12.58,
          9.847,
          9.676,
          12.36,
          11.63,
          14.8,
          13.17,
          14.97,
          14.78,
          11.3,
          14.92,
          10.9,
          15.3,
          12.32,
          11.43,
          11.68,
          11.16,
          14.53,
          13.56,
          11.34,
          13.64,
          13.64,
          14.59,
          9.668,
          13.01,
          10.95,
          8.571,
          9.876,
          8.878,
          12.8,
          12.22,
          10.96,
          14.9,
          13.61,
          10.44,
          12.88,
          9.436,
          13.43,
          11.6,
          12.95,
          13.86,
          8.598,
          13.17,
          13.59,
          12.03,
          12.23,
          11.49,
          13.66,
          11.26,
          12.7,
          8.734,
          14.95,
          14.25,
          12.77,
          15.1,
          12.77,
          13,
          14.11,
          11.71,
          12.68,
          13.73,
          13.44,
          11.08,
          11.71,
          12.46,
          11.89,
          12.27,
          13.85,
          11.94,
          11.26,
          13.77,
          11.69,
          11.5,
          14.05,
          13.38,
          10.49,
          11.66,
          10.71,
          13.7,
          11.99,
          13.28,
          10.2,
          11.93,
          14.22,
          14.2,
          13.05,
          13.11,
          12.07,
          11.45,
          15.12,
          10.8,
          12.62,
          15.37,
          10.26,
          12.42,
          12.49,
          13.88,
          9.742,
          10.8,
          12.88,
          9.268,
          13.75,
          12.3,
          12.83,
          11.74,
          13.05,
          10.88,
          9.504,
          11.54,
          9.755,
          11.75,
          11.33,
          12.77,
          14.6,
          14.99,
          13.5,
          12.19,
          14.42,
          13,
          14.19,
          13.14,
          13.08,
          8.888,
          11.64,
          14.29,
          13.98,
          12.18
         ],
         "y": [
          -0.03871093547748187,
          0.973031429228971,
          -0.00934966851589477,
          1.0441608886489846,
          0.021855440743051097,
          1.0256835403510236,
          0.04411841776214086,
          0.018358162891157798,
          -0.035203055351680446,
          0.003004227336489154,
          0.0018930355840096613,
          0.0007571147257982164,
          0.02946811211117742,
          -0.016514323798400614,
          0.03591590616334116,
          -0.003955947376397519,
          -0.00490857874956141,
          0.9845795974631375,
          0.03161473857812652,
          -0.010038857914597597,
          0.043895820793316484,
          0.04782015710149884,
          0.9862016703635523,
          -0.0163202071477404,
          0.03305638074075254,
          0.028850645290513094,
          -0.004947059404943485,
          0.0019138398355504904,
          0.039657438224984326,
          -0.0022866587434267824,
          0.0398544782333566,
          0.018770302853799062,
          -0.0028732790822296184,
          -0.04512015115945958,
          -0.0001744664047537703,
          1.0246418944426703,
          0.03813113604723671,
          0.003973083479412318,
          0.032987057619913565,
          0.043411493576620996,
          0.017852457973771385,
          0.04834658558212236,
          -0.038452337277676954,
          -0.02166213925599172,
          0.014344781964159031,
          -0.03491908923301226,
          -0.0061577681113100385,
          -0.02239209199472543,
          0.031045435404738628,
          0.037236410961093785,
          -0.01991255828202715,
          -0.019363033660789664,
          0.9989899681724259,
          0.02617188240180232,
          -0.020725693013268178,
          -0.03711855942089653,
          0.025848891247781336,
          1.0434171795479632,
          0.042387132228147634,
          -0.023219755273909584,
          -0.04366662722004227,
          0.025296328287969364,
          -0.032835606795666744,
          1.0323780919303303,
          0.02454367782883521,
          0.02231684821188966,
          -0.03650560317542925,
          -0.04744924910034143,
          0.011381982291514547,
          0.006775958803326487,
          0.012022099664300775,
          0.04457530658038593,
          -0.01217620033891241,
          0.026388329294176574,
          0.9572302027076605,
          0.9751125768912969,
          -0.003823744998534287,
          -0.0459015133880792,
          0.0015428782276932992,
          0.03896944957467023,
          -0.04274704963016197,
          0.9565617468637619,
          -0.01393730064095694,
          -0.02403701466457363,
          -0.01648328978275137,
          -0.024737976276531015,
          1.0005605570078775,
          0.030423775383865453,
          -0.009447363211218272,
          0.022485580214995,
          0.9638922654551665,
          -0.019641865261471127,
          -0.013231453319398026,
          1.018455751262698,
          0.014060041133791334,
          1.018625278622436,
          0.01063695741250796,
          -0.0328746389714903,
          -0.04316087103272834,
          0.035281798751820956,
          -0.041754893676943974,
          0.9502874501847034,
          -0.03581150194320404,
          0.001828355809236834,
          0.020972794061758074,
          0.04452878585434425,
          -0.013344731046680568,
          0.9831236097908449,
          -0.04079276299340898,
          -0.009371147779787224,
          -0.04002711705598741,
          0.04048793707367039,
          -0.02246966610468104,
          -0.04330392384469931,
          0.0117144224348021,
          -0.009084085195117518,
          -0.0005068192839755362,
          0.0368783138172314,
          -0.014103773879070636,
          0.0012551561384695625,
          0.012159040510335464,
          -0.029391036565180363,
          0.018293989692739224,
          1.0414381059391788,
          -0.0014558792732840692,
          -0.02915908693153555,
          0.048005807005620835,
          -0.02385336884854924,
          0.9799013675746944,
          -0.03518137527740278,
          0.03918265641403494,
          0.022694889252465128,
          0.9593984881730717,
          0.049564183279137114,
          -0.033497312164887806,
          0.030889153609816783,
          0.9992121798374538,
          -0.03759719002426825,
          -0.0310119092206672,
          0.008971595428562754,
          -0.009826460901817977,
          0.011779711621280574,
          -0.025350029836085808,
          0.005974468275795716,
          -0.010702457944718066,
          -0.03710052884944054,
          0.040853238650529894,
          -0.04418085169188435,
          0.031364386473498956,
          -0.02360696766076975,
          0.040021947824546364,
          0.012844326027343145,
          -0.0315226085549347,
          1.0119051181450223,
          0.04914916651938428,
          -0.04221696118239128,
          -0.006061154622520083,
          0.030171761019026744,
          -0.02647506245311756,
          0.03241890307033879,
          -0.011136589847934565,
          -0.03675546415733715,
          -0.003483506738546839,
          0.012407501973565792,
          0.013552841325877446,
          -0.0014722739548642533,
          -0.03636526758891409,
          -0.040337854732963266,
          -0.00683165764658137,
          -0.04052204880537818,
          -0.03445666373706863,
          -0.03550618021597921,
          -0.02973355755787942,
          -0.012348521328653196,
          0.03545615642790405,
          -0.002409481558125516,
          -0.04978672384319534,
          -0.041298154866718555,
          -0.0067088393433722415,
          -0.011129634262976675,
          -0.0279310649850977,
          -0.03247130721997976,
          0.011132885778986266,
          -0.006353416003641407,
          -0.01814625503340707,
          0.031942638912264995,
          -0.02975166987181165,
          0.036562360373661215,
          1.045941655210299,
          -0.047621839165901486,
          1.0192040455790916,
          -0.03275215983303077,
          0.004056987264667744,
          -0.04912456199502111,
          0.9575806137637812,
          0.01232266984717445,
          -0.04296782705688937,
          -0.014899803253738651,
          -0.03734761991204547,
          0.027564033840471472,
          0.03462569211890086,
          -0.03869075600055255,
          0.04684376396097055,
          -0.04005702793560665,
          0.02348236725684373,
          0.030053130958929086,
          0.048168857463242606,
          0.9870787502212472,
          -0.004684299615640174,
          0.013970861182312971,
          0.038636748295766604,
          -0.049217053911213685,
          0.030795711535592504,
          0.01711355960278041,
          0.9714342598960399,
          0.9684471350743986,
          0.018625906456968627,
          0.009540508321407126,
          0.03745811247869392,
          0.995700848011404,
          0.024035055917471237,
          0.04692438368729229,
          1.0136174765738921,
          0.04876559823737614,
          1.0332231257773292,
          0.036809185903994054,
          -0.016051162011777767,
          0.005524969571305827,
          -0.0021156727230152925,
          -0.045615566319318214,
          -0.04315628628666231,
          0.0009856004013992017,
          0.008297731601376701,
          1.048314161177343,
          0.9911582383526831,
          1.030886567248165,
          0.025532296619881698,
          -0.018018131958510007,
          0.9930740971748351,
          -0.0023470912820527934,
          -0.041061025444645606,
          0.9646643363990608,
          1.045749073357709,
          1.0151282837268494,
          0.9595633252828784,
          -0.004360703143357271,
          -0.009713921996992815,
          0.009976838735439052,
          0.021660493103344614,
          -0.029191890041058932,
          -0.011537605951996842,
          -0.0031827765541955558,
          0.045491066219216475,
          0.0035371901747344864,
          0.0035012041243812284,
          -0.009448051537956234,
          -0.03938988489375114,
          0.02625725396280705,
          -0.03040225848763153,
          0.04958215355087078,
          -0.04217440541074396,
          -0.0076064341374179265,
          1.0209089948990635,
          -0.04014204235969187,
          -0.029132907419734313,
          1.0246169444318465,
          -0.02250886206816004,
          -0.022777379062545,
          1.0321852534464766,
          -0.00877396547712802,
          0.018044691580561628,
          0.9736196888949125,
          -0.043228101960445256,
          0.007116476838568621,
          0.971250642902612,
          -0.04792621264753031,
          -0.00014995698997468526,
          0.008725179855181432,
          -0.006076760445276622,
          0.02084136573065061,
          -0.024953968003849514,
          0.03705234944455228,
          -0.0038087754473107097,
          0.046132897584035285,
          0.03589103407703881,
          0.04728440618260378,
          -0.0005564637810501205,
          -0.01865812552752149,
          0.026645429835105067,
          -0.03508655961006825,
          -0.007445295327378934,
          -0.03269515911503737,
          0.03545773960904387,
          0.01272210435518914,
          -0.006827217303338462,
          0.9762416597848886,
          -0.02832173672865397,
          -0.04083208903125188,
          -0.005360986278259414,
          1.0439183659046907,
          0.017620236159464175,
          1.0312054728722237,
          0.049013521294840864,
          0.03984862530957495,
          0.025456282571598876,
          -0.02681268806722653,
          -0.03069418115450391,
          1.0417543241556724,
          0.03398181642802821
         ]
        },
        {
         "line": {
          "color": "gray"
         },
         "mode": "lines",
         "name": "Least Squares",
         "type": "scatter",
         "x": [
          7.691,
          9.959777777777777,
          12.228555555555555,
          14.497333333333334,
          16.766111111111112,
          19.03488888888889,
          21.303666666666665,
          23.572444444444443,
          25.84122222222222,
          28.11
         ],
         "y": [
          -0.25713148661059004,
          -0.035595395448855816,
          0.1859406957128784,
          0.40747678687461275,
          0.6290128780363471,
          0.8505489691980814,
          1.0720850603598153,
          1.2936211515215499,
          1.515157242683284,
          1.7366933338450186
         ]
        },
        {
         "line": {
          "color": "orange"
         },
         "mode": "lines",
         "name": "New Least Squares",
         "type": "scatter",
         "x": [
          2.691,
          2.998262626262626,
          3.3055252525252525,
          3.612787878787879,
          3.9200505050505052,
          4.227313131313132,
          4.534575757575757,
          4.841838383838384,
          5.14910101010101,
          5.456363636363637,
          5.763626262626262,
          6.07088888888889,
          6.378151515151515,
          6.6854141414141415,
          6.992676767676768,
          7.299939393939394,
          7.6072020202020205,
          7.914464646464647,
          8.221727272727273,
          8.528989898989899,
          8.836252525252526,
          9.143515151515153,
          9.450777777777779,
          9.758040404040404,
          10.065303030303031,
          10.372565656565657,
          10.679828282828282,
          10.98709090909091,
          11.294353535353537,
          11.601616161616164,
          11.908878787878788,
          12.216141414141415,
          12.523404040404042,
          12.830666666666666,
          13.137929292929293,
          13.44519191919192,
          13.752454545454547,
          14.059717171717171,
          14.366979797979798,
          14.674242424242426,
          14.981505050505053,
          15.288767676767677,
          15.596030303030304,
          15.903292929292931,
          16.21055555555556,
          16.517818181818182,
          16.82508080808081,
          17.132343434343436,
          17.43960606060606,
          17.746868686868687,
          18.054131313131315,
          18.361393939393942,
          18.668656565656566,
          18.975919191919193,
          19.28318181818182,
          19.590444444444444,
          19.89770707070707,
          20.204969696969698,
          20.512232323232325,
          20.81949494949495,
          21.126757575757576,
          21.434020202020204,
          21.74128282828283,
          22.048545454545454,
          22.35580808080808,
          22.66307070707071,
          22.970333333333333,
          23.27759595959596,
          23.584858585858587,
          23.892121212121214,
          24.199383838383838,
          24.506646464646465,
          24.813909090909092,
          25.12117171717172,
          25.428434343434343,
          25.73569696969697,
          26.042959595959598,
          26.350222222222225,
          26.65748484848485,
          26.964747474747476,
          27.272010101010103,
          27.579272727272727,
          27.886535353535354,
          28.19379797979798,
          28.50106060606061,
          28.808323232323232,
          29.11558585858586,
          29.422848484848487,
          29.730111111111114,
          30.037373737373738,
          30.344636363636365,
          30.651898989898992,
          30.95916161616162,
          31.266424242424243,
          31.57368686868687,
          31.880949494949498,
          32.188212121212125,
          32.49547474747475,
          32.80273737373738,
          33.11
         ],
         "y": [
          -0.153276570314068,
          -0.1393925216908788,
          -0.12550847306768956,
          -0.11162442444450035,
          -0.09774037582131115,
          -0.08385632719812194,
          -0.06997227857493277,
          -0.05608822995174351,
          -0.04220418132855436,
          -0.028320132705365098,
          -0.014436084082175948,
          -0.0005520354589866883,
          0.013332013164202516,
          0.02721606178739172,
          0.041100110410580926,
          0.05498415903377013,
          0.06886820765695933,
          0.08275225628014854,
          0.09663630490333774,
          0.11052035352652695,
          0.12440440214971615,
          0.1382884507729054,
          0.15217249939609462,
          0.16605654801928377,
          0.17994059664247303,
          0.19382464526566218,
          0.20770869388885133,
          0.22159274251204059,
          0.23547679113522985,
          0.2493608397584191,
          0.26324488838160814,
          0.2771289370047974,
          0.29101298562798666,
          0.3048970342511758,
          0.3187810828743651,
          0.33266513149755433,
          0.3465491801207435,
          0.36043322874393263,
          0.3743172773671219,
          0.38820132599031115,
          0.4020853746135004,
          0.41596942323668945,
          0.4298534718598787,
          0.44373752048306797,
          0.45762156910625723,
          0.47150561772944627,
          0.48538966635263553,
          0.4992737149758248,
          0.5131577635990139,
          0.5270418122222031,
          0.5409258608453924,
          0.5548099094685817,
          0.5686939580917707,
          0.58257800671496,
          0.5964620553381492,
          0.6103461039613383,
          0.6242301525845275,
          0.6381142012077168,
          0.651998249830906,
          0.6658822984540951,
          0.6797663470772843,
          0.6936503957004736,
          0.7075344443236629,
          0.7214184929468519,
          0.7353025415700414,
          0.7491865901932306,
          0.7630706388164197,
          0.7769546874396089,
          0.7908387360627982,
          0.8047227846859875,
          0.8186068333091765,
          0.8324908819323658,
          0.846374930555555,
          0.8602589791787443,
          0.8741430278019333,
          0.8880270764251226,
          0.9019111250483118,
          0.9157951736715011,
          0.9296792222946901,
          0.9435632709178794,
          0.9574473195410687,
          0.9713313681642577,
          0.985215416787447,
          0.9990994654106362,
          1.0129835140338255,
          1.0268675626570145,
          1.0407516112802038,
          1.054635659903393,
          1.0685197085265823,
          1.0824037571497713,
          1.0962878057729606,
          1.1101718543961498,
          1.124055903019339,
          1.1379399516425284,
          1.1518240002657176,
          1.165708048888907,
          1.179592097512096,
          1.1934761461352852,
          1.2073601947584744,
          1.2212442433816635
         ]
        },
        {
         "line": {
          "color": "gray",
          "dash": "dot"
         },
         "mode": "lines",
         "name": "Least Squares Decision Boundary",
         "type": "scatter",
         "x": [
          15.44487469675942,
          15.44487469675942
         ],
         "y": [
          -0.5,
          1.5
         ]
        },
        {
         "line": {
          "color": "black",
          "dash": "dash"
         },
         "mode": "lines",
         "name": "Decision Boundary",
         "type": "scatter",
         "x": [
          17.14841657338233,
          17.14841657338233
         ],
         "y": [
          -0.5,
          1.5
         ]
        },
        {
         "marker": {
          "color": "green",
          "size": 10
         },
         "mode": "markers",
         "name": "Extreme Point",
         "type": "scatter",
         "x": [
          100
         ],
         "y": [
          1
         ]
        }
       ],
       "layout": {
        "template": {
         "data": {
          "bar": [
           {
            "error_x": {
             "color": "#2a3f5f"
            },
            "error_y": {
             "color": "#2a3f5f"
            },
            "marker": {
             "line": {
              "color": "#E5ECF6",
              "width": 0.5
             }
            },
            "type": "bar"
           }
          ],
          "barpolar": [
           {
            "marker": {
             "line": {
              "color": "#E5ECF6",
              "width": 0.5
             }
            },
            "type": "barpolar"
           }
          ],
          "carpet": [
           {
            "aaxis": {
             "endlinecolor": "#2a3f5f",
             "gridcolor": "white",
             "linecolor": "white",
             "minorgridcolor": "white",
             "startlinecolor": "#2a3f5f"
            },
            "baxis": {
             "endlinecolor": "#2a3f5f",
             "gridcolor": "white",
             "linecolor": "white",
             "minorgridcolor": "white",
             "startlinecolor": "#2a3f5f"
            },
            "type": "carpet"
           }
          ],
          "choropleth": [
           {
            "colorbar": {
             "outlinewidth": 0,
             "ticks": ""
            },
            "type": "choropleth"
           }
          ],
          "contour": [
           {
            "colorbar": {
             "outlinewidth": 0,
             "ticks": ""
            },
            "colorscale": [
             [
              0,
              "#0d0887"
             ],
             [
              0.1111111111111111,
              "#46039f"
             ],
             [
              0.2222222222222222,
              "#7201a8"
             ],
             [
              0.3333333333333333,
              "#9c179e"
             ],
             [
              0.4444444444444444,
              "#bd3786"
             ],
             [
              0.5555555555555556,
              "#d8576b"
             ],
             [
              0.6666666666666666,
              "#ed7953"
             ],
             [
              0.7777777777777778,
              "#fb9f3a"
             ],
             [
              0.8888888888888888,
              "#fdca26"
             ],
             [
              1,
              "#f0f921"
             ]
            ],
            "type": "contour"
           }
          ],
          "contourcarpet": [
           {
            "colorbar": {
             "outlinewidth": 0,
             "ticks": ""
            },
            "type": "contourcarpet"
           }
          ],
          "heatmap": [
           {
            "colorbar": {
             "outlinewidth": 0,
             "ticks": ""
            },
            "colorscale": [
             [
              0,
              "#0d0887"
             ],
             [
              0.1111111111111111,
              "#46039f"
             ],
             [
              0.2222222222222222,
              "#7201a8"
             ],
             [
              0.3333333333333333,
              "#9c179e"
             ],
             [
              0.4444444444444444,
              "#bd3786"
             ],
             [
              0.5555555555555556,
              "#d8576b"
             ],
             [
              0.6666666666666666,
              "#ed7953"
             ],
             [
              0.7777777777777778,
              "#fb9f3a"
             ],
             [
              0.8888888888888888,
              "#fdca26"
             ],
             [
              1,
              "#f0f921"
             ]
            ],
            "type": "heatmap"
           }
          ],
          "heatmapgl": [
           {
            "colorbar": {
             "outlinewidth": 0,
             "ticks": ""
            },
            "colorscale": [
             [
              0,
              "#0d0887"
             ],
             [
              0.1111111111111111,
              "#46039f"
             ],
             [
              0.2222222222222222,
              "#7201a8"
             ],
             [
              0.3333333333333333,
              "#9c179e"
             ],
             [
              0.4444444444444444,
              "#bd3786"
             ],
             [
              0.5555555555555556,
              "#d8576b"
             ],
             [
              0.6666666666666666,
              "#ed7953"
             ],
             [
              0.7777777777777778,
              "#fb9f3a"
             ],
             [
              0.8888888888888888,
              "#fdca26"
             ],
             [
              1,
              "#f0f921"
             ]
            ],
            "type": "heatmapgl"
           }
          ],
          "histogram": [
           {
            "marker": {
             "colorbar": {
              "outlinewidth": 0,
              "ticks": ""
             }
            },
            "type": "histogram"
           }
          ],
          "histogram2d": [
           {
            "colorbar": {
             "outlinewidth": 0,
             "ticks": ""
            },
            "colorscale": [
             [
              0,
              "#0d0887"
             ],
             [
              0.1111111111111111,
              "#46039f"
             ],
             [
              0.2222222222222222,
              "#7201a8"
             ],
             [
              0.3333333333333333,
              "#9c179e"
             ],
             [
              0.4444444444444444,
              "#bd3786"
             ],
             [
              0.5555555555555556,
              "#d8576b"
             ],
             [
              0.6666666666666666,
              "#ed7953"
             ],
             [
              0.7777777777777778,
              "#fb9f3a"
             ],
             [
              0.8888888888888888,
              "#fdca26"
             ],
             [
              1,
              "#f0f921"
             ]
            ],
            "type": "histogram2d"
           }
          ],
          "histogram2dcontour": [
           {
            "colorbar": {
             "outlinewidth": 0,
             "ticks": ""
            },
            "colorscale": [
             [
              0,
              "#0d0887"
             ],
             [
              0.1111111111111111,
              "#46039f"
             ],
             [
              0.2222222222222222,
              "#7201a8"
             ],
             [
              0.3333333333333333,
              "#9c179e"
             ],
             [
              0.4444444444444444,
              "#bd3786"
             ],
             [
              0.5555555555555556,
              "#d8576b"
             ],
             [
              0.6666666666666666,
              "#ed7953"
             ],
             [
              0.7777777777777778,
              "#fb9f3a"
             ],
             [
              0.8888888888888888,
              "#fdca26"
             ],
             [
              1,
              "#f0f921"
             ]
            ],
            "type": "histogram2dcontour"
           }
          ],
          "mesh3d": [
           {
            "colorbar": {
             "outlinewidth": 0,
             "ticks": ""
            },
            "type": "mesh3d"
           }
          ],
          "parcoords": [
           {
            "line": {
             "colorbar": {
              "outlinewidth": 0,
              "ticks": ""
             }
            },
            "type": "parcoords"
           }
          ],
          "pie": [
           {
            "automargin": true,
            "type": "pie"
           }
          ],
          "scatter": [
           {
            "marker": {
             "colorbar": {
              "outlinewidth": 0,
              "ticks": ""
             }
            },
            "type": "scatter"
           }
          ],
          "scatter3d": [
           {
            "line": {
             "colorbar": {
              "outlinewidth": 0,
              "ticks": ""
             }
            },
            "marker": {
             "colorbar": {
              "outlinewidth": 0,
              "ticks": ""
             }
            },
            "type": "scatter3d"
           }
          ],
          "scattercarpet": [
           {
            "marker": {
             "colorbar": {
              "outlinewidth": 0,
              "ticks": ""
             }
            },
            "type": "scattercarpet"
           }
          ],
          "scattergeo": [
           {
            "marker": {
             "colorbar": {
              "outlinewidth": 0,
              "ticks": ""
             }
            },
            "type": "scattergeo"
           }
          ],
          "scattergl": [
           {
            "marker": {
             "colorbar": {
              "outlinewidth": 0,
              "ticks": ""
             }
            },
            "type": "scattergl"
           }
          ],
          "scattermapbox": [
           {
            "marker": {
             "colorbar": {
              "outlinewidth": 0,
              "ticks": ""
             }
            },
            "type": "scattermapbox"
           }
          ],
          "scatterpolar": [
           {
            "marker": {
             "colorbar": {
              "outlinewidth": 0,
              "ticks": ""
             }
            },
            "type": "scatterpolar"
           }
          ],
          "scatterpolargl": [
           {
            "marker": {
             "colorbar": {
              "outlinewidth": 0,
              "ticks": ""
             }
            },
            "type": "scatterpolargl"
           }
          ],
          "scatterternary": [
           {
            "marker": {
             "colorbar": {
              "outlinewidth": 0,
              "ticks": ""
             }
            },
            "type": "scatterternary"
           }
          ],
          "surface": [
           {
            "colorbar": {
             "outlinewidth": 0,
             "ticks": ""
            },
            "colorscale": [
             [
              0,
              "#0d0887"
             ],
             [
              0.1111111111111111,
              "#46039f"
             ],
             [
              0.2222222222222222,
              "#7201a8"
             ],
             [
              0.3333333333333333,
              "#9c179e"
             ],
             [
              0.4444444444444444,
              "#bd3786"
             ],
             [
              0.5555555555555556,
              "#d8576b"
             ],
             [
              0.6666666666666666,
              "#ed7953"
             ],
             [
              0.7777777777777778,
              "#fb9f3a"
             ],
             [
              0.8888888888888888,
              "#fdca26"
             ],
             [
              1,
              "#f0f921"
             ]
            ],
            "type": "surface"
           }
          ],
          "table": [
           {
            "cells": {
             "fill": {
              "color": "#EBF0F8"
             },
             "line": {
              "color": "white"
             }
            },
            "header": {
             "fill": {
              "color": "#C8D4E3"
             },
             "line": {
              "color": "white"
             }
            },
            "type": "table"
           }
          ]
         },
         "layout": {
          "annotationdefaults": {
           "arrowcolor": "#2a3f5f",
           "arrowhead": 0,
           "arrowwidth": 1
          },
          "coloraxis": {
           "colorbar": {
            "outlinewidth": 0,
            "ticks": ""
           }
          },
          "colorscale": {
           "diverging": [
            [
             0,
             "#8e0152"
            ],
            [
             0.1,
             "#c51b7d"
            ],
            [
             0.2,
             "#de77ae"
            ],
            [
             0.3,
             "#f1b6da"
            ],
            [
             0.4,
             "#fde0ef"
            ],
            [
             0.5,
             "#f7f7f7"
            ],
            [
             0.6,
             "#e6f5d0"
            ],
            [
             0.7,
             "#b8e186"
            ],
            [
             0.8,
             "#7fbc41"
            ],
            [
             0.9,
             "#4d9221"
            ],
            [
             1,
             "#276419"
            ]
           ],
           "sequential": [
            [
             0,
             "#0d0887"
            ],
            [
             0.1111111111111111,
             "#46039f"
            ],
            [
             0.2222222222222222,
             "#7201a8"
            ],
            [
             0.3333333333333333,
             "#9c179e"
            ],
            [
             0.4444444444444444,
             "#bd3786"
            ],
            [
             0.5555555555555556,
             "#d8576b"
            ],
            [
             0.6666666666666666,
             "#ed7953"
            ],
            [
             0.7777777777777778,
             "#fb9f3a"
            ],
            [
             0.8888888888888888,
             "#fdca26"
            ],
            [
             1,
             "#f0f921"
            ]
           ],
           "sequentialminus": [
            [
             0,
             "#0d0887"
            ],
            [
             0.1111111111111111,
             "#46039f"
            ],
            [
             0.2222222222222222,
             "#7201a8"
            ],
            [
             0.3333333333333333,
             "#9c179e"
            ],
            [
             0.4444444444444444,
             "#bd3786"
            ],
            [
             0.5555555555555556,
             "#d8576b"
            ],
            [
             0.6666666666666666,
             "#ed7953"
            ],
            [
             0.7777777777777778,
             "#fb9f3a"
            ],
            [
             0.8888888888888888,
             "#fdca26"
            ],
            [
             1,
             "#f0f921"
            ]
           ]
          },
          "colorway": [
           "#636efa",
           "#EF553B",
           "#00cc96",
           "#ab63fa",
           "#FFA15A",
           "#19d3f3",
           "#FF6692",
           "#B6E880",
           "#FF97FF",
           "#FECB52"
          ],
          "font": {
           "color": "#2a3f5f"
          },
          "geo": {
           "bgcolor": "white",
           "lakecolor": "white",
           "landcolor": "#E5ECF6",
           "showlakes": true,
           "showland": true,
           "subunitcolor": "white"
          },
          "hoverlabel": {
           "align": "left"
          },
          "hovermode": "closest",
          "mapbox": {
           "style": "light"
          },
          "paper_bgcolor": "white",
          "plot_bgcolor": "#E5ECF6",
          "polar": {
           "angularaxis": {
            "gridcolor": "white",
            "linecolor": "white",
            "ticks": ""
           },
           "bgcolor": "#E5ECF6",
           "radialaxis": {
            "gridcolor": "white",
            "linecolor": "white",
            "ticks": ""
           }
          },
          "scene": {
           "xaxis": {
            "backgroundcolor": "#E5ECF6",
            "gridcolor": "white",
            "gridwidth": 2,
            "linecolor": "white",
            "showbackground": true,
            "ticks": "",
            "zerolinecolor": "white"
           },
           "yaxis": {
            "backgroundcolor": "#E5ECF6",
            "gridcolor": "white",
            "gridwidth": 2,
            "linecolor": "white",
            "showbackground": true,
            "ticks": "",
            "zerolinecolor": "white"
           },
           "zaxis": {
            "backgroundcolor": "#E5ECF6",
            "gridcolor": "white",
            "gridwidth": 2,
            "linecolor": "white",
            "showbackground": true,
            "ticks": "",
            "zerolinecolor": "white"
           }
          },
          "shapedefaults": {
           "line": {
            "color": "#2a3f5f"
           }
          },
          "ternary": {
           "aaxis": {
            "gridcolor": "white",
            "linecolor": "white",
            "ticks": ""
           },
           "baxis": {
            "gridcolor": "white",
            "linecolor": "white",
            "ticks": ""
           },
           "bgcolor": "#E5ECF6",
           "caxis": {
            "gridcolor": "white",
            "linecolor": "white",
            "ticks": ""
           }
          },
          "title": {
           "x": 0.05
          },
          "xaxis": {
           "automargin": true,
           "gridcolor": "white",
           "linecolor": "white",
           "ticks": "",
           "title": {
            "standoff": 15
           },
           "zerolinecolor": "white",
           "zerolinewidth": 2
          },
          "yaxis": {
           "automargin": true,
           "gridcolor": "white",
           "linecolor": "white",
           "ticks": "",
           "title": {
            "standoff": 15
           },
           "zerolinecolor": "white",
           "zerolinewidth": 2
          }
         }
        }
       }
      },
      "text/html": [
       "<div>\n",
       "        \n",
       "        \n",
       "            <div id=\"cf6f5fb1-d4c6-48f2-bf33-a465034dd68d\" class=\"plotly-graph-div\" style=\"height:525px; width:100%;\"></div>\n",
       "            <script type=\"text/javascript\">\n",
       "                require([\"plotly\"], function(Plotly) {\n",
       "                    window.PLOTLYENV=window.PLOTLYENV || {};\n",
       "                    \n",
       "                if (document.getElementById(\"cf6f5fb1-d4c6-48f2-bf33-a465034dd68d\")) {\n",
       "                    Plotly.newPlot(\n",
       "                        'cf6f5fb1-d4c6-48f2-bf33-a465034dd68d',\n",
       "                        [{\"marker\": {\"color\": \"red\", \"opacity\": 0.5}, \"mode\": \"markers\", \"name\": \"Classified as Malignant\", \"type\": \"scatter\", \"x\": [17.75, 20.58, 22.27, 19.4, 17.35, 16.11, 18.49, 15.46, 19.21, 18.81, 17.14, 19.07, 19.16, 19.8, 16.65, 16.13, 21.75, 27.22, 21.16, 20.16, 18.65, 15.61, 17.06, 16.84, 20.48, 17.47, 20.09, 17.95, 16.69, 16.35, 16.5, 17.3, 20.59, 16.27, 17.29, 18.03, 19.18, 25.73, 24.63, 17.46, 19.44, 20.47, 20.18, 24.25, 23.29, 20.34, 16.17, 20.44, 18.82, 21.71, 15.75, 18.22, 19.53, 19.79, 19.59, 20.64, 17.08, 20.51, 23.27, 18.22, 18.08, 15.66, 18.01, 19.0, 17.91, 15.71, 16.24, 18.46, 18.31, 19.17, 16.74, 20.26, 15.75, 16.25, 15.46, 15.49, 19.4, 19.45, 20.29, 19.55, 17.42, 16.14, 17.02, 15.5, 18.45, 18.61, 17.05, 20.31, 19.59, 18.31, 19.53, 17.68, 18.77, 23.21, 17.01, 28.11, 27.42, 16.6, 17.54, 19.19, 15.53, 19.55, 20.57, 16.13, 16.3, 20.2, 23.51, 15.85, 20.92, 15.73, 19.73, 17.85, 19.68, 21.37, 19.02, 16.03, 18.66], \"y\": [1.0094194667364984, 0.9901628986226871, 0.9641860915918707, 1.0345977623730036, 1.0149904624944002, 0.9647812263663453, 0.9568853794205072, 0.985479846321659, 1.0013948778065107, 0.9567758593978377, 0.9867832934261276, 1.0458898064469844, 0.9772848514055266, 1.0090863928126208, 0.9727942148333304, 0.9635979181115035, 0.9846603075487779, 0.9543429247369912, 1.0342785708455695, 1.0286251209552661, 1.0277781604372345, 0.9868598110267983, 0.9548818297420045, 0.040252570326578224, 1.0136903310326981, 1.039823245472742, 1.0124193512020425, 1.0223018251877054, 0.9976618494993439, 0.99537415845548, 0.04755171106812425, 0.9914412517984759, 1.0308639460064897, 1.0213399954317801, 0.9858238957277004, 1.041011564015852, 1.0055894240318948, 0.9771191235273176, 1.0388621733091832, 1.0028494325634043, 0.9866401773927382, 1.04547722476063, 1.0313005952121308, 0.9602171548143628, 1.035972193856135, 1.0159197688121666, -0.049411657288967195, 0.9632597705387389, 0.9801511973552168, 0.9891251886260826, 0.9874512874930694, 1.011901783356336, 1.0435100128329198, 0.9555388226595991, 1.0467239703893398, 1.0317118022766045, 1.002797181224056, 1.0101981278998422, 0.9616431754474726, 1.0183662453839963, 1.0468903318343832, 0.9976268894734364, 0.9801951580666397, 0.9962270454480635, 0.9681511070161823, -0.04938015268620919, 1.0035550970205829, 1.0422507001999484, 1.0398209745683797, 1.036858193011073, 0.9686068838686221, 0.9700513751570037, 1.031147871827471, 0.9951803367205685, 1.0467841723922866, 0.9964992416852052, 0.9866568114347218, 1.018367912543454, 0.97658184563323, 1.0495631869675488, 0.9825994033407419, -0.0428799778506154, 0.9764545626950569, 1.0158196928073264, 0.9540804898994468, 0.9526077703869522, 1.0340290490137596, 1.0229434301636582, 1.0096570638758622, 1.018795766318713, 1.0325931996525934, 1.042638246740882, 0.9559341012450404, 1.030253365829157, 1.0428191462566407, 1.034844170183188, 0.9606303291915872, 1.0110762271227232, 1.0469077151977106, 0.9927914976448633, 1.0087601593772892, 1.0177110973085617, 1.0241237826299932, 1.0396515956756762, 0.026418933019270535, 0.9806371461800523, 0.9683054514082445, 0.968772409561381, 1.048329404062847, 0.018512800996131104, 1.0494520602582218, -0.03864455327572056, 0.9947969320725849, 1.0485882936393756, 1.0488879601366297, 0.9965477559951632, 0.9949183070400736]}, {\"marker\": {\"color\": \"blue\", \"opacity\": 0.5}, \"mode\": \"markers\", \"name\": \"Classified as Benign\", \"type\": \"scatter\", \"x\": [12.89, 13.4, 12.96, 15.28, 13.78, 15.1, 12.34, 8.196, 13.45, 11.32, 7.76, 14.86, 11.13, 9.72, 9.606, 10.08, 12.56, 15.13, 10.48, 12.78, 14.74, 9.904, 13.82, 12.89, 13.74, 13.37, 14.69, 12.91, 13.62, 15.0, 11.8, 14.53, 13.71, 11.36, 8.726, 13.71, 14.47, 13.54, 12.85, 12.47, 12.46, 10.86, 11.37, 13.49, 9.567, 11.06, 14.61, 7.691, 13.69, 11.46, 12.06, 13.15, 13.61, 10.26, 9.333, 11.06, 10.66, 11.84, 10.51, 12.67, 11.08, 11.04, 12.43, 14.71, 14.87, 12.87, 9.465, 13.16, 10.91, 12.25, 12.75, 14.58, 12.27, 12.16, 14.27, 15.06, 12.99, 13.27, 13.87, 13.87, 13.59, 12.45, 8.95, 13.65, 11.47, 14.42, 14.68, 12.05, 9.683, 10.97, 11.42, 12.54, 14.34, 14.58, 11.76, 12.83, 13.03, 13.21, 8.671, 11.87, 12.76, 14.86, 12.65, 11.31, 11.94, 14.96, 11.6, 12.34, 9.731, 11.27, 14.02, 10.51, 9.876, 11.57, 12.31, 13.66, 10.32, 12.21, 12.21, 12.87, 12.18, 12.04, 10.05, 14.25, 11.28, 8.618, 12.63, 12.54, 11.76, 13.0, 10.6, 11.62, 14.99, 11.89, 9.0, 9.042, 11.8, 13.9, 14.95, 13.46, 14.5, 12.18, 12.9, 9.787, 12.2, 11.85, 11.41, 13.2, 12.45, 11.95, 13.85, 15.19, 11.06, 15.05, 11.14, 12.94, 13.24, 13.05, 13.85, 13.3, 12.72, 12.0, 14.26, 12.81, 9.405, 10.94, 8.597, 8.219, 10.57, 13.2, 12.39, 11.71, 14.04, 11.22, 11.93, 11.41, 12.72, 10.57, 13.27, 9.397, 14.76, 11.51, 12.58, 9.847, 9.676, 12.36, 11.63, 14.8, 13.17, 14.97, 14.78, 11.3, 14.92, 10.9, 15.3, 12.32, 11.43, 11.68, 11.16, 14.53, 13.56, 11.34, 13.64, 13.64, 14.59, 9.668, 13.01, 10.95, 8.571, 9.876, 8.878, 12.8, 12.22, 10.96, 14.9, 13.61, 10.44, 12.88, 9.436, 13.43, 11.6, 12.95, 13.86, 8.598, 13.17, 13.59, 12.03, 12.23, 11.49, 13.66, 11.26, 12.7, 8.734, 14.95, 14.25, 12.77, 15.1, 12.77, 13.0, 14.11, 11.71, 12.68, 13.73, 13.44, 11.08, 11.71, 12.46, 11.89, 12.27, 13.85, 11.94, 11.26, 13.77, 11.69, 11.5, 14.05, 13.38, 10.49, 11.66, 10.71, 13.7, 11.99, 13.28, 10.2, 11.93, 14.22, 14.2, 13.05, 13.11, 12.07, 11.45, 15.12, 10.8, 12.62, 15.37, 10.26, 12.42, 12.49, 13.88, 9.742, 10.8, 12.88, 9.268, 13.75, 12.3, 12.83, 11.74, 13.05, 10.88, 9.504, 11.54, 9.755, 11.75, 11.33, 12.77, 14.6, 14.99, 13.5, 12.19, 14.42, 13.0, 14.19, 13.14, 13.08, 8.888, 11.64, 14.29, 13.98, 12.18], \"y\": [-0.03871093547748187, 0.973031429228971, -0.00934966851589477, 1.0441608886489846, 0.021855440743051097, 1.0256835403510236, 0.04411841776214086, 0.018358162891157798, -0.035203055351680446, 0.003004227336489154, 0.0018930355840096613, 0.0007571147257982164, 0.02946811211117742, -0.016514323798400614, 0.03591590616334116, -0.003955947376397519, -0.00490857874956141, 0.9845795974631375, 0.03161473857812652, -0.010038857914597597, 0.043895820793316484, 0.04782015710149884, 0.9862016703635523, -0.0163202071477404, 0.03305638074075254, 0.028850645290513094, -0.004947059404943485, 0.0019138398355504904, 0.039657438224984326, -0.0022866587434267824, 0.0398544782333566, 0.018770302853799062, -0.0028732790822296184, -0.04512015115945958, -0.0001744664047537703, 1.0246418944426703, 0.03813113604723671, 0.003973083479412318, 0.032987057619913565, 0.043411493576620996, 0.017852457973771385, 0.04834658558212236, -0.038452337277676954, -0.02166213925599172, 0.014344781964159031, -0.03491908923301226, -0.0061577681113100385, -0.02239209199472543, 0.031045435404738628, 0.037236410961093785, -0.01991255828202715, -0.019363033660789664, 0.9989899681724259, 0.02617188240180232, -0.020725693013268178, -0.03711855942089653, 0.025848891247781336, 1.0434171795479632, 0.042387132228147634, -0.023219755273909584, -0.04366662722004227, 0.025296328287969364, -0.032835606795666744, 1.0323780919303303, 0.02454367782883521, 0.02231684821188966, -0.03650560317542925, -0.04744924910034143, 0.011381982291514547, 0.006775958803326487, 0.012022099664300775, 0.04457530658038593, -0.01217620033891241, 0.026388329294176574, 0.9572302027076605, 0.9751125768912969, -0.003823744998534287, -0.0459015133880792, 0.0015428782276932992, 0.03896944957467023, -0.04274704963016197, 0.9565617468637619, -0.01393730064095694, -0.02403701466457363, -0.01648328978275137, -0.024737976276531015, 1.0005605570078775, 0.030423775383865453, -0.009447363211218272, 0.022485580214995, 0.9638922654551665, -0.019641865261471127, -0.013231453319398026, 1.018455751262698, 0.014060041133791334, 1.018625278622436, 0.01063695741250796, -0.0328746389714903, -0.04316087103272834, 0.035281798751820956, -0.041754893676943974, 0.9502874501847034, -0.03581150194320404, 0.001828355809236834, 0.020972794061758074, 0.04452878585434425, -0.013344731046680568, 0.9831236097908449, -0.04079276299340898, -0.009371147779787224, -0.04002711705598741, 0.04048793707367039, -0.02246966610468104, -0.04330392384469931, 0.0117144224348021, -0.009084085195117518, -0.0005068192839755362, 0.0368783138172314, -0.014103773879070636, 0.0012551561384695625, 0.012159040510335464, -0.029391036565180363, 0.018293989692739224, 1.0414381059391788, -0.0014558792732840692, -0.02915908693153555, 0.048005807005620835, -0.02385336884854924, 0.9799013675746944, -0.03518137527740278, 0.03918265641403494, 0.022694889252465128, 0.9593984881730717, 0.049564183279137114, -0.033497312164887806, 0.030889153609816783, 0.9992121798374538, -0.03759719002426825, -0.0310119092206672, 0.008971595428562754, -0.009826460901817977, 0.011779711621280574, -0.025350029836085808, 0.005974468275795716, -0.010702457944718066, -0.03710052884944054, 0.040853238650529894, -0.04418085169188435, 0.031364386473498956, -0.02360696766076975, 0.040021947824546364, 0.012844326027343145, -0.0315226085549347, 1.0119051181450223, 0.04914916651938428, -0.04221696118239128, -0.006061154622520083, 0.030171761019026744, -0.02647506245311756, 0.03241890307033879, -0.011136589847934565, -0.03675546415733715, -0.003483506738546839, 0.012407501973565792, 0.013552841325877446, -0.0014722739548642533, -0.03636526758891409, -0.040337854732963266, -0.00683165764658137, -0.04052204880537818, -0.03445666373706863, -0.03550618021597921, -0.02973355755787942, -0.012348521328653196, 0.03545615642790405, -0.002409481558125516, -0.04978672384319534, -0.041298154866718555, -0.0067088393433722415, -0.011129634262976675, -0.0279310649850977, -0.03247130721997976, 0.011132885778986266, -0.006353416003641407, -0.01814625503340707, 0.031942638912264995, -0.02975166987181165, 0.036562360373661215, 1.045941655210299, -0.047621839165901486, 1.0192040455790916, -0.03275215983303077, 0.004056987264667744, -0.04912456199502111, 0.9575806137637812, 0.01232266984717445, -0.04296782705688937, -0.014899803253738651, -0.03734761991204547, 0.027564033840471472, 0.03462569211890086, -0.03869075600055255, 0.04684376396097055, -0.04005702793560665, 0.02348236725684373, 0.030053130958929086, 0.048168857463242606, 0.9870787502212472, -0.004684299615640174, 0.013970861182312971, 0.038636748295766604, -0.049217053911213685, 0.030795711535592504, 0.01711355960278041, 0.9714342598960399, 0.9684471350743986, 0.018625906456968627, 0.009540508321407126, 0.03745811247869392, 0.995700848011404, 0.024035055917471237, 0.04692438368729229, 1.0136174765738921, 0.04876559823737614, 1.0332231257773292, 0.036809185903994054, -0.016051162011777767, 0.005524969571305827, -0.0021156727230152925, -0.045615566319318214, -0.04315628628666231, 0.0009856004013992017, 0.008297731601376701, 1.048314161177343, 0.9911582383526831, 1.030886567248165, 0.025532296619881698, -0.018018131958510007, 0.9930740971748351, -0.0023470912820527934, -0.041061025444645606, 0.9646643363990608, 1.045749073357709, 1.0151282837268494, 0.9595633252828784, -0.004360703143357271, -0.009713921996992815, 0.009976838735439052, 0.021660493103344614, -0.029191890041058932, -0.011537605951996842, -0.0031827765541955558, 0.045491066219216475, 0.0035371901747344864, 0.0035012041243812284, -0.009448051537956234, -0.03938988489375114, 0.02625725396280705, -0.03040225848763153, 0.04958215355087078, -0.04217440541074396, -0.0076064341374179265, 1.0209089948990635, -0.04014204235969187, -0.029132907419734313, 1.0246169444318465, -0.02250886206816004, -0.022777379062545, 1.0321852534464766, -0.00877396547712802, 0.018044691580561628, 0.9736196888949125, -0.043228101960445256, 0.007116476838568621, 0.971250642902612, -0.04792621264753031, -0.00014995698997468526, 0.008725179855181432, -0.006076760445276622, 0.02084136573065061, -0.024953968003849514, 0.03705234944455228, -0.0038087754473107097, 0.046132897584035285, 0.03589103407703881, 0.04728440618260378, -0.0005564637810501205, -0.01865812552752149, 0.026645429835105067, -0.03508655961006825, -0.007445295327378934, -0.03269515911503737, 0.03545773960904387, 0.01272210435518914, -0.006827217303338462, 0.9762416597848886, -0.02832173672865397, -0.04083208903125188, -0.005360986278259414, 1.0439183659046907, 0.017620236159464175, 1.0312054728722237, 0.049013521294840864, 0.03984862530957495, 0.025456282571598876, -0.02681268806722653, -0.03069418115450391, 1.0417543241556724, 0.03398181642802821]}, {\"line\": {\"color\": \"gray\"}, \"mode\": \"lines\", \"name\": \"Least Squares\", \"type\": \"scatter\", \"x\": [7.691, 9.959777777777777, 12.228555555555555, 14.497333333333334, 16.766111111111112, 19.03488888888889, 21.303666666666665, 23.572444444444443, 25.84122222222222, 28.11], \"y\": [-0.25713148661059004, -0.035595395448855816, 0.1859406957128784, 0.40747678687461275, 0.6290128780363471, 0.8505489691980814, 1.0720850603598153, 1.2936211515215499, 1.515157242683284, 1.7366933338450186]}, {\"line\": {\"color\": \"orange\"}, \"mode\": \"lines\", \"name\": \"New Least Squares\", \"type\": \"scatter\", \"x\": [2.691, 2.998262626262626, 3.3055252525252525, 3.612787878787879, 3.9200505050505052, 4.227313131313132, 4.534575757575757, 4.841838383838384, 5.14910101010101, 5.456363636363637, 5.763626262626262, 6.07088888888889, 6.378151515151515, 6.6854141414141415, 6.992676767676768, 7.299939393939394, 7.6072020202020205, 7.914464646464647, 8.221727272727273, 8.528989898989899, 8.836252525252526, 9.143515151515153, 9.450777777777779, 9.758040404040404, 10.065303030303031, 10.372565656565657, 10.679828282828282, 10.98709090909091, 11.294353535353537, 11.601616161616164, 11.908878787878788, 12.216141414141415, 12.523404040404042, 12.830666666666666, 13.137929292929293, 13.44519191919192, 13.752454545454547, 14.059717171717171, 14.366979797979798, 14.674242424242426, 14.981505050505053, 15.288767676767677, 15.596030303030304, 15.903292929292931, 16.21055555555556, 16.517818181818182, 16.82508080808081, 17.132343434343436, 17.43960606060606, 17.746868686868687, 18.054131313131315, 18.361393939393942, 18.668656565656566, 18.975919191919193, 19.28318181818182, 19.590444444444444, 19.89770707070707, 20.204969696969698, 20.512232323232325, 20.81949494949495, 21.126757575757576, 21.434020202020204, 21.74128282828283, 22.048545454545454, 22.35580808080808, 22.66307070707071, 22.970333333333333, 23.27759595959596, 23.584858585858587, 23.892121212121214, 24.199383838383838, 24.506646464646465, 24.813909090909092, 25.12117171717172, 25.428434343434343, 25.73569696969697, 26.042959595959598, 26.350222222222225, 26.65748484848485, 26.964747474747476, 27.272010101010103, 27.579272727272727, 27.886535353535354, 28.19379797979798, 28.50106060606061, 28.808323232323232, 29.11558585858586, 29.422848484848487, 29.730111111111114, 30.037373737373738, 30.344636363636365, 30.651898989898992, 30.95916161616162, 31.266424242424243, 31.57368686868687, 31.880949494949498, 32.188212121212125, 32.49547474747475, 32.80273737373738, 33.11], \"y\": [-0.153276570314068, -0.1393925216908788, -0.12550847306768956, -0.11162442444450035, -0.09774037582131115, -0.08385632719812194, -0.06997227857493277, -0.05608822995174351, -0.04220418132855436, -0.028320132705365098, -0.014436084082175948, -0.0005520354589866883, 0.013332013164202516, 0.02721606178739172, 0.041100110410580926, 0.05498415903377013, 0.06886820765695933, 0.08275225628014854, 0.09663630490333774, 0.11052035352652695, 0.12440440214971615, 0.1382884507729054, 0.15217249939609462, 0.16605654801928377, 0.17994059664247303, 0.19382464526566218, 0.20770869388885133, 0.22159274251204059, 0.23547679113522985, 0.2493608397584191, 0.26324488838160814, 0.2771289370047974, 0.29101298562798666, 0.3048970342511758, 0.3187810828743651, 0.33266513149755433, 0.3465491801207435, 0.36043322874393263, 0.3743172773671219, 0.38820132599031115, 0.4020853746135004, 0.41596942323668945, 0.4298534718598787, 0.44373752048306797, 0.45762156910625723, 0.47150561772944627, 0.48538966635263553, 0.4992737149758248, 0.5131577635990139, 0.5270418122222031, 0.5409258608453924, 0.5548099094685817, 0.5686939580917707, 0.58257800671496, 0.5964620553381492, 0.6103461039613383, 0.6242301525845275, 0.6381142012077168, 0.651998249830906, 0.6658822984540951, 0.6797663470772843, 0.6936503957004736, 0.7075344443236629, 0.7214184929468519, 0.7353025415700414, 0.7491865901932306, 0.7630706388164197, 0.7769546874396089, 0.7908387360627982, 0.8047227846859875, 0.8186068333091765, 0.8324908819323658, 0.846374930555555, 0.8602589791787443, 0.8741430278019333, 0.8880270764251226, 0.9019111250483118, 0.9157951736715011, 0.9296792222946901, 0.9435632709178794, 0.9574473195410687, 0.9713313681642577, 0.985215416787447, 0.9990994654106362, 1.0129835140338255, 1.0268675626570145, 1.0407516112802038, 1.054635659903393, 1.0685197085265823, 1.0824037571497713, 1.0962878057729606, 1.1101718543961498, 1.124055903019339, 1.1379399516425284, 1.1518240002657176, 1.165708048888907, 1.179592097512096, 1.1934761461352852, 1.2073601947584744, 1.2212442433816635]}, {\"line\": {\"color\": \"gray\", \"dash\": \"dot\"}, \"mode\": \"lines\", \"name\": \"Least Squares Decision Boundary\", \"type\": \"scatter\", \"x\": [15.44487469675942, 15.44487469675942], \"y\": [-0.5, 1.5]}, {\"line\": {\"color\": \"black\", \"dash\": \"dash\"}, \"mode\": \"lines\", \"name\": \"Decision Boundary\", \"type\": \"scatter\", \"x\": [17.14841657338233, 17.14841657338233], \"y\": [-0.5, 1.5]}, {\"marker\": {\"color\": \"green\", \"size\": 10}, \"mode\": \"markers\", \"name\": \"Extreme Point\", \"type\": \"scatter\", \"x\": [100], \"y\": [1]}],\n",
       "                        {\"template\": {\"data\": {\"bar\": [{\"error_x\": {\"color\": \"#2a3f5f\"}, \"error_y\": {\"color\": \"#2a3f5f\"}, \"marker\": {\"line\": {\"color\": \"#E5ECF6\", \"width\": 0.5}}, \"type\": \"bar\"}], \"barpolar\": [{\"marker\": {\"line\": {\"color\": \"#E5ECF6\", \"width\": 0.5}}, \"type\": \"barpolar\"}], \"carpet\": [{\"aaxis\": {\"endlinecolor\": \"#2a3f5f\", \"gridcolor\": \"white\", \"linecolor\": \"white\", \"minorgridcolor\": \"white\", \"startlinecolor\": \"#2a3f5f\"}, \"baxis\": {\"endlinecolor\": \"#2a3f5f\", \"gridcolor\": \"white\", \"linecolor\": \"white\", \"minorgridcolor\": \"white\", \"startlinecolor\": \"#2a3f5f\"}, \"type\": \"carpet\"}], \"choropleth\": [{\"colorbar\": {\"outlinewidth\": 0, \"ticks\": \"\"}, \"type\": \"choropleth\"}], \"contour\": [{\"colorbar\": {\"outlinewidth\": 0, \"ticks\": \"\"}, \"colorscale\": [[0.0, \"#0d0887\"], [0.1111111111111111, \"#46039f\"], [0.2222222222222222, \"#7201a8\"], [0.3333333333333333, \"#9c179e\"], [0.4444444444444444, \"#bd3786\"], [0.5555555555555556, \"#d8576b\"], [0.6666666666666666, \"#ed7953\"], [0.7777777777777778, \"#fb9f3a\"], [0.8888888888888888, \"#fdca26\"], [1.0, \"#f0f921\"]], \"type\": \"contour\"}], \"contourcarpet\": [{\"colorbar\": {\"outlinewidth\": 0, \"ticks\": \"\"}, \"type\": \"contourcarpet\"}], \"heatmap\": [{\"colorbar\": {\"outlinewidth\": 0, \"ticks\": \"\"}, \"colorscale\": [[0.0, \"#0d0887\"], [0.1111111111111111, \"#46039f\"], [0.2222222222222222, \"#7201a8\"], [0.3333333333333333, \"#9c179e\"], [0.4444444444444444, \"#bd3786\"], [0.5555555555555556, \"#d8576b\"], [0.6666666666666666, \"#ed7953\"], [0.7777777777777778, \"#fb9f3a\"], [0.8888888888888888, \"#fdca26\"], [1.0, \"#f0f921\"]], \"type\": \"heatmap\"}], \"heatmapgl\": [{\"colorbar\": {\"outlinewidth\": 0, \"ticks\": \"\"}, \"colorscale\": [[0.0, \"#0d0887\"], [0.1111111111111111, \"#46039f\"], [0.2222222222222222, \"#7201a8\"], [0.3333333333333333, \"#9c179e\"], [0.4444444444444444, \"#bd3786\"], [0.5555555555555556, \"#d8576b\"], [0.6666666666666666, \"#ed7953\"], [0.7777777777777778, \"#fb9f3a\"], [0.8888888888888888, \"#fdca26\"], [1.0, \"#f0f921\"]], \"type\": \"heatmapgl\"}], \"histogram\": [{\"marker\": {\"colorbar\": {\"outlinewidth\": 0, \"ticks\": \"\"}}, \"type\": \"histogram\"}], \"histogram2d\": [{\"colorbar\": {\"outlinewidth\": 0, \"ticks\": \"\"}, \"colorscale\": [[0.0, \"#0d0887\"], [0.1111111111111111, \"#46039f\"], [0.2222222222222222, \"#7201a8\"], [0.3333333333333333, \"#9c179e\"], [0.4444444444444444, \"#bd3786\"], [0.5555555555555556, \"#d8576b\"], [0.6666666666666666, \"#ed7953\"], [0.7777777777777778, \"#fb9f3a\"], [0.8888888888888888, \"#fdca26\"], [1.0, \"#f0f921\"]], \"type\": \"histogram2d\"}], \"histogram2dcontour\": [{\"colorbar\": {\"outlinewidth\": 0, \"ticks\": \"\"}, \"colorscale\": [[0.0, \"#0d0887\"], [0.1111111111111111, \"#46039f\"], [0.2222222222222222, \"#7201a8\"], [0.3333333333333333, \"#9c179e\"], [0.4444444444444444, \"#bd3786\"], [0.5555555555555556, \"#d8576b\"], [0.6666666666666666, \"#ed7953\"], [0.7777777777777778, \"#fb9f3a\"], [0.8888888888888888, \"#fdca26\"], [1.0, \"#f0f921\"]], \"type\": \"histogram2dcontour\"}], \"mesh3d\": [{\"colorbar\": {\"outlinewidth\": 0, \"ticks\": \"\"}, \"type\": \"mesh3d\"}], \"parcoords\": [{\"line\": {\"colorbar\": {\"outlinewidth\": 0, \"ticks\": \"\"}}, \"type\": \"parcoords\"}], \"pie\": [{\"automargin\": true, \"type\": \"pie\"}], \"scatter\": [{\"marker\": {\"colorbar\": {\"outlinewidth\": 0, \"ticks\": \"\"}}, \"type\": \"scatter\"}], \"scatter3d\": [{\"line\": {\"colorbar\": {\"outlinewidth\": 0, \"ticks\": \"\"}}, \"marker\": {\"colorbar\": {\"outlinewidth\": 0, \"ticks\": \"\"}}, \"type\": \"scatter3d\"}], \"scattercarpet\": [{\"marker\": {\"colorbar\": {\"outlinewidth\": 0, \"ticks\": \"\"}}, \"type\": \"scattercarpet\"}], \"scattergeo\": [{\"marker\": {\"colorbar\": {\"outlinewidth\": 0, \"ticks\": \"\"}}, \"type\": \"scattergeo\"}], \"scattergl\": [{\"marker\": {\"colorbar\": {\"outlinewidth\": 0, \"ticks\": \"\"}}, \"type\": \"scattergl\"}], \"scattermapbox\": [{\"marker\": {\"colorbar\": {\"outlinewidth\": 0, \"ticks\": \"\"}}, \"type\": \"scattermapbox\"}], \"scatterpolar\": [{\"marker\": {\"colorbar\": {\"outlinewidth\": 0, \"ticks\": \"\"}}, \"type\": \"scatterpolar\"}], \"scatterpolargl\": [{\"marker\": {\"colorbar\": {\"outlinewidth\": 0, \"ticks\": \"\"}}, \"type\": \"scatterpolargl\"}], \"scatterternary\": [{\"marker\": {\"colorbar\": {\"outlinewidth\": 0, \"ticks\": \"\"}}, \"type\": \"scatterternary\"}], \"surface\": [{\"colorbar\": {\"outlinewidth\": 0, \"ticks\": \"\"}, \"colorscale\": [[0.0, \"#0d0887\"], [0.1111111111111111, \"#46039f\"], [0.2222222222222222, \"#7201a8\"], [0.3333333333333333, \"#9c179e\"], [0.4444444444444444, \"#bd3786\"], [0.5555555555555556, \"#d8576b\"], [0.6666666666666666, \"#ed7953\"], [0.7777777777777778, \"#fb9f3a\"], [0.8888888888888888, \"#fdca26\"], [1.0, \"#f0f921\"]], \"type\": \"surface\"}], \"table\": [{\"cells\": {\"fill\": {\"color\": \"#EBF0F8\"}, \"line\": {\"color\": \"white\"}}, \"header\": {\"fill\": {\"color\": \"#C8D4E3\"}, \"line\": {\"color\": \"white\"}}, \"type\": \"table\"}]}, \"layout\": {\"annotationdefaults\": {\"arrowcolor\": \"#2a3f5f\", \"arrowhead\": 0, \"arrowwidth\": 1}, \"coloraxis\": {\"colorbar\": {\"outlinewidth\": 0, \"ticks\": \"\"}}, \"colorscale\": {\"diverging\": [[0, \"#8e0152\"], [0.1, \"#c51b7d\"], [0.2, \"#de77ae\"], [0.3, \"#f1b6da\"], [0.4, \"#fde0ef\"], [0.5, \"#f7f7f7\"], [0.6, \"#e6f5d0\"], [0.7, \"#b8e186\"], [0.8, \"#7fbc41\"], [0.9, \"#4d9221\"], [1, \"#276419\"]], \"sequential\": [[0.0, \"#0d0887\"], [0.1111111111111111, \"#46039f\"], [0.2222222222222222, \"#7201a8\"], [0.3333333333333333, \"#9c179e\"], [0.4444444444444444, \"#bd3786\"], [0.5555555555555556, \"#d8576b\"], [0.6666666666666666, \"#ed7953\"], [0.7777777777777778, \"#fb9f3a\"], [0.8888888888888888, \"#fdca26\"], [1.0, \"#f0f921\"]], \"sequentialminus\": [[0.0, \"#0d0887\"], [0.1111111111111111, \"#46039f\"], [0.2222222222222222, \"#7201a8\"], [0.3333333333333333, \"#9c179e\"], [0.4444444444444444, \"#bd3786\"], [0.5555555555555556, \"#d8576b\"], [0.6666666666666666, \"#ed7953\"], [0.7777777777777778, \"#fb9f3a\"], [0.8888888888888888, \"#fdca26\"], [1.0, \"#f0f921\"]]}, \"colorway\": [\"#636efa\", \"#EF553B\", \"#00cc96\", \"#ab63fa\", \"#FFA15A\", \"#19d3f3\", \"#FF6692\", \"#B6E880\", \"#FF97FF\", \"#FECB52\"], \"font\": {\"color\": \"#2a3f5f\"}, \"geo\": {\"bgcolor\": \"white\", \"lakecolor\": \"white\", \"landcolor\": \"#E5ECF6\", \"showlakes\": true, \"showland\": true, \"subunitcolor\": \"white\"}, \"hoverlabel\": {\"align\": \"left\"}, \"hovermode\": \"closest\", \"mapbox\": {\"style\": \"light\"}, \"paper_bgcolor\": \"white\", \"plot_bgcolor\": \"#E5ECF6\", \"polar\": {\"angularaxis\": {\"gridcolor\": \"white\", \"linecolor\": \"white\", \"ticks\": \"\"}, \"bgcolor\": \"#E5ECF6\", \"radialaxis\": {\"gridcolor\": \"white\", \"linecolor\": \"white\", \"ticks\": \"\"}}, \"scene\": {\"xaxis\": {\"backgroundcolor\": \"#E5ECF6\", \"gridcolor\": \"white\", \"gridwidth\": 2, \"linecolor\": \"white\", \"showbackground\": true, \"ticks\": \"\", \"zerolinecolor\": \"white\"}, \"yaxis\": {\"backgroundcolor\": \"#E5ECF6\", \"gridcolor\": \"white\", \"gridwidth\": 2, \"linecolor\": \"white\", \"showbackground\": true, \"ticks\": \"\", \"zerolinecolor\": \"white\"}, \"zaxis\": {\"backgroundcolor\": \"#E5ECF6\", \"gridcolor\": \"white\", \"gridwidth\": 2, \"linecolor\": \"white\", \"showbackground\": true, \"ticks\": \"\", \"zerolinecolor\": \"white\"}}, \"shapedefaults\": {\"line\": {\"color\": \"#2a3f5f\"}}, \"ternary\": {\"aaxis\": {\"gridcolor\": \"white\", \"linecolor\": \"white\", \"ticks\": \"\"}, \"baxis\": {\"gridcolor\": \"white\", \"linecolor\": \"white\", \"ticks\": \"\"}, \"bgcolor\": \"#E5ECF6\", \"caxis\": {\"gridcolor\": \"white\", \"linecolor\": \"white\", \"ticks\": \"\"}}, \"title\": {\"x\": 0.05}, \"xaxis\": {\"automargin\": true, \"gridcolor\": \"white\", \"linecolor\": \"white\", \"ticks\": \"\", \"title\": {\"standoff\": 15}, \"zerolinecolor\": \"white\", \"zerolinewidth\": 2}, \"yaxis\": {\"automargin\": true, \"gridcolor\": \"white\", \"linecolor\": \"white\", \"ticks\": \"\", \"title\": {\"standoff\": 15}, \"zerolinecolor\": \"white\", \"zerolinewidth\": 2}}}},\n",
       "                        {\"responsive\": true}\n",
       "                    ).then(function(){\n",
       "                            \n",
       "var gd = document.getElementById('cf6f5fb1-d4c6-48f2-bf33-a465034dd68d');\n",
       "var x = new MutationObserver(function (mutations, observer) {{\n",
       "        var display = window.getComputedStyle(gd).display;\n",
       "        if (!display || display === 'none') {{\n",
       "            console.log([gd, 'removed!']);\n",
       "            Plotly.purge(gd);\n",
       "            observer.disconnect();\n",
       "        }}\n",
       "}});\n",
       "\n",
       "// Listen for the removal of the full notebook cells\n",
       "var notebookContainer = gd.closest('#notebook-container');\n",
       "if (notebookContainer) {{\n",
       "    x.observe(notebookContainer, {childList: true});\n",
       "}}\n",
       "\n",
       "// Listen for the clearing of the current output cell\n",
       "var outputEl = gd.closest('.output');\n",
       "if (outputEl) {{\n",
       "    x.observe(outputEl, {childList: true});\n",
       "}}\n",
       "\n",
       "                        })\n",
       "                };\n",
       "                });\n",
       "            </script>\n",
       "        </div>"
      ]
     },
     "metadata": {},
     "output_type": "display_data"
    }
   ],
   "source": [
    "X_plt = np.linspace(np.min(X)-5, np.max(X)+5, 100)\n",
    "\n",
    "extreme_point = go.Scatter(\n",
    "    name=\"Extreme Point\", x=[100], y=[1], mode=\"markers\", \n",
    "    marker=dict(color=\"green\", size=10))\n",
    "model_line.line.color = \"gray\"\n",
    "model_line_ex = go.Scatter(name=\"New Least Squares\",\n",
    "    x=X_plt, y=least_squares_model_ex.predict(np.array([X_plt]).T), \n",
    "    mode=\"lines\", line=dict(color=\"orange\"))\n",
    "\n",
    "dec_line.line.color = \"gray\"\n",
    "\n",
    "dec_boundary_ex = (0.5 - least_squares_model_ex.intercept_)/least_squares_model_ex.coef_[0]\n",
    "dec_line_ex = go.Scatter(\n",
    "    name=\"Decision Boundary\", \n",
    "    x = [dec_boundary_ex, dec_boundary_ex], y=[-0.5,1.5], mode=\"lines\",\n",
    "    line=dict(color=\"black\", dash=\"dash\"))\n",
    "\n",
    "\n",
    "\n",
    "py.iplot([mal_points, ben_points,model_line, model_line_ex, dec_line, dec_line_ex, extreme_point])"
   ]
  },
  {
   "cell_type": "markdown",
   "metadata": {},
   "source": [
    "## Observing the resulting RMSE"
   ]
  },
  {
   "cell_type": "code",
   "execution_count": 22,
   "metadata": {
    "ExecuteTime": {
     "end_time": "2018-04-02T16:09:16.748183Z",
     "start_time": "2018-04-02T16:09:16.743636Z"
    }
   },
   "outputs": [
    {
     "name": "stdout",
     "output_type": "stream",
     "text": [
      "Before: 0.13348946135831385\n",
      "After: 0.18266978922716626\n"
     ]
    }
   ],
   "source": [
    "print(\"Before:\", \n",
    "      zero_one_loss(Y_ex, least_squares_model.predict(X_ex) > 0.5))\n",
    "print(\"After:\", \n",
    "      zero_one_loss(Y_ex, least_squares_model_ex.predict(X_ex) > 0.5))"
   ]
  },
  {
   "cell_type": "code",
   "execution_count": null,
   "metadata": {},
   "outputs": [],
   "source": []
  }
 ],
 "metadata": {
  "kernelspec": {
   "display_name": "Python 3",
   "language": "python",
   "name": "python3"
  },
  "language_info": {
   "codemirror_mode": {
    "name": "ipython",
    "version": 3
   },
   "file_extension": ".py",
   "mimetype": "text/x-python",
   "name": "python",
   "nbconvert_exporter": "python",
   "pygments_lexer": "ipython3",
   "version": "3.7.4"
  },
  "toc": {
   "colors": {
    "hover_highlight": "#DAA520",
    "navigate_num": "#000000",
    "navigate_text": "#333333",
    "running_highlight": "#FF0000",
    "selected_highlight": "#FFD700",
    "sidebar_border": "#EEEEEE",
    "wrapper_background": "#FFFFFF"
   },
   "moveMenuLeft": true,
   "nav_menu": {
    "height": "512px",
    "width": "252px"
   },
   "navigate_menu": true,
   "number_sections": true,
   "sideBar": true,
   "threshold": 4,
   "toc_cell": false,
   "toc_section_display": "block",
   "toc_window_display": false,
   "widenNotebook": false
  }
 },
 "nbformat": 4,
 "nbformat_minor": 2
}
