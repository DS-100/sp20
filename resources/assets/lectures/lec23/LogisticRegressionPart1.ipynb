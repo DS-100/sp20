{
 "cells": [
  {
   "cell_type": "markdown",
   "metadata": {},
   "source": [
    "# Logistic Regression (Updated)\n",
    "\n",
    "This notebook accompanies the lecture on Logistic Regression and was updated to incorporate the new video-notebook format. If you have not already watched the accompanying lecture, you should do that first. \n",
    "\n",
    "In this notebook we walk through the (miss)application of least-squares regression to a binary classification task.  In the process, we will show why a different model and loss is needed.  We will then demonstrate how to use the scikit-learn logistic regression model. "
   ]
  },
  {
   "cell_type": "markdown",
   "metadata": {},
   "source": [
    "## Imports\n",
    "\n",
    "As with other notebooks we will use the same set of standard imports."
   ]
  },
  {
   "cell_type": "code",
   "execution_count": 1,
   "metadata": {},
   "outputs": [],
   "source": [
    "import numpy as np\n",
    "import pandas as pd"
   ]
  },
  {
   "cell_type": "code",
   "execution_count": 2,
   "metadata": {},
   "outputs": [
    {
     "data": {
      "text/html": [
       "        <script type=\"text/javascript\">\n",
       "        window.PlotlyConfig = {MathJaxConfig: 'local'};\n",
       "        if (window.MathJax) {MathJax.Hub.Config({SVG: {font: \"STIX-Web\"}});}\n",
       "        if (typeof require !== 'undefined') {\n",
       "        require.undef(\"plotly\");\n",
       "        requirejs.config({\n",
       "            paths: {\n",
       "                'plotly': ['https://cdn.plot.ly/plotly-latest.min']\n",
       "            }\n",
       "        });\n",
       "        require(['plotly'], function(Plotly) {\n",
       "            window._Plotly = Plotly;\n",
       "        });\n",
       "        }\n",
       "        </script>\n",
       "        "
      ]
     },
     "metadata": {},
     "output_type": "display_data"
    },
    {
     "data": {
      "text/html": [
       "        <script type=\"text/javascript\">\n",
       "        window.PlotlyConfig = {MathJaxConfig: 'local'};\n",
       "        if (window.MathJax) {MathJax.Hub.Config({SVG: {font: \"STIX-Web\"}});}\n",
       "        if (typeof require !== 'undefined') {\n",
       "        require.undef(\"plotly\");\n",
       "        requirejs.config({\n",
       "            paths: {\n",
       "                'plotly': ['https://cdn.plot.ly/plotly-latest.min']\n",
       "            }\n",
       "        });\n",
       "        require(['plotly'], function(Plotly) {\n",
       "            window._Plotly = Plotly;\n",
       "        });\n",
       "        }\n",
       "        </script>\n",
       "        "
      ]
     },
     "metadata": {},
     "output_type": "display_data"
    }
   ],
   "source": [
    "import plotly.offline as py\n",
    "import plotly.express as px\n",
    "import plotly.graph_objects as go\n",
    "from plotly.subplots import make_subplots\n",
    "import plotly.figure_factory as ff\n",
    "import cufflinks as cf\n",
    "cf.set_config_file(offline=True, sharing=False, theme='ggplot');"
   ]
  },
  {
   "cell_type": "code",
   "execution_count": 3,
   "metadata": {},
   "outputs": [],
   "source": [
    "from sklearn.model_selection import train_test_split\n",
    "from sklearn.model_selection import cross_val_score\n",
    "from sklearn.linear_model import LinearRegression\n",
    "from sklearn.linear_model import LogisticRegression, LogisticRegressionCV"
   ]
  },
  {
   "cell_type": "markdown",
   "metadata": {},
   "source": [
    "## Obtaining the Data\n",
    "\n",
    "For this lecture, we will use the Wisconsin Breast Cancer Dataset which we can obtain from [scikit learn](http://scikit-learn.org/stable/datasets/index.html#breast-cancer-wisconsin-diagnostic-database). "
   ]
  },
  {
   "cell_type": "code",
   "execution_count": 4,
   "metadata": {},
   "outputs": [
    {
     "data": {
      "text/html": [
       "\n",
       "        <iframe\n",
       "            width=\"400\"\n",
       "            height=\"300\"\n",
       "            src=\"https://www.youtube.com/embed/ComingSoon\"\n",
       "            frameborder=\"0\"\n",
       "            allowfullscreen\n",
       "        ></iframe>\n",
       "        "
      ],
      "text/plain": [
       "<IPython.lib.display.YouTubeVideo at 0x7fa5a17a0090>"
      ]
     },
     "execution_count": 4,
     "metadata": {},
     "output_type": "execute_result"
    }
   ],
   "source": [
    "from IPython.display import YouTubeVideo\n",
    "YouTubeVideo(\"ComingSoon\")"
   ]
  },
  {
   "cell_type": "markdown",
   "metadata": {},
   "source": [
    "This dataset consists of measurements from tumor biopsies for 569 patients as well as whether the tumor was malignant or benign."
   ]
  },
  {
   "cell_type": "code",
   "execution_count": 5,
   "metadata": {
    "ExecuteTime": {
     "end_time": "2018-04-02T16:07:17.590723Z",
     "start_time": "2018-04-02T16:07:17.472304Z"
    }
   },
   "outputs": [
    {
     "data": {
      "text/html": [
       "<div>\n",
       "<style scoped>\n",
       "    .dataframe tbody tr th:only-of-type {\n",
       "        vertical-align: middle;\n",
       "    }\n",
       "\n",
       "    .dataframe tbody tr th {\n",
       "        vertical-align: top;\n",
       "    }\n",
       "\n",
       "    .dataframe thead th {\n",
       "        text-align: right;\n",
       "    }\n",
       "</style>\n",
       "<table border=\"1\" class=\"dataframe\">\n",
       "  <thead>\n",
       "    <tr style=\"text-align: right;\">\n",
       "      <th></th>\n",
       "      <th>mean radius</th>\n",
       "      <th>mean texture</th>\n",
       "      <th>mean perimeter</th>\n",
       "      <th>mean area</th>\n",
       "      <th>mean smoothness</th>\n",
       "      <th>mean compactness</th>\n",
       "      <th>mean concavity</th>\n",
       "      <th>mean concave points</th>\n",
       "      <th>mean symmetry</th>\n",
       "      <th>mean fractal dimension</th>\n",
       "      <th>...</th>\n",
       "      <th>worst radius</th>\n",
       "      <th>worst texture</th>\n",
       "      <th>worst perimeter</th>\n",
       "      <th>worst area</th>\n",
       "      <th>worst smoothness</th>\n",
       "      <th>worst compactness</th>\n",
       "      <th>worst concavity</th>\n",
       "      <th>worst concave points</th>\n",
       "      <th>worst symmetry</th>\n",
       "      <th>worst fractal dimension</th>\n",
       "    </tr>\n",
       "  </thead>\n",
       "  <tbody>\n",
       "    <tr>\n",
       "      <th>0</th>\n",
       "      <td>17.99</td>\n",
       "      <td>10.38</td>\n",
       "      <td>122.80</td>\n",
       "      <td>1001.0</td>\n",
       "      <td>0.11840</td>\n",
       "      <td>0.27760</td>\n",
       "      <td>0.30010</td>\n",
       "      <td>0.14710</td>\n",
       "      <td>0.2419</td>\n",
       "      <td>0.07871</td>\n",
       "      <td>...</td>\n",
       "      <td>25.380</td>\n",
       "      <td>17.33</td>\n",
       "      <td>184.60</td>\n",
       "      <td>2019.0</td>\n",
       "      <td>0.16220</td>\n",
       "      <td>0.66560</td>\n",
       "      <td>0.7119</td>\n",
       "      <td>0.2654</td>\n",
       "      <td>0.4601</td>\n",
       "      <td>0.11890</td>\n",
       "    </tr>\n",
       "    <tr>\n",
       "      <th>1</th>\n",
       "      <td>20.57</td>\n",
       "      <td>17.77</td>\n",
       "      <td>132.90</td>\n",
       "      <td>1326.0</td>\n",
       "      <td>0.08474</td>\n",
       "      <td>0.07864</td>\n",
       "      <td>0.08690</td>\n",
       "      <td>0.07017</td>\n",
       "      <td>0.1812</td>\n",
       "      <td>0.05667</td>\n",
       "      <td>...</td>\n",
       "      <td>24.990</td>\n",
       "      <td>23.41</td>\n",
       "      <td>158.80</td>\n",
       "      <td>1956.0</td>\n",
       "      <td>0.12380</td>\n",
       "      <td>0.18660</td>\n",
       "      <td>0.2416</td>\n",
       "      <td>0.1860</td>\n",
       "      <td>0.2750</td>\n",
       "      <td>0.08902</td>\n",
       "    </tr>\n",
       "    <tr>\n",
       "      <th>2</th>\n",
       "      <td>19.69</td>\n",
       "      <td>21.25</td>\n",
       "      <td>130.00</td>\n",
       "      <td>1203.0</td>\n",
       "      <td>0.10960</td>\n",
       "      <td>0.15990</td>\n",
       "      <td>0.19740</td>\n",
       "      <td>0.12790</td>\n",
       "      <td>0.2069</td>\n",
       "      <td>0.05999</td>\n",
       "      <td>...</td>\n",
       "      <td>23.570</td>\n",
       "      <td>25.53</td>\n",
       "      <td>152.50</td>\n",
       "      <td>1709.0</td>\n",
       "      <td>0.14440</td>\n",
       "      <td>0.42450</td>\n",
       "      <td>0.4504</td>\n",
       "      <td>0.2430</td>\n",
       "      <td>0.3613</td>\n",
       "      <td>0.08758</td>\n",
       "    </tr>\n",
       "    <tr>\n",
       "      <th>3</th>\n",
       "      <td>11.42</td>\n",
       "      <td>20.38</td>\n",
       "      <td>77.58</td>\n",
       "      <td>386.1</td>\n",
       "      <td>0.14250</td>\n",
       "      <td>0.28390</td>\n",
       "      <td>0.24140</td>\n",
       "      <td>0.10520</td>\n",
       "      <td>0.2597</td>\n",
       "      <td>0.09744</td>\n",
       "      <td>...</td>\n",
       "      <td>14.910</td>\n",
       "      <td>26.50</td>\n",
       "      <td>98.87</td>\n",
       "      <td>567.7</td>\n",
       "      <td>0.20980</td>\n",
       "      <td>0.86630</td>\n",
       "      <td>0.6869</td>\n",
       "      <td>0.2575</td>\n",
       "      <td>0.6638</td>\n",
       "      <td>0.17300</td>\n",
       "    </tr>\n",
       "    <tr>\n",
       "      <th>4</th>\n",
       "      <td>20.29</td>\n",
       "      <td>14.34</td>\n",
       "      <td>135.10</td>\n",
       "      <td>1297.0</td>\n",
       "      <td>0.10030</td>\n",
       "      <td>0.13280</td>\n",
       "      <td>0.19800</td>\n",
       "      <td>0.10430</td>\n",
       "      <td>0.1809</td>\n",
       "      <td>0.05883</td>\n",
       "      <td>...</td>\n",
       "      <td>22.540</td>\n",
       "      <td>16.67</td>\n",
       "      <td>152.20</td>\n",
       "      <td>1575.0</td>\n",
       "      <td>0.13740</td>\n",
       "      <td>0.20500</td>\n",
       "      <td>0.4000</td>\n",
       "      <td>0.1625</td>\n",
       "      <td>0.2364</td>\n",
       "      <td>0.07678</td>\n",
       "    </tr>\n",
       "    <tr>\n",
       "      <th>...</th>\n",
       "      <td>...</td>\n",
       "      <td>...</td>\n",
       "      <td>...</td>\n",
       "      <td>...</td>\n",
       "      <td>...</td>\n",
       "      <td>...</td>\n",
       "      <td>...</td>\n",
       "      <td>...</td>\n",
       "      <td>...</td>\n",
       "      <td>...</td>\n",
       "      <td>...</td>\n",
       "      <td>...</td>\n",
       "      <td>...</td>\n",
       "      <td>...</td>\n",
       "      <td>...</td>\n",
       "      <td>...</td>\n",
       "      <td>...</td>\n",
       "      <td>...</td>\n",
       "      <td>...</td>\n",
       "      <td>...</td>\n",
       "      <td>...</td>\n",
       "    </tr>\n",
       "    <tr>\n",
       "      <th>564</th>\n",
       "      <td>21.56</td>\n",
       "      <td>22.39</td>\n",
       "      <td>142.00</td>\n",
       "      <td>1479.0</td>\n",
       "      <td>0.11100</td>\n",
       "      <td>0.11590</td>\n",
       "      <td>0.24390</td>\n",
       "      <td>0.13890</td>\n",
       "      <td>0.1726</td>\n",
       "      <td>0.05623</td>\n",
       "      <td>...</td>\n",
       "      <td>25.450</td>\n",
       "      <td>26.40</td>\n",
       "      <td>166.10</td>\n",
       "      <td>2027.0</td>\n",
       "      <td>0.14100</td>\n",
       "      <td>0.21130</td>\n",
       "      <td>0.4107</td>\n",
       "      <td>0.2216</td>\n",
       "      <td>0.2060</td>\n",
       "      <td>0.07115</td>\n",
       "    </tr>\n",
       "    <tr>\n",
       "      <th>565</th>\n",
       "      <td>20.13</td>\n",
       "      <td>28.25</td>\n",
       "      <td>131.20</td>\n",
       "      <td>1261.0</td>\n",
       "      <td>0.09780</td>\n",
       "      <td>0.10340</td>\n",
       "      <td>0.14400</td>\n",
       "      <td>0.09791</td>\n",
       "      <td>0.1752</td>\n",
       "      <td>0.05533</td>\n",
       "      <td>...</td>\n",
       "      <td>23.690</td>\n",
       "      <td>38.25</td>\n",
       "      <td>155.00</td>\n",
       "      <td>1731.0</td>\n",
       "      <td>0.11660</td>\n",
       "      <td>0.19220</td>\n",
       "      <td>0.3215</td>\n",
       "      <td>0.1628</td>\n",
       "      <td>0.2572</td>\n",
       "      <td>0.06637</td>\n",
       "    </tr>\n",
       "    <tr>\n",
       "      <th>566</th>\n",
       "      <td>16.60</td>\n",
       "      <td>28.08</td>\n",
       "      <td>108.30</td>\n",
       "      <td>858.1</td>\n",
       "      <td>0.08455</td>\n",
       "      <td>0.10230</td>\n",
       "      <td>0.09251</td>\n",
       "      <td>0.05302</td>\n",
       "      <td>0.1590</td>\n",
       "      <td>0.05648</td>\n",
       "      <td>...</td>\n",
       "      <td>18.980</td>\n",
       "      <td>34.12</td>\n",
       "      <td>126.70</td>\n",
       "      <td>1124.0</td>\n",
       "      <td>0.11390</td>\n",
       "      <td>0.30940</td>\n",
       "      <td>0.3403</td>\n",
       "      <td>0.1418</td>\n",
       "      <td>0.2218</td>\n",
       "      <td>0.07820</td>\n",
       "    </tr>\n",
       "    <tr>\n",
       "      <th>567</th>\n",
       "      <td>20.60</td>\n",
       "      <td>29.33</td>\n",
       "      <td>140.10</td>\n",
       "      <td>1265.0</td>\n",
       "      <td>0.11780</td>\n",
       "      <td>0.27700</td>\n",
       "      <td>0.35140</td>\n",
       "      <td>0.15200</td>\n",
       "      <td>0.2397</td>\n",
       "      <td>0.07016</td>\n",
       "      <td>...</td>\n",
       "      <td>25.740</td>\n",
       "      <td>39.42</td>\n",
       "      <td>184.60</td>\n",
       "      <td>1821.0</td>\n",
       "      <td>0.16500</td>\n",
       "      <td>0.86810</td>\n",
       "      <td>0.9387</td>\n",
       "      <td>0.2650</td>\n",
       "      <td>0.4087</td>\n",
       "      <td>0.12400</td>\n",
       "    </tr>\n",
       "    <tr>\n",
       "      <th>568</th>\n",
       "      <td>7.76</td>\n",
       "      <td>24.54</td>\n",
       "      <td>47.92</td>\n",
       "      <td>181.0</td>\n",
       "      <td>0.05263</td>\n",
       "      <td>0.04362</td>\n",
       "      <td>0.00000</td>\n",
       "      <td>0.00000</td>\n",
       "      <td>0.1587</td>\n",
       "      <td>0.05884</td>\n",
       "      <td>...</td>\n",
       "      <td>9.456</td>\n",
       "      <td>30.37</td>\n",
       "      <td>59.16</td>\n",
       "      <td>268.6</td>\n",
       "      <td>0.08996</td>\n",
       "      <td>0.06444</td>\n",
       "      <td>0.0000</td>\n",
       "      <td>0.0000</td>\n",
       "      <td>0.2871</td>\n",
       "      <td>0.07039</td>\n",
       "    </tr>\n",
       "  </tbody>\n",
       "</table>\n",
       "<p>569 rows × 30 columns</p>\n",
       "</div>"
      ],
      "text/plain": [
       "     mean radius  mean texture  mean perimeter  mean area  mean smoothness  \\\n",
       "0          17.99         10.38          122.80     1001.0          0.11840   \n",
       "1          20.57         17.77          132.90     1326.0          0.08474   \n",
       "2          19.69         21.25          130.00     1203.0          0.10960   \n",
       "3          11.42         20.38           77.58      386.1          0.14250   \n",
       "4          20.29         14.34          135.10     1297.0          0.10030   \n",
       "..           ...           ...             ...        ...              ...   \n",
       "564        21.56         22.39          142.00     1479.0          0.11100   \n",
       "565        20.13         28.25          131.20     1261.0          0.09780   \n",
       "566        16.60         28.08          108.30      858.1          0.08455   \n",
       "567        20.60         29.33          140.10     1265.0          0.11780   \n",
       "568         7.76         24.54           47.92      181.0          0.05263   \n",
       "\n",
       "     mean compactness  mean concavity  mean concave points  mean symmetry  \\\n",
       "0             0.27760         0.30010              0.14710         0.2419   \n",
       "1             0.07864         0.08690              0.07017         0.1812   \n",
       "2             0.15990         0.19740              0.12790         0.2069   \n",
       "3             0.28390         0.24140              0.10520         0.2597   \n",
       "4             0.13280         0.19800              0.10430         0.1809   \n",
       "..                ...             ...                  ...            ...   \n",
       "564           0.11590         0.24390              0.13890         0.1726   \n",
       "565           0.10340         0.14400              0.09791         0.1752   \n",
       "566           0.10230         0.09251              0.05302         0.1590   \n",
       "567           0.27700         0.35140              0.15200         0.2397   \n",
       "568           0.04362         0.00000              0.00000         0.1587   \n",
       "\n",
       "     mean fractal dimension  ...  worst radius  worst texture  \\\n",
       "0                   0.07871  ...        25.380          17.33   \n",
       "1                   0.05667  ...        24.990          23.41   \n",
       "2                   0.05999  ...        23.570          25.53   \n",
       "3                   0.09744  ...        14.910          26.50   \n",
       "4                   0.05883  ...        22.540          16.67   \n",
       "..                      ...  ...           ...            ...   \n",
       "564                 0.05623  ...        25.450          26.40   \n",
       "565                 0.05533  ...        23.690          38.25   \n",
       "566                 0.05648  ...        18.980          34.12   \n",
       "567                 0.07016  ...        25.740          39.42   \n",
       "568                 0.05884  ...         9.456          30.37   \n",
       "\n",
       "     worst perimeter  worst area  worst smoothness  worst compactness  \\\n",
       "0             184.60      2019.0           0.16220            0.66560   \n",
       "1             158.80      1956.0           0.12380            0.18660   \n",
       "2             152.50      1709.0           0.14440            0.42450   \n",
       "3              98.87       567.7           0.20980            0.86630   \n",
       "4             152.20      1575.0           0.13740            0.20500   \n",
       "..               ...         ...               ...                ...   \n",
       "564           166.10      2027.0           0.14100            0.21130   \n",
       "565           155.00      1731.0           0.11660            0.19220   \n",
       "566           126.70      1124.0           0.11390            0.30940   \n",
       "567           184.60      1821.0           0.16500            0.86810   \n",
       "568            59.16       268.6           0.08996            0.06444   \n",
       "\n",
       "     worst concavity  worst concave points  worst symmetry  \\\n",
       "0             0.7119                0.2654          0.4601   \n",
       "1             0.2416                0.1860          0.2750   \n",
       "2             0.4504                0.2430          0.3613   \n",
       "3             0.6869                0.2575          0.6638   \n",
       "4             0.4000                0.1625          0.2364   \n",
       "..               ...                   ...             ...   \n",
       "564           0.4107                0.2216          0.2060   \n",
       "565           0.3215                0.1628          0.2572   \n",
       "566           0.3403                0.1418          0.2218   \n",
       "567           0.9387                0.2650          0.4087   \n",
       "568           0.0000                0.0000          0.2871   \n",
       "\n",
       "     worst fractal dimension  \n",
       "0                    0.11890  \n",
       "1                    0.08902  \n",
       "2                    0.08758  \n",
       "3                    0.17300  \n",
       "4                    0.07678  \n",
       "..                       ...  \n",
       "564                  0.07115  \n",
       "565                  0.06637  \n",
       "566                  0.07820  \n",
       "567                  0.12400  \n",
       "568                  0.07039  \n",
       "\n",
       "[569 rows x 30 columns]"
      ]
     },
     "execution_count": 5,
     "metadata": {},
     "output_type": "execute_result"
    }
   ],
   "source": [
    "import sklearn.datasets\n",
    "data_dict = sklearn.datasets.load_breast_cancer()\n",
    "data = pd.DataFrame(data_dict['data'], columns=data_dict['feature_names'])\n",
    "data"
   ]
  },
  {
   "cell_type": "markdown",
   "metadata": {},
   "source": [
    "### The Prediction Task\n",
    "\n",
    "The prediction task for this data is to predict whether a tumor is benign or malignant (a binary decision) given characteristics of that tumor. As a classic machine learning dataset, the prediction task is captured by the column named `\"target\"`.  To put the data back in it's original context we will create a new column called `\"malignant\"` which will be 1 if the tumor is malignant and 0 if it is benign (reversing the definition of target).  "
   ]
  },
  {
   "cell_type": "code",
   "execution_count": 6,
   "metadata": {},
   "outputs": [],
   "source": [
    "# Target data_dict['target'] = 0 is malignant 1 is benign\n",
    "data['malignant'] = (data_dict['target'] == 0)"
   ]
  },
  {
   "cell_type": "markdown",
   "metadata": {},
   "source": [
    "### Selecting Features\n",
    "\n",
    "What features might be a good indication of whether a tumor is benign or malignant? "
   ]
  },
  {
   "cell_type": "code",
   "execution_count": 7,
   "metadata": {
    "ExecuteTime": {
     "end_time": "2018-04-02T16:07:17.599437Z",
     "start_time": "2018-04-02T16:07:17.593220Z"
    }
   },
   "outputs": [
    {
     "data": {
      "text/plain": [
       "Index(['mean radius', 'mean texture', 'mean perimeter', 'mean area',\n",
       "       'mean smoothness', 'mean compactness', 'mean concavity',\n",
       "       'mean concave points', 'mean symmetry', 'mean fractal dimension',\n",
       "       'radius error', 'texture error', 'perimeter error', 'area error',\n",
       "       'smoothness error', 'compactness error', 'concavity error',\n",
       "       'concave points error', 'symmetry error', 'fractal dimension error',\n",
       "       'worst radius', 'worst texture', 'worst perimeter', 'worst area',\n",
       "       'worst smoothness', 'worst compactness', 'worst concavity',\n",
       "       'worst concave points', 'worst symmetry', 'worst fractal dimension',\n",
       "       'malignant'],\n",
       "      dtype='object')"
      ]
     },
     "execution_count": 7,
     "metadata": {},
     "output_type": "execute_result"
    }
   ],
   "source": [
    "data.columns"
   ]
  },
  {
   "cell_type": "markdown",
   "metadata": {},
   "source": [
    "Perhaps a good starting point is the size of the tumor.  Larger tumors are probably more likely to be malignant.  In the following, we plot whether the tumor was malignant (1 or 0) against the `\"mean radius\"`."
   ]
  },
  {
   "cell_type": "code",
   "execution_count": 8,
   "metadata": {
    "ExecuteTime": {
     "end_time": "2018-04-02T16:07:17.755067Z",
     "start_time": "2018-04-02T16:07:17.601012Z"
    }
   },
   "outputs": [
    {
     "data": {
      "application/vnd.plotly.v1+json": {
       "config": {
        "plotlyServerURL": "https://plot.ly"
       },
       "data": [
        {
         "mode": "markers",
         "type": "scatter",
         "x": [
          17.99,
          20.57,
          19.69,
          11.42,
          20.29,
          12.45,
          18.25,
          13.71,
          13,
          12.46,
          16.02,
          15.78,
          19.17,
          15.85,
          13.73,
          14.54,
          14.68,
          16.13,
          19.81,
          13.54,
          13.08,
          9.504,
          15.34,
          21.16,
          16.65,
          17.14,
          14.58,
          18.61,
          15.3,
          17.57,
          18.63,
          11.84,
          17.02,
          19.27,
          16.13,
          16.74,
          14.25,
          13.03,
          14.99,
          13.48,
          13.44,
          10.95,
          19.07,
          13.28,
          13.17,
          18.65,
          8.196,
          13.17,
          12.05,
          13.49,
          11.76,
          13.64,
          11.94,
          18.22,
          15.1,
          11.52,
          19.21,
          14.71,
          13.05,
          8.618,
          10.17,
          8.598,
          14.25,
          9.173,
          12.68,
          14.78,
          9.465,
          11.31,
          9.029,
          12.78,
          18.94,
          8.888,
          17.2,
          13.8,
          12.31,
          16.07,
          13.53,
          18.05,
          20.18,
          12.86,
          11.45,
          13.34,
          25.22,
          19.1,
          12,
          18.46,
          14.48,
          19.02,
          12.36,
          14.64,
          14.62,
          15.37,
          13.27,
          13.45,
          15.06,
          20.26,
          12.18,
          9.787,
          11.6,
          14.42,
          13.61,
          6.981,
          12.18,
          9.876,
          10.49,
          13.11,
          11.64,
          12.36,
          22.27,
          11.34,
          9.777,
          12.63,
          14.26,
          10.51,
          8.726,
          11.93,
          8.95,
          14.87,
          15.78,
          17.95,
          11.41,
          18.66,
          24.25,
          14.5,
          13.37,
          13.85,
          13.61,
          19,
          15.1,
          19.79,
          12.19,
          15.46,
          16.16,
          15.71,
          18.45,
          12.77,
          11.71,
          11.43,
          14.95,
          11.28,
          9.738,
          16.11,
          11.43,
          12.9,
          10.75,
          11.9,
          11.8,
          14.95,
          14.44,
          13.74,
          13,
          8.219,
          9.731,
          11.15,
          13.15,
          12.25,
          17.68,
          16.84,
          12.06,
          10.9,
          11.75,
          19.19,
          19.59,
          12.34,
          23.27,
          14.97,
          10.8,
          16.78,
          17.47,
          14.97,
          12.32,
          13.43,
          15.46,
          11.08,
          10.66,
          8.671,
          9.904,
          16.46,
          13.01,
          12.81,
          27.22,
          21.09,
          15.7,
          11.41,
          15.28,
          10.08,
          18.31,
          11.71,
          11.81,
          12.3,
          14.22,
          12.77,
          9.72,
          12.34,
          14.86,
          12.91,
          13.77,
          18.08,
          19.18,
          14.45,
          12.23,
          17.54,
          23.29,
          13.81,
          12.47,
          15.12,
          9.876,
          17.01,
          13.11,
          15.27,
          20.58,
          11.84,
          28.11,
          17.42,
          14.19,
          13.86,
          11.89,
          10.2,
          19.8,
          19.53,
          13.65,
          13.56,
          10.18,
          15.75,
          13.27,
          14.34,
          10.44,
          15,
          12.62,
          12.83,
          17.05,
          11.32,
          11.22,
          20.51,
          9.567,
          14.03,
          23.21,
          20.48,
          14.22,
          17.46,
          13.64,
          12.42,
          11.3,
          13.75,
          19.4,
          10.48,
          13.2,
          12.89,
          10.65,
          11.52,
          20.94,
          11.5,
          19.73,
          17.3,
          19.45,
          13.96,
          19.55,
          15.32,
          15.66,
          15.53,
          20.31,
          17.35,
          17.29,
          15.61,
          17.19,
          20.73,
          10.6,
          13.59,
          12.87,
          10.71,
          14.29,
          11.29,
          21.75,
          9.742,
          17.93,
          11.89,
          11.33,
          18.81,
          13.59,
          13.85,
          19.16,
          11.74,
          19.4,
          16.24,
          12.89,
          12.58,
          11.94,
          12.89,
          11.26,
          11.37,
          14.41,
          14.96,
          12.95,
          11.85,
          12.72,
          13.77,
          10.91,
          11.76,
          14.26,
          10.51,
          19.53,
          12.46,
          20.09,
          10.49,
          11.46,
          11.6,
          13.2,
          9,
          13.5,
          13.05,
          11.7,
          14.61,
          12.76,
          11.54,
          8.597,
          12.49,
          12.18,
          18.22,
          9.042,
          12.43,
          10.25,
          20.16,
          12.86,
          20.34,
          12.2,
          12.67,
          14.11,
          12.03,
          16.27,
          16.26,
          16.03,
          12.98,
          11.22,
          11.25,
          12.3,
          17.06,
          12.99,
          18.77,
          10.05,
          23.51,
          14.42,
          9.606,
          11.06,
          19.68,
          11.71,
          10.26,
          12.06,
          14.76,
          11.47,
          11.95,
          11.66,
          15.75,
          25.73,
          15.08,
          11.14,
          12.56,
          13.05,
          13.87,
          8.878,
          9.436,
          12.54,
          13.3,
          12.76,
          16.5,
          13.4,
          20.44,
          20.2,
          12.21,
          21.71,
          22.01,
          16.35,
          15.19,
          21.37,
          20.64,
          13.69,
          16.17,
          10.57,
          13.46,
          13.66,
          11.08,
          11.27,
          11.04,
          12.05,
          12.39,
          13.28,
          14.6,
          12.21,
          13.88,
          11.27,
          19.55,
          10.26,
          8.734,
          15.49,
          21.61,
          12.1,
          14.06,
          13.51,
          12.8,
          11.06,
          11.8,
          17.91,
          11.93,
          12.96,
          12.94,
          12.34,
          10.94,
          16.14,
          12.85,
          17.99,
          12.27,
          11.36,
          11.04,
          9.397,
          14.99,
          15.13,
          11.89,
          9.405,
          15.5,
          12.7,
          11.16,
          11.57,
          14.69,
          11.61,
          13.66,
          9.742,
          10.03,
          10.48,
          10.8,
          11.13,
          12.72,
          14.9,
          12.4,
          20.18,
          18.82,
          14.86,
          13.98,
          12.87,
          14.04,
          13.85,
          14.02,
          10.97,
          17.27,
          13.78,
          10.57,
          18.03,
          11.99,
          17.75,
          14.8,
          14.53,
          21.1,
          11.87,
          19.59,
          12,
          14.53,
          12.62,
          13.38,
          11.63,
          13.21,
          13,
          9.755,
          17.08,
          27.42,
          14.4,
          11.6,
          13.17,
          13.24,
          13.14,
          9.668,
          17.6,
          11.62,
          9.667,
          12.04,
          14.92,
          12.27,
          10.88,
          12.83,
          14.2,
          13.9,
          11.49,
          16.25,
          12.16,
          13.9,
          13.47,
          13.7,
          15.73,
          12.45,
          14.64,
          19.44,
          11.68,
          16.69,
          12.25,
          17.85,
          18.01,
          12.46,
          13.16,
          14.87,
          12.65,
          12.47,
          18.49,
          20.59,
          15.04,
          13.82,
          12.54,
          23.09,
          9.268,
          9.676,
          12.22,
          11.06,
          16.3,
          15.46,
          11.74,
          14.81,
          13.4,
          14.58,
          15.05,
          11.34,
          18.31,
          19.89,
          12.88,
          12.75,
          9.295,
          24.63,
          11.26,
          13.71,
          9.847,
          8.571,
          13.46,
          12.34,
          13.94,
          12.07,
          11.75,
          11.67,
          13.68,
          20.47,
          10.96,
          20.55,
          14.27,
          11.69,
          7.729,
          7.691,
          11.54,
          14.47,
          14.74,
          13.21,
          13.87,
          13.62,
          10.32,
          10.26,
          9.683,
          10.82,
          10.86,
          11.13,
          12.77,
          9.333,
          12.88,
          10.29,
          10.16,
          9.423,
          14.59,
          11.51,
          14.05,
          11.2,
          15.22,
          20.92,
          21.56,
          20.13,
          16.6,
          20.6,
          7.76
         ],
         "y": [
          1,
          1,
          1,
          1,
          1,
          1,
          1,
          1,
          1,
          1,
          1,
          1,
          1,
          1,
          1,
          1,
          1,
          1,
          1,
          0,
          0,
          0,
          1,
          1,
          1,
          1,
          1,
          1,
          1,
          1,
          1,
          1,
          1,
          1,
          1,
          1,
          1,
          0,
          1,
          1,
          1,
          1,
          1,
          1,
          1,
          1,
          0,
          1,
          0,
          0,
          0,
          0,
          0,
          1,
          1,
          0,
          1,
          1,
          0,
          0,
          0,
          0,
          1,
          0,
          1,
          1,
          0,
          0,
          0,
          0,
          1,
          0,
          1,
          1,
          0,
          1,
          0,
          1,
          1,
          0,
          0,
          0,
          1,
          1,
          0,
          1,
          1,
          1,
          0,
          0,
          0,
          1,
          0,
          0,
          1,
          1,
          0,
          0,
          0,
          1,
          1,
          0,
          0,
          0,
          0,
          1,
          0,
          0,
          1,
          0,
          0,
          0,
          0,
          0,
          0,
          0,
          0,
          1,
          1,
          1,
          0,
          1,
          1,
          0,
          0,
          0,
          1,
          1,
          0,
          1,
          0,
          1,
          1,
          0,
          1,
          1,
          0,
          0,
          1,
          0,
          0,
          1,
          0,
          0,
          0,
          0,
          1,
          0,
          0,
          0,
          0,
          0,
          0,
          0,
          0,
          0,
          1,
          0,
          0,
          0,
          0,
          1,
          1,
          0,
          1,
          0,
          0,
          1,
          1,
          0,
          0,
          1,
          1,
          0,
          0,
          0,
          0,
          1,
          0,
          0,
          1,
          1,
          1,
          0,
          1,
          0,
          1,
          0,
          0,
          0,
          1,
          0,
          0,
          1,
          1,
          0,
          1,
          1,
          1,
          1,
          0,
          1,
          1,
          1,
          0,
          1,
          0,
          1,
          0,
          0,
          1,
          0,
          1,
          1,
          1,
          1,
          0,
          0,
          1,
          1,
          0,
          0,
          0,
          1,
          0,
          0,
          0,
          0,
          0,
          1,
          1,
          0,
          0,
          1,
          0,
          0,
          1,
          1,
          0,
          1,
          0,
          0,
          0,
          0,
          1,
          0,
          0,
          0,
          0,
          0,
          1,
          0,
          1,
          1,
          1,
          1,
          1,
          1,
          1,
          1,
          1,
          1,
          1,
          1,
          1,
          1,
          0,
          0,
          0,
          0,
          0,
          0,
          1,
          0,
          1,
          0,
          0,
          1,
          0,
          0,
          1,
          0,
          1,
          1,
          0,
          0,
          0,
          0,
          0,
          0,
          0,
          0,
          0,
          0,
          0,
          0,
          0,
          1,
          0,
          0,
          1,
          0,
          1,
          0,
          0,
          0,
          0,
          0,
          0,
          0,
          0,
          0,
          0,
          0,
          0,
          0,
          0,
          1,
          0,
          0,
          0,
          1,
          0,
          1,
          0,
          0,
          0,
          0,
          1,
          1,
          1,
          0,
          0,
          0,
          0,
          1,
          0,
          1,
          0,
          1,
          0,
          0,
          0,
          1,
          0,
          0,
          0,
          0,
          0,
          0,
          0,
          1,
          1,
          1,
          0,
          0,
          0,
          0,
          0,
          0,
          0,
          0,
          0,
          0,
          0,
          1,
          1,
          0,
          1,
          1,
          1,
          0,
          1,
          1,
          0,
          0,
          0,
          0,
          0,
          1,
          0,
          0,
          0,
          0,
          0,
          1,
          0,
          0,
          0,
          1,
          0,
          0,
          1,
          1,
          0,
          0,
          0,
          0,
          0,
          0,
          1,
          0,
          0,
          0,
          0,
          0,
          0,
          0,
          1,
          0,
          0,
          0,
          0,
          0,
          1,
          0,
          0,
          1,
          0,
          0,
          0,
          0,
          0,
          0,
          0,
          0,
          0,
          0,
          0,
          0,
          1,
          0,
          1,
          1,
          0,
          1,
          0,
          0,
          0,
          0,
          0,
          1,
          0,
          0,
          1,
          0,
          1,
          0,
          0,
          1,
          0,
          1,
          0,
          0,
          0,
          0,
          0,
          0,
          0,
          0,
          1,
          1,
          0,
          0,
          0,
          0,
          0,
          0,
          1,
          0,
          0,
          0,
          0,
          0,
          0,
          0,
          0,
          0,
          0,
          1,
          0,
          0,
          0,
          0,
          0,
          0,
          0,
          1,
          0,
          1,
          0,
          0,
          1,
          0,
          0,
          0,
          0,
          0,
          1,
          1,
          0,
          1,
          0,
          1,
          0,
          0,
          0,
          0,
          0,
          1,
          0,
          0,
          1,
          0,
          1,
          0,
          1,
          1,
          0,
          0,
          0,
          1,
          0,
          0,
          0,
          0,
          0,
          0,
          0,
          0,
          0,
          0,
          0,
          1,
          0,
          1,
          1,
          0,
          0,
          0,
          0,
          0,
          0,
          0,
          0,
          0,
          0,
          0,
          0,
          0,
          0,
          0,
          0,
          0,
          0,
          0,
          0,
          0,
          0,
          0,
          0,
          0,
          1,
          1,
          1,
          1,
          1,
          1,
          0
         ]
        }
       ],
       "layout": {
        "template": {
         "data": {
          "bar": [
           {
            "error_x": {
             "color": "#2a3f5f"
            },
            "error_y": {
             "color": "#2a3f5f"
            },
            "marker": {
             "line": {
              "color": "#E5ECF6",
              "width": 0.5
             }
            },
            "type": "bar"
           }
          ],
          "barpolar": [
           {
            "marker": {
             "line": {
              "color": "#E5ECF6",
              "width": 0.5
             }
            },
            "type": "barpolar"
           }
          ],
          "carpet": [
           {
            "aaxis": {
             "endlinecolor": "#2a3f5f",
             "gridcolor": "white",
             "linecolor": "white",
             "minorgridcolor": "white",
             "startlinecolor": "#2a3f5f"
            },
            "baxis": {
             "endlinecolor": "#2a3f5f",
             "gridcolor": "white",
             "linecolor": "white",
             "minorgridcolor": "white",
             "startlinecolor": "#2a3f5f"
            },
            "type": "carpet"
           }
          ],
          "choropleth": [
           {
            "colorbar": {
             "outlinewidth": 0,
             "ticks": ""
            },
            "type": "choropleth"
           }
          ],
          "contour": [
           {
            "colorbar": {
             "outlinewidth": 0,
             "ticks": ""
            },
            "colorscale": [
             [
              0,
              "#0d0887"
             ],
             [
              0.1111111111111111,
              "#46039f"
             ],
             [
              0.2222222222222222,
              "#7201a8"
             ],
             [
              0.3333333333333333,
              "#9c179e"
             ],
             [
              0.4444444444444444,
              "#bd3786"
             ],
             [
              0.5555555555555556,
              "#d8576b"
             ],
             [
              0.6666666666666666,
              "#ed7953"
             ],
             [
              0.7777777777777778,
              "#fb9f3a"
             ],
             [
              0.8888888888888888,
              "#fdca26"
             ],
             [
              1,
              "#f0f921"
             ]
            ],
            "type": "contour"
           }
          ],
          "contourcarpet": [
           {
            "colorbar": {
             "outlinewidth": 0,
             "ticks": ""
            },
            "type": "contourcarpet"
           }
          ],
          "heatmap": [
           {
            "colorbar": {
             "outlinewidth": 0,
             "ticks": ""
            },
            "colorscale": [
             [
              0,
              "#0d0887"
             ],
             [
              0.1111111111111111,
              "#46039f"
             ],
             [
              0.2222222222222222,
              "#7201a8"
             ],
             [
              0.3333333333333333,
              "#9c179e"
             ],
             [
              0.4444444444444444,
              "#bd3786"
             ],
             [
              0.5555555555555556,
              "#d8576b"
             ],
             [
              0.6666666666666666,
              "#ed7953"
             ],
             [
              0.7777777777777778,
              "#fb9f3a"
             ],
             [
              0.8888888888888888,
              "#fdca26"
             ],
             [
              1,
              "#f0f921"
             ]
            ],
            "type": "heatmap"
           }
          ],
          "heatmapgl": [
           {
            "colorbar": {
             "outlinewidth": 0,
             "ticks": ""
            },
            "colorscale": [
             [
              0,
              "#0d0887"
             ],
             [
              0.1111111111111111,
              "#46039f"
             ],
             [
              0.2222222222222222,
              "#7201a8"
             ],
             [
              0.3333333333333333,
              "#9c179e"
             ],
             [
              0.4444444444444444,
              "#bd3786"
             ],
             [
              0.5555555555555556,
              "#d8576b"
             ],
             [
              0.6666666666666666,
              "#ed7953"
             ],
             [
              0.7777777777777778,
              "#fb9f3a"
             ],
             [
              0.8888888888888888,
              "#fdca26"
             ],
             [
              1,
              "#f0f921"
             ]
            ],
            "type": "heatmapgl"
           }
          ],
          "histogram": [
           {
            "marker": {
             "colorbar": {
              "outlinewidth": 0,
              "ticks": ""
             }
            },
            "type": "histogram"
           }
          ],
          "histogram2d": [
           {
            "colorbar": {
             "outlinewidth": 0,
             "ticks": ""
            },
            "colorscale": [
             [
              0,
              "#0d0887"
             ],
             [
              0.1111111111111111,
              "#46039f"
             ],
             [
              0.2222222222222222,
              "#7201a8"
             ],
             [
              0.3333333333333333,
              "#9c179e"
             ],
             [
              0.4444444444444444,
              "#bd3786"
             ],
             [
              0.5555555555555556,
              "#d8576b"
             ],
             [
              0.6666666666666666,
              "#ed7953"
             ],
             [
              0.7777777777777778,
              "#fb9f3a"
             ],
             [
              0.8888888888888888,
              "#fdca26"
             ],
             [
              1,
              "#f0f921"
             ]
            ],
            "type": "histogram2d"
           }
          ],
          "histogram2dcontour": [
           {
            "colorbar": {
             "outlinewidth": 0,
             "ticks": ""
            },
            "colorscale": [
             [
              0,
              "#0d0887"
             ],
             [
              0.1111111111111111,
              "#46039f"
             ],
             [
              0.2222222222222222,
              "#7201a8"
             ],
             [
              0.3333333333333333,
              "#9c179e"
             ],
             [
              0.4444444444444444,
              "#bd3786"
             ],
             [
              0.5555555555555556,
              "#d8576b"
             ],
             [
              0.6666666666666666,
              "#ed7953"
             ],
             [
              0.7777777777777778,
              "#fb9f3a"
             ],
             [
              0.8888888888888888,
              "#fdca26"
             ],
             [
              1,
              "#f0f921"
             ]
            ],
            "type": "histogram2dcontour"
           }
          ],
          "mesh3d": [
           {
            "colorbar": {
             "outlinewidth": 0,
             "ticks": ""
            },
            "type": "mesh3d"
           }
          ],
          "parcoords": [
           {
            "line": {
             "colorbar": {
              "outlinewidth": 0,
              "ticks": ""
             }
            },
            "type": "parcoords"
           }
          ],
          "pie": [
           {
            "automargin": true,
            "type": "pie"
           }
          ],
          "scatter": [
           {
            "marker": {
             "colorbar": {
              "outlinewidth": 0,
              "ticks": ""
             }
            },
            "type": "scatter"
           }
          ],
          "scatter3d": [
           {
            "line": {
             "colorbar": {
              "outlinewidth": 0,
              "ticks": ""
             }
            },
            "marker": {
             "colorbar": {
              "outlinewidth": 0,
              "ticks": ""
             }
            },
            "type": "scatter3d"
           }
          ],
          "scattercarpet": [
           {
            "marker": {
             "colorbar": {
              "outlinewidth": 0,
              "ticks": ""
             }
            },
            "type": "scattercarpet"
           }
          ],
          "scattergeo": [
           {
            "marker": {
             "colorbar": {
              "outlinewidth": 0,
              "ticks": ""
             }
            },
            "type": "scattergeo"
           }
          ],
          "scattergl": [
           {
            "marker": {
             "colorbar": {
              "outlinewidth": 0,
              "ticks": ""
             }
            },
            "type": "scattergl"
           }
          ],
          "scattermapbox": [
           {
            "marker": {
             "colorbar": {
              "outlinewidth": 0,
              "ticks": ""
             }
            },
            "type": "scattermapbox"
           }
          ],
          "scatterpolar": [
           {
            "marker": {
             "colorbar": {
              "outlinewidth": 0,
              "ticks": ""
             }
            },
            "type": "scatterpolar"
           }
          ],
          "scatterpolargl": [
           {
            "marker": {
             "colorbar": {
              "outlinewidth": 0,
              "ticks": ""
             }
            },
            "type": "scatterpolargl"
           }
          ],
          "scatterternary": [
           {
            "marker": {
             "colorbar": {
              "outlinewidth": 0,
              "ticks": ""
             }
            },
            "type": "scatterternary"
           }
          ],
          "surface": [
           {
            "colorbar": {
             "outlinewidth": 0,
             "ticks": ""
            },
            "colorscale": [
             [
              0,
              "#0d0887"
             ],
             [
              0.1111111111111111,
              "#46039f"
             ],
             [
              0.2222222222222222,
              "#7201a8"
             ],
             [
              0.3333333333333333,
              "#9c179e"
             ],
             [
              0.4444444444444444,
              "#bd3786"
             ],
             [
              0.5555555555555556,
              "#d8576b"
             ],
             [
              0.6666666666666666,
              "#ed7953"
             ],
             [
              0.7777777777777778,
              "#fb9f3a"
             ],
             [
              0.8888888888888888,
              "#fdca26"
             ],
             [
              1,
              "#f0f921"
             ]
            ],
            "type": "surface"
           }
          ],
          "table": [
           {
            "cells": {
             "fill": {
              "color": "#EBF0F8"
             },
             "line": {
              "color": "white"
             }
            },
            "header": {
             "fill": {
              "color": "#C8D4E3"
             },
             "line": {
              "color": "white"
             }
            },
            "type": "table"
           }
          ]
         },
         "layout": {
          "annotationdefaults": {
           "arrowcolor": "#2a3f5f",
           "arrowhead": 0,
           "arrowwidth": 1
          },
          "coloraxis": {
           "colorbar": {
            "outlinewidth": 0,
            "ticks": ""
           }
          },
          "colorscale": {
           "diverging": [
            [
             0,
             "#8e0152"
            ],
            [
             0.1,
             "#c51b7d"
            ],
            [
             0.2,
             "#de77ae"
            ],
            [
             0.3,
             "#f1b6da"
            ],
            [
             0.4,
             "#fde0ef"
            ],
            [
             0.5,
             "#f7f7f7"
            ],
            [
             0.6,
             "#e6f5d0"
            ],
            [
             0.7,
             "#b8e186"
            ],
            [
             0.8,
             "#7fbc41"
            ],
            [
             0.9,
             "#4d9221"
            ],
            [
             1,
             "#276419"
            ]
           ],
           "sequential": [
            [
             0,
             "#0d0887"
            ],
            [
             0.1111111111111111,
             "#46039f"
            ],
            [
             0.2222222222222222,
             "#7201a8"
            ],
            [
             0.3333333333333333,
             "#9c179e"
            ],
            [
             0.4444444444444444,
             "#bd3786"
            ],
            [
             0.5555555555555556,
             "#d8576b"
            ],
            [
             0.6666666666666666,
             "#ed7953"
            ],
            [
             0.7777777777777778,
             "#fb9f3a"
            ],
            [
             0.8888888888888888,
             "#fdca26"
            ],
            [
             1,
             "#f0f921"
            ]
           ],
           "sequentialminus": [
            [
             0,
             "#0d0887"
            ],
            [
             0.1111111111111111,
             "#46039f"
            ],
            [
             0.2222222222222222,
             "#7201a8"
            ],
            [
             0.3333333333333333,
             "#9c179e"
            ],
            [
             0.4444444444444444,
             "#bd3786"
            ],
            [
             0.5555555555555556,
             "#d8576b"
            ],
            [
             0.6666666666666666,
             "#ed7953"
            ],
            [
             0.7777777777777778,
             "#fb9f3a"
            ],
            [
             0.8888888888888888,
             "#fdca26"
            ],
            [
             1,
             "#f0f921"
            ]
           ]
          },
          "colorway": [
           "#636efa",
           "#EF553B",
           "#00cc96",
           "#ab63fa",
           "#FFA15A",
           "#19d3f3",
           "#FF6692",
           "#B6E880",
           "#FF97FF",
           "#FECB52"
          ],
          "font": {
           "color": "#2a3f5f"
          },
          "geo": {
           "bgcolor": "white",
           "lakecolor": "white",
           "landcolor": "#E5ECF6",
           "showlakes": true,
           "showland": true,
           "subunitcolor": "white"
          },
          "hoverlabel": {
           "align": "left"
          },
          "hovermode": "closest",
          "mapbox": {
           "style": "light"
          },
          "paper_bgcolor": "white",
          "plot_bgcolor": "#E5ECF6",
          "polar": {
           "angularaxis": {
            "gridcolor": "white",
            "linecolor": "white",
            "ticks": ""
           },
           "bgcolor": "#E5ECF6",
           "radialaxis": {
            "gridcolor": "white",
            "linecolor": "white",
            "ticks": ""
           }
          },
          "scene": {
           "xaxis": {
            "backgroundcolor": "#E5ECF6",
            "gridcolor": "white",
            "gridwidth": 2,
            "linecolor": "white",
            "showbackground": true,
            "ticks": "",
            "zerolinecolor": "white"
           },
           "yaxis": {
            "backgroundcolor": "#E5ECF6",
            "gridcolor": "white",
            "gridwidth": 2,
            "linecolor": "white",
            "showbackground": true,
            "ticks": "",
            "zerolinecolor": "white"
           },
           "zaxis": {
            "backgroundcolor": "#E5ECF6",
            "gridcolor": "white",
            "gridwidth": 2,
            "linecolor": "white",
            "showbackground": true,
            "ticks": "",
            "zerolinecolor": "white"
           }
          },
          "shapedefaults": {
           "line": {
            "color": "#2a3f5f"
           }
          },
          "ternary": {
           "aaxis": {
            "gridcolor": "white",
            "linecolor": "white",
            "ticks": ""
           },
           "baxis": {
            "gridcolor": "white",
            "linecolor": "white",
            "ticks": ""
           },
           "bgcolor": "#E5ECF6",
           "caxis": {
            "gridcolor": "white",
            "linecolor": "white",
            "ticks": ""
           }
          },
          "title": {
           "x": 0.05
          },
          "xaxis": {
           "automargin": true,
           "gridcolor": "white",
           "linecolor": "white",
           "ticks": "",
           "title": {
            "standoff": 15
           },
           "zerolinecolor": "white",
           "zerolinewidth": 2
          },
          "yaxis": {
           "automargin": true,
           "gridcolor": "white",
           "linecolor": "white",
           "ticks": "",
           "title": {
            "standoff": 15
           },
           "zerolinecolor": "white",
           "zerolinewidth": 2
          }
         }
        },
        "xaxis": {
         "title": {
          "text": "Mean Radius"
         }
        },
        "yaxis": {
         "title": {
          "text": "Malignant"
         }
        }
       }
      },
      "text/html": [
       "<div>\n",
       "        \n",
       "        \n",
       "            <div id=\"bf1fcba7-eacc-4fad-bd08-40165d42a0c1\" class=\"plotly-graph-div\" style=\"height:525px; width:100%;\"></div>\n",
       "            <script type=\"text/javascript\">\n",
       "                require([\"plotly\"], function(Plotly) {\n",
       "                    window.PLOTLYENV=window.PLOTLYENV || {};\n",
       "                    \n",
       "                if (document.getElementById(\"bf1fcba7-eacc-4fad-bd08-40165d42a0c1\")) {\n",
       "                    Plotly.newPlot(\n",
       "                        'bf1fcba7-eacc-4fad-bd08-40165d42a0c1',\n",
       "                        [{\"mode\": \"markers\", \"type\": \"scatter\", \"x\": [17.99, 20.57, 19.69, 11.42, 20.29, 12.45, 18.25, 13.71, 13.0, 12.46, 16.02, 15.78, 19.17, 15.85, 13.73, 14.54, 14.68, 16.13, 19.81, 13.54, 13.08, 9.504, 15.34, 21.16, 16.65, 17.14, 14.58, 18.61, 15.3, 17.57, 18.63, 11.84, 17.02, 19.27, 16.13, 16.74, 14.25, 13.03, 14.99, 13.48, 13.44, 10.95, 19.07, 13.28, 13.17, 18.65, 8.196, 13.17, 12.05, 13.49, 11.76, 13.64, 11.94, 18.22, 15.1, 11.52, 19.21, 14.71, 13.05, 8.618, 10.17, 8.598, 14.25, 9.173, 12.68, 14.78, 9.465, 11.31, 9.029, 12.78, 18.94, 8.888, 17.2, 13.8, 12.31, 16.07, 13.53, 18.05, 20.18, 12.86, 11.45, 13.34, 25.22, 19.1, 12.0, 18.46, 14.48, 19.02, 12.36, 14.64, 14.62, 15.37, 13.27, 13.45, 15.06, 20.26, 12.18, 9.787, 11.6, 14.42, 13.61, 6.981, 12.18, 9.876, 10.49, 13.11, 11.64, 12.36, 22.27, 11.34, 9.777, 12.63, 14.26, 10.51, 8.726, 11.93, 8.95, 14.87, 15.78, 17.95, 11.41, 18.66, 24.25, 14.5, 13.37, 13.85, 13.61, 19.0, 15.1, 19.79, 12.19, 15.46, 16.16, 15.71, 18.45, 12.77, 11.71, 11.43, 14.95, 11.28, 9.738, 16.11, 11.43, 12.9, 10.75, 11.9, 11.8, 14.95, 14.44, 13.74, 13.0, 8.219, 9.731, 11.15, 13.15, 12.25, 17.68, 16.84, 12.06, 10.9, 11.75, 19.19, 19.59, 12.34, 23.27, 14.97, 10.8, 16.78, 17.47, 14.97, 12.32, 13.43, 15.46, 11.08, 10.66, 8.671, 9.904, 16.46, 13.01, 12.81, 27.22, 21.09, 15.7, 11.41, 15.28, 10.08, 18.31, 11.71, 11.81, 12.3, 14.22, 12.77, 9.72, 12.34, 14.86, 12.91, 13.77, 18.08, 19.18, 14.45, 12.23, 17.54, 23.29, 13.81, 12.47, 15.12, 9.876, 17.01, 13.11, 15.27, 20.58, 11.84, 28.11, 17.42, 14.19, 13.86, 11.89, 10.2, 19.8, 19.53, 13.65, 13.56, 10.18, 15.75, 13.27, 14.34, 10.44, 15.0, 12.62, 12.83, 17.05, 11.32, 11.22, 20.51, 9.567, 14.03, 23.21, 20.48, 14.22, 17.46, 13.64, 12.42, 11.3, 13.75, 19.4, 10.48, 13.2, 12.89, 10.65, 11.52, 20.94, 11.5, 19.73, 17.3, 19.45, 13.96, 19.55, 15.32, 15.66, 15.53, 20.31, 17.35, 17.29, 15.61, 17.19, 20.73, 10.6, 13.59, 12.87, 10.71, 14.29, 11.29, 21.75, 9.742, 17.93, 11.89, 11.33, 18.81, 13.59, 13.85, 19.16, 11.74, 19.4, 16.24, 12.89, 12.58, 11.94, 12.89, 11.26, 11.37, 14.41, 14.96, 12.95, 11.85, 12.72, 13.77, 10.91, 11.76, 14.26, 10.51, 19.53, 12.46, 20.09, 10.49, 11.46, 11.6, 13.2, 9.0, 13.5, 13.05, 11.7, 14.61, 12.76, 11.54, 8.597, 12.49, 12.18, 18.22, 9.042, 12.43, 10.25, 20.16, 12.86, 20.34, 12.2, 12.67, 14.11, 12.03, 16.27, 16.26, 16.03, 12.98, 11.22, 11.25, 12.3, 17.06, 12.99, 18.77, 10.05, 23.51, 14.42, 9.606, 11.06, 19.68, 11.71, 10.26, 12.06, 14.76, 11.47, 11.95, 11.66, 15.75, 25.73, 15.08, 11.14, 12.56, 13.05, 13.87, 8.878, 9.436, 12.54, 13.3, 12.76, 16.5, 13.4, 20.44, 20.2, 12.21, 21.71, 22.01, 16.35, 15.19, 21.37, 20.64, 13.69, 16.17, 10.57, 13.46, 13.66, 11.08, 11.27, 11.04, 12.05, 12.39, 13.28, 14.6, 12.21, 13.88, 11.27, 19.55, 10.26, 8.734, 15.49, 21.61, 12.1, 14.06, 13.51, 12.8, 11.06, 11.8, 17.91, 11.93, 12.96, 12.94, 12.34, 10.94, 16.14, 12.85, 17.99, 12.27, 11.36, 11.04, 9.397, 14.99, 15.13, 11.89, 9.405, 15.5, 12.7, 11.16, 11.57, 14.69, 11.61, 13.66, 9.742, 10.03, 10.48, 10.8, 11.13, 12.72, 14.9, 12.4, 20.18, 18.82, 14.86, 13.98, 12.87, 14.04, 13.85, 14.02, 10.97, 17.27, 13.78, 10.57, 18.03, 11.99, 17.75, 14.8, 14.53, 21.1, 11.87, 19.59, 12.0, 14.53, 12.62, 13.38, 11.63, 13.21, 13.0, 9.755, 17.08, 27.42, 14.4, 11.6, 13.17, 13.24, 13.14, 9.668, 17.6, 11.62, 9.667, 12.04, 14.92, 12.27, 10.88, 12.83, 14.2, 13.9, 11.49, 16.25, 12.16, 13.9, 13.47, 13.7, 15.73, 12.45, 14.64, 19.44, 11.68, 16.69, 12.25, 17.85, 18.01, 12.46, 13.16, 14.87, 12.65, 12.47, 18.49, 20.59, 15.04, 13.82, 12.54, 23.09, 9.268, 9.676, 12.22, 11.06, 16.3, 15.46, 11.74, 14.81, 13.4, 14.58, 15.05, 11.34, 18.31, 19.89, 12.88, 12.75, 9.295, 24.63, 11.26, 13.71, 9.847, 8.571, 13.46, 12.34, 13.94, 12.07, 11.75, 11.67, 13.68, 20.47, 10.96, 20.55, 14.27, 11.69, 7.729, 7.691, 11.54, 14.47, 14.74, 13.21, 13.87, 13.62, 10.32, 10.26, 9.683, 10.82, 10.86, 11.13, 12.77, 9.333, 12.88, 10.29, 10.16, 9.423, 14.59, 11.51, 14.05, 11.2, 15.22, 20.92, 21.56, 20.13, 16.6, 20.6, 7.76], \"y\": [1.0, 1.0, 1.0, 1.0, 1.0, 1.0, 1.0, 1.0, 1.0, 1.0, 1.0, 1.0, 1.0, 1.0, 1.0, 1.0, 1.0, 1.0, 1.0, 0.0, 0.0, 0.0, 1.0, 1.0, 1.0, 1.0, 1.0, 1.0, 1.0, 1.0, 1.0, 1.0, 1.0, 1.0, 1.0, 1.0, 1.0, 0.0, 1.0, 1.0, 1.0, 1.0, 1.0, 1.0, 1.0, 1.0, 0.0, 1.0, 0.0, 0.0, 0.0, 0.0, 0.0, 1.0, 1.0, 0.0, 1.0, 1.0, 0.0, 0.0, 0.0, 0.0, 1.0, 0.0, 1.0, 1.0, 0.0, 0.0, 0.0, 0.0, 1.0, 0.0, 1.0, 1.0, 0.0, 1.0, 0.0, 1.0, 1.0, 0.0, 0.0, 0.0, 1.0, 1.0, 0.0, 1.0, 1.0, 1.0, 0.0, 0.0, 0.0, 1.0, 0.0, 0.0, 1.0, 1.0, 0.0, 0.0, 0.0, 1.0, 1.0, 0.0, 0.0, 0.0, 0.0, 1.0, 0.0, 0.0, 1.0, 0.0, 0.0, 0.0, 0.0, 0.0, 0.0, 0.0, 0.0, 1.0, 1.0, 1.0, 0.0, 1.0, 1.0, 0.0, 0.0, 0.0, 1.0, 1.0, 0.0, 1.0, 0.0, 1.0, 1.0, 0.0, 1.0, 1.0, 0.0, 0.0, 1.0, 0.0, 0.0, 1.0, 0.0, 0.0, 0.0, 0.0, 1.0, 0.0, 0.0, 0.0, 0.0, 0.0, 0.0, 0.0, 0.0, 0.0, 1.0, 0.0, 0.0, 0.0, 0.0, 1.0, 1.0, 0.0, 1.0, 0.0, 0.0, 1.0, 1.0, 0.0, 0.0, 1.0, 1.0, 0.0, 0.0, 0.0, 0.0, 1.0, 0.0, 0.0, 1.0, 1.0, 1.0, 0.0, 1.0, 0.0, 1.0, 0.0, 0.0, 0.0, 1.0, 0.0, 0.0, 1.0, 1.0, 0.0, 1.0, 1.0, 1.0, 1.0, 0.0, 1.0, 1.0, 1.0, 0.0, 1.0, 0.0, 1.0, 0.0, 0.0, 1.0, 0.0, 1.0, 1.0, 1.0, 1.0, 0.0, 0.0, 1.0, 1.0, 0.0, 0.0, 0.0, 1.0, 0.0, 0.0, 0.0, 0.0, 0.0, 1.0, 1.0, 0.0, 0.0, 1.0, 0.0, 0.0, 1.0, 1.0, 0.0, 1.0, 0.0, 0.0, 0.0, 0.0, 1.0, 0.0, 0.0, 0.0, 0.0, 0.0, 1.0, 0.0, 1.0, 1.0, 1.0, 1.0, 1.0, 1.0, 1.0, 1.0, 1.0, 1.0, 1.0, 1.0, 1.0, 1.0, 0.0, 0.0, 0.0, 0.0, 0.0, 0.0, 1.0, 0.0, 1.0, 0.0, 0.0, 1.0, 0.0, 0.0, 1.0, 0.0, 1.0, 1.0, 0.0, 0.0, 0.0, 0.0, 0.0, 0.0, 0.0, 0.0, 0.0, 0.0, 0.0, 0.0, 0.0, 1.0, 0.0, 0.0, 1.0, 0.0, 1.0, 0.0, 0.0, 0.0, 0.0, 0.0, 0.0, 0.0, 0.0, 0.0, 0.0, 0.0, 0.0, 0.0, 0.0, 1.0, 0.0, 0.0, 0.0, 1.0, 0.0, 1.0, 0.0, 0.0, 0.0, 0.0, 1.0, 1.0, 1.0, 0.0, 0.0, 0.0, 0.0, 1.0, 0.0, 1.0, 0.0, 1.0, 0.0, 0.0, 0.0, 1.0, 0.0, 0.0, 0.0, 0.0, 0.0, 0.0, 0.0, 1.0, 1.0, 1.0, 0.0, 0.0, 0.0, 0.0, 0.0, 0.0, 0.0, 0.0, 0.0, 0.0, 0.0, 1.0, 1.0, 0.0, 1.0, 1.0, 1.0, 0.0, 1.0, 1.0, 0.0, 0.0, 0.0, 0.0, 0.0, 1.0, 0.0, 0.0, 0.0, 0.0, 0.0, 1.0, 0.0, 0.0, 0.0, 1.0, 0.0, 0.0, 1.0, 1.0, 0.0, 0.0, 0.0, 0.0, 0.0, 0.0, 1.0, 0.0, 0.0, 0.0, 0.0, 0.0, 0.0, 0.0, 1.0, 0.0, 0.0, 0.0, 0.0, 0.0, 1.0, 0.0, 0.0, 1.0, 0.0, 0.0, 0.0, 0.0, 0.0, 0.0, 0.0, 0.0, 0.0, 0.0, 0.0, 0.0, 1.0, 0.0, 1.0, 1.0, 0.0, 1.0, 0.0, 0.0, 0.0, 0.0, 0.0, 1.0, 0.0, 0.0, 1.0, 0.0, 1.0, 0.0, 0.0, 1.0, 0.0, 1.0, 0.0, 0.0, 0.0, 0.0, 0.0, 0.0, 0.0, 0.0, 1.0, 1.0, 0.0, 0.0, 0.0, 0.0, 0.0, 0.0, 1.0, 0.0, 0.0, 0.0, 0.0, 0.0, 0.0, 0.0, 0.0, 0.0, 0.0, 1.0, 0.0, 0.0, 0.0, 0.0, 0.0, 0.0, 0.0, 1.0, 0.0, 1.0, 0.0, 0.0, 1.0, 0.0, 0.0, 0.0, 0.0, 0.0, 1.0, 1.0, 0.0, 1.0, 0.0, 1.0, 0.0, 0.0, 0.0, 0.0, 0.0, 1.0, 0.0, 0.0, 1.0, 0.0, 1.0, 0.0, 1.0, 1.0, 0.0, 0.0, 0.0, 1.0, 0.0, 0.0, 0.0, 0.0, 0.0, 0.0, 0.0, 0.0, 0.0, 0.0, 0.0, 1.0, 0.0, 1.0, 1.0, 0.0, 0.0, 0.0, 0.0, 0.0, 0.0, 0.0, 0.0, 0.0, 0.0, 0.0, 0.0, 0.0, 0.0, 0.0, 0.0, 0.0, 0.0, 0.0, 0.0, 0.0, 0.0, 0.0, 0.0, 0.0, 1.0, 1.0, 1.0, 1.0, 1.0, 1.0, 0.0]}],\n",
       "                        {\"template\": {\"data\": {\"bar\": [{\"error_x\": {\"color\": \"#2a3f5f\"}, \"error_y\": {\"color\": \"#2a3f5f\"}, \"marker\": {\"line\": {\"color\": \"#E5ECF6\", \"width\": 0.5}}, \"type\": \"bar\"}], \"barpolar\": [{\"marker\": {\"line\": {\"color\": \"#E5ECF6\", \"width\": 0.5}}, \"type\": \"barpolar\"}], \"carpet\": [{\"aaxis\": {\"endlinecolor\": \"#2a3f5f\", \"gridcolor\": \"white\", \"linecolor\": \"white\", \"minorgridcolor\": \"white\", \"startlinecolor\": \"#2a3f5f\"}, \"baxis\": {\"endlinecolor\": \"#2a3f5f\", \"gridcolor\": \"white\", \"linecolor\": \"white\", \"minorgridcolor\": \"white\", \"startlinecolor\": \"#2a3f5f\"}, \"type\": \"carpet\"}], \"choropleth\": [{\"colorbar\": {\"outlinewidth\": 0, \"ticks\": \"\"}, \"type\": \"choropleth\"}], \"contour\": [{\"colorbar\": {\"outlinewidth\": 0, \"ticks\": \"\"}, \"colorscale\": [[0.0, \"#0d0887\"], [0.1111111111111111, \"#46039f\"], [0.2222222222222222, \"#7201a8\"], [0.3333333333333333, \"#9c179e\"], [0.4444444444444444, \"#bd3786\"], [0.5555555555555556, \"#d8576b\"], [0.6666666666666666, \"#ed7953\"], [0.7777777777777778, \"#fb9f3a\"], [0.8888888888888888, \"#fdca26\"], [1.0, \"#f0f921\"]], \"type\": \"contour\"}], \"contourcarpet\": [{\"colorbar\": {\"outlinewidth\": 0, \"ticks\": \"\"}, \"type\": \"contourcarpet\"}], \"heatmap\": [{\"colorbar\": {\"outlinewidth\": 0, \"ticks\": \"\"}, \"colorscale\": [[0.0, \"#0d0887\"], [0.1111111111111111, \"#46039f\"], [0.2222222222222222, \"#7201a8\"], [0.3333333333333333, \"#9c179e\"], [0.4444444444444444, \"#bd3786\"], [0.5555555555555556, \"#d8576b\"], [0.6666666666666666, \"#ed7953\"], [0.7777777777777778, \"#fb9f3a\"], [0.8888888888888888, \"#fdca26\"], [1.0, \"#f0f921\"]], \"type\": \"heatmap\"}], \"heatmapgl\": [{\"colorbar\": {\"outlinewidth\": 0, \"ticks\": \"\"}, \"colorscale\": [[0.0, \"#0d0887\"], [0.1111111111111111, \"#46039f\"], [0.2222222222222222, \"#7201a8\"], [0.3333333333333333, \"#9c179e\"], [0.4444444444444444, \"#bd3786\"], [0.5555555555555556, \"#d8576b\"], [0.6666666666666666, \"#ed7953\"], [0.7777777777777778, \"#fb9f3a\"], [0.8888888888888888, \"#fdca26\"], [1.0, \"#f0f921\"]], \"type\": \"heatmapgl\"}], \"histogram\": [{\"marker\": {\"colorbar\": {\"outlinewidth\": 0, \"ticks\": \"\"}}, \"type\": \"histogram\"}], \"histogram2d\": [{\"colorbar\": {\"outlinewidth\": 0, \"ticks\": \"\"}, \"colorscale\": [[0.0, \"#0d0887\"], [0.1111111111111111, \"#46039f\"], [0.2222222222222222, \"#7201a8\"], [0.3333333333333333, \"#9c179e\"], [0.4444444444444444, \"#bd3786\"], [0.5555555555555556, \"#d8576b\"], [0.6666666666666666, \"#ed7953\"], [0.7777777777777778, \"#fb9f3a\"], [0.8888888888888888, \"#fdca26\"], [1.0, \"#f0f921\"]], \"type\": \"histogram2d\"}], \"histogram2dcontour\": [{\"colorbar\": {\"outlinewidth\": 0, \"ticks\": \"\"}, \"colorscale\": [[0.0, \"#0d0887\"], [0.1111111111111111, \"#46039f\"], [0.2222222222222222, \"#7201a8\"], [0.3333333333333333, \"#9c179e\"], [0.4444444444444444, \"#bd3786\"], [0.5555555555555556, \"#d8576b\"], [0.6666666666666666, \"#ed7953\"], [0.7777777777777778, \"#fb9f3a\"], [0.8888888888888888, \"#fdca26\"], [1.0, \"#f0f921\"]], \"type\": \"histogram2dcontour\"}], \"mesh3d\": [{\"colorbar\": {\"outlinewidth\": 0, \"ticks\": \"\"}, \"type\": \"mesh3d\"}], \"parcoords\": [{\"line\": {\"colorbar\": {\"outlinewidth\": 0, \"ticks\": \"\"}}, \"type\": \"parcoords\"}], \"pie\": [{\"automargin\": true, \"type\": \"pie\"}], \"scatter\": [{\"marker\": {\"colorbar\": {\"outlinewidth\": 0, \"ticks\": \"\"}}, \"type\": \"scatter\"}], \"scatter3d\": [{\"line\": {\"colorbar\": {\"outlinewidth\": 0, \"ticks\": \"\"}}, \"marker\": {\"colorbar\": {\"outlinewidth\": 0, \"ticks\": \"\"}}, \"type\": \"scatter3d\"}], \"scattercarpet\": [{\"marker\": {\"colorbar\": {\"outlinewidth\": 0, \"ticks\": \"\"}}, \"type\": \"scattercarpet\"}], \"scattergeo\": [{\"marker\": {\"colorbar\": {\"outlinewidth\": 0, \"ticks\": \"\"}}, \"type\": \"scattergeo\"}], \"scattergl\": [{\"marker\": {\"colorbar\": {\"outlinewidth\": 0, \"ticks\": \"\"}}, \"type\": \"scattergl\"}], \"scattermapbox\": [{\"marker\": {\"colorbar\": {\"outlinewidth\": 0, \"ticks\": \"\"}}, \"type\": \"scattermapbox\"}], \"scatterpolar\": [{\"marker\": {\"colorbar\": {\"outlinewidth\": 0, \"ticks\": \"\"}}, \"type\": \"scatterpolar\"}], \"scatterpolargl\": [{\"marker\": {\"colorbar\": {\"outlinewidth\": 0, \"ticks\": \"\"}}, \"type\": \"scatterpolargl\"}], \"scatterternary\": [{\"marker\": {\"colorbar\": {\"outlinewidth\": 0, \"ticks\": \"\"}}, \"type\": \"scatterternary\"}], \"surface\": [{\"colorbar\": {\"outlinewidth\": 0, \"ticks\": \"\"}, \"colorscale\": [[0.0, \"#0d0887\"], [0.1111111111111111, \"#46039f\"], [0.2222222222222222, \"#7201a8\"], [0.3333333333333333, \"#9c179e\"], [0.4444444444444444, \"#bd3786\"], [0.5555555555555556, \"#d8576b\"], [0.6666666666666666, \"#ed7953\"], [0.7777777777777778, \"#fb9f3a\"], [0.8888888888888888, \"#fdca26\"], [1.0, \"#f0f921\"]], \"type\": \"surface\"}], \"table\": [{\"cells\": {\"fill\": {\"color\": \"#EBF0F8\"}, \"line\": {\"color\": \"white\"}}, \"header\": {\"fill\": {\"color\": \"#C8D4E3\"}, \"line\": {\"color\": \"white\"}}, \"type\": \"table\"}]}, \"layout\": {\"annotationdefaults\": {\"arrowcolor\": \"#2a3f5f\", \"arrowhead\": 0, \"arrowwidth\": 1}, \"coloraxis\": {\"colorbar\": {\"outlinewidth\": 0, \"ticks\": \"\"}}, \"colorscale\": {\"diverging\": [[0, \"#8e0152\"], [0.1, \"#c51b7d\"], [0.2, \"#de77ae\"], [0.3, \"#f1b6da\"], [0.4, \"#fde0ef\"], [0.5, \"#f7f7f7\"], [0.6, \"#e6f5d0\"], [0.7, \"#b8e186\"], [0.8, \"#7fbc41\"], [0.9, \"#4d9221\"], [1, \"#276419\"]], \"sequential\": [[0.0, \"#0d0887\"], [0.1111111111111111, \"#46039f\"], [0.2222222222222222, \"#7201a8\"], [0.3333333333333333, \"#9c179e\"], [0.4444444444444444, \"#bd3786\"], [0.5555555555555556, \"#d8576b\"], [0.6666666666666666, \"#ed7953\"], [0.7777777777777778, \"#fb9f3a\"], [0.8888888888888888, \"#fdca26\"], [1.0, \"#f0f921\"]], \"sequentialminus\": [[0.0, \"#0d0887\"], [0.1111111111111111, \"#46039f\"], [0.2222222222222222, \"#7201a8\"], [0.3333333333333333, \"#9c179e\"], [0.4444444444444444, \"#bd3786\"], [0.5555555555555556, \"#d8576b\"], [0.6666666666666666, \"#ed7953\"], [0.7777777777777778, \"#fb9f3a\"], [0.8888888888888888, \"#fdca26\"], [1.0, \"#f0f921\"]]}, \"colorway\": [\"#636efa\", \"#EF553B\", \"#00cc96\", \"#ab63fa\", \"#FFA15A\", \"#19d3f3\", \"#FF6692\", \"#B6E880\", \"#FF97FF\", \"#FECB52\"], \"font\": {\"color\": \"#2a3f5f\"}, \"geo\": {\"bgcolor\": \"white\", \"lakecolor\": \"white\", \"landcolor\": \"#E5ECF6\", \"showlakes\": true, \"showland\": true, \"subunitcolor\": \"white\"}, \"hoverlabel\": {\"align\": \"left\"}, \"hovermode\": \"closest\", \"mapbox\": {\"style\": \"light\"}, \"paper_bgcolor\": \"white\", \"plot_bgcolor\": \"#E5ECF6\", \"polar\": {\"angularaxis\": {\"gridcolor\": \"white\", \"linecolor\": \"white\", \"ticks\": \"\"}, \"bgcolor\": \"#E5ECF6\", \"radialaxis\": {\"gridcolor\": \"white\", \"linecolor\": \"white\", \"ticks\": \"\"}}, \"scene\": {\"xaxis\": {\"backgroundcolor\": \"#E5ECF6\", \"gridcolor\": \"white\", \"gridwidth\": 2, \"linecolor\": \"white\", \"showbackground\": true, \"ticks\": \"\", \"zerolinecolor\": \"white\"}, \"yaxis\": {\"backgroundcolor\": \"#E5ECF6\", \"gridcolor\": \"white\", \"gridwidth\": 2, \"linecolor\": \"white\", \"showbackground\": true, \"ticks\": \"\", \"zerolinecolor\": \"white\"}, \"zaxis\": {\"backgroundcolor\": \"#E5ECF6\", \"gridcolor\": \"white\", \"gridwidth\": 2, \"linecolor\": \"white\", \"showbackground\": true, \"ticks\": \"\", \"zerolinecolor\": \"white\"}}, \"shapedefaults\": {\"line\": {\"color\": \"#2a3f5f\"}}, \"ternary\": {\"aaxis\": {\"gridcolor\": \"white\", \"linecolor\": \"white\", \"ticks\": \"\"}, \"baxis\": {\"gridcolor\": \"white\", \"linecolor\": \"white\", \"ticks\": \"\"}, \"bgcolor\": \"#E5ECF6\", \"caxis\": {\"gridcolor\": \"white\", \"linecolor\": \"white\", \"ticks\": \"\"}}, \"title\": {\"x\": 0.05}, \"xaxis\": {\"automargin\": true, \"gridcolor\": \"white\", \"linecolor\": \"white\", \"ticks\": \"\", \"title\": {\"standoff\": 15}, \"zerolinecolor\": \"white\", \"zerolinewidth\": 2}, \"yaxis\": {\"automargin\": true, \"gridcolor\": \"white\", \"linecolor\": \"white\", \"ticks\": \"\", \"title\": {\"standoff\": 15}, \"zerolinecolor\": \"white\", \"zerolinewidth\": 2}}}, \"xaxis\": {\"title\": {\"text\": \"Mean Radius\"}}, \"yaxis\": {\"title\": {\"text\": \"Malignant\"}}},\n",
       "                        {\"responsive\": true}\n",
       "                    ).then(function(){\n",
       "                            \n",
       "var gd = document.getElementById('bf1fcba7-eacc-4fad-bd08-40165d42a0c1');\n",
       "var x = new MutationObserver(function (mutations, observer) {{\n",
       "        var display = window.getComputedStyle(gd).display;\n",
       "        if (!display || display === 'none') {{\n",
       "            console.log([gd, 'removed!']);\n",
       "            Plotly.purge(gd);\n",
       "            observer.disconnect();\n",
       "        }}\n",
       "}});\n",
       "\n",
       "// Listen for the removal of the full notebook cells\n",
       "var notebookContainer = gd.closest('#notebook-container');\n",
       "if (notebookContainer) {{\n",
       "    x.observe(notebookContainer, {childList: true});\n",
       "}}\n",
       "\n",
       "// Listen for the clearing of the current output cell\n",
       "var outputEl = gd.closest('.output');\n",
       "if (outputEl) {{\n",
       "    x.observe(outputEl, {childList: true});\n",
       "}}\n",
       "\n",
       "                        })\n",
       "                };\n",
       "                });\n",
       "            </script>\n",
       "        </div>"
      ]
     },
     "metadata": {},
     "output_type": "display_data"
    }
   ],
   "source": [
    "points = go.Scatter(x=data['mean radius'], y = 1.*data['malignant'], mode=\"markers\")\n",
    "layout = dict(xaxis=dict(title=\"Mean Radius\"),yaxis=dict(title=\"Malignant\"))\n",
    "go.Figure(data=[points], layout=layout)"
   ]
  },
  {
   "cell_type": "markdown",
   "metadata": {},
   "source": [
    "This is a clear example of over-plotting.  We can improve the above plot by jittering the data:"
   ]
  },
  {
   "cell_type": "code",
   "execution_count": 9,
   "metadata": {},
   "outputs": [],
   "source": [
    "def jitter(data, amt=0.1):\n",
    "    return data + amt * np.random.rand(len(data)) - amt/2.0"
   ]
  },
  {
   "cell_type": "code",
   "execution_count": 10,
   "metadata": {
    "ExecuteTime": {
     "end_time": "2018-04-02T16:07:17.773256Z",
     "start_time": "2018-04-02T16:07:17.757563Z"
    }
   },
   "outputs": [
    {
     "data": {
      "application/vnd.plotly.v1+json": {
       "config": {
        "plotlyServerURL": "https://plot.ly"
       },
       "data": [
        {
         "marker": {
          "opacity": 0.5
         },
         "mode": "markers",
         "type": "scatter",
         "x": [
          17.99,
          20.57,
          19.69,
          11.42,
          20.29,
          12.45,
          18.25,
          13.71,
          13,
          12.46,
          16.02,
          15.78,
          19.17,
          15.85,
          13.73,
          14.54,
          14.68,
          16.13,
          19.81,
          13.54,
          13.08,
          9.504,
          15.34,
          21.16,
          16.65,
          17.14,
          14.58,
          18.61,
          15.3,
          17.57,
          18.63,
          11.84,
          17.02,
          19.27,
          16.13,
          16.74,
          14.25,
          13.03,
          14.99,
          13.48,
          13.44,
          10.95,
          19.07,
          13.28,
          13.17,
          18.65,
          8.196,
          13.17,
          12.05,
          13.49,
          11.76,
          13.64,
          11.94,
          18.22,
          15.1,
          11.52,
          19.21,
          14.71,
          13.05,
          8.618,
          10.17,
          8.598,
          14.25,
          9.173,
          12.68,
          14.78,
          9.465,
          11.31,
          9.029,
          12.78,
          18.94,
          8.888,
          17.2,
          13.8,
          12.31,
          16.07,
          13.53,
          18.05,
          20.18,
          12.86,
          11.45,
          13.34,
          25.22,
          19.1,
          12,
          18.46,
          14.48,
          19.02,
          12.36,
          14.64,
          14.62,
          15.37,
          13.27,
          13.45,
          15.06,
          20.26,
          12.18,
          9.787,
          11.6,
          14.42,
          13.61,
          6.981,
          12.18,
          9.876,
          10.49,
          13.11,
          11.64,
          12.36,
          22.27,
          11.34,
          9.777,
          12.63,
          14.26,
          10.51,
          8.726,
          11.93,
          8.95,
          14.87,
          15.78,
          17.95,
          11.41,
          18.66,
          24.25,
          14.5,
          13.37,
          13.85,
          13.61,
          19,
          15.1,
          19.79,
          12.19,
          15.46,
          16.16,
          15.71,
          18.45,
          12.77,
          11.71,
          11.43,
          14.95,
          11.28,
          9.738,
          16.11,
          11.43,
          12.9,
          10.75,
          11.9,
          11.8,
          14.95,
          14.44,
          13.74,
          13,
          8.219,
          9.731,
          11.15,
          13.15,
          12.25,
          17.68,
          16.84,
          12.06,
          10.9,
          11.75,
          19.19,
          19.59,
          12.34,
          23.27,
          14.97,
          10.8,
          16.78,
          17.47,
          14.97,
          12.32,
          13.43,
          15.46,
          11.08,
          10.66,
          8.671,
          9.904,
          16.46,
          13.01,
          12.81,
          27.22,
          21.09,
          15.7,
          11.41,
          15.28,
          10.08,
          18.31,
          11.71,
          11.81,
          12.3,
          14.22,
          12.77,
          9.72,
          12.34,
          14.86,
          12.91,
          13.77,
          18.08,
          19.18,
          14.45,
          12.23,
          17.54,
          23.29,
          13.81,
          12.47,
          15.12,
          9.876,
          17.01,
          13.11,
          15.27,
          20.58,
          11.84,
          28.11,
          17.42,
          14.19,
          13.86,
          11.89,
          10.2,
          19.8,
          19.53,
          13.65,
          13.56,
          10.18,
          15.75,
          13.27,
          14.34,
          10.44,
          15,
          12.62,
          12.83,
          17.05,
          11.32,
          11.22,
          20.51,
          9.567,
          14.03,
          23.21,
          20.48,
          14.22,
          17.46,
          13.64,
          12.42,
          11.3,
          13.75,
          19.4,
          10.48,
          13.2,
          12.89,
          10.65,
          11.52,
          20.94,
          11.5,
          19.73,
          17.3,
          19.45,
          13.96,
          19.55,
          15.32,
          15.66,
          15.53,
          20.31,
          17.35,
          17.29,
          15.61,
          17.19,
          20.73,
          10.6,
          13.59,
          12.87,
          10.71,
          14.29,
          11.29,
          21.75,
          9.742,
          17.93,
          11.89,
          11.33,
          18.81,
          13.59,
          13.85,
          19.16,
          11.74,
          19.4,
          16.24,
          12.89,
          12.58,
          11.94,
          12.89,
          11.26,
          11.37,
          14.41,
          14.96,
          12.95,
          11.85,
          12.72,
          13.77,
          10.91,
          11.76,
          14.26,
          10.51,
          19.53,
          12.46,
          20.09,
          10.49,
          11.46,
          11.6,
          13.2,
          9,
          13.5,
          13.05,
          11.7,
          14.61,
          12.76,
          11.54,
          8.597,
          12.49,
          12.18,
          18.22,
          9.042,
          12.43,
          10.25,
          20.16,
          12.86,
          20.34,
          12.2,
          12.67,
          14.11,
          12.03,
          16.27,
          16.26,
          16.03,
          12.98,
          11.22,
          11.25,
          12.3,
          17.06,
          12.99,
          18.77,
          10.05,
          23.51,
          14.42,
          9.606,
          11.06,
          19.68,
          11.71,
          10.26,
          12.06,
          14.76,
          11.47,
          11.95,
          11.66,
          15.75,
          25.73,
          15.08,
          11.14,
          12.56,
          13.05,
          13.87,
          8.878,
          9.436,
          12.54,
          13.3,
          12.76,
          16.5,
          13.4,
          20.44,
          20.2,
          12.21,
          21.71,
          22.01,
          16.35,
          15.19,
          21.37,
          20.64,
          13.69,
          16.17,
          10.57,
          13.46,
          13.66,
          11.08,
          11.27,
          11.04,
          12.05,
          12.39,
          13.28,
          14.6,
          12.21,
          13.88,
          11.27,
          19.55,
          10.26,
          8.734,
          15.49,
          21.61,
          12.1,
          14.06,
          13.51,
          12.8,
          11.06,
          11.8,
          17.91,
          11.93,
          12.96,
          12.94,
          12.34,
          10.94,
          16.14,
          12.85,
          17.99,
          12.27,
          11.36,
          11.04,
          9.397,
          14.99,
          15.13,
          11.89,
          9.405,
          15.5,
          12.7,
          11.16,
          11.57,
          14.69,
          11.61,
          13.66,
          9.742,
          10.03,
          10.48,
          10.8,
          11.13,
          12.72,
          14.9,
          12.4,
          20.18,
          18.82,
          14.86,
          13.98,
          12.87,
          14.04,
          13.85,
          14.02,
          10.97,
          17.27,
          13.78,
          10.57,
          18.03,
          11.99,
          17.75,
          14.8,
          14.53,
          21.1,
          11.87,
          19.59,
          12,
          14.53,
          12.62,
          13.38,
          11.63,
          13.21,
          13,
          9.755,
          17.08,
          27.42,
          14.4,
          11.6,
          13.17,
          13.24,
          13.14,
          9.668,
          17.6,
          11.62,
          9.667,
          12.04,
          14.92,
          12.27,
          10.88,
          12.83,
          14.2,
          13.9,
          11.49,
          16.25,
          12.16,
          13.9,
          13.47,
          13.7,
          15.73,
          12.45,
          14.64,
          19.44,
          11.68,
          16.69,
          12.25,
          17.85,
          18.01,
          12.46,
          13.16,
          14.87,
          12.65,
          12.47,
          18.49,
          20.59,
          15.04,
          13.82,
          12.54,
          23.09,
          9.268,
          9.676,
          12.22,
          11.06,
          16.3,
          15.46,
          11.74,
          14.81,
          13.4,
          14.58,
          15.05,
          11.34,
          18.31,
          19.89,
          12.88,
          12.75,
          9.295,
          24.63,
          11.26,
          13.71,
          9.847,
          8.571,
          13.46,
          12.34,
          13.94,
          12.07,
          11.75,
          11.67,
          13.68,
          20.47,
          10.96,
          20.55,
          14.27,
          11.69,
          7.729,
          7.691,
          11.54,
          14.47,
          14.74,
          13.21,
          13.87,
          13.62,
          10.32,
          10.26,
          9.683,
          10.82,
          10.86,
          11.13,
          12.77,
          9.333,
          12.88,
          10.29,
          10.16,
          9.423,
          14.59,
          11.51,
          14.05,
          11.2,
          15.22,
          20.92,
          21.56,
          20.13,
          16.6,
          20.6,
          7.76
         ],
         "y": [
          0.9882824377412087,
          1.0088272437983712,
          1.0230251938454096,
          0.9912865697916271,
          0.9867246394897222,
          1.02132825704238,
          0.9798689652632266,
          1.0075379557168178,
          1.0442338178736497,
          0.9650846881325805,
          0.9845288456832391,
          1.0163623660556194,
          0.9525783807516655,
          0.9813325821994587,
          1.0367750638108326,
          0.9745992979275864,
          1.0290282971423637,
          1.0266873783740393,
          0.9703002774914413,
          -0.04274499792957486,
          0.005987973187493265,
          -0.015061664912809657,
          1.0492432275890915,
          1.022448473730069,
          0.9810595128712893,
          1.015937098458974,
          1.0183165945158368,
          1.0088649734998338,
          1.0268504048747145,
          1.0478240577440183,
          1.0452875370298425,
          1.0282593493577907,
          1.0300114470960395,
          0.9640739716373976,
          0.9620355813780419,
          0.9959011179216513,
          0.9902197793856884,
          -0.03656752797433021,
          0.9911616460080335,
          0.9506893406277523,
          0.9589919074691144,
          1.0448757290291792,
          1.001440003999126,
          1.0235460078465826,
          0.9821712989954625,
          0.9955344920937941,
          -0.028775362108646986,
          0.9709258572314321,
          -0.0027042575101387314,
          0.047007708267296874,
          0.02792172392526862,
          0.025616192566684487,
          0.026641827144606958,
          0.9564641375260974,
          0.9541082209503307,
          -0.016303633921637896,
          1.0173592864269494,
          0.9769744898219002,
          0.03626328366812423,
          -0.027522283753177248,
          0.024539754877570083,
          -0.02313479039885509,
          0.9522505458390098,
          -0.025729688661121408,
          1.0303532347243225,
          1.048249967207908,
          -0.002127708375255631,
          -0.03644180618550161,
          0.03741002714914855,
          -0.049502478174565656,
          1.0049455717050872,
          -0.00750051503329284,
          1.037904546599897,
          1.0110957931186724,
          0.02366661187597567,
          1.0257625883117443,
          0.03903864353098832,
          1.01263060645941,
          0.9756040566545909,
          0.041053188784906894,
          -0.0453756504774287,
          0.023208107804037176,
          1.0295897835096341,
          0.9987239656188904,
          -0.017071627521275605,
          0.962487562348955,
          1.006524967629911,
          1.039659808603764,
          0.049613762034217135,
          0.04625616501231512,
          0.034387058430374526,
          1.0135398037494523,
          -0.03658203271383753,
          0.029972749201348237,
          0.9525771103461618,
          0.9868324130906043,
          0.009670417134217603,
          -0.04006113387663285,
          0.0002948309501598981,
          0.9634958208719488,
          1.0400490328077936,
          -0.031189081976373257,
          0.014766172643509587,
          -0.03481146485211212,
          0.043064705085548854,
          0.9778042864455629,
          -0.030660517368610918,
          0.021532190344299734,
          0.9822410282494372,
          -0.027190884306380315,
          0.02591914206378787,
          0.0032775058263665446,
          -0.00043257316878295843,
          -0.00927581039573113,
          -0.028022332642779136,
          0.02565538180362789,
          0.020765010263587583,
          1.0085463955079557,
          1.0123521230355919,
          1.0055427535945811,
          -0.03441884050411853,
          1.0135198130088936,
          0.9701291053511021,
          0.007579646458231538,
          -0.033973834765942935,
          0.03945973380044271,
          1.0138324637979894,
          1.0278552264935568,
          -0.030952946685339756,
          1.0449013409152343,
          -0.03585928268989197,
          0.9864509612027705,
          0.9572881009954584,
          -0.032304410260882134,
          0.9705870585770102,
          1.0432361580636904,
          -0.01286927361855348,
          -0.02573085084230259,
          1.0427776123585526,
          -0.01796507026748434,
          0.010693669031674777,
          1.0075352112871798,
          -0.009702384842805924,
          -0.009708353152281538,
          0.014303798885729468,
          -0.020294199734468523,
          1.0002831019144356,
          -0.014591362779613128,
          0.009117140396149116,
          0.010828471982263055,
          -0.048906795018676764,
          0.034343564422886275,
          0.014343693714903377,
          -0.044644339302578745,
          -0.037475553812963296,
          -0.0393258647706642,
          1.0123522723758251,
          0.023262572762892925,
          0.018733913682386555,
          0.044817899142746295,
          0.03409037979997785,
          0.9572068928347204,
          0.9715986292892975,
          0.04018328737039614,
          0.9659372451825727,
          0.00985054906068341,
          0.015051794936172383,
          0.9816233980897204,
          1.0380675676092699,
          0.029697591355650463,
          0.04994823592955422,
          1.0460618768380967,
          1.0109708310394385,
          -0.04784594117658905,
          0.03330871874570869,
          -0.037933758738522276,
          0.01891035775740564,
          0.99504247772353,
          0.027197198770657502,
          -0.008382745224971531,
          0.9879173831783183,
          0.9595763148001197,
          1.0063089133258523,
          0.04887856351151909,
          1.0237647208961929,
          0.020726835037894714,
          0.9938209373783287,
          -0.03227315514777654,
          0.0046312509488049755,
          -0.036215528312353064,
          1.0311253058814787,
          -0.017224693178361193,
          0.003472686892813215,
          0.9777920608779109,
          0.9770862260365425,
          -0.01664687074089021,
          0.9994613294157697,
          1.033339140244686,
          0.9851074004147415,
          0.9648949748250584,
          -0.003425366624265583,
          0.9741864901074626,
          0.9638800531916971,
          0.9630821689749631,
          9.36511845976637e-05,
          1.0412417720197602,
          -0.005641417478525826,
          0.987754143277991,
          0.030040595043909324,
          -0.032182417219755774,
          0.9584967321479687,
          0.04560438746602352,
          1.0344542637048069,
          0.9751457292952876,
          1.012811333383359,
          1.0209712800324358,
          -0.004602376706926592,
          0.032447403493843494,
          0.9991371075338684,
          1.0378378183362058,
          0.019400410130949716,
          -0.037356599182028494,
          -0.006149123414705436,
          1.0206060323074697,
          -0.014409985705009433,
          0.03199263580452627,
          -0.03449333267254139,
          -0.005192418716176483,
          0.049641070581588384,
          0.9578236092527679,
          0.9528381430230528,
          0.02140569168675792,
          -0.012498588301758172,
          1.0412395711367308,
          -0.04659651638966033,
          0.024615630640778957,
          0.9681566957604539,
          1.0396862437084018,
          -0.006261978328192884,
          1.0029713880216329,
          -0.0457921589168978,
          -0.023856974009557864,
          0.019682855202702826,
          -0.02101915603602106,
          0.9720235420071937,
          -0.017221263196799577,
          -0.021879586776601647,
          0.038861396683604096,
          0.018988572539542156,
          -0.012136200156709985,
          1.0264949836260164,
          -0.013782394815648205,
          1.0274543340544233,
          1.0133973893030686,
          1.002338517338076,
          1.0060752628485508,
          0.9558304026856672,
          1.0400245675369588,
          1.0015420234884398,
          0.981768752184339,
          0.9748075510251772,
          0.9923203723582554,
          0.9579276202596596,
          1.010355364542512,
          1.0247810344780597,
          0.9957557714745358,
          0.01977497295903688,
          -0.014247770888706345,
          0.0037734734071653148,
          0.02103669759829882,
          -0.04619637768333188,
          0.013948038755341424,
          1.04479544328864,
          0.04268278123222494,
          0.9599852969501064,
          0.0282183950012211,
          0.004931174779376615,
          0.9992001583160333,
          -0.03407571072214209,
          -0.02247341749519669,
          1.0028892430825374,
          0.03140013937204521,
          0.9693826651953679,
          1.017044578475932,
          0.01694698281871722,
          -0.008671487904728784,
          -0.03622921600657503,
          -0.04802613887889889,
          -0.039913481152190095,
          -0.040436628292109755,
          0.03415594513153279,
          0.005633894959451033,
          0.012212681238462308,
          0.01725832759000559,
          -0.04624899481885911,
          0.03395515979546741,
          0.010549102967539116,
          0.9751307344898665,
          0.039516428995375205,
          0.008040814820433048,
          1.013752014786129,
          0.034627594319444135,
          1.012363458333396,
          -0.03319792400486342,
          0.02220634234722947,
          -0.021129836597285945,
          0.0050474045139446075,
          -0.04146710019760356,
          -0.024631322552711013,
          0.0182279408828845,
          0.04907922428423715,
          -0.009754968253775566,
          0.014364578692449143,
          -0.03301738175026675,
          0.04931594683124385,
          0.025346832226944394,
          0.00244721933877777,
          0.9570480008343145,
          0.023190366494320352,
          -0.03910886751313051,
          0.007833065249780835,
          0.9778048386687093,
          0.04059678536499148,
          0.9522694216138095,
          0.028591267743030432,
          0.021918947874137756,
          0.04395766819972233,
          -0.003062574317324984,
          0.9531311533447542,
          1.0279094229110384,
          1.041950071174706,
          0.031505714474046514,
          0.032979113322805606,
          -0.0010429083451777288,
          0.020585400330979053,
          0.995591981455328,
          0.0013301608541104598,
          0.9672732792325378,
          0.03821472774375703,
          1.040068046869684,
          -0.005992674242448336,
          0.03378867585215074,
          -0.005684580220582436,
          0.9759516778589525,
          -0.012935930558533273,
          0.005776765073708556,
          0.010200765798983068,
          -0.004031211258015088,
          -0.04178866143872171,
          0.03786799349539753,
          -0.027484915544165312,
          0.9641983142496282,
          0.9748028316544393,
          0.9760036528195579,
          -0.03026717662796782,
          -0.013239624334340193,
          -0.019456540633348618,
          -0.04670245236826023,
          -0.03910941907130786,
          0.03056351791964082,
          0.02484035825569536,
          0.02140043274125697,
          0.032729911123808464,
          0.018880177824061095,
          0.03618123590027267,
          0.9837524111561957,
          1.023834722284037,
          0.025772438975539852,
          0.9549096794480292,
          0.9922191287965569,
          0.9903506351955762,
          -0.044826407423303606,
          0.9640471591409607,
          0.9922914303620027,
          -0.03337141554380055,
          0.0024791400754508378,
          0.026051961003934185,
          -0.04173865231263218,
          0.032064761945454615,
          1.0356693244759512,
          0.02176694754504538,
          0.04204798474007038,
          -0.005959742027562442,
          0.04239035309024376,
          0.04687341710706558,
          1.0018651855370042,
          -0.005104662420184591,
          -0.02394305358846707,
          0.013218180477813757,
          0.9747130891055664,
          -0.03339291498536488,
          -0.019974778600772392,
          0.9768886343397658,
          1.0330019434325224,
          -0.0450778418337576,
          -0.032233901106997837,
          -0.004941846463013447,
          -0.046227695714012806,
          -0.02150287955409204,
          -0.029826630122216716,
          1.0488869233919875,
          -0.006975506255012545,
          -0.02255274630646357,
          0.02511474707650649,
          -0.04728434288511826,
          -0.032376839328186274,
          -0.02372430746744,
          -0.033555019287457216,
          1.0358974372006478,
          -0.0003545164992057037,
          -0.01661861994045344,
          0.015687933563531264,
          -0.02207739977967249,
          0.0041288825803996315,
          0.9840731502599356,
          0.049691554063151816,
          -0.030722110555434536,
          1.01828926903679,
          -0.008389084949132486,
          0.0032185377994961364,
          -0.029437490872964468,
          0.037974832994692995,
          0.00857547899571226,
          -0.026091674100207643,
          -0.04797979710733511,
          -0.03736657116013098,
          -0.016270722397355324,
          0.036226613381272574,
          0.008450121262229451,
          0.02773078174328926,
          1.0187755357469321,
          -0.01892893458864601,
          1.028016773065914,
          0.9809958167864925,
          -0.026959834896502756,
          0.9637569166045519,
          -0.01521485064394159,
          -0.02722970777472509,
          0.03308178333574699,
          -0.037393486601419626,
          0.03295692881989239,
          0.9940275492240305,
          0.034171010664844514,
          -0.03643174127351259,
          1.0137455413501464,
          0.041638123889491216,
          1.0455304296345376,
          -0.022664168640156725,
          0.017307299253927058,
          1.0215490013835689,
          0.02835209287826837,
          0.9541515664399838,
          0.003575048531592309,
          0.026128987299297704,
          0.012398379146999795,
          -0.046148558421024555,
          -0.02453235977227296,
          0.007037302856413477,
          -0.025717342553218336,
          0.04931379782146962,
          0.953026427277295,
          0.9763604651162581,
          0.017837883310883845,
          0.01611984550947905,
          -0.0429973444310087,
          -0.0361420948017826,
          -0.012747243447044067,
          0.01140793257205306,
          1.0416224297336365,
          -0.048257630520816754,
          0.041203788254998513,
          -0.03775928755977401,
          -0.02677710950362048,
          -0.03874149566318318,
          0.043395531331928194,
          0.04788894716991199,
          0.008956127216653162,
          -0.01907086046875204,
          -0.007212002677113735,
          0.9703109841977002,
          -0.017087078956572778,
          -0.04591674226005227,
          -0.03583095909098621,
          -0.032719912873589704,
          0.04232618680986695,
          -0.03068430049417821,
          -0.04488721814127618,
          1.011613160092392,
          -0.014197640910689195,
          0.9505142526646642,
          0.04424865434549294,
          -0.009377567667256892,
          0.9992725978204073,
          -0.020795940833734896,
          -0.038197090814506535,
          0.023479969356113392,
          0.009563252770132868,
          0.03429662715846481,
          0.9528614137850346,
          1.004344479101055,
          -0.038235575812127935,
          1.0418289148207542,
          -0.00846905311872205,
          1.0335437054528773,
          -0.0019313566430119722,
          -0.015540594413125088,
          -0.015122456482032455,
          -0.01547265509931589,
          0.0289186451931486,
          0.9801952041118787,
          0.0497167627731359,
          0.008036393591328128,
          1.0217324943880333,
          -0.026654456176171584,
          0.9865389255140009,
          -0.029925746973441913,
          0.9955315368973445,
          0.9604199828349613,
          0.02992365930446235,
          0.01905530023897685,
          -0.039260321647063036,
          0.9926454798750155,
          -0.002233092164620254,
          -0.018229639598393153,
          -0.01733576696725904,
          -0.02295806420585277,
          0.04072897163283261,
          -0.00618088297670568,
          0.04408982905015074,
          0.04449959657237805,
          0.04553870562456837,
          0.007477176975951259,
          -0.0393985036823741,
          1.0432167558649648,
          -0.014193337792122833,
          1.0430615024820133,
          0.9632792903156826,
          0.0499570646609534,
          0.01728788625490578,
          -0.02624206466653667,
          -0.036984852430635755,
          -0.036654290047726516,
          0.04856718036957762,
          0.009421197884669372,
          0.03209494861222885,
          0.036170373837137726,
          0.01394135071333874,
          0.04078051487011039,
          -0.044368771823798836,
          0.003204540730436578,
          -0.009697848286415234,
          0.019518715180125837,
          0.0031056176707711103,
          0.0047096734598473106,
          -0.028978979006687635,
          -0.011193123514208383,
          -0.0202431743735665,
          0.041303540567838165,
          0.012109843555765998,
          0.035222485329605535,
          -0.031160677842826702,
          0.015455716061224659,
          1.01530785580895,
          1.0441199842765452,
          0.9857730075427886,
          1.0446761864962573,
          1.0023759932683975,
          1.02759537318266,
          -0.002953315404238488
         ]
        }
       ],
       "layout": {
        "template": {
         "data": {
          "bar": [
           {
            "error_x": {
             "color": "#2a3f5f"
            },
            "error_y": {
             "color": "#2a3f5f"
            },
            "marker": {
             "line": {
              "color": "#E5ECF6",
              "width": 0.5
             }
            },
            "type": "bar"
           }
          ],
          "barpolar": [
           {
            "marker": {
             "line": {
              "color": "#E5ECF6",
              "width": 0.5
             }
            },
            "type": "barpolar"
           }
          ],
          "carpet": [
           {
            "aaxis": {
             "endlinecolor": "#2a3f5f",
             "gridcolor": "white",
             "linecolor": "white",
             "minorgridcolor": "white",
             "startlinecolor": "#2a3f5f"
            },
            "baxis": {
             "endlinecolor": "#2a3f5f",
             "gridcolor": "white",
             "linecolor": "white",
             "minorgridcolor": "white",
             "startlinecolor": "#2a3f5f"
            },
            "type": "carpet"
           }
          ],
          "choropleth": [
           {
            "colorbar": {
             "outlinewidth": 0,
             "ticks": ""
            },
            "type": "choropleth"
           }
          ],
          "contour": [
           {
            "colorbar": {
             "outlinewidth": 0,
             "ticks": ""
            },
            "colorscale": [
             [
              0,
              "#0d0887"
             ],
             [
              0.1111111111111111,
              "#46039f"
             ],
             [
              0.2222222222222222,
              "#7201a8"
             ],
             [
              0.3333333333333333,
              "#9c179e"
             ],
             [
              0.4444444444444444,
              "#bd3786"
             ],
             [
              0.5555555555555556,
              "#d8576b"
             ],
             [
              0.6666666666666666,
              "#ed7953"
             ],
             [
              0.7777777777777778,
              "#fb9f3a"
             ],
             [
              0.8888888888888888,
              "#fdca26"
             ],
             [
              1,
              "#f0f921"
             ]
            ],
            "type": "contour"
           }
          ],
          "contourcarpet": [
           {
            "colorbar": {
             "outlinewidth": 0,
             "ticks": ""
            },
            "type": "contourcarpet"
           }
          ],
          "heatmap": [
           {
            "colorbar": {
             "outlinewidth": 0,
             "ticks": ""
            },
            "colorscale": [
             [
              0,
              "#0d0887"
             ],
             [
              0.1111111111111111,
              "#46039f"
             ],
             [
              0.2222222222222222,
              "#7201a8"
             ],
             [
              0.3333333333333333,
              "#9c179e"
             ],
             [
              0.4444444444444444,
              "#bd3786"
             ],
             [
              0.5555555555555556,
              "#d8576b"
             ],
             [
              0.6666666666666666,
              "#ed7953"
             ],
             [
              0.7777777777777778,
              "#fb9f3a"
             ],
             [
              0.8888888888888888,
              "#fdca26"
             ],
             [
              1,
              "#f0f921"
             ]
            ],
            "type": "heatmap"
           }
          ],
          "heatmapgl": [
           {
            "colorbar": {
             "outlinewidth": 0,
             "ticks": ""
            },
            "colorscale": [
             [
              0,
              "#0d0887"
             ],
             [
              0.1111111111111111,
              "#46039f"
             ],
             [
              0.2222222222222222,
              "#7201a8"
             ],
             [
              0.3333333333333333,
              "#9c179e"
             ],
             [
              0.4444444444444444,
              "#bd3786"
             ],
             [
              0.5555555555555556,
              "#d8576b"
             ],
             [
              0.6666666666666666,
              "#ed7953"
             ],
             [
              0.7777777777777778,
              "#fb9f3a"
             ],
             [
              0.8888888888888888,
              "#fdca26"
             ],
             [
              1,
              "#f0f921"
             ]
            ],
            "type": "heatmapgl"
           }
          ],
          "histogram": [
           {
            "marker": {
             "colorbar": {
              "outlinewidth": 0,
              "ticks": ""
             }
            },
            "type": "histogram"
           }
          ],
          "histogram2d": [
           {
            "colorbar": {
             "outlinewidth": 0,
             "ticks": ""
            },
            "colorscale": [
             [
              0,
              "#0d0887"
             ],
             [
              0.1111111111111111,
              "#46039f"
             ],
             [
              0.2222222222222222,
              "#7201a8"
             ],
             [
              0.3333333333333333,
              "#9c179e"
             ],
             [
              0.4444444444444444,
              "#bd3786"
             ],
             [
              0.5555555555555556,
              "#d8576b"
             ],
             [
              0.6666666666666666,
              "#ed7953"
             ],
             [
              0.7777777777777778,
              "#fb9f3a"
             ],
             [
              0.8888888888888888,
              "#fdca26"
             ],
             [
              1,
              "#f0f921"
             ]
            ],
            "type": "histogram2d"
           }
          ],
          "histogram2dcontour": [
           {
            "colorbar": {
             "outlinewidth": 0,
             "ticks": ""
            },
            "colorscale": [
             [
              0,
              "#0d0887"
             ],
             [
              0.1111111111111111,
              "#46039f"
             ],
             [
              0.2222222222222222,
              "#7201a8"
             ],
             [
              0.3333333333333333,
              "#9c179e"
             ],
             [
              0.4444444444444444,
              "#bd3786"
             ],
             [
              0.5555555555555556,
              "#d8576b"
             ],
             [
              0.6666666666666666,
              "#ed7953"
             ],
             [
              0.7777777777777778,
              "#fb9f3a"
             ],
             [
              0.8888888888888888,
              "#fdca26"
             ],
             [
              1,
              "#f0f921"
             ]
            ],
            "type": "histogram2dcontour"
           }
          ],
          "mesh3d": [
           {
            "colorbar": {
             "outlinewidth": 0,
             "ticks": ""
            },
            "type": "mesh3d"
           }
          ],
          "parcoords": [
           {
            "line": {
             "colorbar": {
              "outlinewidth": 0,
              "ticks": ""
             }
            },
            "type": "parcoords"
           }
          ],
          "pie": [
           {
            "automargin": true,
            "type": "pie"
           }
          ],
          "scatter": [
           {
            "marker": {
             "colorbar": {
              "outlinewidth": 0,
              "ticks": ""
             }
            },
            "type": "scatter"
           }
          ],
          "scatter3d": [
           {
            "line": {
             "colorbar": {
              "outlinewidth": 0,
              "ticks": ""
             }
            },
            "marker": {
             "colorbar": {
              "outlinewidth": 0,
              "ticks": ""
             }
            },
            "type": "scatter3d"
           }
          ],
          "scattercarpet": [
           {
            "marker": {
             "colorbar": {
              "outlinewidth": 0,
              "ticks": ""
             }
            },
            "type": "scattercarpet"
           }
          ],
          "scattergeo": [
           {
            "marker": {
             "colorbar": {
              "outlinewidth": 0,
              "ticks": ""
             }
            },
            "type": "scattergeo"
           }
          ],
          "scattergl": [
           {
            "marker": {
             "colorbar": {
              "outlinewidth": 0,
              "ticks": ""
             }
            },
            "type": "scattergl"
           }
          ],
          "scattermapbox": [
           {
            "marker": {
             "colorbar": {
              "outlinewidth": 0,
              "ticks": ""
             }
            },
            "type": "scattermapbox"
           }
          ],
          "scatterpolar": [
           {
            "marker": {
             "colorbar": {
              "outlinewidth": 0,
              "ticks": ""
             }
            },
            "type": "scatterpolar"
           }
          ],
          "scatterpolargl": [
           {
            "marker": {
             "colorbar": {
              "outlinewidth": 0,
              "ticks": ""
             }
            },
            "type": "scatterpolargl"
           }
          ],
          "scatterternary": [
           {
            "marker": {
             "colorbar": {
              "outlinewidth": 0,
              "ticks": ""
             }
            },
            "type": "scatterternary"
           }
          ],
          "surface": [
           {
            "colorbar": {
             "outlinewidth": 0,
             "ticks": ""
            },
            "colorscale": [
             [
              0,
              "#0d0887"
             ],
             [
              0.1111111111111111,
              "#46039f"
             ],
             [
              0.2222222222222222,
              "#7201a8"
             ],
             [
              0.3333333333333333,
              "#9c179e"
             ],
             [
              0.4444444444444444,
              "#bd3786"
             ],
             [
              0.5555555555555556,
              "#d8576b"
             ],
             [
              0.6666666666666666,
              "#ed7953"
             ],
             [
              0.7777777777777778,
              "#fb9f3a"
             ],
             [
              0.8888888888888888,
              "#fdca26"
             ],
             [
              1,
              "#f0f921"
             ]
            ],
            "type": "surface"
           }
          ],
          "table": [
           {
            "cells": {
             "fill": {
              "color": "#EBF0F8"
             },
             "line": {
              "color": "white"
             }
            },
            "header": {
             "fill": {
              "color": "#C8D4E3"
             },
             "line": {
              "color": "white"
             }
            },
            "type": "table"
           }
          ]
         },
         "layout": {
          "annotationdefaults": {
           "arrowcolor": "#2a3f5f",
           "arrowhead": 0,
           "arrowwidth": 1
          },
          "coloraxis": {
           "colorbar": {
            "outlinewidth": 0,
            "ticks": ""
           }
          },
          "colorscale": {
           "diverging": [
            [
             0,
             "#8e0152"
            ],
            [
             0.1,
             "#c51b7d"
            ],
            [
             0.2,
             "#de77ae"
            ],
            [
             0.3,
             "#f1b6da"
            ],
            [
             0.4,
             "#fde0ef"
            ],
            [
             0.5,
             "#f7f7f7"
            ],
            [
             0.6,
             "#e6f5d0"
            ],
            [
             0.7,
             "#b8e186"
            ],
            [
             0.8,
             "#7fbc41"
            ],
            [
             0.9,
             "#4d9221"
            ],
            [
             1,
             "#276419"
            ]
           ],
           "sequential": [
            [
             0,
             "#0d0887"
            ],
            [
             0.1111111111111111,
             "#46039f"
            ],
            [
             0.2222222222222222,
             "#7201a8"
            ],
            [
             0.3333333333333333,
             "#9c179e"
            ],
            [
             0.4444444444444444,
             "#bd3786"
            ],
            [
             0.5555555555555556,
             "#d8576b"
            ],
            [
             0.6666666666666666,
             "#ed7953"
            ],
            [
             0.7777777777777778,
             "#fb9f3a"
            ],
            [
             0.8888888888888888,
             "#fdca26"
            ],
            [
             1,
             "#f0f921"
            ]
           ],
           "sequentialminus": [
            [
             0,
             "#0d0887"
            ],
            [
             0.1111111111111111,
             "#46039f"
            ],
            [
             0.2222222222222222,
             "#7201a8"
            ],
            [
             0.3333333333333333,
             "#9c179e"
            ],
            [
             0.4444444444444444,
             "#bd3786"
            ],
            [
             0.5555555555555556,
             "#d8576b"
            ],
            [
             0.6666666666666666,
             "#ed7953"
            ],
            [
             0.7777777777777778,
             "#fb9f3a"
            ],
            [
             0.8888888888888888,
             "#fdca26"
            ],
            [
             1,
             "#f0f921"
            ]
           ]
          },
          "colorway": [
           "#636efa",
           "#EF553B",
           "#00cc96",
           "#ab63fa",
           "#FFA15A",
           "#19d3f3",
           "#FF6692",
           "#B6E880",
           "#FF97FF",
           "#FECB52"
          ],
          "font": {
           "color": "#2a3f5f"
          },
          "geo": {
           "bgcolor": "white",
           "lakecolor": "white",
           "landcolor": "#E5ECF6",
           "showlakes": true,
           "showland": true,
           "subunitcolor": "white"
          },
          "hoverlabel": {
           "align": "left"
          },
          "hovermode": "closest",
          "mapbox": {
           "style": "light"
          },
          "paper_bgcolor": "white",
          "plot_bgcolor": "#E5ECF6",
          "polar": {
           "angularaxis": {
            "gridcolor": "white",
            "linecolor": "white",
            "ticks": ""
           },
           "bgcolor": "#E5ECF6",
           "radialaxis": {
            "gridcolor": "white",
            "linecolor": "white",
            "ticks": ""
           }
          },
          "scene": {
           "xaxis": {
            "backgroundcolor": "#E5ECF6",
            "gridcolor": "white",
            "gridwidth": 2,
            "linecolor": "white",
            "showbackground": true,
            "ticks": "",
            "zerolinecolor": "white"
           },
           "yaxis": {
            "backgroundcolor": "#E5ECF6",
            "gridcolor": "white",
            "gridwidth": 2,
            "linecolor": "white",
            "showbackground": true,
            "ticks": "",
            "zerolinecolor": "white"
           },
           "zaxis": {
            "backgroundcolor": "#E5ECF6",
            "gridcolor": "white",
            "gridwidth": 2,
            "linecolor": "white",
            "showbackground": true,
            "ticks": "",
            "zerolinecolor": "white"
           }
          },
          "shapedefaults": {
           "line": {
            "color": "#2a3f5f"
           }
          },
          "ternary": {
           "aaxis": {
            "gridcolor": "white",
            "linecolor": "white",
            "ticks": ""
           },
           "baxis": {
            "gridcolor": "white",
            "linecolor": "white",
            "ticks": ""
           },
           "bgcolor": "#E5ECF6",
           "caxis": {
            "gridcolor": "white",
            "linecolor": "white",
            "ticks": ""
           }
          },
          "title": {
           "x": 0.05
          },
          "xaxis": {
           "automargin": true,
           "gridcolor": "white",
           "linecolor": "white",
           "ticks": "",
           "title": {
            "standoff": 15
           },
           "zerolinecolor": "white",
           "zerolinewidth": 2
          },
          "yaxis": {
           "automargin": true,
           "gridcolor": "white",
           "linecolor": "white",
           "ticks": "",
           "title": {
            "standoff": 15
           },
           "zerolinecolor": "white",
           "zerolinewidth": 2
          }
         }
        },
        "xaxis": {
         "title": {
          "text": "Mean Radius"
         }
        },
        "yaxis": {
         "title": {
          "text": "Malignant"
         }
        }
       }
      },
      "text/html": [
       "<div>\n",
       "        \n",
       "        \n",
       "            <div id=\"b50345a6-8173-451a-97e8-dd22b471c0ed\" class=\"plotly-graph-div\" style=\"height:525px; width:100%;\"></div>\n",
       "            <script type=\"text/javascript\">\n",
       "                require([\"plotly\"], function(Plotly) {\n",
       "                    window.PLOTLYENV=window.PLOTLYENV || {};\n",
       "                    \n",
       "                if (document.getElementById(\"b50345a6-8173-451a-97e8-dd22b471c0ed\")) {\n",
       "                    Plotly.newPlot(\n",
       "                        'b50345a6-8173-451a-97e8-dd22b471c0ed',\n",
       "                        [{\"marker\": {\"opacity\": 0.5}, \"mode\": \"markers\", \"type\": \"scatter\", \"x\": [17.99, 20.57, 19.69, 11.42, 20.29, 12.45, 18.25, 13.71, 13.0, 12.46, 16.02, 15.78, 19.17, 15.85, 13.73, 14.54, 14.68, 16.13, 19.81, 13.54, 13.08, 9.504, 15.34, 21.16, 16.65, 17.14, 14.58, 18.61, 15.3, 17.57, 18.63, 11.84, 17.02, 19.27, 16.13, 16.74, 14.25, 13.03, 14.99, 13.48, 13.44, 10.95, 19.07, 13.28, 13.17, 18.65, 8.196, 13.17, 12.05, 13.49, 11.76, 13.64, 11.94, 18.22, 15.1, 11.52, 19.21, 14.71, 13.05, 8.618, 10.17, 8.598, 14.25, 9.173, 12.68, 14.78, 9.465, 11.31, 9.029, 12.78, 18.94, 8.888, 17.2, 13.8, 12.31, 16.07, 13.53, 18.05, 20.18, 12.86, 11.45, 13.34, 25.22, 19.1, 12.0, 18.46, 14.48, 19.02, 12.36, 14.64, 14.62, 15.37, 13.27, 13.45, 15.06, 20.26, 12.18, 9.787, 11.6, 14.42, 13.61, 6.981, 12.18, 9.876, 10.49, 13.11, 11.64, 12.36, 22.27, 11.34, 9.777, 12.63, 14.26, 10.51, 8.726, 11.93, 8.95, 14.87, 15.78, 17.95, 11.41, 18.66, 24.25, 14.5, 13.37, 13.85, 13.61, 19.0, 15.1, 19.79, 12.19, 15.46, 16.16, 15.71, 18.45, 12.77, 11.71, 11.43, 14.95, 11.28, 9.738, 16.11, 11.43, 12.9, 10.75, 11.9, 11.8, 14.95, 14.44, 13.74, 13.0, 8.219, 9.731, 11.15, 13.15, 12.25, 17.68, 16.84, 12.06, 10.9, 11.75, 19.19, 19.59, 12.34, 23.27, 14.97, 10.8, 16.78, 17.47, 14.97, 12.32, 13.43, 15.46, 11.08, 10.66, 8.671, 9.904, 16.46, 13.01, 12.81, 27.22, 21.09, 15.7, 11.41, 15.28, 10.08, 18.31, 11.71, 11.81, 12.3, 14.22, 12.77, 9.72, 12.34, 14.86, 12.91, 13.77, 18.08, 19.18, 14.45, 12.23, 17.54, 23.29, 13.81, 12.47, 15.12, 9.876, 17.01, 13.11, 15.27, 20.58, 11.84, 28.11, 17.42, 14.19, 13.86, 11.89, 10.2, 19.8, 19.53, 13.65, 13.56, 10.18, 15.75, 13.27, 14.34, 10.44, 15.0, 12.62, 12.83, 17.05, 11.32, 11.22, 20.51, 9.567, 14.03, 23.21, 20.48, 14.22, 17.46, 13.64, 12.42, 11.3, 13.75, 19.4, 10.48, 13.2, 12.89, 10.65, 11.52, 20.94, 11.5, 19.73, 17.3, 19.45, 13.96, 19.55, 15.32, 15.66, 15.53, 20.31, 17.35, 17.29, 15.61, 17.19, 20.73, 10.6, 13.59, 12.87, 10.71, 14.29, 11.29, 21.75, 9.742, 17.93, 11.89, 11.33, 18.81, 13.59, 13.85, 19.16, 11.74, 19.4, 16.24, 12.89, 12.58, 11.94, 12.89, 11.26, 11.37, 14.41, 14.96, 12.95, 11.85, 12.72, 13.77, 10.91, 11.76, 14.26, 10.51, 19.53, 12.46, 20.09, 10.49, 11.46, 11.6, 13.2, 9.0, 13.5, 13.05, 11.7, 14.61, 12.76, 11.54, 8.597, 12.49, 12.18, 18.22, 9.042, 12.43, 10.25, 20.16, 12.86, 20.34, 12.2, 12.67, 14.11, 12.03, 16.27, 16.26, 16.03, 12.98, 11.22, 11.25, 12.3, 17.06, 12.99, 18.77, 10.05, 23.51, 14.42, 9.606, 11.06, 19.68, 11.71, 10.26, 12.06, 14.76, 11.47, 11.95, 11.66, 15.75, 25.73, 15.08, 11.14, 12.56, 13.05, 13.87, 8.878, 9.436, 12.54, 13.3, 12.76, 16.5, 13.4, 20.44, 20.2, 12.21, 21.71, 22.01, 16.35, 15.19, 21.37, 20.64, 13.69, 16.17, 10.57, 13.46, 13.66, 11.08, 11.27, 11.04, 12.05, 12.39, 13.28, 14.6, 12.21, 13.88, 11.27, 19.55, 10.26, 8.734, 15.49, 21.61, 12.1, 14.06, 13.51, 12.8, 11.06, 11.8, 17.91, 11.93, 12.96, 12.94, 12.34, 10.94, 16.14, 12.85, 17.99, 12.27, 11.36, 11.04, 9.397, 14.99, 15.13, 11.89, 9.405, 15.5, 12.7, 11.16, 11.57, 14.69, 11.61, 13.66, 9.742, 10.03, 10.48, 10.8, 11.13, 12.72, 14.9, 12.4, 20.18, 18.82, 14.86, 13.98, 12.87, 14.04, 13.85, 14.02, 10.97, 17.27, 13.78, 10.57, 18.03, 11.99, 17.75, 14.8, 14.53, 21.1, 11.87, 19.59, 12.0, 14.53, 12.62, 13.38, 11.63, 13.21, 13.0, 9.755, 17.08, 27.42, 14.4, 11.6, 13.17, 13.24, 13.14, 9.668, 17.6, 11.62, 9.667, 12.04, 14.92, 12.27, 10.88, 12.83, 14.2, 13.9, 11.49, 16.25, 12.16, 13.9, 13.47, 13.7, 15.73, 12.45, 14.64, 19.44, 11.68, 16.69, 12.25, 17.85, 18.01, 12.46, 13.16, 14.87, 12.65, 12.47, 18.49, 20.59, 15.04, 13.82, 12.54, 23.09, 9.268, 9.676, 12.22, 11.06, 16.3, 15.46, 11.74, 14.81, 13.4, 14.58, 15.05, 11.34, 18.31, 19.89, 12.88, 12.75, 9.295, 24.63, 11.26, 13.71, 9.847, 8.571, 13.46, 12.34, 13.94, 12.07, 11.75, 11.67, 13.68, 20.47, 10.96, 20.55, 14.27, 11.69, 7.729, 7.691, 11.54, 14.47, 14.74, 13.21, 13.87, 13.62, 10.32, 10.26, 9.683, 10.82, 10.86, 11.13, 12.77, 9.333, 12.88, 10.29, 10.16, 9.423, 14.59, 11.51, 14.05, 11.2, 15.22, 20.92, 21.56, 20.13, 16.6, 20.6, 7.76], \"y\": [0.9882824377412087, 1.0088272437983712, 1.0230251938454096, 0.9912865697916271, 0.9867246394897222, 1.02132825704238, 0.9798689652632266, 1.0075379557168178, 1.0442338178736497, 0.9650846881325805, 0.9845288456832391, 1.0163623660556194, 0.9525783807516655, 0.9813325821994587, 1.0367750638108326, 0.9745992979275864, 1.0290282971423637, 1.0266873783740393, 0.9703002774914413, -0.04274499792957486, 0.005987973187493265, -0.015061664912809657, 1.0492432275890915, 1.022448473730069, 0.9810595128712893, 1.015937098458974, 1.0183165945158368, 1.0088649734998338, 1.0268504048747145, 1.0478240577440183, 1.0452875370298425, 1.0282593493577907, 1.0300114470960395, 0.9640739716373976, 0.9620355813780419, 0.9959011179216513, 0.9902197793856884, -0.03656752797433021, 0.9911616460080335, 0.9506893406277523, 0.9589919074691144, 1.0448757290291792, 1.001440003999126, 1.0235460078465826, 0.9821712989954625, 0.9955344920937941, -0.028775362108646986, 0.9709258572314321, -0.0027042575101387314, 0.047007708267296874, 0.02792172392526862, 0.025616192566684487, 0.026641827144606958, 0.9564641375260974, 0.9541082209503307, -0.016303633921637896, 1.0173592864269494, 0.9769744898219002, 0.03626328366812423, -0.027522283753177248, 0.024539754877570083, -0.02313479039885509, 0.9522505458390098, -0.025729688661121408, 1.0303532347243225, 1.048249967207908, -0.002127708375255631, -0.03644180618550161, 0.03741002714914855, -0.049502478174565656, 1.0049455717050872, -0.00750051503329284, 1.037904546599897, 1.0110957931186724, 0.02366661187597567, 1.0257625883117443, 0.03903864353098832, 1.01263060645941, 0.9756040566545909, 0.041053188784906894, -0.0453756504774287, 0.023208107804037176, 1.0295897835096341, 0.9987239656188904, -0.017071627521275605, 0.962487562348955, 1.006524967629911, 1.039659808603764, 0.049613762034217135, 0.04625616501231512, 0.034387058430374526, 1.0135398037494523, -0.03658203271383753, 0.029972749201348237, 0.9525771103461618, 0.9868324130906043, 0.009670417134217603, -0.04006113387663285, 0.0002948309501598981, 0.9634958208719488, 1.0400490328077936, -0.031189081976373257, 0.014766172643509587, -0.03481146485211212, 0.043064705085548854, 0.9778042864455629, -0.030660517368610918, 0.021532190344299734, 0.9822410282494372, -0.027190884306380315, 0.02591914206378787, 0.0032775058263665446, -0.00043257316878295843, -0.00927581039573113, -0.028022332642779136, 0.02565538180362789, 0.020765010263587583, 1.0085463955079557, 1.0123521230355919, 1.0055427535945811, -0.03441884050411853, 1.0135198130088936, 0.9701291053511021, 0.007579646458231538, -0.033973834765942935, 0.03945973380044271, 1.0138324637979894, 1.0278552264935568, -0.030952946685339756, 1.0449013409152343, -0.03585928268989197, 0.9864509612027705, 0.9572881009954584, -0.032304410260882134, 0.9705870585770102, 1.0432361580636904, -0.01286927361855348, -0.02573085084230259, 1.0427776123585526, -0.01796507026748434, 0.010693669031674777, 1.0075352112871798, -0.009702384842805924, -0.009708353152281538, 0.014303798885729468, -0.020294199734468523, 1.0002831019144356, -0.014591362779613128, 0.009117140396149116, 0.010828471982263055, -0.048906795018676764, 0.034343564422886275, 0.014343693714903377, -0.044644339302578745, -0.037475553812963296, -0.0393258647706642, 1.0123522723758251, 0.023262572762892925, 0.018733913682386555, 0.044817899142746295, 0.03409037979997785, 0.9572068928347204, 0.9715986292892975, 0.04018328737039614, 0.9659372451825727, 0.00985054906068341, 0.015051794936172383, 0.9816233980897204, 1.0380675676092699, 0.029697591355650463, 0.04994823592955422, 1.0460618768380967, 1.0109708310394385, -0.04784594117658905, 0.03330871874570869, -0.037933758738522276, 0.01891035775740564, 0.99504247772353, 0.027197198770657502, -0.008382745224971531, 0.9879173831783183, 0.9595763148001197, 1.0063089133258523, 0.04887856351151909, 1.0237647208961929, 0.020726835037894714, 0.9938209373783287, -0.03227315514777654, 0.0046312509488049755, -0.036215528312353064, 1.0311253058814787, -0.017224693178361193, 0.003472686892813215, 0.9777920608779109, 0.9770862260365425, -0.01664687074089021, 0.9994613294157697, 1.033339140244686, 0.9851074004147415, 0.9648949748250584, -0.003425366624265583, 0.9741864901074626, 0.9638800531916971, 0.9630821689749631, 9.36511845976637e-05, 1.0412417720197602, -0.005641417478525826, 0.987754143277991, 0.030040595043909324, -0.032182417219755774, 0.9584967321479687, 0.04560438746602352, 1.0344542637048069, 0.9751457292952876, 1.012811333383359, 1.0209712800324358, -0.004602376706926592, 0.032447403493843494, 0.9991371075338684, 1.0378378183362058, 0.019400410130949716, -0.037356599182028494, -0.006149123414705436, 1.0206060323074697, -0.014409985705009433, 0.03199263580452627, -0.03449333267254139, -0.005192418716176483, 0.049641070581588384, 0.9578236092527679, 0.9528381430230528, 0.02140569168675792, -0.012498588301758172, 1.0412395711367308, -0.04659651638966033, 0.024615630640778957, 0.9681566957604539, 1.0396862437084018, -0.006261978328192884, 1.0029713880216329, -0.0457921589168978, -0.023856974009557864, 0.019682855202702826, -0.02101915603602106, 0.9720235420071937, -0.017221263196799577, -0.021879586776601647, 0.038861396683604096, 0.018988572539542156, -0.012136200156709985, 1.0264949836260164, -0.013782394815648205, 1.0274543340544233, 1.0133973893030686, 1.002338517338076, 1.0060752628485508, 0.9558304026856672, 1.0400245675369588, 1.0015420234884398, 0.981768752184339, 0.9748075510251772, 0.9923203723582554, 0.9579276202596596, 1.010355364542512, 1.0247810344780597, 0.9957557714745358, 0.01977497295903688, -0.014247770888706345, 0.0037734734071653148, 0.02103669759829882, -0.04619637768333188, 0.013948038755341424, 1.04479544328864, 0.04268278123222494, 0.9599852969501064, 0.0282183950012211, 0.004931174779376615, 0.9992001583160333, -0.03407571072214209, -0.02247341749519669, 1.0028892430825374, 0.03140013937204521, 0.9693826651953679, 1.017044578475932, 0.01694698281871722, -0.008671487904728784, -0.03622921600657503, -0.04802613887889889, -0.039913481152190095, -0.040436628292109755, 0.03415594513153279, 0.005633894959451033, 0.012212681238462308, 0.01725832759000559, -0.04624899481885911, 0.03395515979546741, 0.010549102967539116, 0.9751307344898665, 0.039516428995375205, 0.008040814820433048, 1.013752014786129, 0.034627594319444135, 1.012363458333396, -0.03319792400486342, 0.02220634234722947, -0.021129836597285945, 0.0050474045139446075, -0.04146710019760356, -0.024631322552711013, 0.0182279408828845, 0.04907922428423715, -0.009754968253775566, 0.014364578692449143, -0.03301738175026675, 0.04931594683124385, 0.025346832226944394, 0.00244721933877777, 0.9570480008343145, 0.023190366494320352, -0.03910886751313051, 0.007833065249780835, 0.9778048386687093, 0.04059678536499148, 0.9522694216138095, 0.028591267743030432, 0.021918947874137756, 0.04395766819972233, -0.003062574317324984, 0.9531311533447542, 1.0279094229110384, 1.041950071174706, 0.031505714474046514, 0.032979113322805606, -0.0010429083451777288, 0.020585400330979053, 0.995591981455328, 0.0013301608541104598, 0.9672732792325378, 0.03821472774375703, 1.040068046869684, -0.005992674242448336, 0.03378867585215074, -0.005684580220582436, 0.9759516778589525, -0.012935930558533273, 0.005776765073708556, 0.010200765798983068, -0.004031211258015088, -0.04178866143872171, 0.03786799349539753, -0.027484915544165312, 0.9641983142496282, 0.9748028316544393, 0.9760036528195579, -0.03026717662796782, -0.013239624334340193, -0.019456540633348618, -0.04670245236826023, -0.03910941907130786, 0.03056351791964082, 0.02484035825569536, 0.02140043274125697, 0.032729911123808464, 0.018880177824061095, 0.03618123590027267, 0.9837524111561957, 1.023834722284037, 0.025772438975539852, 0.9549096794480292, 0.9922191287965569, 0.9903506351955762, -0.044826407423303606, 0.9640471591409607, 0.9922914303620027, -0.03337141554380055, 0.0024791400754508378, 0.026051961003934185, -0.04173865231263218, 0.032064761945454615, 1.0356693244759512, 0.02176694754504538, 0.04204798474007038, -0.005959742027562442, 0.04239035309024376, 0.04687341710706558, 1.0018651855370042, -0.005104662420184591, -0.02394305358846707, 0.013218180477813757, 0.9747130891055664, -0.03339291498536488, -0.019974778600772392, 0.9768886343397658, 1.0330019434325224, -0.0450778418337576, -0.032233901106997837, -0.004941846463013447, -0.046227695714012806, -0.02150287955409204, -0.029826630122216716, 1.0488869233919875, -0.006975506255012545, -0.02255274630646357, 0.02511474707650649, -0.04728434288511826, -0.032376839328186274, -0.02372430746744, -0.033555019287457216, 1.0358974372006478, -0.0003545164992057037, -0.01661861994045344, 0.015687933563531264, -0.02207739977967249, 0.0041288825803996315, 0.9840731502599356, 0.049691554063151816, -0.030722110555434536, 1.01828926903679, -0.008389084949132486, 0.0032185377994961364, -0.029437490872964468, 0.037974832994692995, 0.00857547899571226, -0.026091674100207643, -0.04797979710733511, -0.03736657116013098, -0.016270722397355324, 0.036226613381272574, 0.008450121262229451, 0.02773078174328926, 1.0187755357469321, -0.01892893458864601, 1.028016773065914, 0.9809958167864925, -0.026959834896502756, 0.9637569166045519, -0.01521485064394159, -0.02722970777472509, 0.03308178333574699, -0.037393486601419626, 0.03295692881989239, 0.9940275492240305, 0.034171010664844514, -0.03643174127351259, 1.0137455413501464, 0.041638123889491216, 1.0455304296345376, -0.022664168640156725, 0.017307299253927058, 1.0215490013835689, 0.02835209287826837, 0.9541515664399838, 0.003575048531592309, 0.026128987299297704, 0.012398379146999795, -0.046148558421024555, -0.02453235977227296, 0.007037302856413477, -0.025717342553218336, 0.04931379782146962, 0.953026427277295, 0.9763604651162581, 0.017837883310883845, 0.01611984550947905, -0.0429973444310087, -0.0361420948017826, -0.012747243447044067, 0.01140793257205306, 1.0416224297336365, -0.048257630520816754, 0.041203788254998513, -0.03775928755977401, -0.02677710950362048, -0.03874149566318318, 0.043395531331928194, 0.04788894716991199, 0.008956127216653162, -0.01907086046875204, -0.007212002677113735, 0.9703109841977002, -0.017087078956572778, -0.04591674226005227, -0.03583095909098621, -0.032719912873589704, 0.04232618680986695, -0.03068430049417821, -0.04488721814127618, 1.011613160092392, -0.014197640910689195, 0.9505142526646642, 0.04424865434549294, -0.009377567667256892, 0.9992725978204073, -0.020795940833734896, -0.038197090814506535, 0.023479969356113392, 0.009563252770132868, 0.03429662715846481, 0.9528614137850346, 1.004344479101055, -0.038235575812127935, 1.0418289148207542, -0.00846905311872205, 1.0335437054528773, -0.0019313566430119722, -0.015540594413125088, -0.015122456482032455, -0.01547265509931589, 0.0289186451931486, 0.9801952041118787, 0.0497167627731359, 0.008036393591328128, 1.0217324943880333, -0.026654456176171584, 0.9865389255140009, -0.029925746973441913, 0.9955315368973445, 0.9604199828349613, 0.02992365930446235, 0.01905530023897685, -0.039260321647063036, 0.9926454798750155, -0.002233092164620254, -0.018229639598393153, -0.01733576696725904, -0.02295806420585277, 0.04072897163283261, -0.00618088297670568, 0.04408982905015074, 0.04449959657237805, 0.04553870562456837, 0.007477176975951259, -0.0393985036823741, 1.0432167558649648, -0.014193337792122833, 1.0430615024820133, 0.9632792903156826, 0.0499570646609534, 0.01728788625490578, -0.02624206466653667, -0.036984852430635755, -0.036654290047726516, 0.04856718036957762, 0.009421197884669372, 0.03209494861222885, 0.036170373837137726, 0.01394135071333874, 0.04078051487011039, -0.044368771823798836, 0.003204540730436578, -0.009697848286415234, 0.019518715180125837, 0.0031056176707711103, 0.0047096734598473106, -0.028978979006687635, -0.011193123514208383, -0.0202431743735665, 0.041303540567838165, 0.012109843555765998, 0.035222485329605535, -0.031160677842826702, 0.015455716061224659, 1.01530785580895, 1.0441199842765452, 0.9857730075427886, 1.0446761864962573, 1.0023759932683975, 1.02759537318266, -0.002953315404238488]}],\n",
       "                        {\"template\": {\"data\": {\"bar\": [{\"error_x\": {\"color\": \"#2a3f5f\"}, \"error_y\": {\"color\": \"#2a3f5f\"}, \"marker\": {\"line\": {\"color\": \"#E5ECF6\", \"width\": 0.5}}, \"type\": \"bar\"}], \"barpolar\": [{\"marker\": {\"line\": {\"color\": \"#E5ECF6\", \"width\": 0.5}}, \"type\": \"barpolar\"}], \"carpet\": [{\"aaxis\": {\"endlinecolor\": \"#2a3f5f\", \"gridcolor\": \"white\", \"linecolor\": \"white\", \"minorgridcolor\": \"white\", \"startlinecolor\": \"#2a3f5f\"}, \"baxis\": {\"endlinecolor\": \"#2a3f5f\", \"gridcolor\": \"white\", \"linecolor\": \"white\", \"minorgridcolor\": \"white\", \"startlinecolor\": \"#2a3f5f\"}, \"type\": \"carpet\"}], \"choropleth\": [{\"colorbar\": {\"outlinewidth\": 0, \"ticks\": \"\"}, \"type\": \"choropleth\"}], \"contour\": [{\"colorbar\": {\"outlinewidth\": 0, \"ticks\": \"\"}, \"colorscale\": [[0.0, \"#0d0887\"], [0.1111111111111111, \"#46039f\"], [0.2222222222222222, \"#7201a8\"], [0.3333333333333333, \"#9c179e\"], [0.4444444444444444, \"#bd3786\"], [0.5555555555555556, \"#d8576b\"], [0.6666666666666666, \"#ed7953\"], [0.7777777777777778, \"#fb9f3a\"], [0.8888888888888888, \"#fdca26\"], [1.0, \"#f0f921\"]], \"type\": \"contour\"}], \"contourcarpet\": [{\"colorbar\": {\"outlinewidth\": 0, \"ticks\": \"\"}, \"type\": \"contourcarpet\"}], \"heatmap\": [{\"colorbar\": {\"outlinewidth\": 0, \"ticks\": \"\"}, \"colorscale\": [[0.0, \"#0d0887\"], [0.1111111111111111, \"#46039f\"], [0.2222222222222222, \"#7201a8\"], [0.3333333333333333, \"#9c179e\"], [0.4444444444444444, \"#bd3786\"], [0.5555555555555556, \"#d8576b\"], [0.6666666666666666, \"#ed7953\"], [0.7777777777777778, \"#fb9f3a\"], [0.8888888888888888, \"#fdca26\"], [1.0, \"#f0f921\"]], \"type\": \"heatmap\"}], \"heatmapgl\": [{\"colorbar\": {\"outlinewidth\": 0, \"ticks\": \"\"}, \"colorscale\": [[0.0, \"#0d0887\"], [0.1111111111111111, \"#46039f\"], [0.2222222222222222, \"#7201a8\"], [0.3333333333333333, \"#9c179e\"], [0.4444444444444444, \"#bd3786\"], [0.5555555555555556, \"#d8576b\"], [0.6666666666666666, \"#ed7953\"], [0.7777777777777778, \"#fb9f3a\"], [0.8888888888888888, \"#fdca26\"], [1.0, \"#f0f921\"]], \"type\": \"heatmapgl\"}], \"histogram\": [{\"marker\": {\"colorbar\": {\"outlinewidth\": 0, \"ticks\": \"\"}}, \"type\": \"histogram\"}], \"histogram2d\": [{\"colorbar\": {\"outlinewidth\": 0, \"ticks\": \"\"}, \"colorscale\": [[0.0, \"#0d0887\"], [0.1111111111111111, \"#46039f\"], [0.2222222222222222, \"#7201a8\"], [0.3333333333333333, \"#9c179e\"], [0.4444444444444444, \"#bd3786\"], [0.5555555555555556, \"#d8576b\"], [0.6666666666666666, \"#ed7953\"], [0.7777777777777778, \"#fb9f3a\"], [0.8888888888888888, \"#fdca26\"], [1.0, \"#f0f921\"]], \"type\": \"histogram2d\"}], \"histogram2dcontour\": [{\"colorbar\": {\"outlinewidth\": 0, \"ticks\": \"\"}, \"colorscale\": [[0.0, \"#0d0887\"], [0.1111111111111111, \"#46039f\"], [0.2222222222222222, \"#7201a8\"], [0.3333333333333333, \"#9c179e\"], [0.4444444444444444, \"#bd3786\"], [0.5555555555555556, \"#d8576b\"], [0.6666666666666666, \"#ed7953\"], [0.7777777777777778, \"#fb9f3a\"], [0.8888888888888888, \"#fdca26\"], [1.0, \"#f0f921\"]], \"type\": \"histogram2dcontour\"}], \"mesh3d\": [{\"colorbar\": {\"outlinewidth\": 0, \"ticks\": \"\"}, \"type\": \"mesh3d\"}], \"parcoords\": [{\"line\": {\"colorbar\": {\"outlinewidth\": 0, \"ticks\": \"\"}}, \"type\": \"parcoords\"}], \"pie\": [{\"automargin\": true, \"type\": \"pie\"}], \"scatter\": [{\"marker\": {\"colorbar\": {\"outlinewidth\": 0, \"ticks\": \"\"}}, \"type\": \"scatter\"}], \"scatter3d\": [{\"line\": {\"colorbar\": {\"outlinewidth\": 0, \"ticks\": \"\"}}, \"marker\": {\"colorbar\": {\"outlinewidth\": 0, \"ticks\": \"\"}}, \"type\": \"scatter3d\"}], \"scattercarpet\": [{\"marker\": {\"colorbar\": {\"outlinewidth\": 0, \"ticks\": \"\"}}, \"type\": \"scattercarpet\"}], \"scattergeo\": [{\"marker\": {\"colorbar\": {\"outlinewidth\": 0, \"ticks\": \"\"}}, \"type\": \"scattergeo\"}], \"scattergl\": [{\"marker\": {\"colorbar\": {\"outlinewidth\": 0, \"ticks\": \"\"}}, \"type\": \"scattergl\"}], \"scattermapbox\": [{\"marker\": {\"colorbar\": {\"outlinewidth\": 0, \"ticks\": \"\"}}, \"type\": \"scattermapbox\"}], \"scatterpolar\": [{\"marker\": {\"colorbar\": {\"outlinewidth\": 0, \"ticks\": \"\"}}, \"type\": \"scatterpolar\"}], \"scatterpolargl\": [{\"marker\": {\"colorbar\": {\"outlinewidth\": 0, \"ticks\": \"\"}}, \"type\": \"scatterpolargl\"}], \"scatterternary\": [{\"marker\": {\"colorbar\": {\"outlinewidth\": 0, \"ticks\": \"\"}}, \"type\": \"scatterternary\"}], \"surface\": [{\"colorbar\": {\"outlinewidth\": 0, \"ticks\": \"\"}, \"colorscale\": [[0.0, \"#0d0887\"], [0.1111111111111111, \"#46039f\"], [0.2222222222222222, \"#7201a8\"], [0.3333333333333333, \"#9c179e\"], [0.4444444444444444, \"#bd3786\"], [0.5555555555555556, \"#d8576b\"], [0.6666666666666666, \"#ed7953\"], [0.7777777777777778, \"#fb9f3a\"], [0.8888888888888888, \"#fdca26\"], [1.0, \"#f0f921\"]], \"type\": \"surface\"}], \"table\": [{\"cells\": {\"fill\": {\"color\": \"#EBF0F8\"}, \"line\": {\"color\": \"white\"}}, \"header\": {\"fill\": {\"color\": \"#C8D4E3\"}, \"line\": {\"color\": \"white\"}}, \"type\": \"table\"}]}, \"layout\": {\"annotationdefaults\": {\"arrowcolor\": \"#2a3f5f\", \"arrowhead\": 0, \"arrowwidth\": 1}, \"coloraxis\": {\"colorbar\": {\"outlinewidth\": 0, \"ticks\": \"\"}}, \"colorscale\": {\"diverging\": [[0, \"#8e0152\"], [0.1, \"#c51b7d\"], [0.2, \"#de77ae\"], [0.3, \"#f1b6da\"], [0.4, \"#fde0ef\"], [0.5, \"#f7f7f7\"], [0.6, \"#e6f5d0\"], [0.7, \"#b8e186\"], [0.8, \"#7fbc41\"], [0.9, \"#4d9221\"], [1, \"#276419\"]], \"sequential\": [[0.0, \"#0d0887\"], [0.1111111111111111, \"#46039f\"], [0.2222222222222222, \"#7201a8\"], [0.3333333333333333, \"#9c179e\"], [0.4444444444444444, \"#bd3786\"], [0.5555555555555556, \"#d8576b\"], [0.6666666666666666, \"#ed7953\"], [0.7777777777777778, \"#fb9f3a\"], [0.8888888888888888, \"#fdca26\"], [1.0, \"#f0f921\"]], \"sequentialminus\": [[0.0, \"#0d0887\"], [0.1111111111111111, \"#46039f\"], [0.2222222222222222, \"#7201a8\"], [0.3333333333333333, \"#9c179e\"], [0.4444444444444444, \"#bd3786\"], [0.5555555555555556, \"#d8576b\"], [0.6666666666666666, \"#ed7953\"], [0.7777777777777778, \"#fb9f3a\"], [0.8888888888888888, \"#fdca26\"], [1.0, \"#f0f921\"]]}, \"colorway\": [\"#636efa\", \"#EF553B\", \"#00cc96\", \"#ab63fa\", \"#FFA15A\", \"#19d3f3\", \"#FF6692\", \"#B6E880\", \"#FF97FF\", \"#FECB52\"], \"font\": {\"color\": \"#2a3f5f\"}, \"geo\": {\"bgcolor\": \"white\", \"lakecolor\": \"white\", \"landcolor\": \"#E5ECF6\", \"showlakes\": true, \"showland\": true, \"subunitcolor\": \"white\"}, \"hoverlabel\": {\"align\": \"left\"}, \"hovermode\": \"closest\", \"mapbox\": {\"style\": \"light\"}, \"paper_bgcolor\": \"white\", \"plot_bgcolor\": \"#E5ECF6\", \"polar\": {\"angularaxis\": {\"gridcolor\": \"white\", \"linecolor\": \"white\", \"ticks\": \"\"}, \"bgcolor\": \"#E5ECF6\", \"radialaxis\": {\"gridcolor\": \"white\", \"linecolor\": \"white\", \"ticks\": \"\"}}, \"scene\": {\"xaxis\": {\"backgroundcolor\": \"#E5ECF6\", \"gridcolor\": \"white\", \"gridwidth\": 2, \"linecolor\": \"white\", \"showbackground\": true, \"ticks\": \"\", \"zerolinecolor\": \"white\"}, \"yaxis\": {\"backgroundcolor\": \"#E5ECF6\", \"gridcolor\": \"white\", \"gridwidth\": 2, \"linecolor\": \"white\", \"showbackground\": true, \"ticks\": \"\", \"zerolinecolor\": \"white\"}, \"zaxis\": {\"backgroundcolor\": \"#E5ECF6\", \"gridcolor\": \"white\", \"gridwidth\": 2, \"linecolor\": \"white\", \"showbackground\": true, \"ticks\": \"\", \"zerolinecolor\": \"white\"}}, \"shapedefaults\": {\"line\": {\"color\": \"#2a3f5f\"}}, \"ternary\": {\"aaxis\": {\"gridcolor\": \"white\", \"linecolor\": \"white\", \"ticks\": \"\"}, \"baxis\": {\"gridcolor\": \"white\", \"linecolor\": \"white\", \"ticks\": \"\"}, \"bgcolor\": \"#E5ECF6\", \"caxis\": {\"gridcolor\": \"white\", \"linecolor\": \"white\", \"ticks\": \"\"}}, \"title\": {\"x\": 0.05}, \"xaxis\": {\"automargin\": true, \"gridcolor\": \"white\", \"linecolor\": \"white\", \"ticks\": \"\", \"title\": {\"standoff\": 15}, \"zerolinecolor\": \"white\", \"zerolinewidth\": 2}, \"yaxis\": {\"automargin\": true, \"gridcolor\": \"white\", \"linecolor\": \"white\", \"ticks\": \"\", \"title\": {\"standoff\": 15}, \"zerolinecolor\": \"white\", \"zerolinewidth\": 2}}}, \"xaxis\": {\"title\": {\"text\": \"Mean Radius\"}}, \"yaxis\": {\"title\": {\"text\": \"Malignant\"}}},\n",
       "                        {\"responsive\": true}\n",
       "                    ).then(function(){\n",
       "                            \n",
       "var gd = document.getElementById('b50345a6-8173-451a-97e8-dd22b471c0ed');\n",
       "var x = new MutationObserver(function (mutations, observer) {{\n",
       "        var display = window.getComputedStyle(gd).display;\n",
       "        if (!display || display === 'none') {{\n",
       "            console.log([gd, 'removed!']);\n",
       "            Plotly.purge(gd);\n",
       "            observer.disconnect();\n",
       "        }}\n",
       "}});\n",
       "\n",
       "// Listen for the removal of the full notebook cells\n",
       "var notebookContainer = gd.closest('#notebook-container');\n",
       "if (notebookContainer) {{\n",
       "    x.observe(notebookContainer, {childList: true});\n",
       "}}\n",
       "\n",
       "// Listen for the clearing of the current output cell\n",
       "var outputEl = gd.closest('.output');\n",
       "if (outputEl) {{\n",
       "    x.observe(outputEl, {childList: true});\n",
       "}}\n",
       "\n",
       "                        })\n",
       "                };\n",
       "                });\n",
       "            </script>\n",
       "        </div>"
      ]
     },
     "metadata": {},
     "output_type": "display_data"
    }
   ],
   "source": [
    "points = go.Scatter(x=data['mean radius'], y = jitter(data['malignant']), \n",
    "                    mode=\"markers\", \n",
    "                    marker=dict(opacity=0.5))\n",
    "go.Figure(data=[points], layout=layout)"
   ]
  },
  {
   "cell_type": "markdown",
   "metadata": {},
   "source": [
    "Perhaps a better way to visualize the data is using stacked histograms."
   ]
  },
  {
   "cell_type": "code",
   "execution_count": 11,
   "metadata": {
    "ExecuteTime": {
     "end_time": "2018-04-02T16:07:17.896849Z",
     "start_time": "2018-04-02T16:07:17.775139Z"
    }
   },
   "outputs": [
    {
     "data": {
      "application/vnd.plotly.v1+json": {
       "config": {
        "plotlyServerURL": "https://plot.ly"
       },
       "data": [
        {
         "autobinx": false,
         "histnorm": "probability density",
         "legendgroup": "Benign",
         "marker": {
          "color": "rgb(31, 119, 180)"
         },
         "name": "Benign",
         "opacity": 0.7,
         "type": "histogram",
         "x": [
          13.54,
          13.08,
          9.504,
          13.03,
          8.196,
          12.05,
          13.49,
          11.76,
          13.64,
          11.94,
          11.52,
          13.05,
          8.618,
          10.17,
          8.598,
          9.173,
          9.465,
          11.31,
          9.029,
          12.78,
          8.888,
          12.31,
          13.53,
          12.86,
          11.45,
          13.34,
          12,
          12.36,
          14.64,
          14.62,
          13.27,
          13.45,
          12.18,
          9.787,
          11.6,
          6.981,
          12.18,
          9.876,
          10.49,
          11.64,
          12.36,
          11.34,
          9.777,
          12.63,
          14.26,
          10.51,
          8.726,
          11.93,
          8.95,
          11.41,
          14.5,
          13.37,
          13.85,
          15.1,
          12.19,
          15.71,
          11.71,
          11.43,
          11.28,
          9.738,
          11.43,
          12.9,
          10.75,
          11.9,
          14.95,
          14.44,
          13.74,
          13,
          8.219,
          9.731,
          11.15,
          13.15,
          12.25,
          16.84,
          12.06,
          10.9,
          11.75,
          12.34,
          14.97,
          10.8,
          14.97,
          12.32,
          11.08,
          10.66,
          8.671,
          9.904,
          13.01,
          12.81,
          11.41,
          10.08,
          11.71,
          11.81,
          12.3,
          12.77,
          9.72,
          12.91,
          12.23,
          12.47,
          9.876,
          13.11,
          15.27,
          11.84,
          11.89,
          10.2,
          13.65,
          13.56,
          10.18,
          13.27,
          14.34,
          10.44,
          15,
          12.62,
          11.32,
          11.22,
          9.567,
          14.03,
          14.22,
          13.64,
          12.42,
          11.3,
          13.75,
          10.48,
          13.2,
          12.89,
          10.65,
          11.52,
          11.5,
          10.6,
          13.59,
          12.87,
          10.71,
          14.29,
          11.29,
          9.742,
          11.89,
          11.33,
          13.59,
          13.85,
          11.74,
          12.89,
          12.58,
          11.94,
          12.89,
          11.26,
          11.37,
          14.41,
          14.96,
          12.95,
          11.85,
          12.72,
          13.77,
          10.91,
          14.26,
          10.51,
          12.46,
          10.49,
          11.46,
          11.6,
          13.2,
          9,
          13.5,
          13.05,
          11.7,
          14.61,
          12.76,
          11.54,
          8.597,
          12.49,
          12.18,
          9.042,
          12.43,
          10.25,
          12.86,
          12.2,
          12.67,
          14.11,
          12.03,
          12.98,
          11.22,
          11.25,
          12.3,
          12.99,
          10.05,
          14.42,
          9.606,
          11.06,
          11.71,
          10.26,
          12.06,
          14.76,
          11.47,
          11.95,
          11.66,
          11.14,
          12.56,
          13.05,
          13.87,
          8.878,
          9.436,
          12.54,
          13.3,
          12.76,
          16.5,
          13.4,
          12.21,
          15.19,
          13.69,
          16.17,
          10.57,
          13.46,
          13.66,
          11.27,
          11.04,
          12.05,
          12.39,
          13.28,
          12.21,
          13.88,
          11.27,
          10.26,
          8.734,
          12.1,
          14.06,
          13.51,
          12.8,
          11.06,
          11.8,
          11.93,
          12.96,
          12.94,
          12.34,
          10.94,
          16.14,
          12.85,
          12.27,
          11.36,
          11.04,
          9.397,
          14.99,
          11.89,
          9.405,
          12.7,
          11.16,
          11.57,
          14.69,
          11.61,
          13.66,
          9.742,
          10.03,
          10.48,
          10.8,
          11.13,
          12.72,
          12.4,
          14.86,
          12.87,
          14.04,
          13.85,
          14.02,
          10.97,
          13.78,
          10.57,
          11.99,
          14.8,
          14.53,
          11.87,
          12,
          14.53,
          12.62,
          13.38,
          11.63,
          13.21,
          13,
          9.755,
          14.4,
          11.6,
          13.17,
          13.24,
          13.14,
          9.668,
          11.62,
          9.667,
          12.04,
          14.92,
          12.27,
          10.88,
          12.83,
          14.2,
          13.9,
          11.49,
          12.16,
          13.9,
          13.47,
          13.7,
          15.73,
          12.45,
          14.64,
          11.68,
          12.25,
          17.85,
          12.46,
          13.16,
          14.87,
          12.65,
          12.47,
          15.04,
          12.54,
          9.268,
          9.676,
          12.22,
          11.06,
          16.3,
          11.74,
          14.81,
          14.58,
          11.34,
          12.88,
          12.75,
          9.295,
          11.26,
          13.71,
          9.847,
          8.571,
          13.46,
          12.34,
          13.94,
          12.07,
          11.75,
          11.67,
          13.68,
          10.96,
          11.69,
          7.729,
          7.691,
          11.54,
          14.47,
          14.74,
          13.21,
          13.87,
          13.62,
          10.32,
          10.26,
          9.683,
          10.82,
          10.86,
          11.13,
          12.77,
          9.333,
          12.88,
          10.29,
          10.16,
          9.423,
          14.59,
          11.51,
          14.05,
          11.2,
          7.76
         ],
         "xaxis": "x",
         "xbins": {
          "end": 17.85,
          "size": 0.5,
          "start": 6.981
         },
         "yaxis": "y"
        },
        {
         "autobinx": false,
         "histnorm": "probability density",
         "legendgroup": "Malignant",
         "marker": {
          "color": "rgb(255, 127, 14)"
         },
         "name": "Malignant",
         "opacity": 0.7,
         "type": "histogram",
         "x": [
          17.99,
          20.57,
          19.69,
          11.42,
          20.29,
          12.45,
          18.25,
          13.71,
          13,
          12.46,
          16.02,
          15.78,
          19.17,
          15.85,
          13.73,
          14.54,
          14.68,
          16.13,
          19.81,
          15.34,
          21.16,
          16.65,
          17.14,
          14.58,
          18.61,
          15.3,
          17.57,
          18.63,
          11.84,
          17.02,
          19.27,
          16.13,
          16.74,
          14.25,
          14.99,
          13.48,
          13.44,
          10.95,
          19.07,
          13.28,
          13.17,
          18.65,
          13.17,
          18.22,
          15.1,
          19.21,
          14.71,
          14.25,
          12.68,
          14.78,
          18.94,
          17.2,
          13.8,
          16.07,
          18.05,
          20.18,
          25.22,
          19.1,
          18.46,
          14.48,
          19.02,
          15.37,
          15.06,
          20.26,
          14.42,
          13.61,
          13.11,
          22.27,
          14.87,
          15.78,
          17.95,
          18.66,
          24.25,
          13.61,
          19,
          19.79,
          15.46,
          16.16,
          18.45,
          12.77,
          14.95,
          16.11,
          11.8,
          17.68,
          19.19,
          19.59,
          23.27,
          16.78,
          17.47,
          13.43,
          15.46,
          16.46,
          27.22,
          21.09,
          15.7,
          15.28,
          18.31,
          14.22,
          12.34,
          14.86,
          13.77,
          18.08,
          19.18,
          14.45,
          17.54,
          23.29,
          13.81,
          15.12,
          17.01,
          20.58,
          28.11,
          17.42,
          14.19,
          13.86,
          19.8,
          19.53,
          15.75,
          12.83,
          17.05,
          20.51,
          23.21,
          20.48,
          17.46,
          19.4,
          20.94,
          19.73,
          17.3,
          19.45,
          13.96,
          19.55,
          15.32,
          15.66,
          15.53,
          20.31,
          17.35,
          17.29,
          15.61,
          17.19,
          20.73,
          21.75,
          17.93,
          18.81,
          19.16,
          19.4,
          16.24,
          11.76,
          19.53,
          20.09,
          18.22,
          20.16,
          20.34,
          16.27,
          16.26,
          16.03,
          17.06,
          18.77,
          23.51,
          19.68,
          15.75,
          25.73,
          15.08,
          20.44,
          20.2,
          21.71,
          22.01,
          16.35,
          21.37,
          20.64,
          11.08,
          14.6,
          19.55,
          15.49,
          21.61,
          17.91,
          17.99,
          15.13,
          15.5,
          14.9,
          20.18,
          18.82,
          13.98,
          17.27,
          18.03,
          17.75,
          21.1,
          19.59,
          17.08,
          27.42,
          17.6,
          16.25,
          19.44,
          16.69,
          18.01,
          18.49,
          20.59,
          13.82,
          23.09,
          15.46,
          13.4,
          15.05,
          18.31,
          19.89,
          24.63,
          20.47,
          20.55,
          14.27,
          15.22,
          20.92,
          21.56,
          20.13,
          16.6,
          20.6
         ],
         "xaxis": "x",
         "xbins": {
          "end": 28.11,
          "size": 0.5,
          "start": 10.95
         },
         "yaxis": "y"
        },
        {
         "legendgroup": "Benign",
         "marker": {
          "color": "rgb(31, 119, 180)"
         },
         "mode": "lines",
         "name": "Benign",
         "showlegend": false,
         "type": "scatter",
         "x": [
          6.981,
          7.002738,
          7.024476,
          7.046214,
          7.067952,
          7.08969,
          7.111428,
          7.133166,
          7.154904,
          7.176642,
          7.19838,
          7.220118,
          7.241856,
          7.263594,
          7.285332,
          7.3070699999999995,
          7.3288079999999995,
          7.350546,
          7.372284,
          7.394022,
          7.41576,
          7.437498,
          7.459236,
          7.480974,
          7.502712,
          7.52445,
          7.546188,
          7.567926,
          7.589664,
          7.611402,
          7.63314,
          7.654878,
          7.676616,
          7.698354,
          7.720092,
          7.74183,
          7.763568,
          7.785306,
          7.807044,
          7.828782,
          7.8505199999999995,
          7.872258,
          7.893996,
          7.9157340000000005,
          7.937472,
          7.95921,
          7.980948,
          8.002686,
          8.024424,
          8.046162,
          8.0679,
          8.089638,
          8.111376,
          8.133114,
          8.154852,
          8.176590000000001,
          8.198328,
          8.220066,
          8.241804,
          8.263542,
          8.28528,
          8.307018,
          8.328756,
          8.350494,
          8.372232,
          8.39397,
          8.415708,
          8.437446,
          8.459184,
          8.480922,
          8.50266,
          8.524398,
          8.546136,
          8.567874,
          8.589612,
          8.61135,
          8.633088,
          8.654826,
          8.676564,
          8.698302,
          8.720040000000001,
          8.741778,
          8.763516,
          8.785254,
          8.806992000000001,
          8.82873,
          8.850468,
          8.872206,
          8.893944,
          8.915682,
          8.93742,
          8.959158,
          8.980896,
          9.002634,
          9.024372,
          9.04611,
          9.067848,
          9.089586,
          9.111324,
          9.133062,
          9.1548,
          9.176538,
          9.198276,
          9.220013999999999,
          9.241752,
          9.263490000000001,
          9.285228,
          9.306966,
          9.328704,
          9.350442000000001,
          9.37218,
          9.393918,
          9.415656,
          9.437394000000001,
          9.459132,
          9.48087,
          9.502608,
          9.524346000000001,
          9.546084,
          9.567822,
          9.58956,
          9.611298,
          9.633036,
          9.654774,
          9.676512,
          9.69825,
          9.719988,
          9.741726,
          9.763464,
          9.785202,
          9.80694,
          9.828678,
          9.850416000000001,
          9.872154,
          9.893892000000001,
          9.91563,
          9.937368,
          9.959106,
          9.980844000000001,
          10.002582,
          10.02432,
          10.046058,
          10.067796,
          10.089534,
          10.111272,
          10.13301,
          10.154748000000001,
          10.176486,
          10.198224,
          10.219962,
          10.2417,
          10.263438,
          10.285176,
          10.306914,
          10.328652,
          10.35039,
          10.372128,
          10.393866000000001,
          10.415604,
          10.437342000000001,
          10.45908,
          10.480818000000001,
          10.502556,
          10.524294000000001,
          10.546032,
          10.56777,
          10.589508,
          10.611246000000001,
          10.632984,
          10.654722,
          10.67646,
          10.698198,
          10.719936,
          10.741674,
          10.763412,
          10.78515,
          10.806888,
          10.828626,
          10.850364,
          10.872102000000002,
          10.89384,
          10.915578,
          10.937316000000001,
          10.959054,
          10.980792000000001,
          11.00253,
          11.024268,
          11.046006,
          11.067744000000001,
          11.089482,
          11.11122,
          11.132958,
          11.154696000000001,
          11.176434,
          11.198172,
          11.21991,
          11.241648000000001,
          11.263386,
          11.285124,
          11.306862,
          11.328600000000002,
          11.350338,
          11.372076,
          11.393813999999999,
          11.415552000000002,
          11.43729,
          11.459028,
          11.480766,
          11.502504000000002,
          11.524242000000001,
          11.54598,
          11.567718000000001,
          11.589456000000002,
          11.611194000000001,
          11.632932,
          11.654670000000001,
          11.676408,
          11.698146000000001,
          11.719884,
          11.741622,
          11.76336,
          11.785098000000001,
          11.806836,
          11.828574,
          11.850312,
          11.872050000000002,
          11.893788,
          11.915526,
          11.937264,
          11.959002,
          11.98074,
          12.002478,
          12.024216,
          12.045954000000002,
          12.067692000000001,
          12.08943,
          12.111168,
          12.132906000000002,
          12.154644000000001,
          12.176382,
          12.19812,
          12.219858000000002,
          12.241596000000001,
          12.263334,
          12.285072000000001,
          12.30681,
          12.328548000000001,
          12.350286,
          12.372024,
          12.393762,
          12.415500000000002,
          12.437238,
          12.458976,
          12.480714,
          12.502452000000002,
          12.52419,
          12.545928,
          12.567666000000001,
          12.589404,
          12.611142000000001,
          12.63288,
          12.654618,
          12.676356,
          12.698094000000001,
          12.719832,
          12.74157,
          12.763308000000002,
          12.785046000000001,
          12.806784,
          12.828522,
          12.850260000000002,
          12.871998000000001,
          12.893736,
          12.915474,
          12.937212,
          12.958950000000002,
          12.980688,
          13.002426000000002,
          13.024164,
          13.045902000000002,
          13.06764,
          13.089378,
          13.111116,
          13.132854000000002,
          13.154592000000001,
          13.17633,
          13.198068000000001,
          13.219806,
          13.241544000000001,
          13.263282,
          13.285020000000001,
          13.306758,
          13.328496000000001,
          13.350234,
          13.371972,
          13.39371,
          13.415448000000001,
          13.437186,
          13.458924,
          13.480662000000002,
          13.502400000000002,
          13.524138,
          13.545876,
          13.567614,
          13.589352000000002,
          13.61109,
          13.632828,
          13.654566,
          13.676304000000002,
          13.698042000000001,
          13.71978,
          13.741518000000001,
          13.763256000000002,
          13.784994000000001,
          13.806732,
          13.828470000000001,
          13.850208,
          13.871946000000001,
          13.893684,
          13.915422000000001,
          13.93716,
          13.958898000000001,
          13.980636,
          14.002374,
          14.024112,
          14.045850000000002,
          14.067588,
          14.089326,
          14.111064,
          14.132802000000002,
          14.15454,
          14.176278,
          14.198016000000003,
          14.219754000000002,
          14.241492000000001,
          14.26323,
          14.284968000000001,
          14.306706000000002,
          14.328444000000001,
          14.350182,
          14.371920000000001,
          14.393658000000002,
          14.415396000000001,
          14.437134,
          14.458872000000001,
          14.480610000000002,
          14.502348000000001,
          14.524086,
          14.545824000000001,
          14.567562,
          14.589300000000001,
          14.611038,
          14.632776,
          14.654514,
          14.676252000000002,
          14.69799,
          14.719728,
          14.741466,
          14.763204000000002,
          14.784942000000001,
          14.80668,
          14.828418000000001,
          14.850156000000002,
          14.871894000000001,
          14.893632,
          14.91537,
          14.937108000000002,
          14.958846000000001,
          14.980584,
          15.002322000000001,
          15.02406,
          15.045798000000001,
          15.067536,
          15.089274000000001,
          15.111012,
          15.132750000000001,
          15.154488,
          15.176226,
          15.197964000000002,
          15.219702000000002,
          15.24144,
          15.263178000000002,
          15.284916,
          15.306654,
          15.328392000000001,
          15.35013,
          15.371868000000001,
          15.393606000000002,
          15.415344000000001,
          15.437082,
          15.458820000000001,
          15.480558,
          15.502296000000001,
          15.524034000000002,
          15.545772000000001,
          15.567510000000002,
          15.589248000000001,
          15.610986,
          15.632724000000001,
          15.654462,
          15.676200000000001,
          15.697938000000002,
          15.719676000000002,
          15.741414,
          15.763152000000002,
          15.78489,
          15.806628,
          15.828366,
          15.850104000000002,
          15.871842000000001,
          15.893580000000002,
          15.915318000000001,
          15.937056,
          15.958794000000001,
          15.980532,
          16.002270000000003,
          16.024008000000002,
          16.045746,
          16.067484,
          16.089222,
          16.11096,
          16.132698,
          16.154436000000004,
          16.176174000000003,
          16.197912000000002,
          16.21965,
          16.241388,
          16.263126,
          16.284864,
          16.306601999999998,
          16.328340000000004,
          16.350078000000003,
          16.371816000000003,
          16.393554,
          16.415292,
          16.43703,
          16.458768,
          16.480506000000002,
          16.502244,
          16.523982000000004,
          16.545720000000003,
          16.567458000000002,
          16.589196,
          16.610934,
          16.632672,
          16.654410000000002,
          16.676148,
          16.697886000000004,
          16.719624000000003,
          16.741362000000002,
          16.7631,
          16.784838,
          16.806576,
          16.828314000000002,
          16.850052,
          16.87179,
          16.893528000000003,
          16.915266000000003,
          16.937004,
          16.958742,
          16.98048,
          17.002218,
          17.023956000000002,
          17.045694,
          17.067432,
          17.089170000000003,
          17.110908000000002,
          17.132646,
          17.154384,
          17.176122,
          17.19786,
          17.219598,
          17.241336,
          17.263074000000003,
          17.284812000000002,
          17.30655,
          17.328288,
          17.350026,
          17.371764,
          17.393502,
          17.41524,
          17.436978000000003,
          17.458716000000003,
          17.480454,
          17.502192,
          17.52393,
          17.545668,
          17.567406,
          17.589144000000005,
          17.610882000000004,
          17.632620000000003,
          17.654358000000002,
          17.676096,
          17.697834,
          17.719572,
          17.74131,
          17.763048,
          17.784786000000004,
          17.806524000000003,
          17.828262000000002
         ],
         "xaxis": "x",
         "y": [
          0.004977643189970393,
          0.005161048806328046,
          0.005348947025325503,
          0.005541417936637831,
          0.005738544274717435,
          0.005940411560808238,
          0.0061471082855979655,
          0.006358726135587434,
          0.006575360265208322,
          0.0067971096155324835,
          0.007024077279106223,
          0.007256370909034651,
          0.007494103168961668,
          0.007737392219071562,
          0.007986362231709352,
          0.008241143928716452,
          0.008501875131140984,
          0.008768701310644559,
          0.009041776130728487,
          0.00932126196487527,
          0.009607330377881276,
          0.009900162556073556,
          0.010199949671785589,
          0.01050689316743538,
          0.010821204944822102,
          0.011143107445847055,
          0.011472833611774404,
          0.011810626709376867,
          0.012156740013852474,
          0.012511436340233592,
          0.012874987417117258,
          0.013247673098895792,
          0.013629780415222361,
          0.014021602459164739,
          0.014423437118335717,
          0.014835585656185386,
          0.01525835115354583,
          0.015692036823372148,
          0.016136944214366088,
          0.016593371321739832,
          0.01706161062571959,
          0.01754194708044369,
          0.01803465607762626,
          0.018540001410689986,
          0.019058233265971267,
          0.019589586268044988,
          0.02013427760616671,
          0.020692505268280953,
          0.021264446407978185,
          0.021850255868213864,
          0.02245006488353279,
          0.023063979980005738,
          0.02369208208910815,
          0.024334425888404683,
          0.024991039378195433,
          0.025661923699299205,
          0.026347053192958613,
          0.02704637569953561,
          0.027759813088297926,
          0.028487262006266684,
          0.029228594829889935,
          0.029983660799307064,
          0.030752287311271973,
          0.03153428134347368,
          0.03232943098013049,
          0.033137507006383085,
          0.03395826453726054,
          0.034791444645869835,
          0.035636775955024846,
          0.036493976156797586,
          0.037362753425472114,
          0.03824280769109804,
          0.039133831743279834,
          0.04003551213795554,
          0.04094752988369056,
          0.0418695608883713,
          0.042801276152071445,
          0.043742341697195736,
          0.044692418232695735,
          0.04565116055509874,
          0.046618216695191686,
          0.04759322682533627,
          0.04857582194845927,
          0.04956562239562707,
          0.05056223616467966,
          0.05156525713754184,
          0.05257426321844019,
          0.053588814439245964,
          0.054608451081429525,
          0.05563269186659152,
          0.056661032269140744,
          0.05769294300539505,
          0.05872786875312777,
          0.05976522715437419,
          0.060804408152122034,
          0.06184477370838815,
          0.06288565794712288,
          0.06392636776047632,
          0.06496618391123717,
          0.06600436265782961,
          0.06704013792118951,
          0.06807272400528415,
          0.06910131887506589,
          0.07012510798742408,
          0.07114326866232312,
          0.07215497497294557,
          0.07315940312540951,
          0.0741557372906617,
          0.07514317584355884,
          0.07612093795709038,
          0.07708827049326365,
          0.07804445512647326,
          0.07898881563029848,
          0.07992072525470306,
          0.0808396141175842,
          0.08174497653260213,
          0.08263637819422624,
          0.0835134631409684,
          0.0843759604188333,
          0.08522369036906925,
          0.08605657046730379,
          0.086874620645043,
          0.08767796802923288,
          0.08846685104102195,
          0.08924162280096595,
          0.0900027537945346,
          0.09075083375885064,
          0.09148657275896206,
          0.0922108014295468,
          0.09292447036562332,
          0.09362864865351997,
          0.09432452154091649,
          0.09501338725211951,
          0.09569665296179589,
          0.09637582994708145,
          0.09705252794423672,
          0.09772844874180295,
          0.0984053790474664,
          0.09908518267054557,
          0.09976979206616922,
          0.10046119929080063,
          0.10116144642180748,
          0.10187261549628397,
          0.1025968180263594,
          0.10333618414976782,
          0.10409285147560825,
          0.1048689536859842,
          0.1056666089546663,
          0.1064879082441049,
          0.10733490354207317,
          0.10820959609901368,
          0.10911392472680283,
          0.1100497542191991,
          0.11101886395372101,
          0.11202293673411093,
          0.11306354793193826,
          0.11414215498521307,
          0.11526008731119493,
          0.1164185366897878,
          0.11761854817306863,
          0.1188610115755091,
          0.12014665359831733,
          0.12147603063999599,
          0.12284952234363326,
          0.12426732592957603,
          0.12572945135993033,
          0.1272357173787367,
          0.12878574846866073,
          0.130378972761551,
          0.13201462093624802,
          0.13369172613253735,
          0.13540912490513224,
          0.13716545923602713,
          0.13895917961750617,
          0.1407885492115537,
          0.142651649084384,
          0.14454638450741925,
          0.14647049230825646,
          0.1484215492471282,
          0.15039698138612198,
          0.15239407441006844,
          0.15440998484966623,
          0.15644175214913503,
          0.1584863115126636,
          0.16054050745616621,
          0.16260110798357139,
          0.16466481930010207,
          0.16672830096888397,
          0.16878818141184768,
          0.1708410736513483,
          0.1728835911852973,
          0.17491236388595924,
          0.17692405381096618,
          0.17891537081457506,
          0.18088308784777907,
          0.18282405583758796,
          0.18473521803860327,
          0.1866136237539204,
          0.18845644132734218,
          0.19026097031484132,
          0.1920246527500949,
          0.19374508342665667,
          0.19542001912781215,
          0.19704738674433028,
          0.19862529023001135,
          0.20015201635506547,
          0.2016260392277851,
          0.20304602356560345,
          0.2044108267073068,
          0.20571949936879627,
          0.20697128515523652,
          0.20816561885258222,
          0.2093021235312309,
          0.2103806065038194,
          0.21140105418785607,
          0.212363625931917,
          0.213268646871438,
          0.21411659988665982,
          0.2149081167410084,
          0.2156439684830559,
          0.21632505519921855,
          0.21695239520749365,
          0.21752711378481182,
          0.21805043152201517,
          0.21852365240107782,
          0.2189481516889996,
          0.2193253637418518,
          0.21965676981080612,
          0.21994388593963876,
          0.22018825104026127,
          0.22039141522931086,
          0.22055492850479816,
          0.22068032983731178,
          0.22076913674536164,
          0.22082283541915748,
          0.22084287145151574,
          0.2208306412287083,
          0.22078748402794793,
          0.2207146748618997,
          0.22061341810415375,
          0.2204848419230037,
          0.22032999354422658,
          0.22014983535685287,
          0.2199452418692086,
          0.21971699751581544,
          0.21946579530913057,
          0.2191922363235853,
          0.21889682999301294,
          0.21857999519637902,
          0.2182420621007852,
          0.21788327472504054,
          0.2175037941817759,
          0.21710370255111486,
          0.2166830073343938,
          0.21624164643238308,
          0.21577949358896298,
          0.21529636423825912,
          0.21479202169096145,
          0.21426618359387253,
          0.21371852859580343,
          0.21314870315268292,
          0.2125563284052411,
          0.21194100706386898,
          0.21130233023722148,
          0.2106398841438121,
          0.2099532566492353,
          0.20924204357565565,
          0.2085058547348425,
          0.20774431964115483,
          0.20695709286649105,
          0.20614385900517535,
          0.2053043372229799,
          0.20443828537088085,
          0.2035455036505935,
          0.20262583782532373,
          0.201679181975388,
          0.2007054808043007,
          0.19970473150646204,
          0.19867698521263635,
          0.197622348033867,
          0.19654098172827353,
          0.19543310401822897,
          0.19429898858767713,
          0.19313896479079048,
          0.19195341710376004,
          0.19074278435125394,
          0.18950755873800315,
          0.18824828471411698,
          0.1869655577001321,
          0.18566002269457282,
          0.18433237278299588,
          0.18298334756325135,
          0.18161373149711402,
          0.18022435219366867,
          0.1788160786249736,
          0.17738981926978148,
          0.17594652017651846,
          0.1744871629325339,
          0.17301276252290768,
          0.1715243650589767,
          0.17002304535434967,
          0.16850990432456267,
          0.16698606618582637,
          0.16545267542852654,
          0.16391089354233457,
          0.16236189547196425,
          0.16080686578576833,
          0.15924699454345162,
          0.15768347285415285,
          0.15611748812192802,
          0.15455021898212598,
          0.15298282993921414,
          0.15141646572410392,
          0.14985224539680972,
          0.14829125622820677,
          0.14673454740253783,
          0.14518312358999205,
          0.14363793844598313,
          0.1420998881005021,
          0.1405698047069518,
          0.13904845012504669,
          0.1375365098165262,
          0.13603458703547563,
          0.13454319739686185,
          0.13306276390740057,
          0.13159361254200796,
          0.1301359684468246,
          0.12868995284613224,
          0.12725558072541157,
          0.12583275935638144,
          0.12442128772215487,
          0.12302085689176885,
          0.12163105138337468,
          0.12025135154447818,
          0.11888113696591276,
          0.1175196909339236,
          0.11616620591197024,
          0.11481979003083988,
          0.11347947455258962,
          0.11214422226089564,
          0.1108129367177738,
          0.10948447231456508,
          0.10815764503369243,
          0.10683124382722181,
          0.10550404250880639,
          0.10417481204735077,
          0.10284233314379365,
          0.10150540896690968,
          0.10016287792003985,
          0.09881362630825044,
          0.0974566007746262,
          0.09609082037525774,
          0.09471538816494762,
          0.09332950216974532,
          0.09193246562803965,
          0.09052369638903097,
          0.0891027353658831,
          0.08766925395058973,
          0.08622306030846219,
          0.08476410448200723,
          0.08329248224665704,
          0.0818084376741734,
          0.0803123643733982,
          0.07880480539218347,
          0.07728645177863008,
          0.07575813981400709,
          0.07422084694373933,
          0.07267568644647177,
          0.07112390089426462,
          0.06956685446932057,
          0.06800602421410545,
          0.06644299030221515,
          0.06487942542672119,
          0.06331708341089745,
          0.06175778715313505,
          0.06020341602339442,
          0.058655892832714634,
          0.05711717050004306,
          0.05558921854198831,
          0.05407400951102186,
          0.05257350550619925,
          0.0510896448777021,
          0.04962432924244618,
          0.04817941092276681,
          0.04675668091386042,
          0.04535785747832454,
          0.043984575457914545,
          0.04263837638366158,
          0.04132069945585437,
          0.04003287345526123,
          0.03877610963644922,
          0.03755149564329748,
          0.036359990475925495,
          0.03520242052740567,
          0.03407947669790116,
          0.03299171258341547,
          0.03193954372624417,
          0.03092324790459154,
          0.029942966429756437,
          0.028998706410868273,
          0.028090343939445764,
          0.027217628139119994,
          0.026380186019740508,
          0.025577528069823118,
          0.024809054516907462,
          0.02407406218189228,
          0.023371751850797828,
          0.022701236085669502,
          0.022061547395448623,
          0.02145164668757606,
          0.020870431921820087,
          0.02031674688928621,
          0.019789390041714896,
          0.019287123298960346,
          0.018808680765889253,
          0.018352777293791384,
          0.01791811682568045,
          0.01750340046951352,
          0.01710733424830603,
          0.01672863648129398,
          0.016366044755630145,
          0.016018322453531707,
          0.0156842648052606,
          0.015362704443755787,
          0.01505251644209412,
          0.014752622820185196,
          0.014461996512155764,
          0.014179664790715264,
          0.013904712149377791,
          0.013636282647717941,
          0.013373581728834053,
          0.013115877521863861,
          0.012862501645727095,
          0.012612849533254197,
          0.012366380297487396,
          0.012122616164215928,
          0.011881141496733916,
          0.011641601440393069,
          0.011403700215776177,
          0.011167199090254674,
          0.010931914058332179,
          0.010697713261531409,
          0.010464514178679853,
          0.01023228061730657,
          0.010001019536504497,
          0.00977077773106116,
          0.009541638405938947,
          0.009313717669316029,
          0.009087160971404797,
          0.008862139515162687,
          0.008638846663826284,
          0.008417494368945877,
          0.008198309641294092,
          0.007981531085683587,
          0.007767405519365402,
          0.00755618469230478,
          0.007348122126253671,
          0.0071434700881636715,
          0.006942476712117667,
          0.006745383282605827,
          0.006552421690632251,
          0.0063638120728157525,
          0.006179760642339895,
          0.006000457719313031,
          0.0058260759668163275,
          0.005656768837645852,
          0.005492669235489377,
          0.005333888393019161,
          0.0051805149681273,
          0.005032614358277176,
          0.0048902282316948984,
          0.004753374272879054,
          0.004622046138665758,
          0.0044962136198541626,
          0.004375823002179161,
          0.004260797619216628,
          0.004151038588633476,
          0.004046425722052715,
          0.0039468185977070734,
          0.0038520577840096327,
          0.003761966201189545,
          0.0036763506072351373,
          0.003595003193568411,
          0.003517703275153932,
          0.0034442190591343173,
          0.0033743094755933896,
          0.0033077260536868093,
          0.003244214826157221,
          0.0031835182451737647,
          0.003125377092510254,
          0.003069532367304646,
          0.003015727135029722,
          0.0029637083218460704,
          0.0029132284392053287,
          0.0028640472244168564,
          0.002815933183877687,
          0.002768665026785561,
          0.002722032978394866,
          0.002675839963223697,
          0.002629902650060429
         ],
         "yaxis": "y"
        },
        {
         "legendgroup": "Malignant",
         "marker": {
          "color": "rgb(255, 127, 14)"
         },
         "mode": "lines",
         "name": "Malignant",
         "showlegend": false,
         "type": "scatter",
         "x": [
          10.95,
          10.984319999999999,
          11.01864,
          11.052959999999999,
          11.08728,
          11.121599999999999,
          11.15592,
          11.19024,
          11.224559999999999,
          11.25888,
          11.293199999999999,
          11.32752,
          11.361839999999999,
          11.39616,
          11.43048,
          11.464799999999999,
          11.49912,
          11.533439999999999,
          11.56776,
          11.602079999999999,
          11.6364,
          11.67072,
          11.705039999999999,
          11.73936,
          11.773679999999999,
          11.808,
          11.842319999999999,
          11.87664,
          11.91096,
          11.945279999999999,
          11.9796,
          12.013919999999999,
          12.04824,
          12.082559999999999,
          12.11688,
          12.1512,
          12.185519999999999,
          12.21984,
          12.254159999999999,
          12.28848,
          12.322799999999999,
          12.35712,
          12.39144,
          12.425759999999999,
          12.46008,
          12.494399999999999,
          12.52872,
          12.563039999999999,
          12.59736,
          12.63168,
          12.665999999999999,
          12.70032,
          12.734639999999999,
          12.76896,
          12.803279999999999,
          12.837599999999998,
          12.87192,
          12.906239999999999,
          12.94056,
          12.974879999999999,
          13.0092,
          13.04352,
          13.077839999999998,
          13.11216,
          13.14648,
          13.1808,
          13.215119999999999,
          13.24944,
          13.28376,
          13.318079999999998,
          13.3524,
          13.386719999999999,
          13.42104,
          13.455359999999999,
          13.48968,
          13.524,
          13.558319999999998,
          13.59264,
          13.62696,
          13.66128,
          13.695599999999999,
          13.72992,
          13.76424,
          13.798559999999998,
          13.83288,
          13.867199999999999,
          13.90152,
          13.935839999999999,
          13.97016,
          14.00448,
          14.038799999999998,
          14.07312,
          14.10744,
          14.14176,
          14.176079999999999,
          14.2104,
          14.24472,
          14.279039999999998,
          14.31336,
          14.347679999999999,
          14.382,
          14.416319999999999,
          14.45064,
          14.48496,
          14.519279999999998,
          14.5536,
          14.58792,
          14.62224,
          14.656559999999999,
          14.69088,
          14.7252,
          14.759519999999998,
          14.79384,
          14.828159999999999,
          14.86248,
          14.896799999999999,
          14.93112,
          14.96544,
          14.999759999999998,
          15.03408,
          15.068399999999999,
          15.10272,
          15.137039999999999,
          15.17136,
          15.20568,
          15.239999999999998,
          15.27432,
          15.30864,
          15.34296,
          15.377279999999999,
          15.4116,
          15.44592,
          15.480239999999998,
          15.51456,
          15.54888,
          15.583199999999998,
          15.617519999999999,
          15.65184,
          15.68616,
          15.720479999999998,
          15.7548,
          15.78912,
          15.823439999999998,
          15.857759999999999,
          15.89208,
          15.9264,
          15.960719999999998,
          15.99504,
          16.029359999999997,
          16.063679999999998,
          16.098,
          16.13232,
          16.16664,
          16.20096,
          16.23528,
          16.2696,
          16.303919999999998,
          16.33824,
          16.37256,
          16.40688,
          16.4412,
          16.47552,
          16.50984,
          16.544159999999998,
          16.57848,
          16.6128,
          16.64712,
          16.68144,
          16.71576,
          16.75008,
          16.784399999999998,
          16.81872,
          16.85304,
          16.88736,
          16.92168,
          16.956,
          16.990319999999997,
          17.024639999999998,
          17.05896,
          17.09328,
          17.1276,
          17.16192,
          17.19624,
          17.23056,
          17.264879999999998,
          17.2992,
          17.33352,
          17.36784,
          17.40216,
          17.43648,
          17.4708,
          17.505119999999998,
          17.53944,
          17.57376,
          17.60808,
          17.6424,
          17.67672,
          17.71104,
          17.745359999999998,
          17.77968,
          17.814,
          17.84832,
          17.88264,
          17.91696,
          17.951279999999997,
          17.985599999999998,
          18.01992,
          18.05424,
          18.08856,
          18.12288,
          18.1572,
          18.19152,
          18.225839999999998,
          18.26016,
          18.29448,
          18.3288,
          18.36312,
          18.39744,
          18.43176,
          18.466079999999998,
          18.5004,
          18.53472,
          18.56904,
          18.60336,
          18.63768,
          18.672,
          18.706319999999998,
          18.74064,
          18.77496,
          18.80928,
          18.8436,
          18.87792,
          18.912239999999997,
          18.946559999999998,
          18.98088,
          19.0152,
          19.04952,
          19.08384,
          19.11816,
          19.152479999999997,
          19.186799999999998,
          19.22112,
          19.25544,
          19.28976,
          19.32408,
          19.3584,
          19.392719999999997,
          19.427039999999998,
          19.46136,
          19.49568,
          19.53,
          19.56432,
          19.598639999999996,
          19.63296,
          19.667279999999998,
          19.7016,
          19.73592,
          19.77024,
          19.80456,
          19.838879999999996,
          19.8732,
          19.907519999999998,
          19.94184,
          19.97616,
          20.01048,
          20.0448,
          20.07912,
          20.11344,
          20.147759999999998,
          20.18208,
          20.2164,
          20.25072,
          20.285040000000002,
          20.31936,
          20.353679999999997,
          20.387999999999998,
          20.42232,
          20.45664,
          20.49096,
          20.525280000000002,
          20.5596,
          20.593919999999997,
          20.628239999999998,
          20.66256,
          20.69688,
          20.7312,
          20.765520000000002,
          20.79984,
          20.834159999999997,
          20.868479999999998,
          20.9028,
          20.93712,
          20.97144,
          21.00576,
          21.04008,
          21.074399999999997,
          21.108719999999998,
          21.14304,
          21.17736,
          21.21168,
          21.246,
          21.28032,
          21.314639999999997,
          21.348959999999998,
          21.38328,
          21.4176,
          21.45192,
          21.48624,
          21.520559999999996,
          21.554879999999997,
          21.589199999999998,
          21.62352,
          21.65784,
          21.69216,
          21.72648,
          21.760799999999996,
          21.79512,
          21.829439999999998,
          21.86376,
          21.89808,
          21.9324,
          21.96672,
          22.00104,
          22.03536,
          22.069679999999998,
          22.104,
          22.13832,
          22.17264,
          22.206960000000002,
          22.24128,
          22.275599999999997,
          22.309919999999998,
          22.34424,
          22.37856,
          22.412879999999998,
          22.447200000000002,
          22.48152,
          22.515839999999997,
          22.550159999999998,
          22.58448,
          22.6188,
          22.65312,
          22.687440000000002,
          22.72176,
          22.756079999999997,
          22.790399999999998,
          22.82472,
          22.85904,
          22.89336,
          22.92768,
          22.962,
          22.996319999999997,
          23.03064,
          23.06496,
          23.09928,
          23.1336,
          23.16792,
          23.20224,
          23.236559999999997,
          23.27088,
          23.3052,
          23.33952,
          23.37384,
          23.40816,
          23.442479999999996,
          23.476799999999997,
          23.51112,
          23.54544,
          23.57976,
          23.61408,
          23.6484,
          23.682719999999996,
          23.71704,
          23.75136,
          23.78568,
          23.82,
          23.85432,
          23.88864,
          23.92296,
          23.95728,
          23.9916,
          24.02592,
          24.06024,
          24.09456,
          24.128880000000002,
          24.1632,
          24.197519999999997,
          24.23184,
          24.26616,
          24.30048,
          24.334799999999998,
          24.369120000000002,
          24.40344,
          24.437759999999997,
          24.47208,
          24.5064,
          24.54072,
          24.57504,
          24.609360000000002,
          24.64368,
          24.677999999999997,
          24.71232,
          24.74664,
          24.78096,
          24.81528,
          24.8496,
          24.88392,
          24.918239999999997,
          24.95256,
          24.98688,
          25.0212,
          25.05552,
          25.08984,
          25.12416,
          25.158479999999997,
          25.1928,
          25.22712,
          25.26144,
          25.29576,
          25.33008,
          25.364399999999996,
          25.398719999999997,
          25.43304,
          25.46736,
          25.50168,
          25.536,
          25.57032,
          25.604639999999996,
          25.63896,
          25.67328,
          25.7076,
          25.74192,
          25.77624,
          25.81056,
          25.84488,
          25.8792,
          25.91352,
          25.94784,
          25.98216,
          26.01648,
          26.0508,
          26.08512,
          26.119439999999997,
          26.15376,
          26.18808,
          26.2224,
          26.256719999999998,
          26.291040000000002,
          26.32536,
          26.359679999999997,
          26.394,
          26.42832,
          26.46264,
          26.49696,
          26.531280000000002,
          26.5656,
          26.599919999999997,
          26.63424,
          26.66856,
          26.70288,
          26.7372,
          26.77152,
          26.80584,
          26.840159999999997,
          26.87448,
          26.9088,
          26.94312,
          26.97744,
          27.01176,
          27.04608,
          27.080399999999997,
          27.11472,
          27.14904,
          27.18336,
          27.217679999999998,
          27.252,
          27.28632,
          27.320639999999997,
          27.35496,
          27.38928,
          27.423599999999997,
          27.45792,
          27.492240000000002,
          27.52656,
          27.56088,
          27.5952,
          27.62952,
          27.66384,
          27.698159999999998,
          27.73248,
          27.7668,
          27.801119999999997,
          27.83544,
          27.86976,
          27.90408,
          27.9384,
          27.97272,
          28.00704,
          28.04136,
          28.07568
         ],
         "xaxis": "x",
         "y": [
          0.01480303268216644,
          0.01526730541787941,
          0.015740422495930814,
          0.016222455049274255,
          0.016713477277626426,
          0.01721356634662551,
          0.01772280223536037,
          0.018241267531325517,
          0.01876904717227014,
          0.019306228134832914,
          0.019852899070294656,
          0.020409149888225512,
          0.020975071289255843,
          0.021550754248650324,
          0.022136289452812128,
          0.02273176669128477,
          0.023337274207244792,
          0.023952898009891012,
          0.02457872115252471,
          0.025214822980480583,
          0.02586127835340628,
          0.026518156846690087,
          0.027185521937105734,
          0.027863430177972145,
          0.028551930369310762,
          0.029251062728626712,
          0.029960858068031847,
          0.030681336983476363,
          0.031412509061846935,
          0.03215437211163797,
          0.0329069114227897,
          0.033670099061133024,
          0.03444389320266768,
          0.035228237512642015,
          0.03602306057409587,
          0.036828275370172775,
          0.0376437788241154,
          0.03846945140041665,
          0.03930515677013188,
          0.04015074154285133,
          0.04100603506729903,
          0.0418708493019734,
          0.04274497875667164,
          0.04362820050515754,
          0.04452027426864448,
          0.04542094256917455,
          0.04632993095139662,
          0.04724694827067071,
          0.04817168704487914,
          0.04910382386679367,
          0.050043019873354765,
          0.050988921267755,
          0.05194115988980035,
          0.05289935382965063,
          0.05386310807971655,
          0.054832015219225885,
          0.05580565612576068,
          0.05678360070792279,
          0.05776540865320311,
          0.058750630185110564,
          0.059738806823672476,
          0.06072947214352954,
          0.06172215252403982,
          0.06271636788605094,
          0.06371163241031465,
          0.06470745523289542,
          0.0657033411133508,
          0.06669879107194993,
          0.06769330299272684,
          0.06868637218974279,
          0.0696774919345397,
          0.07066615394341066,
          0.07165184882377726,
          0.07263406647963716,
          0.07361229647674018,
          0.07458602836882365,
          0.07555475198692325,
          0.07651795769442565,
          0.07747513661116605,
          0.0784257808104652,
          0.07936938349356197,
          0.08030543914639807,
          0.08123344368416323,
          0.08215289458939572,
          0.08306329104974663,
          0.08396413410176157,
          0.08485492678719618,
          0.08573517432845709,
          0.08660438432976407,
          0.08746206701052538,
          0.08830773547724688,
          0.08914090604001675,
          0.08996109857926006,
          0.09076783696800719,
          0.09156064955440381,
          0.09233906970858154,
          0.09310263643734304,
          0.09385089506936613,
          0.0945833980128397,
          0.09529970558658493,
          0.0959993869248271,
          0.09668202095485016,
          0.0973471974458115,
          0.09799451812602908,
          0.09862359786507863,
          0.09923406591607288,
          0.09982556721254618,
          0.10039776371344764,
          0.10095033578886553,
          0.10148298363827173,
          0.10199542873230037,
          0.10248741526837535,
          0.10295871162986915,
          0.1034091118379362,
          0.10383843698471787,
          0.10424653663626551,
          0.10463329019328677,
          0.10499860819768711,
          0.10534243357285872,
          0.1056647427857655,
          0.10596554691908396,
          0.10624489264198793,
          0.10650286306861273,
          0.10673957849378429,
          0.10695519699626738,
          0.10714991490055549,
          0.10732396708908708,
          0.1074776271577325,
          0.10761120740843354,
          0.10772505867398711,
          0.10781956997114232,
          0.10789516797940459,
          0.10795231634421402,
          0.10799151480445981,
          0.10801329814561057,
          0.10801823498106608,
          0.10800692636564478,
          0.10798000424642168,
          0.10793812975739375,
          0.10788199136566977,
          0.1078123028780431,
          0.10772980131790966,
          0.10763524468350616,
          0.10752940959938287,
          0.10741308887385775,
          0.1072870889759363,
          0.10715222744579991,
          0.10700933025347151,
          0.10685922912065453,
          0.10670275882099303,
          0.10654075447413688,
          0.10637404884899533,
          0.10620346969143747,
          0.10602983709144047,
          0.10585396090431644,
          0.10567663824014038,
          0.10549865103489633,
          0.10532076371613004,
          0.10514372097507503,
          0.10496824565629685,
          0.10479503677489779,
          0.10462476767024532,
          0.10445808430404292,
          0.10429560370936664,
          0.10413791259604888,
          0.10398556611652483,
          0.10383908679496728,
          0.10369896362124557,
          0.10356565130995174,
          0.10343956972347607,
          0.10332110345686872,
          0.10321060158102827,
          0.10310837753961415,
          0.1030147091939916,
          0.1029298390095082,
          0.10285397437546635,
          0.10278728805031206,
          0.10272991872280769,
          0.10268197167930915,
          0.10264351956671922,
          0.10261460324025418,
          0.10259523268483428,
          0.10258538799869693,
          0.10258502042772957,
          0.1025940534390333,
          0.1026123838223478,
          0.10263988280820213,
          0.10267639719198003,
          0.10272175045352891,
          0.10277574386245672,
          0.1028381575598728,
          0.10290875160801484,
          0.10298726699996132,
          0.10307342662244601,
          0.1031669361656649,
          0.10326748497487455,
          0.10337474683953489,
          0.10348838071671428,
          0.1036080313864617,
          0.10373333003783934,
          0.10386389478528686,
          0.10399933111595912,
          0.1041392322696171,
          0.10428317955356027,
          0.10443074259595352,
          0.10458147954172,
          0.1047349371959256,
          0.10489065112028323,
          0.10504814568902508,
          0.10520693411095043,
          0.10536651842492895,
          0.10552638947653234,
          0.10568602688378155,
          0.1058448990002188,
          0.106002462883653,
          0.10615816427898112,
          0.1063114376234554,
          0.10646170608264845,
          0.1066083816251721,
          0.10675086514392876,
          0.10688854663132273,
          0.10702080541543689,
          0.10714701046369057,
          0.10726652075994858,
          0.1073786857604425,
          0.10748284593321542,
          0.10757833338510049,
          0.10766447257951338,
          0.10774058114757101,
          0.10780597079426397,
          0.10785994830060351,
          0.10790181662184768,
          0.10793087608109707,
          0.10794642565672713,
          0.10794776436132437,
          0.10793419270899365,
          0.10790501426713728,
          0.10785953728805997,
          0.10779707641503446,
          0.10771695445679016,
          0.10761850422374396,
          0.10750107041869976,
          0.10736401157419678,
          0.10720670202819114,
          0.10702853392931304,
          0.10682891926255947,
          0.10660729188594982,
          0.10636310956840886,
          0.10609585601893386,
          0.10580504289695476,
          0.10549021179371608,
          0.10515093617448512,
          0.10478682327143472,
          0.10439751591714157,
          0.10398269430881388,
          0.10354207769356731,
          0.10307542596535284,
          0.10258254116446858,
          0.1020632688709658,
          0.10151749948369787,
          0.10094516937723878,
          0.10034626192941958,
          0.09972080841280176,
          0.09906888874400771,
          0.09839063208546649,
          0.09768621729480327,
          0.09695587321779715,
          0.0961998788215517,
          0.09541856316525758,
          0.0946123052066877,
          0.09378153344332175,
          0.09292672538777275,
          0.09204840687796154,
          0.09114715122325479,
          0.09022357818855035,
          0.089278352819048,
          0.08831218410918562,
          0.08732582351994471,
          0.0863200633494273,
          0.08529573496228765,
          0.08425370688424186,
          0.08319488276849465,
          0.08212019924150231,
          0.08103062363602431,
          0.07992715161991808,
          0.07881080472958271,
          0.07768262781736539,
          0.07654368642260438,
          0.07539506407629387,
          0.07423785954961515,
          0.07307318405679099,
          0.07190215842287162,
          0.07072591022717614,
          0.06954557093315991,
          0.06836227301548185,
          0.06717714709500605,
          0.06599131909236476,
          0.06480590741057231,
          0.06362202015698509,
          0.062440752414668,
          0.061263183572945065,
          0.06009037472659839,
          0.058923366152815,
          0.05776317487459091,
          0.05661079231887571,
          0.05546718207727662,
          0.05433327777666438,
          0.053209981066505534,
          0.05209815972921216,
          0.05099864591925405,
          0.049912234536198044,
          0.04883968173626252,
          0.04778170358637691,
          0.04673897486412716,
          0.045712128006362915,
          0.044701752208620014,
          0.043708392676896524,
          0.04273255003270478,
          0.04177467987170105,
          0.04083519247559165,
          0.03991445267640455,
          0.03901277987162244,
          0.03813044818809018,
          0.03726768679203686,
          0.036424680341991755,
          0.035601569580837725,
          0.03479845206271882,
          0.034015383010012834,
          0.033252376295103366,
          0.03250940554122005,
          0.031786405336187006,
          0.031083272552509887,
          0.030399867766852967,
          0.029736016771610852,
          0.02909151217096317,
          0.028466115053515453,
          0.02785955673338743,
          0.027271540551392897,
          0.02670174372778949,
          0.026149819257941437,
          0.025615397842146045,
          0.02509808984082868,
          0.024597487246301813,
          0.02411316566232169,
          0.023644686282758266,
          0.023191597860818692,
          0.02275343866043437,
          0.022329738381636533,
          0.021920020051999906,
          0.021523801876536422,
          0.02114059903875799,
          0.020769925446008804,
          0.020411295412584025,
          0.020064225274603806,
          0.01972823493109499,
          0.019402849306248564,
          0.019087599728359255,
          0.01878202522151645,
          0.018485673706699086,
          0.0181981031095195,
          0.017918882372472845,
          0.017647592370157516,
          0.01738382672654898,
          0.017127192534020775,
          0.01687731097441006,
          0.016633817843017637,
          0.01639636397700802,
          0.016164615590228474,
          0.015938254516996486,
          0.01571697836790331,
          0.015500500601148532,
          0.015288550513350183,
          0.0150808731541646,
          0.014877229169397769,
          0.014677394577591221,
          0.014481160485321842,
          0.014288332746659874,
          0.014098731572387224,
          0.0139121910946836,
          0.013728558893045256,
          0.01354769548720562,
          0.013369473802784864,
          0.013193778615304642,
          0.013020505978066208,
          0.012849562639209887,
          0.012680865453052026,
          0.012514340790534,
          0.012349923953324193,
          0.012187558595786152,
          0.012027196158672438,
          0.011868795318027384,
          0.011712321452385011,
          0.011557746130938526,
          0.011405046624936724,
          0.011254205444137131,
          0.011105209899718495,
          0.01095805169463141,
          0.010812726541950422,
          0.010669233811387221,
          0.01052757620373629,
          0.010387759452656119,
          0.010249792052844717,
          0.010113685013348186,
          0.009979451634452323,
          0.009847107306348505,
          0.009716669327540948,
          0.009588156740772943,
          0.009461590184097661,
          0.009336991754603209,
          0.009214384882225857,
          0.00909379421104518,
          0.008975245485454126,
          0.008858765438632727,
          0.008744381680824897,
          0.008632122585024295,
          0.008522017167812191,
          0.008414094963259662,
          0.008308385888001635,
          0.008204920095812142,
          0.008103727820252742,
          0.008004839204229062,
          0.007908284115567382,
          0.007814091948014147,
          0.007722291407359096,
          0.007632910282687083,
          0.00754597520306867,
          0.007461511380302608,
          0.007379542338620678,
          0.007300089632554187,
          0.007223172554436688,
          0.007148807833278329,
          0.007077009326989399,
          0.007007787710150535,
          0.006941150159724914,
          0.0068771000412780415,
          0.006815636598414309,
          0.006756754648252556,
          0.006700444285846005,
          0.006646690600502323,
          0.006595473406978072,
          0.006546766994507118,
          0.006500539896575262,
          0.006456754684273775,
          0.006415367785952379,
          0.006376329335750842,
          0.006339583053416239,
          0.006305066157613629,
          0.006272709314713224,
          0.006242436624788019,
          0.006214165646286113,
          0.0061878074605534435,
          0.006163266777078222,
          0.006140442080011306,
          0.006119225816189763,
          0.006099504624557217,
          0.006081159606537804,
          0.006064066636583205,
          0.006048096711778283,
          0.006033116339063077,
          0.006018987958310363,
          0.006005570399192039,
          0.005992719369476754,
          0.005980287972128436,
          0.005968127248323049,
          0.005956086743271374,
          0.00594401509153121,
          0.005931760618314242,
          0.005919171953143594,
          0.005906098652097847,
          0.00589239182478797,
          0.005877904762155514,
          0.005862493561153673,
          0.0058460177423783006,
          0.005828340856752308,
          0.005809331077434963,
          0.005788861773225277,
          0.005766812059855821,
          0.005743067325728258,
          0.005717519728822989,
          0.005690068661721089,
          0.005660621181904681,
          0.005629092404750459,
          0.005595405856897609,
          0.005559493787953163,
          0.005521297438792982,
          0.005480767265021953,
          0.005437863114469725,
          0.0053925543579165704,
          0.005344819972564112,
          0.005294648578085292,
          0.005242038425405127,
          0.005186997338674653,
          0.0051295426112038505,
          0.00506970085641238,
          0.005007507815137037,
          0.004943008120900968,
          0.004876255024999217,
          0.004807310083486426,
          0.004736242808364919,
          0.00466313028546233
         ],
         "yaxis": "y"
        },
        {
         "legendgroup": "Benign",
         "marker": {
          "color": "rgb(31, 119, 180)",
          "symbol": "line-ns-open"
         },
         "mode": "markers",
         "name": "Benign",
         "showlegend": false,
         "type": "scatter",
         "x": [
          13.54,
          13.08,
          9.504,
          13.03,
          8.196,
          12.05,
          13.49,
          11.76,
          13.64,
          11.94,
          11.52,
          13.05,
          8.618,
          10.17,
          8.598,
          9.173,
          9.465,
          11.31,
          9.029,
          12.78,
          8.888,
          12.31,
          13.53,
          12.86,
          11.45,
          13.34,
          12,
          12.36,
          14.64,
          14.62,
          13.27,
          13.45,
          12.18,
          9.787,
          11.6,
          6.981,
          12.18,
          9.876,
          10.49,
          11.64,
          12.36,
          11.34,
          9.777,
          12.63,
          14.26,
          10.51,
          8.726,
          11.93,
          8.95,
          11.41,
          14.5,
          13.37,
          13.85,
          15.1,
          12.19,
          15.71,
          11.71,
          11.43,
          11.28,
          9.738,
          11.43,
          12.9,
          10.75,
          11.9,
          14.95,
          14.44,
          13.74,
          13,
          8.219,
          9.731,
          11.15,
          13.15,
          12.25,
          16.84,
          12.06,
          10.9,
          11.75,
          12.34,
          14.97,
          10.8,
          14.97,
          12.32,
          11.08,
          10.66,
          8.671,
          9.904,
          13.01,
          12.81,
          11.41,
          10.08,
          11.71,
          11.81,
          12.3,
          12.77,
          9.72,
          12.91,
          12.23,
          12.47,
          9.876,
          13.11,
          15.27,
          11.84,
          11.89,
          10.2,
          13.65,
          13.56,
          10.18,
          13.27,
          14.34,
          10.44,
          15,
          12.62,
          11.32,
          11.22,
          9.567,
          14.03,
          14.22,
          13.64,
          12.42,
          11.3,
          13.75,
          10.48,
          13.2,
          12.89,
          10.65,
          11.52,
          11.5,
          10.6,
          13.59,
          12.87,
          10.71,
          14.29,
          11.29,
          9.742,
          11.89,
          11.33,
          13.59,
          13.85,
          11.74,
          12.89,
          12.58,
          11.94,
          12.89,
          11.26,
          11.37,
          14.41,
          14.96,
          12.95,
          11.85,
          12.72,
          13.77,
          10.91,
          14.26,
          10.51,
          12.46,
          10.49,
          11.46,
          11.6,
          13.2,
          9,
          13.5,
          13.05,
          11.7,
          14.61,
          12.76,
          11.54,
          8.597,
          12.49,
          12.18,
          9.042,
          12.43,
          10.25,
          12.86,
          12.2,
          12.67,
          14.11,
          12.03,
          12.98,
          11.22,
          11.25,
          12.3,
          12.99,
          10.05,
          14.42,
          9.606,
          11.06,
          11.71,
          10.26,
          12.06,
          14.76,
          11.47,
          11.95,
          11.66,
          11.14,
          12.56,
          13.05,
          13.87,
          8.878,
          9.436,
          12.54,
          13.3,
          12.76,
          16.5,
          13.4,
          12.21,
          15.19,
          13.69,
          16.17,
          10.57,
          13.46,
          13.66,
          11.27,
          11.04,
          12.05,
          12.39,
          13.28,
          12.21,
          13.88,
          11.27,
          10.26,
          8.734,
          12.1,
          14.06,
          13.51,
          12.8,
          11.06,
          11.8,
          11.93,
          12.96,
          12.94,
          12.34,
          10.94,
          16.14,
          12.85,
          12.27,
          11.36,
          11.04,
          9.397,
          14.99,
          11.89,
          9.405,
          12.7,
          11.16,
          11.57,
          14.69,
          11.61,
          13.66,
          9.742,
          10.03,
          10.48,
          10.8,
          11.13,
          12.72,
          12.4,
          14.86,
          12.87,
          14.04,
          13.85,
          14.02,
          10.97,
          13.78,
          10.57,
          11.99,
          14.8,
          14.53,
          11.87,
          12,
          14.53,
          12.62,
          13.38,
          11.63,
          13.21,
          13,
          9.755,
          14.4,
          11.6,
          13.17,
          13.24,
          13.14,
          9.668,
          11.62,
          9.667,
          12.04,
          14.92,
          12.27,
          10.88,
          12.83,
          14.2,
          13.9,
          11.49,
          12.16,
          13.9,
          13.47,
          13.7,
          15.73,
          12.45,
          14.64,
          11.68,
          12.25,
          17.85,
          12.46,
          13.16,
          14.87,
          12.65,
          12.47,
          15.04,
          12.54,
          9.268,
          9.676,
          12.22,
          11.06,
          16.3,
          11.74,
          14.81,
          14.58,
          11.34,
          12.88,
          12.75,
          9.295,
          11.26,
          13.71,
          9.847,
          8.571,
          13.46,
          12.34,
          13.94,
          12.07,
          11.75,
          11.67,
          13.68,
          10.96,
          11.69,
          7.729,
          7.691,
          11.54,
          14.47,
          14.74,
          13.21,
          13.87,
          13.62,
          10.32,
          10.26,
          9.683,
          10.82,
          10.86,
          11.13,
          12.77,
          9.333,
          12.88,
          10.29,
          10.16,
          9.423,
          14.59,
          11.51,
          14.05,
          11.2,
          7.76
         ],
         "xaxis": "x",
         "y": [
          "Benign",
          "Benign",
          "Benign",
          "Benign",
          "Benign",
          "Benign",
          "Benign",
          "Benign",
          "Benign",
          "Benign",
          "Benign",
          "Benign",
          "Benign",
          "Benign",
          "Benign",
          "Benign",
          "Benign",
          "Benign",
          "Benign",
          "Benign",
          "Benign",
          "Benign",
          "Benign",
          "Benign",
          "Benign",
          "Benign",
          "Benign",
          "Benign",
          "Benign",
          "Benign",
          "Benign",
          "Benign",
          "Benign",
          "Benign",
          "Benign",
          "Benign",
          "Benign",
          "Benign",
          "Benign",
          "Benign",
          "Benign",
          "Benign",
          "Benign",
          "Benign",
          "Benign",
          "Benign",
          "Benign",
          "Benign",
          "Benign",
          "Benign",
          "Benign",
          "Benign",
          "Benign",
          "Benign",
          "Benign",
          "Benign",
          "Benign",
          "Benign",
          "Benign",
          "Benign",
          "Benign",
          "Benign",
          "Benign",
          "Benign",
          "Benign",
          "Benign",
          "Benign",
          "Benign",
          "Benign",
          "Benign",
          "Benign",
          "Benign",
          "Benign",
          "Benign",
          "Benign",
          "Benign",
          "Benign",
          "Benign",
          "Benign",
          "Benign",
          "Benign",
          "Benign",
          "Benign",
          "Benign",
          "Benign",
          "Benign",
          "Benign",
          "Benign",
          "Benign",
          "Benign",
          "Benign",
          "Benign",
          "Benign",
          "Benign",
          "Benign",
          "Benign",
          "Benign",
          "Benign",
          "Benign",
          "Benign",
          "Benign",
          "Benign",
          "Benign",
          "Benign",
          "Benign",
          "Benign",
          "Benign",
          "Benign",
          "Benign",
          "Benign",
          "Benign",
          "Benign",
          "Benign",
          "Benign",
          "Benign",
          "Benign",
          "Benign",
          "Benign",
          "Benign",
          "Benign",
          "Benign",
          "Benign",
          "Benign",
          "Benign",
          "Benign",
          "Benign",
          "Benign",
          "Benign",
          "Benign",
          "Benign",
          "Benign",
          "Benign",
          "Benign",
          "Benign",
          "Benign",
          "Benign",
          "Benign",
          "Benign",
          "Benign",
          "Benign",
          "Benign",
          "Benign",
          "Benign",
          "Benign",
          "Benign",
          "Benign",
          "Benign",
          "Benign",
          "Benign",
          "Benign",
          "Benign",
          "Benign",
          "Benign",
          "Benign",
          "Benign",
          "Benign",
          "Benign",
          "Benign",
          "Benign",
          "Benign",
          "Benign",
          "Benign",
          "Benign",
          "Benign",
          "Benign",
          "Benign",
          "Benign",
          "Benign",
          "Benign",
          "Benign",
          "Benign",
          "Benign",
          "Benign",
          "Benign",
          "Benign",
          "Benign",
          "Benign",
          "Benign",
          "Benign",
          "Benign",
          "Benign",
          "Benign",
          "Benign",
          "Benign",
          "Benign",
          "Benign",
          "Benign",
          "Benign",
          "Benign",
          "Benign",
          "Benign",
          "Benign",
          "Benign",
          "Benign",
          "Benign",
          "Benign",
          "Benign",
          "Benign",
          "Benign",
          "Benign",
          "Benign",
          "Benign",
          "Benign",
          "Benign",
          "Benign",
          "Benign",
          "Benign",
          "Benign",
          "Benign",
          "Benign",
          "Benign",
          "Benign",
          "Benign",
          "Benign",
          "Benign",
          "Benign",
          "Benign",
          "Benign",
          "Benign",
          "Benign",
          "Benign",
          "Benign",
          "Benign",
          "Benign",
          "Benign",
          "Benign",
          "Benign",
          "Benign",
          "Benign",
          "Benign",
          "Benign",
          "Benign",
          "Benign",
          "Benign",
          "Benign",
          "Benign",
          "Benign",
          "Benign",
          "Benign",
          "Benign",
          "Benign",
          "Benign",
          "Benign",
          "Benign",
          "Benign",
          "Benign",
          "Benign",
          "Benign",
          "Benign",
          "Benign",
          "Benign",
          "Benign",
          "Benign",
          "Benign",
          "Benign",
          "Benign",
          "Benign",
          "Benign",
          "Benign",
          "Benign",
          "Benign",
          "Benign",
          "Benign",
          "Benign",
          "Benign",
          "Benign",
          "Benign",
          "Benign",
          "Benign",
          "Benign",
          "Benign",
          "Benign",
          "Benign",
          "Benign",
          "Benign",
          "Benign",
          "Benign",
          "Benign",
          "Benign",
          "Benign",
          "Benign",
          "Benign",
          "Benign",
          "Benign",
          "Benign",
          "Benign",
          "Benign",
          "Benign",
          "Benign",
          "Benign",
          "Benign",
          "Benign",
          "Benign",
          "Benign",
          "Benign",
          "Benign",
          "Benign",
          "Benign",
          "Benign",
          "Benign",
          "Benign",
          "Benign",
          "Benign",
          "Benign",
          "Benign",
          "Benign",
          "Benign",
          "Benign",
          "Benign",
          "Benign",
          "Benign",
          "Benign",
          "Benign",
          "Benign",
          "Benign",
          "Benign",
          "Benign",
          "Benign",
          "Benign",
          "Benign",
          "Benign",
          "Benign",
          "Benign",
          "Benign",
          "Benign",
          "Benign",
          "Benign",
          "Benign",
          "Benign",
          "Benign",
          "Benign",
          "Benign",
          "Benign",
          "Benign",
          "Benign",
          "Benign",
          "Benign",
          "Benign",
          "Benign",
          "Benign",
          "Benign",
          "Benign",
          "Benign",
          "Benign",
          "Benign",
          "Benign",
          "Benign",
          "Benign",
          "Benign",
          "Benign",
          "Benign",
          "Benign",
          "Benign",
          "Benign",
          "Benign",
          "Benign",
          "Benign"
         ],
         "yaxis": "y2"
        },
        {
         "legendgroup": "Malignant",
         "marker": {
          "color": "rgb(255, 127, 14)",
          "symbol": "line-ns-open"
         },
         "mode": "markers",
         "name": "Malignant",
         "showlegend": false,
         "type": "scatter",
         "x": [
          17.99,
          20.57,
          19.69,
          11.42,
          20.29,
          12.45,
          18.25,
          13.71,
          13,
          12.46,
          16.02,
          15.78,
          19.17,
          15.85,
          13.73,
          14.54,
          14.68,
          16.13,
          19.81,
          15.34,
          21.16,
          16.65,
          17.14,
          14.58,
          18.61,
          15.3,
          17.57,
          18.63,
          11.84,
          17.02,
          19.27,
          16.13,
          16.74,
          14.25,
          14.99,
          13.48,
          13.44,
          10.95,
          19.07,
          13.28,
          13.17,
          18.65,
          13.17,
          18.22,
          15.1,
          19.21,
          14.71,
          14.25,
          12.68,
          14.78,
          18.94,
          17.2,
          13.8,
          16.07,
          18.05,
          20.18,
          25.22,
          19.1,
          18.46,
          14.48,
          19.02,
          15.37,
          15.06,
          20.26,
          14.42,
          13.61,
          13.11,
          22.27,
          14.87,
          15.78,
          17.95,
          18.66,
          24.25,
          13.61,
          19,
          19.79,
          15.46,
          16.16,
          18.45,
          12.77,
          14.95,
          16.11,
          11.8,
          17.68,
          19.19,
          19.59,
          23.27,
          16.78,
          17.47,
          13.43,
          15.46,
          16.46,
          27.22,
          21.09,
          15.7,
          15.28,
          18.31,
          14.22,
          12.34,
          14.86,
          13.77,
          18.08,
          19.18,
          14.45,
          17.54,
          23.29,
          13.81,
          15.12,
          17.01,
          20.58,
          28.11,
          17.42,
          14.19,
          13.86,
          19.8,
          19.53,
          15.75,
          12.83,
          17.05,
          20.51,
          23.21,
          20.48,
          17.46,
          19.4,
          20.94,
          19.73,
          17.3,
          19.45,
          13.96,
          19.55,
          15.32,
          15.66,
          15.53,
          20.31,
          17.35,
          17.29,
          15.61,
          17.19,
          20.73,
          21.75,
          17.93,
          18.81,
          19.16,
          19.4,
          16.24,
          11.76,
          19.53,
          20.09,
          18.22,
          20.16,
          20.34,
          16.27,
          16.26,
          16.03,
          17.06,
          18.77,
          23.51,
          19.68,
          15.75,
          25.73,
          15.08,
          20.44,
          20.2,
          21.71,
          22.01,
          16.35,
          21.37,
          20.64,
          11.08,
          14.6,
          19.55,
          15.49,
          21.61,
          17.91,
          17.99,
          15.13,
          15.5,
          14.9,
          20.18,
          18.82,
          13.98,
          17.27,
          18.03,
          17.75,
          21.1,
          19.59,
          17.08,
          27.42,
          17.6,
          16.25,
          19.44,
          16.69,
          18.01,
          18.49,
          20.59,
          13.82,
          23.09,
          15.46,
          13.4,
          15.05,
          18.31,
          19.89,
          24.63,
          20.47,
          20.55,
          14.27,
          15.22,
          20.92,
          21.56,
          20.13,
          16.6,
          20.6
         ],
         "xaxis": "x",
         "y": [
          "Malignant",
          "Malignant",
          "Malignant",
          "Malignant",
          "Malignant",
          "Malignant",
          "Malignant",
          "Malignant",
          "Malignant",
          "Malignant",
          "Malignant",
          "Malignant",
          "Malignant",
          "Malignant",
          "Malignant",
          "Malignant",
          "Malignant",
          "Malignant",
          "Malignant",
          "Malignant",
          "Malignant",
          "Malignant",
          "Malignant",
          "Malignant",
          "Malignant",
          "Malignant",
          "Malignant",
          "Malignant",
          "Malignant",
          "Malignant",
          "Malignant",
          "Malignant",
          "Malignant",
          "Malignant",
          "Malignant",
          "Malignant",
          "Malignant",
          "Malignant",
          "Malignant",
          "Malignant",
          "Malignant",
          "Malignant",
          "Malignant",
          "Malignant",
          "Malignant",
          "Malignant",
          "Malignant",
          "Malignant",
          "Malignant",
          "Malignant",
          "Malignant",
          "Malignant",
          "Malignant",
          "Malignant",
          "Malignant",
          "Malignant",
          "Malignant",
          "Malignant",
          "Malignant",
          "Malignant",
          "Malignant",
          "Malignant",
          "Malignant",
          "Malignant",
          "Malignant",
          "Malignant",
          "Malignant",
          "Malignant",
          "Malignant",
          "Malignant",
          "Malignant",
          "Malignant",
          "Malignant",
          "Malignant",
          "Malignant",
          "Malignant",
          "Malignant",
          "Malignant",
          "Malignant",
          "Malignant",
          "Malignant",
          "Malignant",
          "Malignant",
          "Malignant",
          "Malignant",
          "Malignant",
          "Malignant",
          "Malignant",
          "Malignant",
          "Malignant",
          "Malignant",
          "Malignant",
          "Malignant",
          "Malignant",
          "Malignant",
          "Malignant",
          "Malignant",
          "Malignant",
          "Malignant",
          "Malignant",
          "Malignant",
          "Malignant",
          "Malignant",
          "Malignant",
          "Malignant",
          "Malignant",
          "Malignant",
          "Malignant",
          "Malignant",
          "Malignant",
          "Malignant",
          "Malignant",
          "Malignant",
          "Malignant",
          "Malignant",
          "Malignant",
          "Malignant",
          "Malignant",
          "Malignant",
          "Malignant",
          "Malignant",
          "Malignant",
          "Malignant",
          "Malignant",
          "Malignant",
          "Malignant",
          "Malignant",
          "Malignant",
          "Malignant",
          "Malignant",
          "Malignant",
          "Malignant",
          "Malignant",
          "Malignant",
          "Malignant",
          "Malignant",
          "Malignant",
          "Malignant",
          "Malignant",
          "Malignant",
          "Malignant",
          "Malignant",
          "Malignant",
          "Malignant",
          "Malignant",
          "Malignant",
          "Malignant",
          "Malignant",
          "Malignant",
          "Malignant",
          "Malignant",
          "Malignant",
          "Malignant",
          "Malignant",
          "Malignant",
          "Malignant",
          "Malignant",
          "Malignant",
          "Malignant",
          "Malignant",
          "Malignant",
          "Malignant",
          "Malignant",
          "Malignant",
          "Malignant",
          "Malignant",
          "Malignant",
          "Malignant",
          "Malignant",
          "Malignant",
          "Malignant",
          "Malignant",
          "Malignant",
          "Malignant",
          "Malignant",
          "Malignant",
          "Malignant",
          "Malignant",
          "Malignant",
          "Malignant",
          "Malignant",
          "Malignant",
          "Malignant",
          "Malignant",
          "Malignant",
          "Malignant",
          "Malignant",
          "Malignant",
          "Malignant",
          "Malignant",
          "Malignant",
          "Malignant",
          "Malignant",
          "Malignant",
          "Malignant",
          "Malignant",
          "Malignant",
          "Malignant",
          "Malignant",
          "Malignant",
          "Malignant",
          "Malignant",
          "Malignant",
          "Malignant",
          "Malignant",
          "Malignant",
          "Malignant",
          "Malignant",
          "Malignant",
          "Malignant",
          "Malignant",
          "Malignant"
         ],
         "yaxis": "y2"
        }
       ],
       "layout": {
        "barmode": "overlay",
        "hovermode": "closest",
        "legend": {
         "traceorder": "reversed"
        },
        "template": {
         "data": {
          "bar": [
           {
            "error_x": {
             "color": "#2a3f5f"
            },
            "error_y": {
             "color": "#2a3f5f"
            },
            "marker": {
             "line": {
              "color": "#E5ECF6",
              "width": 0.5
             }
            },
            "type": "bar"
           }
          ],
          "barpolar": [
           {
            "marker": {
             "line": {
              "color": "#E5ECF6",
              "width": 0.5
             }
            },
            "type": "barpolar"
           }
          ],
          "carpet": [
           {
            "aaxis": {
             "endlinecolor": "#2a3f5f",
             "gridcolor": "white",
             "linecolor": "white",
             "minorgridcolor": "white",
             "startlinecolor": "#2a3f5f"
            },
            "baxis": {
             "endlinecolor": "#2a3f5f",
             "gridcolor": "white",
             "linecolor": "white",
             "minorgridcolor": "white",
             "startlinecolor": "#2a3f5f"
            },
            "type": "carpet"
           }
          ],
          "choropleth": [
           {
            "colorbar": {
             "outlinewidth": 0,
             "ticks": ""
            },
            "type": "choropleth"
           }
          ],
          "contour": [
           {
            "colorbar": {
             "outlinewidth": 0,
             "ticks": ""
            },
            "colorscale": [
             [
              0,
              "#0d0887"
             ],
             [
              0.1111111111111111,
              "#46039f"
             ],
             [
              0.2222222222222222,
              "#7201a8"
             ],
             [
              0.3333333333333333,
              "#9c179e"
             ],
             [
              0.4444444444444444,
              "#bd3786"
             ],
             [
              0.5555555555555556,
              "#d8576b"
             ],
             [
              0.6666666666666666,
              "#ed7953"
             ],
             [
              0.7777777777777778,
              "#fb9f3a"
             ],
             [
              0.8888888888888888,
              "#fdca26"
             ],
             [
              1,
              "#f0f921"
             ]
            ],
            "type": "contour"
           }
          ],
          "contourcarpet": [
           {
            "colorbar": {
             "outlinewidth": 0,
             "ticks": ""
            },
            "type": "contourcarpet"
           }
          ],
          "heatmap": [
           {
            "colorbar": {
             "outlinewidth": 0,
             "ticks": ""
            },
            "colorscale": [
             [
              0,
              "#0d0887"
             ],
             [
              0.1111111111111111,
              "#46039f"
             ],
             [
              0.2222222222222222,
              "#7201a8"
             ],
             [
              0.3333333333333333,
              "#9c179e"
             ],
             [
              0.4444444444444444,
              "#bd3786"
             ],
             [
              0.5555555555555556,
              "#d8576b"
             ],
             [
              0.6666666666666666,
              "#ed7953"
             ],
             [
              0.7777777777777778,
              "#fb9f3a"
             ],
             [
              0.8888888888888888,
              "#fdca26"
             ],
             [
              1,
              "#f0f921"
             ]
            ],
            "type": "heatmap"
           }
          ],
          "heatmapgl": [
           {
            "colorbar": {
             "outlinewidth": 0,
             "ticks": ""
            },
            "colorscale": [
             [
              0,
              "#0d0887"
             ],
             [
              0.1111111111111111,
              "#46039f"
             ],
             [
              0.2222222222222222,
              "#7201a8"
             ],
             [
              0.3333333333333333,
              "#9c179e"
             ],
             [
              0.4444444444444444,
              "#bd3786"
             ],
             [
              0.5555555555555556,
              "#d8576b"
             ],
             [
              0.6666666666666666,
              "#ed7953"
             ],
             [
              0.7777777777777778,
              "#fb9f3a"
             ],
             [
              0.8888888888888888,
              "#fdca26"
             ],
             [
              1,
              "#f0f921"
             ]
            ],
            "type": "heatmapgl"
           }
          ],
          "histogram": [
           {
            "marker": {
             "colorbar": {
              "outlinewidth": 0,
              "ticks": ""
             }
            },
            "type": "histogram"
           }
          ],
          "histogram2d": [
           {
            "colorbar": {
             "outlinewidth": 0,
             "ticks": ""
            },
            "colorscale": [
             [
              0,
              "#0d0887"
             ],
             [
              0.1111111111111111,
              "#46039f"
             ],
             [
              0.2222222222222222,
              "#7201a8"
             ],
             [
              0.3333333333333333,
              "#9c179e"
             ],
             [
              0.4444444444444444,
              "#bd3786"
             ],
             [
              0.5555555555555556,
              "#d8576b"
             ],
             [
              0.6666666666666666,
              "#ed7953"
             ],
             [
              0.7777777777777778,
              "#fb9f3a"
             ],
             [
              0.8888888888888888,
              "#fdca26"
             ],
             [
              1,
              "#f0f921"
             ]
            ],
            "type": "histogram2d"
           }
          ],
          "histogram2dcontour": [
           {
            "colorbar": {
             "outlinewidth": 0,
             "ticks": ""
            },
            "colorscale": [
             [
              0,
              "#0d0887"
             ],
             [
              0.1111111111111111,
              "#46039f"
             ],
             [
              0.2222222222222222,
              "#7201a8"
             ],
             [
              0.3333333333333333,
              "#9c179e"
             ],
             [
              0.4444444444444444,
              "#bd3786"
             ],
             [
              0.5555555555555556,
              "#d8576b"
             ],
             [
              0.6666666666666666,
              "#ed7953"
             ],
             [
              0.7777777777777778,
              "#fb9f3a"
             ],
             [
              0.8888888888888888,
              "#fdca26"
             ],
             [
              1,
              "#f0f921"
             ]
            ],
            "type": "histogram2dcontour"
           }
          ],
          "mesh3d": [
           {
            "colorbar": {
             "outlinewidth": 0,
             "ticks": ""
            },
            "type": "mesh3d"
           }
          ],
          "parcoords": [
           {
            "line": {
             "colorbar": {
              "outlinewidth": 0,
              "ticks": ""
             }
            },
            "type": "parcoords"
           }
          ],
          "pie": [
           {
            "automargin": true,
            "type": "pie"
           }
          ],
          "scatter": [
           {
            "marker": {
             "colorbar": {
              "outlinewidth": 0,
              "ticks": ""
             }
            },
            "type": "scatter"
           }
          ],
          "scatter3d": [
           {
            "line": {
             "colorbar": {
              "outlinewidth": 0,
              "ticks": ""
             }
            },
            "marker": {
             "colorbar": {
              "outlinewidth": 0,
              "ticks": ""
             }
            },
            "type": "scatter3d"
           }
          ],
          "scattercarpet": [
           {
            "marker": {
             "colorbar": {
              "outlinewidth": 0,
              "ticks": ""
             }
            },
            "type": "scattercarpet"
           }
          ],
          "scattergeo": [
           {
            "marker": {
             "colorbar": {
              "outlinewidth": 0,
              "ticks": ""
             }
            },
            "type": "scattergeo"
           }
          ],
          "scattergl": [
           {
            "marker": {
             "colorbar": {
              "outlinewidth": 0,
              "ticks": ""
             }
            },
            "type": "scattergl"
           }
          ],
          "scattermapbox": [
           {
            "marker": {
             "colorbar": {
              "outlinewidth": 0,
              "ticks": ""
             }
            },
            "type": "scattermapbox"
           }
          ],
          "scatterpolar": [
           {
            "marker": {
             "colorbar": {
              "outlinewidth": 0,
              "ticks": ""
             }
            },
            "type": "scatterpolar"
           }
          ],
          "scatterpolargl": [
           {
            "marker": {
             "colorbar": {
              "outlinewidth": 0,
              "ticks": ""
             }
            },
            "type": "scatterpolargl"
           }
          ],
          "scatterternary": [
           {
            "marker": {
             "colorbar": {
              "outlinewidth": 0,
              "ticks": ""
             }
            },
            "type": "scatterternary"
           }
          ],
          "surface": [
           {
            "colorbar": {
             "outlinewidth": 0,
             "ticks": ""
            },
            "colorscale": [
             [
              0,
              "#0d0887"
             ],
             [
              0.1111111111111111,
              "#46039f"
             ],
             [
              0.2222222222222222,
              "#7201a8"
             ],
             [
              0.3333333333333333,
              "#9c179e"
             ],
             [
              0.4444444444444444,
              "#bd3786"
             ],
             [
              0.5555555555555556,
              "#d8576b"
             ],
             [
              0.6666666666666666,
              "#ed7953"
             ],
             [
              0.7777777777777778,
              "#fb9f3a"
             ],
             [
              0.8888888888888888,
              "#fdca26"
             ],
             [
              1,
              "#f0f921"
             ]
            ],
            "type": "surface"
           }
          ],
          "table": [
           {
            "cells": {
             "fill": {
              "color": "#EBF0F8"
             },
             "line": {
              "color": "white"
             }
            },
            "header": {
             "fill": {
              "color": "#C8D4E3"
             },
             "line": {
              "color": "white"
             }
            },
            "type": "table"
           }
          ]
         },
         "layout": {
          "annotationdefaults": {
           "arrowcolor": "#2a3f5f",
           "arrowhead": 0,
           "arrowwidth": 1
          },
          "coloraxis": {
           "colorbar": {
            "outlinewidth": 0,
            "ticks": ""
           }
          },
          "colorscale": {
           "diverging": [
            [
             0,
             "#8e0152"
            ],
            [
             0.1,
             "#c51b7d"
            ],
            [
             0.2,
             "#de77ae"
            ],
            [
             0.3,
             "#f1b6da"
            ],
            [
             0.4,
             "#fde0ef"
            ],
            [
             0.5,
             "#f7f7f7"
            ],
            [
             0.6,
             "#e6f5d0"
            ],
            [
             0.7,
             "#b8e186"
            ],
            [
             0.8,
             "#7fbc41"
            ],
            [
             0.9,
             "#4d9221"
            ],
            [
             1,
             "#276419"
            ]
           ],
           "sequential": [
            [
             0,
             "#0d0887"
            ],
            [
             0.1111111111111111,
             "#46039f"
            ],
            [
             0.2222222222222222,
             "#7201a8"
            ],
            [
             0.3333333333333333,
             "#9c179e"
            ],
            [
             0.4444444444444444,
             "#bd3786"
            ],
            [
             0.5555555555555556,
             "#d8576b"
            ],
            [
             0.6666666666666666,
             "#ed7953"
            ],
            [
             0.7777777777777778,
             "#fb9f3a"
            ],
            [
             0.8888888888888888,
             "#fdca26"
            ],
            [
             1,
             "#f0f921"
            ]
           ],
           "sequentialminus": [
            [
             0,
             "#0d0887"
            ],
            [
             0.1111111111111111,
             "#46039f"
            ],
            [
             0.2222222222222222,
             "#7201a8"
            ],
            [
             0.3333333333333333,
             "#9c179e"
            ],
            [
             0.4444444444444444,
             "#bd3786"
            ],
            [
             0.5555555555555556,
             "#d8576b"
            ],
            [
             0.6666666666666666,
             "#ed7953"
            ],
            [
             0.7777777777777778,
             "#fb9f3a"
            ],
            [
             0.8888888888888888,
             "#fdca26"
            ],
            [
             1,
             "#f0f921"
            ]
           ]
          },
          "colorway": [
           "#636efa",
           "#EF553B",
           "#00cc96",
           "#ab63fa",
           "#FFA15A",
           "#19d3f3",
           "#FF6692",
           "#B6E880",
           "#FF97FF",
           "#FECB52"
          ],
          "font": {
           "color": "#2a3f5f"
          },
          "geo": {
           "bgcolor": "white",
           "lakecolor": "white",
           "landcolor": "#E5ECF6",
           "showlakes": true,
           "showland": true,
           "subunitcolor": "white"
          },
          "hoverlabel": {
           "align": "left"
          },
          "hovermode": "closest",
          "mapbox": {
           "style": "light"
          },
          "paper_bgcolor": "white",
          "plot_bgcolor": "#E5ECF6",
          "polar": {
           "angularaxis": {
            "gridcolor": "white",
            "linecolor": "white",
            "ticks": ""
           },
           "bgcolor": "#E5ECF6",
           "radialaxis": {
            "gridcolor": "white",
            "linecolor": "white",
            "ticks": ""
           }
          },
          "scene": {
           "xaxis": {
            "backgroundcolor": "#E5ECF6",
            "gridcolor": "white",
            "gridwidth": 2,
            "linecolor": "white",
            "showbackground": true,
            "ticks": "",
            "zerolinecolor": "white"
           },
           "yaxis": {
            "backgroundcolor": "#E5ECF6",
            "gridcolor": "white",
            "gridwidth": 2,
            "linecolor": "white",
            "showbackground": true,
            "ticks": "",
            "zerolinecolor": "white"
           },
           "zaxis": {
            "backgroundcolor": "#E5ECF6",
            "gridcolor": "white",
            "gridwidth": 2,
            "linecolor": "white",
            "showbackground": true,
            "ticks": "",
            "zerolinecolor": "white"
           }
          },
          "shapedefaults": {
           "line": {
            "color": "#2a3f5f"
           }
          },
          "ternary": {
           "aaxis": {
            "gridcolor": "white",
            "linecolor": "white",
            "ticks": ""
           },
           "baxis": {
            "gridcolor": "white",
            "linecolor": "white",
            "ticks": ""
           },
           "bgcolor": "#E5ECF6",
           "caxis": {
            "gridcolor": "white",
            "linecolor": "white",
            "ticks": ""
           }
          },
          "title": {
           "x": 0.05
          },
          "xaxis": {
           "automargin": true,
           "gridcolor": "white",
           "linecolor": "white",
           "ticks": "",
           "title": {
            "standoff": 15
           },
           "zerolinecolor": "white",
           "zerolinewidth": 2
          },
          "yaxis": {
           "automargin": true,
           "gridcolor": "white",
           "linecolor": "white",
           "ticks": "",
           "title": {
            "standoff": 15
           },
           "zerolinecolor": "white",
           "zerolinewidth": 2
          }
         }
        },
        "xaxis": {
         "anchor": "y2",
         "domain": [
          0,
          1
         ],
         "zeroline": false
        },
        "yaxis": {
         "anchor": "free",
         "domain": [
          0.35,
          1
         ],
         "position": 0
        },
        "yaxis2": {
         "anchor": "x",
         "domain": [
          0,
          0.25
         ],
         "dtick": 1,
         "showticklabels": false
        }
       }
      },
      "text/html": [
       "<div>\n",
       "        \n",
       "        \n",
       "            <div id=\"5ec532b5-da14-407c-b4eb-68c7fa77f2a4\" class=\"plotly-graph-div\" style=\"height:525px; width:100%;\"></div>\n",
       "            <script type=\"text/javascript\">\n",
       "                require([\"plotly\"], function(Plotly) {\n",
       "                    window.PLOTLYENV=window.PLOTLYENV || {};\n",
       "                    \n",
       "                if (document.getElementById(\"5ec532b5-da14-407c-b4eb-68c7fa77f2a4\")) {\n",
       "                    Plotly.newPlot(\n",
       "                        '5ec532b5-da14-407c-b4eb-68c7fa77f2a4',\n",
       "                        [{\"autobinx\": false, \"histnorm\": \"probability density\", \"legendgroup\": \"Benign\", \"marker\": {\"color\": \"rgb(31, 119, 180)\"}, \"name\": \"Benign\", \"opacity\": 0.7, \"type\": \"histogram\", \"x\": [13.54, 13.08, 9.504, 13.03, 8.196, 12.05, 13.49, 11.76, 13.64, 11.94, 11.52, 13.05, 8.618, 10.17, 8.598, 9.173, 9.465, 11.31, 9.029, 12.78, 8.888, 12.31, 13.53, 12.86, 11.45, 13.34, 12.0, 12.36, 14.64, 14.62, 13.27, 13.45, 12.18, 9.787, 11.6, 6.981, 12.18, 9.876, 10.49, 11.64, 12.36, 11.34, 9.777, 12.63, 14.26, 10.51, 8.726, 11.93, 8.95, 11.41, 14.5, 13.37, 13.85, 15.1, 12.19, 15.71, 11.71, 11.43, 11.28, 9.738, 11.43, 12.9, 10.75, 11.9, 14.95, 14.44, 13.74, 13.0, 8.219, 9.731, 11.15, 13.15, 12.25, 16.84, 12.06, 10.9, 11.75, 12.34, 14.97, 10.8, 14.97, 12.32, 11.08, 10.66, 8.671, 9.904, 13.01, 12.81, 11.41, 10.08, 11.71, 11.81, 12.3, 12.77, 9.72, 12.91, 12.23, 12.47, 9.876, 13.11, 15.27, 11.84, 11.89, 10.2, 13.65, 13.56, 10.18, 13.27, 14.34, 10.44, 15.0, 12.62, 11.32, 11.22, 9.567, 14.03, 14.22, 13.64, 12.42, 11.3, 13.75, 10.48, 13.2, 12.89, 10.65, 11.52, 11.5, 10.6, 13.59, 12.87, 10.71, 14.29, 11.29, 9.742, 11.89, 11.33, 13.59, 13.85, 11.74, 12.89, 12.58, 11.94, 12.89, 11.26, 11.37, 14.41, 14.96, 12.95, 11.85, 12.72, 13.77, 10.91, 14.26, 10.51, 12.46, 10.49, 11.46, 11.6, 13.2, 9.0, 13.5, 13.05, 11.7, 14.61, 12.76, 11.54, 8.597, 12.49, 12.18, 9.042, 12.43, 10.25, 12.86, 12.2, 12.67, 14.11, 12.03, 12.98, 11.22, 11.25, 12.3, 12.99, 10.05, 14.42, 9.606, 11.06, 11.71, 10.26, 12.06, 14.76, 11.47, 11.95, 11.66, 11.14, 12.56, 13.05, 13.87, 8.878, 9.436, 12.54, 13.3, 12.76, 16.5, 13.4, 12.21, 15.19, 13.69, 16.17, 10.57, 13.46, 13.66, 11.27, 11.04, 12.05, 12.39, 13.28, 12.21, 13.88, 11.27, 10.26, 8.734, 12.1, 14.06, 13.51, 12.8, 11.06, 11.8, 11.93, 12.96, 12.94, 12.34, 10.94, 16.14, 12.85, 12.27, 11.36, 11.04, 9.397, 14.99, 11.89, 9.405, 12.7, 11.16, 11.57, 14.69, 11.61, 13.66, 9.742, 10.03, 10.48, 10.8, 11.13, 12.72, 12.4, 14.86, 12.87, 14.04, 13.85, 14.02, 10.97, 13.78, 10.57, 11.99, 14.8, 14.53, 11.87, 12.0, 14.53, 12.62, 13.38, 11.63, 13.21, 13.0, 9.755, 14.4, 11.6, 13.17, 13.24, 13.14, 9.668, 11.62, 9.667, 12.04, 14.92, 12.27, 10.88, 12.83, 14.2, 13.9, 11.49, 12.16, 13.9, 13.47, 13.7, 15.73, 12.45, 14.64, 11.68, 12.25, 17.85, 12.46, 13.16, 14.87, 12.65, 12.47, 15.04, 12.54, 9.268, 9.676, 12.22, 11.06, 16.3, 11.74, 14.81, 14.58, 11.34, 12.88, 12.75, 9.295, 11.26, 13.71, 9.847, 8.571, 13.46, 12.34, 13.94, 12.07, 11.75, 11.67, 13.68, 10.96, 11.69, 7.729, 7.691, 11.54, 14.47, 14.74, 13.21, 13.87, 13.62, 10.32, 10.26, 9.683, 10.82, 10.86, 11.13, 12.77, 9.333, 12.88, 10.29, 10.16, 9.423, 14.59, 11.51, 14.05, 11.2, 7.76], \"xaxis\": \"x\", \"xbins\": {\"end\": 17.85, \"size\": 0.5, \"start\": 6.981}, \"yaxis\": \"y\"}, {\"autobinx\": false, \"histnorm\": \"probability density\", \"legendgroup\": \"Malignant\", \"marker\": {\"color\": \"rgb(255, 127, 14)\"}, \"name\": \"Malignant\", \"opacity\": 0.7, \"type\": \"histogram\", \"x\": [17.99, 20.57, 19.69, 11.42, 20.29, 12.45, 18.25, 13.71, 13.0, 12.46, 16.02, 15.78, 19.17, 15.85, 13.73, 14.54, 14.68, 16.13, 19.81, 15.34, 21.16, 16.65, 17.14, 14.58, 18.61, 15.3, 17.57, 18.63, 11.84, 17.02, 19.27, 16.13, 16.74, 14.25, 14.99, 13.48, 13.44, 10.95, 19.07, 13.28, 13.17, 18.65, 13.17, 18.22, 15.1, 19.21, 14.71, 14.25, 12.68, 14.78, 18.94, 17.2, 13.8, 16.07, 18.05, 20.18, 25.22, 19.1, 18.46, 14.48, 19.02, 15.37, 15.06, 20.26, 14.42, 13.61, 13.11, 22.27, 14.87, 15.78, 17.95, 18.66, 24.25, 13.61, 19.0, 19.79, 15.46, 16.16, 18.45, 12.77, 14.95, 16.11, 11.8, 17.68, 19.19, 19.59, 23.27, 16.78, 17.47, 13.43, 15.46, 16.46, 27.22, 21.09, 15.7, 15.28, 18.31, 14.22, 12.34, 14.86, 13.77, 18.08, 19.18, 14.45, 17.54, 23.29, 13.81, 15.12, 17.01, 20.58, 28.11, 17.42, 14.19, 13.86, 19.8, 19.53, 15.75, 12.83, 17.05, 20.51, 23.21, 20.48, 17.46, 19.4, 20.94, 19.73, 17.3, 19.45, 13.96, 19.55, 15.32, 15.66, 15.53, 20.31, 17.35, 17.29, 15.61, 17.19, 20.73, 21.75, 17.93, 18.81, 19.16, 19.4, 16.24, 11.76, 19.53, 20.09, 18.22, 20.16, 20.34, 16.27, 16.26, 16.03, 17.06, 18.77, 23.51, 19.68, 15.75, 25.73, 15.08, 20.44, 20.2, 21.71, 22.01, 16.35, 21.37, 20.64, 11.08, 14.6, 19.55, 15.49, 21.61, 17.91, 17.99, 15.13, 15.5, 14.9, 20.18, 18.82, 13.98, 17.27, 18.03, 17.75, 21.1, 19.59, 17.08, 27.42, 17.6, 16.25, 19.44, 16.69, 18.01, 18.49, 20.59, 13.82, 23.09, 15.46, 13.4, 15.05, 18.31, 19.89, 24.63, 20.47, 20.55, 14.27, 15.22, 20.92, 21.56, 20.13, 16.6, 20.6], \"xaxis\": \"x\", \"xbins\": {\"end\": 28.11, \"size\": 0.5, \"start\": 10.95}, \"yaxis\": \"y\"}, {\"legendgroup\": \"Benign\", \"marker\": {\"color\": \"rgb(31, 119, 180)\"}, \"mode\": \"lines\", \"name\": \"Benign\", \"showlegend\": false, \"type\": \"scatter\", \"x\": [6.981, 7.002738, 7.024476, 7.046214, 7.067952, 7.08969, 7.111428, 7.133166, 7.154904, 7.176642, 7.19838, 7.220118, 7.241856, 7.263594, 7.285332, 7.3070699999999995, 7.3288079999999995, 7.350546, 7.372284, 7.394022, 7.41576, 7.437498, 7.459236, 7.480974, 7.502712, 7.52445, 7.546188, 7.567926, 7.589664, 7.611402, 7.63314, 7.654878, 7.676616, 7.698354, 7.720092, 7.74183, 7.763568, 7.785306, 7.807044, 7.828782, 7.8505199999999995, 7.872258, 7.893996, 7.9157340000000005, 7.937472, 7.95921, 7.980948, 8.002686, 8.024424, 8.046162, 8.0679, 8.089638, 8.111376, 8.133114, 8.154852, 8.176590000000001, 8.198328, 8.220066, 8.241804, 8.263542, 8.28528, 8.307018, 8.328756, 8.350494, 8.372232, 8.39397, 8.415708, 8.437446, 8.459184, 8.480922, 8.50266, 8.524398, 8.546136, 8.567874, 8.589612, 8.61135, 8.633088, 8.654826, 8.676564, 8.698302, 8.720040000000001, 8.741778, 8.763516, 8.785254, 8.806992000000001, 8.82873, 8.850468, 8.872206, 8.893944, 8.915682, 8.93742, 8.959158, 8.980896, 9.002634, 9.024372, 9.04611, 9.067848, 9.089586, 9.111324, 9.133062, 9.1548, 9.176538, 9.198276, 9.220013999999999, 9.241752, 9.263490000000001, 9.285228, 9.306966, 9.328704, 9.350442000000001, 9.37218, 9.393918, 9.415656, 9.437394000000001, 9.459132, 9.48087, 9.502608, 9.524346000000001, 9.546084, 9.567822, 9.58956, 9.611298, 9.633036, 9.654774, 9.676512, 9.69825, 9.719988, 9.741726, 9.763464, 9.785202, 9.80694, 9.828678, 9.850416000000001, 9.872154, 9.893892000000001, 9.91563, 9.937368, 9.959106, 9.980844000000001, 10.002582, 10.02432, 10.046058, 10.067796, 10.089534, 10.111272, 10.13301, 10.154748000000001, 10.176486, 10.198224, 10.219962, 10.2417, 10.263438, 10.285176, 10.306914, 10.328652, 10.35039, 10.372128, 10.393866000000001, 10.415604, 10.437342000000001, 10.45908, 10.480818000000001, 10.502556, 10.524294000000001, 10.546032, 10.56777, 10.589508, 10.611246000000001, 10.632984, 10.654722, 10.67646, 10.698198, 10.719936, 10.741674, 10.763412, 10.78515, 10.806888, 10.828626, 10.850364, 10.872102000000002, 10.89384, 10.915578, 10.937316000000001, 10.959054, 10.980792000000001, 11.00253, 11.024268, 11.046006, 11.067744000000001, 11.089482, 11.11122, 11.132958, 11.154696000000001, 11.176434, 11.198172, 11.21991, 11.241648000000001, 11.263386, 11.285124, 11.306862, 11.328600000000002, 11.350338, 11.372076, 11.393813999999999, 11.415552000000002, 11.43729, 11.459028, 11.480766, 11.502504000000002, 11.524242000000001, 11.54598, 11.567718000000001, 11.589456000000002, 11.611194000000001, 11.632932, 11.654670000000001, 11.676408, 11.698146000000001, 11.719884, 11.741622, 11.76336, 11.785098000000001, 11.806836, 11.828574, 11.850312, 11.872050000000002, 11.893788, 11.915526, 11.937264, 11.959002, 11.98074, 12.002478, 12.024216, 12.045954000000002, 12.067692000000001, 12.08943, 12.111168, 12.132906000000002, 12.154644000000001, 12.176382, 12.19812, 12.219858000000002, 12.241596000000001, 12.263334, 12.285072000000001, 12.30681, 12.328548000000001, 12.350286, 12.372024, 12.393762, 12.415500000000002, 12.437238, 12.458976, 12.480714, 12.502452000000002, 12.52419, 12.545928, 12.567666000000001, 12.589404, 12.611142000000001, 12.63288, 12.654618, 12.676356, 12.698094000000001, 12.719832, 12.74157, 12.763308000000002, 12.785046000000001, 12.806784, 12.828522, 12.850260000000002, 12.871998000000001, 12.893736, 12.915474, 12.937212, 12.958950000000002, 12.980688, 13.002426000000002, 13.024164, 13.045902000000002, 13.06764, 13.089378, 13.111116, 13.132854000000002, 13.154592000000001, 13.17633, 13.198068000000001, 13.219806, 13.241544000000001, 13.263282, 13.285020000000001, 13.306758, 13.328496000000001, 13.350234, 13.371972, 13.39371, 13.415448000000001, 13.437186, 13.458924, 13.480662000000002, 13.502400000000002, 13.524138, 13.545876, 13.567614, 13.589352000000002, 13.61109, 13.632828, 13.654566, 13.676304000000002, 13.698042000000001, 13.71978, 13.741518000000001, 13.763256000000002, 13.784994000000001, 13.806732, 13.828470000000001, 13.850208, 13.871946000000001, 13.893684, 13.915422000000001, 13.93716, 13.958898000000001, 13.980636, 14.002374, 14.024112, 14.045850000000002, 14.067588, 14.089326, 14.111064, 14.132802000000002, 14.15454, 14.176278, 14.198016000000003, 14.219754000000002, 14.241492000000001, 14.26323, 14.284968000000001, 14.306706000000002, 14.328444000000001, 14.350182, 14.371920000000001, 14.393658000000002, 14.415396000000001, 14.437134, 14.458872000000001, 14.480610000000002, 14.502348000000001, 14.524086, 14.545824000000001, 14.567562, 14.589300000000001, 14.611038, 14.632776, 14.654514, 14.676252000000002, 14.69799, 14.719728, 14.741466, 14.763204000000002, 14.784942000000001, 14.80668, 14.828418000000001, 14.850156000000002, 14.871894000000001, 14.893632, 14.91537, 14.937108000000002, 14.958846000000001, 14.980584, 15.002322000000001, 15.02406, 15.045798000000001, 15.067536, 15.089274000000001, 15.111012, 15.132750000000001, 15.154488, 15.176226, 15.197964000000002, 15.219702000000002, 15.24144, 15.263178000000002, 15.284916, 15.306654, 15.328392000000001, 15.35013, 15.371868000000001, 15.393606000000002, 15.415344000000001, 15.437082, 15.458820000000001, 15.480558, 15.502296000000001, 15.524034000000002, 15.545772000000001, 15.567510000000002, 15.589248000000001, 15.610986, 15.632724000000001, 15.654462, 15.676200000000001, 15.697938000000002, 15.719676000000002, 15.741414, 15.763152000000002, 15.78489, 15.806628, 15.828366, 15.850104000000002, 15.871842000000001, 15.893580000000002, 15.915318000000001, 15.937056, 15.958794000000001, 15.980532, 16.002270000000003, 16.024008000000002, 16.045746, 16.067484, 16.089222, 16.11096, 16.132698, 16.154436000000004, 16.176174000000003, 16.197912000000002, 16.21965, 16.241388, 16.263126, 16.284864, 16.306601999999998, 16.328340000000004, 16.350078000000003, 16.371816000000003, 16.393554, 16.415292, 16.43703, 16.458768, 16.480506000000002, 16.502244, 16.523982000000004, 16.545720000000003, 16.567458000000002, 16.589196, 16.610934, 16.632672, 16.654410000000002, 16.676148, 16.697886000000004, 16.719624000000003, 16.741362000000002, 16.7631, 16.784838, 16.806576, 16.828314000000002, 16.850052, 16.87179, 16.893528000000003, 16.915266000000003, 16.937004, 16.958742, 16.98048, 17.002218, 17.023956000000002, 17.045694, 17.067432, 17.089170000000003, 17.110908000000002, 17.132646, 17.154384, 17.176122, 17.19786, 17.219598, 17.241336, 17.263074000000003, 17.284812000000002, 17.30655, 17.328288, 17.350026, 17.371764, 17.393502, 17.41524, 17.436978000000003, 17.458716000000003, 17.480454, 17.502192, 17.52393, 17.545668, 17.567406, 17.589144000000005, 17.610882000000004, 17.632620000000003, 17.654358000000002, 17.676096, 17.697834, 17.719572, 17.74131, 17.763048, 17.784786000000004, 17.806524000000003, 17.828262000000002], \"xaxis\": \"x\", \"y\": [0.004977643189970393, 0.005161048806328046, 0.005348947025325503, 0.005541417936637831, 0.005738544274717435, 0.005940411560808238, 0.0061471082855979655, 0.006358726135587434, 0.006575360265208322, 0.0067971096155324835, 0.007024077279106223, 0.007256370909034651, 0.007494103168961668, 0.007737392219071562, 0.007986362231709352, 0.008241143928716452, 0.008501875131140984, 0.008768701310644559, 0.009041776130728487, 0.00932126196487527, 0.009607330377881276, 0.009900162556073556, 0.010199949671785589, 0.01050689316743538, 0.010821204944822102, 0.011143107445847055, 0.011472833611774404, 0.011810626709376867, 0.012156740013852474, 0.012511436340233592, 0.012874987417117258, 0.013247673098895792, 0.013629780415222361, 0.014021602459164739, 0.014423437118335717, 0.014835585656185386, 0.01525835115354583, 0.015692036823372148, 0.016136944214366088, 0.016593371321739832, 0.01706161062571959, 0.01754194708044369, 0.01803465607762626, 0.018540001410689986, 0.019058233265971267, 0.019589586268044988, 0.02013427760616671, 0.020692505268280953, 0.021264446407978185, 0.021850255868213864, 0.02245006488353279, 0.023063979980005738, 0.02369208208910815, 0.024334425888404683, 0.024991039378195433, 0.025661923699299205, 0.026347053192958613, 0.02704637569953561, 0.027759813088297926, 0.028487262006266684, 0.029228594829889935, 0.029983660799307064, 0.030752287311271973, 0.03153428134347368, 0.03232943098013049, 0.033137507006383085, 0.03395826453726054, 0.034791444645869835, 0.035636775955024846, 0.036493976156797586, 0.037362753425472114, 0.03824280769109804, 0.039133831743279834, 0.04003551213795554, 0.04094752988369056, 0.0418695608883713, 0.042801276152071445, 0.043742341697195736, 0.044692418232695735, 0.04565116055509874, 0.046618216695191686, 0.04759322682533627, 0.04857582194845927, 0.04956562239562707, 0.05056223616467966, 0.05156525713754184, 0.05257426321844019, 0.053588814439245964, 0.054608451081429525, 0.05563269186659152, 0.056661032269140744, 0.05769294300539505, 0.05872786875312777, 0.05976522715437419, 0.060804408152122034, 0.06184477370838815, 0.06288565794712288, 0.06392636776047632, 0.06496618391123717, 0.06600436265782961, 0.06704013792118951, 0.06807272400528415, 0.06910131887506589, 0.07012510798742408, 0.07114326866232312, 0.07215497497294557, 0.07315940312540951, 0.0741557372906617, 0.07514317584355884, 0.07612093795709038, 0.07708827049326365, 0.07804445512647326, 0.07898881563029848, 0.07992072525470306, 0.0808396141175842, 0.08174497653260213, 0.08263637819422624, 0.0835134631409684, 0.0843759604188333, 0.08522369036906925, 0.08605657046730379, 0.086874620645043, 0.08767796802923288, 0.08846685104102195, 0.08924162280096595, 0.0900027537945346, 0.09075083375885064, 0.09148657275896206, 0.0922108014295468, 0.09292447036562332, 0.09362864865351997, 0.09432452154091649, 0.09501338725211951, 0.09569665296179589, 0.09637582994708145, 0.09705252794423672, 0.09772844874180295, 0.0984053790474664, 0.09908518267054557, 0.09976979206616922, 0.10046119929080063, 0.10116144642180748, 0.10187261549628397, 0.1025968180263594, 0.10333618414976782, 0.10409285147560825, 0.1048689536859842, 0.1056666089546663, 0.1064879082441049, 0.10733490354207317, 0.10820959609901368, 0.10911392472680283, 0.1100497542191991, 0.11101886395372101, 0.11202293673411093, 0.11306354793193826, 0.11414215498521307, 0.11526008731119493, 0.1164185366897878, 0.11761854817306863, 0.1188610115755091, 0.12014665359831733, 0.12147603063999599, 0.12284952234363326, 0.12426732592957603, 0.12572945135993033, 0.1272357173787367, 0.12878574846866073, 0.130378972761551, 0.13201462093624802, 0.13369172613253735, 0.13540912490513224, 0.13716545923602713, 0.13895917961750617, 0.1407885492115537, 0.142651649084384, 0.14454638450741925, 0.14647049230825646, 0.1484215492471282, 0.15039698138612198, 0.15239407441006844, 0.15440998484966623, 0.15644175214913503, 0.1584863115126636, 0.16054050745616621, 0.16260110798357139, 0.16466481930010207, 0.16672830096888397, 0.16878818141184768, 0.1708410736513483, 0.1728835911852973, 0.17491236388595924, 0.17692405381096618, 0.17891537081457506, 0.18088308784777907, 0.18282405583758796, 0.18473521803860327, 0.1866136237539204, 0.18845644132734218, 0.19026097031484132, 0.1920246527500949, 0.19374508342665667, 0.19542001912781215, 0.19704738674433028, 0.19862529023001135, 0.20015201635506547, 0.2016260392277851, 0.20304602356560345, 0.2044108267073068, 0.20571949936879627, 0.20697128515523652, 0.20816561885258222, 0.2093021235312309, 0.2103806065038194, 0.21140105418785607, 0.212363625931917, 0.213268646871438, 0.21411659988665982, 0.2149081167410084, 0.2156439684830559, 0.21632505519921855, 0.21695239520749365, 0.21752711378481182, 0.21805043152201517, 0.21852365240107782, 0.2189481516889996, 0.2193253637418518, 0.21965676981080612, 0.21994388593963876, 0.22018825104026127, 0.22039141522931086, 0.22055492850479816, 0.22068032983731178, 0.22076913674536164, 0.22082283541915748, 0.22084287145151574, 0.2208306412287083, 0.22078748402794793, 0.2207146748618997, 0.22061341810415375, 0.2204848419230037, 0.22032999354422658, 0.22014983535685287, 0.2199452418692086, 0.21971699751581544, 0.21946579530913057, 0.2191922363235853, 0.21889682999301294, 0.21857999519637902, 0.2182420621007852, 0.21788327472504054, 0.2175037941817759, 0.21710370255111486, 0.2166830073343938, 0.21624164643238308, 0.21577949358896298, 0.21529636423825912, 0.21479202169096145, 0.21426618359387253, 0.21371852859580343, 0.21314870315268292, 0.2125563284052411, 0.21194100706386898, 0.21130233023722148, 0.2106398841438121, 0.2099532566492353, 0.20924204357565565, 0.2085058547348425, 0.20774431964115483, 0.20695709286649105, 0.20614385900517535, 0.2053043372229799, 0.20443828537088085, 0.2035455036505935, 0.20262583782532373, 0.201679181975388, 0.2007054808043007, 0.19970473150646204, 0.19867698521263635, 0.197622348033867, 0.19654098172827353, 0.19543310401822897, 0.19429898858767713, 0.19313896479079048, 0.19195341710376004, 0.19074278435125394, 0.18950755873800315, 0.18824828471411698, 0.1869655577001321, 0.18566002269457282, 0.18433237278299588, 0.18298334756325135, 0.18161373149711402, 0.18022435219366867, 0.1788160786249736, 0.17738981926978148, 0.17594652017651846, 0.1744871629325339, 0.17301276252290768, 0.1715243650589767, 0.17002304535434967, 0.16850990432456267, 0.16698606618582637, 0.16545267542852654, 0.16391089354233457, 0.16236189547196425, 0.16080686578576833, 0.15924699454345162, 0.15768347285415285, 0.15611748812192802, 0.15455021898212598, 0.15298282993921414, 0.15141646572410392, 0.14985224539680972, 0.14829125622820677, 0.14673454740253783, 0.14518312358999205, 0.14363793844598313, 0.1420998881005021, 0.1405698047069518, 0.13904845012504669, 0.1375365098165262, 0.13603458703547563, 0.13454319739686185, 0.13306276390740057, 0.13159361254200796, 0.1301359684468246, 0.12868995284613224, 0.12725558072541157, 0.12583275935638144, 0.12442128772215487, 0.12302085689176885, 0.12163105138337468, 0.12025135154447818, 0.11888113696591276, 0.1175196909339236, 0.11616620591197024, 0.11481979003083988, 0.11347947455258962, 0.11214422226089564, 0.1108129367177738, 0.10948447231456508, 0.10815764503369243, 0.10683124382722181, 0.10550404250880639, 0.10417481204735077, 0.10284233314379365, 0.10150540896690968, 0.10016287792003985, 0.09881362630825044, 0.0974566007746262, 0.09609082037525774, 0.09471538816494762, 0.09332950216974532, 0.09193246562803965, 0.09052369638903097, 0.0891027353658831, 0.08766925395058973, 0.08622306030846219, 0.08476410448200723, 0.08329248224665704, 0.0818084376741734, 0.0803123643733982, 0.07880480539218347, 0.07728645177863008, 0.07575813981400709, 0.07422084694373933, 0.07267568644647177, 0.07112390089426462, 0.06956685446932057, 0.06800602421410545, 0.06644299030221515, 0.06487942542672119, 0.06331708341089745, 0.06175778715313505, 0.06020341602339442, 0.058655892832714634, 0.05711717050004306, 0.05558921854198831, 0.05407400951102186, 0.05257350550619925, 0.0510896448777021, 0.04962432924244618, 0.04817941092276681, 0.04675668091386042, 0.04535785747832454, 0.043984575457914545, 0.04263837638366158, 0.04132069945585437, 0.04003287345526123, 0.03877610963644922, 0.03755149564329748, 0.036359990475925495, 0.03520242052740567, 0.03407947669790116, 0.03299171258341547, 0.03193954372624417, 0.03092324790459154, 0.029942966429756437, 0.028998706410868273, 0.028090343939445764, 0.027217628139119994, 0.026380186019740508, 0.025577528069823118, 0.024809054516907462, 0.02407406218189228, 0.023371751850797828, 0.022701236085669502, 0.022061547395448623, 0.02145164668757606, 0.020870431921820087, 0.02031674688928621, 0.019789390041714896, 0.019287123298960346, 0.018808680765889253, 0.018352777293791384, 0.01791811682568045, 0.01750340046951352, 0.01710733424830603, 0.01672863648129398, 0.016366044755630145, 0.016018322453531707, 0.0156842648052606, 0.015362704443755787, 0.01505251644209412, 0.014752622820185196, 0.014461996512155764, 0.014179664790715264, 0.013904712149377791, 0.013636282647717941, 0.013373581728834053, 0.013115877521863861, 0.012862501645727095, 0.012612849533254197, 0.012366380297487396, 0.012122616164215928, 0.011881141496733916, 0.011641601440393069, 0.011403700215776177, 0.011167199090254674, 0.010931914058332179, 0.010697713261531409, 0.010464514178679853, 0.01023228061730657, 0.010001019536504497, 0.00977077773106116, 0.009541638405938947, 0.009313717669316029, 0.009087160971404797, 0.008862139515162687, 0.008638846663826284, 0.008417494368945877, 0.008198309641294092, 0.007981531085683587, 0.007767405519365402, 0.00755618469230478, 0.007348122126253671, 0.0071434700881636715, 0.006942476712117667, 0.006745383282605827, 0.006552421690632251, 0.0063638120728157525, 0.006179760642339895, 0.006000457719313031, 0.0058260759668163275, 0.005656768837645852, 0.005492669235489377, 0.005333888393019161, 0.0051805149681273, 0.005032614358277176, 0.0048902282316948984, 0.004753374272879054, 0.004622046138665758, 0.0044962136198541626, 0.004375823002179161, 0.004260797619216628, 0.004151038588633476, 0.004046425722052715, 0.0039468185977070734, 0.0038520577840096327, 0.003761966201189545, 0.0036763506072351373, 0.003595003193568411, 0.003517703275153932, 0.0034442190591343173, 0.0033743094755933896, 0.0033077260536868093, 0.003244214826157221, 0.0031835182451737647, 0.003125377092510254, 0.003069532367304646, 0.003015727135029722, 0.0029637083218460704, 0.0029132284392053287, 0.0028640472244168564, 0.002815933183877687, 0.002768665026785561, 0.002722032978394866, 0.002675839963223697, 0.002629902650060429], \"yaxis\": \"y\"}, {\"legendgroup\": \"Malignant\", \"marker\": {\"color\": \"rgb(255, 127, 14)\"}, \"mode\": \"lines\", \"name\": \"Malignant\", \"showlegend\": false, \"type\": \"scatter\", \"x\": [10.95, 10.984319999999999, 11.01864, 11.052959999999999, 11.08728, 11.121599999999999, 11.15592, 11.19024, 11.224559999999999, 11.25888, 11.293199999999999, 11.32752, 11.361839999999999, 11.39616, 11.43048, 11.464799999999999, 11.49912, 11.533439999999999, 11.56776, 11.602079999999999, 11.6364, 11.67072, 11.705039999999999, 11.73936, 11.773679999999999, 11.808, 11.842319999999999, 11.87664, 11.91096, 11.945279999999999, 11.9796, 12.013919999999999, 12.04824, 12.082559999999999, 12.11688, 12.1512, 12.185519999999999, 12.21984, 12.254159999999999, 12.28848, 12.322799999999999, 12.35712, 12.39144, 12.425759999999999, 12.46008, 12.494399999999999, 12.52872, 12.563039999999999, 12.59736, 12.63168, 12.665999999999999, 12.70032, 12.734639999999999, 12.76896, 12.803279999999999, 12.837599999999998, 12.87192, 12.906239999999999, 12.94056, 12.974879999999999, 13.0092, 13.04352, 13.077839999999998, 13.11216, 13.14648, 13.1808, 13.215119999999999, 13.24944, 13.28376, 13.318079999999998, 13.3524, 13.386719999999999, 13.42104, 13.455359999999999, 13.48968, 13.524, 13.558319999999998, 13.59264, 13.62696, 13.66128, 13.695599999999999, 13.72992, 13.76424, 13.798559999999998, 13.83288, 13.867199999999999, 13.90152, 13.935839999999999, 13.97016, 14.00448, 14.038799999999998, 14.07312, 14.10744, 14.14176, 14.176079999999999, 14.2104, 14.24472, 14.279039999999998, 14.31336, 14.347679999999999, 14.382, 14.416319999999999, 14.45064, 14.48496, 14.519279999999998, 14.5536, 14.58792, 14.62224, 14.656559999999999, 14.69088, 14.7252, 14.759519999999998, 14.79384, 14.828159999999999, 14.86248, 14.896799999999999, 14.93112, 14.96544, 14.999759999999998, 15.03408, 15.068399999999999, 15.10272, 15.137039999999999, 15.17136, 15.20568, 15.239999999999998, 15.27432, 15.30864, 15.34296, 15.377279999999999, 15.4116, 15.44592, 15.480239999999998, 15.51456, 15.54888, 15.583199999999998, 15.617519999999999, 15.65184, 15.68616, 15.720479999999998, 15.7548, 15.78912, 15.823439999999998, 15.857759999999999, 15.89208, 15.9264, 15.960719999999998, 15.99504, 16.029359999999997, 16.063679999999998, 16.098, 16.13232, 16.16664, 16.20096, 16.23528, 16.2696, 16.303919999999998, 16.33824, 16.37256, 16.40688, 16.4412, 16.47552, 16.50984, 16.544159999999998, 16.57848, 16.6128, 16.64712, 16.68144, 16.71576, 16.75008, 16.784399999999998, 16.81872, 16.85304, 16.88736, 16.92168, 16.956, 16.990319999999997, 17.024639999999998, 17.05896, 17.09328, 17.1276, 17.16192, 17.19624, 17.23056, 17.264879999999998, 17.2992, 17.33352, 17.36784, 17.40216, 17.43648, 17.4708, 17.505119999999998, 17.53944, 17.57376, 17.60808, 17.6424, 17.67672, 17.71104, 17.745359999999998, 17.77968, 17.814, 17.84832, 17.88264, 17.91696, 17.951279999999997, 17.985599999999998, 18.01992, 18.05424, 18.08856, 18.12288, 18.1572, 18.19152, 18.225839999999998, 18.26016, 18.29448, 18.3288, 18.36312, 18.39744, 18.43176, 18.466079999999998, 18.5004, 18.53472, 18.56904, 18.60336, 18.63768, 18.672, 18.706319999999998, 18.74064, 18.77496, 18.80928, 18.8436, 18.87792, 18.912239999999997, 18.946559999999998, 18.98088, 19.0152, 19.04952, 19.08384, 19.11816, 19.152479999999997, 19.186799999999998, 19.22112, 19.25544, 19.28976, 19.32408, 19.3584, 19.392719999999997, 19.427039999999998, 19.46136, 19.49568, 19.53, 19.56432, 19.598639999999996, 19.63296, 19.667279999999998, 19.7016, 19.73592, 19.77024, 19.80456, 19.838879999999996, 19.8732, 19.907519999999998, 19.94184, 19.97616, 20.01048, 20.0448, 20.07912, 20.11344, 20.147759999999998, 20.18208, 20.2164, 20.25072, 20.285040000000002, 20.31936, 20.353679999999997, 20.387999999999998, 20.42232, 20.45664, 20.49096, 20.525280000000002, 20.5596, 20.593919999999997, 20.628239999999998, 20.66256, 20.69688, 20.7312, 20.765520000000002, 20.79984, 20.834159999999997, 20.868479999999998, 20.9028, 20.93712, 20.97144, 21.00576, 21.04008, 21.074399999999997, 21.108719999999998, 21.14304, 21.17736, 21.21168, 21.246, 21.28032, 21.314639999999997, 21.348959999999998, 21.38328, 21.4176, 21.45192, 21.48624, 21.520559999999996, 21.554879999999997, 21.589199999999998, 21.62352, 21.65784, 21.69216, 21.72648, 21.760799999999996, 21.79512, 21.829439999999998, 21.86376, 21.89808, 21.9324, 21.96672, 22.00104, 22.03536, 22.069679999999998, 22.104, 22.13832, 22.17264, 22.206960000000002, 22.24128, 22.275599999999997, 22.309919999999998, 22.34424, 22.37856, 22.412879999999998, 22.447200000000002, 22.48152, 22.515839999999997, 22.550159999999998, 22.58448, 22.6188, 22.65312, 22.687440000000002, 22.72176, 22.756079999999997, 22.790399999999998, 22.82472, 22.85904, 22.89336, 22.92768, 22.962, 22.996319999999997, 23.03064, 23.06496, 23.09928, 23.1336, 23.16792, 23.20224, 23.236559999999997, 23.27088, 23.3052, 23.33952, 23.37384, 23.40816, 23.442479999999996, 23.476799999999997, 23.51112, 23.54544, 23.57976, 23.61408, 23.6484, 23.682719999999996, 23.71704, 23.75136, 23.78568, 23.82, 23.85432, 23.88864, 23.92296, 23.95728, 23.9916, 24.02592, 24.06024, 24.09456, 24.128880000000002, 24.1632, 24.197519999999997, 24.23184, 24.26616, 24.30048, 24.334799999999998, 24.369120000000002, 24.40344, 24.437759999999997, 24.47208, 24.5064, 24.54072, 24.57504, 24.609360000000002, 24.64368, 24.677999999999997, 24.71232, 24.74664, 24.78096, 24.81528, 24.8496, 24.88392, 24.918239999999997, 24.95256, 24.98688, 25.0212, 25.05552, 25.08984, 25.12416, 25.158479999999997, 25.1928, 25.22712, 25.26144, 25.29576, 25.33008, 25.364399999999996, 25.398719999999997, 25.43304, 25.46736, 25.50168, 25.536, 25.57032, 25.604639999999996, 25.63896, 25.67328, 25.7076, 25.74192, 25.77624, 25.81056, 25.84488, 25.8792, 25.91352, 25.94784, 25.98216, 26.01648, 26.0508, 26.08512, 26.119439999999997, 26.15376, 26.18808, 26.2224, 26.256719999999998, 26.291040000000002, 26.32536, 26.359679999999997, 26.394, 26.42832, 26.46264, 26.49696, 26.531280000000002, 26.5656, 26.599919999999997, 26.63424, 26.66856, 26.70288, 26.7372, 26.77152, 26.80584, 26.840159999999997, 26.87448, 26.9088, 26.94312, 26.97744, 27.01176, 27.04608, 27.080399999999997, 27.11472, 27.14904, 27.18336, 27.217679999999998, 27.252, 27.28632, 27.320639999999997, 27.35496, 27.38928, 27.423599999999997, 27.45792, 27.492240000000002, 27.52656, 27.56088, 27.5952, 27.62952, 27.66384, 27.698159999999998, 27.73248, 27.7668, 27.801119999999997, 27.83544, 27.86976, 27.90408, 27.9384, 27.97272, 28.00704, 28.04136, 28.07568], \"xaxis\": \"x\", \"y\": [0.01480303268216644, 0.01526730541787941, 0.015740422495930814, 0.016222455049274255, 0.016713477277626426, 0.01721356634662551, 0.01772280223536037, 0.018241267531325517, 0.01876904717227014, 0.019306228134832914, 0.019852899070294656, 0.020409149888225512, 0.020975071289255843, 0.021550754248650324, 0.022136289452812128, 0.02273176669128477, 0.023337274207244792, 0.023952898009891012, 0.02457872115252471, 0.025214822980480583, 0.02586127835340628, 0.026518156846690087, 0.027185521937105734, 0.027863430177972145, 0.028551930369310762, 0.029251062728626712, 0.029960858068031847, 0.030681336983476363, 0.031412509061846935, 0.03215437211163797, 0.0329069114227897, 0.033670099061133024, 0.03444389320266768, 0.035228237512642015, 0.03602306057409587, 0.036828275370172775, 0.0376437788241154, 0.03846945140041665, 0.03930515677013188, 0.04015074154285133, 0.04100603506729903, 0.0418708493019734, 0.04274497875667164, 0.04362820050515754, 0.04452027426864448, 0.04542094256917455, 0.04632993095139662, 0.04724694827067071, 0.04817168704487914, 0.04910382386679367, 0.050043019873354765, 0.050988921267755, 0.05194115988980035, 0.05289935382965063, 0.05386310807971655, 0.054832015219225885, 0.05580565612576068, 0.05678360070792279, 0.05776540865320311, 0.058750630185110564, 0.059738806823672476, 0.06072947214352954, 0.06172215252403982, 0.06271636788605094, 0.06371163241031465, 0.06470745523289542, 0.0657033411133508, 0.06669879107194993, 0.06769330299272684, 0.06868637218974279, 0.0696774919345397, 0.07066615394341066, 0.07165184882377726, 0.07263406647963716, 0.07361229647674018, 0.07458602836882365, 0.07555475198692325, 0.07651795769442565, 0.07747513661116605, 0.0784257808104652, 0.07936938349356197, 0.08030543914639807, 0.08123344368416323, 0.08215289458939572, 0.08306329104974663, 0.08396413410176157, 0.08485492678719618, 0.08573517432845709, 0.08660438432976407, 0.08746206701052538, 0.08830773547724688, 0.08914090604001675, 0.08996109857926006, 0.09076783696800719, 0.09156064955440381, 0.09233906970858154, 0.09310263643734304, 0.09385089506936613, 0.0945833980128397, 0.09529970558658493, 0.0959993869248271, 0.09668202095485016, 0.0973471974458115, 0.09799451812602908, 0.09862359786507863, 0.09923406591607288, 0.09982556721254618, 0.10039776371344764, 0.10095033578886553, 0.10148298363827173, 0.10199542873230037, 0.10248741526837535, 0.10295871162986915, 0.1034091118379362, 0.10383843698471787, 0.10424653663626551, 0.10463329019328677, 0.10499860819768711, 0.10534243357285872, 0.1056647427857655, 0.10596554691908396, 0.10624489264198793, 0.10650286306861273, 0.10673957849378429, 0.10695519699626738, 0.10714991490055549, 0.10732396708908708, 0.1074776271577325, 0.10761120740843354, 0.10772505867398711, 0.10781956997114232, 0.10789516797940459, 0.10795231634421402, 0.10799151480445981, 0.10801329814561057, 0.10801823498106608, 0.10800692636564478, 0.10798000424642168, 0.10793812975739375, 0.10788199136566977, 0.1078123028780431, 0.10772980131790966, 0.10763524468350616, 0.10752940959938287, 0.10741308887385775, 0.1072870889759363, 0.10715222744579991, 0.10700933025347151, 0.10685922912065453, 0.10670275882099303, 0.10654075447413688, 0.10637404884899533, 0.10620346969143747, 0.10602983709144047, 0.10585396090431644, 0.10567663824014038, 0.10549865103489633, 0.10532076371613004, 0.10514372097507503, 0.10496824565629685, 0.10479503677489779, 0.10462476767024532, 0.10445808430404292, 0.10429560370936664, 0.10413791259604888, 0.10398556611652483, 0.10383908679496728, 0.10369896362124557, 0.10356565130995174, 0.10343956972347607, 0.10332110345686872, 0.10321060158102827, 0.10310837753961415, 0.1030147091939916, 0.1029298390095082, 0.10285397437546635, 0.10278728805031206, 0.10272991872280769, 0.10268197167930915, 0.10264351956671922, 0.10261460324025418, 0.10259523268483428, 0.10258538799869693, 0.10258502042772957, 0.1025940534390333, 0.1026123838223478, 0.10263988280820213, 0.10267639719198003, 0.10272175045352891, 0.10277574386245672, 0.1028381575598728, 0.10290875160801484, 0.10298726699996132, 0.10307342662244601, 0.1031669361656649, 0.10326748497487455, 0.10337474683953489, 0.10348838071671428, 0.1036080313864617, 0.10373333003783934, 0.10386389478528686, 0.10399933111595912, 0.1041392322696171, 0.10428317955356027, 0.10443074259595352, 0.10458147954172, 0.1047349371959256, 0.10489065112028323, 0.10504814568902508, 0.10520693411095043, 0.10536651842492895, 0.10552638947653234, 0.10568602688378155, 0.1058448990002188, 0.106002462883653, 0.10615816427898112, 0.1063114376234554, 0.10646170608264845, 0.1066083816251721, 0.10675086514392876, 0.10688854663132273, 0.10702080541543689, 0.10714701046369057, 0.10726652075994858, 0.1073786857604425, 0.10748284593321542, 0.10757833338510049, 0.10766447257951338, 0.10774058114757101, 0.10780597079426397, 0.10785994830060351, 0.10790181662184768, 0.10793087608109707, 0.10794642565672713, 0.10794776436132437, 0.10793419270899365, 0.10790501426713728, 0.10785953728805997, 0.10779707641503446, 0.10771695445679016, 0.10761850422374396, 0.10750107041869976, 0.10736401157419678, 0.10720670202819114, 0.10702853392931304, 0.10682891926255947, 0.10660729188594982, 0.10636310956840886, 0.10609585601893386, 0.10580504289695476, 0.10549021179371608, 0.10515093617448512, 0.10478682327143472, 0.10439751591714157, 0.10398269430881388, 0.10354207769356731, 0.10307542596535284, 0.10258254116446858, 0.1020632688709658, 0.10151749948369787, 0.10094516937723878, 0.10034626192941958, 0.09972080841280176, 0.09906888874400771, 0.09839063208546649, 0.09768621729480327, 0.09695587321779715, 0.0961998788215517, 0.09541856316525758, 0.0946123052066877, 0.09378153344332175, 0.09292672538777275, 0.09204840687796154, 0.09114715122325479, 0.09022357818855035, 0.089278352819048, 0.08831218410918562, 0.08732582351994471, 0.0863200633494273, 0.08529573496228765, 0.08425370688424186, 0.08319488276849465, 0.08212019924150231, 0.08103062363602431, 0.07992715161991808, 0.07881080472958271, 0.07768262781736539, 0.07654368642260438, 0.07539506407629387, 0.07423785954961515, 0.07307318405679099, 0.07190215842287162, 0.07072591022717614, 0.06954557093315991, 0.06836227301548185, 0.06717714709500605, 0.06599131909236476, 0.06480590741057231, 0.06362202015698509, 0.062440752414668, 0.061263183572945065, 0.06009037472659839, 0.058923366152815, 0.05776317487459091, 0.05661079231887571, 0.05546718207727662, 0.05433327777666438, 0.053209981066505534, 0.05209815972921216, 0.05099864591925405, 0.049912234536198044, 0.04883968173626252, 0.04778170358637691, 0.04673897486412716, 0.045712128006362915, 0.044701752208620014, 0.043708392676896524, 0.04273255003270478, 0.04177467987170105, 0.04083519247559165, 0.03991445267640455, 0.03901277987162244, 0.03813044818809018, 0.03726768679203686, 0.036424680341991755, 0.035601569580837725, 0.03479845206271882, 0.034015383010012834, 0.033252376295103366, 0.03250940554122005, 0.031786405336187006, 0.031083272552509887, 0.030399867766852967, 0.029736016771610852, 0.02909151217096317, 0.028466115053515453, 0.02785955673338743, 0.027271540551392897, 0.02670174372778949, 0.026149819257941437, 0.025615397842146045, 0.02509808984082868, 0.024597487246301813, 0.02411316566232169, 0.023644686282758266, 0.023191597860818692, 0.02275343866043437, 0.022329738381636533, 0.021920020051999906, 0.021523801876536422, 0.02114059903875799, 0.020769925446008804, 0.020411295412584025, 0.020064225274603806, 0.01972823493109499, 0.019402849306248564, 0.019087599728359255, 0.01878202522151645, 0.018485673706699086, 0.0181981031095195, 0.017918882372472845, 0.017647592370157516, 0.01738382672654898, 0.017127192534020775, 0.01687731097441006, 0.016633817843017637, 0.01639636397700802, 0.016164615590228474, 0.015938254516996486, 0.01571697836790331, 0.015500500601148532, 0.015288550513350183, 0.0150808731541646, 0.014877229169397769, 0.014677394577591221, 0.014481160485321842, 0.014288332746659874, 0.014098731572387224, 0.0139121910946836, 0.013728558893045256, 0.01354769548720562, 0.013369473802784864, 0.013193778615304642, 0.013020505978066208, 0.012849562639209887, 0.012680865453052026, 0.012514340790534, 0.012349923953324193, 0.012187558595786152, 0.012027196158672438, 0.011868795318027384, 0.011712321452385011, 0.011557746130938526, 0.011405046624936724, 0.011254205444137131, 0.011105209899718495, 0.01095805169463141, 0.010812726541950422, 0.010669233811387221, 0.01052757620373629, 0.010387759452656119, 0.010249792052844717, 0.010113685013348186, 0.009979451634452323, 0.009847107306348505, 0.009716669327540948, 0.009588156740772943, 0.009461590184097661, 0.009336991754603209, 0.009214384882225857, 0.00909379421104518, 0.008975245485454126, 0.008858765438632727, 0.008744381680824897, 0.008632122585024295, 0.008522017167812191, 0.008414094963259662, 0.008308385888001635, 0.008204920095812142, 0.008103727820252742, 0.008004839204229062, 0.007908284115567382, 0.007814091948014147, 0.007722291407359096, 0.007632910282687083, 0.00754597520306867, 0.007461511380302608, 0.007379542338620678, 0.007300089632554187, 0.007223172554436688, 0.007148807833278329, 0.007077009326989399, 0.007007787710150535, 0.006941150159724914, 0.0068771000412780415, 0.006815636598414309, 0.006756754648252556, 0.006700444285846005, 0.006646690600502323, 0.006595473406978072, 0.006546766994507118, 0.006500539896575262, 0.006456754684273775, 0.006415367785952379, 0.006376329335750842, 0.006339583053416239, 0.006305066157613629, 0.006272709314713224, 0.006242436624788019, 0.006214165646286113, 0.0061878074605534435, 0.006163266777078222, 0.006140442080011306, 0.006119225816189763, 0.006099504624557217, 0.006081159606537804, 0.006064066636583205, 0.006048096711778283, 0.006033116339063077, 0.006018987958310363, 0.006005570399192039, 0.005992719369476754, 0.005980287972128436, 0.005968127248323049, 0.005956086743271374, 0.00594401509153121, 0.005931760618314242, 0.005919171953143594, 0.005906098652097847, 0.00589239182478797, 0.005877904762155514, 0.005862493561153673, 0.0058460177423783006, 0.005828340856752308, 0.005809331077434963, 0.005788861773225277, 0.005766812059855821, 0.005743067325728258, 0.005717519728822989, 0.005690068661721089, 0.005660621181904681, 0.005629092404750459, 0.005595405856897609, 0.005559493787953163, 0.005521297438792982, 0.005480767265021953, 0.005437863114469725, 0.0053925543579165704, 0.005344819972564112, 0.005294648578085292, 0.005242038425405127, 0.005186997338674653, 0.0051295426112038505, 0.00506970085641238, 0.005007507815137037, 0.004943008120900968, 0.004876255024999217, 0.004807310083486426, 0.004736242808364919, 0.00466313028546233], \"yaxis\": \"y\"}, {\"legendgroup\": \"Benign\", \"marker\": {\"color\": \"rgb(31, 119, 180)\", \"symbol\": \"line-ns-open\"}, \"mode\": \"markers\", \"name\": \"Benign\", \"showlegend\": false, \"type\": \"scatter\", \"x\": [13.54, 13.08, 9.504, 13.03, 8.196, 12.05, 13.49, 11.76, 13.64, 11.94, 11.52, 13.05, 8.618, 10.17, 8.598, 9.173, 9.465, 11.31, 9.029, 12.78, 8.888, 12.31, 13.53, 12.86, 11.45, 13.34, 12.0, 12.36, 14.64, 14.62, 13.27, 13.45, 12.18, 9.787, 11.6, 6.981, 12.18, 9.876, 10.49, 11.64, 12.36, 11.34, 9.777, 12.63, 14.26, 10.51, 8.726, 11.93, 8.95, 11.41, 14.5, 13.37, 13.85, 15.1, 12.19, 15.71, 11.71, 11.43, 11.28, 9.738, 11.43, 12.9, 10.75, 11.9, 14.95, 14.44, 13.74, 13.0, 8.219, 9.731, 11.15, 13.15, 12.25, 16.84, 12.06, 10.9, 11.75, 12.34, 14.97, 10.8, 14.97, 12.32, 11.08, 10.66, 8.671, 9.904, 13.01, 12.81, 11.41, 10.08, 11.71, 11.81, 12.3, 12.77, 9.72, 12.91, 12.23, 12.47, 9.876, 13.11, 15.27, 11.84, 11.89, 10.2, 13.65, 13.56, 10.18, 13.27, 14.34, 10.44, 15.0, 12.62, 11.32, 11.22, 9.567, 14.03, 14.22, 13.64, 12.42, 11.3, 13.75, 10.48, 13.2, 12.89, 10.65, 11.52, 11.5, 10.6, 13.59, 12.87, 10.71, 14.29, 11.29, 9.742, 11.89, 11.33, 13.59, 13.85, 11.74, 12.89, 12.58, 11.94, 12.89, 11.26, 11.37, 14.41, 14.96, 12.95, 11.85, 12.72, 13.77, 10.91, 14.26, 10.51, 12.46, 10.49, 11.46, 11.6, 13.2, 9.0, 13.5, 13.05, 11.7, 14.61, 12.76, 11.54, 8.597, 12.49, 12.18, 9.042, 12.43, 10.25, 12.86, 12.2, 12.67, 14.11, 12.03, 12.98, 11.22, 11.25, 12.3, 12.99, 10.05, 14.42, 9.606, 11.06, 11.71, 10.26, 12.06, 14.76, 11.47, 11.95, 11.66, 11.14, 12.56, 13.05, 13.87, 8.878, 9.436, 12.54, 13.3, 12.76, 16.5, 13.4, 12.21, 15.19, 13.69, 16.17, 10.57, 13.46, 13.66, 11.27, 11.04, 12.05, 12.39, 13.28, 12.21, 13.88, 11.27, 10.26, 8.734, 12.1, 14.06, 13.51, 12.8, 11.06, 11.8, 11.93, 12.96, 12.94, 12.34, 10.94, 16.14, 12.85, 12.27, 11.36, 11.04, 9.397, 14.99, 11.89, 9.405, 12.7, 11.16, 11.57, 14.69, 11.61, 13.66, 9.742, 10.03, 10.48, 10.8, 11.13, 12.72, 12.4, 14.86, 12.87, 14.04, 13.85, 14.02, 10.97, 13.78, 10.57, 11.99, 14.8, 14.53, 11.87, 12.0, 14.53, 12.62, 13.38, 11.63, 13.21, 13.0, 9.755, 14.4, 11.6, 13.17, 13.24, 13.14, 9.668, 11.62, 9.667, 12.04, 14.92, 12.27, 10.88, 12.83, 14.2, 13.9, 11.49, 12.16, 13.9, 13.47, 13.7, 15.73, 12.45, 14.64, 11.68, 12.25, 17.85, 12.46, 13.16, 14.87, 12.65, 12.47, 15.04, 12.54, 9.268, 9.676, 12.22, 11.06, 16.3, 11.74, 14.81, 14.58, 11.34, 12.88, 12.75, 9.295, 11.26, 13.71, 9.847, 8.571, 13.46, 12.34, 13.94, 12.07, 11.75, 11.67, 13.68, 10.96, 11.69, 7.729, 7.691, 11.54, 14.47, 14.74, 13.21, 13.87, 13.62, 10.32, 10.26, 9.683, 10.82, 10.86, 11.13, 12.77, 9.333, 12.88, 10.29, 10.16, 9.423, 14.59, 11.51, 14.05, 11.2, 7.76], \"xaxis\": \"x\", \"y\": [\"Benign\", \"Benign\", \"Benign\", \"Benign\", \"Benign\", \"Benign\", \"Benign\", \"Benign\", \"Benign\", \"Benign\", \"Benign\", \"Benign\", \"Benign\", \"Benign\", \"Benign\", \"Benign\", \"Benign\", \"Benign\", \"Benign\", \"Benign\", \"Benign\", \"Benign\", \"Benign\", \"Benign\", \"Benign\", \"Benign\", \"Benign\", \"Benign\", \"Benign\", \"Benign\", \"Benign\", \"Benign\", \"Benign\", \"Benign\", \"Benign\", \"Benign\", \"Benign\", \"Benign\", \"Benign\", \"Benign\", \"Benign\", \"Benign\", \"Benign\", \"Benign\", \"Benign\", \"Benign\", \"Benign\", \"Benign\", \"Benign\", \"Benign\", \"Benign\", \"Benign\", \"Benign\", \"Benign\", \"Benign\", \"Benign\", \"Benign\", \"Benign\", \"Benign\", \"Benign\", \"Benign\", \"Benign\", \"Benign\", \"Benign\", \"Benign\", \"Benign\", \"Benign\", \"Benign\", \"Benign\", \"Benign\", \"Benign\", \"Benign\", \"Benign\", \"Benign\", \"Benign\", \"Benign\", \"Benign\", \"Benign\", \"Benign\", \"Benign\", \"Benign\", \"Benign\", \"Benign\", \"Benign\", \"Benign\", \"Benign\", \"Benign\", \"Benign\", \"Benign\", \"Benign\", \"Benign\", \"Benign\", \"Benign\", \"Benign\", \"Benign\", \"Benign\", \"Benign\", \"Benign\", \"Benign\", \"Benign\", \"Benign\", \"Benign\", \"Benign\", \"Benign\", \"Benign\", \"Benign\", \"Benign\", \"Benign\", \"Benign\", \"Benign\", \"Benign\", \"Benign\", \"Benign\", \"Benign\", \"Benign\", \"Benign\", \"Benign\", \"Benign\", \"Benign\", \"Benign\", \"Benign\", \"Benign\", \"Benign\", \"Benign\", \"Benign\", \"Benign\", \"Benign\", \"Benign\", \"Benign\", \"Benign\", \"Benign\", \"Benign\", \"Benign\", \"Benign\", \"Benign\", \"Benign\", \"Benign\", \"Benign\", \"Benign\", \"Benign\", \"Benign\", \"Benign\", \"Benign\", \"Benign\", \"Benign\", \"Benign\", \"Benign\", \"Benign\", \"Benign\", \"Benign\", \"Benign\", \"Benign\", \"Benign\", \"Benign\", \"Benign\", \"Benign\", \"Benign\", \"Benign\", \"Benign\", \"Benign\", \"Benign\", \"Benign\", \"Benign\", \"Benign\", \"Benign\", \"Benign\", \"Benign\", \"Benign\", \"Benign\", \"Benign\", \"Benign\", \"Benign\", \"Benign\", \"Benign\", \"Benign\", \"Benign\", \"Benign\", \"Benign\", \"Benign\", \"Benign\", \"Benign\", \"Benign\", \"Benign\", \"Benign\", \"Benign\", \"Benign\", \"Benign\", \"Benign\", \"Benign\", \"Benign\", \"Benign\", \"Benign\", \"Benign\", \"Benign\", \"Benign\", \"Benign\", \"Benign\", \"Benign\", \"Benign\", \"Benign\", \"Benign\", \"Benign\", \"Benign\", \"Benign\", \"Benign\", \"Benign\", \"Benign\", \"Benign\", \"Benign\", \"Benign\", \"Benign\", \"Benign\", \"Benign\", \"Benign\", \"Benign\", \"Benign\", \"Benign\", \"Benign\", \"Benign\", \"Benign\", \"Benign\", \"Benign\", \"Benign\", \"Benign\", \"Benign\", \"Benign\", \"Benign\", \"Benign\", \"Benign\", \"Benign\", \"Benign\", \"Benign\", \"Benign\", \"Benign\", \"Benign\", \"Benign\", \"Benign\", \"Benign\", \"Benign\", \"Benign\", \"Benign\", \"Benign\", \"Benign\", \"Benign\", \"Benign\", \"Benign\", \"Benign\", \"Benign\", \"Benign\", \"Benign\", \"Benign\", \"Benign\", \"Benign\", \"Benign\", \"Benign\", \"Benign\", \"Benign\", \"Benign\", \"Benign\", \"Benign\", \"Benign\", \"Benign\", \"Benign\", \"Benign\", \"Benign\", \"Benign\", \"Benign\", \"Benign\", \"Benign\", \"Benign\", \"Benign\", \"Benign\", \"Benign\", \"Benign\", \"Benign\", \"Benign\", \"Benign\", \"Benign\", \"Benign\", \"Benign\", \"Benign\", \"Benign\", \"Benign\", \"Benign\", \"Benign\", \"Benign\", \"Benign\", \"Benign\", \"Benign\", \"Benign\", \"Benign\", \"Benign\", \"Benign\", \"Benign\", \"Benign\", \"Benign\", \"Benign\", \"Benign\", \"Benign\", \"Benign\", \"Benign\", \"Benign\", \"Benign\", \"Benign\", \"Benign\", \"Benign\", \"Benign\", \"Benign\", \"Benign\", \"Benign\", \"Benign\", \"Benign\", \"Benign\", \"Benign\", \"Benign\", \"Benign\", \"Benign\", \"Benign\", \"Benign\", \"Benign\", \"Benign\", \"Benign\", \"Benign\", \"Benign\", \"Benign\", \"Benign\", \"Benign\", \"Benign\", \"Benign\", \"Benign\", \"Benign\", \"Benign\", \"Benign\", \"Benign\", \"Benign\", \"Benign\", \"Benign\", \"Benign\", \"Benign\", \"Benign\", \"Benign\", \"Benign\", \"Benign\", \"Benign\", \"Benign\", \"Benign\", \"Benign\", \"Benign\", \"Benign\", \"Benign\", \"Benign\", \"Benign\", \"Benign\", \"Benign\", \"Benign\", \"Benign\", \"Benign\"], \"yaxis\": \"y2\"}, {\"legendgroup\": \"Malignant\", \"marker\": {\"color\": \"rgb(255, 127, 14)\", \"symbol\": \"line-ns-open\"}, \"mode\": \"markers\", \"name\": \"Malignant\", \"showlegend\": false, \"type\": \"scatter\", \"x\": [17.99, 20.57, 19.69, 11.42, 20.29, 12.45, 18.25, 13.71, 13.0, 12.46, 16.02, 15.78, 19.17, 15.85, 13.73, 14.54, 14.68, 16.13, 19.81, 15.34, 21.16, 16.65, 17.14, 14.58, 18.61, 15.3, 17.57, 18.63, 11.84, 17.02, 19.27, 16.13, 16.74, 14.25, 14.99, 13.48, 13.44, 10.95, 19.07, 13.28, 13.17, 18.65, 13.17, 18.22, 15.1, 19.21, 14.71, 14.25, 12.68, 14.78, 18.94, 17.2, 13.8, 16.07, 18.05, 20.18, 25.22, 19.1, 18.46, 14.48, 19.02, 15.37, 15.06, 20.26, 14.42, 13.61, 13.11, 22.27, 14.87, 15.78, 17.95, 18.66, 24.25, 13.61, 19.0, 19.79, 15.46, 16.16, 18.45, 12.77, 14.95, 16.11, 11.8, 17.68, 19.19, 19.59, 23.27, 16.78, 17.47, 13.43, 15.46, 16.46, 27.22, 21.09, 15.7, 15.28, 18.31, 14.22, 12.34, 14.86, 13.77, 18.08, 19.18, 14.45, 17.54, 23.29, 13.81, 15.12, 17.01, 20.58, 28.11, 17.42, 14.19, 13.86, 19.8, 19.53, 15.75, 12.83, 17.05, 20.51, 23.21, 20.48, 17.46, 19.4, 20.94, 19.73, 17.3, 19.45, 13.96, 19.55, 15.32, 15.66, 15.53, 20.31, 17.35, 17.29, 15.61, 17.19, 20.73, 21.75, 17.93, 18.81, 19.16, 19.4, 16.24, 11.76, 19.53, 20.09, 18.22, 20.16, 20.34, 16.27, 16.26, 16.03, 17.06, 18.77, 23.51, 19.68, 15.75, 25.73, 15.08, 20.44, 20.2, 21.71, 22.01, 16.35, 21.37, 20.64, 11.08, 14.6, 19.55, 15.49, 21.61, 17.91, 17.99, 15.13, 15.5, 14.9, 20.18, 18.82, 13.98, 17.27, 18.03, 17.75, 21.1, 19.59, 17.08, 27.42, 17.6, 16.25, 19.44, 16.69, 18.01, 18.49, 20.59, 13.82, 23.09, 15.46, 13.4, 15.05, 18.31, 19.89, 24.63, 20.47, 20.55, 14.27, 15.22, 20.92, 21.56, 20.13, 16.6, 20.6], \"xaxis\": \"x\", \"y\": [\"Malignant\", \"Malignant\", \"Malignant\", \"Malignant\", \"Malignant\", \"Malignant\", \"Malignant\", \"Malignant\", \"Malignant\", \"Malignant\", \"Malignant\", \"Malignant\", \"Malignant\", \"Malignant\", \"Malignant\", \"Malignant\", \"Malignant\", \"Malignant\", \"Malignant\", \"Malignant\", \"Malignant\", \"Malignant\", \"Malignant\", \"Malignant\", \"Malignant\", \"Malignant\", \"Malignant\", \"Malignant\", \"Malignant\", \"Malignant\", \"Malignant\", \"Malignant\", \"Malignant\", \"Malignant\", \"Malignant\", \"Malignant\", \"Malignant\", \"Malignant\", \"Malignant\", \"Malignant\", \"Malignant\", \"Malignant\", \"Malignant\", \"Malignant\", \"Malignant\", \"Malignant\", \"Malignant\", \"Malignant\", \"Malignant\", \"Malignant\", \"Malignant\", \"Malignant\", \"Malignant\", \"Malignant\", \"Malignant\", \"Malignant\", \"Malignant\", \"Malignant\", \"Malignant\", \"Malignant\", \"Malignant\", \"Malignant\", \"Malignant\", \"Malignant\", \"Malignant\", \"Malignant\", \"Malignant\", \"Malignant\", \"Malignant\", \"Malignant\", \"Malignant\", \"Malignant\", \"Malignant\", \"Malignant\", \"Malignant\", \"Malignant\", \"Malignant\", \"Malignant\", \"Malignant\", \"Malignant\", \"Malignant\", \"Malignant\", \"Malignant\", \"Malignant\", \"Malignant\", \"Malignant\", \"Malignant\", \"Malignant\", \"Malignant\", \"Malignant\", \"Malignant\", \"Malignant\", \"Malignant\", \"Malignant\", \"Malignant\", \"Malignant\", \"Malignant\", \"Malignant\", \"Malignant\", \"Malignant\", \"Malignant\", \"Malignant\", \"Malignant\", \"Malignant\", \"Malignant\", \"Malignant\", \"Malignant\", \"Malignant\", \"Malignant\", \"Malignant\", \"Malignant\", \"Malignant\", \"Malignant\", \"Malignant\", \"Malignant\", \"Malignant\", \"Malignant\", \"Malignant\", \"Malignant\", \"Malignant\", \"Malignant\", \"Malignant\", \"Malignant\", \"Malignant\", \"Malignant\", \"Malignant\", \"Malignant\", \"Malignant\", \"Malignant\", \"Malignant\", \"Malignant\", \"Malignant\", \"Malignant\", \"Malignant\", \"Malignant\", \"Malignant\", \"Malignant\", \"Malignant\", \"Malignant\", \"Malignant\", \"Malignant\", \"Malignant\", \"Malignant\", \"Malignant\", \"Malignant\", \"Malignant\", \"Malignant\", \"Malignant\", \"Malignant\", \"Malignant\", \"Malignant\", \"Malignant\", \"Malignant\", \"Malignant\", \"Malignant\", \"Malignant\", \"Malignant\", \"Malignant\", \"Malignant\", \"Malignant\", \"Malignant\", \"Malignant\", \"Malignant\", \"Malignant\", \"Malignant\", \"Malignant\", \"Malignant\", \"Malignant\", \"Malignant\", \"Malignant\", \"Malignant\", \"Malignant\", \"Malignant\", \"Malignant\", \"Malignant\", \"Malignant\", \"Malignant\", \"Malignant\", \"Malignant\", \"Malignant\", \"Malignant\", \"Malignant\", \"Malignant\", \"Malignant\", \"Malignant\", \"Malignant\", \"Malignant\", \"Malignant\", \"Malignant\", \"Malignant\", \"Malignant\", \"Malignant\", \"Malignant\", \"Malignant\", \"Malignant\", \"Malignant\", \"Malignant\", \"Malignant\", \"Malignant\", \"Malignant\", \"Malignant\", \"Malignant\", \"Malignant\", \"Malignant\", \"Malignant\", \"Malignant\", \"Malignant\", \"Malignant\", \"Malignant\", \"Malignant\", \"Malignant\", \"Malignant\"], \"yaxis\": \"y2\"}],\n",
       "                        {\"barmode\": \"overlay\", \"hovermode\": \"closest\", \"legend\": {\"traceorder\": \"reversed\"}, \"template\": {\"data\": {\"bar\": [{\"error_x\": {\"color\": \"#2a3f5f\"}, \"error_y\": {\"color\": \"#2a3f5f\"}, \"marker\": {\"line\": {\"color\": \"#E5ECF6\", \"width\": 0.5}}, \"type\": \"bar\"}], \"barpolar\": [{\"marker\": {\"line\": {\"color\": \"#E5ECF6\", \"width\": 0.5}}, \"type\": \"barpolar\"}], \"carpet\": [{\"aaxis\": {\"endlinecolor\": \"#2a3f5f\", \"gridcolor\": \"white\", \"linecolor\": \"white\", \"minorgridcolor\": \"white\", \"startlinecolor\": \"#2a3f5f\"}, \"baxis\": {\"endlinecolor\": \"#2a3f5f\", \"gridcolor\": \"white\", \"linecolor\": \"white\", \"minorgridcolor\": \"white\", \"startlinecolor\": \"#2a3f5f\"}, \"type\": \"carpet\"}], \"choropleth\": [{\"colorbar\": {\"outlinewidth\": 0, \"ticks\": \"\"}, \"type\": \"choropleth\"}], \"contour\": [{\"colorbar\": {\"outlinewidth\": 0, \"ticks\": \"\"}, \"colorscale\": [[0.0, \"#0d0887\"], [0.1111111111111111, \"#46039f\"], [0.2222222222222222, \"#7201a8\"], [0.3333333333333333, \"#9c179e\"], [0.4444444444444444, \"#bd3786\"], [0.5555555555555556, \"#d8576b\"], [0.6666666666666666, \"#ed7953\"], [0.7777777777777778, \"#fb9f3a\"], [0.8888888888888888, \"#fdca26\"], [1.0, \"#f0f921\"]], \"type\": \"contour\"}], \"contourcarpet\": [{\"colorbar\": {\"outlinewidth\": 0, \"ticks\": \"\"}, \"type\": \"contourcarpet\"}], \"heatmap\": [{\"colorbar\": {\"outlinewidth\": 0, \"ticks\": \"\"}, \"colorscale\": [[0.0, \"#0d0887\"], [0.1111111111111111, \"#46039f\"], [0.2222222222222222, \"#7201a8\"], [0.3333333333333333, \"#9c179e\"], [0.4444444444444444, \"#bd3786\"], [0.5555555555555556, \"#d8576b\"], [0.6666666666666666, \"#ed7953\"], [0.7777777777777778, \"#fb9f3a\"], [0.8888888888888888, \"#fdca26\"], [1.0, \"#f0f921\"]], \"type\": \"heatmap\"}], \"heatmapgl\": [{\"colorbar\": {\"outlinewidth\": 0, \"ticks\": \"\"}, \"colorscale\": [[0.0, \"#0d0887\"], [0.1111111111111111, \"#46039f\"], [0.2222222222222222, \"#7201a8\"], [0.3333333333333333, \"#9c179e\"], [0.4444444444444444, \"#bd3786\"], [0.5555555555555556, \"#d8576b\"], [0.6666666666666666, \"#ed7953\"], [0.7777777777777778, \"#fb9f3a\"], [0.8888888888888888, \"#fdca26\"], [1.0, \"#f0f921\"]], \"type\": \"heatmapgl\"}], \"histogram\": [{\"marker\": {\"colorbar\": {\"outlinewidth\": 0, \"ticks\": \"\"}}, \"type\": \"histogram\"}], \"histogram2d\": [{\"colorbar\": {\"outlinewidth\": 0, \"ticks\": \"\"}, \"colorscale\": [[0.0, \"#0d0887\"], [0.1111111111111111, \"#46039f\"], [0.2222222222222222, \"#7201a8\"], [0.3333333333333333, \"#9c179e\"], [0.4444444444444444, \"#bd3786\"], [0.5555555555555556, \"#d8576b\"], [0.6666666666666666, \"#ed7953\"], [0.7777777777777778, \"#fb9f3a\"], [0.8888888888888888, \"#fdca26\"], [1.0, \"#f0f921\"]], \"type\": \"histogram2d\"}], \"histogram2dcontour\": [{\"colorbar\": {\"outlinewidth\": 0, \"ticks\": \"\"}, \"colorscale\": [[0.0, \"#0d0887\"], [0.1111111111111111, \"#46039f\"], [0.2222222222222222, \"#7201a8\"], [0.3333333333333333, \"#9c179e\"], [0.4444444444444444, \"#bd3786\"], [0.5555555555555556, \"#d8576b\"], [0.6666666666666666, \"#ed7953\"], [0.7777777777777778, \"#fb9f3a\"], [0.8888888888888888, \"#fdca26\"], [1.0, \"#f0f921\"]], \"type\": \"histogram2dcontour\"}], \"mesh3d\": [{\"colorbar\": {\"outlinewidth\": 0, \"ticks\": \"\"}, \"type\": \"mesh3d\"}], \"parcoords\": [{\"line\": {\"colorbar\": {\"outlinewidth\": 0, \"ticks\": \"\"}}, \"type\": \"parcoords\"}], \"pie\": [{\"automargin\": true, \"type\": \"pie\"}], \"scatter\": [{\"marker\": {\"colorbar\": {\"outlinewidth\": 0, \"ticks\": \"\"}}, \"type\": \"scatter\"}], \"scatter3d\": [{\"line\": {\"colorbar\": {\"outlinewidth\": 0, \"ticks\": \"\"}}, \"marker\": {\"colorbar\": {\"outlinewidth\": 0, \"ticks\": \"\"}}, \"type\": \"scatter3d\"}], \"scattercarpet\": [{\"marker\": {\"colorbar\": {\"outlinewidth\": 0, \"ticks\": \"\"}}, \"type\": \"scattercarpet\"}], \"scattergeo\": [{\"marker\": {\"colorbar\": {\"outlinewidth\": 0, \"ticks\": \"\"}}, \"type\": \"scattergeo\"}], \"scattergl\": [{\"marker\": {\"colorbar\": {\"outlinewidth\": 0, \"ticks\": \"\"}}, \"type\": \"scattergl\"}], \"scattermapbox\": [{\"marker\": {\"colorbar\": {\"outlinewidth\": 0, \"ticks\": \"\"}}, \"type\": \"scattermapbox\"}], \"scatterpolar\": [{\"marker\": {\"colorbar\": {\"outlinewidth\": 0, \"ticks\": \"\"}}, \"type\": \"scatterpolar\"}], \"scatterpolargl\": [{\"marker\": {\"colorbar\": {\"outlinewidth\": 0, \"ticks\": \"\"}}, \"type\": \"scatterpolargl\"}], \"scatterternary\": [{\"marker\": {\"colorbar\": {\"outlinewidth\": 0, \"ticks\": \"\"}}, \"type\": \"scatterternary\"}], \"surface\": [{\"colorbar\": {\"outlinewidth\": 0, \"ticks\": \"\"}, \"colorscale\": [[0.0, \"#0d0887\"], [0.1111111111111111, \"#46039f\"], [0.2222222222222222, \"#7201a8\"], [0.3333333333333333, \"#9c179e\"], [0.4444444444444444, \"#bd3786\"], [0.5555555555555556, \"#d8576b\"], [0.6666666666666666, \"#ed7953\"], [0.7777777777777778, \"#fb9f3a\"], [0.8888888888888888, \"#fdca26\"], [1.0, \"#f0f921\"]], \"type\": \"surface\"}], \"table\": [{\"cells\": {\"fill\": {\"color\": \"#EBF0F8\"}, \"line\": {\"color\": \"white\"}}, \"header\": {\"fill\": {\"color\": \"#C8D4E3\"}, \"line\": {\"color\": \"white\"}}, \"type\": \"table\"}]}, \"layout\": {\"annotationdefaults\": {\"arrowcolor\": \"#2a3f5f\", \"arrowhead\": 0, \"arrowwidth\": 1}, \"coloraxis\": {\"colorbar\": {\"outlinewidth\": 0, \"ticks\": \"\"}}, \"colorscale\": {\"diverging\": [[0, \"#8e0152\"], [0.1, \"#c51b7d\"], [0.2, \"#de77ae\"], [0.3, \"#f1b6da\"], [0.4, \"#fde0ef\"], [0.5, \"#f7f7f7\"], [0.6, \"#e6f5d0\"], [0.7, \"#b8e186\"], [0.8, \"#7fbc41\"], [0.9, \"#4d9221\"], [1, \"#276419\"]], \"sequential\": [[0.0, \"#0d0887\"], [0.1111111111111111, \"#46039f\"], [0.2222222222222222, \"#7201a8\"], [0.3333333333333333, \"#9c179e\"], [0.4444444444444444, \"#bd3786\"], [0.5555555555555556, \"#d8576b\"], [0.6666666666666666, \"#ed7953\"], [0.7777777777777778, \"#fb9f3a\"], [0.8888888888888888, \"#fdca26\"], [1.0, \"#f0f921\"]], \"sequentialminus\": [[0.0, \"#0d0887\"], [0.1111111111111111, \"#46039f\"], [0.2222222222222222, \"#7201a8\"], [0.3333333333333333, \"#9c179e\"], [0.4444444444444444, \"#bd3786\"], [0.5555555555555556, \"#d8576b\"], [0.6666666666666666, \"#ed7953\"], [0.7777777777777778, \"#fb9f3a\"], [0.8888888888888888, \"#fdca26\"], [1.0, \"#f0f921\"]]}, \"colorway\": [\"#636efa\", \"#EF553B\", \"#00cc96\", \"#ab63fa\", \"#FFA15A\", \"#19d3f3\", \"#FF6692\", \"#B6E880\", \"#FF97FF\", \"#FECB52\"], \"font\": {\"color\": \"#2a3f5f\"}, \"geo\": {\"bgcolor\": \"white\", \"lakecolor\": \"white\", \"landcolor\": \"#E5ECF6\", \"showlakes\": true, \"showland\": true, \"subunitcolor\": \"white\"}, \"hoverlabel\": {\"align\": \"left\"}, \"hovermode\": \"closest\", \"mapbox\": {\"style\": \"light\"}, \"paper_bgcolor\": \"white\", \"plot_bgcolor\": \"#E5ECF6\", \"polar\": {\"angularaxis\": {\"gridcolor\": \"white\", \"linecolor\": \"white\", \"ticks\": \"\"}, \"bgcolor\": \"#E5ECF6\", \"radialaxis\": {\"gridcolor\": \"white\", \"linecolor\": \"white\", \"ticks\": \"\"}}, \"scene\": {\"xaxis\": {\"backgroundcolor\": \"#E5ECF6\", \"gridcolor\": \"white\", \"gridwidth\": 2, \"linecolor\": \"white\", \"showbackground\": true, \"ticks\": \"\", \"zerolinecolor\": \"white\"}, \"yaxis\": {\"backgroundcolor\": \"#E5ECF6\", \"gridcolor\": \"white\", \"gridwidth\": 2, \"linecolor\": \"white\", \"showbackground\": true, \"ticks\": \"\", \"zerolinecolor\": \"white\"}, \"zaxis\": {\"backgroundcolor\": \"#E5ECF6\", \"gridcolor\": \"white\", \"gridwidth\": 2, \"linecolor\": \"white\", \"showbackground\": true, \"ticks\": \"\", \"zerolinecolor\": \"white\"}}, \"shapedefaults\": {\"line\": {\"color\": \"#2a3f5f\"}}, \"ternary\": {\"aaxis\": {\"gridcolor\": \"white\", \"linecolor\": \"white\", \"ticks\": \"\"}, \"baxis\": {\"gridcolor\": \"white\", \"linecolor\": \"white\", \"ticks\": \"\"}, \"bgcolor\": \"#E5ECF6\", \"caxis\": {\"gridcolor\": \"white\", \"linecolor\": \"white\", \"ticks\": \"\"}}, \"title\": {\"x\": 0.05}, \"xaxis\": {\"automargin\": true, \"gridcolor\": \"white\", \"linecolor\": \"white\", \"ticks\": \"\", \"title\": {\"standoff\": 15}, \"zerolinecolor\": \"white\", \"zerolinewidth\": 2}, \"yaxis\": {\"automargin\": true, \"gridcolor\": \"white\", \"linecolor\": \"white\", \"ticks\": \"\", \"title\": {\"standoff\": 15}, \"zerolinecolor\": \"white\", \"zerolinewidth\": 2}}}, \"xaxis\": {\"anchor\": \"y2\", \"domain\": [0.0, 1.0], \"zeroline\": false}, \"yaxis\": {\"anchor\": \"free\", \"domain\": [0.35, 1], \"position\": 0.0}, \"yaxis2\": {\"anchor\": \"x\", \"domain\": [0, 0.25], \"dtick\": 1, \"showticklabels\": false}},\n",
       "                        {\"responsive\": true}\n",
       "                    ).then(function(){\n",
       "                            \n",
       "var gd = document.getElementById('5ec532b5-da14-407c-b4eb-68c7fa77f2a4');\n",
       "var x = new MutationObserver(function (mutations, observer) {{\n",
       "        var display = window.getComputedStyle(gd).display;\n",
       "        if (!display || display === 'none') {{\n",
       "            console.log([gd, 'removed!']);\n",
       "            Plotly.purge(gd);\n",
       "            observer.disconnect();\n",
       "        }}\n",
       "}});\n",
       "\n",
       "// Listen for the removal of the full notebook cells\n",
       "var notebookContainer = gd.closest('#notebook-container');\n",
       "if (notebookContainer) {{\n",
       "    x.observe(notebookContainer, {childList: true});\n",
       "}}\n",
       "\n",
       "// Listen for the clearing of the current output cell\n",
       "var outputEl = gd.closest('.output');\n",
       "if (outputEl) {{\n",
       "    x.observe(outputEl, {childList: true});\n",
       "}}\n",
       "\n",
       "                        })\n",
       "                };\n",
       "                });\n",
       "            </script>\n",
       "        </div>"
      ]
     },
     "metadata": {},
     "output_type": "display_data"
    }
   ],
   "source": [
    "ff.create_distplot(\n",
    "    [data.loc[~data['malignant'], 'mean radius'],\n",
    "     data.loc[data['malignant'], 'mean radius']], \n",
    "    group_labels=[\"Benign\",\"Malignant\"],\n",
    "    bin_size=0.5)"
   ]
  },
  {
   "cell_type": "markdown",
   "metadata": {},
   "source": [
    "**Question:** Looking at the above histograms could you describe a rule to predict whether or a cell is malignant?\n"
   ]
  },
  {
   "cell_type": "markdown",
   "metadata": {},
   "source": [
    "### Preparing the Data Train-Test Split\n",
    "\n",
    "Always split your data into training and test groups.  "
   ]
  },
  {
   "cell_type": "code",
   "execution_count": 12,
   "metadata": {
    "ExecuteTime": {
     "end_time": "2018-04-02T16:07:17.924717Z",
     "start_time": "2018-04-02T16:07:17.899036Z"
    }
   },
   "outputs": [
    {
     "name": "stdout",
     "output_type": "stream",
     "text": [
      "Training Data Size:  512\n",
      "Test Data Size:  57\n"
     ]
    }
   ],
   "source": [
    "from sklearn.model_selection import train_test_split\n",
    "data_tr, data_te = train_test_split(data, test_size=0.10, random_state=42)\n",
    "print(\"Training Data Size: \", len(data_tr))\n",
    "print(\"Test Data Size: \", len(data_te))"
   ]
  },
  {
   "cell_type": "markdown",
   "metadata": {},
   "source": [
    "Creating the `X` and `Y` matrices for the training data:"
   ]
  },
  {
   "cell_type": "code",
   "execution_count": 13,
   "metadata": {},
   "outputs": [],
   "source": [
    "X = data_tr[['mean radius']].to_numpy()\n",
    "Y = data_tr['malignant'].to_numpy()"
   ]
  },
  {
   "cell_type": "markdown",
   "metadata": {},
   "source": [
    "---\n",
    "\n",
    "<br/><br/><br/><br/><br/><br/><br/>\n",
    "\n",
    "\n",
    "## Using Least-Squares Regression\n",
    "\n",
    "_\"I suppose it is tempting, if the only tool you have is a hammer, to treat everything as if it were a nail.\"_ -  Abraham Maslow The Psychology of Science\n",
    "\n",
    "We would like to predict whether the tumor is malignant from the size of the tumor.  We have encoded whether a tumor is malignant or benign as 1 or 0.  Those are numbers that we could pretend are continuous and directly apply least squares regression.  Why not start there?"
   ]
  },
  {
   "cell_type": "code",
   "execution_count": 14,
   "metadata": {},
   "outputs": [
    {
     "data": {
      "text/html": [
       "\n",
       "        <iframe\n",
       "            width=\"400\"\n",
       "            height=\"300\"\n",
       "            src=\"https://www.youtube.com/embed/ComingSoon\"\n",
       "            frameborder=\"0\"\n",
       "            allowfullscreen\n",
       "        ></iframe>\n",
       "        "
      ],
      "text/plain": [
       "<IPython.lib.display.YouTubeVideo at 0x7fa53036df10>"
      ]
     },
     "execution_count": 14,
     "metadata": {},
     "output_type": "execute_result"
    }
   ],
   "source": [
    "from IPython.display import YouTubeVideo\n",
    "YouTubeVideo(\"ComingSoon\")"
   ]
  },
  {
   "cell_type": "markdown",
   "metadata": {},
   "source": [
    "In the following, we use scikit-learn to fit a least squares linear regression model.  Note, we will not use any regularization since this is a really simple one-dimensional model with a comparatively large training dataset. "
   ]
  },
  {
   "cell_type": "code",
   "execution_count": 15,
   "metadata": {
    "ExecuteTime": {
     "end_time": "2018-04-02T16:07:18.006048Z",
     "start_time": "2018-04-02T16:07:17.933377Z"
    }
   },
   "outputs": [
    {
     "data": {
      "text/plain": [
       "LinearRegression(copy_X=True, fit_intercept=True, n_jobs=None, normalize=False)"
      ]
     },
     "execution_count": 15,
     "metadata": {},
     "output_type": "execute_result"
    }
   ],
   "source": [
    "lin_reg = LinearRegression()\n",
    "lin_reg.fit(X, Y)"
   ]
  },
  {
   "cell_type": "markdown",
   "metadata": {},
   "source": [
    "How well does our model fit the data?"
   ]
  },
  {
   "cell_type": "code",
   "execution_count": 16,
   "metadata": {
    "ExecuteTime": {
     "end_time": "2018-04-02T16:07:18.026129Z",
     "start_time": "2018-04-02T16:07:18.007888Z"
    }
   },
   "outputs": [
    {
     "data": {
      "application/vnd.plotly.v1+json": {
       "config": {
        "plotlyServerURL": "https://plot.ly"
       },
       "data": [
        {
         "marker": {
          "opacity": 0.5
         },
         "mode": "markers",
         "type": "scatter",
         "x": [
          17.99,
          20.57,
          19.69,
          11.42,
          20.29,
          12.45,
          18.25,
          13.71,
          13,
          12.46,
          16.02,
          15.78,
          19.17,
          15.85,
          13.73,
          14.54,
          14.68,
          16.13,
          19.81,
          13.54,
          13.08,
          9.504,
          15.34,
          21.16,
          16.65,
          17.14,
          14.58,
          18.61,
          15.3,
          17.57,
          18.63,
          11.84,
          17.02,
          19.27,
          16.13,
          16.74,
          14.25,
          13.03,
          14.99,
          13.48,
          13.44,
          10.95,
          19.07,
          13.28,
          13.17,
          18.65,
          8.196,
          13.17,
          12.05,
          13.49,
          11.76,
          13.64,
          11.94,
          18.22,
          15.1,
          11.52,
          19.21,
          14.71,
          13.05,
          8.618,
          10.17,
          8.598,
          14.25,
          9.173,
          12.68,
          14.78,
          9.465,
          11.31,
          9.029,
          12.78,
          18.94,
          8.888,
          17.2,
          13.8,
          12.31,
          16.07,
          13.53,
          18.05,
          20.18,
          12.86,
          11.45,
          13.34,
          25.22,
          19.1,
          12,
          18.46,
          14.48,
          19.02,
          12.36,
          14.64,
          14.62,
          15.37,
          13.27,
          13.45,
          15.06,
          20.26,
          12.18,
          9.787,
          11.6,
          14.42,
          13.61,
          6.981,
          12.18,
          9.876,
          10.49,
          13.11,
          11.64,
          12.36,
          22.27,
          11.34,
          9.777,
          12.63,
          14.26,
          10.51,
          8.726,
          11.93,
          8.95,
          14.87,
          15.78,
          17.95,
          11.41,
          18.66,
          24.25,
          14.5,
          13.37,
          13.85,
          13.61,
          19,
          15.1,
          19.79,
          12.19,
          15.46,
          16.16,
          15.71,
          18.45,
          12.77,
          11.71,
          11.43,
          14.95,
          11.28,
          9.738,
          16.11,
          11.43,
          12.9,
          10.75,
          11.9,
          11.8,
          14.95,
          14.44,
          13.74,
          13,
          8.219,
          9.731,
          11.15,
          13.15,
          12.25,
          17.68,
          16.84,
          12.06,
          10.9,
          11.75,
          19.19,
          19.59,
          12.34,
          23.27,
          14.97,
          10.8,
          16.78,
          17.47,
          14.97,
          12.32,
          13.43,
          15.46,
          11.08,
          10.66,
          8.671,
          9.904,
          16.46,
          13.01,
          12.81,
          27.22,
          21.09,
          15.7,
          11.41,
          15.28,
          10.08,
          18.31,
          11.71,
          11.81,
          12.3,
          14.22,
          12.77,
          9.72,
          12.34,
          14.86,
          12.91,
          13.77,
          18.08,
          19.18,
          14.45,
          12.23,
          17.54,
          23.29,
          13.81,
          12.47,
          15.12,
          9.876,
          17.01,
          13.11,
          15.27,
          20.58,
          11.84,
          28.11,
          17.42,
          14.19,
          13.86,
          11.89,
          10.2,
          19.8,
          19.53,
          13.65,
          13.56,
          10.18,
          15.75,
          13.27,
          14.34,
          10.44,
          15,
          12.62,
          12.83,
          17.05,
          11.32,
          11.22,
          20.51,
          9.567,
          14.03,
          23.21,
          20.48,
          14.22,
          17.46,
          13.64,
          12.42,
          11.3,
          13.75,
          19.4,
          10.48,
          13.2,
          12.89,
          10.65,
          11.52,
          20.94,
          11.5,
          19.73,
          17.3,
          19.45,
          13.96,
          19.55,
          15.32,
          15.66,
          15.53,
          20.31,
          17.35,
          17.29,
          15.61,
          17.19,
          20.73,
          10.6,
          13.59,
          12.87,
          10.71,
          14.29,
          11.29,
          21.75,
          9.742,
          17.93,
          11.89,
          11.33,
          18.81,
          13.59,
          13.85,
          19.16,
          11.74,
          19.4,
          16.24,
          12.89,
          12.58,
          11.94,
          12.89,
          11.26,
          11.37,
          14.41,
          14.96,
          12.95,
          11.85,
          12.72,
          13.77,
          10.91,
          11.76,
          14.26,
          10.51,
          19.53,
          12.46,
          20.09,
          10.49,
          11.46,
          11.6,
          13.2,
          9,
          13.5,
          13.05,
          11.7,
          14.61,
          12.76,
          11.54,
          8.597,
          12.49,
          12.18,
          18.22,
          9.042,
          12.43,
          10.25,
          20.16,
          12.86,
          20.34,
          12.2,
          12.67,
          14.11,
          12.03,
          16.27,
          16.26,
          16.03,
          12.98,
          11.22,
          11.25,
          12.3,
          17.06,
          12.99,
          18.77,
          10.05,
          23.51,
          14.42,
          9.606,
          11.06,
          19.68,
          11.71,
          10.26,
          12.06,
          14.76,
          11.47,
          11.95,
          11.66,
          15.75,
          25.73,
          15.08,
          11.14,
          12.56,
          13.05,
          13.87,
          8.878,
          9.436,
          12.54,
          13.3,
          12.76,
          16.5,
          13.4,
          20.44,
          20.2,
          12.21,
          21.71,
          22.01,
          16.35,
          15.19,
          21.37,
          20.64,
          13.69,
          16.17,
          10.57,
          13.46,
          13.66,
          11.08,
          11.27,
          11.04,
          12.05,
          12.39,
          13.28,
          14.6,
          12.21,
          13.88,
          11.27,
          19.55,
          10.26,
          8.734,
          15.49,
          21.61,
          12.1,
          14.06,
          13.51,
          12.8,
          11.06,
          11.8,
          17.91,
          11.93,
          12.96,
          12.94,
          12.34,
          10.94,
          16.14,
          12.85,
          17.99,
          12.27,
          11.36,
          11.04,
          9.397,
          14.99,
          15.13,
          11.89,
          9.405,
          15.5,
          12.7,
          11.16,
          11.57,
          14.69,
          11.61,
          13.66,
          9.742,
          10.03,
          10.48,
          10.8,
          11.13,
          12.72,
          14.9,
          12.4,
          20.18,
          18.82,
          14.86,
          13.98,
          12.87,
          14.04,
          13.85,
          14.02,
          10.97,
          17.27,
          13.78,
          10.57,
          18.03,
          11.99,
          17.75,
          14.8,
          14.53,
          21.1,
          11.87,
          19.59,
          12,
          14.53,
          12.62,
          13.38,
          11.63,
          13.21,
          13,
          9.755,
          17.08,
          27.42,
          14.4,
          11.6,
          13.17,
          13.24,
          13.14,
          9.668,
          17.6,
          11.62,
          9.667,
          12.04,
          14.92,
          12.27,
          10.88,
          12.83,
          14.2,
          13.9,
          11.49,
          16.25,
          12.16,
          13.9,
          13.47,
          13.7,
          15.73,
          12.45,
          14.64,
          19.44,
          11.68,
          16.69,
          12.25,
          17.85,
          18.01,
          12.46,
          13.16,
          14.87,
          12.65,
          12.47,
          18.49,
          20.59,
          15.04,
          13.82,
          12.54,
          23.09,
          9.268,
          9.676,
          12.22,
          11.06,
          16.3,
          15.46,
          11.74,
          14.81,
          13.4,
          14.58,
          15.05,
          11.34,
          18.31,
          19.89,
          12.88,
          12.75,
          9.295,
          24.63,
          11.26,
          13.71,
          9.847,
          8.571,
          13.46,
          12.34,
          13.94,
          12.07,
          11.75,
          11.67,
          13.68,
          20.47,
          10.96,
          20.55,
          14.27,
          11.69,
          7.729,
          7.691,
          11.54,
          14.47,
          14.74,
          13.21,
          13.87,
          13.62,
          10.32,
          10.26,
          9.683,
          10.82,
          10.86,
          11.13,
          12.77,
          9.333,
          12.88,
          10.29,
          10.16,
          9.423,
          14.59,
          11.51,
          14.05,
          11.2,
          15.22,
          20.92,
          21.56,
          20.13,
          16.6,
          20.6,
          7.76
         ],
         "y": [
          0.9882824377412087,
          1.0088272437983712,
          1.0230251938454096,
          0.9912865697916271,
          0.9867246394897222,
          1.02132825704238,
          0.9798689652632266,
          1.0075379557168178,
          1.0442338178736497,
          0.9650846881325805,
          0.9845288456832391,
          1.0163623660556194,
          0.9525783807516655,
          0.9813325821994587,
          1.0367750638108326,
          0.9745992979275864,
          1.0290282971423637,
          1.0266873783740393,
          0.9703002774914413,
          -0.04274499792957486,
          0.005987973187493265,
          -0.015061664912809657,
          1.0492432275890915,
          1.022448473730069,
          0.9810595128712893,
          1.015937098458974,
          1.0183165945158368,
          1.0088649734998338,
          1.0268504048747145,
          1.0478240577440183,
          1.0452875370298425,
          1.0282593493577907,
          1.0300114470960395,
          0.9640739716373976,
          0.9620355813780419,
          0.9959011179216513,
          0.9902197793856884,
          -0.03656752797433021,
          0.9911616460080335,
          0.9506893406277523,
          0.9589919074691144,
          1.0448757290291792,
          1.001440003999126,
          1.0235460078465826,
          0.9821712989954625,
          0.9955344920937941,
          -0.028775362108646986,
          0.9709258572314321,
          -0.0027042575101387314,
          0.047007708267296874,
          0.02792172392526862,
          0.025616192566684487,
          0.026641827144606958,
          0.9564641375260974,
          0.9541082209503307,
          -0.016303633921637896,
          1.0173592864269494,
          0.9769744898219002,
          0.03626328366812423,
          -0.027522283753177248,
          0.024539754877570083,
          -0.02313479039885509,
          0.9522505458390098,
          -0.025729688661121408,
          1.0303532347243225,
          1.048249967207908,
          -0.002127708375255631,
          -0.03644180618550161,
          0.03741002714914855,
          -0.049502478174565656,
          1.0049455717050872,
          -0.00750051503329284,
          1.037904546599897,
          1.0110957931186724,
          0.02366661187597567,
          1.0257625883117443,
          0.03903864353098832,
          1.01263060645941,
          0.9756040566545909,
          0.041053188784906894,
          -0.0453756504774287,
          0.023208107804037176,
          1.0295897835096341,
          0.9987239656188904,
          -0.017071627521275605,
          0.962487562348955,
          1.006524967629911,
          1.039659808603764,
          0.049613762034217135,
          0.04625616501231512,
          0.034387058430374526,
          1.0135398037494523,
          -0.03658203271383753,
          0.029972749201348237,
          0.9525771103461618,
          0.9868324130906043,
          0.009670417134217603,
          -0.04006113387663285,
          0.0002948309501598981,
          0.9634958208719488,
          1.0400490328077936,
          -0.031189081976373257,
          0.014766172643509587,
          -0.03481146485211212,
          0.043064705085548854,
          0.9778042864455629,
          -0.030660517368610918,
          0.021532190344299734,
          0.9822410282494372,
          -0.027190884306380315,
          0.02591914206378787,
          0.0032775058263665446,
          -0.00043257316878295843,
          -0.00927581039573113,
          -0.028022332642779136,
          0.02565538180362789,
          0.020765010263587583,
          1.0085463955079557,
          1.0123521230355919,
          1.0055427535945811,
          -0.03441884050411853,
          1.0135198130088936,
          0.9701291053511021,
          0.007579646458231538,
          -0.033973834765942935,
          0.03945973380044271,
          1.0138324637979894,
          1.0278552264935568,
          -0.030952946685339756,
          1.0449013409152343,
          -0.03585928268989197,
          0.9864509612027705,
          0.9572881009954584,
          -0.032304410260882134,
          0.9705870585770102,
          1.0432361580636904,
          -0.01286927361855348,
          -0.02573085084230259,
          1.0427776123585526,
          -0.01796507026748434,
          0.010693669031674777,
          1.0075352112871798,
          -0.009702384842805924,
          -0.009708353152281538,
          0.014303798885729468,
          -0.020294199734468523,
          1.0002831019144356,
          -0.014591362779613128,
          0.009117140396149116,
          0.010828471982263055,
          -0.048906795018676764,
          0.034343564422886275,
          0.014343693714903377,
          -0.044644339302578745,
          -0.037475553812963296,
          -0.0393258647706642,
          1.0123522723758251,
          0.023262572762892925,
          0.018733913682386555,
          0.044817899142746295,
          0.03409037979997785,
          0.9572068928347204,
          0.9715986292892975,
          0.04018328737039614,
          0.9659372451825727,
          0.00985054906068341,
          0.015051794936172383,
          0.9816233980897204,
          1.0380675676092699,
          0.029697591355650463,
          0.04994823592955422,
          1.0460618768380967,
          1.0109708310394385,
          -0.04784594117658905,
          0.03330871874570869,
          -0.037933758738522276,
          0.01891035775740564,
          0.99504247772353,
          0.027197198770657502,
          -0.008382745224971531,
          0.9879173831783183,
          0.9595763148001197,
          1.0063089133258523,
          0.04887856351151909,
          1.0237647208961929,
          0.020726835037894714,
          0.9938209373783287,
          -0.03227315514777654,
          0.0046312509488049755,
          -0.036215528312353064,
          1.0311253058814787,
          -0.017224693178361193,
          0.003472686892813215,
          0.9777920608779109,
          0.9770862260365425,
          -0.01664687074089021,
          0.9994613294157697,
          1.033339140244686,
          0.9851074004147415,
          0.9648949748250584,
          -0.003425366624265583,
          0.9741864901074626,
          0.9638800531916971,
          0.9630821689749631,
          9.36511845976637e-05,
          1.0412417720197602,
          -0.005641417478525826,
          0.987754143277991,
          0.030040595043909324,
          -0.032182417219755774,
          0.9584967321479687,
          0.04560438746602352,
          1.0344542637048069,
          0.9751457292952876,
          1.012811333383359,
          1.0209712800324358,
          -0.004602376706926592,
          0.032447403493843494,
          0.9991371075338684,
          1.0378378183362058,
          0.019400410130949716,
          -0.037356599182028494,
          -0.006149123414705436,
          1.0206060323074697,
          -0.014409985705009433,
          0.03199263580452627,
          -0.03449333267254139,
          -0.005192418716176483,
          0.049641070581588384,
          0.9578236092527679,
          0.9528381430230528,
          0.02140569168675792,
          -0.012498588301758172,
          1.0412395711367308,
          -0.04659651638966033,
          0.024615630640778957,
          0.9681566957604539,
          1.0396862437084018,
          -0.006261978328192884,
          1.0029713880216329,
          -0.0457921589168978,
          -0.023856974009557864,
          0.019682855202702826,
          -0.02101915603602106,
          0.9720235420071937,
          -0.017221263196799577,
          -0.021879586776601647,
          0.038861396683604096,
          0.018988572539542156,
          -0.012136200156709985,
          1.0264949836260164,
          -0.013782394815648205,
          1.0274543340544233,
          1.0133973893030686,
          1.002338517338076,
          1.0060752628485508,
          0.9558304026856672,
          1.0400245675369588,
          1.0015420234884398,
          0.981768752184339,
          0.9748075510251772,
          0.9923203723582554,
          0.9579276202596596,
          1.010355364542512,
          1.0247810344780597,
          0.9957557714745358,
          0.01977497295903688,
          -0.014247770888706345,
          0.0037734734071653148,
          0.02103669759829882,
          -0.04619637768333188,
          0.013948038755341424,
          1.04479544328864,
          0.04268278123222494,
          0.9599852969501064,
          0.0282183950012211,
          0.004931174779376615,
          0.9992001583160333,
          -0.03407571072214209,
          -0.02247341749519669,
          1.0028892430825374,
          0.03140013937204521,
          0.9693826651953679,
          1.017044578475932,
          0.01694698281871722,
          -0.008671487904728784,
          -0.03622921600657503,
          -0.04802613887889889,
          -0.039913481152190095,
          -0.040436628292109755,
          0.03415594513153279,
          0.005633894959451033,
          0.012212681238462308,
          0.01725832759000559,
          -0.04624899481885911,
          0.03395515979546741,
          0.010549102967539116,
          0.9751307344898665,
          0.039516428995375205,
          0.008040814820433048,
          1.013752014786129,
          0.034627594319444135,
          1.012363458333396,
          -0.03319792400486342,
          0.02220634234722947,
          -0.021129836597285945,
          0.0050474045139446075,
          -0.04146710019760356,
          -0.024631322552711013,
          0.0182279408828845,
          0.04907922428423715,
          -0.009754968253775566,
          0.014364578692449143,
          -0.03301738175026675,
          0.04931594683124385,
          0.025346832226944394,
          0.00244721933877777,
          0.9570480008343145,
          0.023190366494320352,
          -0.03910886751313051,
          0.007833065249780835,
          0.9778048386687093,
          0.04059678536499148,
          0.9522694216138095,
          0.028591267743030432,
          0.021918947874137756,
          0.04395766819972233,
          -0.003062574317324984,
          0.9531311533447542,
          1.0279094229110384,
          1.041950071174706,
          0.031505714474046514,
          0.032979113322805606,
          -0.0010429083451777288,
          0.020585400330979053,
          0.995591981455328,
          0.0013301608541104598,
          0.9672732792325378,
          0.03821472774375703,
          1.040068046869684,
          -0.005992674242448336,
          0.03378867585215074,
          -0.005684580220582436,
          0.9759516778589525,
          -0.012935930558533273,
          0.005776765073708556,
          0.010200765798983068,
          -0.004031211258015088,
          -0.04178866143872171,
          0.03786799349539753,
          -0.027484915544165312,
          0.9641983142496282,
          0.9748028316544393,
          0.9760036528195579,
          -0.03026717662796782,
          -0.013239624334340193,
          -0.019456540633348618,
          -0.04670245236826023,
          -0.03910941907130786,
          0.03056351791964082,
          0.02484035825569536,
          0.02140043274125697,
          0.032729911123808464,
          0.018880177824061095,
          0.03618123590027267,
          0.9837524111561957,
          1.023834722284037,
          0.025772438975539852,
          0.9549096794480292,
          0.9922191287965569,
          0.9903506351955762,
          -0.044826407423303606,
          0.9640471591409607,
          0.9922914303620027,
          -0.03337141554380055,
          0.0024791400754508378,
          0.026051961003934185,
          -0.04173865231263218,
          0.032064761945454615,
          1.0356693244759512,
          0.02176694754504538,
          0.04204798474007038,
          -0.005959742027562442,
          0.04239035309024376,
          0.04687341710706558,
          1.0018651855370042,
          -0.005104662420184591,
          -0.02394305358846707,
          0.013218180477813757,
          0.9747130891055664,
          -0.03339291498536488,
          -0.019974778600772392,
          0.9768886343397658,
          1.0330019434325224,
          -0.0450778418337576,
          -0.032233901106997837,
          -0.004941846463013447,
          -0.046227695714012806,
          -0.02150287955409204,
          -0.029826630122216716,
          1.0488869233919875,
          -0.006975506255012545,
          -0.02255274630646357,
          0.02511474707650649,
          -0.04728434288511826,
          -0.032376839328186274,
          -0.02372430746744,
          -0.033555019287457216,
          1.0358974372006478,
          -0.0003545164992057037,
          -0.01661861994045344,
          0.015687933563531264,
          -0.02207739977967249,
          0.0041288825803996315,
          0.9840731502599356,
          0.049691554063151816,
          -0.030722110555434536,
          1.01828926903679,
          -0.008389084949132486,
          0.0032185377994961364,
          -0.029437490872964468,
          0.037974832994692995,
          0.00857547899571226,
          -0.026091674100207643,
          -0.04797979710733511,
          -0.03736657116013098,
          -0.016270722397355324,
          0.036226613381272574,
          0.008450121262229451,
          0.02773078174328926,
          1.0187755357469321,
          -0.01892893458864601,
          1.028016773065914,
          0.9809958167864925,
          -0.026959834896502756,
          0.9637569166045519,
          -0.01521485064394159,
          -0.02722970777472509,
          0.03308178333574699,
          -0.037393486601419626,
          0.03295692881989239,
          0.9940275492240305,
          0.034171010664844514,
          -0.03643174127351259,
          1.0137455413501464,
          0.041638123889491216,
          1.0455304296345376,
          -0.022664168640156725,
          0.017307299253927058,
          1.0215490013835689,
          0.02835209287826837,
          0.9541515664399838,
          0.003575048531592309,
          0.026128987299297704,
          0.012398379146999795,
          -0.046148558421024555,
          -0.02453235977227296,
          0.007037302856413477,
          -0.025717342553218336,
          0.04931379782146962,
          0.953026427277295,
          0.9763604651162581,
          0.017837883310883845,
          0.01611984550947905,
          -0.0429973444310087,
          -0.0361420948017826,
          -0.012747243447044067,
          0.01140793257205306,
          1.0416224297336365,
          -0.048257630520816754,
          0.041203788254998513,
          -0.03775928755977401,
          -0.02677710950362048,
          -0.03874149566318318,
          0.043395531331928194,
          0.04788894716991199,
          0.008956127216653162,
          -0.01907086046875204,
          -0.007212002677113735,
          0.9703109841977002,
          -0.017087078956572778,
          -0.04591674226005227,
          -0.03583095909098621,
          -0.032719912873589704,
          0.04232618680986695,
          -0.03068430049417821,
          -0.04488721814127618,
          1.011613160092392,
          -0.014197640910689195,
          0.9505142526646642,
          0.04424865434549294,
          -0.009377567667256892,
          0.9992725978204073,
          -0.020795940833734896,
          -0.038197090814506535,
          0.023479969356113392,
          0.009563252770132868,
          0.03429662715846481,
          0.9528614137850346,
          1.004344479101055,
          -0.038235575812127935,
          1.0418289148207542,
          -0.00846905311872205,
          1.0335437054528773,
          -0.0019313566430119722,
          -0.015540594413125088,
          -0.015122456482032455,
          -0.01547265509931589,
          0.0289186451931486,
          0.9801952041118787,
          0.0497167627731359,
          0.008036393591328128,
          1.0217324943880333,
          -0.026654456176171584,
          0.9865389255140009,
          -0.029925746973441913,
          0.9955315368973445,
          0.9604199828349613,
          0.02992365930446235,
          0.01905530023897685,
          -0.039260321647063036,
          0.9926454798750155,
          -0.002233092164620254,
          -0.018229639598393153,
          -0.01733576696725904,
          -0.02295806420585277,
          0.04072897163283261,
          -0.00618088297670568,
          0.04408982905015074,
          0.04449959657237805,
          0.04553870562456837,
          0.007477176975951259,
          -0.0393985036823741,
          1.0432167558649648,
          -0.014193337792122833,
          1.0430615024820133,
          0.9632792903156826,
          0.0499570646609534,
          0.01728788625490578,
          -0.02624206466653667,
          -0.036984852430635755,
          -0.036654290047726516,
          0.04856718036957762,
          0.009421197884669372,
          0.03209494861222885,
          0.036170373837137726,
          0.01394135071333874,
          0.04078051487011039,
          -0.044368771823798836,
          0.003204540730436578,
          -0.009697848286415234,
          0.019518715180125837,
          0.0031056176707711103,
          0.0047096734598473106,
          -0.028978979006687635,
          -0.011193123514208383,
          -0.0202431743735665,
          0.041303540567838165,
          0.012109843555765998,
          0.035222485329605535,
          -0.031160677842826702,
          0.015455716061224659,
          1.01530785580895,
          1.0441199842765452,
          0.9857730075427886,
          1.0446761864962573,
          1.0023759932683975,
          1.02759537318266,
          -0.002953315404238488
         ]
        },
        {
         "line": {
          "color": "orange"
         },
         "mode": "lines",
         "name": "Least Squares",
         "type": "scatter",
         "x": [
          7.691,
          8.107714285714286,
          8.52442857142857,
          8.941142857142857,
          9.357857142857142,
          9.774571428571429,
          10.191285714285714,
          10.608,
          11.024714285714285,
          11.44142857142857,
          11.858142857142857,
          12.274857142857144,
          12.691571428571429,
          13.108285714285714,
          13.524999999999999,
          13.941714285714285,
          14.358428571428572,
          14.775142857142857,
          15.191857142857142,
          15.608571428571429,
          16.025285714285715,
          16.442,
          16.858714285714285,
          17.27542857142857,
          17.692142857142855,
          18.108857142857143,
          18.52557142857143,
          18.942285714285713,
          19.358999999999998,
          19.775714285714287,
          20.19242857142857,
          20.609142857142857,
          21.02585714285714,
          21.442571428571426,
          21.859285714285715,
          22.276,
          22.692714285714285,
          23.10942857142857,
          23.526142857142858,
          23.942857142857143,
          24.359571428571428,
          24.776285714285713,
          25.192999999999998,
          25.609714285714283,
          26.02642857142857,
          26.443142857142856,
          26.85985714285714,
          27.276571428571426,
          27.69328571428571,
          28.11
         ],
         "y": [
          -0.2592505255840679,
          -0.21809425706067354,
          -0.17693798853727927,
          -0.13578172001388478,
          -0.09462545149049051,
          -0.05346918296709602,
          -0.01231291444370175,
          0.02884335407969263,
          0.06999962260308701,
          0.11115589112648117,
          0.15231215964987577,
          0.19346842817327015,
          0.23462469669666453,
          0.2757809652200587,
          0.31693723374345306,
          0.35809350226684744,
          0.39924977079024204,
          0.4404060393136362,
          0.4815623078370306,
          0.522718576360425,
          0.5638748448838196,
          0.6050311134072137,
          0.6461873819306081,
          0.6873436504540023,
          0.7284999189773966,
          0.7696561875007912,
          0.8108124560241856,
          0.8519687245475798,
          0.8931249930709741,
          0.9342812615943688,
          0.9754375301177631,
          1.0165937986411575,
          1.0577500671645517,
          1.0989063356879458,
          1.1400626042113404,
          1.1812188727347346,
          1.2223751412581292,
          1.2635314097815233,
          1.304687678304918,
          1.345843946828312,
          1.3870002153517067,
          1.4281564838751009,
          1.469312752398495,
          1.5104690209218896,
          1.5516252894452842,
          1.5927815579686784,
          1.6339378264920725,
          1.6750940950154671,
          1.7162503635388613,
          1.757406632062256
         ]
        }
       ],
       "layout": {
        "template": {
         "data": {
          "bar": [
           {
            "error_x": {
             "color": "#2a3f5f"
            },
            "error_y": {
             "color": "#2a3f5f"
            },
            "marker": {
             "line": {
              "color": "#E5ECF6",
              "width": 0.5
             }
            },
            "type": "bar"
           }
          ],
          "barpolar": [
           {
            "marker": {
             "line": {
              "color": "#E5ECF6",
              "width": 0.5
             }
            },
            "type": "barpolar"
           }
          ],
          "carpet": [
           {
            "aaxis": {
             "endlinecolor": "#2a3f5f",
             "gridcolor": "white",
             "linecolor": "white",
             "minorgridcolor": "white",
             "startlinecolor": "#2a3f5f"
            },
            "baxis": {
             "endlinecolor": "#2a3f5f",
             "gridcolor": "white",
             "linecolor": "white",
             "minorgridcolor": "white",
             "startlinecolor": "#2a3f5f"
            },
            "type": "carpet"
           }
          ],
          "choropleth": [
           {
            "colorbar": {
             "outlinewidth": 0,
             "ticks": ""
            },
            "type": "choropleth"
           }
          ],
          "contour": [
           {
            "colorbar": {
             "outlinewidth": 0,
             "ticks": ""
            },
            "colorscale": [
             [
              0,
              "#0d0887"
             ],
             [
              0.1111111111111111,
              "#46039f"
             ],
             [
              0.2222222222222222,
              "#7201a8"
             ],
             [
              0.3333333333333333,
              "#9c179e"
             ],
             [
              0.4444444444444444,
              "#bd3786"
             ],
             [
              0.5555555555555556,
              "#d8576b"
             ],
             [
              0.6666666666666666,
              "#ed7953"
             ],
             [
              0.7777777777777778,
              "#fb9f3a"
             ],
             [
              0.8888888888888888,
              "#fdca26"
             ],
             [
              1,
              "#f0f921"
             ]
            ],
            "type": "contour"
           }
          ],
          "contourcarpet": [
           {
            "colorbar": {
             "outlinewidth": 0,
             "ticks": ""
            },
            "type": "contourcarpet"
           }
          ],
          "heatmap": [
           {
            "colorbar": {
             "outlinewidth": 0,
             "ticks": ""
            },
            "colorscale": [
             [
              0,
              "#0d0887"
             ],
             [
              0.1111111111111111,
              "#46039f"
             ],
             [
              0.2222222222222222,
              "#7201a8"
             ],
             [
              0.3333333333333333,
              "#9c179e"
             ],
             [
              0.4444444444444444,
              "#bd3786"
             ],
             [
              0.5555555555555556,
              "#d8576b"
             ],
             [
              0.6666666666666666,
              "#ed7953"
             ],
             [
              0.7777777777777778,
              "#fb9f3a"
             ],
             [
              0.8888888888888888,
              "#fdca26"
             ],
             [
              1,
              "#f0f921"
             ]
            ],
            "type": "heatmap"
           }
          ],
          "heatmapgl": [
           {
            "colorbar": {
             "outlinewidth": 0,
             "ticks": ""
            },
            "colorscale": [
             [
              0,
              "#0d0887"
             ],
             [
              0.1111111111111111,
              "#46039f"
             ],
             [
              0.2222222222222222,
              "#7201a8"
             ],
             [
              0.3333333333333333,
              "#9c179e"
             ],
             [
              0.4444444444444444,
              "#bd3786"
             ],
             [
              0.5555555555555556,
              "#d8576b"
             ],
             [
              0.6666666666666666,
              "#ed7953"
             ],
             [
              0.7777777777777778,
              "#fb9f3a"
             ],
             [
              0.8888888888888888,
              "#fdca26"
             ],
             [
              1,
              "#f0f921"
             ]
            ],
            "type": "heatmapgl"
           }
          ],
          "histogram": [
           {
            "marker": {
             "colorbar": {
              "outlinewidth": 0,
              "ticks": ""
             }
            },
            "type": "histogram"
           }
          ],
          "histogram2d": [
           {
            "colorbar": {
             "outlinewidth": 0,
             "ticks": ""
            },
            "colorscale": [
             [
              0,
              "#0d0887"
             ],
             [
              0.1111111111111111,
              "#46039f"
             ],
             [
              0.2222222222222222,
              "#7201a8"
             ],
             [
              0.3333333333333333,
              "#9c179e"
             ],
             [
              0.4444444444444444,
              "#bd3786"
             ],
             [
              0.5555555555555556,
              "#d8576b"
             ],
             [
              0.6666666666666666,
              "#ed7953"
             ],
             [
              0.7777777777777778,
              "#fb9f3a"
             ],
             [
              0.8888888888888888,
              "#fdca26"
             ],
             [
              1,
              "#f0f921"
             ]
            ],
            "type": "histogram2d"
           }
          ],
          "histogram2dcontour": [
           {
            "colorbar": {
             "outlinewidth": 0,
             "ticks": ""
            },
            "colorscale": [
             [
              0,
              "#0d0887"
             ],
             [
              0.1111111111111111,
              "#46039f"
             ],
             [
              0.2222222222222222,
              "#7201a8"
             ],
             [
              0.3333333333333333,
              "#9c179e"
             ],
             [
              0.4444444444444444,
              "#bd3786"
             ],
             [
              0.5555555555555556,
              "#d8576b"
             ],
             [
              0.6666666666666666,
              "#ed7953"
             ],
             [
              0.7777777777777778,
              "#fb9f3a"
             ],
             [
              0.8888888888888888,
              "#fdca26"
             ],
             [
              1,
              "#f0f921"
             ]
            ],
            "type": "histogram2dcontour"
           }
          ],
          "mesh3d": [
           {
            "colorbar": {
             "outlinewidth": 0,
             "ticks": ""
            },
            "type": "mesh3d"
           }
          ],
          "parcoords": [
           {
            "line": {
             "colorbar": {
              "outlinewidth": 0,
              "ticks": ""
             }
            },
            "type": "parcoords"
           }
          ],
          "pie": [
           {
            "automargin": true,
            "type": "pie"
           }
          ],
          "scatter": [
           {
            "marker": {
             "colorbar": {
              "outlinewidth": 0,
              "ticks": ""
             }
            },
            "type": "scatter"
           }
          ],
          "scatter3d": [
           {
            "line": {
             "colorbar": {
              "outlinewidth": 0,
              "ticks": ""
             }
            },
            "marker": {
             "colorbar": {
              "outlinewidth": 0,
              "ticks": ""
             }
            },
            "type": "scatter3d"
           }
          ],
          "scattercarpet": [
           {
            "marker": {
             "colorbar": {
              "outlinewidth": 0,
              "ticks": ""
             }
            },
            "type": "scattercarpet"
           }
          ],
          "scattergeo": [
           {
            "marker": {
             "colorbar": {
              "outlinewidth": 0,
              "ticks": ""
             }
            },
            "type": "scattergeo"
           }
          ],
          "scattergl": [
           {
            "marker": {
             "colorbar": {
              "outlinewidth": 0,
              "ticks": ""
             }
            },
            "type": "scattergl"
           }
          ],
          "scattermapbox": [
           {
            "marker": {
             "colorbar": {
              "outlinewidth": 0,
              "ticks": ""
             }
            },
            "type": "scattermapbox"
           }
          ],
          "scatterpolar": [
           {
            "marker": {
             "colorbar": {
              "outlinewidth": 0,
              "ticks": ""
             }
            },
            "type": "scatterpolar"
           }
          ],
          "scatterpolargl": [
           {
            "marker": {
             "colorbar": {
              "outlinewidth": 0,
              "ticks": ""
             }
            },
            "type": "scatterpolargl"
           }
          ],
          "scatterternary": [
           {
            "marker": {
             "colorbar": {
              "outlinewidth": 0,
              "ticks": ""
             }
            },
            "type": "scatterternary"
           }
          ],
          "surface": [
           {
            "colorbar": {
             "outlinewidth": 0,
             "ticks": ""
            },
            "colorscale": [
             [
              0,
              "#0d0887"
             ],
             [
              0.1111111111111111,
              "#46039f"
             ],
             [
              0.2222222222222222,
              "#7201a8"
             ],
             [
              0.3333333333333333,
              "#9c179e"
             ],
             [
              0.4444444444444444,
              "#bd3786"
             ],
             [
              0.5555555555555556,
              "#d8576b"
             ],
             [
              0.6666666666666666,
              "#ed7953"
             ],
             [
              0.7777777777777778,
              "#fb9f3a"
             ],
             [
              0.8888888888888888,
              "#fdca26"
             ],
             [
              1,
              "#f0f921"
             ]
            ],
            "type": "surface"
           }
          ],
          "table": [
           {
            "cells": {
             "fill": {
              "color": "#EBF0F8"
             },
             "line": {
              "color": "white"
             }
            },
            "header": {
             "fill": {
              "color": "#C8D4E3"
             },
             "line": {
              "color": "white"
             }
            },
            "type": "table"
           }
          ]
         },
         "layout": {
          "annotationdefaults": {
           "arrowcolor": "#2a3f5f",
           "arrowhead": 0,
           "arrowwidth": 1
          },
          "coloraxis": {
           "colorbar": {
            "outlinewidth": 0,
            "ticks": ""
           }
          },
          "colorscale": {
           "diverging": [
            [
             0,
             "#8e0152"
            ],
            [
             0.1,
             "#c51b7d"
            ],
            [
             0.2,
             "#de77ae"
            ],
            [
             0.3,
             "#f1b6da"
            ],
            [
             0.4,
             "#fde0ef"
            ],
            [
             0.5,
             "#f7f7f7"
            ],
            [
             0.6,
             "#e6f5d0"
            ],
            [
             0.7,
             "#b8e186"
            ],
            [
             0.8,
             "#7fbc41"
            ],
            [
             0.9,
             "#4d9221"
            ],
            [
             1,
             "#276419"
            ]
           ],
           "sequential": [
            [
             0,
             "#0d0887"
            ],
            [
             0.1111111111111111,
             "#46039f"
            ],
            [
             0.2222222222222222,
             "#7201a8"
            ],
            [
             0.3333333333333333,
             "#9c179e"
            ],
            [
             0.4444444444444444,
             "#bd3786"
            ],
            [
             0.5555555555555556,
             "#d8576b"
            ],
            [
             0.6666666666666666,
             "#ed7953"
            ],
            [
             0.7777777777777778,
             "#fb9f3a"
            ],
            [
             0.8888888888888888,
             "#fdca26"
            ],
            [
             1,
             "#f0f921"
            ]
           ],
           "sequentialminus": [
            [
             0,
             "#0d0887"
            ],
            [
             0.1111111111111111,
             "#46039f"
            ],
            [
             0.2222222222222222,
             "#7201a8"
            ],
            [
             0.3333333333333333,
             "#9c179e"
            ],
            [
             0.4444444444444444,
             "#bd3786"
            ],
            [
             0.5555555555555556,
             "#d8576b"
            ],
            [
             0.6666666666666666,
             "#ed7953"
            ],
            [
             0.7777777777777778,
             "#fb9f3a"
            ],
            [
             0.8888888888888888,
             "#fdca26"
            ],
            [
             1,
             "#f0f921"
            ]
           ]
          },
          "colorway": [
           "#636efa",
           "#EF553B",
           "#00cc96",
           "#ab63fa",
           "#FFA15A",
           "#19d3f3",
           "#FF6692",
           "#B6E880",
           "#FF97FF",
           "#FECB52"
          ],
          "font": {
           "color": "#2a3f5f"
          },
          "geo": {
           "bgcolor": "white",
           "lakecolor": "white",
           "landcolor": "#E5ECF6",
           "showlakes": true,
           "showland": true,
           "subunitcolor": "white"
          },
          "hoverlabel": {
           "align": "left"
          },
          "hovermode": "closest",
          "mapbox": {
           "style": "light"
          },
          "paper_bgcolor": "white",
          "plot_bgcolor": "#E5ECF6",
          "polar": {
           "angularaxis": {
            "gridcolor": "white",
            "linecolor": "white",
            "ticks": ""
           },
           "bgcolor": "#E5ECF6",
           "radialaxis": {
            "gridcolor": "white",
            "linecolor": "white",
            "ticks": ""
           }
          },
          "scene": {
           "xaxis": {
            "backgroundcolor": "#E5ECF6",
            "gridcolor": "white",
            "gridwidth": 2,
            "linecolor": "white",
            "showbackground": true,
            "ticks": "",
            "zerolinecolor": "white"
           },
           "yaxis": {
            "backgroundcolor": "#E5ECF6",
            "gridcolor": "white",
            "gridwidth": 2,
            "linecolor": "white",
            "showbackground": true,
            "ticks": "",
            "zerolinecolor": "white"
           },
           "zaxis": {
            "backgroundcolor": "#E5ECF6",
            "gridcolor": "white",
            "gridwidth": 2,
            "linecolor": "white",
            "showbackground": true,
            "ticks": "",
            "zerolinecolor": "white"
           }
          },
          "shapedefaults": {
           "line": {
            "color": "#2a3f5f"
           }
          },
          "ternary": {
           "aaxis": {
            "gridcolor": "white",
            "linecolor": "white",
            "ticks": ""
           },
           "baxis": {
            "gridcolor": "white",
            "linecolor": "white",
            "ticks": ""
           },
           "bgcolor": "#E5ECF6",
           "caxis": {
            "gridcolor": "white",
            "linecolor": "white",
            "ticks": ""
           }
          },
          "title": {
           "x": 0.05
          },
          "xaxis": {
           "automargin": true,
           "gridcolor": "white",
           "linecolor": "white",
           "ticks": "",
           "title": {
            "standoff": 15
           },
           "zerolinecolor": "white",
           "zerolinewidth": 2
          },
          "yaxis": {
           "automargin": true,
           "gridcolor": "white",
           "linecolor": "white",
           "ticks": "",
           "title": {
            "standoff": 15
           },
           "zerolinecolor": "white",
           "zerolinewidth": 2
          }
         }
        },
        "xaxis": {
         "title": {
          "text": "Mean Radius"
         }
        },
        "yaxis": {
         "title": {
          "text": "Malignant"
         }
        }
       }
      },
      "text/html": [
       "<div>\n",
       "        \n",
       "        \n",
       "            <div id=\"fd3102d1-7551-4233-b271-6a9bc08074b3\" class=\"plotly-graph-div\" style=\"height:525px; width:100%;\"></div>\n",
       "            <script type=\"text/javascript\">\n",
       "                require([\"plotly\"], function(Plotly) {\n",
       "                    window.PLOTLYENV=window.PLOTLYENV || {};\n",
       "                    \n",
       "                if (document.getElementById(\"fd3102d1-7551-4233-b271-6a9bc08074b3\")) {\n",
       "                    Plotly.newPlot(\n",
       "                        'fd3102d1-7551-4233-b271-6a9bc08074b3',\n",
       "                        [{\"marker\": {\"opacity\": 0.5}, \"mode\": \"markers\", \"type\": \"scatter\", \"x\": [17.99, 20.57, 19.69, 11.42, 20.29, 12.45, 18.25, 13.71, 13.0, 12.46, 16.02, 15.78, 19.17, 15.85, 13.73, 14.54, 14.68, 16.13, 19.81, 13.54, 13.08, 9.504, 15.34, 21.16, 16.65, 17.14, 14.58, 18.61, 15.3, 17.57, 18.63, 11.84, 17.02, 19.27, 16.13, 16.74, 14.25, 13.03, 14.99, 13.48, 13.44, 10.95, 19.07, 13.28, 13.17, 18.65, 8.196, 13.17, 12.05, 13.49, 11.76, 13.64, 11.94, 18.22, 15.1, 11.52, 19.21, 14.71, 13.05, 8.618, 10.17, 8.598, 14.25, 9.173, 12.68, 14.78, 9.465, 11.31, 9.029, 12.78, 18.94, 8.888, 17.2, 13.8, 12.31, 16.07, 13.53, 18.05, 20.18, 12.86, 11.45, 13.34, 25.22, 19.1, 12.0, 18.46, 14.48, 19.02, 12.36, 14.64, 14.62, 15.37, 13.27, 13.45, 15.06, 20.26, 12.18, 9.787, 11.6, 14.42, 13.61, 6.981, 12.18, 9.876, 10.49, 13.11, 11.64, 12.36, 22.27, 11.34, 9.777, 12.63, 14.26, 10.51, 8.726, 11.93, 8.95, 14.87, 15.78, 17.95, 11.41, 18.66, 24.25, 14.5, 13.37, 13.85, 13.61, 19.0, 15.1, 19.79, 12.19, 15.46, 16.16, 15.71, 18.45, 12.77, 11.71, 11.43, 14.95, 11.28, 9.738, 16.11, 11.43, 12.9, 10.75, 11.9, 11.8, 14.95, 14.44, 13.74, 13.0, 8.219, 9.731, 11.15, 13.15, 12.25, 17.68, 16.84, 12.06, 10.9, 11.75, 19.19, 19.59, 12.34, 23.27, 14.97, 10.8, 16.78, 17.47, 14.97, 12.32, 13.43, 15.46, 11.08, 10.66, 8.671, 9.904, 16.46, 13.01, 12.81, 27.22, 21.09, 15.7, 11.41, 15.28, 10.08, 18.31, 11.71, 11.81, 12.3, 14.22, 12.77, 9.72, 12.34, 14.86, 12.91, 13.77, 18.08, 19.18, 14.45, 12.23, 17.54, 23.29, 13.81, 12.47, 15.12, 9.876, 17.01, 13.11, 15.27, 20.58, 11.84, 28.11, 17.42, 14.19, 13.86, 11.89, 10.2, 19.8, 19.53, 13.65, 13.56, 10.18, 15.75, 13.27, 14.34, 10.44, 15.0, 12.62, 12.83, 17.05, 11.32, 11.22, 20.51, 9.567, 14.03, 23.21, 20.48, 14.22, 17.46, 13.64, 12.42, 11.3, 13.75, 19.4, 10.48, 13.2, 12.89, 10.65, 11.52, 20.94, 11.5, 19.73, 17.3, 19.45, 13.96, 19.55, 15.32, 15.66, 15.53, 20.31, 17.35, 17.29, 15.61, 17.19, 20.73, 10.6, 13.59, 12.87, 10.71, 14.29, 11.29, 21.75, 9.742, 17.93, 11.89, 11.33, 18.81, 13.59, 13.85, 19.16, 11.74, 19.4, 16.24, 12.89, 12.58, 11.94, 12.89, 11.26, 11.37, 14.41, 14.96, 12.95, 11.85, 12.72, 13.77, 10.91, 11.76, 14.26, 10.51, 19.53, 12.46, 20.09, 10.49, 11.46, 11.6, 13.2, 9.0, 13.5, 13.05, 11.7, 14.61, 12.76, 11.54, 8.597, 12.49, 12.18, 18.22, 9.042, 12.43, 10.25, 20.16, 12.86, 20.34, 12.2, 12.67, 14.11, 12.03, 16.27, 16.26, 16.03, 12.98, 11.22, 11.25, 12.3, 17.06, 12.99, 18.77, 10.05, 23.51, 14.42, 9.606, 11.06, 19.68, 11.71, 10.26, 12.06, 14.76, 11.47, 11.95, 11.66, 15.75, 25.73, 15.08, 11.14, 12.56, 13.05, 13.87, 8.878, 9.436, 12.54, 13.3, 12.76, 16.5, 13.4, 20.44, 20.2, 12.21, 21.71, 22.01, 16.35, 15.19, 21.37, 20.64, 13.69, 16.17, 10.57, 13.46, 13.66, 11.08, 11.27, 11.04, 12.05, 12.39, 13.28, 14.6, 12.21, 13.88, 11.27, 19.55, 10.26, 8.734, 15.49, 21.61, 12.1, 14.06, 13.51, 12.8, 11.06, 11.8, 17.91, 11.93, 12.96, 12.94, 12.34, 10.94, 16.14, 12.85, 17.99, 12.27, 11.36, 11.04, 9.397, 14.99, 15.13, 11.89, 9.405, 15.5, 12.7, 11.16, 11.57, 14.69, 11.61, 13.66, 9.742, 10.03, 10.48, 10.8, 11.13, 12.72, 14.9, 12.4, 20.18, 18.82, 14.86, 13.98, 12.87, 14.04, 13.85, 14.02, 10.97, 17.27, 13.78, 10.57, 18.03, 11.99, 17.75, 14.8, 14.53, 21.1, 11.87, 19.59, 12.0, 14.53, 12.62, 13.38, 11.63, 13.21, 13.0, 9.755, 17.08, 27.42, 14.4, 11.6, 13.17, 13.24, 13.14, 9.668, 17.6, 11.62, 9.667, 12.04, 14.92, 12.27, 10.88, 12.83, 14.2, 13.9, 11.49, 16.25, 12.16, 13.9, 13.47, 13.7, 15.73, 12.45, 14.64, 19.44, 11.68, 16.69, 12.25, 17.85, 18.01, 12.46, 13.16, 14.87, 12.65, 12.47, 18.49, 20.59, 15.04, 13.82, 12.54, 23.09, 9.268, 9.676, 12.22, 11.06, 16.3, 15.46, 11.74, 14.81, 13.4, 14.58, 15.05, 11.34, 18.31, 19.89, 12.88, 12.75, 9.295, 24.63, 11.26, 13.71, 9.847, 8.571, 13.46, 12.34, 13.94, 12.07, 11.75, 11.67, 13.68, 20.47, 10.96, 20.55, 14.27, 11.69, 7.729, 7.691, 11.54, 14.47, 14.74, 13.21, 13.87, 13.62, 10.32, 10.26, 9.683, 10.82, 10.86, 11.13, 12.77, 9.333, 12.88, 10.29, 10.16, 9.423, 14.59, 11.51, 14.05, 11.2, 15.22, 20.92, 21.56, 20.13, 16.6, 20.6, 7.76], \"y\": [0.9882824377412087, 1.0088272437983712, 1.0230251938454096, 0.9912865697916271, 0.9867246394897222, 1.02132825704238, 0.9798689652632266, 1.0075379557168178, 1.0442338178736497, 0.9650846881325805, 0.9845288456832391, 1.0163623660556194, 0.9525783807516655, 0.9813325821994587, 1.0367750638108326, 0.9745992979275864, 1.0290282971423637, 1.0266873783740393, 0.9703002774914413, -0.04274499792957486, 0.005987973187493265, -0.015061664912809657, 1.0492432275890915, 1.022448473730069, 0.9810595128712893, 1.015937098458974, 1.0183165945158368, 1.0088649734998338, 1.0268504048747145, 1.0478240577440183, 1.0452875370298425, 1.0282593493577907, 1.0300114470960395, 0.9640739716373976, 0.9620355813780419, 0.9959011179216513, 0.9902197793856884, -0.03656752797433021, 0.9911616460080335, 0.9506893406277523, 0.9589919074691144, 1.0448757290291792, 1.001440003999126, 1.0235460078465826, 0.9821712989954625, 0.9955344920937941, -0.028775362108646986, 0.9709258572314321, -0.0027042575101387314, 0.047007708267296874, 0.02792172392526862, 0.025616192566684487, 0.026641827144606958, 0.9564641375260974, 0.9541082209503307, -0.016303633921637896, 1.0173592864269494, 0.9769744898219002, 0.03626328366812423, -0.027522283753177248, 0.024539754877570083, -0.02313479039885509, 0.9522505458390098, -0.025729688661121408, 1.0303532347243225, 1.048249967207908, -0.002127708375255631, -0.03644180618550161, 0.03741002714914855, -0.049502478174565656, 1.0049455717050872, -0.00750051503329284, 1.037904546599897, 1.0110957931186724, 0.02366661187597567, 1.0257625883117443, 0.03903864353098832, 1.01263060645941, 0.9756040566545909, 0.041053188784906894, -0.0453756504774287, 0.023208107804037176, 1.0295897835096341, 0.9987239656188904, -0.017071627521275605, 0.962487562348955, 1.006524967629911, 1.039659808603764, 0.049613762034217135, 0.04625616501231512, 0.034387058430374526, 1.0135398037494523, -0.03658203271383753, 0.029972749201348237, 0.9525771103461618, 0.9868324130906043, 0.009670417134217603, -0.04006113387663285, 0.0002948309501598981, 0.9634958208719488, 1.0400490328077936, -0.031189081976373257, 0.014766172643509587, -0.03481146485211212, 0.043064705085548854, 0.9778042864455629, -0.030660517368610918, 0.021532190344299734, 0.9822410282494372, -0.027190884306380315, 0.02591914206378787, 0.0032775058263665446, -0.00043257316878295843, -0.00927581039573113, -0.028022332642779136, 0.02565538180362789, 0.020765010263587583, 1.0085463955079557, 1.0123521230355919, 1.0055427535945811, -0.03441884050411853, 1.0135198130088936, 0.9701291053511021, 0.007579646458231538, -0.033973834765942935, 0.03945973380044271, 1.0138324637979894, 1.0278552264935568, -0.030952946685339756, 1.0449013409152343, -0.03585928268989197, 0.9864509612027705, 0.9572881009954584, -0.032304410260882134, 0.9705870585770102, 1.0432361580636904, -0.01286927361855348, -0.02573085084230259, 1.0427776123585526, -0.01796507026748434, 0.010693669031674777, 1.0075352112871798, -0.009702384842805924, -0.009708353152281538, 0.014303798885729468, -0.020294199734468523, 1.0002831019144356, -0.014591362779613128, 0.009117140396149116, 0.010828471982263055, -0.048906795018676764, 0.034343564422886275, 0.014343693714903377, -0.044644339302578745, -0.037475553812963296, -0.0393258647706642, 1.0123522723758251, 0.023262572762892925, 0.018733913682386555, 0.044817899142746295, 0.03409037979997785, 0.9572068928347204, 0.9715986292892975, 0.04018328737039614, 0.9659372451825727, 0.00985054906068341, 0.015051794936172383, 0.9816233980897204, 1.0380675676092699, 0.029697591355650463, 0.04994823592955422, 1.0460618768380967, 1.0109708310394385, -0.04784594117658905, 0.03330871874570869, -0.037933758738522276, 0.01891035775740564, 0.99504247772353, 0.027197198770657502, -0.008382745224971531, 0.9879173831783183, 0.9595763148001197, 1.0063089133258523, 0.04887856351151909, 1.0237647208961929, 0.020726835037894714, 0.9938209373783287, -0.03227315514777654, 0.0046312509488049755, -0.036215528312353064, 1.0311253058814787, -0.017224693178361193, 0.003472686892813215, 0.9777920608779109, 0.9770862260365425, -0.01664687074089021, 0.9994613294157697, 1.033339140244686, 0.9851074004147415, 0.9648949748250584, -0.003425366624265583, 0.9741864901074626, 0.9638800531916971, 0.9630821689749631, 9.36511845976637e-05, 1.0412417720197602, -0.005641417478525826, 0.987754143277991, 0.030040595043909324, -0.032182417219755774, 0.9584967321479687, 0.04560438746602352, 1.0344542637048069, 0.9751457292952876, 1.012811333383359, 1.0209712800324358, -0.004602376706926592, 0.032447403493843494, 0.9991371075338684, 1.0378378183362058, 0.019400410130949716, -0.037356599182028494, -0.006149123414705436, 1.0206060323074697, -0.014409985705009433, 0.03199263580452627, -0.03449333267254139, -0.005192418716176483, 0.049641070581588384, 0.9578236092527679, 0.9528381430230528, 0.02140569168675792, -0.012498588301758172, 1.0412395711367308, -0.04659651638966033, 0.024615630640778957, 0.9681566957604539, 1.0396862437084018, -0.006261978328192884, 1.0029713880216329, -0.0457921589168978, -0.023856974009557864, 0.019682855202702826, -0.02101915603602106, 0.9720235420071937, -0.017221263196799577, -0.021879586776601647, 0.038861396683604096, 0.018988572539542156, -0.012136200156709985, 1.0264949836260164, -0.013782394815648205, 1.0274543340544233, 1.0133973893030686, 1.002338517338076, 1.0060752628485508, 0.9558304026856672, 1.0400245675369588, 1.0015420234884398, 0.981768752184339, 0.9748075510251772, 0.9923203723582554, 0.9579276202596596, 1.010355364542512, 1.0247810344780597, 0.9957557714745358, 0.01977497295903688, -0.014247770888706345, 0.0037734734071653148, 0.02103669759829882, -0.04619637768333188, 0.013948038755341424, 1.04479544328864, 0.04268278123222494, 0.9599852969501064, 0.0282183950012211, 0.004931174779376615, 0.9992001583160333, -0.03407571072214209, -0.02247341749519669, 1.0028892430825374, 0.03140013937204521, 0.9693826651953679, 1.017044578475932, 0.01694698281871722, -0.008671487904728784, -0.03622921600657503, -0.04802613887889889, -0.039913481152190095, -0.040436628292109755, 0.03415594513153279, 0.005633894959451033, 0.012212681238462308, 0.01725832759000559, -0.04624899481885911, 0.03395515979546741, 0.010549102967539116, 0.9751307344898665, 0.039516428995375205, 0.008040814820433048, 1.013752014786129, 0.034627594319444135, 1.012363458333396, -0.03319792400486342, 0.02220634234722947, -0.021129836597285945, 0.0050474045139446075, -0.04146710019760356, -0.024631322552711013, 0.0182279408828845, 0.04907922428423715, -0.009754968253775566, 0.014364578692449143, -0.03301738175026675, 0.04931594683124385, 0.025346832226944394, 0.00244721933877777, 0.9570480008343145, 0.023190366494320352, -0.03910886751313051, 0.007833065249780835, 0.9778048386687093, 0.04059678536499148, 0.9522694216138095, 0.028591267743030432, 0.021918947874137756, 0.04395766819972233, -0.003062574317324984, 0.9531311533447542, 1.0279094229110384, 1.041950071174706, 0.031505714474046514, 0.032979113322805606, -0.0010429083451777288, 0.020585400330979053, 0.995591981455328, 0.0013301608541104598, 0.9672732792325378, 0.03821472774375703, 1.040068046869684, -0.005992674242448336, 0.03378867585215074, -0.005684580220582436, 0.9759516778589525, -0.012935930558533273, 0.005776765073708556, 0.010200765798983068, -0.004031211258015088, -0.04178866143872171, 0.03786799349539753, -0.027484915544165312, 0.9641983142496282, 0.9748028316544393, 0.9760036528195579, -0.03026717662796782, -0.013239624334340193, -0.019456540633348618, -0.04670245236826023, -0.03910941907130786, 0.03056351791964082, 0.02484035825569536, 0.02140043274125697, 0.032729911123808464, 0.018880177824061095, 0.03618123590027267, 0.9837524111561957, 1.023834722284037, 0.025772438975539852, 0.9549096794480292, 0.9922191287965569, 0.9903506351955762, -0.044826407423303606, 0.9640471591409607, 0.9922914303620027, -0.03337141554380055, 0.0024791400754508378, 0.026051961003934185, -0.04173865231263218, 0.032064761945454615, 1.0356693244759512, 0.02176694754504538, 0.04204798474007038, -0.005959742027562442, 0.04239035309024376, 0.04687341710706558, 1.0018651855370042, -0.005104662420184591, -0.02394305358846707, 0.013218180477813757, 0.9747130891055664, -0.03339291498536488, -0.019974778600772392, 0.9768886343397658, 1.0330019434325224, -0.0450778418337576, -0.032233901106997837, -0.004941846463013447, -0.046227695714012806, -0.02150287955409204, -0.029826630122216716, 1.0488869233919875, -0.006975506255012545, -0.02255274630646357, 0.02511474707650649, -0.04728434288511826, -0.032376839328186274, -0.02372430746744, -0.033555019287457216, 1.0358974372006478, -0.0003545164992057037, -0.01661861994045344, 0.015687933563531264, -0.02207739977967249, 0.0041288825803996315, 0.9840731502599356, 0.049691554063151816, -0.030722110555434536, 1.01828926903679, -0.008389084949132486, 0.0032185377994961364, -0.029437490872964468, 0.037974832994692995, 0.00857547899571226, -0.026091674100207643, -0.04797979710733511, -0.03736657116013098, -0.016270722397355324, 0.036226613381272574, 0.008450121262229451, 0.02773078174328926, 1.0187755357469321, -0.01892893458864601, 1.028016773065914, 0.9809958167864925, -0.026959834896502756, 0.9637569166045519, -0.01521485064394159, -0.02722970777472509, 0.03308178333574699, -0.037393486601419626, 0.03295692881989239, 0.9940275492240305, 0.034171010664844514, -0.03643174127351259, 1.0137455413501464, 0.041638123889491216, 1.0455304296345376, -0.022664168640156725, 0.017307299253927058, 1.0215490013835689, 0.02835209287826837, 0.9541515664399838, 0.003575048531592309, 0.026128987299297704, 0.012398379146999795, -0.046148558421024555, -0.02453235977227296, 0.007037302856413477, -0.025717342553218336, 0.04931379782146962, 0.953026427277295, 0.9763604651162581, 0.017837883310883845, 0.01611984550947905, -0.0429973444310087, -0.0361420948017826, -0.012747243447044067, 0.01140793257205306, 1.0416224297336365, -0.048257630520816754, 0.041203788254998513, -0.03775928755977401, -0.02677710950362048, -0.03874149566318318, 0.043395531331928194, 0.04788894716991199, 0.008956127216653162, -0.01907086046875204, -0.007212002677113735, 0.9703109841977002, -0.017087078956572778, -0.04591674226005227, -0.03583095909098621, -0.032719912873589704, 0.04232618680986695, -0.03068430049417821, -0.04488721814127618, 1.011613160092392, -0.014197640910689195, 0.9505142526646642, 0.04424865434549294, -0.009377567667256892, 0.9992725978204073, -0.020795940833734896, -0.038197090814506535, 0.023479969356113392, 0.009563252770132868, 0.03429662715846481, 0.9528614137850346, 1.004344479101055, -0.038235575812127935, 1.0418289148207542, -0.00846905311872205, 1.0335437054528773, -0.0019313566430119722, -0.015540594413125088, -0.015122456482032455, -0.01547265509931589, 0.0289186451931486, 0.9801952041118787, 0.0497167627731359, 0.008036393591328128, 1.0217324943880333, -0.026654456176171584, 0.9865389255140009, -0.029925746973441913, 0.9955315368973445, 0.9604199828349613, 0.02992365930446235, 0.01905530023897685, -0.039260321647063036, 0.9926454798750155, -0.002233092164620254, -0.018229639598393153, -0.01733576696725904, -0.02295806420585277, 0.04072897163283261, -0.00618088297670568, 0.04408982905015074, 0.04449959657237805, 0.04553870562456837, 0.007477176975951259, -0.0393985036823741, 1.0432167558649648, -0.014193337792122833, 1.0430615024820133, 0.9632792903156826, 0.0499570646609534, 0.01728788625490578, -0.02624206466653667, -0.036984852430635755, -0.036654290047726516, 0.04856718036957762, 0.009421197884669372, 0.03209494861222885, 0.036170373837137726, 0.01394135071333874, 0.04078051487011039, -0.044368771823798836, 0.003204540730436578, -0.009697848286415234, 0.019518715180125837, 0.0031056176707711103, 0.0047096734598473106, -0.028978979006687635, -0.011193123514208383, -0.0202431743735665, 0.041303540567838165, 0.012109843555765998, 0.035222485329605535, -0.031160677842826702, 0.015455716061224659, 1.01530785580895, 1.0441199842765452, 0.9857730075427886, 1.0446761864962573, 1.0023759932683975, 1.02759537318266, -0.002953315404238488]}, {\"line\": {\"color\": \"orange\"}, \"mode\": \"lines\", \"name\": \"Least Squares\", \"type\": \"scatter\", \"x\": [7.691, 8.107714285714286, 8.52442857142857, 8.941142857142857, 9.357857142857142, 9.774571428571429, 10.191285714285714, 10.608, 11.024714285714285, 11.44142857142857, 11.858142857142857, 12.274857142857144, 12.691571428571429, 13.108285714285714, 13.524999999999999, 13.941714285714285, 14.358428571428572, 14.775142857142857, 15.191857142857142, 15.608571428571429, 16.025285714285715, 16.442, 16.858714285714285, 17.27542857142857, 17.692142857142855, 18.108857142857143, 18.52557142857143, 18.942285714285713, 19.358999999999998, 19.775714285714287, 20.19242857142857, 20.609142857142857, 21.02585714285714, 21.442571428571426, 21.859285714285715, 22.276, 22.692714285714285, 23.10942857142857, 23.526142857142858, 23.942857142857143, 24.359571428571428, 24.776285714285713, 25.192999999999998, 25.609714285714283, 26.02642857142857, 26.443142857142856, 26.85985714285714, 27.276571428571426, 27.69328571428571, 28.11], \"y\": [-0.2592505255840679, -0.21809425706067354, -0.17693798853727927, -0.13578172001388478, -0.09462545149049051, -0.05346918296709602, -0.01231291444370175, 0.02884335407969263, 0.06999962260308701, 0.11115589112648117, 0.15231215964987577, 0.19346842817327015, 0.23462469669666453, 0.2757809652200587, 0.31693723374345306, 0.35809350226684744, 0.39924977079024204, 0.4404060393136362, 0.4815623078370306, 0.522718576360425, 0.5638748448838196, 0.6050311134072137, 0.6461873819306081, 0.6873436504540023, 0.7284999189773966, 0.7696561875007912, 0.8108124560241856, 0.8519687245475798, 0.8931249930709741, 0.9342812615943688, 0.9754375301177631, 1.0165937986411575, 1.0577500671645517, 1.0989063356879458, 1.1400626042113404, 1.1812188727347346, 1.2223751412581292, 1.2635314097815233, 1.304687678304918, 1.345843946828312, 1.3870002153517067, 1.4281564838751009, 1.469312752398495, 1.5104690209218896, 1.5516252894452842, 1.5927815579686784, 1.6339378264920725, 1.6750940950154671, 1.7162503635388613, 1.757406632062256]}],\n",
       "                        {\"template\": {\"data\": {\"bar\": [{\"error_x\": {\"color\": \"#2a3f5f\"}, \"error_y\": {\"color\": \"#2a3f5f\"}, \"marker\": {\"line\": {\"color\": \"#E5ECF6\", \"width\": 0.5}}, \"type\": \"bar\"}], \"barpolar\": [{\"marker\": {\"line\": {\"color\": \"#E5ECF6\", \"width\": 0.5}}, \"type\": \"barpolar\"}], \"carpet\": [{\"aaxis\": {\"endlinecolor\": \"#2a3f5f\", \"gridcolor\": \"white\", \"linecolor\": \"white\", \"minorgridcolor\": \"white\", \"startlinecolor\": \"#2a3f5f\"}, \"baxis\": {\"endlinecolor\": \"#2a3f5f\", \"gridcolor\": \"white\", \"linecolor\": \"white\", \"minorgridcolor\": \"white\", \"startlinecolor\": \"#2a3f5f\"}, \"type\": \"carpet\"}], \"choropleth\": [{\"colorbar\": {\"outlinewidth\": 0, \"ticks\": \"\"}, \"type\": \"choropleth\"}], \"contour\": [{\"colorbar\": {\"outlinewidth\": 0, \"ticks\": \"\"}, \"colorscale\": [[0.0, \"#0d0887\"], [0.1111111111111111, \"#46039f\"], [0.2222222222222222, \"#7201a8\"], [0.3333333333333333, \"#9c179e\"], [0.4444444444444444, \"#bd3786\"], [0.5555555555555556, \"#d8576b\"], [0.6666666666666666, \"#ed7953\"], [0.7777777777777778, \"#fb9f3a\"], [0.8888888888888888, \"#fdca26\"], [1.0, \"#f0f921\"]], \"type\": \"contour\"}], \"contourcarpet\": [{\"colorbar\": {\"outlinewidth\": 0, \"ticks\": \"\"}, \"type\": \"contourcarpet\"}], \"heatmap\": [{\"colorbar\": {\"outlinewidth\": 0, \"ticks\": \"\"}, \"colorscale\": [[0.0, \"#0d0887\"], [0.1111111111111111, \"#46039f\"], [0.2222222222222222, \"#7201a8\"], [0.3333333333333333, \"#9c179e\"], [0.4444444444444444, \"#bd3786\"], [0.5555555555555556, \"#d8576b\"], [0.6666666666666666, \"#ed7953\"], [0.7777777777777778, \"#fb9f3a\"], [0.8888888888888888, \"#fdca26\"], [1.0, \"#f0f921\"]], \"type\": \"heatmap\"}], \"heatmapgl\": [{\"colorbar\": {\"outlinewidth\": 0, \"ticks\": \"\"}, \"colorscale\": [[0.0, \"#0d0887\"], [0.1111111111111111, \"#46039f\"], [0.2222222222222222, \"#7201a8\"], [0.3333333333333333, \"#9c179e\"], [0.4444444444444444, \"#bd3786\"], [0.5555555555555556, \"#d8576b\"], [0.6666666666666666, \"#ed7953\"], [0.7777777777777778, \"#fb9f3a\"], [0.8888888888888888, \"#fdca26\"], [1.0, \"#f0f921\"]], \"type\": \"heatmapgl\"}], \"histogram\": [{\"marker\": {\"colorbar\": {\"outlinewidth\": 0, \"ticks\": \"\"}}, \"type\": \"histogram\"}], \"histogram2d\": [{\"colorbar\": {\"outlinewidth\": 0, \"ticks\": \"\"}, \"colorscale\": [[0.0, \"#0d0887\"], [0.1111111111111111, \"#46039f\"], [0.2222222222222222, \"#7201a8\"], [0.3333333333333333, \"#9c179e\"], [0.4444444444444444, \"#bd3786\"], [0.5555555555555556, \"#d8576b\"], [0.6666666666666666, \"#ed7953\"], [0.7777777777777778, \"#fb9f3a\"], [0.8888888888888888, \"#fdca26\"], [1.0, \"#f0f921\"]], \"type\": \"histogram2d\"}], \"histogram2dcontour\": [{\"colorbar\": {\"outlinewidth\": 0, \"ticks\": \"\"}, \"colorscale\": [[0.0, \"#0d0887\"], [0.1111111111111111, \"#46039f\"], [0.2222222222222222, \"#7201a8\"], [0.3333333333333333, \"#9c179e\"], [0.4444444444444444, \"#bd3786\"], [0.5555555555555556, \"#d8576b\"], [0.6666666666666666, \"#ed7953\"], [0.7777777777777778, \"#fb9f3a\"], [0.8888888888888888, \"#fdca26\"], [1.0, \"#f0f921\"]], \"type\": \"histogram2dcontour\"}], \"mesh3d\": [{\"colorbar\": {\"outlinewidth\": 0, \"ticks\": \"\"}, \"type\": \"mesh3d\"}], \"parcoords\": [{\"line\": {\"colorbar\": {\"outlinewidth\": 0, \"ticks\": \"\"}}, \"type\": \"parcoords\"}], \"pie\": [{\"automargin\": true, \"type\": \"pie\"}], \"scatter\": [{\"marker\": {\"colorbar\": {\"outlinewidth\": 0, \"ticks\": \"\"}}, \"type\": \"scatter\"}], \"scatter3d\": [{\"line\": {\"colorbar\": {\"outlinewidth\": 0, \"ticks\": \"\"}}, \"marker\": {\"colorbar\": {\"outlinewidth\": 0, \"ticks\": \"\"}}, \"type\": \"scatter3d\"}], \"scattercarpet\": [{\"marker\": {\"colorbar\": {\"outlinewidth\": 0, \"ticks\": \"\"}}, \"type\": \"scattercarpet\"}], \"scattergeo\": [{\"marker\": {\"colorbar\": {\"outlinewidth\": 0, \"ticks\": \"\"}}, \"type\": \"scattergeo\"}], \"scattergl\": [{\"marker\": {\"colorbar\": {\"outlinewidth\": 0, \"ticks\": \"\"}}, \"type\": \"scattergl\"}], \"scattermapbox\": [{\"marker\": {\"colorbar\": {\"outlinewidth\": 0, \"ticks\": \"\"}}, \"type\": \"scattermapbox\"}], \"scatterpolar\": [{\"marker\": {\"colorbar\": {\"outlinewidth\": 0, \"ticks\": \"\"}}, \"type\": \"scatterpolar\"}], \"scatterpolargl\": [{\"marker\": {\"colorbar\": {\"outlinewidth\": 0, \"ticks\": \"\"}}, \"type\": \"scatterpolargl\"}], \"scatterternary\": [{\"marker\": {\"colorbar\": {\"outlinewidth\": 0, \"ticks\": \"\"}}, \"type\": \"scatterternary\"}], \"surface\": [{\"colorbar\": {\"outlinewidth\": 0, \"ticks\": \"\"}, \"colorscale\": [[0.0, \"#0d0887\"], [0.1111111111111111, \"#46039f\"], [0.2222222222222222, \"#7201a8\"], [0.3333333333333333, \"#9c179e\"], [0.4444444444444444, \"#bd3786\"], [0.5555555555555556, \"#d8576b\"], [0.6666666666666666, \"#ed7953\"], [0.7777777777777778, \"#fb9f3a\"], [0.8888888888888888, \"#fdca26\"], [1.0, \"#f0f921\"]], \"type\": \"surface\"}], \"table\": [{\"cells\": {\"fill\": {\"color\": \"#EBF0F8\"}, \"line\": {\"color\": \"white\"}}, \"header\": {\"fill\": {\"color\": \"#C8D4E3\"}, \"line\": {\"color\": \"white\"}}, \"type\": \"table\"}]}, \"layout\": {\"annotationdefaults\": {\"arrowcolor\": \"#2a3f5f\", \"arrowhead\": 0, \"arrowwidth\": 1}, \"coloraxis\": {\"colorbar\": {\"outlinewidth\": 0, \"ticks\": \"\"}}, \"colorscale\": {\"diverging\": [[0, \"#8e0152\"], [0.1, \"#c51b7d\"], [0.2, \"#de77ae\"], [0.3, \"#f1b6da\"], [0.4, \"#fde0ef\"], [0.5, \"#f7f7f7\"], [0.6, \"#e6f5d0\"], [0.7, \"#b8e186\"], [0.8, \"#7fbc41\"], [0.9, \"#4d9221\"], [1, \"#276419\"]], \"sequential\": [[0.0, \"#0d0887\"], [0.1111111111111111, \"#46039f\"], [0.2222222222222222, \"#7201a8\"], [0.3333333333333333, \"#9c179e\"], [0.4444444444444444, \"#bd3786\"], [0.5555555555555556, \"#d8576b\"], [0.6666666666666666, \"#ed7953\"], [0.7777777777777778, \"#fb9f3a\"], [0.8888888888888888, \"#fdca26\"], [1.0, \"#f0f921\"]], \"sequentialminus\": [[0.0, \"#0d0887\"], [0.1111111111111111, \"#46039f\"], [0.2222222222222222, \"#7201a8\"], [0.3333333333333333, \"#9c179e\"], [0.4444444444444444, \"#bd3786\"], [0.5555555555555556, \"#d8576b\"], [0.6666666666666666, \"#ed7953\"], [0.7777777777777778, \"#fb9f3a\"], [0.8888888888888888, \"#fdca26\"], [1.0, \"#f0f921\"]]}, \"colorway\": [\"#636efa\", \"#EF553B\", \"#00cc96\", \"#ab63fa\", \"#FFA15A\", \"#19d3f3\", \"#FF6692\", \"#B6E880\", \"#FF97FF\", \"#FECB52\"], \"font\": {\"color\": \"#2a3f5f\"}, \"geo\": {\"bgcolor\": \"white\", \"lakecolor\": \"white\", \"landcolor\": \"#E5ECF6\", \"showlakes\": true, \"showland\": true, \"subunitcolor\": \"white\"}, \"hoverlabel\": {\"align\": \"left\"}, \"hovermode\": \"closest\", \"mapbox\": {\"style\": \"light\"}, \"paper_bgcolor\": \"white\", \"plot_bgcolor\": \"#E5ECF6\", \"polar\": {\"angularaxis\": {\"gridcolor\": \"white\", \"linecolor\": \"white\", \"ticks\": \"\"}, \"bgcolor\": \"#E5ECF6\", \"radialaxis\": {\"gridcolor\": \"white\", \"linecolor\": \"white\", \"ticks\": \"\"}}, \"scene\": {\"xaxis\": {\"backgroundcolor\": \"#E5ECF6\", \"gridcolor\": \"white\", \"gridwidth\": 2, \"linecolor\": \"white\", \"showbackground\": true, \"ticks\": \"\", \"zerolinecolor\": \"white\"}, \"yaxis\": {\"backgroundcolor\": \"#E5ECF6\", \"gridcolor\": \"white\", \"gridwidth\": 2, \"linecolor\": \"white\", \"showbackground\": true, \"ticks\": \"\", \"zerolinecolor\": \"white\"}, \"zaxis\": {\"backgroundcolor\": \"#E5ECF6\", \"gridcolor\": \"white\", \"gridwidth\": 2, \"linecolor\": \"white\", \"showbackground\": true, \"ticks\": \"\", \"zerolinecolor\": \"white\"}}, \"shapedefaults\": {\"line\": {\"color\": \"#2a3f5f\"}}, \"ternary\": {\"aaxis\": {\"gridcolor\": \"white\", \"linecolor\": \"white\", \"ticks\": \"\"}, \"baxis\": {\"gridcolor\": \"white\", \"linecolor\": \"white\", \"ticks\": \"\"}, \"bgcolor\": \"#E5ECF6\", \"caxis\": {\"gridcolor\": \"white\", \"linecolor\": \"white\", \"ticks\": \"\"}}, \"title\": {\"x\": 0.05}, \"xaxis\": {\"automargin\": true, \"gridcolor\": \"white\", \"linecolor\": \"white\", \"ticks\": \"\", \"title\": {\"standoff\": 15}, \"zerolinecolor\": \"white\", \"zerolinewidth\": 2}, \"yaxis\": {\"automargin\": true, \"gridcolor\": \"white\", \"linecolor\": \"white\", \"ticks\": \"\", \"title\": {\"standoff\": 15}, \"zerolinecolor\": \"white\", \"zerolinewidth\": 2}}}, \"xaxis\": {\"title\": {\"text\": \"Mean Radius\"}}, \"yaxis\": {\"title\": {\"text\": \"Malignant\"}}},\n",
       "                        {\"responsive\": true}\n",
       "                    ).then(function(){\n",
       "                            \n",
       "var gd = document.getElementById('fd3102d1-7551-4233-b271-6a9bc08074b3');\n",
       "var x = new MutationObserver(function (mutations, observer) {{\n",
       "        var display = window.getComputedStyle(gd).display;\n",
       "        if (!display || display === 'none') {{\n",
       "            console.log([gd, 'removed!']);\n",
       "            Plotly.purge(gd);\n",
       "            observer.disconnect();\n",
       "        }}\n",
       "}});\n",
       "\n",
       "// Listen for the removal of the full notebook cells\n",
       "var notebookContainer = gd.closest('#notebook-container');\n",
       "if (notebookContainer) {{\n",
       "    x.observe(notebookContainer, {childList: true});\n",
       "}}\n",
       "\n",
       "// Listen for the clearing of the current output cell\n",
       "var outputEl = gd.closest('.output');\n",
       "if (outputEl) {{\n",
       "    x.observe(outputEl, {childList: true});\n",
       "}}\n",
       "\n",
       "                        })\n",
       "                };\n",
       "                });\n",
       "            </script>\n",
       "        </div>"
      ]
     },
     "metadata": {},
     "output_type": "display_data"
    }
   ],
   "source": [
    "X_plt = np.expand_dims(np.linspace(X.min(), X.max(), 50),1)\n",
    "model_line = go.Scatter(name=\"Least Squares\",\n",
    "    x=X_plt.flatten(), y=lin_reg.predict(X_plt), \n",
    "    mode=\"lines\", line=dict(color=\"orange\"))\n",
    "go.Figure([points, model_line], layout=layout)"
   ]
  },
  {
   "cell_type": "markdown",
   "metadata": {},
   "source": [
    "# Questions:\n",
    "\n",
    "1. Are we happy with the fit?\n",
    "2. What is the meaning of predictions that are neither 0 or 1?\n",
    "3. Could we use this to make a decision?\n",
    "\n",
    "---\n",
    "<br/><br/><br/><br/><br/>"
   ]
  },
  {
   "cell_type": "markdown",
   "metadata": {},
   "source": [
    "## Measuring the Error\n",
    "\n",
    "How do we measure the error in our model?  In the following, we will examine some of the different error models. "
   ]
  },
  {
   "cell_type": "code",
   "execution_count": 17,
   "metadata": {},
   "outputs": [
    {
     "data": {
      "text/html": [
       "\n",
       "        <iframe\n",
       "            width=\"400\"\n",
       "            height=\"300\"\n",
       "            src=\"https://www.youtube.com/embed/ComingSoon\"\n",
       "            frameborder=\"0\"\n",
       "            allowfullscreen\n",
       "        ></iframe>\n",
       "        "
      ],
      "text/plain": [
       "<IPython.lib.display.YouTubeVideo at 0x7fa5c0fbfe10>"
      ]
     },
     "execution_count": 17,
     "metadata": {},
     "output_type": "execute_result"
    }
   ],
   "source": [
    "from IPython.display import YouTubeVideo\n",
    "YouTubeVideo(\"ComingSoon\")"
   ]
  },
  {
   "cell_type": "markdown",
   "metadata": {},
   "source": [
    "### Root Mean Squared Error\n",
    "\n",
    "In past lectures, we have used the root mean squared error as a measure of error.  We can compute that here as well:"
   ]
  },
  {
   "cell_type": "code",
   "execution_count": 18,
   "metadata": {
    "ExecuteTime": {
     "end_time": "2018-04-02T16:07:18.032417Z",
     "start_time": "2018-04-02T16:07:18.028104Z"
    }
   },
   "outputs": [
    {
     "name": "stdout",
     "output_type": "stream",
     "text": [
      "Training RMSE: 0.33705673123730695\n"
     ]
    }
   ],
   "source": [
    "from sklearn.metrics import mean_squared_error as mse\n",
    "yhat = lin_reg.predict(X)\n",
    "print(\"Training RMSE:\", np.sqrt(mse(Y, yhat)))"
   ]
  },
  {
   "cell_type": "markdown",
   "metadata": {},
   "source": [
    "What does that mean for this data?  It is difficult to interpret this error in the context of a classification task. "
   ]
  },
  {
   "cell_type": "markdown",
   "metadata": {},
   "source": [
    "### Classification Error\n",
    "\n",
    "This is a classification problem so we probably want to measure how often we predict the correct value.  This is sometimes called the zero-one loss (or error):\n",
    "\n",
    "$$ \\large\n",
    "\\textbf{ZeroOneLoss} = \\frac{1}{n} \\sum_{i=1}^n \\textbf{I}\\left[ y_i \\neq f_\\theta(x_i) \\right]\n",
    "$$\n",
    "\n",
    "However to use the classification error we need to define a decision rule that maps $f_\\theta(x)$ to the $\\{0,1\\}$ classification values."
   ]
  },
  {
   "cell_type": "markdown",
   "metadata": {},
   "source": [
    "### The Constant Threshold Decision Rule\n",
    "\n",
    "Suppose we instituted the following simple decision rule:\n",
    "\n",
    "$$\\Large\n",
    "\\text{If } f_\\theta(x) > 0.5  \\text{ predict 1 (malignant) else predict 0 (benign).}\n",
    "$$\n",
    "\n",
    "This simple **decision rule** is deciding that a tumor is malignant if our model predicts a values above 0.5 (closer to 1 than zero).\n",
    "\n",
    "In the following we plot the implication of these decisions on our training data."
   ]
  },
  {
   "cell_type": "code",
   "execution_count": 19,
   "metadata": {},
   "outputs": [],
   "source": [
    "is_mal_hat = lin_reg.predict(X) > 0.5"
   ]
  },
  {
   "cell_type": "markdown",
   "metadata": {},
   "source": [
    "In the following plot we color the data points according to our decision rule and depict the decision boundary as a dotted vertical line. "
   ]
  },
  {
   "cell_type": "code",
   "execution_count": 20,
   "metadata": {
    "ExecuteTime": {
     "end_time": "2018-04-02T16:07:18.059302Z",
     "start_time": "2018-04-02T16:07:18.034361Z"
    }
   },
   "outputs": [
    {
     "data": {
      "application/vnd.plotly.v1+json": {
       "config": {
        "plotlyServerURL": "https://plot.ly"
       },
       "data": [
        {
         "marker": {
          "color": "red",
          "opacity": 0.5
         },
         "mode": "markers",
         "name": "Classified as Malignant",
         "type": "scatter",
         "x": [
          25.22,
          19.69,
          21.56,
          15.78,
          20.18,
          15.78,
          16.46,
          16.16,
          20.94,
          17.93,
          17.6,
          20.13,
          17.27,
          15.7,
          18.05,
          17.99,
          23.09,
          16.07,
          20.73,
          21.09,
          19.89,
          21.1,
          19.27,
          17.99,
          19.81,
          17.75,
          20.58,
          22.27,
          19.4,
          17.35,
          16.11,
          18.49,
          15.46,
          19.21,
          18.81,
          17.14,
          19.07,
          19.16,
          19.8,
          16.65,
          16.13,
          21.75,
          27.22,
          21.16,
          20.16,
          18.65,
          15.61,
          17.06,
          16.84,
          20.48,
          17.47,
          20.09,
          17.95,
          16.69,
          16.35,
          16.5,
          17.3,
          20.59,
          16.27,
          17.29,
          18.03,
          19.18,
          25.73,
          24.63,
          17.46,
          19.44,
          20.47,
          20.18,
          24.25,
          23.29,
          20.34,
          16.17,
          20.44,
          18.82,
          21.71,
          15.75,
          18.22,
          19.53,
          19.79,
          19.59,
          20.64,
          17.08,
          20.51,
          23.27,
          18.22,
          18.08,
          15.66,
          18.01,
          19,
          17.91,
          15.71,
          16.24,
          18.46,
          18.31,
          19.17,
          16.74,
          20.26,
          15.75,
          16.25,
          15.46,
          15.49,
          19.4,
          19.45,
          20.29,
          19.55,
          17.42,
          16.14,
          17.02,
          15.5,
          18.45,
          18.61,
          17.05,
          20.31,
          19.59,
          18.31,
          19.53,
          17.68,
          18.77,
          23.21,
          17.01,
          28.11,
          27.42,
          16.6,
          17.54,
          19.19,
          15.53,
          19.55,
          20.57,
          16.13,
          16.3,
          20.2,
          23.51,
          15.85,
          20.92,
          15.73,
          19.73,
          17.85,
          19.68,
          21.37,
          19.02,
          16.03,
          18.66
         ],
         "y": [
          0.9573940961999341,
          1.0329193053908396,
          0.9736398668643405,
          0.9793608628629991,
          0.9904487523088727,
          1.0068524781234918,
          1.0424972964554602,
          0.9867502046109105,
          0.9602470044934768,
          0.9850676154814608,
          1.005588701192757,
          1.0276901044349835,
          0.9794519065421421,
          0.9707306692088584,
          1.0042213208532313,
          0.9856737732402137,
          0.9620111977794565,
          0.9627385974920728,
          0.9583452569018427,
          1.0233868369534105,
          0.9572368884946776,
          0.9944558664192196,
          1.0189343704119478,
          0.9512176334654494,
          0.9797028264307306,
          1.0092621920060922,
          1.004303882188768,
          0.9867258967596095,
          0.9507677803825196,
          0.9979662433251515,
          1.0030262566554706,
          1.0390622265037912,
          0.9916189299105311,
          1.0178357765454018,
          0.9713128888370999,
          0.9620391561543444,
          1.0245904608673113,
          1.0302311280400998,
          0.9961777542941024,
          0.9985779845839193,
          0.9992860973022688,
          1.0168006326262693,
          1.0071562412052748,
          0.9992943790812987,
          1.0415824181517093,
          1.0146339325838611,
          1.0430615403762107,
          1.002890943217976,
          0.003030209497766556,
          0.9733967764640099,
          0.9806239408811628,
          1.0405012458770582,
          0.9943058919044621,
          0.9984784824060056,
          1.0389805182721152,
          -0.025430754252504184,
          0.955375563241396,
          0.9600638650715618,
          0.9596886553175048,
          1.0132329659474815,
          0.9799758861422332,
          1.0458521902384845,
          0.9785476295244624,
          1.0467130013887525,
          0.9888831879915545,
          1.0200676787752316,
          0.9786253536406577,
          1.0377606721998949,
          0.9799067368744545,
          0.9693908845767603,
          1.0242248558507654,
          -0.012943049131381425,
          1.0211124270328185,
          1.0248000607592302,
          1.0181703546555623,
          0.9555636439149722,
          1.0274545470974163,
          0.9707939567959356,
          1.0423129058099683,
          0.9837939267752056,
          0.9721070284338247,
          0.9867991448856492,
          0.9774952112751787,
          0.9770066708978422,
          0.9575305795666551,
          0.961760774307316,
          0.9973975701103379,
          1.0350033522996203,
          0.971867640237166,
          1.025107159161914,
          0.0196996676688998,
          0.9540228131489603,
          1.0270822104312167,
          0.9683823614700071,
          0.9911833271922479,
          1.035384200486925,
          0.9584864578998318,
          0.9897724461162607,
          1.0162652555696294,
          1.029380484751473,
          0.9821865978956237,
          0.9614043382107809,
          0.9599495688396213,
          0.9596259433118042,
          1.0477888971986404,
          0.9581026816505256,
          -0.007155147617485216,
          1.0384030895168492,
          1.0010762673568785,
          1.0081041389785412,
          1.0354431517953673,
          0.9777070652200246,
          0.9636331808287275,
          0.9695699994408196,
          1.0418907233934063,
          0.9669372866464652,
          1.0316691246140706,
          1.0289732068224644,
          0.9565821265338397,
          0.9564165113574563,
          0.9988723678376838,
          1.0166348198140762,
          0.9926175927615493,
          1.020842750229527,
          0.9532652029301332,
          1.0085743147188833,
          1.0437006380247482,
          1.0119176994208174,
          0.9571771721562972,
          0.00646566515333772,
          0.9945753052791941,
          1.0167589081108939,
          0.9973002070072559,
          1.0283857827435765,
          -0.02798578057610246,
          1.0290408115902083,
          0.015932565691638687,
          0.953853903120953,
          0.9674597878135018,
          1.0317132292307385,
          0.9958226517382973,
          1.0156800995159507
         ]
        },
        {
         "marker": {
          "color": "blue",
          "opacity": 0.5
         },
         "mode": "markers",
         "name": "Classified as Benign",
         "type": "scatter",
         "x": [
          13.48,
          11.29,
          12.86,
          14.4,
          12.3,
          12.62,
          11.81,
          12.98,
          13.77,
          14.06,
          7.729,
          13.47,
          14.03,
          13.96,
          10.75,
          11.27,
          11.25,
          14.48,
          15.32,
          12.46,
          12.05,
          12.86,
          12,
          13.46,
          15.04,
          11.2,
          11.22,
          9.777,
          13.81,
          11.15,
          9.738,
          10.82,
          11.75,
          12.34,
          14.44,
          14.64,
          11.52,
          14.22,
          9.029,
          9.173,
          10.65,
          10.17,
          14.54,
          14.41,
          11.43,
          12.25,
          12.36,
          14.87,
          9.667,
          13.4,
          15.22,
          14.26,
          11.7,
          15.27,
          15.34,
          13.51,
          10.48,
          14.64,
          14.45,
          11.04,
          10.26,
          12.89,
          13.4,
          12.96,
          15.28,
          13.78,
          15.1,
          12.34,
          8.196,
          13.45,
          11.32,
          7.76,
          14.86,
          11.13,
          9.72,
          9.606,
          10.08,
          12.56,
          15.13,
          10.48,
          12.78,
          14.74,
          9.904,
          13.82,
          12.89,
          13.74,
          13.37,
          14.69,
          12.91,
          13.62,
          15,
          11.8,
          14.53,
          13.71,
          11.36,
          8.726,
          13.71,
          14.47,
          13.54,
          12.85,
          12.47,
          12.46,
          10.86,
          11.37,
          13.49,
          9.567,
          11.06,
          14.61,
          7.691,
          13.69,
          11.46,
          12.06,
          13.15,
          13.61,
          10.26,
          9.333,
          11.06,
          10.66,
          11.84,
          10.51,
          12.67,
          11.08,
          11.04,
          12.43,
          14.71,
          14.87,
          12.87,
          9.465,
          13.16,
          10.91,
          12.25,
          12.75,
          14.58,
          12.27,
          12.16,
          14.27,
          15.06,
          12.99,
          13.27,
          13.87,
          13.87,
          13.59,
          12.45,
          8.95,
          13.65,
          11.47,
          14.42,
          14.68,
          12.05,
          9.683,
          10.97,
          11.42,
          12.54,
          14.34,
          14.58,
          11.76,
          12.83,
          13.03,
          13.21,
          8.671,
          11.87,
          12.76,
          14.86,
          12.65,
          11.31,
          11.94,
          14.96,
          11.6,
          12.34,
          9.731,
          11.27,
          14.02,
          10.51,
          9.876,
          11.57,
          12.31,
          13.66,
          10.32,
          12.21,
          12.21,
          12.87,
          12.18,
          12.04,
          10.05,
          14.25,
          11.28,
          8.618,
          12.63,
          12.54,
          11.76,
          13,
          10.6,
          11.62,
          14.99,
          11.89,
          9,
          9.042,
          11.8,
          13.9,
          14.95,
          13.46,
          14.5,
          12.18,
          12.9,
          9.787,
          12.2,
          11.85,
          11.41,
          13.2,
          12.45,
          11.95,
          13.85,
          15.19,
          11.06,
          15.05,
          11.14,
          12.94,
          13.24,
          13.05,
          13.85,
          13.3,
          12.72,
          12,
          14.26,
          12.81,
          9.405,
          10.94,
          8.597,
          8.219,
          10.57,
          13.2,
          12.39,
          11.71,
          14.04,
          11.22,
          11.93,
          11.41,
          12.72,
          10.57,
          13.27,
          9.397,
          14.76,
          11.51,
          12.58,
          9.847,
          9.676,
          12.36,
          11.63,
          14.8,
          13.17,
          14.97,
          14.78,
          11.3,
          14.92,
          10.9,
          15.3,
          12.32,
          11.43,
          11.68,
          11.16,
          14.53,
          13.56,
          11.34,
          13.64,
          13.64,
          14.59,
          9.668,
          13.01,
          10.95,
          8.571,
          9.876,
          8.878,
          12.8,
          12.22,
          10.96,
          14.9,
          13.61,
          10.44,
          12.88,
          9.436,
          13.43,
          11.6,
          12.95,
          13.86,
          8.598,
          13.17,
          13.59,
          12.03,
          12.23,
          11.49,
          13.66,
          11.26,
          12.7,
          8.734,
          14.95,
          14.25,
          12.77,
          15.1,
          12.77,
          13,
          14.11,
          11.71,
          12.68,
          13.73,
          13.44,
          11.08,
          11.71,
          12.46,
          11.89,
          12.27,
          13.85,
          11.94,
          11.26,
          13.77,
          11.69,
          11.5,
          14.05,
          13.38,
          10.49,
          11.66,
          10.71,
          13.7,
          11.99,
          13.28,
          10.2,
          11.93,
          14.22,
          14.2,
          13.05,
          13.11,
          12.07,
          11.45,
          15.12,
          10.8,
          12.62,
          15.37,
          10.26,
          12.42,
          12.49,
          13.88,
          9.742,
          10.8,
          12.88,
          9.268,
          13.75,
          12.3,
          12.83,
          11.74,
          13.05,
          10.88,
          9.504,
          11.54,
          9.755,
          11.75,
          11.33,
          12.77,
          14.6,
          14.99,
          13.5,
          12.19,
          14.42,
          13,
          14.19,
          13.14,
          13.08,
          8.888,
          11.64,
          14.29,
          13.98,
          12.18
         ],
         "y": [
          1.039843380484294,
          0.03341229482365014,
          -0.04828214715200634,
          -0.007267532336260152,
          0.04606763071784363,
          0.021528710981036453,
          -0.026572374998196716,
          -0.03899904873114457,
          0.997382731354272,
          -0.011342453765297487,
          0.04039095563573676,
          0.01631846160014104,
          0.016469049946017625,
          0.9671533834964943,
          -0.04536805085931668,
          0.0485978900460788,
          0.013474205953820498,
          1.027540765938256,
          1.0131180965961928,
          0.9779908377578639,
          0.03746022784879682,
          0.03541636742190454,
          -0.043364151239264716,
          -0.028073557788982198,
          -0.0002996860527308548,
          -0.04304734359446464,
          0.029287595559867263,
          0.007353605492464575,
          0.9801292622431366,
          -0.009114024228112458,
          -0.045735295117492185,
          0.03427835151092341,
          -0.029223159662209355,
          -0.019589055512818056,
          -0.01158894253904029,
          0.0032711663639370947,
          0.0016498944084155504,
          -0.003453885576253292,
          0.032433989290296714,
          -0.030326741670719894,
          -0.01169478963567585,
          0.003346225611227313,
          1.0142271872240036,
          -0.016057341021277864,
          -0.017746318162831433,
          -0.02602028108917003,
          0.0005989940000042035,
          1.0133068080206482,
          0.0016083629695627377,
          -0.014371617323714773,
          1.0417733718229119,
          0.02356657958402908,
          0.023011865069503576,
          0.008766344116050304,
          1.0294732846360841,
          0.02670226254140315,
          0.04941357426444122,
          -0.006465131611535016,
          1.0325372648786004,
          0.003988834705110543,
          0.03695790495816094,
          -0.04592118866390367,
          1.0403611069117695,
          0.047767193044216325,
          1.0370450595455443,
          0.04217651227800023,
          0.9724708487701563,
          0.02616655472637941,
          -0.010465044232962198,
          -0.01199879300928279,
          -0.030107040640045137,
          -0.004965924342516845,
          0.0479608509363917,
          -0.005160070199387003,
          -0.0016123342081062475,
          -0.011162971423490174,
          0.02816816310241914,
          -0.02063666887113086,
          0.9900518294919682,
          -0.0343163368482433,
          0.02743597653759615,
          0.018409044831399102,
          -0.006409018031792432,
          1.0141444745814838,
          -0.0008796903300571715,
          -0.03360484648766221,
          -0.02288497089617635,
          -0.01296628095875102,
          0.042513315564632545,
          -0.011330983339807997,
          -0.037008256017264,
          0.00951158448320892,
          0.036884050847526814,
          -0.021094045979810495,
          0.01729236706684341,
          -0.014760716290050269,
          1.0310702347137342,
          -0.023286445468293462,
          -0.034759733129191055,
          -0.0341876466923605,
          0.01009987075934772,
          -0.018029232799698813,
          0.009434863374779626,
          0.02482141263032059,
          -0.004051054073987245,
          0.0055455171633008934,
          0.04669638857309874,
          0.04352050227060793,
          -0.01491009408490336,
          -0.04765962467106786,
          0.04355609861905932,
          -0.04207074679003451,
          -0.04359335455783023,
          1.045607662348755,
          -0.01364140635482241,
          0.04463954966404435,
          0.014402114419640497,
          -0.009245348794101958,
          1.0108709824897248,
          -0.03183455961933077,
          0.0008507232426150715,
          0.015222787379926037,
          -0.04346550996602422,
          -0.02506814369926709,
          0.9851336124796357,
          -0.025430285679339693,
          0.03083647303917833,
          0.03646020915749068,
          0.0040631764998600856,
          -0.03022009243177929,
          0.02429218796980756,
          0.012577123722304948,
          0.03003633320946024,
          -0.02654814506180513,
          0.04537379266699752,
          0.9971018516573591,
          0.9610768913211076,
          0.0041299714529685755,
          -0.019518546440656794,
          0.04253595871882143,
          -0.016297458716794555,
          -0.03526388830298837,
          0.9765520832786505,
          0.04823638577750926,
          -0.01066195334453305,
          0.029936798304505505,
          -0.007031684812163375,
          0.9970401061946661,
          0.018850096401249336,
          0.00056515901023102,
          -0.019013223029432137,
          1.027618168718875,
          -0.04144807627721839,
          0.04323016401972772,
          0.9961862133616666,
          2.7314887614815486e-05,
          1.0465157294037852,
          0.041055815721430564,
          0.00945971496891175,
          -0.02952211044114609,
          -0.019750982170007616,
          -0.02832045648298306,
          1.0439785347859487,
          -0.00846294255230573,
          0.03674371080290416,
          -0.048640038730679326,
          0.039512933479939116,
          0.003934724707394033,
          1.0325285492942446,
          -0.04628630470291672,
          0.00782831850319423,
          -0.007101380195560246,
          -0.03192355727544008,
          -0.03209853201393856,
          0.03718598444840128,
          0.03326809365375143,
          -0.004133394564641547,
          -0.006257996600782557,
          0.04405608831893447,
          0.03731829457154226,
          -0.0130001468788871,
          0.02250008392998279,
          -0.02252165409791265,
          0.01363823461924829,
          1.0315868624337066,
          0.03717848405107389,
          0.02992508713031755,
          0.03888701983817282,
          -0.018571848101970816,
          1.0071098642016403,
          0.02793017157925716,
          8.441597322213223e-05,
          0.022787640098356682,
          1.0170712203410577,
          0.03499198549032499,
          -0.029608330168570465,
          -0.04554121668149717,
          0.9763163504585441,
          0.019241166188067454,
          -0.011210839586479823,
          -0.03641839901268379,
          -0.03953920820538825,
          -0.010756675797973222,
          -0.03142361147540372,
          0.03350696504604292,
          -0.03188251181737585,
          -0.048184750028642254,
          0.010232681720229155,
          -0.04897502640713454,
          -0.0123790548498963,
          -0.018107407678941555,
          0.005662596230829153,
          0.04895330916613842,
          0.03517137022825495,
          0.9931095358752016,
          0.034801051906110686,
          0.037842720642553104,
          0.04338549761931114,
          0.03138255551546401,
          -0.036561971033990115,
          0.017913912413064906,
          -0.04187876436138778,
          0.04490720908331167,
          -0.026988839561970825,
          -0.0018977787789635422,
          -0.025194321173001546,
          -0.0441107151734944,
          0.03934955161814575,
          -0.038185823118798805,
          0.015394686802572624,
          0.027552527964526022,
          0.04768924321386463,
          -0.0028286036787476126,
          -0.01668455378651651,
          -0.044065929785074266,
          0.03003707238211477,
          0.03304146444435767,
          0.0195136796047424,
          -0.007086048670235226,
          -0.030605829052291846,
          0.028392197708487638,
          0.040044102099783305,
          0.009603305591466202,
          -0.005959863318311831,
          0.0253995034381896,
          0.02695417305345052,
          0.008932962139446353,
          -0.03089775070702712,
          0.009316010148045173,
          1.040496778872294,
          0.04396457661787956,
          0.9945120422154821,
          0.007373043021263528,
          0.03242738017038009,
          -0.016308048338352546,
          1.036036810708059,
          0.01754985098191185,
          0.04006496184509811,
          -0.007193316851662711,
          -0.01417501973249085,
          -0.04001300919805783,
          0.045558085125042266,
          0.02162072613444635,
          0.041479898055661685,
          -0.032126574479663994,
          -0.010005580328873977,
          -0.014900577127785697,
          0.005210594667792147,
          0.955748301590994,
          0.02273198528405479,
          -0.014616065936704704,
          0.008579937848971333,
          0.008120540943891238,
          0.008240877677364887,
          -0.04196488216199831,
          1.0471582172933112,
          0.9879899059145594,
          0.029974352238677712,
          0.02951630134783026,
          0.02146966053797103,
          0.9766484772525139,
          -0.04524111303545311,
          -0.023821408838864844,
          0.9675719320258063,
          -0.01186920343580504,
          0.9510034930708959,
          -0.04633427345507482,
          -0.00447284505542421,
          -0.02629267625459779,
          -0.02832687224162981,
          -0.045728410233110764,
          -0.030167435441200752,
          0.004112772703298219,
          0.010581950048700037,
          0.9614633977533671,
          1.0129016224773926,
          1.0186534641669998,
          0.03553034730519426,
          -0.0033417695396113153,
          0.9748116488803051,
          -0.027574571200130626,
          0.01670234079137825,
          0.9576935849008255,
          1.029130305831367,
          1.0251297290147718,
          0.9888851898336168,
          0.008720592740458319,
          0.0253614976805928,
          -0.032131234376904724,
          -0.022846895611769502,
          0.019675609578590852,
          -0.025090270955723137,
          0.024777466020681704,
          -0.005182004325809654,
          -0.047776259978964876,
          0.027052017256440283,
          0.04642470762602009,
          -0.0314846807603955,
          -0.04375959088329976,
          -0.036256871401744155,
          0.015900059730715732,
          0.014914086963436712,
          -0.010235466775768955,
          0.9855228810238885,
          0.04217419392170012,
          0.021300998376569527,
          1.040054273042947,
          -0.013850225522886964,
          -0.020174867826387822,
          1.0068095288355219,
          -0.007732249694029039,
          0.037961042980737936,
          0.9996675469143226,
          -0.016618703148728056,
          -0.032517287439150874,
          0.9743727692648172,
          0.024144130057078134,
          0.004491658831965742,
          -0.023128601071143607,
          0.0328831200113715,
          -0.03291785165220833,
          0.02946957150108949,
          0.003632744948955449,
          0.019770268867592644,
          0.049454506751859986,
          0.020327283785596784,
          0.040290330305273556,
          -0.003867179171400295,
          -0.02364631040075508,
          -0.04827867840202804,
          -0.02884324505884389,
          -0.0306353052855312,
          -0.04593355149330545,
          -0.03914126847571212,
          -0.02731070257224181,
          0.04710855040735899,
          1.035319671139037,
          0.040636562681509544,
          -0.02545799033561842,
          -0.04235593776566935,
          0.9570546286455994,
          0.015739649196834612,
          1.0290293386351694,
          -0.04915051800917282,
          -0.026781738824781444,
          -0.04089096049920246,
          -0.03401085008217755,
          -0.04730245654087918,
          1.0153222522806593,
          0.002383340222981589
         ]
        },
        {
         "line": {
          "color": "orange"
         },
         "mode": "lines",
         "name": "Least Squares",
         "type": "scatter",
         "x": [
          7.691,
          8.107714285714286,
          8.52442857142857,
          8.941142857142857,
          9.357857142857142,
          9.774571428571429,
          10.191285714285714,
          10.608,
          11.024714285714285,
          11.44142857142857,
          11.858142857142857,
          12.274857142857144,
          12.691571428571429,
          13.108285714285714,
          13.524999999999999,
          13.941714285714285,
          14.358428571428572,
          14.775142857142857,
          15.191857142857142,
          15.608571428571429,
          16.025285714285715,
          16.442,
          16.858714285714285,
          17.27542857142857,
          17.692142857142855,
          18.108857142857143,
          18.52557142857143,
          18.942285714285713,
          19.358999999999998,
          19.775714285714287,
          20.19242857142857,
          20.609142857142857,
          21.02585714285714,
          21.442571428571426,
          21.859285714285715,
          22.276,
          22.692714285714285,
          23.10942857142857,
          23.526142857142858,
          23.942857142857143,
          24.359571428571428,
          24.776285714285713,
          25.192999999999998,
          25.609714285714283,
          26.02642857142857,
          26.443142857142856,
          26.85985714285714,
          27.276571428571426,
          27.69328571428571,
          28.11
         ],
         "y": [
          -0.2592505255840679,
          -0.21809425706067354,
          -0.17693798853727927,
          -0.13578172001388478,
          -0.09462545149049051,
          -0.05346918296709602,
          -0.01231291444370175,
          0.02884335407969263,
          0.06999962260308701,
          0.11115589112648117,
          0.15231215964987577,
          0.19346842817327015,
          0.23462469669666453,
          0.2757809652200587,
          0.31693723374345306,
          0.35809350226684744,
          0.39924977079024204,
          0.4404060393136362,
          0.4815623078370306,
          0.522718576360425,
          0.5638748448838196,
          0.6050311134072137,
          0.6461873819306081,
          0.6873436504540023,
          0.7284999189773966,
          0.7696561875007912,
          0.8108124560241856,
          0.8519687245475798,
          0.8931249930709741,
          0.9342812615943688,
          0.9754375301177631,
          1.0165937986411575,
          1.0577500671645517,
          1.0989063356879458,
          1.1400626042113404,
          1.1812188727347346,
          1.2223751412581292,
          1.2635314097815233,
          1.304687678304918,
          1.345843946828312,
          1.3870002153517067,
          1.4281564838751009,
          1.469312752398495,
          1.5104690209218896,
          1.5516252894452842,
          1.5927815579686784,
          1.6339378264920725,
          1.6750940950154671,
          1.7162503635388613,
          1.757406632062256
         ]
        },
        {
         "line": {
          "color": "black",
          "dash": "dot"
         },
         "mode": "lines",
         "name": "Least Squares Decision Boundary",
         "type": "scatter",
         "x": [
          15.378541941930807,
          15.378541941930807
         ],
         "y": [
          -0.5,
          1.5
         ]
        }
       ],
       "layout": {
        "template": {
         "data": {
          "bar": [
           {
            "error_x": {
             "color": "#2a3f5f"
            },
            "error_y": {
             "color": "#2a3f5f"
            },
            "marker": {
             "line": {
              "color": "#E5ECF6",
              "width": 0.5
             }
            },
            "type": "bar"
           }
          ],
          "barpolar": [
           {
            "marker": {
             "line": {
              "color": "#E5ECF6",
              "width": 0.5
             }
            },
            "type": "barpolar"
           }
          ],
          "carpet": [
           {
            "aaxis": {
             "endlinecolor": "#2a3f5f",
             "gridcolor": "white",
             "linecolor": "white",
             "minorgridcolor": "white",
             "startlinecolor": "#2a3f5f"
            },
            "baxis": {
             "endlinecolor": "#2a3f5f",
             "gridcolor": "white",
             "linecolor": "white",
             "minorgridcolor": "white",
             "startlinecolor": "#2a3f5f"
            },
            "type": "carpet"
           }
          ],
          "choropleth": [
           {
            "colorbar": {
             "outlinewidth": 0,
             "ticks": ""
            },
            "type": "choropleth"
           }
          ],
          "contour": [
           {
            "colorbar": {
             "outlinewidth": 0,
             "ticks": ""
            },
            "colorscale": [
             [
              0,
              "#0d0887"
             ],
             [
              0.1111111111111111,
              "#46039f"
             ],
             [
              0.2222222222222222,
              "#7201a8"
             ],
             [
              0.3333333333333333,
              "#9c179e"
             ],
             [
              0.4444444444444444,
              "#bd3786"
             ],
             [
              0.5555555555555556,
              "#d8576b"
             ],
             [
              0.6666666666666666,
              "#ed7953"
             ],
             [
              0.7777777777777778,
              "#fb9f3a"
             ],
             [
              0.8888888888888888,
              "#fdca26"
             ],
             [
              1,
              "#f0f921"
             ]
            ],
            "type": "contour"
           }
          ],
          "contourcarpet": [
           {
            "colorbar": {
             "outlinewidth": 0,
             "ticks": ""
            },
            "type": "contourcarpet"
           }
          ],
          "heatmap": [
           {
            "colorbar": {
             "outlinewidth": 0,
             "ticks": ""
            },
            "colorscale": [
             [
              0,
              "#0d0887"
             ],
             [
              0.1111111111111111,
              "#46039f"
             ],
             [
              0.2222222222222222,
              "#7201a8"
             ],
             [
              0.3333333333333333,
              "#9c179e"
             ],
             [
              0.4444444444444444,
              "#bd3786"
             ],
             [
              0.5555555555555556,
              "#d8576b"
             ],
             [
              0.6666666666666666,
              "#ed7953"
             ],
             [
              0.7777777777777778,
              "#fb9f3a"
             ],
             [
              0.8888888888888888,
              "#fdca26"
             ],
             [
              1,
              "#f0f921"
             ]
            ],
            "type": "heatmap"
           }
          ],
          "heatmapgl": [
           {
            "colorbar": {
             "outlinewidth": 0,
             "ticks": ""
            },
            "colorscale": [
             [
              0,
              "#0d0887"
             ],
             [
              0.1111111111111111,
              "#46039f"
             ],
             [
              0.2222222222222222,
              "#7201a8"
             ],
             [
              0.3333333333333333,
              "#9c179e"
             ],
             [
              0.4444444444444444,
              "#bd3786"
             ],
             [
              0.5555555555555556,
              "#d8576b"
             ],
             [
              0.6666666666666666,
              "#ed7953"
             ],
             [
              0.7777777777777778,
              "#fb9f3a"
             ],
             [
              0.8888888888888888,
              "#fdca26"
             ],
             [
              1,
              "#f0f921"
             ]
            ],
            "type": "heatmapgl"
           }
          ],
          "histogram": [
           {
            "marker": {
             "colorbar": {
              "outlinewidth": 0,
              "ticks": ""
             }
            },
            "type": "histogram"
           }
          ],
          "histogram2d": [
           {
            "colorbar": {
             "outlinewidth": 0,
             "ticks": ""
            },
            "colorscale": [
             [
              0,
              "#0d0887"
             ],
             [
              0.1111111111111111,
              "#46039f"
             ],
             [
              0.2222222222222222,
              "#7201a8"
             ],
             [
              0.3333333333333333,
              "#9c179e"
             ],
             [
              0.4444444444444444,
              "#bd3786"
             ],
             [
              0.5555555555555556,
              "#d8576b"
             ],
             [
              0.6666666666666666,
              "#ed7953"
             ],
             [
              0.7777777777777778,
              "#fb9f3a"
             ],
             [
              0.8888888888888888,
              "#fdca26"
             ],
             [
              1,
              "#f0f921"
             ]
            ],
            "type": "histogram2d"
           }
          ],
          "histogram2dcontour": [
           {
            "colorbar": {
             "outlinewidth": 0,
             "ticks": ""
            },
            "colorscale": [
             [
              0,
              "#0d0887"
             ],
             [
              0.1111111111111111,
              "#46039f"
             ],
             [
              0.2222222222222222,
              "#7201a8"
             ],
             [
              0.3333333333333333,
              "#9c179e"
             ],
             [
              0.4444444444444444,
              "#bd3786"
             ],
             [
              0.5555555555555556,
              "#d8576b"
             ],
             [
              0.6666666666666666,
              "#ed7953"
             ],
             [
              0.7777777777777778,
              "#fb9f3a"
             ],
             [
              0.8888888888888888,
              "#fdca26"
             ],
             [
              1,
              "#f0f921"
             ]
            ],
            "type": "histogram2dcontour"
           }
          ],
          "mesh3d": [
           {
            "colorbar": {
             "outlinewidth": 0,
             "ticks": ""
            },
            "type": "mesh3d"
           }
          ],
          "parcoords": [
           {
            "line": {
             "colorbar": {
              "outlinewidth": 0,
              "ticks": ""
             }
            },
            "type": "parcoords"
           }
          ],
          "pie": [
           {
            "automargin": true,
            "type": "pie"
           }
          ],
          "scatter": [
           {
            "marker": {
             "colorbar": {
              "outlinewidth": 0,
              "ticks": ""
             }
            },
            "type": "scatter"
           }
          ],
          "scatter3d": [
           {
            "line": {
             "colorbar": {
              "outlinewidth": 0,
              "ticks": ""
             }
            },
            "marker": {
             "colorbar": {
              "outlinewidth": 0,
              "ticks": ""
             }
            },
            "type": "scatter3d"
           }
          ],
          "scattercarpet": [
           {
            "marker": {
             "colorbar": {
              "outlinewidth": 0,
              "ticks": ""
             }
            },
            "type": "scattercarpet"
           }
          ],
          "scattergeo": [
           {
            "marker": {
             "colorbar": {
              "outlinewidth": 0,
              "ticks": ""
             }
            },
            "type": "scattergeo"
           }
          ],
          "scattergl": [
           {
            "marker": {
             "colorbar": {
              "outlinewidth": 0,
              "ticks": ""
             }
            },
            "type": "scattergl"
           }
          ],
          "scattermapbox": [
           {
            "marker": {
             "colorbar": {
              "outlinewidth": 0,
              "ticks": ""
             }
            },
            "type": "scattermapbox"
           }
          ],
          "scatterpolar": [
           {
            "marker": {
             "colorbar": {
              "outlinewidth": 0,
              "ticks": ""
             }
            },
            "type": "scatterpolar"
           }
          ],
          "scatterpolargl": [
           {
            "marker": {
             "colorbar": {
              "outlinewidth": 0,
              "ticks": ""
             }
            },
            "type": "scatterpolargl"
           }
          ],
          "scatterternary": [
           {
            "marker": {
             "colorbar": {
              "outlinewidth": 0,
              "ticks": ""
             }
            },
            "type": "scatterternary"
           }
          ],
          "surface": [
           {
            "colorbar": {
             "outlinewidth": 0,
             "ticks": ""
            },
            "colorscale": [
             [
              0,
              "#0d0887"
             ],
             [
              0.1111111111111111,
              "#46039f"
             ],
             [
              0.2222222222222222,
              "#7201a8"
             ],
             [
              0.3333333333333333,
              "#9c179e"
             ],
             [
              0.4444444444444444,
              "#bd3786"
             ],
             [
              0.5555555555555556,
              "#d8576b"
             ],
             [
              0.6666666666666666,
              "#ed7953"
             ],
             [
              0.7777777777777778,
              "#fb9f3a"
             ],
             [
              0.8888888888888888,
              "#fdca26"
             ],
             [
              1,
              "#f0f921"
             ]
            ],
            "type": "surface"
           }
          ],
          "table": [
           {
            "cells": {
             "fill": {
              "color": "#EBF0F8"
             },
             "line": {
              "color": "white"
             }
            },
            "header": {
             "fill": {
              "color": "#C8D4E3"
             },
             "line": {
              "color": "white"
             }
            },
            "type": "table"
           }
          ]
         },
         "layout": {
          "annotationdefaults": {
           "arrowcolor": "#2a3f5f",
           "arrowhead": 0,
           "arrowwidth": 1
          },
          "coloraxis": {
           "colorbar": {
            "outlinewidth": 0,
            "ticks": ""
           }
          },
          "colorscale": {
           "diverging": [
            [
             0,
             "#8e0152"
            ],
            [
             0.1,
             "#c51b7d"
            ],
            [
             0.2,
             "#de77ae"
            ],
            [
             0.3,
             "#f1b6da"
            ],
            [
             0.4,
             "#fde0ef"
            ],
            [
             0.5,
             "#f7f7f7"
            ],
            [
             0.6,
             "#e6f5d0"
            ],
            [
             0.7,
             "#b8e186"
            ],
            [
             0.8,
             "#7fbc41"
            ],
            [
             0.9,
             "#4d9221"
            ],
            [
             1,
             "#276419"
            ]
           ],
           "sequential": [
            [
             0,
             "#0d0887"
            ],
            [
             0.1111111111111111,
             "#46039f"
            ],
            [
             0.2222222222222222,
             "#7201a8"
            ],
            [
             0.3333333333333333,
             "#9c179e"
            ],
            [
             0.4444444444444444,
             "#bd3786"
            ],
            [
             0.5555555555555556,
             "#d8576b"
            ],
            [
             0.6666666666666666,
             "#ed7953"
            ],
            [
             0.7777777777777778,
             "#fb9f3a"
            ],
            [
             0.8888888888888888,
             "#fdca26"
            ],
            [
             1,
             "#f0f921"
            ]
           ],
           "sequentialminus": [
            [
             0,
             "#0d0887"
            ],
            [
             0.1111111111111111,
             "#46039f"
            ],
            [
             0.2222222222222222,
             "#7201a8"
            ],
            [
             0.3333333333333333,
             "#9c179e"
            ],
            [
             0.4444444444444444,
             "#bd3786"
            ],
            [
             0.5555555555555556,
             "#d8576b"
            ],
            [
             0.6666666666666666,
             "#ed7953"
            ],
            [
             0.7777777777777778,
             "#fb9f3a"
            ],
            [
             0.8888888888888888,
             "#fdca26"
            ],
            [
             1,
             "#f0f921"
            ]
           ]
          },
          "colorway": [
           "#636efa",
           "#EF553B",
           "#00cc96",
           "#ab63fa",
           "#FFA15A",
           "#19d3f3",
           "#FF6692",
           "#B6E880",
           "#FF97FF",
           "#FECB52"
          ],
          "font": {
           "color": "#2a3f5f"
          },
          "geo": {
           "bgcolor": "white",
           "lakecolor": "white",
           "landcolor": "#E5ECF6",
           "showlakes": true,
           "showland": true,
           "subunitcolor": "white"
          },
          "hoverlabel": {
           "align": "left"
          },
          "hovermode": "closest",
          "mapbox": {
           "style": "light"
          },
          "paper_bgcolor": "white",
          "plot_bgcolor": "#E5ECF6",
          "polar": {
           "angularaxis": {
            "gridcolor": "white",
            "linecolor": "white",
            "ticks": ""
           },
           "bgcolor": "#E5ECF6",
           "radialaxis": {
            "gridcolor": "white",
            "linecolor": "white",
            "ticks": ""
           }
          },
          "scene": {
           "xaxis": {
            "backgroundcolor": "#E5ECF6",
            "gridcolor": "white",
            "gridwidth": 2,
            "linecolor": "white",
            "showbackground": true,
            "ticks": "",
            "zerolinecolor": "white"
           },
           "yaxis": {
            "backgroundcolor": "#E5ECF6",
            "gridcolor": "white",
            "gridwidth": 2,
            "linecolor": "white",
            "showbackground": true,
            "ticks": "",
            "zerolinecolor": "white"
           },
           "zaxis": {
            "backgroundcolor": "#E5ECF6",
            "gridcolor": "white",
            "gridwidth": 2,
            "linecolor": "white",
            "showbackground": true,
            "ticks": "",
            "zerolinecolor": "white"
           }
          },
          "shapedefaults": {
           "line": {
            "color": "#2a3f5f"
           }
          },
          "ternary": {
           "aaxis": {
            "gridcolor": "white",
            "linecolor": "white",
            "ticks": ""
           },
           "baxis": {
            "gridcolor": "white",
            "linecolor": "white",
            "ticks": ""
           },
           "bgcolor": "#E5ECF6",
           "caxis": {
            "gridcolor": "white",
            "linecolor": "white",
            "ticks": ""
           }
          },
          "title": {
           "x": 0.05
          },
          "xaxis": {
           "automargin": true,
           "gridcolor": "white",
           "linecolor": "white",
           "ticks": "",
           "title": {
            "standoff": 15
           },
           "zerolinecolor": "white",
           "zerolinewidth": 2
          },
          "yaxis": {
           "automargin": true,
           "gridcolor": "white",
           "linecolor": "white",
           "ticks": "",
           "title": {
            "standoff": 15
           },
           "zerolinecolor": "white",
           "zerolinewidth": 2
          }
         }
        },
        "xaxis": {
         "title": {
          "text": "Mean Radius"
         }
        },
        "yaxis": {
         "title": {
          "text": "Malignant"
         }
        }
       }
      },
      "text/html": [
       "<div>\n",
       "        \n",
       "        \n",
       "            <div id=\"91682b9d-cf13-4b67-a3b0-d63c01e99f51\" class=\"plotly-graph-div\" style=\"height:525px; width:100%;\"></div>\n",
       "            <script type=\"text/javascript\">\n",
       "                require([\"plotly\"], function(Plotly) {\n",
       "                    window.PLOTLYENV=window.PLOTLYENV || {};\n",
       "                    \n",
       "                if (document.getElementById(\"91682b9d-cf13-4b67-a3b0-d63c01e99f51\")) {\n",
       "                    Plotly.newPlot(\n",
       "                        '91682b9d-cf13-4b67-a3b0-d63c01e99f51',\n",
       "                        [{\"marker\": {\"color\": \"red\", \"opacity\": 0.5}, \"mode\": \"markers\", \"name\": \"Classified as Malignant\", \"type\": \"scatter\", \"x\": [25.22, 19.69, 21.56, 15.78, 20.18, 15.78, 16.46, 16.16, 20.94, 17.93, 17.6, 20.13, 17.27, 15.7, 18.05, 17.99, 23.09, 16.07, 20.73, 21.09, 19.89, 21.1, 19.27, 17.99, 19.81, 17.75, 20.58, 22.27, 19.4, 17.35, 16.11, 18.49, 15.46, 19.21, 18.81, 17.14, 19.07, 19.16, 19.8, 16.65, 16.13, 21.75, 27.22, 21.16, 20.16, 18.65, 15.61, 17.06, 16.84, 20.48, 17.47, 20.09, 17.95, 16.69, 16.35, 16.5, 17.3, 20.59, 16.27, 17.29, 18.03, 19.18, 25.73, 24.63, 17.46, 19.44, 20.47, 20.18, 24.25, 23.29, 20.34, 16.17, 20.44, 18.82, 21.71, 15.75, 18.22, 19.53, 19.79, 19.59, 20.64, 17.08, 20.51, 23.27, 18.22, 18.08, 15.66, 18.01, 19.0, 17.91, 15.71, 16.24, 18.46, 18.31, 19.17, 16.74, 20.26, 15.75, 16.25, 15.46, 15.49, 19.4, 19.45, 20.29, 19.55, 17.42, 16.14, 17.02, 15.5, 18.45, 18.61, 17.05, 20.31, 19.59, 18.31, 19.53, 17.68, 18.77, 23.21, 17.01, 28.11, 27.42, 16.6, 17.54, 19.19, 15.53, 19.55, 20.57, 16.13, 16.3, 20.2, 23.51, 15.85, 20.92, 15.73, 19.73, 17.85, 19.68, 21.37, 19.02, 16.03, 18.66], \"y\": [0.9573940961999341, 1.0329193053908396, 0.9736398668643405, 0.9793608628629991, 0.9904487523088727, 1.0068524781234918, 1.0424972964554602, 0.9867502046109105, 0.9602470044934768, 0.9850676154814608, 1.005588701192757, 1.0276901044349835, 0.9794519065421421, 0.9707306692088584, 1.0042213208532313, 0.9856737732402137, 0.9620111977794565, 0.9627385974920728, 0.9583452569018427, 1.0233868369534105, 0.9572368884946776, 0.9944558664192196, 1.0189343704119478, 0.9512176334654494, 0.9797028264307306, 1.0092621920060922, 1.004303882188768, 0.9867258967596095, 0.9507677803825196, 0.9979662433251515, 1.0030262566554706, 1.0390622265037912, 0.9916189299105311, 1.0178357765454018, 0.9713128888370999, 0.9620391561543444, 1.0245904608673113, 1.0302311280400998, 0.9961777542941024, 0.9985779845839193, 0.9992860973022688, 1.0168006326262693, 1.0071562412052748, 0.9992943790812987, 1.0415824181517093, 1.0146339325838611, 1.0430615403762107, 1.002890943217976, 0.003030209497766556, 0.9733967764640099, 0.9806239408811628, 1.0405012458770582, 0.9943058919044621, 0.9984784824060056, 1.0389805182721152, -0.025430754252504184, 0.955375563241396, 0.9600638650715618, 0.9596886553175048, 1.0132329659474815, 0.9799758861422332, 1.0458521902384845, 0.9785476295244624, 1.0467130013887525, 0.9888831879915545, 1.0200676787752316, 0.9786253536406577, 1.0377606721998949, 0.9799067368744545, 0.9693908845767603, 1.0242248558507654, -0.012943049131381425, 1.0211124270328185, 1.0248000607592302, 1.0181703546555623, 0.9555636439149722, 1.0274545470974163, 0.9707939567959356, 1.0423129058099683, 0.9837939267752056, 0.9721070284338247, 0.9867991448856492, 0.9774952112751787, 0.9770066708978422, 0.9575305795666551, 0.961760774307316, 0.9973975701103379, 1.0350033522996203, 0.971867640237166, 1.025107159161914, 0.0196996676688998, 0.9540228131489603, 1.0270822104312167, 0.9683823614700071, 0.9911833271922479, 1.035384200486925, 0.9584864578998318, 0.9897724461162607, 1.0162652555696294, 1.029380484751473, 0.9821865978956237, 0.9614043382107809, 0.9599495688396213, 0.9596259433118042, 1.0477888971986404, 0.9581026816505256, -0.007155147617485216, 1.0384030895168492, 1.0010762673568785, 1.0081041389785412, 1.0354431517953673, 0.9777070652200246, 0.9636331808287275, 0.9695699994408196, 1.0418907233934063, 0.9669372866464652, 1.0316691246140706, 1.0289732068224644, 0.9565821265338397, 0.9564165113574563, 0.9988723678376838, 1.0166348198140762, 0.9926175927615493, 1.020842750229527, 0.9532652029301332, 1.0085743147188833, 1.0437006380247482, 1.0119176994208174, 0.9571771721562972, 0.00646566515333772, 0.9945753052791941, 1.0167589081108939, 0.9973002070072559, 1.0283857827435765, -0.02798578057610246, 1.0290408115902083, 0.015932565691638687, 0.953853903120953, 0.9674597878135018, 1.0317132292307385, 0.9958226517382973, 1.0156800995159507]}, {\"marker\": {\"color\": \"blue\", \"opacity\": 0.5}, \"mode\": \"markers\", \"name\": \"Classified as Benign\", \"type\": \"scatter\", \"x\": [13.48, 11.29, 12.86, 14.4, 12.3, 12.62, 11.81, 12.98, 13.77, 14.06, 7.729, 13.47, 14.03, 13.96, 10.75, 11.27, 11.25, 14.48, 15.32, 12.46, 12.05, 12.86, 12.0, 13.46, 15.04, 11.2, 11.22, 9.777, 13.81, 11.15, 9.738, 10.82, 11.75, 12.34, 14.44, 14.64, 11.52, 14.22, 9.029, 9.173, 10.65, 10.17, 14.54, 14.41, 11.43, 12.25, 12.36, 14.87, 9.667, 13.4, 15.22, 14.26, 11.7, 15.27, 15.34, 13.51, 10.48, 14.64, 14.45, 11.04, 10.26, 12.89, 13.4, 12.96, 15.28, 13.78, 15.1, 12.34, 8.196, 13.45, 11.32, 7.76, 14.86, 11.13, 9.72, 9.606, 10.08, 12.56, 15.13, 10.48, 12.78, 14.74, 9.904, 13.82, 12.89, 13.74, 13.37, 14.69, 12.91, 13.62, 15.0, 11.8, 14.53, 13.71, 11.36, 8.726, 13.71, 14.47, 13.54, 12.85, 12.47, 12.46, 10.86, 11.37, 13.49, 9.567, 11.06, 14.61, 7.691, 13.69, 11.46, 12.06, 13.15, 13.61, 10.26, 9.333, 11.06, 10.66, 11.84, 10.51, 12.67, 11.08, 11.04, 12.43, 14.71, 14.87, 12.87, 9.465, 13.16, 10.91, 12.25, 12.75, 14.58, 12.27, 12.16, 14.27, 15.06, 12.99, 13.27, 13.87, 13.87, 13.59, 12.45, 8.95, 13.65, 11.47, 14.42, 14.68, 12.05, 9.683, 10.97, 11.42, 12.54, 14.34, 14.58, 11.76, 12.83, 13.03, 13.21, 8.671, 11.87, 12.76, 14.86, 12.65, 11.31, 11.94, 14.96, 11.6, 12.34, 9.731, 11.27, 14.02, 10.51, 9.876, 11.57, 12.31, 13.66, 10.32, 12.21, 12.21, 12.87, 12.18, 12.04, 10.05, 14.25, 11.28, 8.618, 12.63, 12.54, 11.76, 13.0, 10.6, 11.62, 14.99, 11.89, 9.0, 9.042, 11.8, 13.9, 14.95, 13.46, 14.5, 12.18, 12.9, 9.787, 12.2, 11.85, 11.41, 13.2, 12.45, 11.95, 13.85, 15.19, 11.06, 15.05, 11.14, 12.94, 13.24, 13.05, 13.85, 13.3, 12.72, 12.0, 14.26, 12.81, 9.405, 10.94, 8.597, 8.219, 10.57, 13.2, 12.39, 11.71, 14.04, 11.22, 11.93, 11.41, 12.72, 10.57, 13.27, 9.397, 14.76, 11.51, 12.58, 9.847, 9.676, 12.36, 11.63, 14.8, 13.17, 14.97, 14.78, 11.3, 14.92, 10.9, 15.3, 12.32, 11.43, 11.68, 11.16, 14.53, 13.56, 11.34, 13.64, 13.64, 14.59, 9.668, 13.01, 10.95, 8.571, 9.876, 8.878, 12.8, 12.22, 10.96, 14.9, 13.61, 10.44, 12.88, 9.436, 13.43, 11.6, 12.95, 13.86, 8.598, 13.17, 13.59, 12.03, 12.23, 11.49, 13.66, 11.26, 12.7, 8.734, 14.95, 14.25, 12.77, 15.1, 12.77, 13.0, 14.11, 11.71, 12.68, 13.73, 13.44, 11.08, 11.71, 12.46, 11.89, 12.27, 13.85, 11.94, 11.26, 13.77, 11.69, 11.5, 14.05, 13.38, 10.49, 11.66, 10.71, 13.7, 11.99, 13.28, 10.2, 11.93, 14.22, 14.2, 13.05, 13.11, 12.07, 11.45, 15.12, 10.8, 12.62, 15.37, 10.26, 12.42, 12.49, 13.88, 9.742, 10.8, 12.88, 9.268, 13.75, 12.3, 12.83, 11.74, 13.05, 10.88, 9.504, 11.54, 9.755, 11.75, 11.33, 12.77, 14.6, 14.99, 13.5, 12.19, 14.42, 13.0, 14.19, 13.14, 13.08, 8.888, 11.64, 14.29, 13.98, 12.18], \"y\": [1.039843380484294, 0.03341229482365014, -0.04828214715200634, -0.007267532336260152, 0.04606763071784363, 0.021528710981036453, -0.026572374998196716, -0.03899904873114457, 0.997382731354272, -0.011342453765297487, 0.04039095563573676, 0.01631846160014104, 0.016469049946017625, 0.9671533834964943, -0.04536805085931668, 0.0485978900460788, 0.013474205953820498, 1.027540765938256, 1.0131180965961928, 0.9779908377578639, 0.03746022784879682, 0.03541636742190454, -0.043364151239264716, -0.028073557788982198, -0.0002996860527308548, -0.04304734359446464, 0.029287595559867263, 0.007353605492464575, 0.9801292622431366, -0.009114024228112458, -0.045735295117492185, 0.03427835151092341, -0.029223159662209355, -0.019589055512818056, -0.01158894253904029, 0.0032711663639370947, 0.0016498944084155504, -0.003453885576253292, 0.032433989290296714, -0.030326741670719894, -0.01169478963567585, 0.003346225611227313, 1.0142271872240036, -0.016057341021277864, -0.017746318162831433, -0.02602028108917003, 0.0005989940000042035, 1.0133068080206482, 0.0016083629695627377, -0.014371617323714773, 1.0417733718229119, 0.02356657958402908, 0.023011865069503576, 0.008766344116050304, 1.0294732846360841, 0.02670226254140315, 0.04941357426444122, -0.006465131611535016, 1.0325372648786004, 0.003988834705110543, 0.03695790495816094, -0.04592118866390367, 1.0403611069117695, 0.047767193044216325, 1.0370450595455443, 0.04217651227800023, 0.9724708487701563, 0.02616655472637941, -0.010465044232962198, -0.01199879300928279, -0.030107040640045137, -0.004965924342516845, 0.0479608509363917, -0.005160070199387003, -0.0016123342081062475, -0.011162971423490174, 0.02816816310241914, -0.02063666887113086, 0.9900518294919682, -0.0343163368482433, 0.02743597653759615, 0.018409044831399102, -0.006409018031792432, 1.0141444745814838, -0.0008796903300571715, -0.03360484648766221, -0.02288497089617635, -0.01296628095875102, 0.042513315564632545, -0.011330983339807997, -0.037008256017264, 0.00951158448320892, 0.036884050847526814, -0.021094045979810495, 0.01729236706684341, -0.014760716290050269, 1.0310702347137342, -0.023286445468293462, -0.034759733129191055, -0.0341876466923605, 0.01009987075934772, -0.018029232799698813, 0.009434863374779626, 0.02482141263032059, -0.004051054073987245, 0.0055455171633008934, 0.04669638857309874, 0.04352050227060793, -0.01491009408490336, -0.04765962467106786, 0.04355609861905932, -0.04207074679003451, -0.04359335455783023, 1.045607662348755, -0.01364140635482241, 0.04463954966404435, 0.014402114419640497, -0.009245348794101958, 1.0108709824897248, -0.03183455961933077, 0.0008507232426150715, 0.015222787379926037, -0.04346550996602422, -0.02506814369926709, 0.9851336124796357, -0.025430285679339693, 0.03083647303917833, 0.03646020915749068, 0.0040631764998600856, -0.03022009243177929, 0.02429218796980756, 0.012577123722304948, 0.03003633320946024, -0.02654814506180513, 0.04537379266699752, 0.9971018516573591, 0.9610768913211076, 0.0041299714529685755, -0.019518546440656794, 0.04253595871882143, -0.016297458716794555, -0.03526388830298837, 0.9765520832786505, 0.04823638577750926, -0.01066195334453305, 0.029936798304505505, -0.007031684812163375, 0.9970401061946661, 0.018850096401249336, 0.00056515901023102, -0.019013223029432137, 1.027618168718875, -0.04144807627721839, 0.04323016401972772, 0.9961862133616666, 2.7314887614815486e-05, 1.0465157294037852, 0.041055815721430564, 0.00945971496891175, -0.02952211044114609, -0.019750982170007616, -0.02832045648298306, 1.0439785347859487, -0.00846294255230573, 0.03674371080290416, -0.048640038730679326, 0.039512933479939116, 0.003934724707394033, 1.0325285492942446, -0.04628630470291672, 0.00782831850319423, -0.007101380195560246, -0.03192355727544008, -0.03209853201393856, 0.03718598444840128, 0.03326809365375143, -0.004133394564641547, -0.006257996600782557, 0.04405608831893447, 0.03731829457154226, -0.0130001468788871, 0.02250008392998279, -0.02252165409791265, 0.01363823461924829, 1.0315868624337066, 0.03717848405107389, 0.02992508713031755, 0.03888701983817282, -0.018571848101970816, 1.0071098642016403, 0.02793017157925716, 8.441597322213223e-05, 0.022787640098356682, 1.0170712203410577, 0.03499198549032499, -0.029608330168570465, -0.04554121668149717, 0.9763163504585441, 0.019241166188067454, -0.011210839586479823, -0.03641839901268379, -0.03953920820538825, -0.010756675797973222, -0.03142361147540372, 0.03350696504604292, -0.03188251181737585, -0.048184750028642254, 0.010232681720229155, -0.04897502640713454, -0.0123790548498963, -0.018107407678941555, 0.005662596230829153, 0.04895330916613842, 0.03517137022825495, 0.9931095358752016, 0.034801051906110686, 0.037842720642553104, 0.04338549761931114, 0.03138255551546401, -0.036561971033990115, 0.017913912413064906, -0.04187876436138778, 0.04490720908331167, -0.026988839561970825, -0.0018977787789635422, -0.025194321173001546, -0.0441107151734944, 0.03934955161814575, -0.038185823118798805, 0.015394686802572624, 0.027552527964526022, 0.04768924321386463, -0.0028286036787476126, -0.01668455378651651, -0.044065929785074266, 0.03003707238211477, 0.03304146444435767, 0.0195136796047424, -0.007086048670235226, -0.030605829052291846, 0.028392197708487638, 0.040044102099783305, 0.009603305591466202, -0.005959863318311831, 0.0253995034381896, 0.02695417305345052, 0.008932962139446353, -0.03089775070702712, 0.009316010148045173, 1.040496778872294, 0.04396457661787956, 0.9945120422154821, 0.007373043021263528, 0.03242738017038009, -0.016308048338352546, 1.036036810708059, 0.01754985098191185, 0.04006496184509811, -0.007193316851662711, -0.01417501973249085, -0.04001300919805783, 0.045558085125042266, 0.02162072613444635, 0.041479898055661685, -0.032126574479663994, -0.010005580328873977, -0.014900577127785697, 0.005210594667792147, 0.955748301590994, 0.02273198528405479, -0.014616065936704704, 0.008579937848971333, 0.008120540943891238, 0.008240877677364887, -0.04196488216199831, 1.0471582172933112, 0.9879899059145594, 0.029974352238677712, 0.02951630134783026, 0.02146966053797103, 0.9766484772525139, -0.04524111303545311, -0.023821408838864844, 0.9675719320258063, -0.01186920343580504, 0.9510034930708959, -0.04633427345507482, -0.00447284505542421, -0.02629267625459779, -0.02832687224162981, -0.045728410233110764, -0.030167435441200752, 0.004112772703298219, 0.010581950048700037, 0.9614633977533671, 1.0129016224773926, 1.0186534641669998, 0.03553034730519426, -0.0033417695396113153, 0.9748116488803051, -0.027574571200130626, 0.01670234079137825, 0.9576935849008255, 1.029130305831367, 1.0251297290147718, 0.9888851898336168, 0.008720592740458319, 0.0253614976805928, -0.032131234376904724, -0.022846895611769502, 0.019675609578590852, -0.025090270955723137, 0.024777466020681704, -0.005182004325809654, -0.047776259978964876, 0.027052017256440283, 0.04642470762602009, -0.0314846807603955, -0.04375959088329976, -0.036256871401744155, 0.015900059730715732, 0.014914086963436712, -0.010235466775768955, 0.9855228810238885, 0.04217419392170012, 0.021300998376569527, 1.040054273042947, -0.013850225522886964, -0.020174867826387822, 1.0068095288355219, -0.007732249694029039, 0.037961042980737936, 0.9996675469143226, -0.016618703148728056, -0.032517287439150874, 0.9743727692648172, 0.024144130057078134, 0.004491658831965742, -0.023128601071143607, 0.0328831200113715, -0.03291785165220833, 0.02946957150108949, 0.003632744948955449, 0.019770268867592644, 0.049454506751859986, 0.020327283785596784, 0.040290330305273556, -0.003867179171400295, -0.02364631040075508, -0.04827867840202804, -0.02884324505884389, -0.0306353052855312, -0.04593355149330545, -0.03914126847571212, -0.02731070257224181, 0.04710855040735899, 1.035319671139037, 0.040636562681509544, -0.02545799033561842, -0.04235593776566935, 0.9570546286455994, 0.015739649196834612, 1.0290293386351694, -0.04915051800917282, -0.026781738824781444, -0.04089096049920246, -0.03401085008217755, -0.04730245654087918, 1.0153222522806593, 0.002383340222981589]}, {\"line\": {\"color\": \"orange\"}, \"mode\": \"lines\", \"name\": \"Least Squares\", \"type\": \"scatter\", \"x\": [7.691, 8.107714285714286, 8.52442857142857, 8.941142857142857, 9.357857142857142, 9.774571428571429, 10.191285714285714, 10.608, 11.024714285714285, 11.44142857142857, 11.858142857142857, 12.274857142857144, 12.691571428571429, 13.108285714285714, 13.524999999999999, 13.941714285714285, 14.358428571428572, 14.775142857142857, 15.191857142857142, 15.608571428571429, 16.025285714285715, 16.442, 16.858714285714285, 17.27542857142857, 17.692142857142855, 18.108857142857143, 18.52557142857143, 18.942285714285713, 19.358999999999998, 19.775714285714287, 20.19242857142857, 20.609142857142857, 21.02585714285714, 21.442571428571426, 21.859285714285715, 22.276, 22.692714285714285, 23.10942857142857, 23.526142857142858, 23.942857142857143, 24.359571428571428, 24.776285714285713, 25.192999999999998, 25.609714285714283, 26.02642857142857, 26.443142857142856, 26.85985714285714, 27.276571428571426, 27.69328571428571, 28.11], \"y\": [-0.2592505255840679, -0.21809425706067354, -0.17693798853727927, -0.13578172001388478, -0.09462545149049051, -0.05346918296709602, -0.01231291444370175, 0.02884335407969263, 0.06999962260308701, 0.11115589112648117, 0.15231215964987577, 0.19346842817327015, 0.23462469669666453, 0.2757809652200587, 0.31693723374345306, 0.35809350226684744, 0.39924977079024204, 0.4404060393136362, 0.4815623078370306, 0.522718576360425, 0.5638748448838196, 0.6050311134072137, 0.6461873819306081, 0.6873436504540023, 0.7284999189773966, 0.7696561875007912, 0.8108124560241856, 0.8519687245475798, 0.8931249930709741, 0.9342812615943688, 0.9754375301177631, 1.0165937986411575, 1.0577500671645517, 1.0989063356879458, 1.1400626042113404, 1.1812188727347346, 1.2223751412581292, 1.2635314097815233, 1.304687678304918, 1.345843946828312, 1.3870002153517067, 1.4281564838751009, 1.469312752398495, 1.5104690209218896, 1.5516252894452842, 1.5927815579686784, 1.6339378264920725, 1.6750940950154671, 1.7162503635388613, 1.757406632062256]}, {\"line\": {\"color\": \"black\", \"dash\": \"dot\"}, \"mode\": \"lines\", \"name\": \"Least Squares Decision Boundary\", \"type\": \"scatter\", \"x\": [15.378541941930807, 15.378541941930807], \"y\": [-0.5, 1.5]}],\n",
       "                        {\"template\": {\"data\": {\"bar\": [{\"error_x\": {\"color\": \"#2a3f5f\"}, \"error_y\": {\"color\": \"#2a3f5f\"}, \"marker\": {\"line\": {\"color\": \"#E5ECF6\", \"width\": 0.5}}, \"type\": \"bar\"}], \"barpolar\": [{\"marker\": {\"line\": {\"color\": \"#E5ECF6\", \"width\": 0.5}}, \"type\": \"barpolar\"}], \"carpet\": [{\"aaxis\": {\"endlinecolor\": \"#2a3f5f\", \"gridcolor\": \"white\", \"linecolor\": \"white\", \"minorgridcolor\": \"white\", \"startlinecolor\": \"#2a3f5f\"}, \"baxis\": {\"endlinecolor\": \"#2a3f5f\", \"gridcolor\": \"white\", \"linecolor\": \"white\", \"minorgridcolor\": \"white\", \"startlinecolor\": \"#2a3f5f\"}, \"type\": \"carpet\"}], \"choropleth\": [{\"colorbar\": {\"outlinewidth\": 0, \"ticks\": \"\"}, \"type\": \"choropleth\"}], \"contour\": [{\"colorbar\": {\"outlinewidth\": 0, \"ticks\": \"\"}, \"colorscale\": [[0.0, \"#0d0887\"], [0.1111111111111111, \"#46039f\"], [0.2222222222222222, \"#7201a8\"], [0.3333333333333333, \"#9c179e\"], [0.4444444444444444, \"#bd3786\"], [0.5555555555555556, \"#d8576b\"], [0.6666666666666666, \"#ed7953\"], [0.7777777777777778, \"#fb9f3a\"], [0.8888888888888888, \"#fdca26\"], [1.0, \"#f0f921\"]], \"type\": \"contour\"}], \"contourcarpet\": [{\"colorbar\": {\"outlinewidth\": 0, \"ticks\": \"\"}, \"type\": \"contourcarpet\"}], \"heatmap\": [{\"colorbar\": {\"outlinewidth\": 0, \"ticks\": \"\"}, \"colorscale\": [[0.0, \"#0d0887\"], [0.1111111111111111, \"#46039f\"], [0.2222222222222222, \"#7201a8\"], [0.3333333333333333, \"#9c179e\"], [0.4444444444444444, \"#bd3786\"], [0.5555555555555556, \"#d8576b\"], [0.6666666666666666, \"#ed7953\"], [0.7777777777777778, \"#fb9f3a\"], [0.8888888888888888, \"#fdca26\"], [1.0, \"#f0f921\"]], \"type\": \"heatmap\"}], \"heatmapgl\": [{\"colorbar\": {\"outlinewidth\": 0, \"ticks\": \"\"}, \"colorscale\": [[0.0, \"#0d0887\"], [0.1111111111111111, \"#46039f\"], [0.2222222222222222, \"#7201a8\"], [0.3333333333333333, \"#9c179e\"], [0.4444444444444444, \"#bd3786\"], [0.5555555555555556, \"#d8576b\"], [0.6666666666666666, \"#ed7953\"], [0.7777777777777778, \"#fb9f3a\"], [0.8888888888888888, \"#fdca26\"], [1.0, \"#f0f921\"]], \"type\": \"heatmapgl\"}], \"histogram\": [{\"marker\": {\"colorbar\": {\"outlinewidth\": 0, \"ticks\": \"\"}}, \"type\": \"histogram\"}], \"histogram2d\": [{\"colorbar\": {\"outlinewidth\": 0, \"ticks\": \"\"}, \"colorscale\": [[0.0, \"#0d0887\"], [0.1111111111111111, \"#46039f\"], [0.2222222222222222, \"#7201a8\"], [0.3333333333333333, \"#9c179e\"], [0.4444444444444444, \"#bd3786\"], [0.5555555555555556, \"#d8576b\"], [0.6666666666666666, \"#ed7953\"], [0.7777777777777778, \"#fb9f3a\"], [0.8888888888888888, \"#fdca26\"], [1.0, \"#f0f921\"]], \"type\": \"histogram2d\"}], \"histogram2dcontour\": [{\"colorbar\": {\"outlinewidth\": 0, \"ticks\": \"\"}, \"colorscale\": [[0.0, \"#0d0887\"], [0.1111111111111111, \"#46039f\"], [0.2222222222222222, \"#7201a8\"], [0.3333333333333333, \"#9c179e\"], [0.4444444444444444, \"#bd3786\"], [0.5555555555555556, \"#d8576b\"], [0.6666666666666666, \"#ed7953\"], [0.7777777777777778, \"#fb9f3a\"], [0.8888888888888888, \"#fdca26\"], [1.0, \"#f0f921\"]], \"type\": \"histogram2dcontour\"}], \"mesh3d\": [{\"colorbar\": {\"outlinewidth\": 0, \"ticks\": \"\"}, \"type\": \"mesh3d\"}], \"parcoords\": [{\"line\": {\"colorbar\": {\"outlinewidth\": 0, \"ticks\": \"\"}}, \"type\": \"parcoords\"}], \"pie\": [{\"automargin\": true, \"type\": \"pie\"}], \"scatter\": [{\"marker\": {\"colorbar\": {\"outlinewidth\": 0, \"ticks\": \"\"}}, \"type\": \"scatter\"}], \"scatter3d\": [{\"line\": {\"colorbar\": {\"outlinewidth\": 0, \"ticks\": \"\"}}, \"marker\": {\"colorbar\": {\"outlinewidth\": 0, \"ticks\": \"\"}}, \"type\": \"scatter3d\"}], \"scattercarpet\": [{\"marker\": {\"colorbar\": {\"outlinewidth\": 0, \"ticks\": \"\"}}, \"type\": \"scattercarpet\"}], \"scattergeo\": [{\"marker\": {\"colorbar\": {\"outlinewidth\": 0, \"ticks\": \"\"}}, \"type\": \"scattergeo\"}], \"scattergl\": [{\"marker\": {\"colorbar\": {\"outlinewidth\": 0, \"ticks\": \"\"}}, \"type\": \"scattergl\"}], \"scattermapbox\": [{\"marker\": {\"colorbar\": {\"outlinewidth\": 0, \"ticks\": \"\"}}, \"type\": \"scattermapbox\"}], \"scatterpolar\": [{\"marker\": {\"colorbar\": {\"outlinewidth\": 0, \"ticks\": \"\"}}, \"type\": \"scatterpolar\"}], \"scatterpolargl\": [{\"marker\": {\"colorbar\": {\"outlinewidth\": 0, \"ticks\": \"\"}}, \"type\": \"scatterpolargl\"}], \"scatterternary\": [{\"marker\": {\"colorbar\": {\"outlinewidth\": 0, \"ticks\": \"\"}}, \"type\": \"scatterternary\"}], \"surface\": [{\"colorbar\": {\"outlinewidth\": 0, \"ticks\": \"\"}, \"colorscale\": [[0.0, \"#0d0887\"], [0.1111111111111111, \"#46039f\"], [0.2222222222222222, \"#7201a8\"], [0.3333333333333333, \"#9c179e\"], [0.4444444444444444, \"#bd3786\"], [0.5555555555555556, \"#d8576b\"], [0.6666666666666666, \"#ed7953\"], [0.7777777777777778, \"#fb9f3a\"], [0.8888888888888888, \"#fdca26\"], [1.0, \"#f0f921\"]], \"type\": \"surface\"}], \"table\": [{\"cells\": {\"fill\": {\"color\": \"#EBF0F8\"}, \"line\": {\"color\": \"white\"}}, \"header\": {\"fill\": {\"color\": \"#C8D4E3\"}, \"line\": {\"color\": \"white\"}}, \"type\": \"table\"}]}, \"layout\": {\"annotationdefaults\": {\"arrowcolor\": \"#2a3f5f\", \"arrowhead\": 0, \"arrowwidth\": 1}, \"coloraxis\": {\"colorbar\": {\"outlinewidth\": 0, \"ticks\": \"\"}}, \"colorscale\": {\"diverging\": [[0, \"#8e0152\"], [0.1, \"#c51b7d\"], [0.2, \"#de77ae\"], [0.3, \"#f1b6da\"], [0.4, \"#fde0ef\"], [0.5, \"#f7f7f7\"], [0.6, \"#e6f5d0\"], [0.7, \"#b8e186\"], [0.8, \"#7fbc41\"], [0.9, \"#4d9221\"], [1, \"#276419\"]], \"sequential\": [[0.0, \"#0d0887\"], [0.1111111111111111, \"#46039f\"], [0.2222222222222222, \"#7201a8\"], [0.3333333333333333, \"#9c179e\"], [0.4444444444444444, \"#bd3786\"], [0.5555555555555556, \"#d8576b\"], [0.6666666666666666, \"#ed7953\"], [0.7777777777777778, \"#fb9f3a\"], [0.8888888888888888, \"#fdca26\"], [1.0, \"#f0f921\"]], \"sequentialminus\": [[0.0, \"#0d0887\"], [0.1111111111111111, \"#46039f\"], [0.2222222222222222, \"#7201a8\"], [0.3333333333333333, \"#9c179e\"], [0.4444444444444444, \"#bd3786\"], [0.5555555555555556, \"#d8576b\"], [0.6666666666666666, \"#ed7953\"], [0.7777777777777778, \"#fb9f3a\"], [0.8888888888888888, \"#fdca26\"], [1.0, \"#f0f921\"]]}, \"colorway\": [\"#636efa\", \"#EF553B\", \"#00cc96\", \"#ab63fa\", \"#FFA15A\", \"#19d3f3\", \"#FF6692\", \"#B6E880\", \"#FF97FF\", \"#FECB52\"], \"font\": {\"color\": \"#2a3f5f\"}, \"geo\": {\"bgcolor\": \"white\", \"lakecolor\": \"white\", \"landcolor\": \"#E5ECF6\", \"showlakes\": true, \"showland\": true, \"subunitcolor\": \"white\"}, \"hoverlabel\": {\"align\": \"left\"}, \"hovermode\": \"closest\", \"mapbox\": {\"style\": \"light\"}, \"paper_bgcolor\": \"white\", \"plot_bgcolor\": \"#E5ECF6\", \"polar\": {\"angularaxis\": {\"gridcolor\": \"white\", \"linecolor\": \"white\", \"ticks\": \"\"}, \"bgcolor\": \"#E5ECF6\", \"radialaxis\": {\"gridcolor\": \"white\", \"linecolor\": \"white\", \"ticks\": \"\"}}, \"scene\": {\"xaxis\": {\"backgroundcolor\": \"#E5ECF6\", \"gridcolor\": \"white\", \"gridwidth\": 2, \"linecolor\": \"white\", \"showbackground\": true, \"ticks\": \"\", \"zerolinecolor\": \"white\"}, \"yaxis\": {\"backgroundcolor\": \"#E5ECF6\", \"gridcolor\": \"white\", \"gridwidth\": 2, \"linecolor\": \"white\", \"showbackground\": true, \"ticks\": \"\", \"zerolinecolor\": \"white\"}, \"zaxis\": {\"backgroundcolor\": \"#E5ECF6\", \"gridcolor\": \"white\", \"gridwidth\": 2, \"linecolor\": \"white\", \"showbackground\": true, \"ticks\": \"\", \"zerolinecolor\": \"white\"}}, \"shapedefaults\": {\"line\": {\"color\": \"#2a3f5f\"}}, \"ternary\": {\"aaxis\": {\"gridcolor\": \"white\", \"linecolor\": \"white\", \"ticks\": \"\"}, \"baxis\": {\"gridcolor\": \"white\", \"linecolor\": \"white\", \"ticks\": \"\"}, \"bgcolor\": \"#E5ECF6\", \"caxis\": {\"gridcolor\": \"white\", \"linecolor\": \"white\", \"ticks\": \"\"}}, \"title\": {\"x\": 0.05}, \"xaxis\": {\"automargin\": true, \"gridcolor\": \"white\", \"linecolor\": \"white\", \"ticks\": \"\", \"title\": {\"standoff\": 15}, \"zerolinecolor\": \"white\", \"zerolinewidth\": 2}, \"yaxis\": {\"automargin\": true, \"gridcolor\": \"white\", \"linecolor\": \"white\", \"ticks\": \"\", \"title\": {\"standoff\": 15}, \"zerolinecolor\": \"white\", \"zerolinewidth\": 2}}}, \"xaxis\": {\"title\": {\"text\": \"Mean Radius\"}}, \"yaxis\": {\"title\": {\"text\": \"Malignant\"}}},\n",
       "                        {\"responsive\": true}\n",
       "                    ).then(function(){\n",
       "                            \n",
       "var gd = document.getElementById('91682b9d-cf13-4b67-a3b0-d63c01e99f51');\n",
       "var x = new MutationObserver(function (mutations, observer) {{\n",
       "        var display = window.getComputedStyle(gd).display;\n",
       "        if (!display || display === 'none') {{\n",
       "            console.log([gd, 'removed!']);\n",
       "            Plotly.purge(gd);\n",
       "            observer.disconnect();\n",
       "        }}\n",
       "}});\n",
       "\n",
       "// Listen for the removal of the full notebook cells\n",
       "var notebookContainer = gd.closest('#notebook-container');\n",
       "if (notebookContainer) {{\n",
       "    x.observe(notebookContainer, {childList: true});\n",
       "}}\n",
       "\n",
       "// Listen for the clearing of the current output cell\n",
       "var outputEl = gd.closest('.output');\n",
       "if (outputEl) {{\n",
       "    x.observe(outputEl, {childList: true});\n",
       "}}\n",
       "\n",
       "                        })\n",
       "                };\n",
       "                });\n",
       "            </script>\n",
       "        </div>"
      ]
     },
     "metadata": {},
     "output_type": "display_data"
    }
   ],
   "source": [
    "mal_points = go.Scatter(name=\"Classified as Malignant\", \n",
    "                        x=X[is_mal_hat].flatten(), y = jitter(Y[is_mal_hat]), \n",
    "                        mode=\"markers\", marker=dict(opacity=0.5, color=\"red\"))\n",
    "ben_points = go.Scatter(name=\"Classified as Benign\", \n",
    "                        x=X[~is_mal_hat].flatten(), y = jitter(Y[~is_mal_hat]),\n",
    "                        mode=\"markers\", marker=dict(opacity=0.5, color=\"blue\"))\n",
    "\n",
    "dec_boundary = (0.5 - lin_reg.intercept_)/lin_reg.coef_[0]\n",
    "dec_line = go.Scatter(name=\"Least Squares Decision Boundary\", \n",
    "                      x = [dec_boundary,dec_boundary], y=[-0.5,1.5], mode=\"lines\",\n",
    "                     line=dict(color=\"black\", dash=\"dot\"))\n",
    "go.Figure([mal_points, ben_points, model_line,dec_line], layout=layout)"
   ]
  },
  {
   "cell_type": "markdown",
   "metadata": {},
   "source": [
    "### Computing the `ZeroOneLoss`\n",
    "\n",
    "The zero-one loss is so commonly used that there is a built-in function for it in scikit-learn.  Here we compute the zero-one-loss for our data."
   ]
  },
  {
   "cell_type": "code",
   "execution_count": 21,
   "metadata": {
    "ExecuteTime": {
     "end_time": "2018-04-02T16:07:18.067202Z",
     "start_time": "2018-04-02T16:07:18.061723Z"
    }
   },
   "outputs": [
    {
     "name": "stdout",
     "output_type": "stream",
     "text": [
      "Training Fraction incorrect: 0.134765625\n"
     ]
    }
   ],
   "source": [
    "from sklearn.metrics import zero_one_loss\n",
    "\n",
    "print(\"Training Fraction incorrect:\", \n",
    "      zero_one_loss(Y, is_mal_hat))"
   ]
  },
  {
   "cell_type": "markdown",
   "metadata": {},
   "source": [
    "**Questions** \n",
    "\n",
    "1. Are we happy with this error level?\n",
    "1. What error would we get if we just guessed the label?\n"
   ]
  },
  {
   "cell_type": "markdown",
   "metadata": {},
   "source": [
    "## Baselines for Comparison\n",
    "\n",
    "In any modeling task, when discussing the error it often helpful to have a baseline for comparison.  For example, in the earlier regression lectures, a reasonable baseline for comparison would be the constant model that just predicts the average value of $Y$.  \n",
    "\n",
    "For classification tasks, a reasonable baseline would be to predict the majority class. "
   ]
  },
  {
   "cell_type": "code",
   "execution_count": 22,
   "metadata": {
    "ExecuteTime": {
     "end_time": "2018-04-02T16:07:18.072065Z",
     "start_time": "2018-04-02T16:07:18.069177Z"
    }
   },
   "outputs": [
    {
     "name": "stdout",
     "output_type": "stream",
     "text": [
      "Fraction of Malignant Samples: 0.380859375\n"
     ]
    }
   ],
   "source": [
    "print(\"Fraction of Malignant Samples:\", Y.mean())"
   ]
  },
  {
   "cell_type": "markdown",
   "metadata": {},
   "source": [
    "Therefore if we guess the majority class **benign** we would get what accuracy?"
   ]
  },
  {
   "cell_type": "code",
   "execution_count": 23,
   "metadata": {
    "ExecuteTime": {
     "end_time": "2018-04-02T16:07:18.078040Z",
     "start_time": "2018-04-02T16:07:18.074158Z"
    }
   },
   "outputs": [
    {
     "name": "stdout",
     "output_type": "stream",
     "text": [
      "Guess Majority: 0.380859375\n"
     ]
    }
   ],
   "source": [
    "# You can figure this out from the above number\n",
    "print(\"Guess Majority:\",  zero_one_loss(Y, np.zeros(len(Y))))"
   ]
  },
  {
   "cell_type": "markdown",
   "metadata": {},
   "source": [
    "Not surprisingly, we get an error that is identical to the fraction of example in the other class (or classes)."
   ]
  },
  {
   "cell_type": "markdown",
   "metadata": {},
   "source": [
    "This is standard example of a common problem in classification (and perhaps modern society): **class imbalance**."
   ]
  },
  {
   "cell_type": "markdown",
   "metadata": {},
   "source": [
    "## Class Imbalance\n",
    "\n",
    "\n",
    "Class imbalance is when a disproportionate fraction of the samples are in one class (in this case benign).  \n",
    "In extreme cases (e.g., fraud detection) only tiny fraction of the training data may contain examples in particular class.  In these settings we can achieve very high-accuracies by always predicting the frequent class without learning a good classifier for the rare classes. \n"
   ]
  },
  {
   "cell_type": "markdown",
   "metadata": {},
   "source": [
    "\n",
    "\n",
    "## Addressing Class Imbalance\n",
    "\n",
    "There are many techniques for managing class imbalance here are a few:\n",
    "\n",
    "1. Re-sample data to reduce or eliminate the class imbalance.\n",
    "2. Try learning algorithm that are a little more robust to class imbalance (e.g., decisions trees).\n",
    "3. Adjust the loss function to put a larger penalty on the smaller class.\n",
    "\n",
    "In this example the class imbalance is not that extreme so we will continue without re-sampling.\n",
    "\n"
   ]
  },
  {
   "cell_type": "markdown",
   "metadata": {},
   "source": [
    "---\n",
    "<br/><br/><br/><br/><br/>\n",
    "\n",
    "\n",
    "## Predicting a Probability\n",
    "\n",
    "\n",
    "Is the linear model predicting the \"probability\" of a tumor being malignant? Not really.  Probabilities are constrained between 0 and 1.   How could we learn a model that captures this probabilistic interpretation?"
   ]
  },
  {
   "cell_type": "code",
   "execution_count": 24,
   "metadata": {},
   "outputs": [
    {
     "data": {
      "text/html": [
       "\n",
       "        <iframe\n",
       "            width=\"400\"\n",
       "            height=\"300\"\n",
       "            src=\"https://www.youtube.com/embed/ComingSoon\"\n",
       "            frameborder=\"0\"\n",
       "            allowfullscreen\n",
       "        ></iframe>\n",
       "        "
      ],
      "text/plain": [
       "<IPython.lib.display.YouTubeVideo at 0x7fa5c0fa3ed0>"
      ]
     },
     "execution_count": 24,
     "metadata": {},
     "output_type": "execute_result"
    }
   ],
   "source": [
    "from IPython.display import YouTubeVideo\n",
    "YouTubeVideo(\"ComingSoon\")"
   ]
  },
  {
   "cell_type": "markdown",
   "metadata": {},
   "source": [
    "\n",
    "\n",
    "### Constraining the Line \n",
    "\n",
    "At the very least our model should probably predict a number between zero and one.  This would at least be closer to being a probability.  We could try to constrain the model:\n",
    "\n",
    "$$ \\large\n",
    "p_i = \\min\\left(\\max \\left( x^T \\theta , 0 \\right), 1\\right)\n",
    "$$\n",
    "\n",
    "this would look like:"
   ]
  },
  {
   "cell_type": "code",
   "execution_count": 25,
   "metadata": {
    "ExecuteTime": {
     "end_time": "2018-04-02T16:07:18.131948Z",
     "start_time": "2018-04-02T16:07:18.128385Z"
    }
   },
   "outputs": [],
   "source": [
    "def bound01(z):\n",
    "    u = np.where(z > 1, 1, z)\n",
    "    return np.where(u < 0, 0, u)"
   ]
  },
  {
   "cell_type": "code",
   "execution_count": 26,
   "metadata": {
    "ExecuteTime": {
     "end_time": "2018-04-02T16:07:18.155130Z",
     "start_time": "2018-04-02T16:07:18.134002Z"
    }
   },
   "outputs": [
    {
     "data": {
      "application/vnd.plotly.v1+json": {
       "config": {
        "linkText": "Export to plot.ly",
        "plotlyServerURL": "https://plot.ly",
        "showLink": false
       },
       "data": [
        {
         "marker": {
          "color": "red",
          "opacity": 0.5
         },
         "mode": "markers",
         "name": "Classified as Malignant",
         "type": "scatter",
         "x": [
          25.22,
          19.69,
          21.56,
          15.78,
          20.18,
          15.78,
          16.46,
          16.16,
          20.94,
          17.93,
          17.6,
          20.13,
          17.27,
          15.7,
          18.05,
          17.99,
          23.09,
          16.07,
          20.73,
          21.09,
          19.89,
          21.1,
          19.27,
          17.99,
          19.81,
          17.75,
          20.58,
          22.27,
          19.4,
          17.35,
          16.11,
          18.49,
          15.46,
          19.21,
          18.81,
          17.14,
          19.07,
          19.16,
          19.8,
          16.65,
          16.13,
          21.75,
          27.22,
          21.16,
          20.16,
          18.65,
          15.61,
          17.06,
          16.84,
          20.48,
          17.47,
          20.09,
          17.95,
          16.69,
          16.35,
          16.5,
          17.3,
          20.59,
          16.27,
          17.29,
          18.03,
          19.18,
          25.73,
          24.63,
          17.46,
          19.44,
          20.47,
          20.18,
          24.25,
          23.29,
          20.34,
          16.17,
          20.44,
          18.82,
          21.71,
          15.75,
          18.22,
          19.53,
          19.79,
          19.59,
          20.64,
          17.08,
          20.51,
          23.27,
          18.22,
          18.08,
          15.66,
          18.01,
          19,
          17.91,
          15.71,
          16.24,
          18.46,
          18.31,
          19.17,
          16.74,
          20.26,
          15.75,
          16.25,
          15.46,
          15.49,
          19.4,
          19.45,
          20.29,
          19.55,
          17.42,
          16.14,
          17.02,
          15.5,
          18.45,
          18.61,
          17.05,
          20.31,
          19.59,
          18.31,
          19.53,
          17.68,
          18.77,
          23.21,
          17.01,
          28.11,
          27.42,
          16.6,
          17.54,
          19.19,
          15.53,
          19.55,
          20.57,
          16.13,
          16.3,
          20.2,
          23.51,
          15.85,
          20.92,
          15.73,
          19.73,
          17.85,
          19.68,
          21.37,
          19.02,
          16.03,
          18.66
         ],
         "y": [
          0.9573940961999341,
          1.0329193053908396,
          0.9736398668643405,
          0.9793608628629991,
          0.9904487523088727,
          1.0068524781234918,
          1.0424972964554602,
          0.9867502046109105,
          0.9602470044934768,
          0.9850676154814608,
          1.005588701192757,
          1.0276901044349835,
          0.9794519065421421,
          0.9707306692088584,
          1.0042213208532313,
          0.9856737732402137,
          0.9620111977794565,
          0.9627385974920728,
          0.9583452569018427,
          1.0233868369534105,
          0.9572368884946776,
          0.9944558664192196,
          1.0189343704119478,
          0.9512176334654494,
          0.9797028264307306,
          1.0092621920060922,
          1.004303882188768,
          0.9867258967596095,
          0.9507677803825196,
          0.9979662433251515,
          1.0030262566554706,
          1.0390622265037912,
          0.9916189299105311,
          1.0178357765454018,
          0.9713128888370999,
          0.9620391561543444,
          1.0245904608673113,
          1.0302311280400998,
          0.9961777542941024,
          0.9985779845839193,
          0.9992860973022688,
          1.0168006326262693,
          1.0071562412052748,
          0.9992943790812987,
          1.0415824181517093,
          1.0146339325838611,
          1.0430615403762107,
          1.002890943217976,
          0.003030209497766556,
          0.9733967764640099,
          0.9806239408811628,
          1.0405012458770582,
          0.9943058919044621,
          0.9984784824060056,
          1.0389805182721152,
          -0.025430754252504184,
          0.955375563241396,
          0.9600638650715618,
          0.9596886553175048,
          1.0132329659474815,
          0.9799758861422332,
          1.0458521902384845,
          0.9785476295244624,
          1.0467130013887525,
          0.9888831879915545,
          1.0200676787752316,
          0.9786253536406577,
          1.0377606721998949,
          0.9799067368744545,
          0.9693908845767603,
          1.0242248558507654,
          -0.012943049131381425,
          1.0211124270328185,
          1.0248000607592302,
          1.0181703546555623,
          0.9555636439149722,
          1.0274545470974163,
          0.9707939567959356,
          1.0423129058099683,
          0.9837939267752056,
          0.9721070284338247,
          0.9867991448856492,
          0.9774952112751787,
          0.9770066708978422,
          0.9575305795666551,
          0.961760774307316,
          0.9973975701103379,
          1.0350033522996203,
          0.971867640237166,
          1.025107159161914,
          0.0196996676688998,
          0.9540228131489603,
          1.0270822104312167,
          0.9683823614700071,
          0.9911833271922479,
          1.035384200486925,
          0.9584864578998318,
          0.9897724461162607,
          1.0162652555696294,
          1.029380484751473,
          0.9821865978956237,
          0.9614043382107809,
          0.9599495688396213,
          0.9596259433118042,
          1.0477888971986404,
          0.9581026816505256,
          -0.007155147617485216,
          1.0384030895168492,
          1.0010762673568785,
          1.0081041389785412,
          1.0354431517953673,
          0.9777070652200246,
          0.9636331808287275,
          0.9695699994408196,
          1.0418907233934063,
          0.9669372866464652,
          1.0316691246140706,
          1.0289732068224644,
          0.9565821265338397,
          0.9564165113574563,
          0.9988723678376838,
          1.0166348198140762,
          0.9926175927615493,
          1.020842750229527,
          0.9532652029301332,
          1.0085743147188833,
          1.0437006380247482,
          1.0119176994208174,
          0.9571771721562972,
          0.00646566515333772,
          0.9945753052791941,
          1.0167589081108939,
          0.9973002070072559,
          1.0283857827435765,
          -0.02798578057610246,
          1.0290408115902083,
          0.015932565691638687,
          0.953853903120953,
          0.9674597878135018,
          1.0317132292307385,
          0.9958226517382973,
          1.0156800995159507
         ]
        },
        {
         "marker": {
          "color": "blue",
          "opacity": 0.5
         },
         "mode": "markers",
         "name": "Classified as Benign",
         "type": "scatter",
         "x": [
          13.48,
          11.29,
          12.86,
          14.4,
          12.3,
          12.62,
          11.81,
          12.98,
          13.77,
          14.06,
          7.729,
          13.47,
          14.03,
          13.96,
          10.75,
          11.27,
          11.25,
          14.48,
          15.32,
          12.46,
          12.05,
          12.86,
          12,
          13.46,
          15.04,
          11.2,
          11.22,
          9.777,
          13.81,
          11.15,
          9.738,
          10.82,
          11.75,
          12.34,
          14.44,
          14.64,
          11.52,
          14.22,
          9.029,
          9.173,
          10.65,
          10.17,
          14.54,
          14.41,
          11.43,
          12.25,
          12.36,
          14.87,
          9.667,
          13.4,
          15.22,
          14.26,
          11.7,
          15.27,
          15.34,
          13.51,
          10.48,
          14.64,
          14.45,
          11.04,
          10.26,
          12.89,
          13.4,
          12.96,
          15.28,
          13.78,
          15.1,
          12.34,
          8.196,
          13.45,
          11.32,
          7.76,
          14.86,
          11.13,
          9.72,
          9.606,
          10.08,
          12.56,
          15.13,
          10.48,
          12.78,
          14.74,
          9.904,
          13.82,
          12.89,
          13.74,
          13.37,
          14.69,
          12.91,
          13.62,
          15,
          11.8,
          14.53,
          13.71,
          11.36,
          8.726,
          13.71,
          14.47,
          13.54,
          12.85,
          12.47,
          12.46,
          10.86,
          11.37,
          13.49,
          9.567,
          11.06,
          14.61,
          7.691,
          13.69,
          11.46,
          12.06,
          13.15,
          13.61,
          10.26,
          9.333,
          11.06,
          10.66,
          11.84,
          10.51,
          12.67,
          11.08,
          11.04,
          12.43,
          14.71,
          14.87,
          12.87,
          9.465,
          13.16,
          10.91,
          12.25,
          12.75,
          14.58,
          12.27,
          12.16,
          14.27,
          15.06,
          12.99,
          13.27,
          13.87,
          13.87,
          13.59,
          12.45,
          8.95,
          13.65,
          11.47,
          14.42,
          14.68,
          12.05,
          9.683,
          10.97,
          11.42,
          12.54,
          14.34,
          14.58,
          11.76,
          12.83,
          13.03,
          13.21,
          8.671,
          11.87,
          12.76,
          14.86,
          12.65,
          11.31,
          11.94,
          14.96,
          11.6,
          12.34,
          9.731,
          11.27,
          14.02,
          10.51,
          9.876,
          11.57,
          12.31,
          13.66,
          10.32,
          12.21,
          12.21,
          12.87,
          12.18,
          12.04,
          10.05,
          14.25,
          11.28,
          8.618,
          12.63,
          12.54,
          11.76,
          13,
          10.6,
          11.62,
          14.99,
          11.89,
          9,
          9.042,
          11.8,
          13.9,
          14.95,
          13.46,
          14.5,
          12.18,
          12.9,
          9.787,
          12.2,
          11.85,
          11.41,
          13.2,
          12.45,
          11.95,
          13.85,
          15.19,
          11.06,
          15.05,
          11.14,
          12.94,
          13.24,
          13.05,
          13.85,
          13.3,
          12.72,
          12,
          14.26,
          12.81,
          9.405,
          10.94,
          8.597,
          8.219,
          10.57,
          13.2,
          12.39,
          11.71,
          14.04,
          11.22,
          11.93,
          11.41,
          12.72,
          10.57,
          13.27,
          9.397,
          14.76,
          11.51,
          12.58,
          9.847,
          9.676,
          12.36,
          11.63,
          14.8,
          13.17,
          14.97,
          14.78,
          11.3,
          14.92,
          10.9,
          15.3,
          12.32,
          11.43,
          11.68,
          11.16,
          14.53,
          13.56,
          11.34,
          13.64,
          13.64,
          14.59,
          9.668,
          13.01,
          10.95,
          8.571,
          9.876,
          8.878,
          12.8,
          12.22,
          10.96,
          14.9,
          13.61,
          10.44,
          12.88,
          9.436,
          13.43,
          11.6,
          12.95,
          13.86,
          8.598,
          13.17,
          13.59,
          12.03,
          12.23,
          11.49,
          13.66,
          11.26,
          12.7,
          8.734,
          14.95,
          14.25,
          12.77,
          15.1,
          12.77,
          13,
          14.11,
          11.71,
          12.68,
          13.73,
          13.44,
          11.08,
          11.71,
          12.46,
          11.89,
          12.27,
          13.85,
          11.94,
          11.26,
          13.77,
          11.69,
          11.5,
          14.05,
          13.38,
          10.49,
          11.66,
          10.71,
          13.7,
          11.99,
          13.28,
          10.2,
          11.93,
          14.22,
          14.2,
          13.05,
          13.11,
          12.07,
          11.45,
          15.12,
          10.8,
          12.62,
          15.37,
          10.26,
          12.42,
          12.49,
          13.88,
          9.742,
          10.8,
          12.88,
          9.268,
          13.75,
          12.3,
          12.83,
          11.74,
          13.05,
          10.88,
          9.504,
          11.54,
          9.755,
          11.75,
          11.33,
          12.77,
          14.6,
          14.99,
          13.5,
          12.19,
          14.42,
          13,
          14.19,
          13.14,
          13.08,
          8.888,
          11.64,
          14.29,
          13.98,
          12.18
         ],
         "y": [
          1.039843380484294,
          0.03341229482365014,
          -0.04828214715200634,
          -0.007267532336260152,
          0.04606763071784363,
          0.021528710981036453,
          -0.026572374998196716,
          -0.03899904873114457,
          0.997382731354272,
          -0.011342453765297487,
          0.04039095563573676,
          0.01631846160014104,
          0.016469049946017625,
          0.9671533834964943,
          -0.04536805085931668,
          0.0485978900460788,
          0.013474205953820498,
          1.027540765938256,
          1.0131180965961928,
          0.9779908377578639,
          0.03746022784879682,
          0.03541636742190454,
          -0.043364151239264716,
          -0.028073557788982198,
          -0.0002996860527308548,
          -0.04304734359446464,
          0.029287595559867263,
          0.007353605492464575,
          0.9801292622431366,
          -0.009114024228112458,
          -0.045735295117492185,
          0.03427835151092341,
          -0.029223159662209355,
          -0.019589055512818056,
          -0.01158894253904029,
          0.0032711663639370947,
          0.0016498944084155504,
          -0.003453885576253292,
          0.032433989290296714,
          -0.030326741670719894,
          -0.01169478963567585,
          0.003346225611227313,
          1.0142271872240036,
          -0.016057341021277864,
          -0.017746318162831433,
          -0.02602028108917003,
          0.0005989940000042035,
          1.0133068080206482,
          0.0016083629695627377,
          -0.014371617323714773,
          1.0417733718229119,
          0.02356657958402908,
          0.023011865069503576,
          0.008766344116050304,
          1.0294732846360841,
          0.02670226254140315,
          0.04941357426444122,
          -0.006465131611535016,
          1.0325372648786004,
          0.003988834705110543,
          0.03695790495816094,
          -0.04592118866390367,
          1.0403611069117695,
          0.047767193044216325,
          1.0370450595455443,
          0.04217651227800023,
          0.9724708487701563,
          0.02616655472637941,
          -0.010465044232962198,
          -0.01199879300928279,
          -0.030107040640045137,
          -0.004965924342516845,
          0.0479608509363917,
          -0.005160070199387003,
          -0.0016123342081062475,
          -0.011162971423490174,
          0.02816816310241914,
          -0.02063666887113086,
          0.9900518294919682,
          -0.0343163368482433,
          0.02743597653759615,
          0.018409044831399102,
          -0.006409018031792432,
          1.0141444745814838,
          -0.0008796903300571715,
          -0.03360484648766221,
          -0.02288497089617635,
          -0.01296628095875102,
          0.042513315564632545,
          -0.011330983339807997,
          -0.037008256017264,
          0.00951158448320892,
          0.036884050847526814,
          -0.021094045979810495,
          0.01729236706684341,
          -0.014760716290050269,
          1.0310702347137342,
          -0.023286445468293462,
          -0.034759733129191055,
          -0.0341876466923605,
          0.01009987075934772,
          -0.018029232799698813,
          0.009434863374779626,
          0.02482141263032059,
          -0.004051054073987245,
          0.0055455171633008934,
          0.04669638857309874,
          0.04352050227060793,
          -0.01491009408490336,
          -0.04765962467106786,
          0.04355609861905932,
          -0.04207074679003451,
          -0.04359335455783023,
          1.045607662348755,
          -0.01364140635482241,
          0.04463954966404435,
          0.014402114419640497,
          -0.009245348794101958,
          1.0108709824897248,
          -0.03183455961933077,
          0.0008507232426150715,
          0.015222787379926037,
          -0.04346550996602422,
          -0.02506814369926709,
          0.9851336124796357,
          -0.025430285679339693,
          0.03083647303917833,
          0.03646020915749068,
          0.0040631764998600856,
          -0.03022009243177929,
          0.02429218796980756,
          0.012577123722304948,
          0.03003633320946024,
          -0.02654814506180513,
          0.04537379266699752,
          0.9971018516573591,
          0.9610768913211076,
          0.0041299714529685755,
          -0.019518546440656794,
          0.04253595871882143,
          -0.016297458716794555,
          -0.03526388830298837,
          0.9765520832786505,
          0.04823638577750926,
          -0.01066195334453305,
          0.029936798304505505,
          -0.007031684812163375,
          0.9970401061946661,
          0.018850096401249336,
          0.00056515901023102,
          -0.019013223029432137,
          1.027618168718875,
          -0.04144807627721839,
          0.04323016401972772,
          0.9961862133616666,
          2.7314887614815486e-05,
          1.0465157294037852,
          0.041055815721430564,
          0.00945971496891175,
          -0.02952211044114609,
          -0.019750982170007616,
          -0.02832045648298306,
          1.0439785347859487,
          -0.00846294255230573,
          0.03674371080290416,
          -0.048640038730679326,
          0.039512933479939116,
          0.003934724707394033,
          1.0325285492942446,
          -0.04628630470291672,
          0.00782831850319423,
          -0.007101380195560246,
          -0.03192355727544008,
          -0.03209853201393856,
          0.03718598444840128,
          0.03326809365375143,
          -0.004133394564641547,
          -0.006257996600782557,
          0.04405608831893447,
          0.03731829457154226,
          -0.0130001468788871,
          0.02250008392998279,
          -0.02252165409791265,
          0.01363823461924829,
          1.0315868624337066,
          0.03717848405107389,
          0.02992508713031755,
          0.03888701983817282,
          -0.018571848101970816,
          1.0071098642016403,
          0.02793017157925716,
          8.441597322213223e-05,
          0.022787640098356682,
          1.0170712203410577,
          0.03499198549032499,
          -0.029608330168570465,
          -0.04554121668149717,
          0.9763163504585441,
          0.019241166188067454,
          -0.011210839586479823,
          -0.03641839901268379,
          -0.03953920820538825,
          -0.010756675797973222,
          -0.03142361147540372,
          0.03350696504604292,
          -0.03188251181737585,
          -0.048184750028642254,
          0.010232681720229155,
          -0.04897502640713454,
          -0.0123790548498963,
          -0.018107407678941555,
          0.005662596230829153,
          0.04895330916613842,
          0.03517137022825495,
          0.9931095358752016,
          0.034801051906110686,
          0.037842720642553104,
          0.04338549761931114,
          0.03138255551546401,
          -0.036561971033990115,
          0.017913912413064906,
          -0.04187876436138778,
          0.04490720908331167,
          -0.026988839561970825,
          -0.0018977787789635422,
          -0.025194321173001546,
          -0.0441107151734944,
          0.03934955161814575,
          -0.038185823118798805,
          0.015394686802572624,
          0.027552527964526022,
          0.04768924321386463,
          -0.0028286036787476126,
          -0.01668455378651651,
          -0.044065929785074266,
          0.03003707238211477,
          0.03304146444435767,
          0.0195136796047424,
          -0.007086048670235226,
          -0.030605829052291846,
          0.028392197708487638,
          0.040044102099783305,
          0.009603305591466202,
          -0.005959863318311831,
          0.0253995034381896,
          0.02695417305345052,
          0.008932962139446353,
          -0.03089775070702712,
          0.009316010148045173,
          1.040496778872294,
          0.04396457661787956,
          0.9945120422154821,
          0.007373043021263528,
          0.03242738017038009,
          -0.016308048338352546,
          1.036036810708059,
          0.01754985098191185,
          0.04006496184509811,
          -0.007193316851662711,
          -0.01417501973249085,
          -0.04001300919805783,
          0.045558085125042266,
          0.02162072613444635,
          0.041479898055661685,
          -0.032126574479663994,
          -0.010005580328873977,
          -0.014900577127785697,
          0.005210594667792147,
          0.955748301590994,
          0.02273198528405479,
          -0.014616065936704704,
          0.008579937848971333,
          0.008120540943891238,
          0.008240877677364887,
          -0.04196488216199831,
          1.0471582172933112,
          0.9879899059145594,
          0.029974352238677712,
          0.02951630134783026,
          0.02146966053797103,
          0.9766484772525139,
          -0.04524111303545311,
          -0.023821408838864844,
          0.9675719320258063,
          -0.01186920343580504,
          0.9510034930708959,
          -0.04633427345507482,
          -0.00447284505542421,
          -0.02629267625459779,
          -0.02832687224162981,
          -0.045728410233110764,
          -0.030167435441200752,
          0.004112772703298219,
          0.010581950048700037,
          0.9614633977533671,
          1.0129016224773926,
          1.0186534641669998,
          0.03553034730519426,
          -0.0033417695396113153,
          0.9748116488803051,
          -0.027574571200130626,
          0.01670234079137825,
          0.9576935849008255,
          1.029130305831367,
          1.0251297290147718,
          0.9888851898336168,
          0.008720592740458319,
          0.0253614976805928,
          -0.032131234376904724,
          -0.022846895611769502,
          0.019675609578590852,
          -0.025090270955723137,
          0.024777466020681704,
          -0.005182004325809654,
          -0.047776259978964876,
          0.027052017256440283,
          0.04642470762602009,
          -0.0314846807603955,
          -0.04375959088329976,
          -0.036256871401744155,
          0.015900059730715732,
          0.014914086963436712,
          -0.010235466775768955,
          0.9855228810238885,
          0.04217419392170012,
          0.021300998376569527,
          1.040054273042947,
          -0.013850225522886964,
          -0.020174867826387822,
          1.0068095288355219,
          -0.007732249694029039,
          0.037961042980737936,
          0.9996675469143226,
          -0.016618703148728056,
          -0.032517287439150874,
          0.9743727692648172,
          0.024144130057078134,
          0.004491658831965742,
          -0.023128601071143607,
          0.0328831200113715,
          -0.03291785165220833,
          0.02946957150108949,
          0.003632744948955449,
          0.019770268867592644,
          0.049454506751859986,
          0.020327283785596784,
          0.040290330305273556,
          -0.003867179171400295,
          -0.02364631040075508,
          -0.04827867840202804,
          -0.02884324505884389,
          -0.0306353052855312,
          -0.04593355149330545,
          -0.03914126847571212,
          -0.02731070257224181,
          0.04710855040735899,
          1.035319671139037,
          0.040636562681509544,
          -0.02545799033561842,
          -0.04235593776566935,
          0.9570546286455994,
          0.015739649196834612,
          1.0290293386351694,
          -0.04915051800917282,
          -0.026781738824781444,
          -0.04089096049920246,
          -0.03401085008217755,
          -0.04730245654087918,
          1.0153222522806593,
          0.002383340222981589
         ]
        },
        {
         "line": {
          "color": "orange"
         },
         "mode": "lines",
         "name": "Least Squares",
         "type": "scatter",
         "x": [
          7.691,
          8.107714285714286,
          8.52442857142857,
          8.941142857142857,
          9.357857142857142,
          9.774571428571429,
          10.191285714285714,
          10.608,
          11.024714285714285,
          11.44142857142857,
          11.858142857142857,
          12.274857142857144,
          12.691571428571429,
          13.108285714285714,
          13.524999999999999,
          13.941714285714285,
          14.358428571428572,
          14.775142857142857,
          15.191857142857142,
          15.608571428571429,
          16.025285714285715,
          16.442,
          16.858714285714285,
          17.27542857142857,
          17.692142857142855,
          18.108857142857143,
          18.52557142857143,
          18.942285714285713,
          19.358999999999998,
          19.775714285714287,
          20.19242857142857,
          20.609142857142857,
          21.02585714285714,
          21.442571428571426,
          21.859285714285715,
          22.276,
          22.692714285714285,
          23.10942857142857,
          23.526142857142858,
          23.942857142857143,
          24.359571428571428,
          24.776285714285713,
          25.192999999999998,
          25.609714285714283,
          26.02642857142857,
          26.443142857142856,
          26.85985714285714,
          27.276571428571426,
          27.69328571428571,
          28.11
         ],
         "y": [
          -0.2592505255840679,
          -0.21809425706067354,
          -0.17693798853727927,
          -0.13578172001388478,
          -0.09462545149049051,
          -0.05346918296709602,
          -0.01231291444370175,
          0.02884335407969263,
          0.06999962260308701,
          0.11115589112648117,
          0.15231215964987577,
          0.19346842817327015,
          0.23462469669666453,
          0.2757809652200587,
          0.31693723374345306,
          0.35809350226684744,
          0.39924977079024204,
          0.4404060393136362,
          0.4815623078370306,
          0.522718576360425,
          0.5638748448838196,
          0.6050311134072137,
          0.6461873819306081,
          0.6873436504540023,
          0.7284999189773966,
          0.7696561875007912,
          0.8108124560241856,
          0.8519687245475798,
          0.8931249930709741,
          0.9342812615943688,
          0.9754375301177631,
          1.0165937986411575,
          1.0577500671645517,
          1.0989063356879458,
          1.1400626042113404,
          1.1812188727347346,
          1.2223751412581292,
          1.2635314097815233,
          1.304687678304918,
          1.345843946828312,
          1.3870002153517067,
          1.4281564838751009,
          1.469312752398495,
          1.5104690209218896,
          1.5516252894452842,
          1.5927815579686784,
          1.6339378264920725,
          1.6750940950154671,
          1.7162503635388613,
          1.757406632062256
         ]
        },
        {
         "line": {
          "color": "green",
          "width": 8
         },
         "mode": "lines",
         "name": "Truncated Least Squares",
         "type": "scatter",
         "x": [
          7.691,
          8.107714285714286,
          8.52442857142857,
          8.941142857142857,
          9.357857142857142,
          9.774571428571429,
          10.191285714285714,
          10.608,
          11.024714285714285,
          11.44142857142857,
          11.858142857142857,
          12.274857142857144,
          12.691571428571429,
          13.108285714285714,
          13.524999999999999,
          13.941714285714285,
          14.358428571428572,
          14.775142857142857,
          15.191857142857142,
          15.608571428571429,
          16.025285714285715,
          16.442,
          16.858714285714285,
          17.27542857142857,
          17.692142857142855,
          18.108857142857143,
          18.52557142857143,
          18.942285714285713,
          19.358999999999998,
          19.775714285714287,
          20.19242857142857,
          20.609142857142857,
          21.02585714285714,
          21.442571428571426,
          21.859285714285715,
          22.276,
          22.692714285714285,
          23.10942857142857,
          23.526142857142858,
          23.942857142857143,
          24.359571428571428,
          24.776285714285713,
          25.192999999999998,
          25.609714285714283,
          26.02642857142857,
          26.443142857142856,
          26.85985714285714,
          27.276571428571426,
          27.69328571428571,
          28.11
         ],
         "y": [
          0,
          0,
          0,
          0,
          0,
          0,
          0,
          0.02884335407969263,
          0.06999962260308701,
          0.11115589112648117,
          0.15231215964987577,
          0.19346842817327015,
          0.23462469669666453,
          0.2757809652200587,
          0.31693723374345306,
          0.35809350226684744,
          0.39924977079024204,
          0.4404060393136362,
          0.4815623078370306,
          0.522718576360425,
          0.5638748448838196,
          0.6050311134072137,
          0.6461873819306081,
          0.6873436504540023,
          0.7284999189773966,
          0.7696561875007912,
          0.8108124560241856,
          0.8519687245475798,
          0.8931249930709741,
          0.9342812615943688,
          0.9754375301177631,
          1,
          1,
          1,
          1,
          1,
          1,
          1,
          1,
          1,
          1,
          1,
          1,
          1,
          1,
          1,
          1,
          1,
          1,
          1
         ]
        },
        {
         "line": {
          "color": "black",
          "dash": "dot"
         },
         "mode": "lines",
         "name": "Least Squares Decision Boundary",
         "type": "scatter",
         "x": [
          15.378541941930807,
          15.378541941930807
         ],
         "y": [
          -0.5,
          1.5
         ]
        }
       ],
       "layout": {
        "template": {
         "data": {
          "bar": [
           {
            "error_x": {
             "color": "#2a3f5f"
            },
            "error_y": {
             "color": "#2a3f5f"
            },
            "marker": {
             "line": {
              "color": "#E5ECF6",
              "width": 0.5
             }
            },
            "type": "bar"
           }
          ],
          "barpolar": [
           {
            "marker": {
             "line": {
              "color": "#E5ECF6",
              "width": 0.5
             }
            },
            "type": "barpolar"
           }
          ],
          "carpet": [
           {
            "aaxis": {
             "endlinecolor": "#2a3f5f",
             "gridcolor": "white",
             "linecolor": "white",
             "minorgridcolor": "white",
             "startlinecolor": "#2a3f5f"
            },
            "baxis": {
             "endlinecolor": "#2a3f5f",
             "gridcolor": "white",
             "linecolor": "white",
             "minorgridcolor": "white",
             "startlinecolor": "#2a3f5f"
            },
            "type": "carpet"
           }
          ],
          "choropleth": [
           {
            "colorbar": {
             "outlinewidth": 0,
             "ticks": ""
            },
            "type": "choropleth"
           }
          ],
          "contour": [
           {
            "colorbar": {
             "outlinewidth": 0,
             "ticks": ""
            },
            "colorscale": [
             [
              0,
              "#0d0887"
             ],
             [
              0.1111111111111111,
              "#46039f"
             ],
             [
              0.2222222222222222,
              "#7201a8"
             ],
             [
              0.3333333333333333,
              "#9c179e"
             ],
             [
              0.4444444444444444,
              "#bd3786"
             ],
             [
              0.5555555555555556,
              "#d8576b"
             ],
             [
              0.6666666666666666,
              "#ed7953"
             ],
             [
              0.7777777777777778,
              "#fb9f3a"
             ],
             [
              0.8888888888888888,
              "#fdca26"
             ],
             [
              1,
              "#f0f921"
             ]
            ],
            "type": "contour"
           }
          ],
          "contourcarpet": [
           {
            "colorbar": {
             "outlinewidth": 0,
             "ticks": ""
            },
            "type": "contourcarpet"
           }
          ],
          "heatmap": [
           {
            "colorbar": {
             "outlinewidth": 0,
             "ticks": ""
            },
            "colorscale": [
             [
              0,
              "#0d0887"
             ],
             [
              0.1111111111111111,
              "#46039f"
             ],
             [
              0.2222222222222222,
              "#7201a8"
             ],
             [
              0.3333333333333333,
              "#9c179e"
             ],
             [
              0.4444444444444444,
              "#bd3786"
             ],
             [
              0.5555555555555556,
              "#d8576b"
             ],
             [
              0.6666666666666666,
              "#ed7953"
             ],
             [
              0.7777777777777778,
              "#fb9f3a"
             ],
             [
              0.8888888888888888,
              "#fdca26"
             ],
             [
              1,
              "#f0f921"
             ]
            ],
            "type": "heatmap"
           }
          ],
          "heatmapgl": [
           {
            "colorbar": {
             "outlinewidth": 0,
             "ticks": ""
            },
            "colorscale": [
             [
              0,
              "#0d0887"
             ],
             [
              0.1111111111111111,
              "#46039f"
             ],
             [
              0.2222222222222222,
              "#7201a8"
             ],
             [
              0.3333333333333333,
              "#9c179e"
             ],
             [
              0.4444444444444444,
              "#bd3786"
             ],
             [
              0.5555555555555556,
              "#d8576b"
             ],
             [
              0.6666666666666666,
              "#ed7953"
             ],
             [
              0.7777777777777778,
              "#fb9f3a"
             ],
             [
              0.8888888888888888,
              "#fdca26"
             ],
             [
              1,
              "#f0f921"
             ]
            ],
            "type": "heatmapgl"
           }
          ],
          "histogram": [
           {
            "marker": {
             "colorbar": {
              "outlinewidth": 0,
              "ticks": ""
             }
            },
            "type": "histogram"
           }
          ],
          "histogram2d": [
           {
            "colorbar": {
             "outlinewidth": 0,
             "ticks": ""
            },
            "colorscale": [
             [
              0,
              "#0d0887"
             ],
             [
              0.1111111111111111,
              "#46039f"
             ],
             [
              0.2222222222222222,
              "#7201a8"
             ],
             [
              0.3333333333333333,
              "#9c179e"
             ],
             [
              0.4444444444444444,
              "#bd3786"
             ],
             [
              0.5555555555555556,
              "#d8576b"
             ],
             [
              0.6666666666666666,
              "#ed7953"
             ],
             [
              0.7777777777777778,
              "#fb9f3a"
             ],
             [
              0.8888888888888888,
              "#fdca26"
             ],
             [
              1,
              "#f0f921"
             ]
            ],
            "type": "histogram2d"
           }
          ],
          "histogram2dcontour": [
           {
            "colorbar": {
             "outlinewidth": 0,
             "ticks": ""
            },
            "colorscale": [
             [
              0,
              "#0d0887"
             ],
             [
              0.1111111111111111,
              "#46039f"
             ],
             [
              0.2222222222222222,
              "#7201a8"
             ],
             [
              0.3333333333333333,
              "#9c179e"
             ],
             [
              0.4444444444444444,
              "#bd3786"
             ],
             [
              0.5555555555555556,
              "#d8576b"
             ],
             [
              0.6666666666666666,
              "#ed7953"
             ],
             [
              0.7777777777777778,
              "#fb9f3a"
             ],
             [
              0.8888888888888888,
              "#fdca26"
             ],
             [
              1,
              "#f0f921"
             ]
            ],
            "type": "histogram2dcontour"
           }
          ],
          "mesh3d": [
           {
            "colorbar": {
             "outlinewidth": 0,
             "ticks": ""
            },
            "type": "mesh3d"
           }
          ],
          "parcoords": [
           {
            "line": {
             "colorbar": {
              "outlinewidth": 0,
              "ticks": ""
             }
            },
            "type": "parcoords"
           }
          ],
          "pie": [
           {
            "automargin": true,
            "type": "pie"
           }
          ],
          "scatter": [
           {
            "marker": {
             "colorbar": {
              "outlinewidth": 0,
              "ticks": ""
             }
            },
            "type": "scatter"
           }
          ],
          "scatter3d": [
           {
            "line": {
             "colorbar": {
              "outlinewidth": 0,
              "ticks": ""
             }
            },
            "marker": {
             "colorbar": {
              "outlinewidth": 0,
              "ticks": ""
             }
            },
            "type": "scatter3d"
           }
          ],
          "scattercarpet": [
           {
            "marker": {
             "colorbar": {
              "outlinewidth": 0,
              "ticks": ""
             }
            },
            "type": "scattercarpet"
           }
          ],
          "scattergeo": [
           {
            "marker": {
             "colorbar": {
              "outlinewidth": 0,
              "ticks": ""
             }
            },
            "type": "scattergeo"
           }
          ],
          "scattergl": [
           {
            "marker": {
             "colorbar": {
              "outlinewidth": 0,
              "ticks": ""
             }
            },
            "type": "scattergl"
           }
          ],
          "scattermapbox": [
           {
            "marker": {
             "colorbar": {
              "outlinewidth": 0,
              "ticks": ""
             }
            },
            "type": "scattermapbox"
           }
          ],
          "scatterpolar": [
           {
            "marker": {
             "colorbar": {
              "outlinewidth": 0,
              "ticks": ""
             }
            },
            "type": "scatterpolar"
           }
          ],
          "scatterpolargl": [
           {
            "marker": {
             "colorbar": {
              "outlinewidth": 0,
              "ticks": ""
             }
            },
            "type": "scatterpolargl"
           }
          ],
          "scatterternary": [
           {
            "marker": {
             "colorbar": {
              "outlinewidth": 0,
              "ticks": ""
             }
            },
            "type": "scatterternary"
           }
          ],
          "surface": [
           {
            "colorbar": {
             "outlinewidth": 0,
             "ticks": ""
            },
            "colorscale": [
             [
              0,
              "#0d0887"
             ],
             [
              0.1111111111111111,
              "#46039f"
             ],
             [
              0.2222222222222222,
              "#7201a8"
             ],
             [
              0.3333333333333333,
              "#9c179e"
             ],
             [
              0.4444444444444444,
              "#bd3786"
             ],
             [
              0.5555555555555556,
              "#d8576b"
             ],
             [
              0.6666666666666666,
              "#ed7953"
             ],
             [
              0.7777777777777778,
              "#fb9f3a"
             ],
             [
              0.8888888888888888,
              "#fdca26"
             ],
             [
              1,
              "#f0f921"
             ]
            ],
            "type": "surface"
           }
          ],
          "table": [
           {
            "cells": {
             "fill": {
              "color": "#EBF0F8"
             },
             "line": {
              "color": "white"
             }
            },
            "header": {
             "fill": {
              "color": "#C8D4E3"
             },
             "line": {
              "color": "white"
             }
            },
            "type": "table"
           }
          ]
         },
         "layout": {
          "annotationdefaults": {
           "arrowcolor": "#2a3f5f",
           "arrowhead": 0,
           "arrowwidth": 1
          },
          "coloraxis": {
           "colorbar": {
            "outlinewidth": 0,
            "ticks": ""
           }
          },
          "colorscale": {
           "diverging": [
            [
             0,
             "#8e0152"
            ],
            [
             0.1,
             "#c51b7d"
            ],
            [
             0.2,
             "#de77ae"
            ],
            [
             0.3,
             "#f1b6da"
            ],
            [
             0.4,
             "#fde0ef"
            ],
            [
             0.5,
             "#f7f7f7"
            ],
            [
             0.6,
             "#e6f5d0"
            ],
            [
             0.7,
             "#b8e186"
            ],
            [
             0.8,
             "#7fbc41"
            ],
            [
             0.9,
             "#4d9221"
            ],
            [
             1,
             "#276419"
            ]
           ],
           "sequential": [
            [
             0,
             "#0d0887"
            ],
            [
             0.1111111111111111,
             "#46039f"
            ],
            [
             0.2222222222222222,
             "#7201a8"
            ],
            [
             0.3333333333333333,
             "#9c179e"
            ],
            [
             0.4444444444444444,
             "#bd3786"
            ],
            [
             0.5555555555555556,
             "#d8576b"
            ],
            [
             0.6666666666666666,
             "#ed7953"
            ],
            [
             0.7777777777777778,
             "#fb9f3a"
            ],
            [
             0.8888888888888888,
             "#fdca26"
            ],
            [
             1,
             "#f0f921"
            ]
           ],
           "sequentialminus": [
            [
             0,
             "#0d0887"
            ],
            [
             0.1111111111111111,
             "#46039f"
            ],
            [
             0.2222222222222222,
             "#7201a8"
            ],
            [
             0.3333333333333333,
             "#9c179e"
            ],
            [
             0.4444444444444444,
             "#bd3786"
            ],
            [
             0.5555555555555556,
             "#d8576b"
            ],
            [
             0.6666666666666666,
             "#ed7953"
            ],
            [
             0.7777777777777778,
             "#fb9f3a"
            ],
            [
             0.8888888888888888,
             "#fdca26"
            ],
            [
             1,
             "#f0f921"
            ]
           ]
          },
          "colorway": [
           "#636efa",
           "#EF553B",
           "#00cc96",
           "#ab63fa",
           "#FFA15A",
           "#19d3f3",
           "#FF6692",
           "#B6E880",
           "#FF97FF",
           "#FECB52"
          ],
          "font": {
           "color": "#2a3f5f"
          },
          "geo": {
           "bgcolor": "white",
           "lakecolor": "white",
           "landcolor": "#E5ECF6",
           "showlakes": true,
           "showland": true,
           "subunitcolor": "white"
          },
          "hoverlabel": {
           "align": "left"
          },
          "hovermode": "closest",
          "mapbox": {
           "style": "light"
          },
          "paper_bgcolor": "white",
          "plot_bgcolor": "#E5ECF6",
          "polar": {
           "angularaxis": {
            "gridcolor": "white",
            "linecolor": "white",
            "ticks": ""
           },
           "bgcolor": "#E5ECF6",
           "radialaxis": {
            "gridcolor": "white",
            "linecolor": "white",
            "ticks": ""
           }
          },
          "scene": {
           "xaxis": {
            "backgroundcolor": "#E5ECF6",
            "gridcolor": "white",
            "gridwidth": 2,
            "linecolor": "white",
            "showbackground": true,
            "ticks": "",
            "zerolinecolor": "white"
           },
           "yaxis": {
            "backgroundcolor": "#E5ECF6",
            "gridcolor": "white",
            "gridwidth": 2,
            "linecolor": "white",
            "showbackground": true,
            "ticks": "",
            "zerolinecolor": "white"
           },
           "zaxis": {
            "backgroundcolor": "#E5ECF6",
            "gridcolor": "white",
            "gridwidth": 2,
            "linecolor": "white",
            "showbackground": true,
            "ticks": "",
            "zerolinecolor": "white"
           }
          },
          "shapedefaults": {
           "line": {
            "color": "#2a3f5f"
           }
          },
          "ternary": {
           "aaxis": {
            "gridcolor": "white",
            "linecolor": "white",
            "ticks": ""
           },
           "baxis": {
            "gridcolor": "white",
            "linecolor": "white",
            "ticks": ""
           },
           "bgcolor": "#E5ECF6",
           "caxis": {
            "gridcolor": "white",
            "linecolor": "white",
            "ticks": ""
           }
          },
          "title": {
           "x": 0.05
          },
          "xaxis": {
           "automargin": true,
           "gridcolor": "white",
           "linecolor": "white",
           "ticks": "",
           "title": {
            "standoff": 15
           },
           "zerolinecolor": "white",
           "zerolinewidth": 2
          },
          "yaxis": {
           "automargin": true,
           "gridcolor": "white",
           "linecolor": "white",
           "ticks": "",
           "title": {
            "standoff": 15
           },
           "zerolinecolor": "white",
           "zerolinewidth": 2
          }
         }
        }
       }
      },
      "text/html": [
       "<div>\n",
       "        \n",
       "        \n",
       "            <div id=\"fe137e8f-e0c1-49ad-ac2e-0b4f52ebd39b\" class=\"plotly-graph-div\" style=\"height:525px; width:100%;\"></div>\n",
       "            <script type=\"text/javascript\">\n",
       "                require([\"plotly\"], function(Plotly) {\n",
       "                    window.PLOTLYENV=window.PLOTLYENV || {};\n",
       "                    \n",
       "                if (document.getElementById(\"fe137e8f-e0c1-49ad-ac2e-0b4f52ebd39b\")) {\n",
       "                    Plotly.newPlot(\n",
       "                        'fe137e8f-e0c1-49ad-ac2e-0b4f52ebd39b',\n",
       "                        [{\"marker\": {\"color\": \"red\", \"opacity\": 0.5}, \"mode\": \"markers\", \"name\": \"Classified as Malignant\", \"type\": \"scatter\", \"x\": [25.22, 19.69, 21.56, 15.78, 20.18, 15.78, 16.46, 16.16, 20.94, 17.93, 17.6, 20.13, 17.27, 15.7, 18.05, 17.99, 23.09, 16.07, 20.73, 21.09, 19.89, 21.1, 19.27, 17.99, 19.81, 17.75, 20.58, 22.27, 19.4, 17.35, 16.11, 18.49, 15.46, 19.21, 18.81, 17.14, 19.07, 19.16, 19.8, 16.65, 16.13, 21.75, 27.22, 21.16, 20.16, 18.65, 15.61, 17.06, 16.84, 20.48, 17.47, 20.09, 17.95, 16.69, 16.35, 16.5, 17.3, 20.59, 16.27, 17.29, 18.03, 19.18, 25.73, 24.63, 17.46, 19.44, 20.47, 20.18, 24.25, 23.29, 20.34, 16.17, 20.44, 18.82, 21.71, 15.75, 18.22, 19.53, 19.79, 19.59, 20.64, 17.08, 20.51, 23.27, 18.22, 18.08, 15.66, 18.01, 19.0, 17.91, 15.71, 16.24, 18.46, 18.31, 19.17, 16.74, 20.26, 15.75, 16.25, 15.46, 15.49, 19.4, 19.45, 20.29, 19.55, 17.42, 16.14, 17.02, 15.5, 18.45, 18.61, 17.05, 20.31, 19.59, 18.31, 19.53, 17.68, 18.77, 23.21, 17.01, 28.11, 27.42, 16.6, 17.54, 19.19, 15.53, 19.55, 20.57, 16.13, 16.3, 20.2, 23.51, 15.85, 20.92, 15.73, 19.73, 17.85, 19.68, 21.37, 19.02, 16.03, 18.66], \"y\": [0.9573940961999341, 1.0329193053908396, 0.9736398668643405, 0.9793608628629991, 0.9904487523088727, 1.0068524781234918, 1.0424972964554602, 0.9867502046109105, 0.9602470044934768, 0.9850676154814608, 1.005588701192757, 1.0276901044349835, 0.9794519065421421, 0.9707306692088584, 1.0042213208532313, 0.9856737732402137, 0.9620111977794565, 0.9627385974920728, 0.9583452569018427, 1.0233868369534105, 0.9572368884946776, 0.9944558664192196, 1.0189343704119478, 0.9512176334654494, 0.9797028264307306, 1.0092621920060922, 1.004303882188768, 0.9867258967596095, 0.9507677803825196, 0.9979662433251515, 1.0030262566554706, 1.0390622265037912, 0.9916189299105311, 1.0178357765454018, 0.9713128888370999, 0.9620391561543444, 1.0245904608673113, 1.0302311280400998, 0.9961777542941024, 0.9985779845839193, 0.9992860973022688, 1.0168006326262693, 1.0071562412052748, 0.9992943790812987, 1.0415824181517093, 1.0146339325838611, 1.0430615403762107, 1.002890943217976, 0.003030209497766556, 0.9733967764640099, 0.9806239408811628, 1.0405012458770582, 0.9943058919044621, 0.9984784824060056, 1.0389805182721152, -0.025430754252504184, 0.955375563241396, 0.9600638650715618, 0.9596886553175048, 1.0132329659474815, 0.9799758861422332, 1.0458521902384845, 0.9785476295244624, 1.0467130013887525, 0.9888831879915545, 1.0200676787752316, 0.9786253536406577, 1.0377606721998949, 0.9799067368744545, 0.9693908845767603, 1.0242248558507654, -0.012943049131381425, 1.0211124270328185, 1.0248000607592302, 1.0181703546555623, 0.9555636439149722, 1.0274545470974163, 0.9707939567959356, 1.0423129058099683, 0.9837939267752056, 0.9721070284338247, 0.9867991448856492, 0.9774952112751787, 0.9770066708978422, 0.9575305795666551, 0.961760774307316, 0.9973975701103379, 1.0350033522996203, 0.971867640237166, 1.025107159161914, 0.0196996676688998, 0.9540228131489603, 1.0270822104312167, 0.9683823614700071, 0.9911833271922479, 1.035384200486925, 0.9584864578998318, 0.9897724461162607, 1.0162652555696294, 1.029380484751473, 0.9821865978956237, 0.9614043382107809, 0.9599495688396213, 0.9596259433118042, 1.0477888971986404, 0.9581026816505256, -0.007155147617485216, 1.0384030895168492, 1.0010762673568785, 1.0081041389785412, 1.0354431517953673, 0.9777070652200246, 0.9636331808287275, 0.9695699994408196, 1.0418907233934063, 0.9669372866464652, 1.0316691246140706, 1.0289732068224644, 0.9565821265338397, 0.9564165113574563, 0.9988723678376838, 1.0166348198140762, 0.9926175927615493, 1.020842750229527, 0.9532652029301332, 1.0085743147188833, 1.0437006380247482, 1.0119176994208174, 0.9571771721562972, 0.00646566515333772, 0.9945753052791941, 1.0167589081108939, 0.9973002070072559, 1.0283857827435765, -0.02798578057610246, 1.0290408115902083, 0.015932565691638687, 0.953853903120953, 0.9674597878135018, 1.0317132292307385, 0.9958226517382973, 1.0156800995159507]}, {\"marker\": {\"color\": \"blue\", \"opacity\": 0.5}, \"mode\": \"markers\", \"name\": \"Classified as Benign\", \"type\": \"scatter\", \"x\": [13.48, 11.29, 12.86, 14.4, 12.3, 12.62, 11.81, 12.98, 13.77, 14.06, 7.729, 13.47, 14.03, 13.96, 10.75, 11.27, 11.25, 14.48, 15.32, 12.46, 12.05, 12.86, 12.0, 13.46, 15.04, 11.2, 11.22, 9.777, 13.81, 11.15, 9.738, 10.82, 11.75, 12.34, 14.44, 14.64, 11.52, 14.22, 9.029, 9.173, 10.65, 10.17, 14.54, 14.41, 11.43, 12.25, 12.36, 14.87, 9.667, 13.4, 15.22, 14.26, 11.7, 15.27, 15.34, 13.51, 10.48, 14.64, 14.45, 11.04, 10.26, 12.89, 13.4, 12.96, 15.28, 13.78, 15.1, 12.34, 8.196, 13.45, 11.32, 7.76, 14.86, 11.13, 9.72, 9.606, 10.08, 12.56, 15.13, 10.48, 12.78, 14.74, 9.904, 13.82, 12.89, 13.74, 13.37, 14.69, 12.91, 13.62, 15.0, 11.8, 14.53, 13.71, 11.36, 8.726, 13.71, 14.47, 13.54, 12.85, 12.47, 12.46, 10.86, 11.37, 13.49, 9.567, 11.06, 14.61, 7.691, 13.69, 11.46, 12.06, 13.15, 13.61, 10.26, 9.333, 11.06, 10.66, 11.84, 10.51, 12.67, 11.08, 11.04, 12.43, 14.71, 14.87, 12.87, 9.465, 13.16, 10.91, 12.25, 12.75, 14.58, 12.27, 12.16, 14.27, 15.06, 12.99, 13.27, 13.87, 13.87, 13.59, 12.45, 8.95, 13.65, 11.47, 14.42, 14.68, 12.05, 9.683, 10.97, 11.42, 12.54, 14.34, 14.58, 11.76, 12.83, 13.03, 13.21, 8.671, 11.87, 12.76, 14.86, 12.65, 11.31, 11.94, 14.96, 11.6, 12.34, 9.731, 11.27, 14.02, 10.51, 9.876, 11.57, 12.31, 13.66, 10.32, 12.21, 12.21, 12.87, 12.18, 12.04, 10.05, 14.25, 11.28, 8.618, 12.63, 12.54, 11.76, 13.0, 10.6, 11.62, 14.99, 11.89, 9.0, 9.042, 11.8, 13.9, 14.95, 13.46, 14.5, 12.18, 12.9, 9.787, 12.2, 11.85, 11.41, 13.2, 12.45, 11.95, 13.85, 15.19, 11.06, 15.05, 11.14, 12.94, 13.24, 13.05, 13.85, 13.3, 12.72, 12.0, 14.26, 12.81, 9.405, 10.94, 8.597, 8.219, 10.57, 13.2, 12.39, 11.71, 14.04, 11.22, 11.93, 11.41, 12.72, 10.57, 13.27, 9.397, 14.76, 11.51, 12.58, 9.847, 9.676, 12.36, 11.63, 14.8, 13.17, 14.97, 14.78, 11.3, 14.92, 10.9, 15.3, 12.32, 11.43, 11.68, 11.16, 14.53, 13.56, 11.34, 13.64, 13.64, 14.59, 9.668, 13.01, 10.95, 8.571, 9.876, 8.878, 12.8, 12.22, 10.96, 14.9, 13.61, 10.44, 12.88, 9.436, 13.43, 11.6, 12.95, 13.86, 8.598, 13.17, 13.59, 12.03, 12.23, 11.49, 13.66, 11.26, 12.7, 8.734, 14.95, 14.25, 12.77, 15.1, 12.77, 13.0, 14.11, 11.71, 12.68, 13.73, 13.44, 11.08, 11.71, 12.46, 11.89, 12.27, 13.85, 11.94, 11.26, 13.77, 11.69, 11.5, 14.05, 13.38, 10.49, 11.66, 10.71, 13.7, 11.99, 13.28, 10.2, 11.93, 14.22, 14.2, 13.05, 13.11, 12.07, 11.45, 15.12, 10.8, 12.62, 15.37, 10.26, 12.42, 12.49, 13.88, 9.742, 10.8, 12.88, 9.268, 13.75, 12.3, 12.83, 11.74, 13.05, 10.88, 9.504, 11.54, 9.755, 11.75, 11.33, 12.77, 14.6, 14.99, 13.5, 12.19, 14.42, 13.0, 14.19, 13.14, 13.08, 8.888, 11.64, 14.29, 13.98, 12.18], \"y\": [1.039843380484294, 0.03341229482365014, -0.04828214715200634, -0.007267532336260152, 0.04606763071784363, 0.021528710981036453, -0.026572374998196716, -0.03899904873114457, 0.997382731354272, -0.011342453765297487, 0.04039095563573676, 0.01631846160014104, 0.016469049946017625, 0.9671533834964943, -0.04536805085931668, 0.0485978900460788, 0.013474205953820498, 1.027540765938256, 1.0131180965961928, 0.9779908377578639, 0.03746022784879682, 0.03541636742190454, -0.043364151239264716, -0.028073557788982198, -0.0002996860527308548, -0.04304734359446464, 0.029287595559867263, 0.007353605492464575, 0.9801292622431366, -0.009114024228112458, -0.045735295117492185, 0.03427835151092341, -0.029223159662209355, -0.019589055512818056, -0.01158894253904029, 0.0032711663639370947, 0.0016498944084155504, -0.003453885576253292, 0.032433989290296714, -0.030326741670719894, -0.01169478963567585, 0.003346225611227313, 1.0142271872240036, -0.016057341021277864, -0.017746318162831433, -0.02602028108917003, 0.0005989940000042035, 1.0133068080206482, 0.0016083629695627377, -0.014371617323714773, 1.0417733718229119, 0.02356657958402908, 0.023011865069503576, 0.008766344116050304, 1.0294732846360841, 0.02670226254140315, 0.04941357426444122, -0.006465131611535016, 1.0325372648786004, 0.003988834705110543, 0.03695790495816094, -0.04592118866390367, 1.0403611069117695, 0.047767193044216325, 1.0370450595455443, 0.04217651227800023, 0.9724708487701563, 0.02616655472637941, -0.010465044232962198, -0.01199879300928279, -0.030107040640045137, -0.004965924342516845, 0.0479608509363917, -0.005160070199387003, -0.0016123342081062475, -0.011162971423490174, 0.02816816310241914, -0.02063666887113086, 0.9900518294919682, -0.0343163368482433, 0.02743597653759615, 0.018409044831399102, -0.006409018031792432, 1.0141444745814838, -0.0008796903300571715, -0.03360484648766221, -0.02288497089617635, -0.01296628095875102, 0.042513315564632545, -0.011330983339807997, -0.037008256017264, 0.00951158448320892, 0.036884050847526814, -0.021094045979810495, 0.01729236706684341, -0.014760716290050269, 1.0310702347137342, -0.023286445468293462, -0.034759733129191055, -0.0341876466923605, 0.01009987075934772, -0.018029232799698813, 0.009434863374779626, 0.02482141263032059, -0.004051054073987245, 0.0055455171633008934, 0.04669638857309874, 0.04352050227060793, -0.01491009408490336, -0.04765962467106786, 0.04355609861905932, -0.04207074679003451, -0.04359335455783023, 1.045607662348755, -0.01364140635482241, 0.04463954966404435, 0.014402114419640497, -0.009245348794101958, 1.0108709824897248, -0.03183455961933077, 0.0008507232426150715, 0.015222787379926037, -0.04346550996602422, -0.02506814369926709, 0.9851336124796357, -0.025430285679339693, 0.03083647303917833, 0.03646020915749068, 0.0040631764998600856, -0.03022009243177929, 0.02429218796980756, 0.012577123722304948, 0.03003633320946024, -0.02654814506180513, 0.04537379266699752, 0.9971018516573591, 0.9610768913211076, 0.0041299714529685755, -0.019518546440656794, 0.04253595871882143, -0.016297458716794555, -0.03526388830298837, 0.9765520832786505, 0.04823638577750926, -0.01066195334453305, 0.029936798304505505, -0.007031684812163375, 0.9970401061946661, 0.018850096401249336, 0.00056515901023102, -0.019013223029432137, 1.027618168718875, -0.04144807627721839, 0.04323016401972772, 0.9961862133616666, 2.7314887614815486e-05, 1.0465157294037852, 0.041055815721430564, 0.00945971496891175, -0.02952211044114609, -0.019750982170007616, -0.02832045648298306, 1.0439785347859487, -0.00846294255230573, 0.03674371080290416, -0.048640038730679326, 0.039512933479939116, 0.003934724707394033, 1.0325285492942446, -0.04628630470291672, 0.00782831850319423, -0.007101380195560246, -0.03192355727544008, -0.03209853201393856, 0.03718598444840128, 0.03326809365375143, -0.004133394564641547, -0.006257996600782557, 0.04405608831893447, 0.03731829457154226, -0.0130001468788871, 0.02250008392998279, -0.02252165409791265, 0.01363823461924829, 1.0315868624337066, 0.03717848405107389, 0.02992508713031755, 0.03888701983817282, -0.018571848101970816, 1.0071098642016403, 0.02793017157925716, 8.441597322213223e-05, 0.022787640098356682, 1.0170712203410577, 0.03499198549032499, -0.029608330168570465, -0.04554121668149717, 0.9763163504585441, 0.019241166188067454, -0.011210839586479823, -0.03641839901268379, -0.03953920820538825, -0.010756675797973222, -0.03142361147540372, 0.03350696504604292, -0.03188251181737585, -0.048184750028642254, 0.010232681720229155, -0.04897502640713454, -0.0123790548498963, -0.018107407678941555, 0.005662596230829153, 0.04895330916613842, 0.03517137022825495, 0.9931095358752016, 0.034801051906110686, 0.037842720642553104, 0.04338549761931114, 0.03138255551546401, -0.036561971033990115, 0.017913912413064906, -0.04187876436138778, 0.04490720908331167, -0.026988839561970825, -0.0018977787789635422, -0.025194321173001546, -0.0441107151734944, 0.03934955161814575, -0.038185823118798805, 0.015394686802572624, 0.027552527964526022, 0.04768924321386463, -0.0028286036787476126, -0.01668455378651651, -0.044065929785074266, 0.03003707238211477, 0.03304146444435767, 0.0195136796047424, -0.007086048670235226, -0.030605829052291846, 0.028392197708487638, 0.040044102099783305, 0.009603305591466202, -0.005959863318311831, 0.0253995034381896, 0.02695417305345052, 0.008932962139446353, -0.03089775070702712, 0.009316010148045173, 1.040496778872294, 0.04396457661787956, 0.9945120422154821, 0.007373043021263528, 0.03242738017038009, -0.016308048338352546, 1.036036810708059, 0.01754985098191185, 0.04006496184509811, -0.007193316851662711, -0.01417501973249085, -0.04001300919805783, 0.045558085125042266, 0.02162072613444635, 0.041479898055661685, -0.032126574479663994, -0.010005580328873977, -0.014900577127785697, 0.005210594667792147, 0.955748301590994, 0.02273198528405479, -0.014616065936704704, 0.008579937848971333, 0.008120540943891238, 0.008240877677364887, -0.04196488216199831, 1.0471582172933112, 0.9879899059145594, 0.029974352238677712, 0.02951630134783026, 0.02146966053797103, 0.9766484772525139, -0.04524111303545311, -0.023821408838864844, 0.9675719320258063, -0.01186920343580504, 0.9510034930708959, -0.04633427345507482, -0.00447284505542421, -0.02629267625459779, -0.02832687224162981, -0.045728410233110764, -0.030167435441200752, 0.004112772703298219, 0.010581950048700037, 0.9614633977533671, 1.0129016224773926, 1.0186534641669998, 0.03553034730519426, -0.0033417695396113153, 0.9748116488803051, -0.027574571200130626, 0.01670234079137825, 0.9576935849008255, 1.029130305831367, 1.0251297290147718, 0.9888851898336168, 0.008720592740458319, 0.0253614976805928, -0.032131234376904724, -0.022846895611769502, 0.019675609578590852, -0.025090270955723137, 0.024777466020681704, -0.005182004325809654, -0.047776259978964876, 0.027052017256440283, 0.04642470762602009, -0.0314846807603955, -0.04375959088329976, -0.036256871401744155, 0.015900059730715732, 0.014914086963436712, -0.010235466775768955, 0.9855228810238885, 0.04217419392170012, 0.021300998376569527, 1.040054273042947, -0.013850225522886964, -0.020174867826387822, 1.0068095288355219, -0.007732249694029039, 0.037961042980737936, 0.9996675469143226, -0.016618703148728056, -0.032517287439150874, 0.9743727692648172, 0.024144130057078134, 0.004491658831965742, -0.023128601071143607, 0.0328831200113715, -0.03291785165220833, 0.02946957150108949, 0.003632744948955449, 0.019770268867592644, 0.049454506751859986, 0.020327283785596784, 0.040290330305273556, -0.003867179171400295, -0.02364631040075508, -0.04827867840202804, -0.02884324505884389, -0.0306353052855312, -0.04593355149330545, -0.03914126847571212, -0.02731070257224181, 0.04710855040735899, 1.035319671139037, 0.040636562681509544, -0.02545799033561842, -0.04235593776566935, 0.9570546286455994, 0.015739649196834612, 1.0290293386351694, -0.04915051800917282, -0.026781738824781444, -0.04089096049920246, -0.03401085008217755, -0.04730245654087918, 1.0153222522806593, 0.002383340222981589]}, {\"line\": {\"color\": \"orange\"}, \"mode\": \"lines\", \"name\": \"Least Squares\", \"type\": \"scatter\", \"x\": [7.691, 8.107714285714286, 8.52442857142857, 8.941142857142857, 9.357857142857142, 9.774571428571429, 10.191285714285714, 10.608, 11.024714285714285, 11.44142857142857, 11.858142857142857, 12.274857142857144, 12.691571428571429, 13.108285714285714, 13.524999999999999, 13.941714285714285, 14.358428571428572, 14.775142857142857, 15.191857142857142, 15.608571428571429, 16.025285714285715, 16.442, 16.858714285714285, 17.27542857142857, 17.692142857142855, 18.108857142857143, 18.52557142857143, 18.942285714285713, 19.358999999999998, 19.775714285714287, 20.19242857142857, 20.609142857142857, 21.02585714285714, 21.442571428571426, 21.859285714285715, 22.276, 22.692714285714285, 23.10942857142857, 23.526142857142858, 23.942857142857143, 24.359571428571428, 24.776285714285713, 25.192999999999998, 25.609714285714283, 26.02642857142857, 26.443142857142856, 26.85985714285714, 27.276571428571426, 27.69328571428571, 28.11], \"y\": [-0.2592505255840679, -0.21809425706067354, -0.17693798853727927, -0.13578172001388478, -0.09462545149049051, -0.05346918296709602, -0.01231291444370175, 0.02884335407969263, 0.06999962260308701, 0.11115589112648117, 0.15231215964987577, 0.19346842817327015, 0.23462469669666453, 0.2757809652200587, 0.31693723374345306, 0.35809350226684744, 0.39924977079024204, 0.4404060393136362, 0.4815623078370306, 0.522718576360425, 0.5638748448838196, 0.6050311134072137, 0.6461873819306081, 0.6873436504540023, 0.7284999189773966, 0.7696561875007912, 0.8108124560241856, 0.8519687245475798, 0.8931249930709741, 0.9342812615943688, 0.9754375301177631, 1.0165937986411575, 1.0577500671645517, 1.0989063356879458, 1.1400626042113404, 1.1812188727347346, 1.2223751412581292, 1.2635314097815233, 1.304687678304918, 1.345843946828312, 1.3870002153517067, 1.4281564838751009, 1.469312752398495, 1.5104690209218896, 1.5516252894452842, 1.5927815579686784, 1.6339378264920725, 1.6750940950154671, 1.7162503635388613, 1.757406632062256]}, {\"line\": {\"color\": \"green\", \"width\": 8}, \"mode\": \"lines\", \"name\": \"Truncated Least Squares\", \"type\": \"scatter\", \"x\": [7.691, 8.107714285714286, 8.52442857142857, 8.941142857142857, 9.357857142857142, 9.774571428571429, 10.191285714285714, 10.608, 11.024714285714285, 11.44142857142857, 11.858142857142857, 12.274857142857144, 12.691571428571429, 13.108285714285714, 13.524999999999999, 13.941714285714285, 14.358428571428572, 14.775142857142857, 15.191857142857142, 15.608571428571429, 16.025285714285715, 16.442, 16.858714285714285, 17.27542857142857, 17.692142857142855, 18.108857142857143, 18.52557142857143, 18.942285714285713, 19.358999999999998, 19.775714285714287, 20.19242857142857, 20.609142857142857, 21.02585714285714, 21.442571428571426, 21.859285714285715, 22.276, 22.692714285714285, 23.10942857142857, 23.526142857142858, 23.942857142857143, 24.359571428571428, 24.776285714285713, 25.192999999999998, 25.609714285714283, 26.02642857142857, 26.443142857142856, 26.85985714285714, 27.276571428571426, 27.69328571428571, 28.11], \"y\": [0.0, 0.0, 0.0, 0.0, 0.0, 0.0, 0.0, 0.02884335407969263, 0.06999962260308701, 0.11115589112648117, 0.15231215964987577, 0.19346842817327015, 0.23462469669666453, 0.2757809652200587, 0.31693723374345306, 0.35809350226684744, 0.39924977079024204, 0.4404060393136362, 0.4815623078370306, 0.522718576360425, 0.5638748448838196, 0.6050311134072137, 0.6461873819306081, 0.6873436504540023, 0.7284999189773966, 0.7696561875007912, 0.8108124560241856, 0.8519687245475798, 0.8931249930709741, 0.9342812615943688, 0.9754375301177631, 1.0, 1.0, 1.0, 1.0, 1.0, 1.0, 1.0, 1.0, 1.0, 1.0, 1.0, 1.0, 1.0, 1.0, 1.0, 1.0, 1.0, 1.0, 1.0]}, {\"line\": {\"color\": \"black\", \"dash\": \"dot\"}, \"mode\": \"lines\", \"name\": \"Least Squares Decision Boundary\", \"type\": \"scatter\", \"x\": [15.378541941930807, 15.378541941930807], \"y\": [-0.5, 1.5]}],\n",
       "                        {\"template\": {\"data\": {\"bar\": [{\"error_x\": {\"color\": \"#2a3f5f\"}, \"error_y\": {\"color\": \"#2a3f5f\"}, \"marker\": {\"line\": {\"color\": \"#E5ECF6\", \"width\": 0.5}}, \"type\": \"bar\"}], \"barpolar\": [{\"marker\": {\"line\": {\"color\": \"#E5ECF6\", \"width\": 0.5}}, \"type\": \"barpolar\"}], \"carpet\": [{\"aaxis\": {\"endlinecolor\": \"#2a3f5f\", \"gridcolor\": \"white\", \"linecolor\": \"white\", \"minorgridcolor\": \"white\", \"startlinecolor\": \"#2a3f5f\"}, \"baxis\": {\"endlinecolor\": \"#2a3f5f\", \"gridcolor\": \"white\", \"linecolor\": \"white\", \"minorgridcolor\": \"white\", \"startlinecolor\": \"#2a3f5f\"}, \"type\": \"carpet\"}], \"choropleth\": [{\"colorbar\": {\"outlinewidth\": 0, \"ticks\": \"\"}, \"type\": \"choropleth\"}], \"contour\": [{\"colorbar\": {\"outlinewidth\": 0, \"ticks\": \"\"}, \"colorscale\": [[0.0, \"#0d0887\"], [0.1111111111111111, \"#46039f\"], [0.2222222222222222, \"#7201a8\"], [0.3333333333333333, \"#9c179e\"], [0.4444444444444444, \"#bd3786\"], [0.5555555555555556, \"#d8576b\"], [0.6666666666666666, \"#ed7953\"], [0.7777777777777778, \"#fb9f3a\"], [0.8888888888888888, \"#fdca26\"], [1.0, \"#f0f921\"]], \"type\": \"contour\"}], \"contourcarpet\": [{\"colorbar\": {\"outlinewidth\": 0, \"ticks\": \"\"}, \"type\": \"contourcarpet\"}], \"heatmap\": [{\"colorbar\": {\"outlinewidth\": 0, \"ticks\": \"\"}, \"colorscale\": [[0.0, \"#0d0887\"], [0.1111111111111111, \"#46039f\"], [0.2222222222222222, \"#7201a8\"], [0.3333333333333333, \"#9c179e\"], [0.4444444444444444, \"#bd3786\"], [0.5555555555555556, \"#d8576b\"], [0.6666666666666666, \"#ed7953\"], [0.7777777777777778, \"#fb9f3a\"], [0.8888888888888888, \"#fdca26\"], [1.0, \"#f0f921\"]], \"type\": \"heatmap\"}], \"heatmapgl\": [{\"colorbar\": {\"outlinewidth\": 0, \"ticks\": \"\"}, \"colorscale\": [[0.0, \"#0d0887\"], [0.1111111111111111, \"#46039f\"], [0.2222222222222222, \"#7201a8\"], [0.3333333333333333, \"#9c179e\"], [0.4444444444444444, \"#bd3786\"], [0.5555555555555556, \"#d8576b\"], [0.6666666666666666, \"#ed7953\"], [0.7777777777777778, \"#fb9f3a\"], [0.8888888888888888, \"#fdca26\"], [1.0, \"#f0f921\"]], \"type\": \"heatmapgl\"}], \"histogram\": [{\"marker\": {\"colorbar\": {\"outlinewidth\": 0, \"ticks\": \"\"}}, \"type\": \"histogram\"}], \"histogram2d\": [{\"colorbar\": {\"outlinewidth\": 0, \"ticks\": \"\"}, \"colorscale\": [[0.0, \"#0d0887\"], [0.1111111111111111, \"#46039f\"], [0.2222222222222222, \"#7201a8\"], [0.3333333333333333, \"#9c179e\"], [0.4444444444444444, \"#bd3786\"], [0.5555555555555556, \"#d8576b\"], [0.6666666666666666, \"#ed7953\"], [0.7777777777777778, \"#fb9f3a\"], [0.8888888888888888, \"#fdca26\"], [1.0, \"#f0f921\"]], \"type\": \"histogram2d\"}], \"histogram2dcontour\": [{\"colorbar\": {\"outlinewidth\": 0, \"ticks\": \"\"}, \"colorscale\": [[0.0, \"#0d0887\"], [0.1111111111111111, \"#46039f\"], [0.2222222222222222, \"#7201a8\"], [0.3333333333333333, \"#9c179e\"], [0.4444444444444444, \"#bd3786\"], [0.5555555555555556, \"#d8576b\"], [0.6666666666666666, \"#ed7953\"], [0.7777777777777778, \"#fb9f3a\"], [0.8888888888888888, \"#fdca26\"], [1.0, \"#f0f921\"]], \"type\": \"histogram2dcontour\"}], \"mesh3d\": [{\"colorbar\": {\"outlinewidth\": 0, \"ticks\": \"\"}, \"type\": \"mesh3d\"}], \"parcoords\": [{\"line\": {\"colorbar\": {\"outlinewidth\": 0, \"ticks\": \"\"}}, \"type\": \"parcoords\"}], \"pie\": [{\"automargin\": true, \"type\": \"pie\"}], \"scatter\": [{\"marker\": {\"colorbar\": {\"outlinewidth\": 0, \"ticks\": \"\"}}, \"type\": \"scatter\"}], \"scatter3d\": [{\"line\": {\"colorbar\": {\"outlinewidth\": 0, \"ticks\": \"\"}}, \"marker\": {\"colorbar\": {\"outlinewidth\": 0, \"ticks\": \"\"}}, \"type\": \"scatter3d\"}], \"scattercarpet\": [{\"marker\": {\"colorbar\": {\"outlinewidth\": 0, \"ticks\": \"\"}}, \"type\": \"scattercarpet\"}], \"scattergeo\": [{\"marker\": {\"colorbar\": {\"outlinewidth\": 0, \"ticks\": \"\"}}, \"type\": \"scattergeo\"}], \"scattergl\": [{\"marker\": {\"colorbar\": {\"outlinewidth\": 0, \"ticks\": \"\"}}, \"type\": \"scattergl\"}], \"scattermapbox\": [{\"marker\": {\"colorbar\": {\"outlinewidth\": 0, \"ticks\": \"\"}}, \"type\": \"scattermapbox\"}], \"scatterpolar\": [{\"marker\": {\"colorbar\": {\"outlinewidth\": 0, \"ticks\": \"\"}}, \"type\": \"scatterpolar\"}], \"scatterpolargl\": [{\"marker\": {\"colorbar\": {\"outlinewidth\": 0, \"ticks\": \"\"}}, \"type\": \"scatterpolargl\"}], \"scatterternary\": [{\"marker\": {\"colorbar\": {\"outlinewidth\": 0, \"ticks\": \"\"}}, \"type\": \"scatterternary\"}], \"surface\": [{\"colorbar\": {\"outlinewidth\": 0, \"ticks\": \"\"}, \"colorscale\": [[0.0, \"#0d0887\"], [0.1111111111111111, \"#46039f\"], [0.2222222222222222, \"#7201a8\"], [0.3333333333333333, \"#9c179e\"], [0.4444444444444444, \"#bd3786\"], [0.5555555555555556, \"#d8576b\"], [0.6666666666666666, \"#ed7953\"], [0.7777777777777778, \"#fb9f3a\"], [0.8888888888888888, \"#fdca26\"], [1.0, \"#f0f921\"]], \"type\": \"surface\"}], \"table\": [{\"cells\": {\"fill\": {\"color\": \"#EBF0F8\"}, \"line\": {\"color\": \"white\"}}, \"header\": {\"fill\": {\"color\": \"#C8D4E3\"}, \"line\": {\"color\": \"white\"}}, \"type\": \"table\"}]}, \"layout\": {\"annotationdefaults\": {\"arrowcolor\": \"#2a3f5f\", \"arrowhead\": 0, \"arrowwidth\": 1}, \"coloraxis\": {\"colorbar\": {\"outlinewidth\": 0, \"ticks\": \"\"}}, \"colorscale\": {\"diverging\": [[0, \"#8e0152\"], [0.1, \"#c51b7d\"], [0.2, \"#de77ae\"], [0.3, \"#f1b6da\"], [0.4, \"#fde0ef\"], [0.5, \"#f7f7f7\"], [0.6, \"#e6f5d0\"], [0.7, \"#b8e186\"], [0.8, \"#7fbc41\"], [0.9, \"#4d9221\"], [1, \"#276419\"]], \"sequential\": [[0.0, \"#0d0887\"], [0.1111111111111111, \"#46039f\"], [0.2222222222222222, \"#7201a8\"], [0.3333333333333333, \"#9c179e\"], [0.4444444444444444, \"#bd3786\"], [0.5555555555555556, \"#d8576b\"], [0.6666666666666666, \"#ed7953\"], [0.7777777777777778, \"#fb9f3a\"], [0.8888888888888888, \"#fdca26\"], [1.0, \"#f0f921\"]], \"sequentialminus\": [[0.0, \"#0d0887\"], [0.1111111111111111, \"#46039f\"], [0.2222222222222222, \"#7201a8\"], [0.3333333333333333, \"#9c179e\"], [0.4444444444444444, \"#bd3786\"], [0.5555555555555556, \"#d8576b\"], [0.6666666666666666, \"#ed7953\"], [0.7777777777777778, \"#fb9f3a\"], [0.8888888888888888, \"#fdca26\"], [1.0, \"#f0f921\"]]}, \"colorway\": [\"#636efa\", \"#EF553B\", \"#00cc96\", \"#ab63fa\", \"#FFA15A\", \"#19d3f3\", \"#FF6692\", \"#B6E880\", \"#FF97FF\", \"#FECB52\"], \"font\": {\"color\": \"#2a3f5f\"}, \"geo\": {\"bgcolor\": \"white\", \"lakecolor\": \"white\", \"landcolor\": \"#E5ECF6\", \"showlakes\": true, \"showland\": true, \"subunitcolor\": \"white\"}, \"hoverlabel\": {\"align\": \"left\"}, \"hovermode\": \"closest\", \"mapbox\": {\"style\": \"light\"}, \"paper_bgcolor\": \"white\", \"plot_bgcolor\": \"#E5ECF6\", \"polar\": {\"angularaxis\": {\"gridcolor\": \"white\", \"linecolor\": \"white\", \"ticks\": \"\"}, \"bgcolor\": \"#E5ECF6\", \"radialaxis\": {\"gridcolor\": \"white\", \"linecolor\": \"white\", \"ticks\": \"\"}}, \"scene\": {\"xaxis\": {\"backgroundcolor\": \"#E5ECF6\", \"gridcolor\": \"white\", \"gridwidth\": 2, \"linecolor\": \"white\", \"showbackground\": true, \"ticks\": \"\", \"zerolinecolor\": \"white\"}, \"yaxis\": {\"backgroundcolor\": \"#E5ECF6\", \"gridcolor\": \"white\", \"gridwidth\": 2, \"linecolor\": \"white\", \"showbackground\": true, \"ticks\": \"\", \"zerolinecolor\": \"white\"}, \"zaxis\": {\"backgroundcolor\": \"#E5ECF6\", \"gridcolor\": \"white\", \"gridwidth\": 2, \"linecolor\": \"white\", \"showbackground\": true, \"ticks\": \"\", \"zerolinecolor\": \"white\"}}, \"shapedefaults\": {\"line\": {\"color\": \"#2a3f5f\"}}, \"ternary\": {\"aaxis\": {\"gridcolor\": \"white\", \"linecolor\": \"white\", \"ticks\": \"\"}, \"baxis\": {\"gridcolor\": \"white\", \"linecolor\": \"white\", \"ticks\": \"\"}, \"bgcolor\": \"#E5ECF6\", \"caxis\": {\"gridcolor\": \"white\", \"linecolor\": \"white\", \"ticks\": \"\"}}, \"title\": {\"x\": 0.05}, \"xaxis\": {\"automargin\": true, \"gridcolor\": \"white\", \"linecolor\": \"white\", \"ticks\": \"\", \"title\": {\"standoff\": 15}, \"zerolinecolor\": \"white\", \"zerolinewidth\": 2}, \"yaxis\": {\"automargin\": true, \"gridcolor\": \"white\", \"linecolor\": \"white\", \"ticks\": \"\", \"title\": {\"standoff\": 15}, \"zerolinecolor\": \"white\", \"zerolinewidth\": 2}}}},\n",
       "                        {\"responsive\": true}\n",
       "                    ).then(function(){\n",
       "                            \n",
       "var gd = document.getElementById('fe137e8f-e0c1-49ad-ac2e-0b4f52ebd39b');\n",
       "var x = new MutationObserver(function (mutations, observer) {{\n",
       "        var display = window.getComputedStyle(gd).display;\n",
       "        if (!display || display === 'none') {{\n",
       "            console.log([gd, 'removed!']);\n",
       "            Plotly.purge(gd);\n",
       "            observer.disconnect();\n",
       "        }}\n",
       "}});\n",
       "\n",
       "// Listen for the removal of the full notebook cells\n",
       "var notebookContainer = gd.closest('#notebook-container');\n",
       "if (notebookContainer) {{\n",
       "    x.observe(notebookContainer, {childList: true});\n",
       "}}\n",
       "\n",
       "// Listen for the clearing of the current output cell\n",
       "var outputEl = gd.closest('.output');\n",
       "if (outputEl) {{\n",
       "    x.observe(outputEl, {childList: true});\n",
       "}}\n",
       "\n",
       "                        })\n",
       "                };\n",
       "                });\n",
       "            </script>\n",
       "        </div>"
      ]
     },
     "metadata": {},
     "output_type": "display_data"
    }
   ],
   "source": [
    "p_line = go.Scatter(name=\"Truncated Least Squares\",\n",
    "    x=X_plt.flatten(), y=bound01(lin_reg.predict(X_plt)), \n",
    "    mode=\"lines\", line=dict(color=\"green\", width=8))\n",
    "py.iplot([mal_points, ben_points, model_line, p_line, dec_line], filename=\"lr-06\")"
   ]
  },
  {
   "cell_type": "markdown",
   "metadata": {},
   "source": [
    "So far least squares regression seems pretty reasonable and we can \"force\" the predicted values to be bounded between 0 and 1.  \n",
    "\n",
    "**Can we interpret the truncated values as probabilities?** \n",
    "\n",
    "Perhaps, but it would depend on how the model is estimated (more on this soon).\n"
   ]
  },
  {
   "cell_type": "markdown",
   "metadata": {},
   "source": [
    "---\n",
    "<br/><br/><br/><br/><br/>\n",
    "\n",
    "\n",
    "# An Issue with Extreme Points \n",
    "\n",
    "It seems like large tumor sizes are indicative of malignant tumors.  Suppose we observed a very large malignant tumor that is 100mm in mean radius.  What would this do to our model?\n",
    "\n",
    "\n",
    "Let's add an extra data point and see what happens:"
   ]
  },
  {
   "cell_type": "code",
   "execution_count": 27,
   "metadata": {
    "ExecuteTime": {
     "end_time": "2018-04-02T16:07:18.165906Z",
     "start_time": "2018-04-02T16:07:18.157445Z"
    }
   },
   "outputs": [
    {
     "data": {
      "text/plain": [
       "LinearRegression(copy_X=True, fit_intercept=True, n_jobs=None, normalize=False)"
      ]
     },
     "execution_count": 27,
     "metadata": {},
     "output_type": "execute_result"
    }
   ],
   "source": [
    "X_ex = np.vstack([X, [100]])\n",
    "Y_ex = np.hstack([Y, 1.])\n",
    "lin_reg_ex = LinearRegression()\n",
    "lin_reg_ex.fit(X_ex, Y_ex)"
   ]
  },
  {
   "cell_type": "code",
   "execution_count": 28,
   "metadata": {
    "ExecuteTime": {
     "end_time": "2018-04-02T16:08:52.741027Z",
     "start_time": "2018-04-02T16:08:52.706346Z"
    }
   },
   "outputs": [
    {
     "data": {
      "application/vnd.plotly.v1+json": {
       "config": {
        "plotlyServerURL": "https://plot.ly"
       },
       "data": [
        {
         "marker": {
          "color": "red",
          "opacity": 0.5
         },
         "mode": "markers",
         "name": "Classified as Malignant",
         "type": "scatter",
         "x": [
          25.22,
          19.69,
          21.56,
          15.78,
          20.18,
          15.78,
          16.46,
          16.16,
          20.94,
          17.93,
          17.6,
          20.13,
          17.27,
          15.7,
          18.05,
          17.99,
          23.09,
          16.07,
          20.73,
          21.09,
          19.89,
          21.1,
          19.27,
          17.99,
          19.81,
          17.75,
          20.58,
          22.27,
          19.4,
          17.35,
          16.11,
          18.49,
          15.46,
          19.21,
          18.81,
          17.14,
          19.07,
          19.16,
          19.8,
          16.65,
          16.13,
          21.75,
          27.22,
          21.16,
          20.16,
          18.65,
          15.61,
          17.06,
          16.84,
          20.48,
          17.47,
          20.09,
          17.95,
          16.69,
          16.35,
          16.5,
          17.3,
          20.59,
          16.27,
          17.29,
          18.03,
          19.18,
          25.73,
          24.63,
          17.46,
          19.44,
          20.47,
          20.18,
          24.25,
          23.29,
          20.34,
          16.17,
          20.44,
          18.82,
          21.71,
          15.75,
          18.22,
          19.53,
          19.79,
          19.59,
          20.64,
          17.08,
          20.51,
          23.27,
          18.22,
          18.08,
          15.66,
          18.01,
          19,
          17.91,
          15.71,
          16.24,
          18.46,
          18.31,
          19.17,
          16.74,
          20.26,
          15.75,
          16.25,
          15.46,
          15.49,
          19.4,
          19.45,
          20.29,
          19.55,
          17.42,
          16.14,
          17.02,
          15.5,
          18.45,
          18.61,
          17.05,
          20.31,
          19.59,
          18.31,
          19.53,
          17.68,
          18.77,
          23.21,
          17.01,
          28.11,
          27.42,
          16.6,
          17.54,
          19.19,
          15.53,
          19.55,
          20.57,
          16.13,
          16.3,
          20.2,
          23.51,
          15.85,
          20.92,
          15.73,
          19.73,
          17.85,
          19.68,
          21.37,
          19.02,
          16.03,
          18.66
         ],
         "y": [
          0.9573940961999341,
          1.0329193053908396,
          0.9736398668643405,
          0.9793608628629991,
          0.9904487523088727,
          1.0068524781234918,
          1.0424972964554602,
          0.9867502046109105,
          0.9602470044934768,
          0.9850676154814608,
          1.005588701192757,
          1.0276901044349835,
          0.9794519065421421,
          0.9707306692088584,
          1.0042213208532313,
          0.9856737732402137,
          0.9620111977794565,
          0.9627385974920728,
          0.9583452569018427,
          1.0233868369534105,
          0.9572368884946776,
          0.9944558664192196,
          1.0189343704119478,
          0.9512176334654494,
          0.9797028264307306,
          1.0092621920060922,
          1.004303882188768,
          0.9867258967596095,
          0.9507677803825196,
          0.9979662433251515,
          1.0030262566554706,
          1.0390622265037912,
          0.9916189299105311,
          1.0178357765454018,
          0.9713128888370999,
          0.9620391561543444,
          1.0245904608673113,
          1.0302311280400998,
          0.9961777542941024,
          0.9985779845839193,
          0.9992860973022688,
          1.0168006326262693,
          1.0071562412052748,
          0.9992943790812987,
          1.0415824181517093,
          1.0146339325838611,
          1.0430615403762107,
          1.002890943217976,
          0.003030209497766556,
          0.9733967764640099,
          0.9806239408811628,
          1.0405012458770582,
          0.9943058919044621,
          0.9984784824060056,
          1.0389805182721152,
          -0.025430754252504184,
          0.955375563241396,
          0.9600638650715618,
          0.9596886553175048,
          1.0132329659474815,
          0.9799758861422332,
          1.0458521902384845,
          0.9785476295244624,
          1.0467130013887525,
          0.9888831879915545,
          1.0200676787752316,
          0.9786253536406577,
          1.0377606721998949,
          0.9799067368744545,
          0.9693908845767603,
          1.0242248558507654,
          -0.012943049131381425,
          1.0211124270328185,
          1.0248000607592302,
          1.0181703546555623,
          0.9555636439149722,
          1.0274545470974163,
          0.9707939567959356,
          1.0423129058099683,
          0.9837939267752056,
          0.9721070284338247,
          0.9867991448856492,
          0.9774952112751787,
          0.9770066708978422,
          0.9575305795666551,
          0.961760774307316,
          0.9973975701103379,
          1.0350033522996203,
          0.971867640237166,
          1.025107159161914,
          0.0196996676688998,
          0.9540228131489603,
          1.0270822104312167,
          0.9683823614700071,
          0.9911833271922479,
          1.035384200486925,
          0.9584864578998318,
          0.9897724461162607,
          1.0162652555696294,
          1.029380484751473,
          0.9821865978956237,
          0.9614043382107809,
          0.9599495688396213,
          0.9596259433118042,
          1.0477888971986404,
          0.9581026816505256,
          -0.007155147617485216,
          1.0384030895168492,
          1.0010762673568785,
          1.0081041389785412,
          1.0354431517953673,
          0.9777070652200246,
          0.9636331808287275,
          0.9695699994408196,
          1.0418907233934063,
          0.9669372866464652,
          1.0316691246140706,
          1.0289732068224644,
          0.9565821265338397,
          0.9564165113574563,
          0.9988723678376838,
          1.0166348198140762,
          0.9926175927615493,
          1.020842750229527,
          0.9532652029301332,
          1.0085743147188833,
          1.0437006380247482,
          1.0119176994208174,
          0.9571771721562972,
          0.00646566515333772,
          0.9945753052791941,
          1.0167589081108939,
          0.9973002070072559,
          1.0283857827435765,
          -0.02798578057610246,
          1.0290408115902083,
          0.015932565691638687,
          0.953853903120953,
          0.9674597878135018,
          1.0317132292307385,
          0.9958226517382973,
          1.0156800995159507
         ]
        },
        {
         "marker": {
          "color": "blue",
          "opacity": 0.5
         },
         "mode": "markers",
         "name": "Classified as Benign",
         "type": "scatter",
         "x": [
          13.48,
          11.29,
          12.86,
          14.4,
          12.3,
          12.62,
          11.81,
          12.98,
          13.77,
          14.06,
          7.729,
          13.47,
          14.03,
          13.96,
          10.75,
          11.27,
          11.25,
          14.48,
          15.32,
          12.46,
          12.05,
          12.86,
          12,
          13.46,
          15.04,
          11.2,
          11.22,
          9.777,
          13.81,
          11.15,
          9.738,
          10.82,
          11.75,
          12.34,
          14.44,
          14.64,
          11.52,
          14.22,
          9.029,
          9.173,
          10.65,
          10.17,
          14.54,
          14.41,
          11.43,
          12.25,
          12.36,
          14.87,
          9.667,
          13.4,
          15.22,
          14.26,
          11.7,
          15.27,
          15.34,
          13.51,
          10.48,
          14.64,
          14.45,
          11.04,
          10.26,
          12.89,
          13.4,
          12.96,
          15.28,
          13.78,
          15.1,
          12.34,
          8.196,
          13.45,
          11.32,
          7.76,
          14.86,
          11.13,
          9.72,
          9.606,
          10.08,
          12.56,
          15.13,
          10.48,
          12.78,
          14.74,
          9.904,
          13.82,
          12.89,
          13.74,
          13.37,
          14.69,
          12.91,
          13.62,
          15,
          11.8,
          14.53,
          13.71,
          11.36,
          8.726,
          13.71,
          14.47,
          13.54,
          12.85,
          12.47,
          12.46,
          10.86,
          11.37,
          13.49,
          9.567,
          11.06,
          14.61,
          7.691,
          13.69,
          11.46,
          12.06,
          13.15,
          13.61,
          10.26,
          9.333,
          11.06,
          10.66,
          11.84,
          10.51,
          12.67,
          11.08,
          11.04,
          12.43,
          14.71,
          14.87,
          12.87,
          9.465,
          13.16,
          10.91,
          12.25,
          12.75,
          14.58,
          12.27,
          12.16,
          14.27,
          15.06,
          12.99,
          13.27,
          13.87,
          13.87,
          13.59,
          12.45,
          8.95,
          13.65,
          11.47,
          14.42,
          14.68,
          12.05,
          9.683,
          10.97,
          11.42,
          12.54,
          14.34,
          14.58,
          11.76,
          12.83,
          13.03,
          13.21,
          8.671,
          11.87,
          12.76,
          14.86,
          12.65,
          11.31,
          11.94,
          14.96,
          11.6,
          12.34,
          9.731,
          11.27,
          14.02,
          10.51,
          9.876,
          11.57,
          12.31,
          13.66,
          10.32,
          12.21,
          12.21,
          12.87,
          12.18,
          12.04,
          10.05,
          14.25,
          11.28,
          8.618,
          12.63,
          12.54,
          11.76,
          13,
          10.6,
          11.62,
          14.99,
          11.89,
          9,
          9.042,
          11.8,
          13.9,
          14.95,
          13.46,
          14.5,
          12.18,
          12.9,
          9.787,
          12.2,
          11.85,
          11.41,
          13.2,
          12.45,
          11.95,
          13.85,
          15.19,
          11.06,
          15.05,
          11.14,
          12.94,
          13.24,
          13.05,
          13.85,
          13.3,
          12.72,
          12,
          14.26,
          12.81,
          9.405,
          10.94,
          8.597,
          8.219,
          10.57,
          13.2,
          12.39,
          11.71,
          14.04,
          11.22,
          11.93,
          11.41,
          12.72,
          10.57,
          13.27,
          9.397,
          14.76,
          11.51,
          12.58,
          9.847,
          9.676,
          12.36,
          11.63,
          14.8,
          13.17,
          14.97,
          14.78,
          11.3,
          14.92,
          10.9,
          15.3,
          12.32,
          11.43,
          11.68,
          11.16,
          14.53,
          13.56,
          11.34,
          13.64,
          13.64,
          14.59,
          9.668,
          13.01,
          10.95,
          8.571,
          9.876,
          8.878,
          12.8,
          12.22,
          10.96,
          14.9,
          13.61,
          10.44,
          12.88,
          9.436,
          13.43,
          11.6,
          12.95,
          13.86,
          8.598,
          13.17,
          13.59,
          12.03,
          12.23,
          11.49,
          13.66,
          11.26,
          12.7,
          8.734,
          14.95,
          14.25,
          12.77,
          15.1,
          12.77,
          13,
          14.11,
          11.71,
          12.68,
          13.73,
          13.44,
          11.08,
          11.71,
          12.46,
          11.89,
          12.27,
          13.85,
          11.94,
          11.26,
          13.77,
          11.69,
          11.5,
          14.05,
          13.38,
          10.49,
          11.66,
          10.71,
          13.7,
          11.99,
          13.28,
          10.2,
          11.93,
          14.22,
          14.2,
          13.05,
          13.11,
          12.07,
          11.45,
          15.12,
          10.8,
          12.62,
          15.37,
          10.26,
          12.42,
          12.49,
          13.88,
          9.742,
          10.8,
          12.88,
          9.268,
          13.75,
          12.3,
          12.83,
          11.74,
          13.05,
          10.88,
          9.504,
          11.54,
          9.755,
          11.75,
          11.33,
          12.77,
          14.6,
          14.99,
          13.5,
          12.19,
          14.42,
          13,
          14.19,
          13.14,
          13.08,
          8.888,
          11.64,
          14.29,
          13.98,
          12.18
         ],
         "y": [
          1.039843380484294,
          0.03341229482365014,
          -0.04828214715200634,
          -0.007267532336260152,
          0.04606763071784363,
          0.021528710981036453,
          -0.026572374998196716,
          -0.03899904873114457,
          0.997382731354272,
          -0.011342453765297487,
          0.04039095563573676,
          0.01631846160014104,
          0.016469049946017625,
          0.9671533834964943,
          -0.04536805085931668,
          0.0485978900460788,
          0.013474205953820498,
          1.027540765938256,
          1.0131180965961928,
          0.9779908377578639,
          0.03746022784879682,
          0.03541636742190454,
          -0.043364151239264716,
          -0.028073557788982198,
          -0.0002996860527308548,
          -0.04304734359446464,
          0.029287595559867263,
          0.007353605492464575,
          0.9801292622431366,
          -0.009114024228112458,
          -0.045735295117492185,
          0.03427835151092341,
          -0.029223159662209355,
          -0.019589055512818056,
          -0.01158894253904029,
          0.0032711663639370947,
          0.0016498944084155504,
          -0.003453885576253292,
          0.032433989290296714,
          -0.030326741670719894,
          -0.01169478963567585,
          0.003346225611227313,
          1.0142271872240036,
          -0.016057341021277864,
          -0.017746318162831433,
          -0.02602028108917003,
          0.0005989940000042035,
          1.0133068080206482,
          0.0016083629695627377,
          -0.014371617323714773,
          1.0417733718229119,
          0.02356657958402908,
          0.023011865069503576,
          0.008766344116050304,
          1.0294732846360841,
          0.02670226254140315,
          0.04941357426444122,
          -0.006465131611535016,
          1.0325372648786004,
          0.003988834705110543,
          0.03695790495816094,
          -0.04592118866390367,
          1.0403611069117695,
          0.047767193044216325,
          1.0370450595455443,
          0.04217651227800023,
          0.9724708487701563,
          0.02616655472637941,
          -0.010465044232962198,
          -0.01199879300928279,
          -0.030107040640045137,
          -0.004965924342516845,
          0.0479608509363917,
          -0.005160070199387003,
          -0.0016123342081062475,
          -0.011162971423490174,
          0.02816816310241914,
          -0.02063666887113086,
          0.9900518294919682,
          -0.0343163368482433,
          0.02743597653759615,
          0.018409044831399102,
          -0.006409018031792432,
          1.0141444745814838,
          -0.0008796903300571715,
          -0.03360484648766221,
          -0.02288497089617635,
          -0.01296628095875102,
          0.042513315564632545,
          -0.011330983339807997,
          -0.037008256017264,
          0.00951158448320892,
          0.036884050847526814,
          -0.021094045979810495,
          0.01729236706684341,
          -0.014760716290050269,
          1.0310702347137342,
          -0.023286445468293462,
          -0.034759733129191055,
          -0.0341876466923605,
          0.01009987075934772,
          -0.018029232799698813,
          0.009434863374779626,
          0.02482141263032059,
          -0.004051054073987245,
          0.0055455171633008934,
          0.04669638857309874,
          0.04352050227060793,
          -0.01491009408490336,
          -0.04765962467106786,
          0.04355609861905932,
          -0.04207074679003451,
          -0.04359335455783023,
          1.045607662348755,
          -0.01364140635482241,
          0.04463954966404435,
          0.014402114419640497,
          -0.009245348794101958,
          1.0108709824897248,
          -0.03183455961933077,
          0.0008507232426150715,
          0.015222787379926037,
          -0.04346550996602422,
          -0.02506814369926709,
          0.9851336124796357,
          -0.025430285679339693,
          0.03083647303917833,
          0.03646020915749068,
          0.0040631764998600856,
          -0.03022009243177929,
          0.02429218796980756,
          0.012577123722304948,
          0.03003633320946024,
          -0.02654814506180513,
          0.04537379266699752,
          0.9971018516573591,
          0.9610768913211076,
          0.0041299714529685755,
          -0.019518546440656794,
          0.04253595871882143,
          -0.016297458716794555,
          -0.03526388830298837,
          0.9765520832786505,
          0.04823638577750926,
          -0.01066195334453305,
          0.029936798304505505,
          -0.007031684812163375,
          0.9970401061946661,
          0.018850096401249336,
          0.00056515901023102,
          -0.019013223029432137,
          1.027618168718875,
          -0.04144807627721839,
          0.04323016401972772,
          0.9961862133616666,
          2.7314887614815486e-05,
          1.0465157294037852,
          0.041055815721430564,
          0.00945971496891175,
          -0.02952211044114609,
          -0.019750982170007616,
          -0.02832045648298306,
          1.0439785347859487,
          -0.00846294255230573,
          0.03674371080290416,
          -0.048640038730679326,
          0.039512933479939116,
          0.003934724707394033,
          1.0325285492942446,
          -0.04628630470291672,
          0.00782831850319423,
          -0.007101380195560246,
          -0.03192355727544008,
          -0.03209853201393856,
          0.03718598444840128,
          0.03326809365375143,
          -0.004133394564641547,
          -0.006257996600782557,
          0.04405608831893447,
          0.03731829457154226,
          -0.0130001468788871,
          0.02250008392998279,
          -0.02252165409791265,
          0.01363823461924829,
          1.0315868624337066,
          0.03717848405107389,
          0.02992508713031755,
          0.03888701983817282,
          -0.018571848101970816,
          1.0071098642016403,
          0.02793017157925716,
          8.441597322213223e-05,
          0.022787640098356682,
          1.0170712203410577,
          0.03499198549032499,
          -0.029608330168570465,
          -0.04554121668149717,
          0.9763163504585441,
          0.019241166188067454,
          -0.011210839586479823,
          -0.03641839901268379,
          -0.03953920820538825,
          -0.010756675797973222,
          -0.03142361147540372,
          0.03350696504604292,
          -0.03188251181737585,
          -0.048184750028642254,
          0.010232681720229155,
          -0.04897502640713454,
          -0.0123790548498963,
          -0.018107407678941555,
          0.005662596230829153,
          0.04895330916613842,
          0.03517137022825495,
          0.9931095358752016,
          0.034801051906110686,
          0.037842720642553104,
          0.04338549761931114,
          0.03138255551546401,
          -0.036561971033990115,
          0.017913912413064906,
          -0.04187876436138778,
          0.04490720908331167,
          -0.026988839561970825,
          -0.0018977787789635422,
          -0.025194321173001546,
          -0.0441107151734944,
          0.03934955161814575,
          -0.038185823118798805,
          0.015394686802572624,
          0.027552527964526022,
          0.04768924321386463,
          -0.0028286036787476126,
          -0.01668455378651651,
          -0.044065929785074266,
          0.03003707238211477,
          0.03304146444435767,
          0.0195136796047424,
          -0.007086048670235226,
          -0.030605829052291846,
          0.028392197708487638,
          0.040044102099783305,
          0.009603305591466202,
          -0.005959863318311831,
          0.0253995034381896,
          0.02695417305345052,
          0.008932962139446353,
          -0.03089775070702712,
          0.009316010148045173,
          1.040496778872294,
          0.04396457661787956,
          0.9945120422154821,
          0.007373043021263528,
          0.03242738017038009,
          -0.016308048338352546,
          1.036036810708059,
          0.01754985098191185,
          0.04006496184509811,
          -0.007193316851662711,
          -0.01417501973249085,
          -0.04001300919805783,
          0.045558085125042266,
          0.02162072613444635,
          0.041479898055661685,
          -0.032126574479663994,
          -0.010005580328873977,
          -0.014900577127785697,
          0.005210594667792147,
          0.955748301590994,
          0.02273198528405479,
          -0.014616065936704704,
          0.008579937848971333,
          0.008120540943891238,
          0.008240877677364887,
          -0.04196488216199831,
          1.0471582172933112,
          0.9879899059145594,
          0.029974352238677712,
          0.02951630134783026,
          0.02146966053797103,
          0.9766484772525139,
          -0.04524111303545311,
          -0.023821408838864844,
          0.9675719320258063,
          -0.01186920343580504,
          0.9510034930708959,
          -0.04633427345507482,
          -0.00447284505542421,
          -0.02629267625459779,
          -0.02832687224162981,
          -0.045728410233110764,
          -0.030167435441200752,
          0.004112772703298219,
          0.010581950048700037,
          0.9614633977533671,
          1.0129016224773926,
          1.0186534641669998,
          0.03553034730519426,
          -0.0033417695396113153,
          0.9748116488803051,
          -0.027574571200130626,
          0.01670234079137825,
          0.9576935849008255,
          1.029130305831367,
          1.0251297290147718,
          0.9888851898336168,
          0.008720592740458319,
          0.0253614976805928,
          -0.032131234376904724,
          -0.022846895611769502,
          0.019675609578590852,
          -0.025090270955723137,
          0.024777466020681704,
          -0.005182004325809654,
          -0.047776259978964876,
          0.027052017256440283,
          0.04642470762602009,
          -0.0314846807603955,
          -0.04375959088329976,
          -0.036256871401744155,
          0.015900059730715732,
          0.014914086963436712,
          -0.010235466775768955,
          0.9855228810238885,
          0.04217419392170012,
          0.021300998376569527,
          1.040054273042947,
          -0.013850225522886964,
          -0.020174867826387822,
          1.0068095288355219,
          -0.007732249694029039,
          0.037961042980737936,
          0.9996675469143226,
          -0.016618703148728056,
          -0.032517287439150874,
          0.9743727692648172,
          0.024144130057078134,
          0.004491658831965742,
          -0.023128601071143607,
          0.0328831200113715,
          -0.03291785165220833,
          0.02946957150108949,
          0.003632744948955449,
          0.019770268867592644,
          0.049454506751859986,
          0.020327283785596784,
          0.040290330305273556,
          -0.003867179171400295,
          -0.02364631040075508,
          -0.04827867840202804,
          -0.02884324505884389,
          -0.0306353052855312,
          -0.04593355149330545,
          -0.03914126847571212,
          -0.02731070257224181,
          0.04710855040735899,
          1.035319671139037,
          0.040636562681509544,
          -0.02545799033561842,
          -0.04235593776566935,
          0.9570546286455994,
          0.015739649196834612,
          1.0290293386351694,
          -0.04915051800917282,
          -0.026781738824781444,
          -0.04089096049920246,
          -0.03401085008217755,
          -0.04730245654087918,
          1.0153222522806593,
          0.002383340222981589
         ]
        },
        {
         "line": {
          "color": "gray"
         },
         "mode": "lines",
         "name": "Least Squares",
         "type": "scatter",
         "x": [
          7.691,
          8.107714285714286,
          8.52442857142857,
          8.941142857142857,
          9.357857142857142,
          9.774571428571429,
          10.191285714285714,
          10.608,
          11.024714285714285,
          11.44142857142857,
          11.858142857142857,
          12.274857142857144,
          12.691571428571429,
          13.108285714285714,
          13.524999999999999,
          13.941714285714285,
          14.358428571428572,
          14.775142857142857,
          15.191857142857142,
          15.608571428571429,
          16.025285714285715,
          16.442,
          16.858714285714285,
          17.27542857142857,
          17.692142857142855,
          18.108857142857143,
          18.52557142857143,
          18.942285714285713,
          19.358999999999998,
          19.775714285714287,
          20.19242857142857,
          20.609142857142857,
          21.02585714285714,
          21.442571428571426,
          21.859285714285715,
          22.276,
          22.692714285714285,
          23.10942857142857,
          23.526142857142858,
          23.942857142857143,
          24.359571428571428,
          24.776285714285713,
          25.192999999999998,
          25.609714285714283,
          26.02642857142857,
          26.443142857142856,
          26.85985714285714,
          27.276571428571426,
          27.69328571428571,
          28.11
         ],
         "y": [
          -0.2592505255840679,
          -0.21809425706067354,
          -0.17693798853727927,
          -0.13578172001388478,
          -0.09462545149049051,
          -0.05346918296709602,
          -0.01231291444370175,
          0.02884335407969263,
          0.06999962260308701,
          0.11115589112648117,
          0.15231215964987577,
          0.19346842817327015,
          0.23462469669666453,
          0.2757809652200587,
          0.31693723374345306,
          0.35809350226684744,
          0.39924977079024204,
          0.4404060393136362,
          0.4815623078370306,
          0.522718576360425,
          0.5638748448838196,
          0.6050311134072137,
          0.6461873819306081,
          0.6873436504540023,
          0.7284999189773966,
          0.7696561875007912,
          0.8108124560241856,
          0.8519687245475798,
          0.8931249930709741,
          0.9342812615943688,
          0.9754375301177631,
          1.0165937986411575,
          1.0577500671645517,
          1.0989063356879458,
          1.1400626042113404,
          1.1812188727347346,
          1.2223751412581292,
          1.2635314097815233,
          1.304687678304918,
          1.345843946828312,
          1.3870002153517067,
          1.4281564838751009,
          1.469312752398495,
          1.5104690209218896,
          1.5516252894452842,
          1.5927815579686784,
          1.6339378264920725,
          1.6750940950154671,
          1.7162503635388613,
          1.757406632062256
         ]
        },
        {
         "line": {
          "color": "orange"
         },
         "mode": "lines",
         "name": "New Least Squares",
         "type": "scatter",
         "x": [
          7.691,
          8.107714285714286,
          8.52442857142857,
          8.941142857142857,
          9.357857142857142,
          9.774571428571429,
          10.191285714285714,
          10.608,
          11.024714285714285,
          11.44142857142857,
          11.858142857142857,
          12.274857142857144,
          12.691571428571429,
          13.108285714285714,
          13.524999999999999,
          13.941714285714285,
          14.358428571428572,
          14.775142857142857,
          15.191857142857142,
          15.608571428571429,
          16.025285714285715,
          16.442,
          16.858714285714285,
          17.27542857142857,
          17.692142857142855,
          18.108857142857143,
          18.52557142857143,
          18.942285714285713,
          19.358999999999998,
          19.775714285714287,
          20.19242857142857,
          20.609142857142857,
          21.02585714285714,
          21.442571428571426,
          21.859285714285715,
          22.276,
          22.692714285714285,
          23.10942857142857,
          23.526142857142858,
          23.942857142857143,
          24.359571428571428,
          24.776285714285713,
          25.192999999999998,
          25.609714285714283,
          26.02642857142857,
          26.443142857142856,
          26.85985714285714,
          27.276571428571426,
          27.69328571428571,
          28.11
         ],
         "y": [
          -0.19884722516351436,
          -0.1835240011318264,
          -0.16820077710013848,
          -0.15287755306845052,
          -0.13755432903676257,
          -0.12223110500507464,
          -0.10690788097338674,
          -0.09158465694169876,
          -0.07626143291001086,
          -0.06093820887832285,
          -0.045614984846634954,
          -0.030291760814947,
          -0.014968536783259101,
          0.00035468724842885324,
          0.015677911280116807,
          0.03100113531180476,
          0.04632435934349266,
          0.061647583375180615,
          0.07697080740686857,
          0.09229403143855647,
          0.10761725547024448,
          0.12294047950193243,
          0.13826370353362033,
          0.15358692756530823,
          0.16891015159699618,
          0.18423337562868414,
          0.19955659966037198,
          0.21487982369206005,
          0.230203047723748,
          0.24552627175543595,
          0.2608494957871238,
          0.27617271981881175,
          0.2914959438504997,
          0.30681916788218755,
          0.3221423919138755,
          0.33746561594556357,
          0.3527888399772515,
          0.36811206400893937,
          0.3834352880406273,
          0.3987585120723153,
          0.41408173610400334,
          0.42940496013569107,
          0.44472818416737914,
          0.4600514081990671,
          0.47537463223075505,
          0.4906978562624429,
          0.5060210802941308,
          0.5213443043258188,
          0.5366675283575066,
          0.5519907523891946,
          0.5673139764208827,
          0.5826372004525706,
          0.5979604244842585,
          0.6132836485159464,
          0.6286068725476344,
          0.6439300965793222,
          0.6592533206110102,
          0.6745765446426982,
          0.6898997686743861,
          0.7052229927060739,
          0.720546216737762,
          0.73586944076945,
          0.7511926648011379,
          0.7665158888328257,
          0.7818391128645138,
          0.7971623368962016,
          0.8124855609278895,
          0.8278087849595775,
          0.8431320089912656,
          0.8584552330229535,
          0.8737784570546413,
          0.8891016810863294,
          0.9044249051180172,
          0.9197481291497053,
          0.9350713531813931,
          0.950394577213081,
          0.965717801244769,
          0.9810410252764571,
          0.9963642493081449,
          1.0116874733398329,
          1.0270106973715207,
          1.0423339214032086,
          1.0576571454348964,
          1.0729803694665847,
          1.0883035934982725,
          1.1036268175299604,
          1.1189500415616482,
          1.1342732655933365,
          1.1495964896250244,
          1.1649197136567122,
          1.1802429376884,
          1.1955661617200883,
          1.2108893857517762,
          1.226212609783464,
          1.2415358338151519,
          1.2568590578468397,
          1.272182281878528,
          1.2875055059102158,
          1.3028287299419037,
          1.3181519539735915
         ]
        },
        {
         "line": {
          "color": "gray",
          "dash": "dot"
         },
         "mode": "lines",
         "name": "Least Squares Decision Boundary",
         "type": "scatter",
         "x": [
          15.378541941930807,
          15.378541941930807
         ],
         "y": [
          -0.5,
          1.5
         ]
        },
        {
         "line": {
          "color": "black",
          "dash": "dash"
         },
         "mode": "lines",
         "name": "Decision Boundary",
         "type": "scatter",
         "x": [
          16.704345580279732,
          16.704345580279732
         ],
         "y": [
          -0.5,
          1.5
         ]
        },
        {
         "marker": {
          "color": "green",
          "size": 10
         },
         "mode": "markers",
         "name": "Extreme Point",
         "type": "scatter",
         "x": [
          100
         ],
         "y": [
          1
         ]
        }
       ],
       "layout": {
        "template": {
         "data": {
          "bar": [
           {
            "error_x": {
             "color": "#2a3f5f"
            },
            "error_y": {
             "color": "#2a3f5f"
            },
            "marker": {
             "line": {
              "color": "#E5ECF6",
              "width": 0.5
             }
            },
            "type": "bar"
           }
          ],
          "barpolar": [
           {
            "marker": {
             "line": {
              "color": "#E5ECF6",
              "width": 0.5
             }
            },
            "type": "barpolar"
           }
          ],
          "carpet": [
           {
            "aaxis": {
             "endlinecolor": "#2a3f5f",
             "gridcolor": "white",
             "linecolor": "white",
             "minorgridcolor": "white",
             "startlinecolor": "#2a3f5f"
            },
            "baxis": {
             "endlinecolor": "#2a3f5f",
             "gridcolor": "white",
             "linecolor": "white",
             "minorgridcolor": "white",
             "startlinecolor": "#2a3f5f"
            },
            "type": "carpet"
           }
          ],
          "choropleth": [
           {
            "colorbar": {
             "outlinewidth": 0,
             "ticks": ""
            },
            "type": "choropleth"
           }
          ],
          "contour": [
           {
            "colorbar": {
             "outlinewidth": 0,
             "ticks": ""
            },
            "colorscale": [
             [
              0,
              "#0d0887"
             ],
             [
              0.1111111111111111,
              "#46039f"
             ],
             [
              0.2222222222222222,
              "#7201a8"
             ],
             [
              0.3333333333333333,
              "#9c179e"
             ],
             [
              0.4444444444444444,
              "#bd3786"
             ],
             [
              0.5555555555555556,
              "#d8576b"
             ],
             [
              0.6666666666666666,
              "#ed7953"
             ],
             [
              0.7777777777777778,
              "#fb9f3a"
             ],
             [
              0.8888888888888888,
              "#fdca26"
             ],
             [
              1,
              "#f0f921"
             ]
            ],
            "type": "contour"
           }
          ],
          "contourcarpet": [
           {
            "colorbar": {
             "outlinewidth": 0,
             "ticks": ""
            },
            "type": "contourcarpet"
           }
          ],
          "heatmap": [
           {
            "colorbar": {
             "outlinewidth": 0,
             "ticks": ""
            },
            "colorscale": [
             [
              0,
              "#0d0887"
             ],
             [
              0.1111111111111111,
              "#46039f"
             ],
             [
              0.2222222222222222,
              "#7201a8"
             ],
             [
              0.3333333333333333,
              "#9c179e"
             ],
             [
              0.4444444444444444,
              "#bd3786"
             ],
             [
              0.5555555555555556,
              "#d8576b"
             ],
             [
              0.6666666666666666,
              "#ed7953"
             ],
             [
              0.7777777777777778,
              "#fb9f3a"
             ],
             [
              0.8888888888888888,
              "#fdca26"
             ],
             [
              1,
              "#f0f921"
             ]
            ],
            "type": "heatmap"
           }
          ],
          "heatmapgl": [
           {
            "colorbar": {
             "outlinewidth": 0,
             "ticks": ""
            },
            "colorscale": [
             [
              0,
              "#0d0887"
             ],
             [
              0.1111111111111111,
              "#46039f"
             ],
             [
              0.2222222222222222,
              "#7201a8"
             ],
             [
              0.3333333333333333,
              "#9c179e"
             ],
             [
              0.4444444444444444,
              "#bd3786"
             ],
             [
              0.5555555555555556,
              "#d8576b"
             ],
             [
              0.6666666666666666,
              "#ed7953"
             ],
             [
              0.7777777777777778,
              "#fb9f3a"
             ],
             [
              0.8888888888888888,
              "#fdca26"
             ],
             [
              1,
              "#f0f921"
             ]
            ],
            "type": "heatmapgl"
           }
          ],
          "histogram": [
           {
            "marker": {
             "colorbar": {
              "outlinewidth": 0,
              "ticks": ""
             }
            },
            "type": "histogram"
           }
          ],
          "histogram2d": [
           {
            "colorbar": {
             "outlinewidth": 0,
             "ticks": ""
            },
            "colorscale": [
             [
              0,
              "#0d0887"
             ],
             [
              0.1111111111111111,
              "#46039f"
             ],
             [
              0.2222222222222222,
              "#7201a8"
             ],
             [
              0.3333333333333333,
              "#9c179e"
             ],
             [
              0.4444444444444444,
              "#bd3786"
             ],
             [
              0.5555555555555556,
              "#d8576b"
             ],
             [
              0.6666666666666666,
              "#ed7953"
             ],
             [
              0.7777777777777778,
              "#fb9f3a"
             ],
             [
              0.8888888888888888,
              "#fdca26"
             ],
             [
              1,
              "#f0f921"
             ]
            ],
            "type": "histogram2d"
           }
          ],
          "histogram2dcontour": [
           {
            "colorbar": {
             "outlinewidth": 0,
             "ticks": ""
            },
            "colorscale": [
             [
              0,
              "#0d0887"
             ],
             [
              0.1111111111111111,
              "#46039f"
             ],
             [
              0.2222222222222222,
              "#7201a8"
             ],
             [
              0.3333333333333333,
              "#9c179e"
             ],
             [
              0.4444444444444444,
              "#bd3786"
             ],
             [
              0.5555555555555556,
              "#d8576b"
             ],
             [
              0.6666666666666666,
              "#ed7953"
             ],
             [
              0.7777777777777778,
              "#fb9f3a"
             ],
             [
              0.8888888888888888,
              "#fdca26"
             ],
             [
              1,
              "#f0f921"
             ]
            ],
            "type": "histogram2dcontour"
           }
          ],
          "mesh3d": [
           {
            "colorbar": {
             "outlinewidth": 0,
             "ticks": ""
            },
            "type": "mesh3d"
           }
          ],
          "parcoords": [
           {
            "line": {
             "colorbar": {
              "outlinewidth": 0,
              "ticks": ""
             }
            },
            "type": "parcoords"
           }
          ],
          "pie": [
           {
            "automargin": true,
            "type": "pie"
           }
          ],
          "scatter": [
           {
            "marker": {
             "colorbar": {
              "outlinewidth": 0,
              "ticks": ""
             }
            },
            "type": "scatter"
           }
          ],
          "scatter3d": [
           {
            "line": {
             "colorbar": {
              "outlinewidth": 0,
              "ticks": ""
             }
            },
            "marker": {
             "colorbar": {
              "outlinewidth": 0,
              "ticks": ""
             }
            },
            "type": "scatter3d"
           }
          ],
          "scattercarpet": [
           {
            "marker": {
             "colorbar": {
              "outlinewidth": 0,
              "ticks": ""
             }
            },
            "type": "scattercarpet"
           }
          ],
          "scattergeo": [
           {
            "marker": {
             "colorbar": {
              "outlinewidth": 0,
              "ticks": ""
             }
            },
            "type": "scattergeo"
           }
          ],
          "scattergl": [
           {
            "marker": {
             "colorbar": {
              "outlinewidth": 0,
              "ticks": ""
             }
            },
            "type": "scattergl"
           }
          ],
          "scattermapbox": [
           {
            "marker": {
             "colorbar": {
              "outlinewidth": 0,
              "ticks": ""
             }
            },
            "type": "scattermapbox"
           }
          ],
          "scatterpolar": [
           {
            "marker": {
             "colorbar": {
              "outlinewidth": 0,
              "ticks": ""
             }
            },
            "type": "scatterpolar"
           }
          ],
          "scatterpolargl": [
           {
            "marker": {
             "colorbar": {
              "outlinewidth": 0,
              "ticks": ""
             }
            },
            "type": "scatterpolargl"
           }
          ],
          "scatterternary": [
           {
            "marker": {
             "colorbar": {
              "outlinewidth": 0,
              "ticks": ""
             }
            },
            "type": "scatterternary"
           }
          ],
          "surface": [
           {
            "colorbar": {
             "outlinewidth": 0,
             "ticks": ""
            },
            "colorscale": [
             [
              0,
              "#0d0887"
             ],
             [
              0.1111111111111111,
              "#46039f"
             ],
             [
              0.2222222222222222,
              "#7201a8"
             ],
             [
              0.3333333333333333,
              "#9c179e"
             ],
             [
              0.4444444444444444,
              "#bd3786"
             ],
             [
              0.5555555555555556,
              "#d8576b"
             ],
             [
              0.6666666666666666,
              "#ed7953"
             ],
             [
              0.7777777777777778,
              "#fb9f3a"
             ],
             [
              0.8888888888888888,
              "#fdca26"
             ],
             [
              1,
              "#f0f921"
             ]
            ],
            "type": "surface"
           }
          ],
          "table": [
           {
            "cells": {
             "fill": {
              "color": "#EBF0F8"
             },
             "line": {
              "color": "white"
             }
            },
            "header": {
             "fill": {
              "color": "#C8D4E3"
             },
             "line": {
              "color": "white"
             }
            },
            "type": "table"
           }
          ]
         },
         "layout": {
          "annotationdefaults": {
           "arrowcolor": "#2a3f5f",
           "arrowhead": 0,
           "arrowwidth": 1
          },
          "coloraxis": {
           "colorbar": {
            "outlinewidth": 0,
            "ticks": ""
           }
          },
          "colorscale": {
           "diverging": [
            [
             0,
             "#8e0152"
            ],
            [
             0.1,
             "#c51b7d"
            ],
            [
             0.2,
             "#de77ae"
            ],
            [
             0.3,
             "#f1b6da"
            ],
            [
             0.4,
             "#fde0ef"
            ],
            [
             0.5,
             "#f7f7f7"
            ],
            [
             0.6,
             "#e6f5d0"
            ],
            [
             0.7,
             "#b8e186"
            ],
            [
             0.8,
             "#7fbc41"
            ],
            [
             0.9,
             "#4d9221"
            ],
            [
             1,
             "#276419"
            ]
           ],
           "sequential": [
            [
             0,
             "#0d0887"
            ],
            [
             0.1111111111111111,
             "#46039f"
            ],
            [
             0.2222222222222222,
             "#7201a8"
            ],
            [
             0.3333333333333333,
             "#9c179e"
            ],
            [
             0.4444444444444444,
             "#bd3786"
            ],
            [
             0.5555555555555556,
             "#d8576b"
            ],
            [
             0.6666666666666666,
             "#ed7953"
            ],
            [
             0.7777777777777778,
             "#fb9f3a"
            ],
            [
             0.8888888888888888,
             "#fdca26"
            ],
            [
             1,
             "#f0f921"
            ]
           ],
           "sequentialminus": [
            [
             0,
             "#0d0887"
            ],
            [
             0.1111111111111111,
             "#46039f"
            ],
            [
             0.2222222222222222,
             "#7201a8"
            ],
            [
             0.3333333333333333,
             "#9c179e"
            ],
            [
             0.4444444444444444,
             "#bd3786"
            ],
            [
             0.5555555555555556,
             "#d8576b"
            ],
            [
             0.6666666666666666,
             "#ed7953"
            ],
            [
             0.7777777777777778,
             "#fb9f3a"
            ],
            [
             0.8888888888888888,
             "#fdca26"
            ],
            [
             1,
             "#f0f921"
            ]
           ]
          },
          "colorway": [
           "#636efa",
           "#EF553B",
           "#00cc96",
           "#ab63fa",
           "#FFA15A",
           "#19d3f3",
           "#FF6692",
           "#B6E880",
           "#FF97FF",
           "#FECB52"
          ],
          "font": {
           "color": "#2a3f5f"
          },
          "geo": {
           "bgcolor": "white",
           "lakecolor": "white",
           "landcolor": "#E5ECF6",
           "showlakes": true,
           "showland": true,
           "subunitcolor": "white"
          },
          "hoverlabel": {
           "align": "left"
          },
          "hovermode": "closest",
          "mapbox": {
           "style": "light"
          },
          "paper_bgcolor": "white",
          "plot_bgcolor": "#E5ECF6",
          "polar": {
           "angularaxis": {
            "gridcolor": "white",
            "linecolor": "white",
            "ticks": ""
           },
           "bgcolor": "#E5ECF6",
           "radialaxis": {
            "gridcolor": "white",
            "linecolor": "white",
            "ticks": ""
           }
          },
          "scene": {
           "xaxis": {
            "backgroundcolor": "#E5ECF6",
            "gridcolor": "white",
            "gridwidth": 2,
            "linecolor": "white",
            "showbackground": true,
            "ticks": "",
            "zerolinecolor": "white"
           },
           "yaxis": {
            "backgroundcolor": "#E5ECF6",
            "gridcolor": "white",
            "gridwidth": 2,
            "linecolor": "white",
            "showbackground": true,
            "ticks": "",
            "zerolinecolor": "white"
           },
           "zaxis": {
            "backgroundcolor": "#E5ECF6",
            "gridcolor": "white",
            "gridwidth": 2,
            "linecolor": "white",
            "showbackground": true,
            "ticks": "",
            "zerolinecolor": "white"
           }
          },
          "shapedefaults": {
           "line": {
            "color": "#2a3f5f"
           }
          },
          "ternary": {
           "aaxis": {
            "gridcolor": "white",
            "linecolor": "white",
            "ticks": ""
           },
           "baxis": {
            "gridcolor": "white",
            "linecolor": "white",
            "ticks": ""
           },
           "bgcolor": "#E5ECF6",
           "caxis": {
            "gridcolor": "white",
            "linecolor": "white",
            "ticks": ""
           }
          },
          "title": {
           "x": 0.05
          },
          "xaxis": {
           "automargin": true,
           "gridcolor": "white",
           "linecolor": "white",
           "ticks": "",
           "title": {
            "standoff": 15
           },
           "zerolinecolor": "white",
           "zerolinewidth": 2
          },
          "yaxis": {
           "automargin": true,
           "gridcolor": "white",
           "linecolor": "white",
           "ticks": "",
           "title": {
            "standoff": 15
           },
           "zerolinecolor": "white",
           "zerolinewidth": 2
          }
         }
        }
       }
      },
      "text/html": [
       "<div>\n",
       "        \n",
       "        \n",
       "            <div id=\"29f8e1eb-d973-4855-80b7-acff4153ef60\" class=\"plotly-graph-div\" style=\"height:525px; width:100%;\"></div>\n",
       "            <script type=\"text/javascript\">\n",
       "                require([\"plotly\"], function(Plotly) {\n",
       "                    window.PLOTLYENV=window.PLOTLYENV || {};\n",
       "                    \n",
       "                if (document.getElementById(\"29f8e1eb-d973-4855-80b7-acff4153ef60\")) {\n",
       "                    Plotly.newPlot(\n",
       "                        '29f8e1eb-d973-4855-80b7-acff4153ef60',\n",
       "                        [{\"marker\": {\"color\": \"red\", \"opacity\": 0.5}, \"mode\": \"markers\", \"name\": \"Classified as Malignant\", \"type\": \"scatter\", \"x\": [25.22, 19.69, 21.56, 15.78, 20.18, 15.78, 16.46, 16.16, 20.94, 17.93, 17.6, 20.13, 17.27, 15.7, 18.05, 17.99, 23.09, 16.07, 20.73, 21.09, 19.89, 21.1, 19.27, 17.99, 19.81, 17.75, 20.58, 22.27, 19.4, 17.35, 16.11, 18.49, 15.46, 19.21, 18.81, 17.14, 19.07, 19.16, 19.8, 16.65, 16.13, 21.75, 27.22, 21.16, 20.16, 18.65, 15.61, 17.06, 16.84, 20.48, 17.47, 20.09, 17.95, 16.69, 16.35, 16.5, 17.3, 20.59, 16.27, 17.29, 18.03, 19.18, 25.73, 24.63, 17.46, 19.44, 20.47, 20.18, 24.25, 23.29, 20.34, 16.17, 20.44, 18.82, 21.71, 15.75, 18.22, 19.53, 19.79, 19.59, 20.64, 17.08, 20.51, 23.27, 18.22, 18.08, 15.66, 18.01, 19.0, 17.91, 15.71, 16.24, 18.46, 18.31, 19.17, 16.74, 20.26, 15.75, 16.25, 15.46, 15.49, 19.4, 19.45, 20.29, 19.55, 17.42, 16.14, 17.02, 15.5, 18.45, 18.61, 17.05, 20.31, 19.59, 18.31, 19.53, 17.68, 18.77, 23.21, 17.01, 28.11, 27.42, 16.6, 17.54, 19.19, 15.53, 19.55, 20.57, 16.13, 16.3, 20.2, 23.51, 15.85, 20.92, 15.73, 19.73, 17.85, 19.68, 21.37, 19.02, 16.03, 18.66], \"y\": [0.9573940961999341, 1.0329193053908396, 0.9736398668643405, 0.9793608628629991, 0.9904487523088727, 1.0068524781234918, 1.0424972964554602, 0.9867502046109105, 0.9602470044934768, 0.9850676154814608, 1.005588701192757, 1.0276901044349835, 0.9794519065421421, 0.9707306692088584, 1.0042213208532313, 0.9856737732402137, 0.9620111977794565, 0.9627385974920728, 0.9583452569018427, 1.0233868369534105, 0.9572368884946776, 0.9944558664192196, 1.0189343704119478, 0.9512176334654494, 0.9797028264307306, 1.0092621920060922, 1.004303882188768, 0.9867258967596095, 0.9507677803825196, 0.9979662433251515, 1.0030262566554706, 1.0390622265037912, 0.9916189299105311, 1.0178357765454018, 0.9713128888370999, 0.9620391561543444, 1.0245904608673113, 1.0302311280400998, 0.9961777542941024, 0.9985779845839193, 0.9992860973022688, 1.0168006326262693, 1.0071562412052748, 0.9992943790812987, 1.0415824181517093, 1.0146339325838611, 1.0430615403762107, 1.002890943217976, 0.003030209497766556, 0.9733967764640099, 0.9806239408811628, 1.0405012458770582, 0.9943058919044621, 0.9984784824060056, 1.0389805182721152, -0.025430754252504184, 0.955375563241396, 0.9600638650715618, 0.9596886553175048, 1.0132329659474815, 0.9799758861422332, 1.0458521902384845, 0.9785476295244624, 1.0467130013887525, 0.9888831879915545, 1.0200676787752316, 0.9786253536406577, 1.0377606721998949, 0.9799067368744545, 0.9693908845767603, 1.0242248558507654, -0.012943049131381425, 1.0211124270328185, 1.0248000607592302, 1.0181703546555623, 0.9555636439149722, 1.0274545470974163, 0.9707939567959356, 1.0423129058099683, 0.9837939267752056, 0.9721070284338247, 0.9867991448856492, 0.9774952112751787, 0.9770066708978422, 0.9575305795666551, 0.961760774307316, 0.9973975701103379, 1.0350033522996203, 0.971867640237166, 1.025107159161914, 0.0196996676688998, 0.9540228131489603, 1.0270822104312167, 0.9683823614700071, 0.9911833271922479, 1.035384200486925, 0.9584864578998318, 0.9897724461162607, 1.0162652555696294, 1.029380484751473, 0.9821865978956237, 0.9614043382107809, 0.9599495688396213, 0.9596259433118042, 1.0477888971986404, 0.9581026816505256, -0.007155147617485216, 1.0384030895168492, 1.0010762673568785, 1.0081041389785412, 1.0354431517953673, 0.9777070652200246, 0.9636331808287275, 0.9695699994408196, 1.0418907233934063, 0.9669372866464652, 1.0316691246140706, 1.0289732068224644, 0.9565821265338397, 0.9564165113574563, 0.9988723678376838, 1.0166348198140762, 0.9926175927615493, 1.020842750229527, 0.9532652029301332, 1.0085743147188833, 1.0437006380247482, 1.0119176994208174, 0.9571771721562972, 0.00646566515333772, 0.9945753052791941, 1.0167589081108939, 0.9973002070072559, 1.0283857827435765, -0.02798578057610246, 1.0290408115902083, 0.015932565691638687, 0.953853903120953, 0.9674597878135018, 1.0317132292307385, 0.9958226517382973, 1.0156800995159507]}, {\"marker\": {\"color\": \"blue\", \"opacity\": 0.5}, \"mode\": \"markers\", \"name\": \"Classified as Benign\", \"type\": \"scatter\", \"x\": [13.48, 11.29, 12.86, 14.4, 12.3, 12.62, 11.81, 12.98, 13.77, 14.06, 7.729, 13.47, 14.03, 13.96, 10.75, 11.27, 11.25, 14.48, 15.32, 12.46, 12.05, 12.86, 12.0, 13.46, 15.04, 11.2, 11.22, 9.777, 13.81, 11.15, 9.738, 10.82, 11.75, 12.34, 14.44, 14.64, 11.52, 14.22, 9.029, 9.173, 10.65, 10.17, 14.54, 14.41, 11.43, 12.25, 12.36, 14.87, 9.667, 13.4, 15.22, 14.26, 11.7, 15.27, 15.34, 13.51, 10.48, 14.64, 14.45, 11.04, 10.26, 12.89, 13.4, 12.96, 15.28, 13.78, 15.1, 12.34, 8.196, 13.45, 11.32, 7.76, 14.86, 11.13, 9.72, 9.606, 10.08, 12.56, 15.13, 10.48, 12.78, 14.74, 9.904, 13.82, 12.89, 13.74, 13.37, 14.69, 12.91, 13.62, 15.0, 11.8, 14.53, 13.71, 11.36, 8.726, 13.71, 14.47, 13.54, 12.85, 12.47, 12.46, 10.86, 11.37, 13.49, 9.567, 11.06, 14.61, 7.691, 13.69, 11.46, 12.06, 13.15, 13.61, 10.26, 9.333, 11.06, 10.66, 11.84, 10.51, 12.67, 11.08, 11.04, 12.43, 14.71, 14.87, 12.87, 9.465, 13.16, 10.91, 12.25, 12.75, 14.58, 12.27, 12.16, 14.27, 15.06, 12.99, 13.27, 13.87, 13.87, 13.59, 12.45, 8.95, 13.65, 11.47, 14.42, 14.68, 12.05, 9.683, 10.97, 11.42, 12.54, 14.34, 14.58, 11.76, 12.83, 13.03, 13.21, 8.671, 11.87, 12.76, 14.86, 12.65, 11.31, 11.94, 14.96, 11.6, 12.34, 9.731, 11.27, 14.02, 10.51, 9.876, 11.57, 12.31, 13.66, 10.32, 12.21, 12.21, 12.87, 12.18, 12.04, 10.05, 14.25, 11.28, 8.618, 12.63, 12.54, 11.76, 13.0, 10.6, 11.62, 14.99, 11.89, 9.0, 9.042, 11.8, 13.9, 14.95, 13.46, 14.5, 12.18, 12.9, 9.787, 12.2, 11.85, 11.41, 13.2, 12.45, 11.95, 13.85, 15.19, 11.06, 15.05, 11.14, 12.94, 13.24, 13.05, 13.85, 13.3, 12.72, 12.0, 14.26, 12.81, 9.405, 10.94, 8.597, 8.219, 10.57, 13.2, 12.39, 11.71, 14.04, 11.22, 11.93, 11.41, 12.72, 10.57, 13.27, 9.397, 14.76, 11.51, 12.58, 9.847, 9.676, 12.36, 11.63, 14.8, 13.17, 14.97, 14.78, 11.3, 14.92, 10.9, 15.3, 12.32, 11.43, 11.68, 11.16, 14.53, 13.56, 11.34, 13.64, 13.64, 14.59, 9.668, 13.01, 10.95, 8.571, 9.876, 8.878, 12.8, 12.22, 10.96, 14.9, 13.61, 10.44, 12.88, 9.436, 13.43, 11.6, 12.95, 13.86, 8.598, 13.17, 13.59, 12.03, 12.23, 11.49, 13.66, 11.26, 12.7, 8.734, 14.95, 14.25, 12.77, 15.1, 12.77, 13.0, 14.11, 11.71, 12.68, 13.73, 13.44, 11.08, 11.71, 12.46, 11.89, 12.27, 13.85, 11.94, 11.26, 13.77, 11.69, 11.5, 14.05, 13.38, 10.49, 11.66, 10.71, 13.7, 11.99, 13.28, 10.2, 11.93, 14.22, 14.2, 13.05, 13.11, 12.07, 11.45, 15.12, 10.8, 12.62, 15.37, 10.26, 12.42, 12.49, 13.88, 9.742, 10.8, 12.88, 9.268, 13.75, 12.3, 12.83, 11.74, 13.05, 10.88, 9.504, 11.54, 9.755, 11.75, 11.33, 12.77, 14.6, 14.99, 13.5, 12.19, 14.42, 13.0, 14.19, 13.14, 13.08, 8.888, 11.64, 14.29, 13.98, 12.18], \"y\": [1.039843380484294, 0.03341229482365014, -0.04828214715200634, -0.007267532336260152, 0.04606763071784363, 0.021528710981036453, -0.026572374998196716, -0.03899904873114457, 0.997382731354272, -0.011342453765297487, 0.04039095563573676, 0.01631846160014104, 0.016469049946017625, 0.9671533834964943, -0.04536805085931668, 0.0485978900460788, 0.013474205953820498, 1.027540765938256, 1.0131180965961928, 0.9779908377578639, 0.03746022784879682, 0.03541636742190454, -0.043364151239264716, -0.028073557788982198, -0.0002996860527308548, -0.04304734359446464, 0.029287595559867263, 0.007353605492464575, 0.9801292622431366, -0.009114024228112458, -0.045735295117492185, 0.03427835151092341, -0.029223159662209355, -0.019589055512818056, -0.01158894253904029, 0.0032711663639370947, 0.0016498944084155504, -0.003453885576253292, 0.032433989290296714, -0.030326741670719894, -0.01169478963567585, 0.003346225611227313, 1.0142271872240036, -0.016057341021277864, -0.017746318162831433, -0.02602028108917003, 0.0005989940000042035, 1.0133068080206482, 0.0016083629695627377, -0.014371617323714773, 1.0417733718229119, 0.02356657958402908, 0.023011865069503576, 0.008766344116050304, 1.0294732846360841, 0.02670226254140315, 0.04941357426444122, -0.006465131611535016, 1.0325372648786004, 0.003988834705110543, 0.03695790495816094, -0.04592118866390367, 1.0403611069117695, 0.047767193044216325, 1.0370450595455443, 0.04217651227800023, 0.9724708487701563, 0.02616655472637941, -0.010465044232962198, -0.01199879300928279, -0.030107040640045137, -0.004965924342516845, 0.0479608509363917, -0.005160070199387003, -0.0016123342081062475, -0.011162971423490174, 0.02816816310241914, -0.02063666887113086, 0.9900518294919682, -0.0343163368482433, 0.02743597653759615, 0.018409044831399102, -0.006409018031792432, 1.0141444745814838, -0.0008796903300571715, -0.03360484648766221, -0.02288497089617635, -0.01296628095875102, 0.042513315564632545, -0.011330983339807997, -0.037008256017264, 0.00951158448320892, 0.036884050847526814, -0.021094045979810495, 0.01729236706684341, -0.014760716290050269, 1.0310702347137342, -0.023286445468293462, -0.034759733129191055, -0.0341876466923605, 0.01009987075934772, -0.018029232799698813, 0.009434863374779626, 0.02482141263032059, -0.004051054073987245, 0.0055455171633008934, 0.04669638857309874, 0.04352050227060793, -0.01491009408490336, -0.04765962467106786, 0.04355609861905932, -0.04207074679003451, -0.04359335455783023, 1.045607662348755, -0.01364140635482241, 0.04463954966404435, 0.014402114419640497, -0.009245348794101958, 1.0108709824897248, -0.03183455961933077, 0.0008507232426150715, 0.015222787379926037, -0.04346550996602422, -0.02506814369926709, 0.9851336124796357, -0.025430285679339693, 0.03083647303917833, 0.03646020915749068, 0.0040631764998600856, -0.03022009243177929, 0.02429218796980756, 0.012577123722304948, 0.03003633320946024, -0.02654814506180513, 0.04537379266699752, 0.9971018516573591, 0.9610768913211076, 0.0041299714529685755, -0.019518546440656794, 0.04253595871882143, -0.016297458716794555, -0.03526388830298837, 0.9765520832786505, 0.04823638577750926, -0.01066195334453305, 0.029936798304505505, -0.007031684812163375, 0.9970401061946661, 0.018850096401249336, 0.00056515901023102, -0.019013223029432137, 1.027618168718875, -0.04144807627721839, 0.04323016401972772, 0.9961862133616666, 2.7314887614815486e-05, 1.0465157294037852, 0.041055815721430564, 0.00945971496891175, -0.02952211044114609, -0.019750982170007616, -0.02832045648298306, 1.0439785347859487, -0.00846294255230573, 0.03674371080290416, -0.048640038730679326, 0.039512933479939116, 0.003934724707394033, 1.0325285492942446, -0.04628630470291672, 0.00782831850319423, -0.007101380195560246, -0.03192355727544008, -0.03209853201393856, 0.03718598444840128, 0.03326809365375143, -0.004133394564641547, -0.006257996600782557, 0.04405608831893447, 0.03731829457154226, -0.0130001468788871, 0.02250008392998279, -0.02252165409791265, 0.01363823461924829, 1.0315868624337066, 0.03717848405107389, 0.02992508713031755, 0.03888701983817282, -0.018571848101970816, 1.0071098642016403, 0.02793017157925716, 8.441597322213223e-05, 0.022787640098356682, 1.0170712203410577, 0.03499198549032499, -0.029608330168570465, -0.04554121668149717, 0.9763163504585441, 0.019241166188067454, -0.011210839586479823, -0.03641839901268379, -0.03953920820538825, -0.010756675797973222, -0.03142361147540372, 0.03350696504604292, -0.03188251181737585, -0.048184750028642254, 0.010232681720229155, -0.04897502640713454, -0.0123790548498963, -0.018107407678941555, 0.005662596230829153, 0.04895330916613842, 0.03517137022825495, 0.9931095358752016, 0.034801051906110686, 0.037842720642553104, 0.04338549761931114, 0.03138255551546401, -0.036561971033990115, 0.017913912413064906, -0.04187876436138778, 0.04490720908331167, -0.026988839561970825, -0.0018977787789635422, -0.025194321173001546, -0.0441107151734944, 0.03934955161814575, -0.038185823118798805, 0.015394686802572624, 0.027552527964526022, 0.04768924321386463, -0.0028286036787476126, -0.01668455378651651, -0.044065929785074266, 0.03003707238211477, 0.03304146444435767, 0.0195136796047424, -0.007086048670235226, -0.030605829052291846, 0.028392197708487638, 0.040044102099783305, 0.009603305591466202, -0.005959863318311831, 0.0253995034381896, 0.02695417305345052, 0.008932962139446353, -0.03089775070702712, 0.009316010148045173, 1.040496778872294, 0.04396457661787956, 0.9945120422154821, 0.007373043021263528, 0.03242738017038009, -0.016308048338352546, 1.036036810708059, 0.01754985098191185, 0.04006496184509811, -0.007193316851662711, -0.01417501973249085, -0.04001300919805783, 0.045558085125042266, 0.02162072613444635, 0.041479898055661685, -0.032126574479663994, -0.010005580328873977, -0.014900577127785697, 0.005210594667792147, 0.955748301590994, 0.02273198528405479, -0.014616065936704704, 0.008579937848971333, 0.008120540943891238, 0.008240877677364887, -0.04196488216199831, 1.0471582172933112, 0.9879899059145594, 0.029974352238677712, 0.02951630134783026, 0.02146966053797103, 0.9766484772525139, -0.04524111303545311, -0.023821408838864844, 0.9675719320258063, -0.01186920343580504, 0.9510034930708959, -0.04633427345507482, -0.00447284505542421, -0.02629267625459779, -0.02832687224162981, -0.045728410233110764, -0.030167435441200752, 0.004112772703298219, 0.010581950048700037, 0.9614633977533671, 1.0129016224773926, 1.0186534641669998, 0.03553034730519426, -0.0033417695396113153, 0.9748116488803051, -0.027574571200130626, 0.01670234079137825, 0.9576935849008255, 1.029130305831367, 1.0251297290147718, 0.9888851898336168, 0.008720592740458319, 0.0253614976805928, -0.032131234376904724, -0.022846895611769502, 0.019675609578590852, -0.025090270955723137, 0.024777466020681704, -0.005182004325809654, -0.047776259978964876, 0.027052017256440283, 0.04642470762602009, -0.0314846807603955, -0.04375959088329976, -0.036256871401744155, 0.015900059730715732, 0.014914086963436712, -0.010235466775768955, 0.9855228810238885, 0.04217419392170012, 0.021300998376569527, 1.040054273042947, -0.013850225522886964, -0.020174867826387822, 1.0068095288355219, -0.007732249694029039, 0.037961042980737936, 0.9996675469143226, -0.016618703148728056, -0.032517287439150874, 0.9743727692648172, 0.024144130057078134, 0.004491658831965742, -0.023128601071143607, 0.0328831200113715, -0.03291785165220833, 0.02946957150108949, 0.003632744948955449, 0.019770268867592644, 0.049454506751859986, 0.020327283785596784, 0.040290330305273556, -0.003867179171400295, -0.02364631040075508, -0.04827867840202804, -0.02884324505884389, -0.0306353052855312, -0.04593355149330545, -0.03914126847571212, -0.02731070257224181, 0.04710855040735899, 1.035319671139037, 0.040636562681509544, -0.02545799033561842, -0.04235593776566935, 0.9570546286455994, 0.015739649196834612, 1.0290293386351694, -0.04915051800917282, -0.026781738824781444, -0.04089096049920246, -0.03401085008217755, -0.04730245654087918, 1.0153222522806593, 0.002383340222981589]}, {\"line\": {\"color\": \"gray\"}, \"mode\": \"lines\", \"name\": \"Least Squares\", \"type\": \"scatter\", \"x\": [7.691, 8.107714285714286, 8.52442857142857, 8.941142857142857, 9.357857142857142, 9.774571428571429, 10.191285714285714, 10.608, 11.024714285714285, 11.44142857142857, 11.858142857142857, 12.274857142857144, 12.691571428571429, 13.108285714285714, 13.524999999999999, 13.941714285714285, 14.358428571428572, 14.775142857142857, 15.191857142857142, 15.608571428571429, 16.025285714285715, 16.442, 16.858714285714285, 17.27542857142857, 17.692142857142855, 18.108857142857143, 18.52557142857143, 18.942285714285713, 19.358999999999998, 19.775714285714287, 20.19242857142857, 20.609142857142857, 21.02585714285714, 21.442571428571426, 21.859285714285715, 22.276, 22.692714285714285, 23.10942857142857, 23.526142857142858, 23.942857142857143, 24.359571428571428, 24.776285714285713, 25.192999999999998, 25.609714285714283, 26.02642857142857, 26.443142857142856, 26.85985714285714, 27.276571428571426, 27.69328571428571, 28.11], \"y\": [-0.2592505255840679, -0.21809425706067354, -0.17693798853727927, -0.13578172001388478, -0.09462545149049051, -0.05346918296709602, -0.01231291444370175, 0.02884335407969263, 0.06999962260308701, 0.11115589112648117, 0.15231215964987577, 0.19346842817327015, 0.23462469669666453, 0.2757809652200587, 0.31693723374345306, 0.35809350226684744, 0.39924977079024204, 0.4404060393136362, 0.4815623078370306, 0.522718576360425, 0.5638748448838196, 0.6050311134072137, 0.6461873819306081, 0.6873436504540023, 0.7284999189773966, 0.7696561875007912, 0.8108124560241856, 0.8519687245475798, 0.8931249930709741, 0.9342812615943688, 0.9754375301177631, 1.0165937986411575, 1.0577500671645517, 1.0989063356879458, 1.1400626042113404, 1.1812188727347346, 1.2223751412581292, 1.2635314097815233, 1.304687678304918, 1.345843946828312, 1.3870002153517067, 1.4281564838751009, 1.469312752398495, 1.5104690209218896, 1.5516252894452842, 1.5927815579686784, 1.6339378264920725, 1.6750940950154671, 1.7162503635388613, 1.757406632062256]}, {\"line\": {\"color\": \"orange\"}, \"mode\": \"lines\", \"name\": \"New Least Squares\", \"type\": \"scatter\", \"x\": [7.691, 8.107714285714286, 8.52442857142857, 8.941142857142857, 9.357857142857142, 9.774571428571429, 10.191285714285714, 10.608, 11.024714285714285, 11.44142857142857, 11.858142857142857, 12.274857142857144, 12.691571428571429, 13.108285714285714, 13.524999999999999, 13.941714285714285, 14.358428571428572, 14.775142857142857, 15.191857142857142, 15.608571428571429, 16.025285714285715, 16.442, 16.858714285714285, 17.27542857142857, 17.692142857142855, 18.108857142857143, 18.52557142857143, 18.942285714285713, 19.358999999999998, 19.775714285714287, 20.19242857142857, 20.609142857142857, 21.02585714285714, 21.442571428571426, 21.859285714285715, 22.276, 22.692714285714285, 23.10942857142857, 23.526142857142858, 23.942857142857143, 24.359571428571428, 24.776285714285713, 25.192999999999998, 25.609714285714283, 26.02642857142857, 26.443142857142856, 26.85985714285714, 27.276571428571426, 27.69328571428571, 28.11], \"y\": [-0.19884722516351436, -0.1835240011318264, -0.16820077710013848, -0.15287755306845052, -0.13755432903676257, -0.12223110500507464, -0.10690788097338674, -0.09158465694169876, -0.07626143291001086, -0.06093820887832285, -0.045614984846634954, -0.030291760814947, -0.014968536783259101, 0.00035468724842885324, 0.015677911280116807, 0.03100113531180476, 0.04632435934349266, 0.061647583375180615, 0.07697080740686857, 0.09229403143855647, 0.10761725547024448, 0.12294047950193243, 0.13826370353362033, 0.15358692756530823, 0.16891015159699618, 0.18423337562868414, 0.19955659966037198, 0.21487982369206005, 0.230203047723748, 0.24552627175543595, 0.2608494957871238, 0.27617271981881175, 0.2914959438504997, 0.30681916788218755, 0.3221423919138755, 0.33746561594556357, 0.3527888399772515, 0.36811206400893937, 0.3834352880406273, 0.3987585120723153, 0.41408173610400334, 0.42940496013569107, 0.44472818416737914, 0.4600514081990671, 0.47537463223075505, 0.4906978562624429, 0.5060210802941308, 0.5213443043258188, 0.5366675283575066, 0.5519907523891946, 0.5673139764208827, 0.5826372004525706, 0.5979604244842585, 0.6132836485159464, 0.6286068725476344, 0.6439300965793222, 0.6592533206110102, 0.6745765446426982, 0.6898997686743861, 0.7052229927060739, 0.720546216737762, 0.73586944076945, 0.7511926648011379, 0.7665158888328257, 0.7818391128645138, 0.7971623368962016, 0.8124855609278895, 0.8278087849595775, 0.8431320089912656, 0.8584552330229535, 0.8737784570546413, 0.8891016810863294, 0.9044249051180172, 0.9197481291497053, 0.9350713531813931, 0.950394577213081, 0.965717801244769, 0.9810410252764571, 0.9963642493081449, 1.0116874733398329, 1.0270106973715207, 1.0423339214032086, 1.0576571454348964, 1.0729803694665847, 1.0883035934982725, 1.1036268175299604, 1.1189500415616482, 1.1342732655933365, 1.1495964896250244, 1.1649197136567122, 1.1802429376884, 1.1955661617200883, 1.2108893857517762, 1.226212609783464, 1.2415358338151519, 1.2568590578468397, 1.272182281878528, 1.2875055059102158, 1.3028287299419037, 1.3181519539735915]}, {\"line\": {\"color\": \"gray\", \"dash\": \"dot\"}, \"mode\": \"lines\", \"name\": \"Least Squares Decision Boundary\", \"type\": \"scatter\", \"x\": [15.378541941930807, 15.378541941930807], \"y\": [-0.5, 1.5]}, {\"line\": {\"color\": \"black\", \"dash\": \"dash\"}, \"mode\": \"lines\", \"name\": \"Decision Boundary\", \"type\": \"scatter\", \"x\": [16.704345580279732, 16.704345580279732], \"y\": [-0.5, 1.5]}, {\"marker\": {\"color\": \"green\", \"size\": 10}, \"mode\": \"markers\", \"name\": \"Extreme Point\", \"type\": \"scatter\", \"x\": [100], \"y\": [1]}],\n",
       "                        {\"template\": {\"data\": {\"bar\": [{\"error_x\": {\"color\": \"#2a3f5f\"}, \"error_y\": {\"color\": \"#2a3f5f\"}, \"marker\": {\"line\": {\"color\": \"#E5ECF6\", \"width\": 0.5}}, \"type\": \"bar\"}], \"barpolar\": [{\"marker\": {\"line\": {\"color\": \"#E5ECF6\", \"width\": 0.5}}, \"type\": \"barpolar\"}], \"carpet\": [{\"aaxis\": {\"endlinecolor\": \"#2a3f5f\", \"gridcolor\": \"white\", \"linecolor\": \"white\", \"minorgridcolor\": \"white\", \"startlinecolor\": \"#2a3f5f\"}, \"baxis\": {\"endlinecolor\": \"#2a3f5f\", \"gridcolor\": \"white\", \"linecolor\": \"white\", \"minorgridcolor\": \"white\", \"startlinecolor\": \"#2a3f5f\"}, \"type\": \"carpet\"}], \"choropleth\": [{\"colorbar\": {\"outlinewidth\": 0, \"ticks\": \"\"}, \"type\": \"choropleth\"}], \"contour\": [{\"colorbar\": {\"outlinewidth\": 0, \"ticks\": \"\"}, \"colorscale\": [[0.0, \"#0d0887\"], [0.1111111111111111, \"#46039f\"], [0.2222222222222222, \"#7201a8\"], [0.3333333333333333, \"#9c179e\"], [0.4444444444444444, \"#bd3786\"], [0.5555555555555556, \"#d8576b\"], [0.6666666666666666, \"#ed7953\"], [0.7777777777777778, \"#fb9f3a\"], [0.8888888888888888, \"#fdca26\"], [1.0, \"#f0f921\"]], \"type\": \"contour\"}], \"contourcarpet\": [{\"colorbar\": {\"outlinewidth\": 0, \"ticks\": \"\"}, \"type\": \"contourcarpet\"}], \"heatmap\": [{\"colorbar\": {\"outlinewidth\": 0, \"ticks\": \"\"}, \"colorscale\": [[0.0, \"#0d0887\"], [0.1111111111111111, \"#46039f\"], [0.2222222222222222, \"#7201a8\"], [0.3333333333333333, \"#9c179e\"], [0.4444444444444444, \"#bd3786\"], [0.5555555555555556, \"#d8576b\"], [0.6666666666666666, \"#ed7953\"], [0.7777777777777778, \"#fb9f3a\"], [0.8888888888888888, \"#fdca26\"], [1.0, \"#f0f921\"]], \"type\": \"heatmap\"}], \"heatmapgl\": [{\"colorbar\": {\"outlinewidth\": 0, \"ticks\": \"\"}, \"colorscale\": [[0.0, \"#0d0887\"], [0.1111111111111111, \"#46039f\"], [0.2222222222222222, \"#7201a8\"], [0.3333333333333333, \"#9c179e\"], [0.4444444444444444, \"#bd3786\"], [0.5555555555555556, \"#d8576b\"], [0.6666666666666666, \"#ed7953\"], [0.7777777777777778, \"#fb9f3a\"], [0.8888888888888888, \"#fdca26\"], [1.0, \"#f0f921\"]], \"type\": \"heatmapgl\"}], \"histogram\": [{\"marker\": {\"colorbar\": {\"outlinewidth\": 0, \"ticks\": \"\"}}, \"type\": \"histogram\"}], \"histogram2d\": [{\"colorbar\": {\"outlinewidth\": 0, \"ticks\": \"\"}, \"colorscale\": [[0.0, \"#0d0887\"], [0.1111111111111111, \"#46039f\"], [0.2222222222222222, \"#7201a8\"], [0.3333333333333333, \"#9c179e\"], [0.4444444444444444, \"#bd3786\"], [0.5555555555555556, \"#d8576b\"], [0.6666666666666666, \"#ed7953\"], [0.7777777777777778, \"#fb9f3a\"], [0.8888888888888888, \"#fdca26\"], [1.0, \"#f0f921\"]], \"type\": \"histogram2d\"}], \"histogram2dcontour\": [{\"colorbar\": {\"outlinewidth\": 0, \"ticks\": \"\"}, \"colorscale\": [[0.0, \"#0d0887\"], [0.1111111111111111, \"#46039f\"], [0.2222222222222222, \"#7201a8\"], [0.3333333333333333, \"#9c179e\"], [0.4444444444444444, \"#bd3786\"], [0.5555555555555556, \"#d8576b\"], [0.6666666666666666, \"#ed7953\"], [0.7777777777777778, \"#fb9f3a\"], [0.8888888888888888, \"#fdca26\"], [1.0, \"#f0f921\"]], \"type\": \"histogram2dcontour\"}], \"mesh3d\": [{\"colorbar\": {\"outlinewidth\": 0, \"ticks\": \"\"}, \"type\": \"mesh3d\"}], \"parcoords\": [{\"line\": {\"colorbar\": {\"outlinewidth\": 0, \"ticks\": \"\"}}, \"type\": \"parcoords\"}], \"pie\": [{\"automargin\": true, \"type\": \"pie\"}], \"scatter\": [{\"marker\": {\"colorbar\": {\"outlinewidth\": 0, \"ticks\": \"\"}}, \"type\": \"scatter\"}], \"scatter3d\": [{\"line\": {\"colorbar\": {\"outlinewidth\": 0, \"ticks\": \"\"}}, \"marker\": {\"colorbar\": {\"outlinewidth\": 0, \"ticks\": \"\"}}, \"type\": \"scatter3d\"}], \"scattercarpet\": [{\"marker\": {\"colorbar\": {\"outlinewidth\": 0, \"ticks\": \"\"}}, \"type\": \"scattercarpet\"}], \"scattergeo\": [{\"marker\": {\"colorbar\": {\"outlinewidth\": 0, \"ticks\": \"\"}}, \"type\": \"scattergeo\"}], \"scattergl\": [{\"marker\": {\"colorbar\": {\"outlinewidth\": 0, \"ticks\": \"\"}}, \"type\": \"scattergl\"}], \"scattermapbox\": [{\"marker\": {\"colorbar\": {\"outlinewidth\": 0, \"ticks\": \"\"}}, \"type\": \"scattermapbox\"}], \"scatterpolar\": [{\"marker\": {\"colorbar\": {\"outlinewidth\": 0, \"ticks\": \"\"}}, \"type\": \"scatterpolar\"}], \"scatterpolargl\": [{\"marker\": {\"colorbar\": {\"outlinewidth\": 0, \"ticks\": \"\"}}, \"type\": \"scatterpolargl\"}], \"scatterternary\": [{\"marker\": {\"colorbar\": {\"outlinewidth\": 0, \"ticks\": \"\"}}, \"type\": \"scatterternary\"}], \"surface\": [{\"colorbar\": {\"outlinewidth\": 0, \"ticks\": \"\"}, \"colorscale\": [[0.0, \"#0d0887\"], [0.1111111111111111, \"#46039f\"], [0.2222222222222222, \"#7201a8\"], [0.3333333333333333, \"#9c179e\"], [0.4444444444444444, \"#bd3786\"], [0.5555555555555556, \"#d8576b\"], [0.6666666666666666, \"#ed7953\"], [0.7777777777777778, \"#fb9f3a\"], [0.8888888888888888, \"#fdca26\"], [1.0, \"#f0f921\"]], \"type\": \"surface\"}], \"table\": [{\"cells\": {\"fill\": {\"color\": \"#EBF0F8\"}, \"line\": {\"color\": \"white\"}}, \"header\": {\"fill\": {\"color\": \"#C8D4E3\"}, \"line\": {\"color\": \"white\"}}, \"type\": \"table\"}]}, \"layout\": {\"annotationdefaults\": {\"arrowcolor\": \"#2a3f5f\", \"arrowhead\": 0, \"arrowwidth\": 1}, \"coloraxis\": {\"colorbar\": {\"outlinewidth\": 0, \"ticks\": \"\"}}, \"colorscale\": {\"diverging\": [[0, \"#8e0152\"], [0.1, \"#c51b7d\"], [0.2, \"#de77ae\"], [0.3, \"#f1b6da\"], [0.4, \"#fde0ef\"], [0.5, \"#f7f7f7\"], [0.6, \"#e6f5d0\"], [0.7, \"#b8e186\"], [0.8, \"#7fbc41\"], [0.9, \"#4d9221\"], [1, \"#276419\"]], \"sequential\": [[0.0, \"#0d0887\"], [0.1111111111111111, \"#46039f\"], [0.2222222222222222, \"#7201a8\"], [0.3333333333333333, \"#9c179e\"], [0.4444444444444444, \"#bd3786\"], [0.5555555555555556, \"#d8576b\"], [0.6666666666666666, \"#ed7953\"], [0.7777777777777778, \"#fb9f3a\"], [0.8888888888888888, \"#fdca26\"], [1.0, \"#f0f921\"]], \"sequentialminus\": [[0.0, \"#0d0887\"], [0.1111111111111111, \"#46039f\"], [0.2222222222222222, \"#7201a8\"], [0.3333333333333333, \"#9c179e\"], [0.4444444444444444, \"#bd3786\"], [0.5555555555555556, \"#d8576b\"], [0.6666666666666666, \"#ed7953\"], [0.7777777777777778, \"#fb9f3a\"], [0.8888888888888888, \"#fdca26\"], [1.0, \"#f0f921\"]]}, \"colorway\": [\"#636efa\", \"#EF553B\", \"#00cc96\", \"#ab63fa\", \"#FFA15A\", \"#19d3f3\", \"#FF6692\", \"#B6E880\", \"#FF97FF\", \"#FECB52\"], \"font\": {\"color\": \"#2a3f5f\"}, \"geo\": {\"bgcolor\": \"white\", \"lakecolor\": \"white\", \"landcolor\": \"#E5ECF6\", \"showlakes\": true, \"showland\": true, \"subunitcolor\": \"white\"}, \"hoverlabel\": {\"align\": \"left\"}, \"hovermode\": \"closest\", \"mapbox\": {\"style\": \"light\"}, \"paper_bgcolor\": \"white\", \"plot_bgcolor\": \"#E5ECF6\", \"polar\": {\"angularaxis\": {\"gridcolor\": \"white\", \"linecolor\": \"white\", \"ticks\": \"\"}, \"bgcolor\": \"#E5ECF6\", \"radialaxis\": {\"gridcolor\": \"white\", \"linecolor\": \"white\", \"ticks\": \"\"}}, \"scene\": {\"xaxis\": {\"backgroundcolor\": \"#E5ECF6\", \"gridcolor\": \"white\", \"gridwidth\": 2, \"linecolor\": \"white\", \"showbackground\": true, \"ticks\": \"\", \"zerolinecolor\": \"white\"}, \"yaxis\": {\"backgroundcolor\": \"#E5ECF6\", \"gridcolor\": \"white\", \"gridwidth\": 2, \"linecolor\": \"white\", \"showbackground\": true, \"ticks\": \"\", \"zerolinecolor\": \"white\"}, \"zaxis\": {\"backgroundcolor\": \"#E5ECF6\", \"gridcolor\": \"white\", \"gridwidth\": 2, \"linecolor\": \"white\", \"showbackground\": true, \"ticks\": \"\", \"zerolinecolor\": \"white\"}}, \"shapedefaults\": {\"line\": {\"color\": \"#2a3f5f\"}}, \"ternary\": {\"aaxis\": {\"gridcolor\": \"white\", \"linecolor\": \"white\", \"ticks\": \"\"}, \"baxis\": {\"gridcolor\": \"white\", \"linecolor\": \"white\", \"ticks\": \"\"}, \"bgcolor\": \"#E5ECF6\", \"caxis\": {\"gridcolor\": \"white\", \"linecolor\": \"white\", \"ticks\": \"\"}}, \"title\": {\"x\": 0.05}, \"xaxis\": {\"automargin\": true, \"gridcolor\": \"white\", \"linecolor\": \"white\", \"ticks\": \"\", \"title\": {\"standoff\": 15}, \"zerolinecolor\": \"white\", \"zerolinewidth\": 2}, \"yaxis\": {\"automargin\": true, \"gridcolor\": \"white\", \"linecolor\": \"white\", \"ticks\": \"\", \"title\": {\"standoff\": 15}, \"zerolinecolor\": \"white\", \"zerolinewidth\": 2}}}},\n",
       "                        {\"responsive\": true}\n",
       "                    ).then(function(){\n",
       "                            \n",
       "var gd = document.getElementById('29f8e1eb-d973-4855-80b7-acff4153ef60');\n",
       "var x = new MutationObserver(function (mutations, observer) {{\n",
       "        var display = window.getComputedStyle(gd).display;\n",
       "        if (!display || display === 'none') {{\n",
       "            console.log([gd, 'removed!']);\n",
       "            Plotly.purge(gd);\n",
       "            observer.disconnect();\n",
       "        }}\n",
       "}});\n",
       "\n",
       "// Listen for the removal of the full notebook cells\n",
       "var notebookContainer = gd.closest('#notebook-container');\n",
       "if (notebookContainer) {{\n",
       "    x.observe(notebookContainer, {childList: true});\n",
       "}}\n",
       "\n",
       "// Listen for the clearing of the current output cell\n",
       "var outputEl = gd.closest('.output');\n",
       "if (outputEl) {{\n",
       "    x.observe(outputEl, {childList: true});\n",
       "}}\n",
       "\n",
       "                        })\n",
       "                };\n",
       "                });\n",
       "            </script>\n",
       "        </div>"
      ]
     },
     "metadata": {},
     "output_type": "display_data"
    }
   ],
   "source": [
    "extreme_point = go.Scatter(\n",
    "    name=\"Extreme Point\", x=[100], y=[1], mode=\"markers\", \n",
    "    marker=dict(color=\"green\", size=10))\n",
    "model_line.line.color = \"gray\"\n",
    "\n",
    "\n",
    "X_plt_ex = np.expand_dims(np.linspace(np.min(X)-5, np.max(X)+5, 100),1)\n",
    "model_line_ex = go.Scatter(name=\"New Least Squares\",\n",
    "                           x=X_plt.flatten(), y=lin_reg_ex.predict(X_plt_ex), \n",
    "                           mode=\"lines\", line=dict(color=\"orange\"))\n",
    "\n",
    "dec_line.line.color = \"gray\"\n",
    "dec_boundary_ex = (0.5 - lin_reg_ex.intercept_)/lin_reg_ex.coef_[0]\n",
    "dec_line_ex = go.Scatter(\n",
    "    name=\"Decision Boundary\", \n",
    "    x = [dec_boundary_ex, dec_boundary_ex], y=[-0.5,1.5], mode=\"lines\",\n",
    "    line=dict(color=\"black\", dash=\"dash\"))\n",
    "\n",
    "\n",
    "\n",
    "go.Figure([mal_points, ben_points,model_line, model_line_ex, dec_line, dec_line_ex, extreme_point])"
   ]
  },
  {
   "cell_type": "markdown",
   "metadata": {},
   "source": [
    "The addition of the extreme point shifted the linear model from the gray Least Squares line to the new Orange Least squares line.  This shift actually moved the decision boundary and produced a **less accurate** model!  This is a little surprising.  Indeed, if we keep increasing the size of this one tumor we can cause the model to incorrectly classify all the smaller malignant tumors as benign.  "
   ]
  },
  {
   "cell_type": "code",
   "execution_count": 29,
   "metadata": {
    "ExecuteTime": {
     "end_time": "2018-04-02T16:09:16.748183Z",
     "start_time": "2018-04-02T16:09:16.743636Z"
    }
   },
   "outputs": [
    {
     "name": "stdout",
     "output_type": "stream",
     "text": [
      "Before: 0.13450292397660824\n",
      "After: 0.17543859649122806\n"
     ]
    }
   ],
   "source": [
    "print(\"Before:\", \n",
    "      zero_one_loss(Y_ex, lin_reg.predict(X_ex) > 0.5))\n",
    "print(\"After:\", \n",
    "      zero_one_loss(Y_ex, lin_reg_ex.predict(X_ex) > 0.5))"
   ]
  },
  {
   "cell_type": "markdown",
   "metadata": {},
   "source": [
    "To address this problem, we need to both adjust our model and also introduce a loss function that is more appropriate for the classification task.  In the next notebook, we introduce the logistic regression model and negative log-likelihood (cross entropy) loss. "
   ]
  }
 ],
 "metadata": {
  "kernelspec": {
   "display_name": "Python 3",
   "language": "python",
   "name": "python3"
  },
  "language_info": {
   "codemirror_mode": {
    "name": "ipython",
    "version": 3
   },
   "file_extension": ".py",
   "mimetype": "text/x-python",
   "name": "python",
   "nbconvert_exporter": "python",
   "pygments_lexer": "ipython3",
   "version": "3.7.5"
  },
  "toc": {
   "colors": {
    "hover_highlight": "#DAA520",
    "navigate_num": "#000000",
    "navigate_text": "#333333",
    "running_highlight": "#FF0000",
    "selected_highlight": "#FFD700",
    "sidebar_border": "#EEEEEE",
    "wrapper_background": "#FFFFFF"
   },
   "moveMenuLeft": true,
   "nav_menu": {
    "height": "512px",
    "width": "252px"
   },
   "navigate_menu": true,
   "number_sections": true,
   "sideBar": true,
   "threshold": 4,
   "toc_cell": false,
   "toc_section_display": "block",
   "toc_window_display": false,
   "widenNotebook": false
  }
 },
 "nbformat": 4,
 "nbformat_minor": 4
}
