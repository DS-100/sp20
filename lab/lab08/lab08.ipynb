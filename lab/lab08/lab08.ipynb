{
 "cells": [
  {
   "cell_type": "code",
   "execution_count": null,
   "metadata": {
    "deletable": false,
    "editable": false
   },
   "outputs": [],
   "source": [
    "# Initialize OK\n",
    "from client.api.notebook import Notebook\n",
    "ok = Notebook('lab08.ok')"
   ]
  },
  {
   "cell_type": "markdown",
   "metadata": {},
   "source": [
    "# Lab 8: Regularization"
   ]
  },
  {
   "cell_type": "markdown",
   "metadata": {},
   "source": [
    "In this lab, you will go through the practice of using regularization to reduce overfitting. \n",
    "\n",
    "### Due Date ###\n",
    "The assignment is due on **Monday, April 13th at 11:59pm PST**.\n",
    "\n",
    "### Collaboration Policy\n",
    "Data science is a collaborative activity. While you may talk with others about this assignment, we ask that you **write your solutions individually**. If you discuss the assignment with others, please **include their names** in the cell below."
   ]
  },
  {
   "cell_type": "markdown",
   "metadata": {},
   "source": [
    "**Collaborators:** *list names here*"
   ]
  },
  {
   "cell_type": "code",
   "execution_count": null,
   "metadata": {},
   "outputs": [],
   "source": [
    "# Run this cell to set up your notebook\n",
    "import seaborn as sns\n",
    "import csv\n",
    "import numpy as np\n",
    "import pandas as pd\n",
    "import matplotlib.pyplot as plt\n",
    "from sklearn.model_selection import train_test_split\n",
    "import sklearn.linear_model as lm\n",
    "from sklearn.pipeline import Pipeline\n",
    "from sklearn.model_selection import cross_val_score\n",
    "from sklearn.preprocessing import StandardScaler\n",
    "\n",
    "from IPython.display import display, Latex, Markdown"
   ]
  },
  {
   "cell_type": "markdown",
   "metadata": {},
   "source": [
    "In this lab, we will use the same dataset as in Lab 7. Run the following cell to load the data into a dataframe:"
   ]
  },
  {
   "cell_type": "code",
   "execution_count": null,
   "metadata": {},
   "outputs": [],
   "source": [
    "from sklearn.datasets import load_boston\n",
    "boston_data = load_boston()\n",
    "#print(boston_data['DESCR']) # Uncomment this line if you are interested in what the features are\n",
    "\n",
    "boston = pd.DataFrame(boston_data['data'], columns=boston_data['feature_names'])\n",
    "boston.head()"
   ]
  },
  {
   "cell_type": "markdown",
   "metadata": {},
   "source": [
    "Recall that in Lab 7, we started with a linear model using the full set of features from the `boston` dataframe, expanded the feature set by adding the square, square root, and hyperbolic tangent of every feature in the original dataframe, and used cross-validation to select the best first $N$ features from the expanded feature set. "
   ]
  },
  {
   "cell_type": "markdown",
   "metadata": {},
   "source": [
    "Please run the following cell to expand the feature set by adding the square, square root, and hyperbolic tangent of every feature in the original dataframe like we did in Lab 7. Now the feature matrix has 52 features."
   ]
  },
  {
   "cell_type": "code",
   "execution_count": null,
   "metadata": {
    "scrolled": true
   },
   "outputs": [],
   "source": [
    "boston_with_extra_features = boston.copy()\n",
    "for feature_name in boston.columns:\n",
    "    boston_with_extra_features[feature_name + \"^2\"] = boston_with_extra_features[feature_name] ** 2\n",
    "    boston_with_extra_features[\"sqrt\" + feature_name] = np.sqrt(boston_with_extra_features[feature_name])\n",
    "    boston_with_extra_features[\"tanh\" + feature_name] = np.tanh(boston_with_extra_features[feature_name])\n",
    "    \n",
    "boston_with_extra_features.head(5)"
   ]
  },
  {
   "cell_type": "code",
   "execution_count": null,
   "metadata": {},
   "outputs": [],
   "source": [
    "X = boston_with_extra_features\n",
    "Y = boston_data['target']"
   ]
  },
  {
   "cell_type": "markdown",
   "metadata": {},
   "source": [
    "However, recall from Lab 7 that when we plot the training and test error as we add each additional feature, our model begins to overfit. That is, even though the training error continues to decrease, the test error starts to increase. This is undesirable as the goal of machine learning is that our model should generalize well to unseen data.\n",
    "\n",
    "In Lab 7, we used cross validation to find the best \"first $N$\" features. One drawback of this method is that we are not considering every subset of the features. In fact, we only compared the perfomance of models trained from 52 different feature sets. We can in theory use cross-validation on all possible subsets of the $52$ features, which will involving doing cross-validation on\n",
    "$$2^{52} - 1 \\approx 4.5 \\times 10^{15}$$  \n",
    "different feature sets, which can be computationally challenging."
   ]
  },
  {
   "cell_type": "markdown",
   "metadata": {},
   "source": [
    "Alteratively, we can use lasso regularization to perform automatic feature selection. And in general, we can use regularization to avoid overfitting. The idea of regularization is to penalize the weights $\\theta$ corresponding to the features through some function $Reg(\\theta)$ in the loss. Hence our objective is to compute the following:\n",
    "\n",
    "$$\n",
    "\\hat{\\theta} = \\arg \\min\\limits_{\\theta} \\frac{1}{n}\\sum\\limits_{i=1}^{n} Loss(Y_i, f_{\\theta}(X_i)) + \\alpha Reg(\\theta)\n",
    "$$\n",
    "where $\\alpha$ is a hyperparameter. \n",
    "\n",
    "In the following questions we will examine two commonly used regularization functions ($d$ is the number of features used):\n",
    "\n",
    "(1) Lasso: $\\text{Reg}^{\\text{lasso}}(\\theta) = \\sum_{i=1}^{d} |\\theta_i|$\n",
    "\n",
    "(2) Ridge: $\\text{Reg}^{\\text{ridge}}(\\theta) = \\sum_{i=1}^{d} \\theta_i^2$"
   ]
  },
  {
   "cell_type": "markdown",
   "metadata": {
    "deletable": false,
    "editable": false
   },
   "source": [
    "## Question 1\n",
    "\n",
    "Before we fit a linear model with regularization, we need to first normalize our features. This is because if different features are on different magnitude scales, the magnitude of the corresponding weights for a good model may be very different. However, we penalize the weight for each feature equally in regularization. \n",
    "\n",
    "You can standardize a feature by computing: \n",
    "$$\n",
    "z = \\frac{x - \\text{Mean}(x)}{\\text{StdDev}(x)}\n",
    "$$\n",
    "\n",
    "In the cell below, complete the `normalize` function which returns the standardized version of input `data`. If $\\text{StdDev}(x)$ is $0$ for a feature, fill in $0$'s for the standardized values for this feature.\n",
    "\n",
    "<!--\n",
    "BEGIN QUESTION\n",
    "name: q1\n",
    "-->"
   ]
  },
  {
   "cell_type": "code",
   "execution_count": null,
   "metadata": {
    "scrolled": true
   },
   "outputs": [],
   "source": [
    "def normalize(data):\n",
    "    '''\n",
    "    Args:\n",
    "        data : a dataframe\n",
    "    Returns:\n",
    "        the normalized version of input data with NAN values filled with 0's\n",
    "    '''\n",
    "    ...\n",
    "\n",
    "X_normalized = normalize(X)\n",
    "X_normalized.head()"
   ]
  },
  {
   "cell_type": "code",
   "execution_count": null,
   "metadata": {
    "deletable": false,
    "editable": false
   },
   "outputs": [],
   "source": [
    "ok.grade(\"q1\");"
   ]
  },
  {
   "cell_type": "markdown",
   "metadata": {},
   "source": [
    "Note that we asked you to implement the normalize function yourself above to help you gain familiarity with what is means by normalizing the data. However, for the rest of the lab, we will use the [StandardScaler](https://scikit-learn.org/stable/modules/generated/sklearn.preprocessing.StandardScaler.html) function from sklearn."
   ]
  },
  {
   "cell_type": "markdown",
   "metadata": {},
   "source": [
    "Now we will split the dataset into training set and test set. Then we compute the normalized version of them."
   ]
  },
  {
   "cell_type": "code",
   "execution_count": null,
   "metadata": {},
   "outputs": [],
   "source": [
    "# Train & Test split\n",
    "np.random.seed(41) # Do not change this line\n",
    "X_train, X_test, Y_train, Y_test = train_test_split(X, Y, test_size = 0.10)\n",
    "X_train_normalized = StandardScaler().fit_transform(X_train)\n",
    "X_test_normalized = StandardScaler().fit_transform(X_test)"
   ]
  },
  {
   "cell_type": "markdown",
   "metadata": {},
   "source": [
    "## Ridge Regression\n"
   ]
  },
  {
   "cell_type": "markdown",
   "metadata": {},
   "source": [
    "If we use ridge regression and assume our loss is $L_2$ loss, we solve the following optimization problem: \n",
    "$$\n",
    "\\hat{\\theta} = \\arg \\min\\limits_{\\theta} \\frac{1}{n}\\sum\\limits_{i=1}^{n} L_2(Y_i, f_{\\theta}(X_i)) + \\alpha \\sum\\limits_{k=1}^{d}\\theta_k^2.\n",
    "$$\n",
    "where $\\alpha$ is a nonnegative hyper-parameter. \n",
    "\n",
    "One nice thing about ridge linear regression with L-2 loss is that it admits a closed form solution even if $X^{\\top}X$ is not full rank. The closed form solution is given by\n",
    "$$\n",
    "\\hat{\\theta} = (X^{\\top}X + n\\alpha I)^{-1}X^{\\top}Y\n",
    "$$\n",
    "for the above optimization problem.\n",
    "\n",
    "To evaluate model performance, we define RMSE in the following cell:"
   ]
  },
  {
   "cell_type": "code",
   "execution_count": null,
   "metadata": {},
   "outputs": [],
   "source": [
    "def rmse_score(model, X, y):\n",
    "    return np.sqrt(np.mean((y - model.predict(X)) ** 2))"
   ]
  },
  {
   "cell_type": "markdown",
   "metadata": {
    "deletable": false,
    "editable": false
   },
   "source": [
    "## Question 2a\n",
    "\n",
    "Use `sklearn.linear_model.ridge` to fit ridge linear regression models and compute the RMSE using \n",
    "**5-fold** cross-validation. \n",
    "\n",
    "**Note: the data should be normalized after splitting the data in general.** For this question, to normalize the data, please use the function [StandardScaler](https://scikit-learn.org/stable/modules/generated/sklearn.preprocessing.StandardScaler.html). Please use this function in combination with [Pipeline](https://scikit-learn.org/stable/modules/generated/sklearn.pipeline.Pipeline.html), [cross_val_score](https://scikit-learn.org/stable/modules/generated/sklearn.model_selection.cross_val_score.html), and function `rmse_score` defined previously to complete the code in the cell below. \n",
    "\n",
    "<!--\n",
    "BEGIN QUESTION\n",
    "name: q2a\n",
    "-->"
   ]
  },
  {
   "cell_type": "code",
   "execution_count": null,
   "metadata": {},
   "outputs": [],
   "source": [
    "from sklearn.linear_model import Ridge\n",
    "\n",
    "alpha = 0.1 # The regularization hyperparameter\n",
    "\n",
    "# Initiate a model with the hyperparameter `alpha`\n",
    "# Hint: the syntax should look like: Pipeline([(\"transformer\", ..., (\"LinearModel\", ...)])\n",
    "model = ... \n",
    "\n",
    "# Evaluate the RMSE of the validation error\n",
    "# Hint: Don't forget to take the mean!\n",
    "validation_error = ...\n",
    "\n",
    "\n",
    "print(\"Validation RMSE:\", validation_error)"
   ]
  },
  {
   "cell_type": "code",
   "execution_count": null,
   "metadata": {
    "deletable": false,
    "editable": false
   },
   "outputs": [],
   "source": [
    "ok.grade(\"q2a\");"
   ]
  },
  {
   "cell_type": "markdown",
   "metadata": {},
   "source": [
    "### Hyperparameter in Ridge Linear Regression\n",
    "\n",
    "We just fitted models using ridge regression! However, our choice of hyperparameter seems rather arbitrary. \n",
    "\n",
    "In the following questions, we will experiment with different choices of $\\alpha$ and look at the effect of different values of $\\alpha$ on the weights. \n",
    "\n",
    "For your convenience, we define a function `ridge_alpha` which returns the weights $\\theta$ of the fitted linear model given standardized data `X` and `y` with ridge regression and the RMSE on the input data."
   ]
  },
  {
   "cell_type": "code",
   "execution_count": null,
   "metadata": {},
   "outputs": [],
   "source": [
    "def ridge_alpha(alpha, X, y):\n",
    "    \"\"\"\n",
    "    Input:\n",
    "        X - standardized feature matrix\n",
    "        y - target vector\n",
    "        alpha - regularization hyper-parameter\n",
    "    Output:\n",
    "        The tuple: (model_weights, rmse) where model_weights is d-dimensional array, each element \n",
    "        is rounded to the 3rd decimal. d is the dimension of each datapoint, or equivalently, the number \n",
    "        of features.\n",
    "    \"\"\"\n",
    "    model = Ridge(alpha = alpha)\n",
    "    model.fit(X, y)\n",
    "    error = rmse_score(model, X, y)\n",
    "\n",
    "    return (np.round(model.coef_, decimals = 3), error)"
   ]
  },
  {
   "cell_type": "markdown",
   "metadata": {},
   "source": [
    "Let's first examine the output of ridge regression for extreme values of $\\alpha$. \n",
    "\n",
    "To start, let's consider the case where $\\alpha = 0$. In this case, the ridge linear regression objective function:\n",
    "$$\n",
    "\\frac{1}{n}\\sum\\limits_{i=1}^{n} L_2(Y_i, f_{\\theta}(X_i)) + \\alpha \\sum\\limits_{i=1}^{d}\\theta_k^2\n",
    "$$\n",
    "becomes\n",
    "$$\n",
    "\\frac{1}{n}\\sum\\limits_{i=1}^{n} L_2(Y_i, f_{\\theta}(X_i)),\n",
    "$$\n",
    "which is identical to the loss function for ordinary least squares. Hence, in this case, the linear model we fit will be identical to the one without regularization."
   ]
  },
  {
   "cell_type": "markdown",
   "metadata": {
    "deletable": false,
    "editable": false
   },
   "source": [
    "## Question 2b\n",
    "\n",
    "### Question 2b(i)\n",
    "Now let's consider the case where $\\alpha$ is very large. In the cell below, compute the weights and RMSE of the ridge regression model when $\\alpha = 10^{10}$.\n",
    "\n",
    "<!--\n",
    "BEGIN QUESTION\n",
    "name: q2bi\n",
    "-->"
   ]
  },
  {
   "cell_type": "code",
   "execution_count": null,
   "metadata": {},
   "outputs": [],
   "source": [
    "...\n",
    "print(\"weights:\", ridge_alpha_10e10_weights)\n",
    "print(\"RMSE:\", ridge_alpha_10e10_rmse)"
   ]
  },
  {
   "cell_type": "code",
   "execution_count": null,
   "metadata": {
    "deletable": false,
    "editable": false
   },
   "outputs": [],
   "source": [
    "ok.grade(\"q2bi\");"
   ]
  },
  {
   "cell_type": "markdown",
   "metadata": {
    "deletable": false,
    "editable": false
   },
   "source": [
    "### Question 2b(ii)\n",
    "\n",
    "What do you observe from the result above? Justify your observation. Write your answers in the cell below:\n",
    "\n",
    "<!--\n",
    "BEGIN QUESTION\n",
    "name: q2bii\n",
    "-->"
   ]
  },
  {
   "cell_type": "markdown",
   "metadata": {},
   "source": [
    "*Write your answer here, replacing this text.*"
   ]
  },
  {
   "cell_type": "markdown",
   "metadata": {},
   "source": [
    "## Question 2c "
   ]
  },
  {
   "cell_type": "markdown",
   "metadata": {
    "deletable": false,
    "editable": false
   },
   "source": [
    "In the cell below, compute the **5-fold** cross validation error using the sklearn functionalities introduced in lecture for all the values in `alpha_arr`. Then find the $\\alpha$ with the smallest cross-validation error.\n",
    "\n",
    "<!--\n",
    "BEGIN QUESTION\n",
    "name: q2c\n",
    "-->"
   ]
  },
  {
   "cell_type": "code",
   "execution_count": null,
   "metadata": {},
   "outputs": [],
   "source": [
    "alpha_arr = np.linspace(0.02, 0.5, 60)\n",
    "cv_errors = []\n",
    "\n",
    "# Hint: This should be very similar to what you did in 2a.\n",
    "\n",
    "model = ...\n",
    "\n",
    "for alpha in alpha_arr:\n",
    "    model.set_params(LinearModel__alpha=alpha)\n",
    "        \n",
    "    # compute the cross validation error\n",
    "    cv_error = ...\n",
    "    \n",
    "    cv_errors.append(cv_error)\n",
    "    \n",
    "best_alpha_ridge = ...\n",
    "\n",
    "print(f\"The best alpha value is {best_alpha_ridge}\")\n",
    "print(f\"Cross validation error for the best alpha value is {cv_errors[np.argmin(cv_errors)]}\")"
   ]
  },
  {
   "cell_type": "code",
   "execution_count": null,
   "metadata": {
    "deletable": false,
    "editable": false
   },
   "outputs": [],
   "source": [
    "ok.grade(\"q2c\");"
   ]
  },
  {
   "cell_type": "markdown",
   "metadata": {
    "deletable": false,
    "editable": false
   },
   "source": [
    "## Question 2d\n",
    "In the cell below, plot the cross validation errors for different values of $\\alpha$ for ridge regression. The x-axis should be $\\alpha$ and y-axis should be the cross validation error.\n",
    "\n",
    "<!--\n",
    "BEGIN QUESTION\n",
    "name: q2d\n",
    "-->"
   ]
  },
  {
   "cell_type": "code",
   "execution_count": null,
   "metadata": {
    "scrolled": true
   },
   "outputs": [],
   "source": [
    "...\n",
    "plt.show()"
   ]
  },
  {
   "cell_type": "markdown",
   "metadata": {},
   "source": [
    "What do you observe from the plot above? Write your answer in the cell below."
   ]
  },
  {
   "cell_type": "markdown",
   "metadata": {},
   "source": [
    "*Write your answer here, replacing this text.*"
   ]
  },
  {
   "cell_type": "markdown",
   "metadata": {},
   "source": [
    "## Lasso Regression\n",
    "\n",
    "If we use lasso regression and assume our loss is $L_2$ loss, we solve the following optimization problem: \n",
    "\n",
    "$$\n",
    "\\hat{\\theta} = \\arg \\min\\limits_{\\theta} \\frac{1}{n}\\sum\\limits_{i=1}^{n} L_2(Y_i, f_{\\theta}(X_i)) + \\alpha \\sum\\limits_{k=1}^{d}|\\theta_k|.\n",
    "$$\n",
    "\n",
    "One nice thing about lasso regression is that we can use it to select features because optimized weights for lasso regression are sparse, i.e., many of the weights are $0$'s. For more details on why this is true, please refer to Lecture 19. \n",
    "\n",
    "<img src=\"lasso.png\" width=500px>\n",
    "\n",
    "You can inspect the weights of a fitted lasso linear regression model in the cell below."
   ]
  },
  {
   "cell_type": "code",
   "execution_count": null,
   "metadata": {},
   "outputs": [],
   "source": [
    "from sklearn.linear_model import Lasso\n",
    "\n",
    "model = Lasso(alpha = 1)\n",
    "model.fit(X_train_normalized, Y_train)\n",
    "model.coef_"
   ]
  },
  {
   "cell_type": "markdown",
   "metadata": {},
   "source": [
    "In comparison, the weights of a fitted ridge linear regression model looks like:"
   ]
  },
  {
   "cell_type": "code",
   "execution_count": null,
   "metadata": {},
   "outputs": [],
   "source": [
    "model = Ridge(alpha = 1)\n",
    "model.fit(X_train_normalized, Y_train)\n",
    "model.coef_"
   ]
  },
  {
   "cell_type": "markdown",
   "metadata": {},
   "source": [
    "### Hyperparameter in Lasso Linear Regression\n",
    "\n",
    "Similar to ridge regression, as $\\alpha$ goes to zero, lasso regression becomes identical to ordinary linear regression without regularization; as $\\alpha$ goes to infinity, all the fitted weights become zero.  "
   ]
  },
  {
   "cell_type": "markdown",
   "metadata": {
    "deletable": false,
    "editable": false
   },
   "source": [
    "## Question 3\n",
    "Just like what we did for ridge regression, we need to tune the hyperparameter $\\alpha$ to find the best $\\alpha$ for lasso regression. In the cell below, use **5-fold** cross validation to find the optimal parameter $\\alpha$.\n",
    "\n",
    "**Note: When initiating your Lasso Linear Regression model, put `max_iter = 1000000` as an argument to `Lasso()`. The reason behind this is that for small regularization parameters, the Lasso Linear Regularization solver takes more iterations to converge.**\n",
    "\n",
    "<!--\n",
    "BEGIN QUESTION\n",
    "name: q3\n",
    "-->"
   ]
  },
  {
   "cell_type": "code",
   "execution_count": null,
   "metadata": {},
   "outputs": [],
   "source": [
    "alpha_arr = np.linspace(0.1, 1.5, 60)\n",
    "cv_errors = []\n",
    "model = ...\n",
    "\n",
    "for alpha in alpha_arr:\n",
    "    model.set_params(LinearModel__alpha=alpha)\n",
    "\n",
    "    # compute the cross validation error\n",
    "    cv_error = ...\n",
    "    \n",
    "    cv_errors.append(cv_error)\n",
    "    \n",
    "best_alpha_lasso = ...\n",
    "\n",
    "plt.plot(alpha_arr, cv_errors)\n",
    "plt.title('Cross validation error over alpha')\n",
    "plt.xlabel('Alpha')\n",
    "plt.ylabel('Cross validation error')\n",
    "plt.show()\n",
    "\n",
    "print(f\"The best alpha value is {best_alpha_lasso}\")\n",
    "print(f\"Cross validation error for the best alpha value is {cv_errors[np.argmin(cv_errors)]}\")"
   ]
  },
  {
   "cell_type": "code",
   "execution_count": null,
   "metadata": {
    "deletable": false,
    "editable": false
   },
   "outputs": [],
   "source": [
    "ok.grade(\"q3\");"
   ]
  },
  {
   "cell_type": "markdown",
   "metadata": {
    "deletable": false,
    "editable": false
   },
   "source": [
    "## Question 4\n",
    "In the previous questions, we have used cross validation to select the best $\\alpha$'s for ridge regression and lasso regression. Based on this, select the best model with the smallest cross validation error out of all the models and hyperparameters we have considered (either lasso regression with its best $\\alpha$ or ridge regression with its best $\\alpha$). Train this model using the **entire training set** and evaluate the performance of the model on the test set.\n",
    "\n",
    "**Note: If you are using Lasso for your final model, put `max_iter = 1000000` as an argument to `Lasso()`. The reason behind this is that for small regularization parameters, the Lasso Linear Regularization solver takes more iterations to converge.**\n",
    "\n",
    "<!--\n",
    "BEGIN QUESTION\n",
    "name: q4\n",
    "-->"
   ]
  },
  {
   "cell_type": "code",
   "execution_count": null,
   "metadata": {},
   "outputs": [],
   "source": [
    "final_model = ...\n",
    "\n",
    "# Fit `final_model`\n",
    "...\n",
    "\n",
    "# Error of prediction\n",
    "test_RMSE = ...\n",
    "\n",
    "\n",
    "print('test RMSE:', test_RMSE)"
   ]
  },
  {
   "cell_type": "code",
   "execution_count": null,
   "metadata": {
    "deletable": false,
    "editable": false
   },
   "outputs": [],
   "source": [
    "ok.grade(\"q4\");"
   ]
  },
  {
   "cell_type": "markdown",
   "metadata": {},
   "source": [
    "## Submission\n",
    "\n",
    "Congratulations! You are finished with this assignment. Please don't forget to submit by 11:59pm PST on Monday, 04/13!"
   ]
  },
  {
   "cell_type": "markdown",
   "metadata": {
    "deletable": false,
    "editable": false
   },
   "source": [
    "# Submit\n",
    "Make sure you have run all cells in your notebook in order before running the cell below, so that all images/graphs appear in the output.\n",
    "**Please save before submitting!**"
   ]
  },
  {
   "cell_type": "code",
   "execution_count": null,
   "metadata": {
    "deletable": false,
    "editable": false
   },
   "outputs": [],
   "source": [
    "# Save your notebook first, then run this cell to submit.\n",
    "ok.submit()"
   ]
  }
 ],
 "metadata": {
  "kernelspec": {
   "display_name": "Python 3",
   "language": "python",
   "name": "python3"
  },
  "language_info": {
   "codemirror_mode": {
    "name": "ipython",
    "version": 3
   },
   "file_extension": ".py",
   "mimetype": "text/x-python",
   "name": "python",
   "nbconvert_exporter": "python",
   "pygments_lexer": "ipython3",
   "version": "3.7.4"
  }
 },
 "nbformat": 4,
 "nbformat_minor": 2
}
