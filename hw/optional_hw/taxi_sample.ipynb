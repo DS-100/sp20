{
 "cells": [
  {
   "cell_type": "markdown",
   "metadata": {},
   "source": [
    "# NYC Taxi Trip Sample\n",
    "\n",
    "Code for selecting a sample of the January 2016 NYC yellow taxi trips. You do not need to run or edit this notebook. It's provided for your reference.\n",
    "\n",
    "Original data links were found on the [NYC Taxi and Limosine Commission trip record data page](https://www1.nyc.gov/site/tlc/about/tlc-trip-record-data.page)."
   ]
  },
  {
   "cell_type": "code",
   "execution_count": null,
   "metadata": {},
   "outputs": [],
   "source": [
    "!wget https://s3.amazonaws.com/nyc-tlc/trip+data/yellow_tripdata_2016-01.csv"
   ]
  },
  {
   "cell_type": "markdown",
   "metadata": {},
   "source": [
    "Run the following from the command line:\n",
    "\n",
    "```\n",
    "$ sqlite3\n",
    "sqlite> .mode csv\n",
    "sqlite> .import yellow_tripdata_2016-01.csv yellow\n",
    "```"
   ]
  },
  {
   "cell_type": "code",
   "execution_count": null,
   "metadata": {},
   "outputs": [],
   "source": [
    "import sqlite3\n",
    "\n",
    "conn = sqlite3.connect('taxi.db')\n",
    "conn.execute('DROP TABLE IF EXISTS taxi')\n",
    "conn.execute('''CREATE TABLE taxi AS \n",
    "SELECT\n",
    "  tpep_pickup_datetime AS pickup_datetime,\n",
    "  tpep_dropoff_datetime AS dropoff_datetime,\n",
    "  CAST(pickup_longitude AS DECIMAL) AS pickup_lon,\n",
    "  CAST(pickup_latitude AS DEMICAL) AS pickup_lat,\n",
    "  CAST(dropoff_longitude AS DEMICAL) AS dropoff_lon,\n",
    "  CAST(dropoff_latitude AS DEMICAL) AS dropoff_lat,\n",
    "  CAST(passenger_count AS INTEGER) AS passengers,\n",
    "  CAST(trip_distance AS DECIMAL) AS distance,\n",
    "  CAST(ROUND((JULIANDAY(tpep_dropoff_datetime)-JULIANDAY(tpep_pickup_datetime))*24*60*60) AS INTEGER) AS duration\n",
    "FROM yellow\n",
    "ORDER BY RANDOM()\n",
    "LIMIT 100000\n",
    "''')"
   ]
  },
  {
   "cell_type": "code",
   "execution_count": null,
   "metadata": {},
   "outputs": [],
   "source": [
    "conn.execute('drop table yellow')\n",
    "conn.execute('VACUUM')\n",
    "conn.close()"
   ]
  }
 ],
 "metadata": {
  "kernelspec": {
   "display_name": "Python 3",
   "language": "python",
   "name": "python3"
  },
  "language_info": {
   "codemirror_mode": {
    "name": "ipython",
    "version": 3
   },
   "file_extension": ".py",
   "mimetype": "text/x-python",
   "name": "python",
   "nbconvert_exporter": "python",
   "pygments_lexer": "ipython3",
   "version": "3.6.5"
  }
 },
 "nbformat": 4,
 "nbformat_minor": 2
}
