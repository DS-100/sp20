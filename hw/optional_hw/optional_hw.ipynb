{
 "cells": [
  {
   "cell_type": "code",
   "execution_count": null,
   "metadata": {
    "deletable": false,
    "editable": false
   },
   "outputs": [],
   "source": [
    "# Initialize OK\n",
    "from client.api.notebook import Notebook\n",
    "ok = Notebook('optional_hw.ok')"
   ]
  },
  {
   "cell_type": "markdown",
   "metadata": {},
   "source": [
    "# Optional Homework: Predicting Taxi Ride Duration\n",
    "## Due Date: Monday 05/11/20, 11:59PM\n",
    "\n",
    "Please note that even though we have made the decision to not grade a few questions in this assignment, please still do your best to complete them as they can potentially help a lot with interpreting the data and understanding core concepts in this course.\n",
    "\n",
    "**Collaboration Policy**\n",
    "\n",
    "Data science is a collaborative activity. While you may talk with others about\n",
    "the homework, we ask that you **write your solutions individually**. If you do\n",
    "discuss the assignments with others please **include their names** at the top\n",
    "of your notebook."
   ]
  },
  {
   "cell_type": "markdown",
   "metadata": {},
   "source": [
    "**Collaborators**: *list collaborators here*"
   ]
  },
  {
   "cell_type": "markdown",
   "metadata": {},
   "source": [
    "## Score Breakdown\n",
    "Question | Points\n",
    "--- | ---\n",
    "1a | 2\n",
    "1b | 2\n",
    "1c | (ungraded)\n",
    "2a | 1\n",
    "2b | (ungraded)\n",
    "3a | (ungraded)\n",
    "3b | (ungraded)\n",
    "3c | (ungraded)\n",
    "3d | 2\n",
    "3e | (ungraded)\n",
    "4a | 2\n",
    "4b | 2\n",
    "4c | 2\n",
    "4d | 2\n",
    "4e | (ungraded)\n",
    "4f | 2\n",
    "4g | 4\n",
    "Total | 21"
   ]
  },
  {
   "cell_type": "markdown",
   "metadata": {},
   "source": [
    "## This Assignment\n",
    "In this assignment, you will use what you've learned in class to create a regression model that predicts the travel time of a taxi ride in New York. \n",
    "\n",
    "After this assignment, you should feel comfortable with the following:\n",
    "\n",
    "- The data science lifecycle: data selection and cleaning, EDA, feature engineering, and model selection.\n",
    "- Using `sklearn` to process data and fit linear regression models.\n",
    "- Embedding linear regression as a component in a more complex model.\n",
    "\n",
    "First, let's import:"
   ]
  },
  {
   "cell_type": "code",
   "execution_count": 1,
   "metadata": {
    "ExecuteTime": {
     "end_time": "2019-04-19T00:52:10.469067Z",
     "start_time": "2019-04-19T00:52:09.326799Z"
    }
   },
   "outputs": [],
   "source": [
    "import numpy as np\n",
    "import pandas as pd\n",
    "\n",
    "import matplotlib.pyplot as plt\n",
    "\n",
    "import seaborn as sns"
   ]
  },
  {
   "cell_type": "markdown",
   "metadata": {},
   "source": [
    "## The Data\n",
    "Attributes of all [yellow taxi](https://en.wikipedia.org/wiki/Taxicabs_of_New_York_City) trips in January 2016 are published by the [NYC Taxi and Limosine Commission](https://www1.nyc.gov/site/tlc/about/tlc-trip-record-data.page).\n",
    "\n",
    "The full data set takes a long time to download directly, so we've placed a simple random sample of the data into `taxi.db`, a SQLite database. You can view the code used to generate this sample in the `taxi_sample.ipynb` file included with this assignment (not required).\n",
    "\n",
    "Columns of the `taxi` table in `taxi.db` include:\n",
    "- `pickup_datetime`: date and time when the meter was engaged\n",
    "- `dropoff_datetime`: date and time when the meter was disengaged\n",
    "- `pickup_lon`: the longitude where the meter was engaged\n",
    "- `pickup_lat`: the latitude where the meter was engaged\n",
    "- `dropoff_lon`: the longitude where the meter was disengaged\n",
    "- `dropoff_lat`: the latitude where the meter was disengaged\n",
    "- `passengers`: the number of passengers in the vehicle (driver entered value)\n",
    "- `distance`: trip distance\n",
    "- `duration`: duration of the trip in seconds\n",
    "\n",
    "Your goal will be to predict `duration` from the pick-up time, pick-up and drop-off locations, and distance."
   ]
  },
  {
   "cell_type": "markdown",
   "metadata": {},
   "source": [
    "## Part 1: Data Selection and Cleaning\n",
    "\n",
    "In this part, you will limit the data to trips that began and ended on Manhattan Island ([map](https://www.google.com/maps/place/Manhattan,+New+York,+NY/@40.7590402,-74.0394431,12z/data=!3m1!4b1!4m5!3m4!1s0x89c2588f046ee661:0xa0b3281fcecc08c!8m2!3d40.7830603!4d-73.9712488)). "
   ]
  },
  {
   "cell_type": "markdown",
   "metadata": {
    "deletable": false,
    "editable": false
   },
   "source": [
    "### Question 1a\n",
    "Use a SQL query to load the `taxi` table from `taxi.db` into a Pandas DataFrame called `all_taxi`. \n",
    "\n",
    "Only include trips that have **both** pick-up and drop-off locations within the boundaries of New York City:\n",
    "\n",
    "- Longitude is between -74.03 and -73.75 (inclusive of both boundaries)\n",
    "- Latitude is between 40.6 and 40.88 (inclusive of both boundaries)\n",
    "\n",
    "*Hint*: Your solution will be shorter if you write Python code to generate the SQL query string. Try not to copy and paste code.\n",
    "\n",
    "*The provided tests check that you have constructed `all_taxi` correctly.*\n",
    "\n",
    "<!--\n",
    "BEGIN QUESTION\n",
    "name: q1a\n",
    "points: 2\n",
    "-->"
   ]
  },
  {
   "cell_type": "code",
   "execution_count": 2,
   "metadata": {
    "ExecuteTime": {
     "end_time": "2019-04-19T00:52:10.909745Z",
     "start_time": "2019-04-19T00:52:10.471335Z"
    }
   },
   "outputs": [],
   "source": [
    "import sqlite3\n",
    "\n",
    "conn = sqlite3.connect('taxi.db')\n",
    "lon_bounds = [-74.03, -73.75]\n",
    "lat_bounds = [40.6, 40.88]\n",
    "\n",
    "...\n",
    "\n",
    "all_taxi = ...\n",
    "all_taxi.head()"
   ]
  },
  {
   "cell_type": "code",
   "execution_count": null,
   "metadata": {
    "deletable": false,
    "editable": false
   },
   "outputs": [],
   "source": [
    "ok.grade(\"q1a\");"
   ]
  },
  {
   "cell_type": "markdown",
   "metadata": {},
   "source": [
    "A scatter plot of pickup locations shows that most of them are on the island of Manhattan. The empty white rectangle is Central Park; cars are not allowed there."
   ]
  },
  {
   "cell_type": "code",
   "execution_count": 5,
   "metadata": {
    "ExecuteTime": {
     "end_time": "2019-04-19T00:52:11.547807Z",
     "start_time": "2019-04-19T00:52:10.953752Z"
    }
   },
   "outputs": [],
   "source": [
    "def pickup_scatter(t):\n",
    "    plt.scatter(t['pickup_lon'], t['pickup_lat'], s=2, alpha=0.2)\n",
    "    plt.xlabel('Longitude')\n",
    "    plt.ylabel('Latitude')\n",
    "    plt.title('Pickup locations')\n",
    "    \n",
    "plt.figure(figsize=(8, 8))\n",
    "pickup_scatter(all_taxi)"
   ]
  },
  {
   "cell_type": "markdown",
   "metadata": {},
   "source": [
    "The two small blobs outside of Manhattan with very high concentrations of taxi pick-ups are airports."
   ]
  },
  {
   "cell_type": "markdown",
   "metadata": {
    "deletable": false,
    "editable": false
   },
   "source": [
    "### Question 1b\n",
    "\n",
    "Create a DataFrame called `clean_taxi` that only includes trips with a positive passenger count, a positive distance, a duration of at least 1 minute and at most 1 hour, and an average speed of at most 100 miles per hour. Inequalities should not be strict (e.g., `<=` instead of `<`) unless comparing to 0.\n",
    "\n",
    "*The provided tests check that you have constructed `clean_taxi` correctly.*\n",
    "\n",
    "<!--\n",
    "BEGIN QUESTION\n",
    "name: q1b\n",
    "points: 2\n",
    "-->"
   ]
  },
  {
   "cell_type": "code",
   "execution_count": 6,
   "metadata": {
    "ExecuteTime": {
     "end_time": "2019-04-19T00:52:11.588389Z",
     "start_time": "2019-04-19T00:52:11.550392Z"
    }
   },
   "outputs": [],
   "source": [
    "clean_taxi = ..."
   ]
  },
  {
   "cell_type": "code",
   "execution_count": null,
   "metadata": {
    "deletable": false,
    "editable": false
   },
   "outputs": [],
   "source": [
    "ok.grade(\"q1b\");"
   ]
  },
  {
   "cell_type": "markdown",
   "metadata": {},
   "source": [
    "We then create a DataFrame called `manhattan_taxi` that only includes trips from `clean_taxi` that start and end within a polygon that defines the boundaries of [Manhattan Island](https://www.google.com/maps/place/Manhattan,+New+York,+NY/@40.7590402,-74.0394431,12z/data=!3m1!4b1!4m5!3m4!1s0x89c2588f046ee661:0xa0b3281fcecc08c!8m2!3d40.7830603!4d-73.9712488).\n",
    "\n",
    "The vertices of this polygon are defined in `manhattan.csv` as (latitude, longitude) pairs, which are [published here](https://gist.github.com/baygross/5430626).\n",
    "\n",
    "An efficient way to test if a point is contained within a polygon is [described on this page](http://alienryderflex.com/polygon/). \n",
    "\n",
    "We have provided the implementation for you."
   ]
  },
  {
   "cell_type": "code",
   "execution_count": 9,
   "metadata": {
    "ExecuteTime": {
     "end_time": "2019-04-19T00:52:11.844755Z",
     "start_time": "2019-04-19T00:52:11.626040Z"
    }
   },
   "outputs": [],
   "source": [
    "polygon = pd.read_csv('manhattan.csv')\n",
    "\n",
    "def in_manhattan(x, y):\n",
    "    \"\"\"Whether a longitude-latitude (x, y) pair is in the Manhattan polygon.\"\"\"\n",
    "    j = polygon.shape[0]-1\n",
    "    odd = False\n",
    "    for i in range(polygon.shape[0]):\n",
    "        xsi, xsj, ysi, ysj = xs[i], xs[j], ys[i], ys[j]\n",
    "        if (ysi < y <= ysj) or (ysj < y <= ysi):\n",
    "            z = (y - ysi) / (ysj - ysi) * (xsj - xsi)\n",
    "            if xsi + z < x: \n",
    "                odd = not odd\n",
    "        j = i\n",
    "    return odd\n",
    "\n",
    "\n",
    "import os\n",
    "\n",
    "xs, ys = polygon['lon'], polygon['lat']\n",
    "\n",
    "def trip_in_manhattan(row):\n",
    "    pickup = in_manhattan(row['pickup_lon'], row['pickup_lat'])\n",
    "    dropoff = in_manhattan(row['dropoff_lon'], row['dropoff_lat'])\n",
    "    return pickup and dropoff\n",
    "\n",
    "if os.path.exists('manhattan_taxi.csv'):\n",
    "    manhattan_taxi = pd.read_csv('manhattan_taxi.csv')\n",
    "    \n",
    "if 'manhattan_taxi' not in dir():\n",
    "    manhattan_taxi = clean_taxi[clean_taxi.apply(trip_in_manhattan, axis=1)]\n",
    "    manhattan_taxi.to_csv('manhattan_taxi.csv', index=False)\n",
    "\n",
    "manhattan_taxi = manhattan_taxi"
   ]
  },
  {
   "cell_type": "markdown",
   "metadata": {},
   "source": [
    "A scatter diagram of only Manhattan taxi rides has the familiar shape of Manhattan Island. "
   ]
  },
  {
   "cell_type": "code",
   "execution_count": 10,
   "metadata": {
    "ExecuteTime": {
     "end_time": "2019-04-19T00:52:12.751632Z",
     "start_time": "2019-04-19T00:52:12.135205Z"
    }
   },
   "outputs": [],
   "source": [
    "plt.figure(figsize=(8, 16))\n",
    "pickup_scatter(manhattan_taxi)"
   ]
  },
  {
   "cell_type": "markdown",
   "metadata": {},
   "source": [
    "### Question 1c (ungraded)\n",
    "\n",
    "**In the following cell**, print a summary of the data selection and cleaning you performed. For example, you should print something like: \"Of the original 1000 trips, 21 anomolous trips (2.1%) were removed through data cleaning, and then the 600 trips within Manhattan were selected for further analysis.\" (Note that the numbers in this example are not accurate.)\n",
    "\n",
    "**Your Python code should not include any number literals, but instead should refer to the shape of `all_taxi`, `clean_taxi`, and `manhattan_taxi`.** Your response will be scored based on whether you generate an accurate description and do not include any number literals in your Python expression, but instead refer to the dataframes you have created.\n",
    "\n",
    "\n",
    "\n",
    "One way to do this is with [Python's f-strings](https://realpython.com/python-f-strings/). For instance,\n",
    "\n",
    "```\n",
    "name = \"Joshua\"\n",
    "print(f\"Hi {name}, how are you?\")\n",
    "```\n",
    "\n",
    "prints `Hi Joshua, how are you?`.\n"
   ]
  },
  {
   "cell_type": "code",
   "execution_count": 11,
   "metadata": {
    "ExecuteTime": {
     "end_time": "2019-04-19T00:52:12.760958Z",
     "start_time": "2019-04-19T00:52:12.754422Z"
    }
   },
   "outputs": [],
   "source": [
    "..."
   ]
  },
  {
   "cell_type": "markdown",
   "metadata": {},
   "source": [
    "## Part 2: Exploratory Data Analysis\n",
    "\n",
    "In this part, you'll choose which days to include as training data in your regression model. \n",
    "\n",
    "Your goal is to develop a general model that could potentially be used for future taxi rides. There is no guarantee that future distributions will resemble observed distributions, but some effort to limit training data to typical examples can help ensure that the training data are representative of future observations.\n",
    "\n",
    "January 2016 had some atypical days. New Years Day (January 1) fell on a Friday. MLK Day was on Monday, January 18. A [historic blizzard](https://en.wikipedia.org/wiki/January_2016_United_States_blizzard) passed through New York that month. Using this dataset to train a general regression model for taxi trip times must account for these unusual phenomena, and one way to account for them is to remove atypical days from the training data."
   ]
  },
  {
   "cell_type": "markdown",
   "metadata": {
    "deletable": false,
    "editable": false
   },
   "source": [
    "### Question 2a\n",
    "\n",
    "Add a column labeled `date` to `manhattan_taxi` that contains the date (but not the time) of pickup, formatted as a `datetime.date` value ([docs](https://docs.python.org/3/library/datetime.html#date-objects)). \n",
    "\n",
    "*The provided tests check that you have extended `manhattan_taxi` correctly.*\n",
    "\n",
    "<!--\n",
    "BEGIN QUESTION\n",
    "name: q2a\n",
    "points: 1\n",
    "-->"
   ]
  },
  {
   "cell_type": "code",
   "execution_count": 12,
   "metadata": {
    "ExecuteTime": {
     "end_time": "2019-04-19T00:52:12.830375Z",
     "start_time": "2019-04-19T00:52:12.763854Z"
    }
   },
   "outputs": [],
   "source": [
    "...\n",
    "manhattan_taxi.head()"
   ]
  },
  {
   "cell_type": "code",
   "execution_count": null,
   "metadata": {
    "deletable": false,
    "editable": false
   },
   "outputs": [],
   "source": [
    "ok.grade(\"q2a\");"
   ]
  },
  {
   "cell_type": "markdown",
   "metadata": {},
   "source": [
    "### Question 2b (ungraded)\n",
    "\n",
    "Create a data visualization that allows you to identify which dates were affected by the historic blizzard of January 2016. Make sure that the visualization type is appropriate for the visualized data.\n",
    "\n",
    "_Hint: How do you expect taxi usage to differ on blizzard days?_\n"
   ]
  },
  {
   "cell_type": "code",
   "execution_count": 15,
   "metadata": {
    "ExecuteTime": {
     "end_time": "2019-04-19T00:52:13.183376Z",
     "start_time": "2019-04-19T00:52:12.877540Z"
    }
   },
   "outputs": [],
   "source": [
    "..."
   ]
  },
  {
   "cell_type": "markdown",
   "metadata": {},
   "source": [
    "Finally, we have generated a list of dates that should have a fairly typical distribution of taxi rides, which excludes holidays and blizzards. The cell below assigns `final_taxi` to the subset of `manhattan_taxi` that is on these days. (No changes are needed; just run this cell.)"
   ]
  },
  {
   "cell_type": "code",
   "execution_count": 16,
   "metadata": {
    "ExecuteTime": {
     "end_time": "2019-04-19T00:52:13.198633Z",
     "start_time": "2019-04-19T00:52:13.185336Z"
    }
   },
   "outputs": [],
   "source": [
    "import calendar\n",
    "import re\n",
    "\n",
    "from datetime import date\n",
    "\n",
    "atypical = [1, 2, 3, 18, 23, 24, 25, 26]\n",
    "typical_dates = [date(2016, 1, n) for n in range(1, 32) if n not in atypical]\n",
    "typical_dates\n",
    "\n",
    "print('Typical dates:\\n')\n",
    "pat = '  [1-3]|18 | 23| 24|25 |26 '\n",
    "print(re.sub(pat, '   ', calendar.month(2016, 1)))\n",
    "\n",
    "final_taxi = manhattan_taxi[manhattan_taxi['date'].isin(typical_dates)]"
   ]
  },
  {
   "cell_type": "markdown",
   "metadata": {},
   "source": [
    "You are welcome to perform more exploratory data analysis, but your work will not be scored. Here's a blank cell to use if you wish. In practice, further exploration would be warranted at this point, but we won't require that of you."
   ]
  },
  {
   "cell_type": "code",
   "execution_count": 17,
   "metadata": {
    "ExecuteTime": {
     "end_time": "2019-04-19T00:52:13.211604Z",
     "start_time": "2019-04-19T00:52:13.201202Z"
    }
   },
   "outputs": [],
   "source": [
    "# Optional: More EDA here"
   ]
  },
  {
   "cell_type": "markdown",
   "metadata": {},
   "source": [
    "## Part 3: Feature Engineering\n",
    "\n",
    "In this part, you'll create a design matrix (i.e., feature matrix) for your linear regression model. You decide to predict trip duration from the following inputs: start location, end location, trip distance, time of day, and day of the week (*Monday, Tuesday, etc.*). \n",
    "\n",
    "You will ensure that the process of transforming observations into a design matrix is expressed as a Python function called `design_matrix`, so that it's easy to make predictions for different samples in later parts of the assignment.\n",
    "\n",
    "Because you are going to look at the data in detail in order to define features, it's best to split the data into training and test sets now, then only inspect the training set."
   ]
  },
  {
   "cell_type": "code",
   "execution_count": 18,
   "metadata": {
    "ExecuteTime": {
     "end_time": "2019-04-19T00:52:13.384636Z",
     "start_time": "2019-04-19T00:52:13.213804Z"
    }
   },
   "outputs": [],
   "source": [
    "import sklearn.model_selection\n",
    "\n",
    "train, test = sklearn.model_selection.train_test_split(\n",
    "    final_taxi, train_size=0.8, test_size=0.2, random_state=42)\n",
    "print('Train:', train.shape, 'Test:', test.shape)"
   ]
  },
  {
   "cell_type": "markdown",
   "metadata": {},
   "source": [
    "### Question 3a (ungraded)\n",
    "\n",
    "Create a box plot that compares the distributions of taxi trip durations for each day **using `train` only**. Individual dates shoud appear on the horizontal axis, and duration values should appear on the vertical axis. Your plot should look like the following.\n",
    "\n",
    "_Hint: Use `sns.boxplot`._\n",
    "\n",
    "![](images/3a_resized.png)\n"
   ]
  },
  {
   "cell_type": "code",
   "execution_count": 19,
   "metadata": {
    "ExecuteTime": {
     "end_time": "2019-04-19T00:52:13.970113Z",
     "start_time": "2019-04-19T00:52:13.386332Z"
    }
   },
   "outputs": [],
   "source": [
    "..."
   ]
  },
  {
   "cell_type": "markdown",
   "metadata": {},
   "source": [
    "### Question 3b (ungraded)\n",
    "\n",
    "In one or two sentences, describe the assocation between the day of the week and the duration of a taxi trip. This question will be graded on whether your answer is justified by your boxplot and if it is at least somewhat meaningful.\n",
    "\n",
    "*Note*: The end of Part 2 showed a calendar for these dates and their corresponding days of the week."
   ]
  },
  {
   "cell_type": "markdown",
   "metadata": {},
   "source": [
    "*Write your answer here, replacing this text.*"
   ]
  },
  {
   "cell_type": "markdown",
   "metadata": {},
   "source": [
    "Below, the provided `augment` function adds various columns to a taxi ride dataframe. \n",
    "\n",
    "- `hour`: The integer hour of the pickup time. E.g., a 3:45pm taxi ride would have `15` as the hour. A 12:20am ride would have `0`.\n",
    "- `day`: The day of the week with Monday=0, Sunday=6.\n",
    "- `weekend`: 1 if and only if the `day` is Saturday or Sunday.\n",
    "- `period`: 1 for early morning (12am-6am), 2 for daytime (6am-6pm), and 3 for night (6pm-12pm).\n",
    "- `speed`: Average speed in miles per hour.\n",
    "\n",
    "No changes are required; just run this cell."
   ]
  },
  {
   "cell_type": "code",
   "execution_count": 20,
   "metadata": {
    "ExecuteTime": {
     "end_time": "2019-04-19T00:52:14.045907Z",
     "start_time": "2019-04-19T00:52:13.972137Z"
    }
   },
   "outputs": [],
   "source": [
    "def speed(t):\n",
    "    \"\"\"Return a column of speeds in miles per hour.\"\"\"\n",
    "    return t['distance'] / t['duration'] * 60 * 60\n",
    "\n",
    "def augment(t):\n",
    "    \"\"\"Augment a dataframe t with additional columns.\"\"\"\n",
    "    u = t.copy()\n",
    "    pickup_time = pd.to_datetime(t['pickup_datetime'])\n",
    "    u.loc[:, 'hour'] = pickup_time.dt.hour\n",
    "    u.loc[:, 'day'] = pickup_time.dt.weekday\n",
    "    u.loc[:, 'weekend'] = (pickup_time.dt.weekday >= 5).astype(int)\n",
    "    u.loc[:, 'period'] = np.digitize(pickup_time.dt.hour, [0, 6, 18])\n",
    "    u.loc[:, 'speed'] = speed(t)\n",
    "    return u\n",
    "    \n",
    "train = augment(train)\n",
    "test = augment(test)\n",
    "train.iloc[0,:] # An example row"
   ]
  },
  {
   "cell_type": "markdown",
   "metadata": {},
   "source": [
    "### Question 3c (ungraded)\n",
    "\n",
    "Use `sns.distplot` to create an overlaid histogram comparing the distribution of average speeds for taxi rides that start in the early morning (12am-6am), day (6am-6pm; 12 hours), and night (6pm-12am; 6 hours). Your plot should look like this:\n",
    "\n",
    "![](images/3c_speeds.png)\n"
   ]
  },
  {
   "cell_type": "code",
   "execution_count": 21,
   "metadata": {
    "ExecuteTime": {
     "end_time": "2019-04-19T00:52:14.461519Z",
     "start_time": "2019-04-19T00:52:14.047850Z"
    }
   },
   "outputs": [],
   "source": [
    "..."
   ]
  },
  {
   "cell_type": "markdown",
   "metadata": {},
   "source": [
    "It looks like the time of day is associated with the average speed of a taxi ride."
   ]
  },
  {
   "cell_type": "markdown",
   "metadata": {},
   "source": [
    "### Question 3d\n",
    "\n",
    "Manhattan can roughly be divided into Lower, Midtown, and Upper regions. Instead of studying a map, let's approximate by finding the first principal component of the pick-up location (latitude and longitude). Before doing that, let's once again take a look at a scatterplot of trips in Manhattan:"
   ]
  },
  {
   "cell_type": "code",
   "execution_count": 22,
   "metadata": {},
   "outputs": [],
   "source": [
    "plt.figure(figsize=(3, 6))\n",
    "pickup_scatter(manhattan_taxi)"
   ]
  },
  {
   "cell_type": "markdown",
   "metadata": {
    "deletable": false,
    "editable": false
   },
   "source": [
    "Add a `region` column to `train` that categorizes each pick-up location as 0, 1, or 2 based on the value of each point's first principal component, such that an equal number of points fall into each region. \n",
    "\n",
    "Read the documentation of [`pd.qcut`](https://pandas.pydata.org/pandas-docs/version/0.23.4/generated/pandas.qcut.html), which categorizes points in a distribution into equal-frequency bins.\n",
    "\n",
    "You don't need to add any lines to this solution. Just fill in the assignment statements to complete the implementation.\n",
    "\n",
    "_Hint: If we have a matrix of latitudes and longitudes of each trip's pickup location, roughly in which direction should PC1 be, based on the above scatterplot?_\n",
    "\n",
    "*The provided tests ensure that you have answered the question correctly.*\n",
    "\n",
    "<!--\n",
    "BEGIN QUESTION\n",
    "name: q3d\n",
    "points: 2\n",
    "-->"
   ]
  },
  {
   "cell_type": "code",
   "execution_count": 23,
   "metadata": {
    "ExecuteTime": {
     "end_time": "2019-04-19T00:52:14.501937Z",
     "start_time": "2019-04-19T00:52:14.463641Z"
    }
   },
   "outputs": [],
   "source": [
    "# Find the first principal component\n",
    "D = ...\n",
    "pca_n = ...\n",
    "pca_means = ...\n",
    "X = (D - pca_means) / np.sqrt(pca_n)\n",
    "u, s, vt = np.linalg.svd(X, full_matrices=False)\n",
    "\n",
    "def add_region(t):\n",
    "    \"\"\"Add a region column to t based on vt above.\"\"\"\n",
    "    D = ...\n",
    "    assert D.shape[0] == t.shape[0], 'You set D using the incorrect table'\n",
    "    # Always use the same data transformation used to compute vt\n",
    "    X = (D - pca_means) / np.sqrt(pca_n) \n",
    "    first_pc = ...\n",
    "    t.loc[:,'region'] = pd.qcut(first_pc, 3, labels=[0, 1, 2])\n",
    "    \n",
    "add_region(train)\n",
    "add_region(test)"
   ]
  },
  {
   "cell_type": "code",
   "execution_count": null,
   "metadata": {
    "deletable": false,
    "editable": false
   },
   "outputs": [],
   "source": [
    "ok.grade(\"q3d\");"
   ]
  },
  {
   "cell_type": "markdown",
   "metadata": {},
   "source": [
    "Let's see how PCA divided the trips into three groups. These regions do roughly correspond to Lower Manhattan (below 14th street), Midtown Manhattan (between 14th and the park), and Upper Manhattan (bordering Central Park). No prior knowledge of New York geography was required!"
   ]
  },
  {
   "cell_type": "code",
   "execution_count": 31,
   "metadata": {
    "ExecuteTime": {
     "end_time": "2019-04-19T00:52:15.135735Z",
     "start_time": "2019-04-19T00:52:14.657562Z"
    }
   },
   "outputs": [],
   "source": [
    "plt.figure(figsize=(8, 16))\n",
    "for i in [0, 1, 2]:\n",
    "    pickup_scatter(train[train['region'] == i])"
   ]
  },
  {
   "cell_type": "markdown",
   "metadata": {},
   "source": [
    "### Question 3e (ungraded)\n",
    "\n",
    "Use `sns.distplot` to create an overlaid histogram comparing the distribution of speeds for nighttime taxi rides (6pm-12am) in the three different regions defined above. Does it appear that there is an association between region and average speed during the night?"
   ]
  },
  {
   "cell_type": "code",
   "execution_count": 32,
   "metadata": {
    "ExecuteTime": {
     "end_time": "2019-04-19T00:52:15.540800Z",
     "start_time": "2019-04-19T00:52:15.137862Z"
    }
   },
   "outputs": [],
   "source": [
    "..."
   ]
  },
  {
   "cell_type": "markdown",
   "metadata": {},
   "source": [
    "Finally, we create a design matrix that includes many of these features. Quantitative features are converted to standard units, while categorical features are converted to dummy variables using one-hot encoding. The `period` is not included because it is a linear combination of the `hour`. The `weekend` variable is not included because it is a linear combination of the `day`.  The `speed` is not included because it was computed from the `duration`; it's impossible to know the speed without knowing the duration, given that you know the distance."
   ]
  },
  {
   "cell_type": "code",
   "execution_count": 33,
   "metadata": {
    "ExecuteTime": {
     "end_time": "2019-04-19T00:52:15.575279Z",
     "start_time": "2019-04-19T00:52:15.542763Z"
    }
   },
   "outputs": [],
   "source": [
    "from sklearn.preprocessing import StandardScaler\n",
    "\n",
    "num_vars = ['pickup_lon', 'pickup_lat', 'dropoff_lon', 'dropoff_lat', 'distance']\n",
    "cat_vars = ['hour', 'day', 'region']\n",
    "\n",
    "scaler = StandardScaler()\n",
    "scaler.fit(train[num_vars])\n",
    "\n",
    "def design_matrix(t):\n",
    "    \"\"\"Create a design matrix from taxi ride dataframe t.\"\"\"\n",
    "    scaled = t[num_vars].copy()\n",
    "    scaled.iloc[:,:] = scaler.transform(scaled) # Convert to standard units\n",
    "    categoricals = [pd.get_dummies(t[s], prefix=s, drop_first=True) for s in cat_vars]\n",
    "    return pd.concat([scaled] + categoricals, axis=1)\n",
    "\n",
    "design_matrix(train).iloc[0,:]  "
   ]
  },
  {
   "cell_type": "markdown",
   "metadata": {},
   "source": [
    "## Part 4: Model Selection\n",
    "\n",
    "In this part, you will select a regression model to predict the duration of a taxi ride.\n",
    "\n",
    "**Important:** *Tests in this part do not confirm that you have answered correctly. Instead, they check that you're somewhat close in order to detect major errors. It is up to you to calculate the results correctly based on the question descriptions.*"
   ]
  },
  {
   "cell_type": "markdown",
   "metadata": {
    "deletable": false,
    "editable": false
   },
   "source": [
    "### Question 4a\n",
    "\n",
    "Assign `constant_rmse` to the root mean squared error on the test set for a constant model that always predicts the mean duration of all training set taxi rides.\n",
    "\n",
    "<!--\n",
    "BEGIN QUESTION\n",
    "name: q4a\n",
    "points: 2\n",
    "-->"
   ]
  },
  {
   "cell_type": "code",
   "execution_count": 34,
   "metadata": {
    "ExecuteTime": {
     "end_time": "2019-04-19T00:52:15.585597Z",
     "start_time": "2019-04-19T00:52:15.577375Z"
    }
   },
   "outputs": [],
   "source": [
    "def rmse(errors):\n",
    "    \"\"\"Return the root mean squared error.\"\"\"\n",
    "    return np.sqrt(np.mean(errors ** 2))\n",
    "\n",
    "constant_rmse = ...\n",
    "constant_rmse"
   ]
  },
  {
   "cell_type": "code",
   "execution_count": null,
   "metadata": {
    "deletable": false,
    "editable": false
   },
   "outputs": [],
   "source": [
    "ok.grade(\"q4a\");"
   ]
  },
  {
   "cell_type": "markdown",
   "metadata": {
    "deletable": false,
    "editable": false
   },
   "source": [
    "### Question 4b\n",
    "\n",
    "Assign `simple_rmse` to the root mean squared error on the test set for a simple linear regression model that uses only the distance of the taxi ride as a feature (and includes an intercept).\n",
    "\n",
    "*Terminology Note*: Simple linear regression means that there is only one feature. Multiple linear regression means that there is more than one. In either case, you can use the `LinearRegression` model from `sklearn` to fit the parameters to data.\n",
    "\n",
    "<!--\n",
    "BEGIN QUESTION\n",
    "name: q4b\n",
    "points: 2\n",
    "-->"
   ]
  },
  {
   "cell_type": "code",
   "execution_count": 37,
   "metadata": {
    "ExecuteTime": {
     "end_time": "2019-04-19T00:52:15.693274Z",
     "start_time": "2019-04-19T00:52:15.625838Z"
    }
   },
   "outputs": [],
   "source": [
    "from sklearn.linear_model import LinearRegression\n",
    "\n",
    "model = LinearRegression()\n",
    "...\n",
    "simple_rmse = ...\n",
    "simple_rmse"
   ]
  },
  {
   "cell_type": "code",
   "execution_count": null,
   "metadata": {
    "deletable": false,
    "editable": false
   },
   "outputs": [],
   "source": [
    "ok.grade(\"q4b\");"
   ]
  },
  {
   "cell_type": "markdown",
   "metadata": {
    "deletable": false,
    "editable": false
   },
   "source": [
    "### Question 4c\n",
    "\n",
    "Assign `linear_rmse` to the root mean squared error on the test set for a linear regression model fitted to the training set without regularization, using the design matrix defined by the `design_matrix` function from Part 3.\n",
    "\n",
    "*The provided tests check that you have answered the question correctly and that your `design_matrix` function is working as intended.*\n",
    "\n",
    "<!--\n",
    "BEGIN QUESTION\n",
    "name: q4c\n",
    "points: 2\n",
    "-->"
   ]
  },
  {
   "cell_type": "code",
   "execution_count": 40,
   "metadata": {
    "ExecuteTime": {
     "end_time": "2019-04-19T00:52:15.892103Z",
     "start_time": "2019-04-19T00:52:15.728215Z"
    }
   },
   "outputs": [],
   "source": [
    "model = LinearRegression()\n",
    "...\n",
    "linear_rmse = ...\n",
    "linear_rmse"
   ]
  },
  {
   "cell_type": "code",
   "execution_count": null,
   "metadata": {
    "deletable": false,
    "editable": false
   },
   "outputs": [],
   "source": [
    "ok.grade(\"q4c\");"
   ]
  },
  {
   "cell_type": "markdown",
   "metadata": {
    "deletable": false,
    "editable": false
   },
   "source": [
    "### Question 4d\n",
    "\n",
    "For each possible value of `period`, fit an unregularized linear regression model to the subset of the training set in that `period`.  Assign `period_rmse` to the root mean squared error on the test set for a model that first chooses linear regression parameters based on the observed period of the taxi ride, then predicts the duration using those parameters. Again, fit to the training set and use the `design_matrix` function for features.\n",
    "\n",
    "<!--\n",
    "BEGIN QUESTION\n",
    "name: q4d\n",
    "points: 2\n",
    "-->"
   ]
  },
  {
   "cell_type": "code",
   "execution_count": 44,
   "metadata": {
    "ExecuteTime": {
     "end_time": "2019-04-19T00:52:16.112196Z",
     "start_time": "2019-04-19T00:52:15.954833Z"
    }
   },
   "outputs": [],
   "source": [
    "model = LinearRegression()\n",
    "errors = []\n",
    "\n",
    "for v in np.unique(train['period']):\n",
    "    ...\n",
    "    \n",
    "period_rmse = rmse(np.array(errors))\n",
    "period_rmse"
   ]
  },
  {
   "cell_type": "code",
   "execution_count": null,
   "metadata": {
    "deletable": false,
    "editable": false
   },
   "outputs": [],
   "source": [
    "ok.grade(\"q4d\");"
   ]
  },
  {
   "cell_type": "markdown",
   "metadata": {},
   "source": [
    "This approach is a simple form of decision tree regression, where a different regression function is estimated for each possible choice among a collection of choices. In this case, the depth of the tree is only 1."
   ]
  },
  {
   "cell_type": "markdown",
   "metadata": {},
   "source": [
    "### Question 4e (ungraded)\n",
    "\n",
    "In one or two sentences, explain how the `period` regression model could possibly outperform linear regression model, even when the design matrix of the latter includes one feature for each possible hour.\n"
   ]
  },
  {
   "cell_type": "markdown",
   "metadata": {},
   "source": [
    "*Write your answer here, replacing this text.*"
   ]
  },
  {
   "cell_type": "markdown",
   "metadata": {
    "deletable": false,
    "editable": false
   },
   "source": [
    "### Question 4f\n",
    "\n",
    "Instead of predicting duration directly, an alternative is to predict the average *speed* of the taxi ride using linear regression, then compute an estimate of the duration from the predicted speed and observed distance for each ride.\n",
    "\n",
    "Assign `speed_rmse` to the root mean squared error in the **duration** predicted by a model that first predicts speed as a linear combination of features from the `design_matrix` function, fitted on the training set, then predicts duration from the predicted speed and observed distance.\n",
    "\n",
    "*Hint*: Speed is in miles per hour, but duration is measured in seconds. You'll need the fact that there are 60 * 60 = 3,600 seconds in an hour.\n",
    "\n",
    "<!--\n",
    "BEGIN QUESTION\n",
    "name: q4f\n",
    "points: 2\n",
    "-->"
   ]
  },
  {
   "cell_type": "code",
   "execution_count": 47,
   "metadata": {
    "ExecuteTime": {
     "end_time": "2019-04-19T00:52:16.290797Z",
     "start_time": "2019-04-19T00:52:16.145522Z"
    }
   },
   "outputs": [],
   "source": [
    "model = LinearRegression()\n",
    "...\n",
    "speed_rmse = ...\n",
    "speed_rmse"
   ]
  },
  {
   "cell_type": "code",
   "execution_count": null,
   "metadata": {
    "deletable": false,
    "editable": false
   },
   "outputs": [],
   "source": [
    "ok.grade(\"q4f\");"
   ]
  },
  {
   "cell_type": "markdown",
   "metadata": {},
   "source": [
    "At this point, think about why predicting speed leads to a more accurate regression model than predicting duration directly. You don't need to write your answer anywhere."
   ]
  },
  {
   "cell_type": "markdown",
   "metadata": {
    "deletable": false,
    "editable": false
   },
   "source": [
    "### Question 4g\n",
    "\n",
    "Finally, complete the function `tree_regression_errors` (and helper function `speed_error`) that combines the ideas from the two previous models and generalizes to multiple categorical variables.\n",
    "\n",
    "The `tree_regression_errors` should:\n",
    "- Find a different linear regression model for each possible combination of the variables in `choices`;\n",
    "- Fit to the specified `outcome` (on train) and predict that `outcome` (on test) for each combination (`outcome` will be `'duration'` or `'speed'`);\n",
    "- Use the specified `error_fn` (either `duration_error` or `speed_error`) to compute the error in predicted duration using the predicted outcome;\n",
    "- Aggregate those errors over the whole test set and return them.\n",
    "\n",
    "You should find that including each of `period`, `region`, and `weekend` improves prediction accuracy, and that predicting speed rather than duration leads to more accurate duration predictions.\n",
    "\n",
    "_Hint: Use `print` statements to try and figure out what the skeleton code does, if you're stuck._\n",
    "\n",
    "<!--\n",
    "BEGIN QUESTION\n",
    "name: q4g\n",
    "points: 4\n",
    "-->"
   ]
  },
  {
   "cell_type": "code",
   "execution_count": 50,
   "metadata": {
    "ExecuteTime": {
     "end_time": "2019-04-19T00:52:17.731011Z",
     "start_time": "2019-04-19T00:52:16.324235Z"
    },
    "scrolled": false
   },
   "outputs": [],
   "source": [
    "model = LinearRegression()\n",
    "choices = ['period', 'region', 'weekend']\n",
    "\n",
    "def duration_error(predictions, observations):\n",
    "    \"\"\"Error between predictions (array) and observations (data frame)\"\"\"\n",
    "    return predictions - observations['duration']\n",
    "\n",
    "def speed_error(predictions, observations):\n",
    "    \"\"\"Duration error between speed predictions and duration observations\"\"\"\n",
    "    ...\n",
    "\n",
    "def tree_regression_errors(outcome='duration', error_fn=duration_error):\n",
    "    \"\"\"Return errors for all examples in test using a tree regression model.\"\"\"\n",
    "    errors = []\n",
    "    for vs in train.groupby(choices).size().index:\n",
    "        v_train, v_test = train, test\n",
    "        for v, c in zip(vs, choices):\n",
    "            v_train = ...\n",
    "            v_test = ...\n",
    "            print(v_train.shape, v_test.shape)\n",
    "        ...\n",
    "    return errors\n",
    "\n",
    "errors = tree_regression_errors()\n",
    "errors_via_speed = tree_regression_errors('speed', speed_error)\n",
    "tree_rmse = rmse(np.array(errors))\n",
    "tree_speed_rmse = rmse(np.array(errors_via_speed))\n",
    "print('Duration:', tree_rmse, '\\nSpeed:', tree_speed_rmse)"
   ]
  },
  {
   "cell_type": "code",
   "execution_count": null,
   "metadata": {
    "deletable": false,
    "editable": false
   },
   "outputs": [],
   "source": [
    "ok.grade(\"q4g\");"
   ]
  },
  {
   "cell_type": "markdown",
   "metadata": {},
   "source": [
    "Here's a summary of your results:"
   ]
  },
  {
   "cell_type": "code",
   "execution_count": 55,
   "metadata": {
    "ExecuteTime": {
     "end_time": "2019-04-19T00:52:17.975288Z",
     "start_time": "2019-04-19T00:52:17.813049Z"
    }
   },
   "outputs": [],
   "source": [
    "models = ['constant', 'simple', 'linear', 'period', 'speed', 'tree', 'tree_speed']\n",
    "pd.DataFrame.from_dict({\n",
    "    'Model': models,\n",
    "    'Test RMSE': [eval(m + '_rmse') for m in models]\n",
    "}).set_index('Model').plot(kind='barh');"
   ]
  },
  {
   "cell_type": "markdown",
   "metadata": {},
   "source": [
    "**Congratulations**! You've carried out the entire data science lifecycle for a challenging regression problem. \n",
    "\n",
    "In Part 1 on data selection, you solved a domain-specific programming problem relevant to the analysis when choosing only those taxi rides that started and ended in Manhattan.\n",
    "\n",
    "In Part 2 on EDA, you used the data to assess the impact of a historical event---the 2016 blizzard---and filtered the data accordingly.\n",
    "\n",
    "In Part 3 on feature engineering, you used PCA to divide up the map of Manhattan into regions that roughly corresponded to the standard geographic description of the island.\n",
    "\n",
    "In Part 4 on model selection, you found that using linear regression in practice can involve more than just choosing a design matrix. Tree regression made better use of categorical variables than linear regression. The domain knowledge that duration is a simple function of distance and speed allowed you to predict duration more accurately by first predicting speed.\n",
    "\n",
    "Hopefully, it is apparent that all of these steps are required to reach a reliable conclusion about what inputs and model structure are helpful in predicting the duration of a taxi ride in Manhattan. "
   ]
  },
  {
   "cell_type": "markdown",
   "metadata": {},
   "source": [
    "## Future Work\n",
    "\n",
    "Here are some questions to ponder:\n",
    "\n",
    "- The regression model would have been more accurate if we had used the date itself as a feature instead of just the day of the week. Why didn't we do that?\n",
    "- Does collecting this information about every taxi ride introduce a privacy risk? The original data also included the total fare; how could someone use this information combined with an individual's credit card records to determine their location?\n",
    "- Why did we treat `hour` as a categorical variable instead of a quantitative variable? Would a similar treatment be beneficial for latitude and longitude?\n",
    "- Why are Google Maps estimates of ride time much more accurate than our estimates?\n",
    "\n",
    "\n",
    "Here are some possible extensions to the assignment:\n",
    "\n",
    "- An alternative to throwing out atypical days is to condition on a feature that makes them atypical, such as the weather or holiday calendar. How would you do that?\n",
    "- Training a different linear regression model for every possible combination of categorical variables can overfit. How would you select which variables to include in a decision tree instead of just using them all?\n",
    "- Your models use the observed distance as an input, but the distance is only observed after the ride is over. How could you estimate the distance from the pick-up and drop-off locations?\n",
    "- How would you incorporate traffic data into the model?"
   ]
  },
  {
   "cell_type": "markdown",
   "metadata": {
    "deletable": false,
    "editable": false
   },
   "source": [
    "# Submit\n",
    "Make sure you have run all cells in your notebook in order before running the cell below, so that all images/graphs appear in the output.\n",
    "**Please save before submitting!**"
   ]
  },
  {
   "cell_type": "code",
   "execution_count": null,
   "metadata": {
    "deletable": false,
    "editable": false
   },
   "outputs": [],
   "source": [
    "# Save your notebook first, then run this cell to submit.\n",
    "ok.submit()"
   ]
  }
 ],
 "metadata": {
  "kernelspec": {
   "display_name": "Python 3",
   "language": "python",
   "name": "python3"
  },
  "language_info": {
   "codemirror_mode": {
    "name": "ipython",
    "version": 3
   },
   "file_extension": ".py",
   "mimetype": "text/x-python",
   "name": "python",
   "nbconvert_exporter": "python",
   "pygments_lexer": "ipython3",
   "version": "3.7.4"
  }
 },
 "nbformat": 4,
 "nbformat_minor": 2
}
